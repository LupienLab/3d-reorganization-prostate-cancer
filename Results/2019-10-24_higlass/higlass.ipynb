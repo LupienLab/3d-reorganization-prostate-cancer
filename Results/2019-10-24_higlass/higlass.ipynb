{
 "cells": [
  {
   "cell_type": "markdown",
   "metadata": {},
   "source": [
    "# Environment"
   ]
  },
  {
   "cell_type": "code",
   "execution_count": 1,
   "metadata": {},
   "outputs": [],
   "source": [
    "import higlass\n",
    "from higlass.client import View, Track, CombinedTrack\n",
    "from higlass.tilesets import cooler, beddb, chromsizes, bigwig, Tileset\n",
    "import clodius\n",
    "import os\n",
    "import os.path as path\n",
    "import pandas as pd\n",
    "import numpy as np\n",
    "import itertools\n",
    "import negspy.coordinates as nc\n",
    "\n",
    "def bed2ddb(filepath, uuid=None, **kwargs):\n",
    "    from clodius.tiles.utils import tiles_wrapper_2d\n",
    "    from clodius.tiles.bed2ddb import tileset_info, get_2D_tiles\n",
    "    return Tileset(\n",
    "        uuid=uuid,\n",
    "        tileset_info=lambda: get_2d_tileset_info(filepath),\n",
    "        tiles=lambda tids: tiles_wrapper_2d(\n",
    "            tids,\n",
    "            lambda z,x,y: get_2D_tiles(filepath, z, x, y)[(x, y)]\n",
    "        ),\n",
    "        **kwargs\n",
    "    )"
   ]
  },
  {
   "cell_type": "markdown",
   "metadata": {},
   "source": [
    "## Load annotations"
   ]
  },
  {
   "cell_type": "code",
   "execution_count": 2,
   "metadata": {
    "code_folding": [
     4,
     43,
     84
    ]
   },
   "outputs": [],
   "source": [
    "genes = beddb(\"Data/hg38/gene-annotations-hg38.beddb\")\n",
    "chrom_sizes = chromsizes(\"hg38.chrom.sizes\")\n",
    "label_font_size = 18\n",
    "chr_label_size = 30\n",
    "annots_size = 150\n",
    "\n",
    "chrom_labels = {\n",
    "    p: Track(\n",
    "        track_type=l + \"-chromosome-labels\",\n",
    "        tileset=chrom_sizes,\n",
    "        position=p,\n",
    "        height=chr_label_size,\n",
    "        width=chr_label_size,\n",
    "        options={\n",
    "            \"fontSize\": label_font_size,\n",
    "            \"showMousePosition\": True,\n",
    "        },\n",
    "    ) for p, l in zip([\"top\", \"bottom\", \"left\", \"right\"], [\"horizontal\", \"horizontal\", \"vertical\", \"vertical\"])\n",
    "}\n",
    "\n",
    "gene_annots = {\n",
    "    p: Track(\n",
    "        track_type=l + \"-gene-annotations\",\n",
    "        tileset=genes,\n",
    "        position=p,\n",
    "        height=annots_size,\n",
    "        width=annots_size,\n",
    "        options={\n",
    "            \"fontSize\": label_font_size,\n",
    "            \"showMousePosition\": True,\n",
    "        },\n",
    "    ) for p, l in zip([\"top\", \"bottom\", \"left\", \"right\"], [\"horizontal\", \"horizontal\", \"vertical\", \"vertical\"])\n",
    "}\n",
    "\n",
    "hg38 = nc.get_chrominfo(\"hg38\")"
   ]
  },
  {
   "cell_type": "markdown",
   "metadata": {},
   "source": [
    "# Data\n",
    "## Contact matrices"
   ]
  },
  {
   "cell_type": "code",
   "execution_count": 3,
   "metadata": {
    "code_folding": [
     24,
     33,
     39
    ],
    "scrolled": true
   },
   "outputs": [],
   "source": [
    "tumour_metadata = pd.read_csv(path.join(\"..\", \"..\", \"Data\", \"External\", \"LowC_Samples_Data_Available.tsv\"), sep=\"\\t\", header=0)\n",
    "tumour_metadata = tumour_metadata.loc[tumour_metadata.Include == \"Yes\", :]\n",
    "tumour_metadata[\"SampleID\"] = [\"PCa\" + str(i) for i in tumour_metadata[\"Sample ID\"]]\n",
    "\n",
    "tumour_samples = tumour_metadata[\"SampleID\"].tolist()\n",
    "t2e_samples = tumour_metadata.loc[tumour_metadata[\"T2E Status\"] == \"Yes\", \"SampleID\"].tolist()\n",
    "nont2e_samples = tumour_metadata.loc[tumour_metadata[\"T2E Status\"] == \"No\", \"SampleID\"].tolist()\n",
    "\n",
    "benign_metadata = pd.read_csv(path.join(\"..\", \"..\", \"Data\", \"Raw\", \"191220_A00827_0104_AHMW25DMXX_HiC\", \"config.tsv\"), sep=\"\\t\", header=0)\n",
    "benign_metadata = benign_metadata.loc[benign_metadata.Include == \"Yes\", :]\n",
    "benign_samples = benign_metadata[\"Sample\"].tolist()\n",
    "\n",
    "cell_line_metadata = pd.read_csv(path.join(\"..\", \"..\", \"Data\", \"External\", \"Rhie_2019\", \"config.tsv\"), sep=\"\\t\", header=0)\n",
    "cell_line_samples = cell_line_metadata[\"Run_Accession\"].tolist()\n",
    "\n",
    "all_samples = tumour_samples + benign_samples + cell_line_samples\n",
    "metadata = pd.read_csv(path.join(\"..\", \"2020-01-15_TAD-aggregation\", \"config.tsv\"), sep=\"\\t\", index_col=False, header=0)\n",
    "cooler_files = (\n",
    "    [path.join(\"..\", \"..\", \"Data\", \"Processed\", \"2019-06-18_PCa-LowC-sequencing\", \"Contacts\", s + \".mcool\") for s in tumour_samples + benign_samples]\n",
    "    + [path.join(\"..\", \"..\", \"Data\", \"External\", \"Rhie_2019\", \"Contacts\", s + \".mcool\") for s in cell_line_samples]\n",
    ")\n",
    "lowc_tilesets = {s: cooler(f) for s, f in zip(all_samples, cooler_files)}\n",
    "\n",
    "resolutions = [\n",
    "    1000, 2000, 3000, 4000, 5000,\n",
    "    10000, 20000, 30000, 40000, 50000,\n",
    "    100000, 200000, 300000, 400000, 500000,\n",
    "    1000000, 2000000, 3000000, 4000000, 5000000\n",
    "][::-1]\n",
    "\n",
    "min_resolution = 40000\n",
    "colour_range = [\n",
    "    \"rgba(65, 105, 225, 1.0)\",\n",
    "    \"rgba(255, 250, 250, 1.0)\",\n",
    "    # \"rgba(240, 128, 128, 1.0)\",\n",
    "    \"rgba(255, 25, 25, 1.0)\"\n",
    "]\n",
    "lowc_heatmaps = {\n",
    "    s: {\n",
    "        p: Track(\n",
    "            track_type=l + \"heatmap\",\n",
    "            position=p,\n",
    "            tileset=lowc_tilesets[s],\n",
    "            filetype=\"cooler\",\n",
    "            height=height,\n",
    "            options={\n",
    "                \"maxZoom\": str(resolutions.index(min_resolution)),\n",
    "                \"colorbarPosition\": \"topRight\",\n",
    "                \"showMousePosition\": True,\n",
    "                \"name\": metadata.loc[metadata[\"SampleID\"] == s, \"Label\"].values[0],\n",
    "                \"colorRange\": colour_range,\n",
    "            },\n",
    "        ) for p, l, height in zip(\n",
    "            [\"top\", \"bottom\", \"left\", \"right\", \"center\"],\n",
    "            [\"horizontal-\", \"horizontal-\", \"vertical-\", \"vertical-\", \"\"],\n",
    "            [250, 250, 250, 250, 500],\n",
    "        )\n",
    "    } for s in all_samples\n",
    "}"
   ]
  },
  {
   "cell_type": "markdown",
   "metadata": {},
   "source": [
    "## Compartments"
   ]
  },
  {
   "cell_type": "code",
   "execution_count": 4,
   "metadata": {},
   "outputs": [],
   "source": [
    "cmpt_files = {s: path.join(\"/d/Cloud/OneDrive - University of Toronto/Documents/Active Projects/Davos/Cooler\", s + \".compartments.cis.bw\") for s in tumour_samples}\n",
    "cmpt_tilesets = {s: bigwig(f) for s, f in cmpt_files.items()}\n",
    "compartments = {\n",
    "    s: {\n",
    "        p: Track(\n",
    "            track_type=t + \"-line\",\n",
    "            position=p,\n",
    "            tileset=ts,\n",
    "            filetype=\"vector\",\n",
    "            height=100,\n",
    "            options={\n",
    "                \"showMousePosition\": True,\n",
    "                \"name\": metadata.loc[metadata[\"SampleID\"] == s, \"Label\"].values[0] + \" Compartment\",\n",
    "                \"lineStrokeColor\": metadata.loc[metadata[\"SampleID\"] == s, \"Sample_Colour\"].values[0],\n",
    "            },\n",
    "        ) for p, t in zip([\"top\", \"bottom\", \"left\", \"right\"], [\"horizontal\", \"horizontal\", \"vertical\", \"vertical\"])\n",
    "    } for s, ts in cmpt_tilesets.items()\n",
    "}\n",
    "\n",
    "views = [View(\n",
    "    tracks=[compartments[s][\"top\"] for s in tumour_samples],\n",
    "    initialXDomain=[\n",
    "        nc.chr_pos_to_genome_pos(\"chr17\", 49964536, hg38),\n",
    "        nc.chr_pos_to_genome_pos(\"chr17\", 50380091, hg38)\n",
    "    ],\n",
    ")]\n",
    "\n",
    "d, s, v = higlass.display(\n",
    "    views=views,\n",
    "    zoom_syncs=[views],\n",
    "    location_syncs=[views],\n",
    "    value_scale_syncs=[\n",
    "        [(views[0], compartments[s][\"top\"]) for s in tumour_samples],\n",
    "    ],\n",
    ")"
   ]
  },
  {
   "cell_type": "markdown",
   "metadata": {},
   "source": [
    "## TADs"
   ]
  },
  {
   "cell_type": "code",
   "execution_count": 5,
   "metadata": {
    "code_folding": [
     6,
     23,
     40,
     77
    ]
   },
   "outputs": [],
   "source": [
    "windows = list(range(3, 21))\n",
    "\n",
    "tad_2D_files = {s: {w: path.join(\"..\", \"2020-08-29_TADs-downsampled\", \"Aggregated-TADs\", \"separated-TADs\", s + \".40000bp.w_\" + str(w) + \".domains.bed2ddb\") for w in windows} for s in tumour_samples}\n",
    "htad_files = {s: path.join(\"..\", \"2020-08-29_TADs-downsampled\", \"Aggregated-TADs\", s + \".40000bp.aggregated-domains.bed2ddb\") for s in tumour_samples}\n",
    "\n",
    "tad_1D_tilesets = {\n",
    "    s: {\n",
    "        w: beddb(\n",
    "            path.join(\"..\", \"2020-08-29_TADs-downsampled\", \"Tracks\", s + \".300000000.res_40000bp.window_\" + str(w) + \".domains.beddb\"),\n",
    "            name=s + \" TADs (w=\" + str(w) +\")\"\n",
    "        ) for w in windows\n",
    "    } for s in tumour_samples + benign_samples\n",
    "}\n",
    "tad_2D_tilesets = {s: {w: bed2ddb(v[w], name=s + \" TADs (w=\" + str(w) +\")\") for w in windows} for s, v in tad_2D_files.items()}\n",
    "htad_tilesets = {s: bed2ddb(v, name=s + \" TADs\") for s, v in htad_files.items()}\n",
    "\n",
    "tads = {\n",
    "    s: {\n",
    "        w: {\n",
    "           p: Track(\n",
    "                track_type=t + \"bedlike\",\n",
    "                position=p,\n",
    "                tileset=tad_1D_tilesets[s][w],\n",
    "                filetype=\"beddb\",\n",
    "                options={\n",
    "                    \"showMousePosition\": True,\n",
    "                    \"name\": \"{} (w = {})\".format(s, w),\n",
    "                },\n",
    "            ) for p, t in zip([\"top\", \"bottom\", \"left\", \"right\"], [\"\", \"\", \"vertical-\", \"vertical-\"])\n",
    "        } for w in windows\n",
    "    } for s in tumour_samples + benign_samples\n",
    "}\n",
    "\n",
    "tad_polygons = {\n",
    "    s: {\n",
    "        w: {\n",
    "           \"top\": Track(\n",
    "                track_type=\"horizontal-2d-rectangle-domains\",\n",
    "                position=\"top\",\n",
    "                tileset=tad_2D_tilesets[s][w],\n",
    "                filetype=\"bed2ddb\",\n",
    "                options={\n",
    "                    \"showMousePosition\": True,\n",
    "                    \"name\": \"{} (w = {})\".format(s, w),\n",
    "                },\n",
    "            ),\n",
    "            \"bottom\": Track(\n",
    "                track_type=\"horizontal-2d-rectangle-domains\",\n",
    "                position='bottom',\n",
    "                tileset=tad_2D_tilesets[s][w],\n",
    "                filetype=\"bed2ddb\",\n",
    "                options={\n",
    "                    \"showMousePosition\": True,\n",
    "                    \"name\": \"{} (w = {})\".format(s, w),\n",
    "                },\n",
    "            ),\n",
    "            \"centre\": Track(\n",
    "                track_type=\"2d-rectangle-domains\",\n",
    "                position=\"center\",\n",
    "                tileset=tad_2D_tilesets[s][w],\n",
    "                filetype=\"bed2ddb\",\n",
    "                options={\n",
    "                    \"showMousePosition\": True,\n",
    "                    \"name\": \"{} (w = {})\".format(s, w),\n",
    "                },\n",
    "            ),\n",
    "        } for w in windows\n",
    "    } for s in tumour_samples\n",
    "}\n",
    "\n",
    "hierarchical_tads = {\n",
    "    s: {\n",
    "       \"top\": Track(\n",
    "            track_type=\"2d-rectangle-domains\",\n",
    "            position=\"top\",\n",
    "            tileset=htad_tilesets[s],\n",
    "            filetype=\"bed2ddb\",\n",
    "            options={\n",
    "                \"showMousePosition\": True,\n",
    "                \"name\": s,\n",
    "            },\n",
    "        ),\n",
    "        \"bottom\": Track(\n",
    "            track_type=\"2d-rectangle-domains\",\n",
    "            position=\"bottom\",\n",
    "            tileset=htad_tilesets[s],\n",
    "            filetype=\"bed2ddb\",\n",
    "            options={\n",
    "                \"showMousePosition\": True,\n",
    "                \"name\": s,\n",
    "            },\n",
    "        ),\n",
    "        \"centre\": Track(\n",
    "            track_type=\"2d-rectangle-domains\",\n",
    "            position=\"center\",\n",
    "            tileset=htad_tilesets[s],\n",
    "            filetype=\"bed2ddb\",\n",
    "            options={\n",
    "                \"showMousePosition\": True,\n",
    "                \"name\": s,\n",
    "            }\n",
    "        ),\n",
    "    } for s in tumour_samples\n",
    "}"
   ]
  },
  {
   "cell_type": "markdown",
   "metadata": {},
   "source": [
    "## H3K27ac ChIP-seq"
   ]
  },
  {
   "cell_type": "code",
   "execution_count": 6,
   "metadata": {
    "code_folding": [
     3,
     21,
     41,
     59
    ]
   },
   "outputs": [],
   "source": [
    "line_height = 150\n",
    "chip_files = {s: path.join(\"..\", \"..\", \"Data\", \"Processed\", \"2019-05-03_PCa-H3K27ac-peaks\", \"Peaks\", s + \"_FE.sorted.filtered.bw\") for s in tumour_samples}\n",
    "chip_tilesets = {s: bigwig(f) for s, f in chip_files.items()}\n",
    "chip = {\n",
    "    s: {\n",
    "        p: Track(\n",
    "            track_type=t + \"-bar\",\n",
    "            position=p,\n",
    "            tileset=ts,\n",
    "            filetype=\"vector\",\n",
    "            height=line_height,\n",
    "            width=line_height,\n",
    "            options={\n",
    "                \"showMousePosition\": True,\n",
    "                \"name\": metadata.loc[metadata[\"SampleID\"] == s, \"Label\"].values[0] + \" H3K27ac\",\n",
    "                \"barFillColor\": metadata.loc[metadata[\"SampleID\"] == s, \"Sample_Colour\"].values[0],\n",
    "            },\n",
    "        ) for p, t in zip([\"top\", \"bottom\", \"left\", \"right\"], [\"horizontal\", \"horizontal\", \"vertical\", \"vertical\"])\n",
    "    } for s, ts in chip_tilesets.items()\n",
    "}\n",
    "\n",
    "chip_line = {\n",
    "    s: {\n",
    "        p: Track(\n",
    "            track_type=t + \"-line\",\n",
    "            position=p,\n",
    "            tileset=ts,\n",
    "            filetype=\"vector\",\n",
    "            height=line_height,\n",
    "            width=line_height,\n",
    "            options={\n",
    "                \"showMousePosition\": True,\n",
    "                \"name\": metadata.loc[metadata[\"SampleID\"] == s, \"Label\"].values[0] + \" H3K27ac\",\n",
    "                \"lineStrokeColor\": metadata.loc[metadata[\"SampleID\"] == s, \"Sample_Colour\"].values[0],\n",
    "            },\n",
    "        ) for p, t in zip([\"top\", \"bottom\", \"left\", \"right\"], [\"horizontal\", \"horizontal\", \"vertical\", \"vertical\"])\n",
    "    } for s, ts in chip_tilesets.items()\n",
    "}\n",
    "\n",
    "peak_files = {s: path.join(\"..\", \"..\", \"Data\", \"Processed\", \"2019-05-03_PCa-H3K27ac-peaks\", \"Peaks\", s + \"_peaks.filtered.beddb\") for s in tumour_samples}\n",
    "peak_tilesets = {s: beddb(f) for s, f in peak_files.items()}\n",
    "peaks = {\n",
    "    s: {\n",
    "        p: Track(\n",
    "            track_type=t + \"bedlike\",\n",
    "            position=p,\n",
    "            tileset=ts,\n",
    "            filetype=\"beddb\",\n",
    "            options={\n",
    "                \"showMousePosition\": True,\n",
    "                \"name\": metadata.loc[metadata[\"SampleID\"] == s, \"Label\"].values[0] + \" H3K27ac Peaks\",\n",
    "                \"fillColor\": metadata.loc[metadata[\"SampleID\"] == s, \"Sample_Colour\"].values[0],\n",
    "            },\n",
    "        ) for p, t in zip([\"top\", \"bottom\", \"left\", \"right\"], [\"\", \"\", \"vertical-\", \"vertical-\"])\n",
    "    } for s, ts in peak_tilesets.items()\n",
    "}\n",
    "\n",
    "core_files = {s: path.join(\"..\", \"..\", \"Data\", \"Processed\", \"2019-05-03_PCa-H3K27ac-peaks\", \"COREs\", s + \".cores.beddb\") for s in tumour_samples}\n",
    "core_tilesets = {s: beddb(f) for s, f in core_files.items()}\n",
    "cores = {\n",
    "    s: {\n",
    "        p: Track(\n",
    "            track_type=t + \"bedlike\",\n",
    "            position=p,\n",
    "            tileset=ts,\n",
    "            filetype=\"beddb\",\n",
    "            options={\n",
    "                \"showMousePosition\": True,\n",
    "                \"name\": metadata.loc[metadata[\"SampleID\"] == s, \"Label\"].values[0] + \" COREs\",\n",
    "                \"fillColor\": metadata.loc[metadata[\"SampleID\"] == s, \"Sample_Colour\"].values[0],\n",
    "            },\n",
    "        ) for p, t in zip([\"top\", \"bottom\", \"left\", \"right\"], [\"\", \"\", \"vertical-\", \"vertical-\"])\n",
    "    } for s, ts in core_tilesets.items()\n",
    "}\n"
   ]
  },
  {
   "cell_type": "markdown",
   "metadata": {},
   "source": [
    "## Load breakpoints"
   ]
  },
  {
   "cell_type": "code",
   "execution_count": 7,
   "metadata": {
    "code_folding": [
     1,
     10,
     53
    ],
    "scrolled": false
   },
   "outputs": [],
   "source": [
    "BREAK_DIR = path.join(\"..\", \"2020-02-19_chromoplexy\")\n",
    "breaks = pd.read_csv(\n",
    "    path.join(BREAK_DIR, \"Graphs\", \"sv-breakpoints.paired.tsv\"),\n",
    "    sep=\"\\t\",\n",
    "    header=0,\n",
    "    index_col=False,\n",
    ")\n",
    "\n",
    "break_files_2D = {s: path.join(BREAK_DIR, \"Tracks\", s + \".breaks.bed2ddb\") for s in tumour_samples}\n",
    "break_tilesets_2D = {s: bed2ddb(v, name=s + \" Breaks\") for s, v in break_files_2D.items()}\n",
    "break_tracks_2D = {\n",
    "    s: {\n",
    "       \"top\": Track(\n",
    "            track_type=\"horizontal-2d-rectangle-domains\",\n",
    "            position=\"top\",\n",
    "            tileset=break_tilesets_2D[s],\n",
    "            filetype=\"bed2ddb\",\n",
    "            options={\n",
    "                \"showMousePosition\": True,\n",
    "                \"name\": s + \" Breakpoints\",\n",
    "            },\n",
    "        ),\n",
    "        \"bottom\": Track(\n",
    "            track_type=\"vertical-2d-rectangle-domains\",\n",
    "            position=\"bottom\",\n",
    "            tileset=break_tilesets_2D[s],\n",
    "            filetype=\"bed2ddb\",\n",
    "            options={\n",
    "                \"showMousePosition\": True,\n",
    "                \"name\": s + \" Breakpoints\",\n",
    "            },\n",
    "        ),\n",
    "        \"centre\": Track(\n",
    "            track_type=\"2d-rectangle-domains\",\n",
    "            position=\"center\",\n",
    "            tileset=break_tilesets_2D[s],\n",
    "            filetype=\"bed2ddb\",\n",
    "            options={\n",
    "                \"showMousePosition\": True,\n",
    "                \"name\": s + \" Breakpoint Pairs\",\n",
    "                \"flipDiagonal\": \"copy\",\n",
    "            }\n",
    "        ),\n",
    "    } for s in break_tilesets_2D.keys()\n",
    "}\n",
    "\n",
    "break_files_1D = {s: path.join(BREAK_DIR, \"Tracks\", s + \".breaks.beddb\") for s in tumour_samples}\n",
    "break_tilesets_1D = {\n",
    "    s: beddb(\n",
    "        v,\n",
    "        name=metadata.loc[metadata[\"SampleID\"] == s, \"Label\"].values[0] + \" Breaks\"\n",
    "    ) for s, v in break_files_1D.items()\n",
    "}\n",
    "break_tracks_1D = {\n",
    "    s: {\n",
    "        p: Track(\n",
    "            track_type=t + \"bedlike\",\n",
    "            position=p,\n",
    "            tileset=break_tilesets_1D[s],\n",
    "            filetype=\"beddb\",\n",
    "            options={\n",
    "                \"showMousePosition\": True,\n",
    "                \"name\": metadata.loc[metadata[\"SampleID\"] == s, \"Label\"].values[0],\n",
    "            },\n",
    "        ) for p, t in zip([\"top\", \"bottom\", \"left\", \"right\"], [\"\", \"\", \"vertical-\", \"vertical-\"])\n",
    "    } for s in tumour_samples\n",
    "}\n",
    "\n",
    "disruption_tests = pd.read_csv(path.join(\"..\", \"2020-02-19_chromoplexy\", \"Graphs\", \"sv-disruption-tests.tsv\"), sep=\"\\t\")\n",
    "bp_singletons = pd.read_csv(path.join(\"..\", \"2020-02-19_chromoplexy\", \"Graphs\", \"sv-breakpoints.tsv\"), sep=\"\\t\")\n",
    "bp_pairs = pd.read_csv(path.join(\"..\", \"2020-02-19_chromoplexy\", \"Graphs\", \"sv-breakpoints.paired.tsv\"), sep=\"\\t\")\n",
    "disruption_tads = pd.read_csv(path.join(\"..\", \"2020-02-19_sv-disruption-TADs\", \"sv-disruption-tests.TADs.tsv\"), sep=\"\\t\")"
   ]
  },
  {
   "cell_type": "markdown",
   "metadata": {},
   "source": [
    "## Loops"
   ]
  },
  {
   "cell_type": "code",
   "execution_count": 8,
   "metadata": {
    "code_folding": [
     4
    ]
   },
   "outputs": [],
   "source": [
    "LOOP_DIR = path.join(\"..\", \"2020-10-06_loops\")\n",
    "\n",
    "loop_files_1D = {s: path.join(LOOP_DIR, \"Tracks\", s + \".anchors.beddb\") for s in tumour_samples}\n",
    "loop_files_2D = {s: path.join(LOOP_DIR, \"Tracks\", s + \".loops.bed2ddb\") for s in tumour_samples}\n",
    "loop_tilesets_1D = {s: beddb(v, name=s + \" Loops\") for s, v in loop_files_1D.items()}\n",
    "loop_tilesets_2D = {s: bed2ddb(v, name=s + \" Loops\") for s, v in loop_files_2D.items()}\n",
    "loop_tracks_1D = {\n",
    "    s: {\n",
    "       \"top\": Track(\n",
    "            track_type=\"bedlike\",\n",
    "            position=\"top\",\n",
    "            tileset=loop_tilesets_1D[s],\n",
    "            filetype=\"beddb\",\n",
    "            options={\n",
    "                \"showMousePosition\": True,\n",
    "                \"name\": s + \" Loops\",\n",
    "            },\n",
    "        ),\n",
    "        \"bottom\": Track(\n",
    "            track_type=\"bedlike\",\n",
    "            position=\"bottom\",\n",
    "            tileset=loop_tilesets_1D[s],\n",
    "            filetype=\"beddb\",\n",
    "            options={\n",
    "                \"showMousePosition\": True,\n",
    "                \"name\": s + \" Loops\",\n",
    "            },\n",
    "        ),\n",
    "    } for s in loop_tilesets_1D.keys()\n",
    "}\n",
    "\n",
    "loop_tracks_2D = {\n",
    "    s: {\n",
    "       \"top\": Track(\n",
    "            track_type=\"horizontal-2d-rectangle-domains\",\n",
    "            position=\"top\",\n",
    "            tileset=loop_tilesets_2D[s],\n",
    "            filetype=\"bed2ddb\",\n",
    "            options={\n",
    "                \"showMousePosition\": True,\n",
    "                \"name\": s + \" Loops\",\n",
    "            },\n",
    "        ),\n",
    "        \"bottom\": Track(\n",
    "            track_type=\"horizontal-2d-rectangle-domains\",\n",
    "            position=\"bottom\",\n",
    "            tileset=loop_tilesets_2D[s],\n",
    "            filetype=\"bed2ddb\",\n",
    "            options={\n",
    "                \"showMousePosition\": True,\n",
    "                \"name\": s + \" Loops\",\n",
    "            },\n",
    "        ),\n",
    "        \"centre\": Track(\n",
    "            track_type=\"2d-rectangle-domains\",\n",
    "            position=\"center\",\n",
    "            tileset=loop_tilesets_2D[s],\n",
    "            filetype=\"bed2ddb\",\n",
    "            options={\n",
    "                \"showMousePosition\": True,\n",
    "                \"name\": s + \" Loops\",\n",
    "                \"flipDiagonal\": \"copy\",\n",
    "            }\n",
    "        ),\n",
    "    } for s in loop_tilesets_2D.keys()\n",
    "}"
   ]
  },
  {
   "cell_type": "markdown",
   "metadata": {},
   "source": [
    "# Paper figures"
   ]
  },
  {
   "cell_type": "markdown",
   "metadata": {},
   "source": [
    "## Important prostate cancer regions"
   ]
  },
  {
   "cell_type": "code",
   "execution_count": 31,
   "metadata": {},
   "outputs": [],
   "source": [
    "sample_tracks = [chrom_labels[\"top\"], gene_annots[\"top\"]] + [lowc_heatmaps[s][\"top\"] for s in all_samples[::-1]]\n",
    "tumour_tracks = [chrom_labels[\"top\"], gene_annots[\"top\"]] + [lowc_heatmaps[s][\"top\"] for s in tumour_samples]"
   ]
  },
  {
   "cell_type": "markdown",
   "metadata": {},
   "source": [
    "### FOXA1"
   ]
  },
  {
   "cell_type": "code",
   "execution_count": 15,
   "metadata": {
    "jupyter": {
     "outputs_hidden": true
    },
    "scrolled": false
   },
   "outputs": [
    {
     "data": {
      "application/vnd.jupyter.widget-view+json": {
       "model_id": "feedd33b3fa54d70a5be586707af1e1e",
       "version_major": 2,
       "version_minor": 0
      },
      "text/plain": [
       "HiGlassDisplay(viewconf={'editable': True, 'views': [{'uid': 'E0YQXZX_SW2JXpeu4C3XkQ', 'tracks': {'top': [{'ty…"
      ]
     },
     "metadata": {},
     "output_type": "display_data"
    }
   ],
   "source": [
    "foxa1_view = View(\n",
    "    tracks=sample_tracks,\n",
    "    initialXDomain=[\n",
    "        nc.chr_pos_to_genome_pos(\"chr14\", 36000000, hg38),\n",
    "        nc.chr_pos_to_genome_pos(\"chr14\", 39000000, hg38)\n",
    "    ],\n",
    ")\n",
    "\n",
    "display, server, viewconf = higlass.display(\n",
    "    [foxa1_view],\n",
    "    value_scale_syncs=[\n",
    "        [(foxa1_view, lowc_heatmaps[s][\"top\"]) for s in all_samples]\n",
    "    ],\n",
    "    server_port=8193,\n",
    ")\n",
    "display"
   ]
  },
  {
   "cell_type": "markdown",
   "metadata": {},
   "source": [
    "### _TMPRSS2 - ERG_ fusion"
   ]
  },
  {
   "cell_type": "code",
   "execution_count": 11,
   "metadata": {
    "scrolled": false
   },
   "outputs": [
    {
     "data": {
      "application/vnd.jupyter.widget-view+json": {
       "model_id": "de209d18a0004d0f8ff001b0742c7d9c",
       "version_major": 2,
       "version_minor": 0
      },
      "text/plain": [
       "HiGlassDisplay(viewconf={'editable': True, 'views': [{'uid': 'e9Lfnuv7SNSoaRv4Uz6Ulw', 'tracks': {'top': [{'ty…"
      ]
     },
     "metadata": {},
     "output_type": "display_data"
    }
   ],
   "source": [
    "t2e_view = View(\n",
    "    tracks=tumour_tracks,\n",
    "    initialXDomain=[\n",
    "        nc.chr_pos_to_genome_pos(\"chr21\", 35000000, hg38),\n",
    "        nc.chr_pos_to_genome_pos(\"chr21\", 43000000, hg38)\n",
    "    ],\n",
    ")\n",
    "\n",
    "display, server, viewconf = higlass.display(\n",
    "    views=[t2e_view],\n",
    "    value_scale_syncs = [\n",
    "        [(t2e_view, lowc_heatmaps[s][\"top\"]) for s in tumour_samples],\n",
    "    ],\n",
    "    #zoom_syncs=[\n",
    "    #    [(t2e_view, lowc_heatmaps[s][\"center\"]) for s in tumour_samples],\n",
    "    #],\n",
    "    #location_syncs=[\n",
    "    #    [(t2e_view, lowc_heatmaps[s][\"center\"]) for s in tumour_samples],\n",
    "    #],\n",
    "    server_port=8192\n",
    ")\n",
    "display"
   ]
  },
  {
   "cell_type": "markdown",
   "metadata": {},
   "source": [
    "### AR"
   ]
  },
  {
   "cell_type": "code",
   "execution_count": 23,
   "metadata": {
    "scrolled": true
   },
   "outputs": [
    {
     "data": {
      "application/vnd.jupyter.widget-view+json": {
       "model_id": "0b3c77aefaaf456c918b680bc0924d56",
       "version_major": 2,
       "version_minor": 0
      },
      "text/plain": [
       "HiGlassDisplay(viewconf={'editable': True, 'views': [{'uid': 'JdyFubg-R2-66OQ1TFUxow', 'tracks': {'top': [{'ty…"
      ]
     },
     "metadata": {},
     "output_type": "display_data"
    }
   ],
   "source": [
    "ar_view = View(\n",
    "    tracks=sample_tracks,\n",
    "    initialXDomain=[\n",
    "        nc.chr_pos_to_genome_pos(\"chrX\", 65800000, hg38),\n",
    "        nc.chr_pos_to_genome_pos(\"chrX\", 68700000, hg38)\n",
    "    ]\n",
    ")\n",
    "\n",
    "display, server, viewconf = higlass.display(\n",
    "    [ar_view],\n",
    "    value_scale_syncs = [\n",
    "        [(ar_view, lowc_heatmaps[s][\"top\"]) for s in all_samples]\n",
    "    ],\n",
    "    server_port=8192,\n",
    ")\n",
    "display"
   ]
  },
  {
   "cell_type": "markdown",
   "metadata": {},
   "source": [
    "### MYC"
   ]
  },
  {
   "cell_type": "code",
   "execution_count": 24,
   "metadata": {
    "scrolled": true
   },
   "outputs": [
    {
     "data": {
      "application/vnd.jupyter.widget-view+json": {
       "model_id": "310e4a1f0a334ad499e872b8f9af6344",
       "version_major": 2,
       "version_minor": 0
      },
      "text/plain": [
       "HiGlassDisplay(viewconf={'editable': True, 'views': [{'uid': 'SQ_PXsdOTaau3ltyrKoLlQ', 'tracks': {'top': [{'ty…"
      ]
     },
     "metadata": {},
     "output_type": "display_data"
    }
   ],
   "source": [
    "myc_view = View(\n",
    "    tracks=sample_tracks,\n",
    "    initialXDomain=[\n",
    "        nc.chr_pos_to_genome_pos(\"chr8\", 126000000, hg38),\n",
    "        nc.chr_pos_to_genome_pos(\"chr8\", 130000000, hg38)\n",
    "    ],\n",
    ")\n",
    "\n",
    "display, server, viewconf = higlass.display(\n",
    "    [myc_view],\n",
    "    value_scale_syncs=[\n",
    "        [(myc_view, lowc_heatmaps[s][\"top\"]) for s in all_samples]\n",
    "    ],\n",
    "    server_port=8192,\n",
    ")\n",
    "display\n"
   ]
  },
  {
   "cell_type": "markdown",
   "metadata": {},
   "source": [
    "### HOXB13"
   ]
  },
  {
   "cell_type": "code",
   "execution_count": 25,
   "metadata": {
    "scrolled": true
   },
   "outputs": [
    {
     "data": {
      "application/vnd.jupyter.widget-view+json": {
       "model_id": "bec410f0a1594682896aee1f66945b79",
       "version_major": 2,
       "version_minor": 0
      },
      "text/plain": [
       "HiGlassDisplay(viewconf={'editable': True, 'views': [{'uid': 'XORqkA-4RxuSUVqkhmpf2A', 'tracks': {'top': [{'ty…"
      ]
     },
     "metadata": {},
     "output_type": "display_data"
    }
   ],
   "source": [
    "hoxb13_view = View(\n",
    "    tracks=sample_tracks,\n",
    "    initialXDomain=[\n",
    "        nc.chr_pos_to_genome_pos(\"chr17\", 46160000, hg38),\n",
    "        nc.chr_pos_to_genome_pos(\"chr17\", 51320000, hg38)\n",
    "    ],\n",
    ")\n",
    "display, server, viewconf = higlass.display(\n",
    "    [hoxb13_view],\n",
    "    value_scale_syncs=[\n",
    "        [(hoxb13_view, lowc_heatmaps[s][\"top\"]) for s in all_samples]\n",
    "    ],\n",
    "    server_port=8192,\n",
    ")\n",
    "display\n"
   ]
  },
  {
   "cell_type": "markdown",
   "metadata": {},
   "source": [
    "### KLK Cluster"
   ]
  },
  {
   "cell_type": "code",
   "execution_count": 12,
   "metadata": {
    "scrolled": false
   },
   "outputs": [
    {
     "data": {
      "application/vnd.jupyter.widget-view+json": {
       "model_id": "1b2a3678821e4a96b25ca9a178fa91a8",
       "version_major": 2,
       "version_minor": 0
      },
      "text/plain": [
       "HiGlassDisplay(viewconf={'editable': True, 'views': [{'uid': 'coYkGqDnSiu23Z7eqM5Geg', 'tracks': {'top': [{'ty…"
      ]
     },
     "metadata": {},
     "output_type": "display_data"
    }
   ],
   "source": [
    "klk_view = View(\n",
    "    tracks=sample_tracks,\n",
    "    #tracks = [chrom_labels[\"top\"], gene_annots[\"top\"]],\n",
    "    initialXDomain=[\n",
    "        nc.chr_pos_to_genome_pos(\"chr19\", 49000000, hg38),\n",
    "        nc.chr_pos_to_genome_pos(\"chr19\", 53000000, hg38)\n",
    "    ],\n",
    ")\n",
    "display, server, viewconf = higlass.display(\n",
    "    [klk_view],\n",
    "    value_scale_syncs=[\n",
    "        [(klk_view, lowc_heatmaps[s][\"top\"]) for s in all_samples]\n",
    "    ],\n",
    "    server_port=8192,\n",
    ")\n",
    "display\n"
   ]
  },
  {
   "cell_type": "code",
   "execution_count": 13,
   "metadata": {},
   "outputs": [
    {
     "data": {
      "application/vnd.jupyter.widget-view+json": {
       "model_id": "849dd55325774685bc8a44bf8816df30",
       "version_major": 2,
       "version_minor": 0
      },
      "text/plain": [
       "HiGlassDisplay(viewconf={'editable': True, 'views': [{'uid': 'OUV4RS-cR2GIFhDvdO4Z0w', 'tracks': {'top': [{'ty…"
      ]
     },
     "metadata": {},
     "output_type": "display_data"
    }
   ],
   "source": [
    "myc_insertion_view = View(\n",
    "    tracks=[chrom_labels[\"top\"], gene_annots[\"top\"]] + [lowc_heatmaps[s][\"top\"] for s in all_samples],\n",
    "    initialXDomain=[\n",
    "        nc.chr_pos_to_genome_pos(\"chr12\", 70480000 - 5e6, hg38),\n",
    "        nc.chr_pos_to_genome_pos(\"chr12\", 70570000 + 5e6, hg38)\n",
    "    ],\n",
    ")\n",
    "\n",
    "display, server, viewconf = higlass.display([\n",
    "    myc_insertion_view\n",
    "])\n",
    "display"
   ]
  },
  {
   "cell_type": "markdown",
   "metadata": {},
   "source": [
    "## 2D Loci"
   ]
  },
  {
   "cell_type": "code",
   "execution_count": 12,
   "metadata": {},
   "outputs": [],
   "source": [
    "annot_tracks = [\n",
    "    chrom_labels[\"top\"],\n",
    "    gene_annots[\"top\"],\n",
    "]\n",
    "tumour_tracks = [\n",
    "    CombinedTrack([\n",
    "        lowc_heatmaps[s][\"center\"],\n",
    "        loop_tracks_2D[s][\"centre\"],\n",
    "    ])\n",
    "    for s in tumour_samples\n",
    "]"
   ]
  },
  {
   "cell_type": "markdown",
   "metadata": {},
   "source": [
    "### FOXA1"
   ]
  },
  {
   "cell_type": "code",
   "execution_count": 15,
   "metadata": {
    "scrolled": false
   },
   "outputs": [
    {
     "data": {
      "application/vnd.jupyter.widget-view+json": {
       "model_id": "18546225bb1a448b842cb9cab38c8618",
       "version_major": 2,
       "version_minor": 0
      },
      "text/plain": [
       "HiGlassDisplay(viewconf={'editable': True, 'views': [{'uid': 'OKfZi5VPQD6eeOXEkWCmJg', 'tracks': {'top': [{'ty…"
      ]
     },
     "metadata": {},
     "output_type": "display_data"
    }
   ],
   "source": [
    "foxa1_views = [\n",
    "    View(\n",
    "        tracks = annot_tracks,\n",
    "        initialXDomain=[\n",
    "            nc.chr_pos_to_genome_pos(\"chr14\", 36000000, hg38),\n",
    "            nc.chr_pos_to_genome_pos(\"chr14\", 39000000, hg38)\n",
    "        ]\n",
    "    )\n",
    "] + [\n",
    "    View(\n",
    "        tracks=[\n",
    "            chrom_labels[\"left\"],\n",
    "            gene_annots[\"left\"],\n",
    "            t\n",
    "        ],\n",
    "        initialXDomain=[\n",
    "            nc.chr_pos_to_genome_pos(\"chr14\", 36000000, hg38),\n",
    "            nc.chr_pos_to_genome_pos(\"chr14\", 39000000, hg38)\n",
    "        ],\n",
    "    ) for t in tumour_tracks\n",
    "]\n",
    "\n",
    "display, server, viewconf = higlass.display(\n",
    "    foxa1_views,\n",
    "    server_port=8193,\n",
    ")\n",
    "display"
   ]
  },
  {
   "cell_type": "code",
   "execution_count": null,
   "metadata": {},
   "outputs": [],
   "source": []
  }
 ],
 "metadata": {
  "file_extension": ".py",
  "kernelspec": {
   "display_name": "Python 3",
   "language": "python",
   "name": "python3"
  },
  "language_info": {
   "codemirror_mode": {
    "name": "ipython",
    "version": 3
   },
   "file_extension": ".py",
   "mimetype": "text/x-python",
   "name": "python",
   "nbconvert_exporter": "python",
   "pygments_lexer": "ipython3",
   "version": "3.6.10"
  },
  "mimetype": "text/x-python",
  "name": "python",
  "npconvert_exporter": "python",
  "pygments_lexer": "ipython3",
  "version": 3,
  "widgets": {
   "application/vnd.jupyter.widget-state+json": {
    "state": {
     "017e87eb993b4472b4fc85564dacca10": {
      "model_module": "@jupyter-widgets/base",
      "model_module_version": "1.2.0",
      "model_name": "LayoutModel",
      "state": {}
     },
     "1745bca1037448d0a20aedf2566e9d8f": {
      "model_module": "higlass-jupyter",
      "model_module_version": "0.4.0",
      "model_name": "HiGlassDisplayModel",
      "state": {
       "_dom_classes": [],
       "_model_data": [],
       "_view_count": null,
       "auth_token": "",
       "bounded": null,
       "cursor_location": [
        -1,
        -1
       ],
       "dark_mode": false,
       "default_track_options": {},
       "dom_element_id": "oudf06",
       "height": 0,
       "layout": "IPY_MODEL_b932f56193a04f7d88e75e077b3cb2f6",
       "location": [
        [
         2224407310,
         2229407310,
         2816021682.111111,
         2818924459.888889
        ],
        [
         2224407310,
         2229407310,
         2816091126.5555553,
         2818855015.444444
        ]
       ],
       "options": {},
       "renderer": "",
       "select_mode": false,
       "selection": [],
       "selection_on_alt": false,
       "viewconf": {
        "editable": true,
        "exportViewUrl": "http://higlass.io/api/v1/viewconfs",
        "locationLocks": {
         "locksByViewUid": {},
         "locksDict": {}
        },
        "trackSourceServers": [
         "http://higlass.io/api/v1"
        ],
        "valueScaleLocks": {
         "locksByViewUid": {},
         "locksDict": {}
        },
        "views": [
         {
          "initialXDomain": [
           2224407310,
           2229407310
          ],
          "initialYDomain": [
           2816021682.111111,
           2818924459.888889
          ],
          "layout": {
           "h": 20,
           "w": 12,
           "x": 0,
           "y": 0
          },
          "tracks": {
           "bottom": [
            {
             "height": 150,
             "options": {
              "backgroundColor": "#eeeeee",
              "colorRange": [
               "white",
               "rgba(245,166,35,1.0)",
               "rgba(208,2,27,1.0)",
               "black"
              ],
              "colorbarPosition": "topRight",
              "labelBottomMargin": 0,
              "labelColor": "black",
              "labelLeftMargin": 0,
              "labelPosition": "bottomRight",
              "labelRightMargin": 0,
              "labelShowAssembly": true,
              "labelShowResolution": true,
              "labelTopMargin": 0,
              "maxZoom": "15",
              "minHeight": 40,
              "minWidth": 100,
              "name": "PCa13848",
              "showMousePosition": true,
              "trackBorderColor": "black",
              "trackBorderWidth": 0
             },
             "resolutions": [
              1000,
              2000,
              3000,
              4000,
              5000,
              10000,
              20000,
              30000,
              40000,
              50000,
              100000,
              200000,
              300000,
              400000,
              500000,
              1000000,
              2000000,
              3000000,
              4000000,
              5000000
             ],
             "server": "http://localhost:34199/api/v1",
             "tilesetUid": "BbAPbcAST1q8oGL-L8pang",
             "transforms": [],
             "type": "horizontal-heatmap",
             "uid": "eGEWgCI_T76CYCZe11Px8Q"
            }
           ],
           "center": [
            {
             "height": 300,
             "options": {
              "backgroundColor": "#eeeeee",
              "colorRange": [
               "white",
               "rgba(245,166,35,1.0)",
               "rgba(208,2,27,1.0)",
               "black"
              ],
              "colorbarBackgroundColor": "#ffffff",
              "colorbarPosition": "topRight",
              "extent": "full",
              "heatmapValueScaling": "log",
              "labelBottomMargin": 0,
              "labelLeftMargin": 0,
              "labelPosition": "bottomRight",
              "labelRightMargin": 0,
              "labelShowAssembly": true,
              "labelShowResolution": true,
              "labelTopMargin": 0,
              "maxZoom": "15",
              "minHeight": 100,
              "minWidth": 100,
              "mousePositionColor": "#000000",
              "name": "PCa13848",
              "showMousePosition": true,
              "showTooltip": false,
              "trackBorderColor": "black",
              "trackBorderWidth": 0
             },
             "resolutions": [
              1000,
              2000,
              3000,
              4000,
              5000,
              10000,
              20000,
              30000,
              40000,
              50000,
              100000,
              200000,
              300000,
              400000,
              500000,
              1000000,
              2000000,
              3000000,
              4000000,
              5000000
             ],
             "server": "http://localhost:34199/api/v1",
             "tilesetUid": "BbAPbcAST1q8oGL-L8pang",
             "transforms": [],
             "type": "heatmap",
             "uid": "Gmv4my58QdW7ge_qdKHHCA"
            }
           ],
           "gallery": [],
           "left": [
            {
             "options": {
              "color": "#777777",
              "fontIsLeftAligned": false,
              "fontSize": 16,
              "minWidth": 35,
              "mousePositionColor": "#000000",
              "showMousePosition": true,
              "stroke": "#FFFFFF"
             },
             "server": "http://localhost:34199/api/v1",
             "tilesetUid": "CMsuiFUyR6yjaqRP3PPALg",
             "type": "vertical-chromosome-labels",
             "uid": "F83cD5fMR9SZl5QUecmlAg",
             "width": 30
            },
            {
             "options": {
              "fontSize": 16,
              "geneAnnoHeight": 12,
              "geneLabelPosition": "outside",
              "geneStrandSpacing": 4,
              "labelBottomMargin": 0,
              "labelColor": "black",
              "labelLeftMargin": 0,
              "labelPosition": "hidden",
              "labelRightMargin": 0,
              "labelTopMargin": 0,
              "minWidth": 24,
              "minusStrandColor": "red",
              "mousePositionColor": "#000000",
              "plusStrandColor": "blue",
              "showMousePosition": true,
              "trackBorderColor": "black",
              "trackBorderWidth": 0
             },
             "server": "http://localhost:34199/api/v1",
             "tilesetUid": "CVJU4sjYTEikHt_g6QxMrw",
             "type": "vertical-gene-annotations",
             "uid": "A8kVGdlAQrOi6-NMifnjew",
             "width": 55
            },
            {
             "options": {
              "colorRange": [
               "white",
               "rgba(245,166,35,1.0)",
               "rgba(208,2,27,1.0)",
               "black"
              ],
              "colorbarPosition": "topRight",
              "labelBottomMargin": 0,
              "labelColor": "black",
              "labelLeftMargin": 0,
              "labelPosition": "bottomRight",
              "labelRightMargin": 0,
              "labelShowAssembly": true,
              "labelShowResolution": true,
              "labelTopMargin": 0,
              "maxZoom": "15",
              "minHeight": 100,
              "minWidth": 50,
              "name": "PCa13848",
              "scaleEndPercent": "1.00000",
              "scaleStartPercent": "0.00000",
              "showMousePosition": true,
              "trackBorderColor": "black",
              "trackBorderWidth": 0
             },
             "resolutions": [
              1000,
              2000,
              3000,
              4000,
              5000,
              10000,
              20000,
              30000,
              40000,
              50000,
              100000,
              200000,
              300000,
              400000,
              500000,
              1000000,
              2000000,
              3000000,
              4000000,
              5000000
             ],
             "server": "http://localhost:34199/api/v1",
             "tilesetUid": "BbAPbcAST1q8oGL-L8pang",
             "transforms": [],
             "type": "vertical-heatmap",
             "uid": "HFS9SNq3Q32K1ObmHWuNGg",
             "width": 150
            }
           ],
           "right": [],
           "top": [
            {
             "height": 30,
             "options": {
              "color": "#808080",
              "fontIsLeftAligned": false,
              "fontSize": 16,
              "mousePositionColor": "#000000",
              "showMousePosition": true,
              "stroke": "#ffffff"
             },
             "server": "http://localhost:34199/api/v1",
             "tilesetUid": "CMsuiFUyR6yjaqRP3PPALg",
             "type": "horizontal-chromosome-labels",
             "uid": "S4Y2rxMgQ1255grICDU9cQ"
            },
            {
             "height": 150,
             "options": {
              "fontSize": 16,
              "geneAnnotationHeight": 12,
              "geneLabelPosition": "outside",
              "geneStrandSpacing": 4,
              "labelBackgroundColor": "#ffffff",
              "labelBottomMargin": 0,
              "labelColor": "black",
              "labelLeftMargin": 0,
              "labelPosition": "hidden",
              "labelRightMargin": 0,
              "labelTopMargin": 0,
              "minHeight": 24,
              "minusStrandColor": "red",
              "mousePositionColor": "#000000",
              "plusStrandColor": "blue",
              "showMousePosition": true,
              "trackBorderColor": "black",
              "trackBorderWidth": 0
             },
             "server": "http://localhost:34199/api/v1",
             "tilesetUid": "CVJU4sjYTEikHt_g6QxMrw",
             "type": "horizontal-gene-annotations",
             "uid": "XxxvIQOzRXqpuMLrEBkYBA"
            }
           ],
           "whole": []
          },
          "uid": "H4wruZMATc-2embtV1XIqg"
         },
         {
          "initialXDomain": [
           2224407310,
           2229407310
          ],
          "initialYDomain": [
           2816091126.5555553,
           2818855015.444444
          ],
          "layout": {
           "h": 15,
           "w": 12,
           "x": 0,
           "y": 20
          },
          "tracks": {
           "bottom": [],
           "center": [
            {
             "height": 300,
             "options": {
              "backgroundColor": "#eeeeee",
              "colorRange": [
               "white",
               "rgba(245,166,35,1.0)",
               "rgba(208,2,27,1.0)",
               "black"
              ],
              "colorbarBackgroundColor": "#ffffff",
              "colorbarPosition": "topRight",
              "extent": "full",
              "heatmapValueScaling": "log",
              "labelBottomMargin": 0,
              "labelLeftMargin": 0,
              "labelPosition": "bottomRight",
              "labelRightMargin": 0,
              "labelShowAssembly": true,
              "labelShowResolution": true,
              "labelTopMargin": 0,
              "maxZoom": "15",
              "minHeight": 100,
              "minWidth": 100,
              "mousePositionColor": "#000000",
              "name": "PCa3023",
              "showMousePosition": true,
              "showTooltip": false,
              "trackBorderColor": "black",
              "trackBorderWidth": 0
             },
             "resolutions": [
              1000,
              2000,
              3000,
              4000,
              5000,
              10000,
              20000,
              30000,
              40000,
              50000,
              100000,
              200000,
              300000,
              400000,
              500000,
              1000000,
              2000000,
              3000000,
              4000000,
              5000000
             ],
             "server": "http://localhost:34199/api/v1",
             "tilesetUid": "NqxpnLYDRuSZPxWAFsO66g",
             "transforms": [],
             "type": "heatmap",
             "uid": "DQV50Mz-TfuJaxNfU9GgsQ"
            }
           ],
           "gallery": [],
           "left": [
            {
             "options": {
              "color": "#777777",
              "fontIsLeftAligned": false,
              "fontSize": 16,
              "minWidth": 35,
              "mousePositionColor": "#000000",
              "showMousePosition": true,
              "stroke": "#FFFFFF"
             },
             "server": "http://localhost:34199/api/v1",
             "tilesetUid": "CMsuiFUyR6yjaqRP3PPALg",
             "type": "vertical-chromosome-labels",
             "uid": "F83cD5fMR9SZl5QUecmlAg",
             "width": 30
            },
            {
             "options": {
              "fontSize": 16,
              "geneAnnoHeight": 12,
              "geneLabelPosition": "outside",
              "geneStrandSpacing": 4,
              "labelBottomMargin": 0,
              "labelColor": "black",
              "labelLeftMargin": 0,
              "labelPosition": "hidden",
              "labelRightMargin": 0,
              "labelTopMargin": 0,
              "minWidth": 24,
              "minusStrandColor": "red",
              "mousePositionColor": "#000000",
              "plusStrandColor": "blue",
              "showMousePosition": true,
              "trackBorderColor": "black",
              "trackBorderWidth": 0
             },
             "server": "http://localhost:34199/api/v1",
             "tilesetUid": "CVJU4sjYTEikHt_g6QxMrw",
             "type": "vertical-gene-annotations",
             "uid": "A8kVGdlAQrOi6-NMifnjew",
             "width": 55
            },
            {
             "options": {
              "colorRange": [
               "white",
               "rgba(245,166,35,1.0)",
               "rgba(208,2,27,1.0)",
               "black"
              ],
              "colorbarPosition": "topRight",
              "labelBottomMargin": 0,
              "labelColor": "black",
              "labelLeftMargin": 0,
              "labelPosition": "bottomRight",
              "labelRightMargin": 0,
              "labelShowAssembly": true,
              "labelShowResolution": true,
              "labelTopMargin": 0,
              "maxZoom": "15",
              "minHeight": 100,
              "minWidth": 50,
              "name": "PCa3023",
              "showMousePosition": true,
              "trackBorderColor": "black",
              "trackBorderWidth": 0
             },
             "resolutions": [
              1000,
              2000,
              3000,
              4000,
              5000,
              10000,
              20000,
              30000,
              40000,
              50000,
              100000,
              200000,
              300000,
              400000,
              500000,
              1000000,
              2000000,
              3000000,
              4000000,
              5000000
             ],
             "server": "http://localhost:34199/api/v1",
             "tilesetUid": "NqxpnLYDRuSZPxWAFsO66g",
             "transforms": [],
             "type": "vertical-heatmap",
             "uid": "SsJ9k5zyQDKj8mmAi0Yb_Q",
             "width": 150
            }
           ],
           "right": [],
           "top": [
            {
             "height": 150,
             "options": {
              "backgroundColor": "#eeeeee",
              "colorRange": [
               "white",
               "rgba(245,166,35,1.0)",
               "rgba(208,2,27,1.0)",
               "black"
              ],
              "colorbarPosition": "topRight",
              "labelBottomMargin": 0,
              "labelColor": "black",
              "labelLeftMargin": 0,
              "labelPosition": "bottomRight",
              "labelRightMargin": 0,
              "labelShowAssembly": true,
              "labelShowResolution": true,
              "labelTopMargin": 0,
              "maxZoom": "15",
              "minHeight": 40,
              "minWidth": 100,
              "name": "PCa3023",
              "showMousePosition": true,
              "trackBorderColor": "black",
              "trackBorderWidth": 0
             },
             "resolutions": [
              1000,
              2000,
              3000,
              4000,
              5000,
              10000,
              20000,
              30000,
              40000,
              50000,
              100000,
              200000,
              300000,
              400000,
              500000,
              1000000,
              2000000,
              3000000,
              4000000,
              5000000
             ],
             "server": "http://localhost:34199/api/v1",
             "tilesetUid": "NqxpnLYDRuSZPxWAFsO66g",
             "transforms": [],
             "type": "horizontal-heatmap",
             "uid": "VJ7U4z5oQ2GU8ENcREqOGQ"
            }
           ],
           "whole": []
          },
          "uid": "COi40X3qTTC01qJvoFQEyA"
         }
        ],
        "zoomLocks": {
         "locksByViewUid": {},
         "locksDict": {}
        }
       }
      }
     },
     "18989014b5464ff2a7a28ecc537ac49a": {
      "model_module": "higlass-jupyter",
      "model_module_version": "0.4.0",
      "model_name": "HiGlassDisplayModel",
      "state": {
       "_dom_classes": [],
       "_model_data": [],
       "_view_count": null,
       "auth_token": "",
       "bounded": null,
       "cursor_location": [],
       "dark_mode": false,
       "default_track_options": {},
       "dom_element_id": "fn92j7",
       "height": 0,
       "layout": "IPY_MODEL_b2b6ca3efe6649f7ac0f17a6fbb70138",
       "location": [
        1517385878.094241,
        1521314673.9057593,
        1519350276,
        1519350276
       ],
       "options": {},
       "renderer": "",
       "select_mode": false,
       "selection": [],
       "selection_on_alt": false,
       "viewconf": {
        "editable": true,
        "exportViewUrl": "http://higlass.io/api/v1/viewconfs",
        "locationLocks": {
         "locksByViewUid": {},
         "locksDict": {}
        },
        "trackSourceServers": [
         "http://higlass.io/api/v1"
        ],
        "valueScaleLocks": {
         "locksByViewUid": {},
         "locksDict": {}
        },
        "views": [
         {
          "initialXDomain": [
           1517385878.094241,
           1521314673.9057593
          ],
          "initialYDomain": [
           1519350276,
           1519350276
          ],
          "layout": {
           "h": 73,
           "w": 12,
           "x": 0,
           "y": 0
          },
          "tracks": {
           "bottom": [],
           "center": [],
           "gallery": [],
           "left": [],
           "right": [],
           "top": [
            {
             "height": 30,
             "options": {
              "color": "#808080",
              "fontIsLeftAligned": false,
              "fontSize": 16,
              "mousePositionColor": "#000000",
              "showMousePosition": true,
              "stroke": "#ffffff"
             },
             "server": "http://localhost:57421/api/v1",
             "tilesetUid": "CMsuiFUyR6yjaqRP3PPALg",
             "type": "horizontal-chromosome-labels",
             "uid": "S4Y2rxMgQ1255grICDU9cQ"
            },
            {
             "height": 150,
             "options": {
              "fontSize": 16,
              "geneAnnotationHeight": 12,
              "geneLabelPosition": "outside",
              "geneStrandSpacing": 4,
              "labelBackgroundColor": "#ffffff",
              "labelBottomMargin": 0,
              "labelColor": "black",
              "labelLeftMargin": 0,
              "labelPosition": "hidden",
              "labelRightMargin": 0,
              "labelTopMargin": 0,
              "minHeight": 24,
              "minusStrandColor": "red",
              "mousePositionColor": "#000000",
              "plusStrandColor": "blue",
              "showMousePosition": true,
              "trackBorderColor": "black",
              "trackBorderWidth": 0
             },
             "server": "http://localhost:57421/api/v1",
             "tilesetUid": "CVJU4sjYTEikHt_g6QxMrw",
             "type": "horizontal-gene-annotations",
             "uid": "XxxvIQOzRXqpuMLrEBkYBA"
            },
            {
             "height": 150,
             "options": {
              "backgroundColor": "#eeeeee",
              "colorRange": [
               "white",
               "rgba(245,166,35,1.0)",
               "rgba(208,2,27,1.0)",
               "black"
              ],
              "colorbarPosition": "topRight",
              "labelBottomMargin": 0,
              "labelColor": "black",
              "labelLeftMargin": 0,
              "labelPosition": "bottomRight",
              "labelRightMargin": 0,
              "labelShowAssembly": true,
              "labelShowResolution": true,
              "labelTopMargin": 0,
              "maxZoom": "15",
              "minHeight": 40,
              "minWidth": 100,
              "name": "PCa13266",
              "showMousePosition": true,
              "trackBorderColor": "black",
              "trackBorderWidth": 0
             },
             "server": "http://localhost:57421/api/v1",
             "tilesetUid": "CQ4OqxHHRpWqW0bWnR_95g",
             "type": "horizontal-heatmap",
             "uid": "NjD8ljW2Tu62N89hp8NsyA"
            },
            {
             "height": 150,
             "options": {
              "backgroundColor": "#eeeeee",
              "colorRange": [
               "white",
               "rgba(245,166,35,1.0)",
               "rgba(208,2,27,1.0)",
               "black"
              ],
              "colorbarPosition": "topRight",
              "labelBottomMargin": 0,
              "labelColor": "black",
              "labelLeftMargin": 0,
              "labelPosition": "bottomRight",
              "labelRightMargin": 0,
              "labelShowAssembly": true,
              "labelShowResolution": true,
              "labelTopMargin": 0,
              "maxZoom": "15",
              "minHeight": 40,
              "minWidth": 100,
              "name": "PCa13848",
              "showMousePosition": true,
              "trackBorderColor": "black",
              "trackBorderWidth": 0
             },
             "server": "http://localhost:57421/api/v1",
             "tilesetUid": "BbAPbcAST1q8oGL-L8pang",
             "type": "horizontal-heatmap",
             "uid": "eY39cbJ3RUuxjdFvsx8jiA"
            },
            {
             "height": 150,
             "options": {
              "backgroundColor": "#eeeeee",
              "colorRange": [
               "white",
               "rgba(245,166,35,1.0)",
               "rgba(208,2,27,1.0)",
               "black"
              ],
              "colorbarPosition": "topRight",
              "labelBottomMargin": 0,
              "labelColor": "black",
              "labelLeftMargin": 0,
              "labelPosition": "bottomRight",
              "labelRightMargin": 0,
              "labelShowAssembly": true,
              "labelShowResolution": true,
              "labelTopMargin": 0,
              "maxZoom": "15",
              "minHeight": 40,
              "minWidth": 100,
              "name": "PCa14121",
              "showMousePosition": true,
              "trackBorderColor": "black",
              "trackBorderWidth": 0
             },
             "server": "http://localhost:57421/api/v1",
             "tilesetUid": "Wmj7v367QziMRlWFMWdzWw",
             "type": "horizontal-heatmap",
             "uid": "EK11NdFCT8imcFVleqsJSA"
            },
            {
             "height": 150,
             "options": {
              "backgroundColor": "#eeeeee",
              "colorRange": [
               "white",
               "rgba(245,166,35,1.0)",
               "rgba(208,2,27,1.0)",
               "black"
              ],
              "colorbarPosition": "topRight",
              "labelBottomMargin": 0,
              "labelColor": "black",
              "labelLeftMargin": 0,
              "labelPosition": "bottomRight",
              "labelRightMargin": 0,
              "labelShowAssembly": true,
              "labelShowResolution": true,
              "labelTopMargin": 0,
              "maxZoom": "15",
              "minHeight": 40,
              "minWidth": 100,
              "name": "PCa19121",
              "showMousePosition": true,
              "trackBorderColor": "black",
              "trackBorderWidth": 0
             },
             "server": "http://localhost:57421/api/v1",
             "tilesetUid": "R035sMOYSceQf26wr5lm7w",
             "type": "horizontal-heatmap",
             "uid": "Hi_qdQtqS1quPknrA8NNlw"
            },
            {
             "height": 150,
             "options": {
              "backgroundColor": "#eeeeee",
              "colorRange": [
               "white",
               "rgba(245,166,35,1.0)",
               "rgba(208,2,27,1.0)",
               "black"
              ],
              "colorbarPosition": "topRight",
              "labelBottomMargin": 0,
              "labelColor": "black",
              "labelLeftMargin": 0,
              "labelPosition": "bottomRight",
              "labelRightMargin": 0,
              "labelShowAssembly": true,
              "labelShowResolution": true,
              "labelTopMargin": 0,
              "maxZoom": "15",
              "minHeight": 40,
              "minWidth": 100,
              "name": "PCa3023",
              "showMousePosition": true,
              "trackBorderColor": "black",
              "trackBorderWidth": 0
             },
             "server": "http://localhost:57421/api/v1",
             "tilesetUid": "NqxpnLYDRuSZPxWAFsO66g",
             "type": "horizontal-heatmap",
             "uid": "VJ7U4z5oQ2GU8ENcREqOGQ"
            },
            {
             "height": 150,
             "options": {
              "backgroundColor": "#eeeeee",
              "colorRange": [
               "white",
               "rgba(245,166,35,1.0)",
               "rgba(208,2,27,1.0)",
               "black"
              ],
              "colorbarPosition": "topRight",
              "labelBottomMargin": 0,
              "labelColor": "black",
              "labelLeftMargin": 0,
              "labelPosition": "bottomRight",
              "labelRightMargin": 0,
              "labelShowAssembly": true,
              "labelShowResolution": true,
              "labelTopMargin": 0,
              "maxZoom": "15",
              "minHeight": 40,
              "minWidth": 100,
              "name": "PCa33173",
              "showMousePosition": true,
              "trackBorderColor": "black",
              "trackBorderWidth": 0
             },
             "server": "http://localhost:57421/api/v1",
             "tilesetUid": "R_2HBkduTYCenDUWv5LMQA",
             "type": "horizontal-heatmap",
             "uid": "QyZj1DtjRkmWvBx93hIz5w"
            },
            {
             "height": 150,
             "options": {
              "backgroundColor": "#eeeeee",
              "colorRange": [
               "white",
               "rgba(245,166,35,1.0)",
               "rgba(208,2,27,1.0)",
               "black"
              ],
              "colorbarPosition": "topRight",
              "labelBottomMargin": 0,
              "labelColor": "black",
              "labelLeftMargin": 0,
              "labelPosition": "bottomRight",
              "labelRightMargin": 0,
              "labelShowAssembly": true,
              "labelShowResolution": true,
              "labelTopMargin": 0,
              "maxZoom": "15",
              "minHeight": 40,
              "minWidth": 100,
              "name": "PCa40507",
              "showMousePosition": true,
              "trackBorderColor": "black",
              "trackBorderWidth": 0
             },
             "server": "http://localhost:57421/api/v1",
             "tilesetUid": "DYAWQOsYSg-OQjXnT5UEMQ",
             "type": "horizontal-heatmap",
             "uid": "UHlJqaIQT5qFNq1nH9EH9Q"
            },
            {
             "height": 150,
             "options": {
              "backgroundColor": "#eeeeee",
              "colorRange": [
               "white",
               "rgba(245,166,35,1.0)",
               "rgba(208,2,27,1.0)",
               "black"
              ],
              "colorbarPosition": "topRight",
              "labelBottomMargin": 0,
              "labelColor": "black",
              "labelLeftMargin": 0,
              "labelPosition": "bottomRight",
              "labelRightMargin": 0,
              "labelShowAssembly": true,
              "labelShowResolution": true,
              "labelTopMargin": 0,
              "maxZoom": "15",
              "minHeight": 40,
              "minWidth": 100,
              "name": "PCa51852",
              "showMousePosition": true,
              "trackBorderColor": "black",
              "trackBorderWidth": 0
             },
             "server": "http://localhost:57421/api/v1",
             "tilesetUid": "U9Ex8WMEQWaEs2dQVec0yg",
             "type": "horizontal-heatmap",
             "uid": "TEtkw3dxThq_049qEqYZ7Q"
            },
            {
             "height": 150,
             "options": {
              "backgroundColor": "#eeeeee",
              "colorRange": [
               "white",
               "rgba(245,166,35,1.0)",
               "rgba(208,2,27,1.0)",
               "black"
              ],
              "colorbarPosition": "topRight",
              "labelBottomMargin": 0,
              "labelColor": "black",
              "labelLeftMargin": 0,
              "labelPosition": "bottomRight",
              "labelRightMargin": 0,
              "labelShowAssembly": true,
              "labelShowResolution": true,
              "labelTopMargin": 0,
              "maxZoom": "15",
              "minHeight": 40,
              "minWidth": 100,
              "name": "PCa53687",
              "showMousePosition": true,
              "trackBorderColor": "black",
              "trackBorderWidth": 0
             },
             "server": "http://localhost:57421/api/v1",
             "tilesetUid": "OCA9e7vPQ4ymmJeXUBRdhA",
             "type": "horizontal-heatmap",
             "uid": "cQvjLIgnTr-eGwCa9F3ZNg"
            },
            {
             "height": 150,
             "options": {
              "backgroundColor": "#eeeeee",
              "colorRange": [
               "white",
               "rgba(245,166,35,1.0)",
               "rgba(208,2,27,1.0)",
               "black"
              ],
              "colorbarPosition": "topRight",
              "labelBottomMargin": 0,
              "labelColor": "black",
              "labelLeftMargin": 0,
              "labelPosition": "bottomRight",
              "labelRightMargin": 0,
              "labelShowAssembly": true,
              "labelShowResolution": true,
              "labelTopMargin": 0,
              "maxZoom": "15",
              "minHeight": 40,
              "minWidth": 100,
              "name": "PCa56413",
              "showMousePosition": true,
              "trackBorderColor": "black",
              "trackBorderWidth": 0
             },
             "server": "http://localhost:57421/api/v1",
             "tilesetUid": "Ki4mnmMoSKy5gyB_Wkyh3w",
             "type": "horizontal-heatmap",
             "uid": "bLyjunCLTOyyTxIoDMcsJQ"
            },
            {
             "height": 150,
             "options": {
              "backgroundColor": "#eeeeee",
              "colorRange": [
               "white",
               "rgba(245,166,35,1.0)",
               "rgba(208,2,27,1.0)",
               "black"
              ],
              "colorbarPosition": "topRight",
              "labelBottomMargin": 0,
              "labelColor": "black",
              "labelLeftMargin": 0,
              "labelPosition": "bottomRight",
              "labelRightMargin": 0,
              "labelShowAssembly": true,
              "labelShowResolution": true,
              "labelTopMargin": 0,
              "maxZoom": "15",
              "minHeight": 40,
              "minWidth": 100,
              "name": "PCa57054",
              "showMousePosition": true,
              "trackBorderColor": "black",
              "trackBorderWidth": 0
             },
             "server": "http://localhost:57421/api/v1",
             "tilesetUid": "JJvSTGq1TsqR6Mu-yB3yww",
             "type": "horizontal-heatmap",
             "uid": "UB_h-SArQ_W9Ch_CE6MsmQ"
            },
            {
             "height": 150,
             "options": {
              "backgroundColor": "#eeeeee",
              "colorRange": [
               "white",
               "rgba(245,166,35,1.0)",
               "rgba(208,2,27,1.0)",
               "black"
              ],
              "colorbarPosition": "topRight",
              "labelBottomMargin": 0,
              "labelColor": "black",
              "labelLeftMargin": 0,
              "labelPosition": "bottomRight",
              "labelRightMargin": 0,
              "labelShowAssembly": true,
              "labelShowResolution": true,
              "labelTopMargin": 0,
              "maxZoom": "15",
              "minHeight": 40,
              "minWidth": 100,
              "name": "PCa57294",
              "showMousePosition": true,
              "trackBorderColor": "black",
              "trackBorderWidth": 0
             },
             "server": "http://localhost:57421/api/v1",
             "tilesetUid": "V4H5L6FvSGmQrHyurUus6w",
             "type": "horizontal-heatmap",
             "uid": "bGDxm87sSP2k-M4oWr0anA"
            },
            {
             "height": 150,
             "options": {
              "backgroundColor": "#eeeeee",
              "colorRange": [
               "white",
               "rgba(245,166,35,1.0)",
               "rgba(208,2,27,1.0)",
               "black"
              ],
              "colorbarPosition": "topRight",
              "labelBottomMargin": 0,
              "labelColor": "black",
              "labelLeftMargin": 0,
              "labelPosition": "bottomRight",
              "labelRightMargin": 0,
              "labelShowAssembly": true,
              "labelShowResolution": true,
              "labelTopMargin": 0,
              "maxZoom": "15",
              "minHeight": 40,
              "minWidth": 100,
              "name": "PCa58215",
              "showMousePosition": true,
              "trackBorderColor": "black",
              "trackBorderWidth": 0
             },
             "server": "http://localhost:57421/api/v1",
             "tilesetUid": "LSYUjN0DR_um2PfQ4RYeEA",
             "type": "horizontal-heatmap",
             "uid": "LacJLpf0QqyYuln92tEnJg"
            },
            {
             "height": 150,
             "options": {
              "backgroundColor": "#eeeeee",
              "colorRange": [
               "white",
               "rgba(245,166,35,1.0)",
               "rgba(208,2,27,1.0)",
               "black"
              ],
              "colorbarPosition": "topRight",
              "labelBottomMargin": 0,
              "labelColor": "black",
              "labelLeftMargin": 0,
              "labelPosition": "bottomRight",
              "labelRightMargin": 0,
              "labelShowAssembly": true,
              "labelShowResolution": true,
              "labelTopMargin": 0,
              "maxZoom": "15",
              "minHeight": 40,
              "minWidth": 100,
              "name": "Benign-Prostate-1648133",
              "showMousePosition": true,
              "trackBorderColor": "black",
              "trackBorderWidth": 0
             },
             "server": "http://localhost:57421/api/v1",
             "tilesetUid": "bp7qe5hlTuWnWUXfC3eABQ",
             "type": "horizontal-heatmap",
             "uid": "fF8klEb-Squ5DdqdiKj6AQ"
            },
            {
             "height": 150,
             "options": {
              "backgroundColor": "#eeeeee",
              "colorRange": [
               "white",
               "rgba(245,166,35,1.0)",
               "rgba(208,2,27,1.0)",
               "black"
              ],
              "colorbarPosition": "topRight",
              "labelBottomMargin": 0,
              "labelColor": "black",
              "labelLeftMargin": 0,
              "labelPosition": "bottomRight",
              "labelRightMargin": 0,
              "labelShowAssembly": true,
              "labelShowResolution": true,
              "labelTopMargin": 0,
              "maxZoom": "15",
              "minHeight": 40,
              "minWidth": 100,
              "name": "Benign-Prostate-1595983",
              "showMousePosition": true,
              "trackBorderColor": "black",
              "trackBorderWidth": 0
             },
             "server": "http://localhost:57421/api/v1",
             "tilesetUid": "FivjvBeoRAmI3tggwMLWDw",
             "type": "horizontal-heatmap",
             "uid": "fjp9rrMVSfyr8DhPs2ZaVg"
            },
            {
             "height": 150,
             "options": {
              "backgroundColor": "#eeeeee",
              "colorRange": [
               "white",
               "rgba(245,166,35,1.0)",
               "rgba(208,2,27,1.0)",
               "black"
              ],
              "colorbarPosition": "topRight",
              "labelBottomMargin": 0,
              "labelColor": "black",
              "labelLeftMargin": 0,
              "labelPosition": "bottomRight",
              "labelRightMargin": 0,
              "labelShowAssembly": true,
              "labelShowResolution": true,
              "labelTopMargin": 0,
              "maxZoom": "15",
              "minHeight": 40,
              "minWidth": 100,
              "name": "Benign-Prostate-3330581",
              "showMousePosition": true,
              "trackBorderColor": "black",
              "trackBorderWidth": 0
             },
             "server": "http://localhost:57421/api/v1",
             "tilesetUid": "JaVFVbK0SNmMG_PFeSik9A",
             "type": "horizontal-heatmap",
             "uid": "fKv3QoiQSE2Us6mLVJo5ZA"
            },
            {
             "height": 150,
             "options": {
              "backgroundColor": "#eeeeee",
              "colorRange": [
               "white",
               "rgba(245,166,35,1.0)",
               "rgba(208,2,27,1.0)",
               "black"
              ],
              "colorbarPosition": "topRight",
              "labelBottomMargin": 0,
              "labelColor": "black",
              "labelLeftMargin": 0,
              "labelPosition": "bottomRight",
              "labelRightMargin": 0,
              "labelShowAssembly": true,
              "labelShowResolution": true,
              "labelTopMargin": 0,
              "maxZoom": "15",
              "minHeight": 40,
              "minWidth": 100,
              "name": "Benign-Prostate-1664855",
              "showMousePosition": true,
              "trackBorderColor": "black",
              "trackBorderWidth": 0
             },
             "server": "http://localhost:57421/api/v1",
             "tilesetUid": "XsWytOnMRCuKsWeUoKFDlg",
             "type": "horizontal-heatmap",
             "uid": "YleGk1a2S7WNFFq9MI5KHg"
            },
            {
             "height": 150,
             "options": {
              "backgroundColor": "#eeeeee",
              "colorRange": [
               "white",
               "rgba(245,166,35,1.0)",
               "rgba(208,2,27,1.0)",
               "black"
              ],
              "colorbarPosition": "topRight",
              "labelBottomMargin": 0,
              "labelColor": "black",
              "labelLeftMargin": 0,
              "labelPosition": "bottomRight",
              "labelRightMargin": 0,
              "labelShowAssembly": true,
              "labelShowResolution": true,
              "labelTopMargin": 0,
              "maxZoom": "15",
              "minHeight": 40,
              "minWidth": 100,
              "name": "Benign-Prostate-3320942",
              "showMousePosition": true,
              "trackBorderColor": "black",
              "trackBorderWidth": 0
             },
             "server": "http://localhost:57421/api/v1",
             "tilesetUid": "fCv_-cLUR7q9w16JwEdX9g",
             "type": "horizontal-heatmap",
             "uid": "KhLNQ75kTDOrTewU8Yv4yA"
            }
           ],
           "whole": []
          },
          "uid": "G7cYX6t0TSSkImMeIPftJA"
         }
        ],
        "zoomLocks": {
         "locksByViewUid": {},
         "locksDict": {}
        }
       }
      }
     },
     "2fb7bcf94aa64d01a6fe32dd3809902e": {
      "model_module": "@jupyter-widgets/base",
      "model_module_version": "1.2.0",
      "model_name": "LayoutModel",
      "state": {}
     },
     "3591ffef5dd14fd39ff93421f9b53e59": {
      "model_module": "@jupyter-widgets/base",
      "model_module_version": "1.2.0",
      "model_name": "LayoutModel",
      "state": {}
     },
     "3a98ccb10ec744f796c9deec4f98456c": {
      "model_module": "@jupyter-widgets/base",
      "model_module_version": "1.2.0",
      "model_name": "LayoutModel",
      "state": {}
     },
     "5119af840b2242b7a2bcb5b81d47fd13": {
      "model_module": "higlass-jupyter",
      "model_module_version": "0.4.0",
      "model_name": "HiGlassDisplayModel",
      "state": {
       "_dom_classes": [],
       "_model_data": [],
       "_view_count": null,
       "auth_token": "",
       "bounded": null,
       "cursor_location": [
        -1,
        -1
       ],
       "dark_mode": false,
       "default_track_options": {},
       "dom_element_id": "a0wr5r",
       "height": 0,
       "layout": "IPY_MODEL_576f065698dd458d858ff434956feb48",
       "location": [
        757124691.0618923,
        759698028.2811472,
        1633923213.4552693,
        1635555466.805267
       ],
       "options": {},
       "renderer": "",
       "select_mode": false,
       "selection": [],
       "selection_on_alt": false,
       "viewconf": {
        "editable": true,
        "exportViewUrl": "http://higlass.io/api/v1/viewconfs",
        "locationLocks": {
         "locksByViewUid": {},
         "locksDict": {}
        },
        "trackSourceServers": [
         "http://higlass.io/api/v1"
        ],
        "valueScaleLocks": {
         "locksByViewUid": {},
         "locksDict": {}
        },
        "views": [
         {
          "initialXDomain": [
           757124691.0618923,
           759698028.2811472
          ],
          "initialYDomain": [
           1633923213.4552693,
           1635555466.805267
          ],
          "layout": {
           "h": 21,
           "w": 12,
           "x": 0,
           "y": 0
          },
          "tracks": {
           "bottom": [],
           "center": [
            {
             "contents": [
              {
               "height": 300,
               "options": {
                "backgroundColor": "#eeeeee",
                "colorRange": [
                 "white",
                 "rgba(245,166,35,1.0)",
                 "rgba(208,2,27,1.0)",
                 "black"
                ],
                "colorbarBackgroundColor": "#ffffff",
                "colorbarPosition": "topRight",
                "extent": "full",
                "heatmapValueScaling": "log",
                "labelBottomMargin": 0,
                "labelLeftMargin": 0,
                "labelPosition": "bottomRight",
                "labelRightMargin": 0,
                "labelShowAssembly": true,
                "labelShowResolution": true,
                "labelTopMargin": 0,
                "maxZoom": "15",
                "minHeight": 100,
                "minWidth": 100,
                "mousePositionColor": "#000000",
                "name": "PCa13848",
                "scaleEndPercent": "1.00000",
                "scaleStartPercent": "0.00000",
                "showMousePosition": true,
                "showTooltip": false,
                "trackBorderColor": "black",
                "trackBorderWidth": 0
               },
               "resolutions": [
                1000,
                2000,
                3000,
                4000,
                5000,
                10000,
                20000,
                30000,
                40000,
                50000,
                100000,
                200000,
                300000,
                400000,
                500000,
                1000000,
                2000000,
                3000000,
                4000000,
                5000000
               ],
               "server": "http://localhost:42311/api/v1",
               "tilesetUid": "NRiqZ9S9RSGVzDOtNC2z8A",
               "transforms": [],
               "type": "heatmap",
               "uid": "B-H2f2bfQ1qj4EcBXTAJXw"
              },
              {
               "options": {
                "flipDiagonal": "none",
                "labelBottomMargin": 0,
                "labelColor": "black",
                "labelLeftMargin": 0,
                "labelPosition": "hidden",
                "labelRightMargin": 0,
                "labelTopMargin": 0,
                "minSquareSize": "none",
                "name": "PCa13848",
                "rectangleDomainFillColor": "grey",
                "rectangleDomainOpacity": 0.6,
                "rectangleDomainStrokeColor": "black",
                "showMousePosition": true,
                "trackBorderColor": "black",
                "trackBorderWidth": 0
               },
               "server": "http://localhost:42311/api/v1",
               "tilesetUid": "L6XlAH6VRLenBNgL-aH19g",
               "type": "2d-rectangle-domains",
               "uid": "eYhYk-t_SmO4SBhctPAykQ"
              }
             ],
             "height": 300,
             "options": {},
             "type": "combined",
             "uid": "O2v_SYKJRqa5nIeGyzwonw"
            }
           ],
           "gallery": [],
           "left": [
            {
             "options": {
              "color": "#777777",
              "fontIsLeftAligned": false,
              "fontSize": 16,
              "minWidth": 35,
              "mousePositionColor": "#000000",
              "showMousePosition": true,
              "stroke": "#FFFFFF"
             },
             "server": "http://localhost:42311/api/v1",
             "tilesetUid": "CMsuiFUyR6yjaqRP3PPALg",
             "type": "vertical-chromosome-labels",
             "uid": "F83cD5fMR9SZl5QUecmlAg",
             "width": 30
            },
            {
             "height": 418,
             "options": {
              "fontSize": 16,
              "geneAnnoHeight": 12,
              "geneLabelPosition": "outside",
              "geneStrandSpacing": 4,
              "labelBottomMargin": 0,
              "labelColor": "black",
              "labelLeftMargin": 0,
              "labelPosition": "hidden",
              "labelRightMargin": 0,
              "labelTopMargin": 0,
              "minWidth": 24,
              "minusStrandColor": "red",
              "mousePositionColor": "#000000",
              "plusStrandColor": "blue",
              "showMousePosition": true,
              "trackBorderColor": "black",
              "trackBorderWidth": 0
             },
             "server": "http://localhost:42311/api/v1",
             "tilesetUid": "CVJU4sjYTEikHt_g6QxMrw",
             "type": "vertical-gene-annotations",
             "uid": "A8kVGdlAQrOi6-NMifnjew",
             "width": 76
            },
            {
             "options": {
              "colorRange": [
               "white",
               "rgba(245,166,35,1.0)",
               "rgba(208,2,27,1.0)",
               "black"
              ],
              "colorbarPosition": "topRight",
              "labelBottomMargin": 0,
              "labelColor": "black",
              "labelLeftMargin": 0,
              "labelPosition": "bottomRight",
              "labelRightMargin": 0,
              "labelShowAssembly": true,
              "labelShowResolution": true,
              "labelTopMargin": 0,
              "maxZoom": "15",
              "minHeight": 100,
              "minWidth": 50,
              "name": "PCa13848",
              "scaleEndPercent": "1.00000",
              "scaleStartPercent": "0.00000",
              "showMousePosition": true,
              "trackBorderColor": "black",
              "trackBorderWidth": 0
             },
             "resolutions": [
              1000,
              2000,
              3000,
              4000,
              5000,
              10000,
              20000,
              30000,
              40000,
              50000,
              100000,
              200000,
              300000,
              400000,
              500000,
              1000000,
              2000000,
              3000000,
              4000000,
              5000000
             ],
             "server": "http://localhost:42311/api/v1",
             "tilesetUid": "NRiqZ9S9RSGVzDOtNC2z8A",
             "transforms": [],
             "type": "vertical-heatmap",
             "uid": "RNwUjmEbRo-syt1DSpI7Hw",
             "width": 150
            },
            {
             "aggregationModes": {
              "max": {
               "name": "Max",
               "value": "max"
              },
              "mean": {
               "name": "Mean",
               "value": "mean"
              },
              "min": {
               "name": "Min",
               "value": "min"
              },
              "std": {
               "name": "Standard Deviation",
               "value": "std"
              }
             },
             "options": {
              "axisLabelFormatting": "scientific",
              "axisPositionVertical": "top",
              "labelBottomMargin": 0,
              "labelColor": "black",
              "labelLeftMargin": 0,
              "labelPosition": "bottomLeft",
              "labelRightMargin": 0,
              "labelShowAssembly": true,
              "labelShowResolution": false,
              "labelTextOpacity": 0.4,
              "labelTopMargin": 0,
              "lineStrokeColor": "blue",
              "lineStrokeWidth": 1,
              "mousePositionColor": "#000000",
              "name": "PCa13848",
              "showMousePosition": true,
              "showTooltip": false,
              "trackBorderColor": "black",
              "trackBorderWidth": 0,
              "valueScaling": "linear"
             },
             "server": "http://localhost:42311/api/v1",
             "tilesetUid": "dQm0dS5DTrueuf3nMKw8xA",
             "type": "vertical-line",
             "uid": "Rbtbv8OdQH6BWJPAZrhR8g",
             "width": 20
            },
            {
             "options": {
              "alternating": false,
              "annotationHeight": 16,
              "annotationStyle": "box",
              "axisPositionHorizontal": "right",
              "colorEncoding": false,
              "colorEncodingRange": false,
              "colorRange": [
               "#000000",
               "#652537",
               "#bf5458",
               "#fba273",
               "#ffffe0"
              ],
              "fillColor": "blue",
              "labelBottomMargin": 0,
              "labelColor": "black",
              "labelLeftMargin": 0,
              "labelPosition": "hidden",
              "labelRightMargin": 0,
              "labelTopMargin": 0,
              "minHeight": 20,
              "name": "PCa13848",
              "showMousePosition": true,
              "showTexts": false,
              "trackBorderColor": "black",
              "trackBorderWidth": 0,
              "valueColumn": null
             },
             "server": "http://localhost:42311/api/v1",
             "tilesetUid": "He6AqME3T2aIHHyNSdokoQ",
             "type": "bedlike",
             "uid": "AwaUpzleTW2SwGevGnketw",
             "width": 20
            }
           ],
           "right": [],
           "top": [
            {
             "height": 30,
             "options": {
              "color": "#808080",
              "fontIsLeftAligned": false,
              "fontSize": 16,
              "mousePositionColor": "#000000",
              "showMousePosition": true,
              "stroke": "#ffffff"
             },
             "server": "http://localhost:42311/api/v1",
             "tilesetUid": "CMsuiFUyR6yjaqRP3PPALg",
             "type": "horizontal-chromosome-labels",
             "uid": "S4Y2rxMgQ1255grICDU9cQ"
            },
            {
             "height": 150,
             "options": {
              "fontSize": 16,
              "geneAnnotationHeight": 12,
              "geneLabelPosition": "outside",
              "geneStrandSpacing": 4,
              "labelBackgroundColor": "#ffffff",
              "labelBottomMargin": 0,
              "labelColor": "black",
              "labelLeftMargin": 0,
              "labelPosition": "hidden",
              "labelRightMargin": 0,
              "labelTopMargin": 0,
              "minHeight": 24,
              "minusStrandColor": "red",
              "mousePositionColor": "#000000",
              "plusStrandColor": "blue",
              "showMousePosition": true,
              "trackBorderColor": "black",
              "trackBorderWidth": 0
             },
             "server": "http://localhost:42311/api/v1",
             "tilesetUid": "CVJU4sjYTEikHt_g6QxMrw",
             "type": "horizontal-gene-annotations",
             "uid": "XxxvIQOzRXqpuMLrEBkYBA"
            },
            {
             "height": 150,
             "options": {
              "backgroundColor": "#eeeeee",
              "colorRange": [
               "white",
               "rgba(245,166,35,1.0)",
               "rgba(208,2,27,1.0)",
               "black"
              ],
              "colorbarPosition": "topRight",
              "labelBottomMargin": 0,
              "labelColor": "black",
              "labelLeftMargin": 0,
              "labelPosition": "bottomRight",
              "labelRightMargin": 0,
              "labelShowAssembly": true,
              "labelShowResolution": true,
              "labelTopMargin": 0,
              "maxZoom": "15",
              "minHeight": 40,
              "minWidth": 100,
              "name": "PCa13848",
              "scaleEndPercent": "1.00000",
              "scaleStartPercent": "0.00000",
              "showMousePosition": true,
              "trackBorderColor": "black",
              "trackBorderWidth": 0
             },
             "resolutions": [
              1000,
              2000,
              3000,
              4000,
              5000,
              10000,
              20000,
              30000,
              40000,
              50000,
              100000,
              200000,
              300000,
              400000,
              500000,
              1000000,
              2000000,
              3000000,
              4000000,
              5000000
             ],
             "server": "http://localhost:42311/api/v1",
             "tilesetUid": "NRiqZ9S9RSGVzDOtNC2z8A",
             "transforms": [],
             "type": "horizontal-heatmap",
             "uid": "cSZunRpmQ0i1IxdyKZjSPw"
            },
            {
             "aggregationModes": {
              "max": {
               "name": "Max",
               "value": "max"
              },
              "mean": {
               "name": "Mean",
               "value": "mean"
              },
              "min": {
               "name": "Min",
               "value": "min"
              },
              "std": {
               "name": "Standard Deviation",
               "value": "std"
              }
             },
             "height": 20,
             "options": {
              "axisLabelFormatting": "scientific",
              "axisPositionHorizontal": "right",
              "labelBackgroundColor": "white",
              "labelBottomMargin": 0,
              "labelColor": "black",
              "labelLeftMargin": 0,
              "labelPosition": "topLeft",
              "labelRightMargin": 0,
              "labelShowAssembly": true,
              "labelShowResolution": false,
              "labelTextOpacity": 0.4,
              "labelTopMargin": 0,
              "lineStrokeColor": "blue",
              "lineStrokeWidth": 1,
              "minHeight": 20,
              "mousePositionColor": "#000000",
              "name": "PCa13848",
              "showMousePosition": true,
              "showTooltip": false,
              "trackBorderColor": "black",
              "trackBorderWidth": 0,
              "valueScaling": "linear"
             },
             "server": "http://localhost:42311/api/v1",
             "tilesetUid": "dQm0dS5DTrueuf3nMKw8xA",
             "type": "horizontal-line",
             "uid": "OSITdIWZTgWufHxijJuBoA"
            },
            {
             "height": 20,
             "options": {
              "alternating": false,
              "annotationHeight": 16,
              "annotationStyle": "box",
              "axisPositionHorizontal": "right",
              "colorEncoding": false,
              "colorEncodingRange": false,
              "colorRange": [
               "#000000",
               "#652537",
               "#bf5458",
               "#fba273",
               "#ffffe0"
              ],
              "fillColor": "blue",
              "labelBottomMargin": 0,
              "labelColor": "black",
              "labelLeftMargin": 0,
              "labelPosition": "hidden",
              "labelRightMargin": 0,
              "labelTopMargin": 0,
              "minHeight": 20,
              "name": "PCa13848",
              "showMousePosition": true,
              "showTexts": false,
              "trackBorderColor": "black",
              "trackBorderWidth": 0,
              "valueColumn": null
             },
             "server": "http://localhost:42311/api/v1",
             "tilesetUid": "He6AqME3T2aIHHyNSdokoQ",
             "type": "bedlike",
             "uid": "TaG0HAhyT2uTe6f3vntaEA"
            }
           ],
           "whole": []
          },
          "uid": "VnRj1SXQTHOD8j2crqz3JA"
         }
        ],
        "zoomLocks": {
         "locksByViewUid": {},
         "locksDict": {}
        }
       }
      }
     },
     "576f065698dd458d858ff434956feb48": {
      "model_module": "@jupyter-widgets/base",
      "model_module_version": "1.2.0",
      "model_name": "LayoutModel",
      "state": {}
     },
     "5c414cb023c4442e88441411951da2b9": {
      "model_module": "@jupyter-widgets/base",
      "model_module_version": "1.2.0",
      "model_name": "LayoutModel",
      "state": {}
     },
     "5e14913e3cdf46448ebc68814cfd9e77": {
      "model_module": "higlass-jupyter",
      "model_module_version": "0.4.0",
      "model_name": "HiGlassDisplayModel",
      "state": {
       "_dom_classes": [],
       "_model_data": [],
       "_view_count": null,
       "auth_token": "",
       "bounded": null,
       "cursor_location": [
        2227600974.9022927,
        2227600974.9022927
       ],
       "dark_mode": false,
       "default_track_options": {},
       "dom_element_id": "39co6c",
       "height": 0,
       "layout": "IPY_MODEL_d2596b8abbd349f7a2b6200f79bd2741",
       "location": [
        2227407310,
        2230407310,
        2228907310,
        2228907310
       ],
       "options": {},
       "renderer": "",
       "select_mode": false,
       "selection": [],
       "selection_on_alt": false,
       "viewconf": {
        "editable": true,
        "exportViewUrl": "http://higlass.io/api/v1/viewconfs",
        "locationLocks": {
         "locksByViewUid": {},
         "locksDict": {}
        },
        "trackSourceServers": [
         "http://higlass.io/api/v1"
        ],
        "valueScaleLocks": {
         "locksByViewUid": {},
         "locksDict": {}
        },
        "views": [
         {
          "initialXDomain": [
           2227407310,
           2230407310
          ],
          "initialYDomain": [
           2228907310,
           2228907310
          ],
          "layout": {
           "h": 11,
           "w": 12,
           "x": 0,
           "y": 0
          },
          "tracks": {
           "bottom": [],
           "center": [],
           "gallery": [],
           "left": [],
           "right": [],
           "top": [
            {
             "height": 150,
             "options": {
              "backgroundColor": "#eeeeee",
              "colorRange": [
               "white",
               "rgba(245,166,35,1.0)",
               "rgba(208,2,27,1.0)",
               "black"
              ],
              "colorbarPosition": "topRight",
              "labelBottomMargin": 0,
              "labelColor": "black",
              "labelLeftMargin": 0,
              "labelPosition": "bottomRight",
              "labelRightMargin": 0,
              "labelShowAssembly": true,
              "labelShowResolution": true,
              "labelTopMargin": 0,
              "maxZoom": "15",
              "minHeight": 40,
              "minWidth": 100,
              "name": "PCa13848",
              "scaleEndPercent": "1.00000",
              "scaleStartPercent": "0.00000",
              "showMousePosition": true,
              "trackBorderColor": "black",
              "trackBorderWidth": 0
             },
             "resolutions": [
              1000,
              2000,
              3000,
              4000,
              5000,
              10000,
              20000,
              30000,
              40000,
              50000,
              100000,
              200000,
              300000,
              400000,
              500000,
              1000000,
              2000000,
              3000000,
              4000000,
              5000000
             ],
             "server": "http://localhost:42773/api/v1",
             "tilesetUid": "BbAPbcAST1q8oGL-L8pang",
             "transforms": [],
             "type": "horizontal-heatmap",
             "uid": "eY39cbJ3RUuxjdFvsx8jiA"
            },
            {
             "height": 30,
             "options": {
              "color": "#808080",
              "fontIsLeftAligned": false,
              "fontSize": 16,
              "mousePositionColor": "#000000",
              "showMousePosition": true,
              "stroke": "#ffffff"
             },
             "server": "http://localhost:42773/api/v1",
             "tilesetUid": "CMsuiFUyR6yjaqRP3PPALg",
             "type": "horizontal-chromosome-labels",
             "uid": "S4Y2rxMgQ1255grICDU9cQ"
            },
            {
             "height": 150,
             "options": {
              "fontSize": 16,
              "geneAnnotationHeight": 12,
              "geneLabelPosition": "outside",
              "geneStrandSpacing": 4,
              "labelBackgroundColor": "#ffffff",
              "labelBottomMargin": 0,
              "labelColor": "black",
              "labelLeftMargin": 0,
              "labelPosition": "hidden",
              "labelRightMargin": 0,
              "labelTopMargin": 0,
              "minHeight": 24,
              "minusStrandColor": "red",
              "mousePositionColor": "#000000",
              "plusStrandColor": "blue",
              "showMousePosition": true,
              "trackBorderColor": "black",
              "trackBorderWidth": 0
             },
             "server": "http://localhost:42773/api/v1",
             "tilesetUid": "CVJU4sjYTEikHt_g6QxMrw",
             "type": "horizontal-gene-annotations",
             "uid": "XxxvIQOzRXqpuMLrEBkYBA"
            },
            {
             "aggregationModes": {
              "max": {
               "name": "Max",
               "value": "max"
              },
              "mean": {
               "name": "Mean",
               "value": "mean"
              },
              "min": {
               "name": "Min",
               "value": "min"
              },
              "std": {
               "name": "Standard Deviation",
               "value": "std"
              }
             },
             "height": 20,
             "options": {
              "axisLabelFormatting": "scientific",
              "axisPositionHorizontal": "right",
              "labelBackgroundColor": "white",
              "labelBottomMargin": 0,
              "labelColor": "black",
              "labelLeftMargin": 0,
              "labelPosition": "topLeft",
              "labelRightMargin": 0,
              "labelShowAssembly": true,
              "labelShowResolution": false,
              "labelTextOpacity": 0.4,
              "labelTopMargin": 0,
              "lineStrokeColor": "blue",
              "lineStrokeWidth": 1,
              "minHeight": 20,
              "mousePositionColor": "#000000",
              "name": "PCa13848",
              "showMousePosition": true,
              "showTooltip": false,
              "trackBorderColor": "black",
              "trackBorderWidth": 0,
              "valueScaling": "linear"
             },
             "server": "http://localhost:42773/api/v1",
             "tilesetUid": "dQm0dS5DTrueuf3nMKw8xA",
             "type": "horizontal-line",
             "uid": "OSITdIWZTgWufHxijJuBoA"
            },
            {
             "height": 20,
             "options": {
              "alternating": false,
              "annotationHeight": 16,
              "annotationStyle": "box",
              "axisPositionHorizontal": "right",
              "colorEncoding": false,
              "colorEncodingRange": false,
              "colorRange": [
               "#000000",
               "#652537",
               "#bf5458",
               "#fba273",
               "#ffffe0"
              ],
              "fillColor": "blue",
              "labelBottomMargin": 0,
              "labelColor": "black",
              "labelLeftMargin": 0,
              "labelPosition": "hidden",
              "labelRightMargin": 0,
              "labelTopMargin": 0,
              "minHeight": 20,
              "name": "PCa13848 (w = 3)",
              "showMousePosition": true,
              "showTexts": false,
              "trackBorderColor": "black",
              "trackBorderWidth": 0,
              "valueColumn": null
             },
             "server": "http://localhost:42773/api/v1",
             "tilesetUid": "azs9NILhRUerJU1Ffj8jAQ",
             "type": "bedlike",
             "uid": "MMaYxIYmTbGoDCg4t7Y_hg"
            },
            {
             "height": 20,
             "options": {
              "alternating": false,
              "annotationHeight": 16,
              "annotationStyle": "box",
              "axisPositionHorizontal": "right",
              "colorEncoding": false,
              "colorEncodingRange": false,
              "colorRange": [
               "#000000",
               "#652537",
               "#bf5458",
               "#fba273",
               "#ffffe0"
              ],
              "fillColor": "blue",
              "labelBottomMargin": 0,
              "labelColor": "black",
              "labelLeftMargin": 0,
              "labelPosition": "hidden",
              "labelRightMargin": 0,
              "labelTopMargin": 0,
              "minHeight": 20,
              "name": "PCa13848 (w = 10)",
              "showMousePosition": true,
              "showTexts": false,
              "trackBorderColor": "black",
              "trackBorderWidth": 0,
              "valueColumn": null
             },
             "server": "http://localhost:42773/api/v1",
             "tilesetUid": "SNqTcGXFRjeCpwVcuUKiuA",
             "type": "bedlike",
             "uid": "MoqoC7L5S8yybi6WqcAtdg"
            }
           ],
           "whole": []
          },
          "uid": "HsDgMeJrSf6DOYS7DcV6zA"
         }
        ],
        "zoomLocks": {
         "locksByViewUid": {},
         "locksDict": {}
        }
       }
      }
     },
     "685777435690414c8e5fc3fd77ebeab2": {
      "model_module": "higlass-jupyter",
      "model_module_version": "0.4.0",
      "model_name": "HiGlassDisplayModel",
      "state": {
       "_dom_classes": [],
       "_model_data": [],
       "_view_count": null,
       "auth_token": "",
       "bounded": null,
       "cursor_location": [],
       "dark_mode": false,
       "default_track_options": {},
       "dom_element_id": "lb08en",
       "height": 0,
       "layout": "IPY_MODEL_998a65160f154765a279acfa795a7fcb",
       "location": [
        [
         2225407310,
         2228407310,
         2226238344.4827585,
         2227576275.5172415
        ],
        [
         2225407310,
         2228407310,
         2226203861.724138,
         2227610758.275862
        ]
       ],
       "options": {},
       "renderer": "",
       "select_mode": false,
       "selection": [],
       "selection_on_alt": false,
       "viewconf": {
        "editable": true,
        "exportViewUrl": "http://higlass.io/api/v1/viewconfs",
        "locationLocks": {
         "locksByViewUid": {},
         "locksDict": {}
        },
        "trackSourceServers": [
         "http://higlass.io/api/v1"
        ],
        "valueScaleLocks": {
         "locksByViewUid": {},
         "locksDict": {}
        },
        "views": [
         {
          "initialXDomain": [
           2225407310,
           2228407310
          ],
          "initialYDomain": [
           2226238344.4827585,
           2227576275.5172415
          ],
          "layout": {
           "h": 16,
           "w": 12,
           "x": 0,
           "y": 0
          },
          "tracks": {
           "bottom": [],
           "center": [
            {
             "height": 300,
             "options": {
              "backgroundColor": "#eeeeee",
              "colorRange": [
               "white",
               "rgba(245,166,35,1.0)",
               "rgba(208,2,27,1.0)",
               "black"
              ],
              "colorbarBackgroundColor": "#ffffff",
              "colorbarPosition": "topRight",
              "extent": "full",
              "heatmapValueScaling": "log",
              "labelBottomMargin": 0,
              "labelLeftMargin": 0,
              "labelPosition": "bottomRight",
              "labelRightMargin": 0,
              "labelShowAssembly": true,
              "labelShowResolution": true,
              "labelTopMargin": 0,
              "maxZoom": "15",
              "minHeight": 100,
              "minWidth": 100,
              "mousePositionColor": "#000000",
              "name": "PCa13848",
              "scaleEndPercent": "1.00000",
              "scaleStartPercent": "0.00000",
              "showMousePosition": true,
              "showTooltip": false,
              "trackBorderColor": "black",
              "trackBorderWidth": 0
             },
             "resolutions": [
              1000,
              2000,
              3000,
              4000,
              5000,
              10000,
              20000,
              30000,
              40000,
              50000,
              100000,
              200000,
              300000,
              400000,
              500000,
              1000000,
              2000000,
              3000000,
              4000000,
              5000000
             ],
             "server": "http://localhost:50201/api/v1",
             "tilesetUid": "BbAPbcAST1q8oGL-L8pang",
             "transforms": [],
             "type": "heatmap",
             "uid": "Gmv4my58QdW7ge_qdKHHCA"
            }
           ],
           "gallery": [],
           "left": [
            {
             "options": {
              "color": "#777777",
              "fontIsLeftAligned": false,
              "fontSize": 16,
              "minWidth": 35,
              "mousePositionColor": "#000000",
              "showMousePosition": true,
              "stroke": "#FFFFFF"
             },
             "server": "http://localhost:50201/api/v1",
             "tilesetUid": "CMsuiFUyR6yjaqRP3PPALg",
             "type": "vertical-chromosome-labels",
             "uid": "F83cD5fMR9SZl5QUecmlAg",
             "width": 30
            },
            {
             "options": {
              "fontSize": 16,
              "geneAnnoHeight": 12,
              "geneLabelPosition": "outside",
              "geneStrandSpacing": 4,
              "labelBottomMargin": 0,
              "labelColor": "black",
              "labelLeftMargin": 0,
              "labelPosition": "hidden",
              "labelRightMargin": 0,
              "labelTopMargin": 0,
              "minWidth": 24,
              "minusStrandColor": "red",
              "mousePositionColor": "#000000",
              "plusStrandColor": "blue",
              "showMousePosition": true,
              "trackBorderColor": "black",
              "trackBorderWidth": 0
             },
             "server": "http://localhost:50201/api/v1",
             "tilesetUid": "CVJU4sjYTEikHt_g6QxMrw",
             "type": "vertical-gene-annotations",
             "uid": "A8kVGdlAQrOi6-NMifnjew",
             "width": 55
            }
           ],
           "right": [],
           "top": [
            {
             "height": 30,
             "options": {
              "color": "#808080",
              "fontIsLeftAligned": false,
              "fontSize": 16,
              "mousePositionColor": "#000000",
              "showMousePosition": true,
              "stroke": "#ffffff"
             },
             "server": "http://localhost:50201/api/v1",
             "tilesetUid": "CMsuiFUyR6yjaqRP3PPALg",
             "type": "horizontal-chromosome-labels",
             "uid": "S4Y2rxMgQ1255grICDU9cQ"
            },
            {
             "height": 150,
             "options": {
              "fontSize": 16,
              "geneAnnotationHeight": 12,
              "geneLabelPosition": "outside",
              "geneStrandSpacing": 4,
              "labelBackgroundColor": "#ffffff",
              "labelBottomMargin": 0,
              "labelColor": "black",
              "labelLeftMargin": 0,
              "labelPosition": "hidden",
              "labelRightMargin": 0,
              "labelTopMargin": 0,
              "minHeight": 24,
              "minusStrandColor": "red",
              "mousePositionColor": "#000000",
              "plusStrandColor": "blue",
              "showMousePosition": true,
              "trackBorderColor": "black",
              "trackBorderWidth": 0
             },
             "server": "http://localhost:50201/api/v1",
             "tilesetUid": "CVJU4sjYTEikHt_g6QxMrw",
             "type": "horizontal-gene-annotations",
             "uid": "XxxvIQOzRXqpuMLrEBkYBA"
            },
            {
             "height": 20,
             "options": {
              "alternating": false,
              "annotationHeight": 16,
              "annotationStyle": "box",
              "axisPositionHorizontal": "right",
              "colorEncoding": false,
              "colorEncodingRange": false,
              "colorRange": [
               "#000000",
               "#652537",
               "#bf5458",
               "#fba273",
               "#ffffe0"
              ],
              "fillColor": "blue",
              "labelBottomMargin": 0,
              "labelColor": "black",
              "labelLeftMargin": 0,
              "labelPosition": "hidden",
              "labelRightMargin": 0,
              "labelTopMargin": 0,
              "minHeight": 20,
              "name": "PCa13848 (w = 3)",
              "showMousePosition": true,
              "showTexts": false,
              "trackBorderColor": "black",
              "trackBorderWidth": 0,
              "valueColumn": null
             },
             "server": "http://localhost:50201/api/v1",
             "tilesetUid": "azs9NILhRUerJU1Ffj8jAQ",
             "type": "bedlike",
             "uid": "MMaYxIYmTbGoDCg4t7Y_hg"
            }
           ],
           "whole": []
          },
          "uid": "b9qPmvdIRMmOqrWMCL2g7w"
         },
         {
          "initialXDomain": [
           2225407310,
           2228407310
          ],
          "initialYDomain": [
           2226203861.724138,
           2227610758.275862
          ],
          "layout": {
           "h": 12,
           "w": 12,
           "x": 0,
           "y": 16
          },
          "tracks": {
           "bottom": [],
           "center": [
            {
             "height": 300,
             "options": {
              "backgroundColor": "#eeeeee",
              "colorRange": [
               "white",
               "rgba(245,166,35,1.0)",
               "rgba(208,2,27,1.0)",
               "black"
              ],
              "colorbarBackgroundColor": "#ffffff",
              "colorbarPosition": "topRight",
              "extent": "full",
              "heatmapValueScaling": "log",
              "labelBottomMargin": 0,
              "labelLeftMargin": 0,
              "labelPosition": "bottomRight",
              "labelRightMargin": 0,
              "labelShowAssembly": true,
              "labelShowResolution": true,
              "labelTopMargin": 0,
              "maxZoom": "15",
              "minHeight": 100,
              "minWidth": 100,
              "mousePositionColor": "#000000",
              "name": "PCa3023",
              "scaleEndPercent": "1.00000",
              "scaleStartPercent": "0.00000",
              "showMousePosition": true,
              "showTooltip": false,
              "trackBorderColor": "black",
              "trackBorderWidth": 0
             },
             "resolutions": [
              1000,
              2000,
              3000,
              4000,
              5000,
              10000,
              20000,
              30000,
              40000,
              50000,
              100000,
              200000,
              300000,
              400000,
              500000,
              1000000,
              2000000,
              3000000,
              4000000,
              5000000
             ],
             "server": "http://localhost:50201/api/v1",
             "tilesetUid": "NqxpnLYDRuSZPxWAFsO66g",
             "transforms": [],
             "type": "heatmap",
             "uid": "DQV50Mz-TfuJaxNfU9GgsQ"
            }
           ],
           "gallery": [],
           "left": [
            {
             "options": {
              "color": "#777777",
              "fontIsLeftAligned": false,
              "fontSize": 16,
              "minWidth": 35,
              "mousePositionColor": "#000000",
              "showMousePosition": true,
              "stroke": "#FFFFFF"
             },
             "server": "http://localhost:50201/api/v1",
             "tilesetUid": "CMsuiFUyR6yjaqRP3PPALg",
             "type": "vertical-chromosome-labels",
             "uid": "F83cD5fMR9SZl5QUecmlAg",
             "width": 30
            },
            {
             "options": {
              "fontSize": 16,
              "geneAnnoHeight": 12,
              "geneLabelPosition": "outside",
              "geneStrandSpacing": 4,
              "labelBottomMargin": 0,
              "labelColor": "black",
              "labelLeftMargin": 0,
              "labelPosition": "hidden",
              "labelRightMargin": 0,
              "labelTopMargin": 0,
              "minWidth": 24,
              "minusStrandColor": "red",
              "mousePositionColor": "#000000",
              "plusStrandColor": "blue",
              "showMousePosition": true,
              "trackBorderColor": "black",
              "trackBorderWidth": 0
             },
             "server": "http://localhost:50201/api/v1",
             "tilesetUid": "CVJU4sjYTEikHt_g6QxMrw",
             "type": "vertical-gene-annotations",
             "uid": "A8kVGdlAQrOi6-NMifnjew",
             "width": 55
            }
           ],
           "right": [],
           "top": [
            {
             "height": 20,
             "options": {
              "alternating": false,
              "annotationHeight": 16,
              "annotationStyle": "box",
              "axisPositionHorizontal": "right",
              "colorEncoding": false,
              "colorEncodingRange": false,
              "colorRange": [
               "#000000",
               "#652537",
               "#bf5458",
               "#fba273",
               "#ffffe0"
              ],
              "fillColor": "blue",
              "labelBottomMargin": 0,
              "labelColor": "black",
              "labelLeftMargin": 0,
              "labelPosition": "hidden",
              "labelRightMargin": 0,
              "labelTopMargin": 0,
              "minHeight": 20,
              "name": "PCa3023 (w = 3)",
              "showMousePosition": true,
              "showTexts": false,
              "trackBorderColor": "black",
              "trackBorderWidth": 0,
              "valueColumn": null
             },
             "server": "http://localhost:50201/api/v1",
             "tilesetUid": "CB06rym7RsG8lKpY4F49Hw",
             "type": "bedlike",
             "uid": "ISBKTMYWQNOvFgqOJFqMMA"
            }
           ],
           "whole": []
          },
          "uid": "dJtnwHhUQx6PRi30Ov2UHg"
         }
        ],
        "zoomLocks": {
         "locksByViewUid": {},
         "locksDict": {}
        }
       }
      }
     },
     "6d0d7737dbc440738d2dc7b540dd41af": {
      "model_module": "@jupyter-widgets/base",
      "model_module_version": "1.2.0",
      "model_name": "LayoutModel",
      "state": {}
     },
     "706ef49acfef4c17b93017858bcddbea": {
      "model_module": "higlass-jupyter",
      "model_module_version": "0.4.0",
      "model_name": "HiGlassDisplayModel",
      "state": {
       "_dom_classes": [],
       "_model_data": [],
       "_view_count": null,
       "auth_token": "",
       "bounded": null,
       "cursor_location": [],
       "dark_mode": false,
       "default_track_options": {},
       "dom_element_id": "rojlw2",
       "height": 0,
       "layout": "IPY_MODEL_017e87eb993b4472b4fc85564dacca10",
       "location": [
        2940087448.7015705,
        2945155595.298429,
        2942621522,
        2942621522
       ],
       "options": {},
       "renderer": "",
       "select_mode": false,
       "selection": [],
       "selection_on_alt": false,
       "viewconf": {
        "editable": true,
        "exportViewUrl": "http://higlass.io/api/v1/viewconfs",
        "locationLocks": {
         "locksByViewUid": {},
         "locksDict": {}
        },
        "trackSourceServers": [
         "http://higlass.io/api/v1"
        ],
        "valueScaleLocks": {
         "locksByViewUid": {
          "bd-LlC-qR7CeX1BXv4rzMA.EK11NdFCT8imcFVleqsJSA": "LDJo7DtGTDGtjZpicv0hkw",
          "bd-LlC-qR7CeX1BXv4rzMA.Hi_qdQtqS1quPknrA8NNlw": "LDJo7DtGTDGtjZpicv0hkw",
          "bd-LlC-qR7CeX1BXv4rzMA.KhLNQ75kTDOrTewU8Yv4yA": "LDJo7DtGTDGtjZpicv0hkw",
          "bd-LlC-qR7CeX1BXv4rzMA.LacJLpf0QqyYuln92tEnJg": "LDJo7DtGTDGtjZpicv0hkw",
          "bd-LlC-qR7CeX1BXv4rzMA.NjD8ljW2Tu62N89hp8NsyA": "LDJo7DtGTDGtjZpicv0hkw",
          "bd-LlC-qR7CeX1BXv4rzMA.QyZj1DtjRkmWvBx93hIz5w": "LDJo7DtGTDGtjZpicv0hkw",
          "bd-LlC-qR7CeX1BXv4rzMA.S4Y2rxMgQ1255grICDU9cQ": "LDJo7DtGTDGtjZpicv0hkw",
          "bd-LlC-qR7CeX1BXv4rzMA.TEtkw3dxThq_049qEqYZ7Q": "LDJo7DtGTDGtjZpicv0hkw",
          "bd-LlC-qR7CeX1BXv4rzMA.UB_h-SArQ_W9Ch_CE6MsmQ": "LDJo7DtGTDGtjZpicv0hkw",
          "bd-LlC-qR7CeX1BXv4rzMA.UHlJqaIQT5qFNq1nH9EH9Q": "LDJo7DtGTDGtjZpicv0hkw",
          "bd-LlC-qR7CeX1BXv4rzMA.VJ7U4z5oQ2GU8ENcREqOGQ": "LDJo7DtGTDGtjZpicv0hkw",
          "bd-LlC-qR7CeX1BXv4rzMA.XxxvIQOzRXqpuMLrEBkYBA": "LDJo7DtGTDGtjZpicv0hkw",
          "bd-LlC-qR7CeX1BXv4rzMA.YleGk1a2S7WNFFq9MI5KHg": "LDJo7DtGTDGtjZpicv0hkw",
          "bd-LlC-qR7CeX1BXv4rzMA.bGDxm87sSP2k-M4oWr0anA": "LDJo7DtGTDGtjZpicv0hkw",
          "bd-LlC-qR7CeX1BXv4rzMA.bLyjunCLTOyyTxIoDMcsJQ": "LDJo7DtGTDGtjZpicv0hkw",
          "bd-LlC-qR7CeX1BXv4rzMA.cQvjLIgnTr-eGwCa9F3ZNg": "LDJo7DtGTDGtjZpicv0hkw",
          "bd-LlC-qR7CeX1BXv4rzMA.eY39cbJ3RUuxjdFvsx8jiA": "LDJo7DtGTDGtjZpicv0hkw",
          "bd-LlC-qR7CeX1BXv4rzMA.fF8klEb-Squ5DdqdiKj6AQ": "LDJo7DtGTDGtjZpicv0hkw",
          "bd-LlC-qR7CeX1BXv4rzMA.fKv3QoiQSE2Us6mLVJo5ZA": "LDJo7DtGTDGtjZpicv0hkw",
          "bd-LlC-qR7CeX1BXv4rzMA.fjp9rrMVSfyr8DhPs2ZaVg": "LDJo7DtGTDGtjZpicv0hkw"
         },
         "locksDict": {
          "LDJo7DtGTDGtjZpicv0hkw": {
           "bd-LlC-qR7CeX1BXv4rzMA.EK11NdFCT8imcFVleqsJSA": {
            "track": "EK11NdFCT8imcFVleqsJSA",
            "view": "bd-LlC-qR7CeX1BXv4rzMA"
           },
           "bd-LlC-qR7CeX1BXv4rzMA.Hi_qdQtqS1quPknrA8NNlw": {
            "track": "Hi_qdQtqS1quPknrA8NNlw",
            "view": "bd-LlC-qR7CeX1BXv4rzMA"
           },
           "bd-LlC-qR7CeX1BXv4rzMA.KhLNQ75kTDOrTewU8Yv4yA": {
            "track": "KhLNQ75kTDOrTewU8Yv4yA",
            "view": "bd-LlC-qR7CeX1BXv4rzMA"
           },
           "bd-LlC-qR7CeX1BXv4rzMA.LacJLpf0QqyYuln92tEnJg": {
            "track": "LacJLpf0QqyYuln92tEnJg",
            "view": "bd-LlC-qR7CeX1BXv4rzMA"
           },
           "bd-LlC-qR7CeX1BXv4rzMA.NjD8ljW2Tu62N89hp8NsyA": {
            "track": "NjD8ljW2Tu62N89hp8NsyA",
            "view": "bd-LlC-qR7CeX1BXv4rzMA"
           },
           "bd-LlC-qR7CeX1BXv4rzMA.QyZj1DtjRkmWvBx93hIz5w": {
            "track": "QyZj1DtjRkmWvBx93hIz5w",
            "view": "bd-LlC-qR7CeX1BXv4rzMA"
           },
           "bd-LlC-qR7CeX1BXv4rzMA.S4Y2rxMgQ1255grICDU9cQ": {
            "track": "S4Y2rxMgQ1255grICDU9cQ",
            "view": "bd-LlC-qR7CeX1BXv4rzMA"
           },
           "bd-LlC-qR7CeX1BXv4rzMA.TEtkw3dxThq_049qEqYZ7Q": {
            "track": "TEtkw3dxThq_049qEqYZ7Q",
            "view": "bd-LlC-qR7CeX1BXv4rzMA"
           },
           "bd-LlC-qR7CeX1BXv4rzMA.UB_h-SArQ_W9Ch_CE6MsmQ": {
            "track": "UB_h-SArQ_W9Ch_CE6MsmQ",
            "view": "bd-LlC-qR7CeX1BXv4rzMA"
           },
           "bd-LlC-qR7CeX1BXv4rzMA.UHlJqaIQT5qFNq1nH9EH9Q": {
            "track": "UHlJqaIQT5qFNq1nH9EH9Q",
            "view": "bd-LlC-qR7CeX1BXv4rzMA"
           },
           "bd-LlC-qR7CeX1BXv4rzMA.VJ7U4z5oQ2GU8ENcREqOGQ": {
            "track": "VJ7U4z5oQ2GU8ENcREqOGQ",
            "view": "bd-LlC-qR7CeX1BXv4rzMA"
           },
           "bd-LlC-qR7CeX1BXv4rzMA.XxxvIQOzRXqpuMLrEBkYBA": {
            "track": "XxxvIQOzRXqpuMLrEBkYBA",
            "view": "bd-LlC-qR7CeX1BXv4rzMA"
           },
           "bd-LlC-qR7CeX1BXv4rzMA.YleGk1a2S7WNFFq9MI5KHg": {
            "track": "YleGk1a2S7WNFFq9MI5KHg",
            "view": "bd-LlC-qR7CeX1BXv4rzMA"
           },
           "bd-LlC-qR7CeX1BXv4rzMA.bGDxm87sSP2k-M4oWr0anA": {
            "track": "bGDxm87sSP2k-M4oWr0anA",
            "view": "bd-LlC-qR7CeX1BXv4rzMA"
           },
           "bd-LlC-qR7CeX1BXv4rzMA.bLyjunCLTOyyTxIoDMcsJQ": {
            "track": "bLyjunCLTOyyTxIoDMcsJQ",
            "view": "bd-LlC-qR7CeX1BXv4rzMA"
           },
           "bd-LlC-qR7CeX1BXv4rzMA.cQvjLIgnTr-eGwCa9F3ZNg": {
            "track": "cQvjLIgnTr-eGwCa9F3ZNg",
            "view": "bd-LlC-qR7CeX1BXv4rzMA"
           },
           "bd-LlC-qR7CeX1BXv4rzMA.eY39cbJ3RUuxjdFvsx8jiA": {
            "track": "eY39cbJ3RUuxjdFvsx8jiA",
            "view": "bd-LlC-qR7CeX1BXv4rzMA"
           },
           "bd-LlC-qR7CeX1BXv4rzMA.fF8klEb-Squ5DdqdiKj6AQ": {
            "track": "fF8klEb-Squ5DdqdiKj6AQ",
            "view": "bd-LlC-qR7CeX1BXv4rzMA"
           },
           "bd-LlC-qR7CeX1BXv4rzMA.fKv3QoiQSE2Us6mLVJo5ZA": {
            "track": "fKv3QoiQSE2Us6mLVJo5ZA",
            "view": "bd-LlC-qR7CeX1BXv4rzMA"
           },
           "bd-LlC-qR7CeX1BXv4rzMA.fjp9rrMVSfyr8DhPs2ZaVg": {
            "track": "fjp9rrMVSfyr8DhPs2ZaVg",
            "view": "bd-LlC-qR7CeX1BXv4rzMA"
           },
           "uid": "LDJo7DtGTDGtjZpicv0hkw"
          }
         }
        },
        "views": [
         {
          "initialXDomain": [
           2940087448.7015705,
           2945155595.298429
          ],
          "initialYDomain": [
           2942621522,
           2942621522
          ],
          "layout": {
           "h": 73,
           "w": 12,
           "x": 0,
           "y": 0
          },
          "tracks": {
           "bottom": [],
           "center": [],
           "gallery": [],
           "left": [],
           "right": [],
           "top": [
            {
             "height": 30,
             "options": {
              "color": "#808080",
              "fontIsLeftAligned": false,
              "fontSize": 16,
              "mousePositionColor": "#000000",
              "showMousePosition": true,
              "stroke": "#ffffff"
             },
             "server": "http://localhost:42915/api/v1",
             "tilesetUid": "CMsuiFUyR6yjaqRP3PPALg",
             "type": "horizontal-chromosome-labels",
             "uid": "S4Y2rxMgQ1255grICDU9cQ"
            },
            {
             "height": 150,
             "options": {
              "fontSize": 16,
              "geneAnnotationHeight": 12,
              "geneLabelPosition": "outside",
              "geneStrandSpacing": 4,
              "labelBackgroundColor": "#ffffff",
              "labelBottomMargin": 0,
              "labelColor": "black",
              "labelLeftMargin": 0,
              "labelPosition": "hidden",
              "labelRightMargin": 0,
              "labelTopMargin": 0,
              "minHeight": 24,
              "minusStrandColor": "red",
              "mousePositionColor": "#000000",
              "plusStrandColor": "blue",
              "showMousePosition": true,
              "trackBorderColor": "black",
              "trackBorderWidth": 0
             },
             "server": "http://localhost:42915/api/v1",
             "tilesetUid": "CVJU4sjYTEikHt_g6QxMrw",
             "type": "horizontal-gene-annotations",
             "uid": "XxxvIQOzRXqpuMLrEBkYBA"
            },
            {
             "height": 150,
             "options": {
              "backgroundColor": "#eeeeee",
              "colorRange": [
               "white",
               "rgba(245,166,35,1.0)",
               "rgba(208,2,27,1.0)",
               "black"
              ],
              "colorbarPosition": "topRight",
              "labelBottomMargin": 0,
              "labelColor": "black",
              "labelLeftMargin": 0,
              "labelPosition": "bottomRight",
              "labelRightMargin": 0,
              "labelShowAssembly": true,
              "labelShowResolution": true,
              "labelTopMargin": 0,
              "maxZoom": "15",
              "minHeight": 40,
              "minWidth": 100,
              "name": "PCa13266",
              "showMousePosition": true,
              "trackBorderColor": "black",
              "trackBorderWidth": 0
             },
             "server": "http://localhost:42915/api/v1",
             "tilesetUid": "CQ4OqxHHRpWqW0bWnR_95g",
             "type": "horizontal-heatmap",
             "uid": "NjD8ljW2Tu62N89hp8NsyA"
            },
            {
             "height": 150,
             "options": {
              "backgroundColor": "#eeeeee",
              "colorRange": [
               "white",
               "rgba(245,166,35,1.0)",
               "rgba(208,2,27,1.0)",
               "black"
              ],
              "colorbarPosition": "topRight",
              "labelBottomMargin": 0,
              "labelColor": "black",
              "labelLeftMargin": 0,
              "labelPosition": "bottomRight",
              "labelRightMargin": 0,
              "labelShowAssembly": true,
              "labelShowResolution": true,
              "labelTopMargin": 0,
              "maxZoom": "15",
              "minHeight": 40,
              "minWidth": 100,
              "name": "PCa13848",
              "showMousePosition": true,
              "trackBorderColor": "black",
              "trackBorderWidth": 0
             },
             "server": "http://localhost:42915/api/v1",
             "tilesetUid": "BbAPbcAST1q8oGL-L8pang",
             "type": "horizontal-heatmap",
             "uid": "eY39cbJ3RUuxjdFvsx8jiA"
            },
            {
             "height": 150,
             "options": {
              "backgroundColor": "#eeeeee",
              "colorRange": [
               "white",
               "rgba(245,166,35,1.0)",
               "rgba(208,2,27,1.0)",
               "black"
              ],
              "colorbarPosition": "topRight",
              "labelBottomMargin": 0,
              "labelColor": "black",
              "labelLeftMargin": 0,
              "labelPosition": "bottomRight",
              "labelRightMargin": 0,
              "labelShowAssembly": true,
              "labelShowResolution": true,
              "labelTopMargin": 0,
              "maxZoom": "15",
              "minHeight": 40,
              "minWidth": 100,
              "name": "PCa14121",
              "showMousePosition": true,
              "trackBorderColor": "black",
              "trackBorderWidth": 0
             },
             "server": "http://localhost:42915/api/v1",
             "tilesetUid": "Wmj7v367QziMRlWFMWdzWw",
             "type": "horizontal-heatmap",
             "uid": "EK11NdFCT8imcFVleqsJSA"
            },
            {
             "height": 150,
             "options": {
              "backgroundColor": "#eeeeee",
              "colorRange": [
               "white",
               "rgba(245,166,35,1.0)",
               "rgba(208,2,27,1.0)",
               "black"
              ],
              "colorbarPosition": "topRight",
              "labelBottomMargin": 0,
              "labelColor": "black",
              "labelLeftMargin": 0,
              "labelPosition": "bottomRight",
              "labelRightMargin": 0,
              "labelShowAssembly": true,
              "labelShowResolution": true,
              "labelTopMargin": 0,
              "maxZoom": "15",
              "minHeight": 40,
              "minWidth": 100,
              "name": "PCa19121",
              "showMousePosition": true,
              "trackBorderColor": "black",
              "trackBorderWidth": 0
             },
             "server": "http://localhost:42915/api/v1",
             "tilesetUid": "R035sMOYSceQf26wr5lm7w",
             "type": "horizontal-heatmap",
             "uid": "Hi_qdQtqS1quPknrA8NNlw"
            },
            {
             "height": 150,
             "options": {
              "backgroundColor": "#eeeeee",
              "colorRange": [
               "white",
               "rgba(245,166,35,1.0)",
               "rgba(208,2,27,1.0)",
               "black"
              ],
              "colorbarPosition": "topRight",
              "labelBottomMargin": 0,
              "labelColor": "black",
              "labelLeftMargin": 0,
              "labelPosition": "bottomRight",
              "labelRightMargin": 0,
              "labelShowAssembly": true,
              "labelShowResolution": true,
              "labelTopMargin": 0,
              "maxZoom": "15",
              "minHeight": 40,
              "minWidth": 100,
              "name": "PCa3023",
              "showMousePosition": true,
              "trackBorderColor": "black",
              "trackBorderWidth": 0
             },
             "server": "http://localhost:42915/api/v1",
             "tilesetUid": "NqxpnLYDRuSZPxWAFsO66g",
             "type": "horizontal-heatmap",
             "uid": "VJ7U4z5oQ2GU8ENcREqOGQ"
            },
            {
             "height": 150,
             "options": {
              "backgroundColor": "#eeeeee",
              "colorRange": [
               "white",
               "rgba(245,166,35,1.0)",
               "rgba(208,2,27,1.0)",
               "black"
              ],
              "colorbarPosition": "topRight",
              "labelBottomMargin": 0,
              "labelColor": "black",
              "labelLeftMargin": 0,
              "labelPosition": "bottomRight",
              "labelRightMargin": 0,
              "labelShowAssembly": true,
              "labelShowResolution": true,
              "labelTopMargin": 0,
              "maxZoom": "15",
              "minHeight": 40,
              "minWidth": 100,
              "name": "PCa33173",
              "showMousePosition": true,
              "trackBorderColor": "black",
              "trackBorderWidth": 0
             },
             "server": "http://localhost:42915/api/v1",
             "tilesetUid": "R_2HBkduTYCenDUWv5LMQA",
             "type": "horizontal-heatmap",
             "uid": "QyZj1DtjRkmWvBx93hIz5w"
            },
            {
             "height": 150,
             "options": {
              "backgroundColor": "#eeeeee",
              "colorRange": [
               "white",
               "rgba(245,166,35,1.0)",
               "rgba(208,2,27,1.0)",
               "black"
              ],
              "colorbarPosition": "topRight",
              "labelBottomMargin": 0,
              "labelColor": "black",
              "labelLeftMargin": 0,
              "labelPosition": "bottomRight",
              "labelRightMargin": 0,
              "labelShowAssembly": true,
              "labelShowResolution": true,
              "labelTopMargin": 0,
              "maxZoom": "15",
              "minHeight": 40,
              "minWidth": 100,
              "name": "PCa40507",
              "showMousePosition": true,
              "trackBorderColor": "black",
              "trackBorderWidth": 0
             },
             "server": "http://localhost:42915/api/v1",
             "tilesetUid": "DYAWQOsYSg-OQjXnT5UEMQ",
             "type": "horizontal-heatmap",
             "uid": "UHlJqaIQT5qFNq1nH9EH9Q"
            },
            {
             "height": 150,
             "options": {
              "backgroundColor": "#eeeeee",
              "colorRange": [
               "white",
               "rgba(245,166,35,1.0)",
               "rgba(208,2,27,1.0)",
               "black"
              ],
              "colorbarPosition": "topRight",
              "labelBottomMargin": 0,
              "labelColor": "black",
              "labelLeftMargin": 0,
              "labelPosition": "bottomRight",
              "labelRightMargin": 0,
              "labelShowAssembly": true,
              "labelShowResolution": true,
              "labelTopMargin": 0,
              "maxZoom": "15",
              "minHeight": 40,
              "minWidth": 100,
              "name": "PCa51852",
              "showMousePosition": true,
              "trackBorderColor": "black",
              "trackBorderWidth": 0
             },
             "server": "http://localhost:42915/api/v1",
             "tilesetUid": "U9Ex8WMEQWaEs2dQVec0yg",
             "type": "horizontal-heatmap",
             "uid": "TEtkw3dxThq_049qEqYZ7Q"
            },
            {
             "height": 150,
             "options": {
              "backgroundColor": "#eeeeee",
              "colorRange": [
               "white",
               "rgba(245,166,35,1.0)",
               "rgba(208,2,27,1.0)",
               "black"
              ],
              "colorbarPosition": "topRight",
              "labelBottomMargin": 0,
              "labelColor": "black",
              "labelLeftMargin": 0,
              "labelPosition": "bottomRight",
              "labelRightMargin": 0,
              "labelShowAssembly": true,
              "labelShowResolution": true,
              "labelTopMargin": 0,
              "maxZoom": "15",
              "minHeight": 40,
              "minWidth": 100,
              "name": "PCa53687",
              "showMousePosition": true,
              "trackBorderColor": "black",
              "trackBorderWidth": 0
             },
             "server": "http://localhost:42915/api/v1",
             "tilesetUid": "OCA9e7vPQ4ymmJeXUBRdhA",
             "type": "horizontal-heatmap",
             "uid": "cQvjLIgnTr-eGwCa9F3ZNg"
            },
            {
             "height": 150,
             "options": {
              "backgroundColor": "#eeeeee",
              "colorRange": [
               "white",
               "rgba(245,166,35,1.0)",
               "rgba(208,2,27,1.0)",
               "black"
              ],
              "colorbarPosition": "topRight",
              "labelBottomMargin": 0,
              "labelColor": "black",
              "labelLeftMargin": 0,
              "labelPosition": "bottomRight",
              "labelRightMargin": 0,
              "labelShowAssembly": true,
              "labelShowResolution": true,
              "labelTopMargin": 0,
              "maxZoom": "15",
              "minHeight": 40,
              "minWidth": 100,
              "name": "PCa56413",
              "showMousePosition": true,
              "trackBorderColor": "black",
              "trackBorderWidth": 0
             },
             "server": "http://localhost:42915/api/v1",
             "tilesetUid": "Ki4mnmMoSKy5gyB_Wkyh3w",
             "type": "horizontal-heatmap",
             "uid": "bLyjunCLTOyyTxIoDMcsJQ"
            },
            {
             "height": 150,
             "options": {
              "backgroundColor": "#eeeeee",
              "colorRange": [
               "white",
               "rgba(245,166,35,1.0)",
               "rgba(208,2,27,1.0)",
               "black"
              ],
              "colorbarPosition": "topRight",
              "labelBottomMargin": 0,
              "labelColor": "black",
              "labelLeftMargin": 0,
              "labelPosition": "bottomRight",
              "labelRightMargin": 0,
              "labelShowAssembly": true,
              "labelShowResolution": true,
              "labelTopMargin": 0,
              "maxZoom": "15",
              "minHeight": 40,
              "minWidth": 100,
              "name": "PCa57054",
              "showMousePosition": true,
              "trackBorderColor": "black",
              "trackBorderWidth": 0
             },
             "server": "http://localhost:42915/api/v1",
             "tilesetUid": "JJvSTGq1TsqR6Mu-yB3yww",
             "type": "horizontal-heatmap",
             "uid": "UB_h-SArQ_W9Ch_CE6MsmQ"
            },
            {
             "height": 150,
             "options": {
              "backgroundColor": "#eeeeee",
              "colorRange": [
               "white",
               "rgba(245,166,35,1.0)",
               "rgba(208,2,27,1.0)",
               "black"
              ],
              "colorbarPosition": "topRight",
              "labelBottomMargin": 0,
              "labelColor": "black",
              "labelLeftMargin": 0,
              "labelPosition": "bottomRight",
              "labelRightMargin": 0,
              "labelShowAssembly": true,
              "labelShowResolution": true,
              "labelTopMargin": 0,
              "maxZoom": "15",
              "minHeight": 40,
              "minWidth": 100,
              "name": "PCa57294",
              "showMousePosition": true,
              "trackBorderColor": "black",
              "trackBorderWidth": 0
             },
             "server": "http://localhost:42915/api/v1",
             "tilesetUid": "V4H5L6FvSGmQrHyurUus6w",
             "type": "horizontal-heatmap",
             "uid": "bGDxm87sSP2k-M4oWr0anA"
            },
            {
             "height": 150,
             "options": {
              "backgroundColor": "#eeeeee",
              "colorRange": [
               "white",
               "rgba(245,166,35,1.0)",
               "rgba(208,2,27,1.0)",
               "black"
              ],
              "colorbarPosition": "topRight",
              "labelBottomMargin": 0,
              "labelColor": "black",
              "labelLeftMargin": 0,
              "labelPosition": "bottomRight",
              "labelRightMargin": 0,
              "labelShowAssembly": true,
              "labelShowResolution": true,
              "labelTopMargin": 0,
              "maxZoom": "15",
              "minHeight": 40,
              "minWidth": 100,
              "name": "PCa58215",
              "showMousePosition": true,
              "trackBorderColor": "black",
              "trackBorderWidth": 0
             },
             "server": "http://localhost:42915/api/v1",
             "tilesetUid": "LSYUjN0DR_um2PfQ4RYeEA",
             "type": "horizontal-heatmap",
             "uid": "LacJLpf0QqyYuln92tEnJg"
            },
            {
             "height": 150,
             "options": {
              "backgroundColor": "#eeeeee",
              "colorRange": [
               "white",
               "rgba(245,166,35,1.0)",
               "rgba(208,2,27,1.0)",
               "black"
              ],
              "colorbarPosition": "topRight",
              "labelBottomMargin": 0,
              "labelColor": "black",
              "labelLeftMargin": 0,
              "labelPosition": "bottomRight",
              "labelRightMargin": 0,
              "labelShowAssembly": true,
              "labelShowResolution": true,
              "labelTopMargin": 0,
              "maxZoom": "15",
              "minHeight": 40,
              "minWidth": 100,
              "name": "Benign-Prostate-1648133",
              "showMousePosition": true,
              "trackBorderColor": "black",
              "trackBorderWidth": 0
             },
             "server": "http://localhost:42915/api/v1",
             "tilesetUid": "bp7qe5hlTuWnWUXfC3eABQ",
             "type": "horizontal-heatmap",
             "uid": "fF8klEb-Squ5DdqdiKj6AQ"
            },
            {
             "height": 150,
             "options": {
              "backgroundColor": "#eeeeee",
              "colorRange": [
               "white",
               "rgba(245,166,35,1.0)",
               "rgba(208,2,27,1.0)",
               "black"
              ],
              "colorbarPosition": "topRight",
              "labelBottomMargin": 0,
              "labelColor": "black",
              "labelLeftMargin": 0,
              "labelPosition": "bottomRight",
              "labelRightMargin": 0,
              "labelShowAssembly": true,
              "labelShowResolution": true,
              "labelTopMargin": 0,
              "maxZoom": "15",
              "minHeight": 40,
              "minWidth": 100,
              "name": "Benign-Prostate-1595983",
              "showMousePosition": true,
              "trackBorderColor": "black",
              "trackBorderWidth": 0
             },
             "server": "http://localhost:42915/api/v1",
             "tilesetUid": "FivjvBeoRAmI3tggwMLWDw",
             "type": "horizontal-heatmap",
             "uid": "fjp9rrMVSfyr8DhPs2ZaVg"
            },
            {
             "height": 150,
             "options": {
              "backgroundColor": "#eeeeee",
              "colorRange": [
               "white",
               "rgba(245,166,35,1.0)",
               "rgba(208,2,27,1.0)",
               "black"
              ],
              "colorbarPosition": "topRight",
              "labelBottomMargin": 0,
              "labelColor": "black",
              "labelLeftMargin": 0,
              "labelPosition": "bottomRight",
              "labelRightMargin": 0,
              "labelShowAssembly": true,
              "labelShowResolution": true,
              "labelTopMargin": 0,
              "maxZoom": "15",
              "minHeight": 40,
              "minWidth": 100,
              "name": "Benign-Prostate-3330581",
              "showMousePosition": true,
              "trackBorderColor": "black",
              "trackBorderWidth": 0
             },
             "server": "http://localhost:42915/api/v1",
             "tilesetUid": "JaVFVbK0SNmMG_PFeSik9A",
             "type": "horizontal-heatmap",
             "uid": "fKv3QoiQSE2Us6mLVJo5ZA"
            },
            {
             "height": 150,
             "options": {
              "backgroundColor": "#eeeeee",
              "colorRange": [
               "white",
               "rgba(245,166,35,1.0)",
               "rgba(208,2,27,1.0)",
               "black"
              ],
              "colorbarPosition": "topRight",
              "labelBottomMargin": 0,
              "labelColor": "black",
              "labelLeftMargin": 0,
              "labelPosition": "bottomRight",
              "labelRightMargin": 0,
              "labelShowAssembly": true,
              "labelShowResolution": true,
              "labelTopMargin": 0,
              "maxZoom": "15",
              "minHeight": 40,
              "minWidth": 100,
              "name": "Benign-Prostate-1664855",
              "showMousePosition": true,
              "trackBorderColor": "black",
              "trackBorderWidth": 0
             },
             "server": "http://localhost:42915/api/v1",
             "tilesetUid": "XsWytOnMRCuKsWeUoKFDlg",
             "type": "horizontal-heatmap",
             "uid": "YleGk1a2S7WNFFq9MI5KHg"
            },
            {
             "height": 150,
             "options": {
              "backgroundColor": "#eeeeee",
              "colorRange": [
               "white",
               "rgba(245,166,35,1.0)",
               "rgba(208,2,27,1.0)",
               "black"
              ],
              "colorbarPosition": "topRight",
              "labelBottomMargin": 0,
              "labelColor": "black",
              "labelLeftMargin": 0,
              "labelPosition": "bottomRight",
              "labelRightMargin": 0,
              "labelShowAssembly": true,
              "labelShowResolution": true,
              "labelTopMargin": 0,
              "maxZoom": "15",
              "minHeight": 40,
              "minWidth": 100,
              "name": "Benign-Prostate-3320942",
              "showMousePosition": true,
              "trackBorderColor": "black",
              "trackBorderWidth": 0
             },
             "server": "http://localhost:42915/api/v1",
             "tilesetUid": "fCv_-cLUR7q9w16JwEdX9g",
             "type": "horizontal-heatmap",
             "uid": "KhLNQ75kTDOrTewU8Yv4yA"
            }
           ],
           "whole": []
          },
          "uid": "bd-LlC-qR7CeX1BXv4rzMA"
         }
        ],
        "zoomLocks": {
         "locksByViewUid": {},
         "locksDict": {}
        }
       }
      }
     },
     "998a65160f154765a279acfa795a7fcb": {
      "model_module": "@jupyter-widgets/base",
      "model_module_version": "1.2.0",
      "model_name": "LayoutModel",
      "state": {}
     },
     "9ae4c6210e8c45688e4fd4f67a0fdc55": {
      "model_module": "higlass-jupyter",
      "model_module_version": "0.4.0",
      "model_name": "HiGlassDisplayModel",
      "state": {
       "_dom_classes": [],
       "_model_data": [],
       "_view_count": null,
       "auth_token": "",
       "bounded": null,
       "cursor_location": [],
       "dark_mode": false,
       "default_track_options": {},
       "dom_element_id": "yixhqx",
       "height": 0,
       "layout": "IPY_MODEL_3591ffef5dd14fd39ff93421f9b53e59",
       "location": [
        2009337479.2827225,
        2019247866.7172775,
        2014292673,
        2014292673
       ],
       "options": {},
       "renderer": "",
       "select_mode": false,
       "selection": [],
       "selection_on_alt": false,
       "viewconf": {
        "editable": true,
        "exportViewUrl": "http://higlass.io/api/v1/viewconfs",
        "locationLocks": {
         "locksByViewUid": {},
         "locksDict": {}
        },
        "trackSourceServers": [
         "http://higlass.io/api/v1"
        ],
        "valueScaleLocks": {
         "locksByViewUid": {},
         "locksDict": {}
        },
        "views": [
         {
          "initialXDomain": [
           2009337479.2827225,
           2019247866.7172775
          ],
          "initialYDomain": [
           2014292673,
           2014292673
          ],
          "layout": {
           "h": 73,
           "w": 12,
           "x": 0,
           "y": 0
          },
          "tracks": {
           "bottom": [],
           "center": [],
           "gallery": [],
           "left": [],
           "right": [],
           "top": [
            {
             "height": 30,
             "options": {
              "color": "#808080",
              "fontIsLeftAligned": false,
              "fontSize": 16,
              "mousePositionColor": "#000000",
              "showMousePosition": true,
              "stroke": "#ffffff"
             },
             "server": "http://localhost:58053/api/v1",
             "tilesetUid": "CMsuiFUyR6yjaqRP3PPALg",
             "type": "horizontal-chromosome-labels",
             "uid": "S4Y2rxMgQ1255grICDU9cQ"
            },
            {
             "height": 150,
             "options": {
              "fontSize": 16,
              "geneAnnotationHeight": 12,
              "geneLabelPosition": "outside",
              "geneStrandSpacing": 4,
              "labelBackgroundColor": "#ffffff",
              "labelBottomMargin": 0,
              "labelColor": "black",
              "labelLeftMargin": 0,
              "labelPosition": "hidden",
              "labelRightMargin": 0,
              "labelTopMargin": 0,
              "minHeight": 24,
              "minusStrandColor": "red",
              "mousePositionColor": "#000000",
              "plusStrandColor": "blue",
              "showMousePosition": true,
              "trackBorderColor": "black",
              "trackBorderWidth": 0
             },
             "server": "http://localhost:58053/api/v1",
             "tilesetUid": "CVJU4sjYTEikHt_g6QxMrw",
             "type": "horizontal-gene-annotations",
             "uid": "XxxvIQOzRXqpuMLrEBkYBA"
            },
            {
             "height": 150,
             "options": {
              "backgroundColor": "#eeeeee",
              "colorRange": [
               "white",
               "rgba(245,166,35,1.0)",
               "rgba(208,2,27,1.0)",
               "black"
              ],
              "colorbarPosition": "topRight",
              "labelBottomMargin": 0,
              "labelColor": "black",
              "labelLeftMargin": 0,
              "labelPosition": "bottomRight",
              "labelRightMargin": 0,
              "labelShowAssembly": true,
              "labelShowResolution": true,
              "labelTopMargin": 0,
              "maxZoom": "15",
              "minHeight": 40,
              "minWidth": 100,
              "name": "PCa13266",
              "showMousePosition": true,
              "trackBorderColor": "black",
              "trackBorderWidth": 0
             },
             "server": "http://localhost:58053/api/v1",
             "tilesetUid": "CQ4OqxHHRpWqW0bWnR_95g",
             "type": "horizontal-heatmap",
             "uid": "NjD8ljW2Tu62N89hp8NsyA"
            },
            {
             "height": 150,
             "options": {
              "backgroundColor": "#eeeeee",
              "colorRange": [
               "white",
               "rgba(245,166,35,1.0)",
               "rgba(208,2,27,1.0)",
               "black"
              ],
              "colorbarPosition": "topRight",
              "labelBottomMargin": 0,
              "labelColor": "black",
              "labelLeftMargin": 0,
              "labelPosition": "bottomRight",
              "labelRightMargin": 0,
              "labelShowAssembly": true,
              "labelShowResolution": true,
              "labelTopMargin": 0,
              "maxZoom": "15",
              "minHeight": 40,
              "minWidth": 100,
              "name": "PCa13848",
              "showMousePosition": true,
              "trackBorderColor": "black",
              "trackBorderWidth": 0
             },
             "server": "http://localhost:58053/api/v1",
             "tilesetUid": "BbAPbcAST1q8oGL-L8pang",
             "type": "horizontal-heatmap",
             "uid": "eY39cbJ3RUuxjdFvsx8jiA"
            },
            {
             "height": 150,
             "options": {
              "backgroundColor": "#eeeeee",
              "colorRange": [
               "white",
               "rgba(245,166,35,1.0)",
               "rgba(208,2,27,1.0)",
               "black"
              ],
              "colorbarPosition": "topRight",
              "labelBottomMargin": 0,
              "labelColor": "black",
              "labelLeftMargin": 0,
              "labelPosition": "bottomRight",
              "labelRightMargin": 0,
              "labelShowAssembly": true,
              "labelShowResolution": true,
              "labelTopMargin": 0,
              "maxZoom": "15",
              "minHeight": 40,
              "minWidth": 100,
              "name": "PCa14121",
              "showMousePosition": true,
              "trackBorderColor": "black",
              "trackBorderWidth": 0
             },
             "server": "http://localhost:58053/api/v1",
             "tilesetUid": "Wmj7v367QziMRlWFMWdzWw",
             "type": "horizontal-heatmap",
             "uid": "EK11NdFCT8imcFVleqsJSA"
            },
            {
             "height": 150,
             "options": {
              "backgroundColor": "#eeeeee",
              "colorRange": [
               "white",
               "rgba(245,166,35,1.0)",
               "rgba(208,2,27,1.0)",
               "black"
              ],
              "colorbarPosition": "topRight",
              "labelBottomMargin": 0,
              "labelColor": "black",
              "labelLeftMargin": 0,
              "labelPosition": "bottomRight",
              "labelRightMargin": 0,
              "labelShowAssembly": true,
              "labelShowResolution": true,
              "labelTopMargin": 0,
              "maxZoom": "15",
              "minHeight": 40,
              "minWidth": 100,
              "name": "PCa19121",
              "showMousePosition": true,
              "trackBorderColor": "black",
              "trackBorderWidth": 0
             },
             "server": "http://localhost:58053/api/v1",
             "tilesetUid": "R035sMOYSceQf26wr5lm7w",
             "type": "horizontal-heatmap",
             "uid": "Hi_qdQtqS1quPknrA8NNlw"
            },
            {
             "height": 150,
             "options": {
              "backgroundColor": "#eeeeee",
              "colorRange": [
               "white",
               "rgba(245,166,35,1.0)",
               "rgba(208,2,27,1.0)",
               "black"
              ],
              "colorbarPosition": "topRight",
              "labelBottomMargin": 0,
              "labelColor": "black",
              "labelLeftMargin": 0,
              "labelPosition": "bottomRight",
              "labelRightMargin": 0,
              "labelShowAssembly": true,
              "labelShowResolution": true,
              "labelTopMargin": 0,
              "maxZoom": "15",
              "minHeight": 40,
              "minWidth": 100,
              "name": "PCa3023",
              "showMousePosition": true,
              "trackBorderColor": "black",
              "trackBorderWidth": 0
             },
             "server": "http://localhost:58053/api/v1",
             "tilesetUid": "NqxpnLYDRuSZPxWAFsO66g",
             "type": "horizontal-heatmap",
             "uid": "VJ7U4z5oQ2GU8ENcREqOGQ"
            },
            {
             "height": 150,
             "options": {
              "backgroundColor": "#eeeeee",
              "colorRange": [
               "white",
               "rgba(245,166,35,1.0)",
               "rgba(208,2,27,1.0)",
               "black"
              ],
              "colorbarPosition": "topRight",
              "labelBottomMargin": 0,
              "labelColor": "black",
              "labelLeftMargin": 0,
              "labelPosition": "bottomRight",
              "labelRightMargin": 0,
              "labelShowAssembly": true,
              "labelShowResolution": true,
              "labelTopMargin": 0,
              "maxZoom": "15",
              "minHeight": 40,
              "minWidth": 100,
              "name": "PCa33173",
              "showMousePosition": true,
              "trackBorderColor": "black",
              "trackBorderWidth": 0
             },
             "server": "http://localhost:58053/api/v1",
             "tilesetUid": "R_2HBkduTYCenDUWv5LMQA",
             "type": "horizontal-heatmap",
             "uid": "QyZj1DtjRkmWvBx93hIz5w"
            },
            {
             "height": 150,
             "options": {
              "backgroundColor": "#eeeeee",
              "colorRange": [
               "white",
               "rgba(245,166,35,1.0)",
               "rgba(208,2,27,1.0)",
               "black"
              ],
              "colorbarPosition": "topRight",
              "labelBottomMargin": 0,
              "labelColor": "black",
              "labelLeftMargin": 0,
              "labelPosition": "bottomRight",
              "labelRightMargin": 0,
              "labelShowAssembly": true,
              "labelShowResolution": true,
              "labelTopMargin": 0,
              "maxZoom": "15",
              "minHeight": 40,
              "minWidth": 100,
              "name": "PCa40507",
              "showMousePosition": true,
              "trackBorderColor": "black",
              "trackBorderWidth": 0
             },
             "server": "http://localhost:58053/api/v1",
             "tilesetUid": "DYAWQOsYSg-OQjXnT5UEMQ",
             "type": "horizontal-heatmap",
             "uid": "UHlJqaIQT5qFNq1nH9EH9Q"
            },
            {
             "height": 150,
             "options": {
              "backgroundColor": "#eeeeee",
              "colorRange": [
               "white",
               "rgba(245,166,35,1.0)",
               "rgba(208,2,27,1.0)",
               "black"
              ],
              "colorbarPosition": "topRight",
              "labelBottomMargin": 0,
              "labelColor": "black",
              "labelLeftMargin": 0,
              "labelPosition": "bottomRight",
              "labelRightMargin": 0,
              "labelShowAssembly": true,
              "labelShowResolution": true,
              "labelTopMargin": 0,
              "maxZoom": "15",
              "minHeight": 40,
              "minWidth": 100,
              "name": "PCa51852",
              "showMousePosition": true,
              "trackBorderColor": "black",
              "trackBorderWidth": 0
             },
             "server": "http://localhost:58053/api/v1",
             "tilesetUid": "U9Ex8WMEQWaEs2dQVec0yg",
             "type": "horizontal-heatmap",
             "uid": "TEtkw3dxThq_049qEqYZ7Q"
            },
            {
             "height": 150,
             "options": {
              "backgroundColor": "#eeeeee",
              "colorRange": [
               "white",
               "rgba(245,166,35,1.0)",
               "rgba(208,2,27,1.0)",
               "black"
              ],
              "colorbarPosition": "topRight",
              "labelBottomMargin": 0,
              "labelColor": "black",
              "labelLeftMargin": 0,
              "labelPosition": "bottomRight",
              "labelRightMargin": 0,
              "labelShowAssembly": true,
              "labelShowResolution": true,
              "labelTopMargin": 0,
              "maxZoom": "15",
              "minHeight": 40,
              "minWidth": 100,
              "name": "PCa53687",
              "showMousePosition": true,
              "trackBorderColor": "black",
              "trackBorderWidth": 0
             },
             "server": "http://localhost:58053/api/v1",
             "tilesetUid": "OCA9e7vPQ4ymmJeXUBRdhA",
             "type": "horizontal-heatmap",
             "uid": "cQvjLIgnTr-eGwCa9F3ZNg"
            },
            {
             "height": 150,
             "options": {
              "backgroundColor": "#eeeeee",
              "colorRange": [
               "white",
               "rgba(245,166,35,1.0)",
               "rgba(208,2,27,1.0)",
               "black"
              ],
              "colorbarPosition": "topRight",
              "labelBottomMargin": 0,
              "labelColor": "black",
              "labelLeftMargin": 0,
              "labelPosition": "bottomRight",
              "labelRightMargin": 0,
              "labelShowAssembly": true,
              "labelShowResolution": true,
              "labelTopMargin": 0,
              "maxZoom": "15",
              "minHeight": 40,
              "minWidth": 100,
              "name": "PCa56413",
              "showMousePosition": true,
              "trackBorderColor": "black",
              "trackBorderWidth": 0
             },
             "server": "http://localhost:58053/api/v1",
             "tilesetUid": "Ki4mnmMoSKy5gyB_Wkyh3w",
             "type": "horizontal-heatmap",
             "uid": "bLyjunCLTOyyTxIoDMcsJQ"
            },
            {
             "height": 150,
             "options": {
              "backgroundColor": "#eeeeee",
              "colorRange": [
               "white",
               "rgba(245,166,35,1.0)",
               "rgba(208,2,27,1.0)",
               "black"
              ],
              "colorbarPosition": "topRight",
              "labelBottomMargin": 0,
              "labelColor": "black",
              "labelLeftMargin": 0,
              "labelPosition": "bottomRight",
              "labelRightMargin": 0,
              "labelShowAssembly": true,
              "labelShowResolution": true,
              "labelTopMargin": 0,
              "maxZoom": "15",
              "minHeight": 40,
              "minWidth": 100,
              "name": "PCa57054",
              "showMousePosition": true,
              "trackBorderColor": "black",
              "trackBorderWidth": 0
             },
             "server": "http://localhost:58053/api/v1",
             "tilesetUid": "JJvSTGq1TsqR6Mu-yB3yww",
             "type": "horizontal-heatmap",
             "uid": "UB_h-SArQ_W9Ch_CE6MsmQ"
            },
            {
             "height": 150,
             "options": {
              "backgroundColor": "#eeeeee",
              "colorRange": [
               "white",
               "rgba(245,166,35,1.0)",
               "rgba(208,2,27,1.0)",
               "black"
              ],
              "colorbarPosition": "topRight",
              "labelBottomMargin": 0,
              "labelColor": "black",
              "labelLeftMargin": 0,
              "labelPosition": "bottomRight",
              "labelRightMargin": 0,
              "labelShowAssembly": true,
              "labelShowResolution": true,
              "labelTopMargin": 0,
              "maxZoom": "15",
              "minHeight": 40,
              "minWidth": 100,
              "name": "PCa57294",
              "showMousePosition": true,
              "trackBorderColor": "black",
              "trackBorderWidth": 0
             },
             "server": "http://localhost:58053/api/v1",
             "tilesetUid": "V4H5L6FvSGmQrHyurUus6w",
             "type": "horizontal-heatmap",
             "uid": "bGDxm87sSP2k-M4oWr0anA"
            },
            {
             "height": 150,
             "options": {
              "backgroundColor": "#eeeeee",
              "colorRange": [
               "white",
               "rgba(245,166,35,1.0)",
               "rgba(208,2,27,1.0)",
               "black"
              ],
              "colorbarPosition": "topRight",
              "labelBottomMargin": 0,
              "labelColor": "black",
              "labelLeftMargin": 0,
              "labelPosition": "bottomRight",
              "labelRightMargin": 0,
              "labelShowAssembly": true,
              "labelShowResolution": true,
              "labelTopMargin": 0,
              "maxZoom": "15",
              "minHeight": 40,
              "minWidth": 100,
              "name": "PCa58215",
              "showMousePosition": true,
              "trackBorderColor": "black",
              "trackBorderWidth": 0
             },
             "server": "http://localhost:58053/api/v1",
             "tilesetUid": "LSYUjN0DR_um2PfQ4RYeEA",
             "type": "horizontal-heatmap",
             "uid": "LacJLpf0QqyYuln92tEnJg"
            },
            {
             "height": 150,
             "options": {
              "backgroundColor": "#eeeeee",
              "colorRange": [
               "white",
               "rgba(245,166,35,1.0)",
               "rgba(208,2,27,1.0)",
               "black"
              ],
              "colorbarPosition": "topRight",
              "labelBottomMargin": 0,
              "labelColor": "black",
              "labelLeftMargin": 0,
              "labelPosition": "bottomRight",
              "labelRightMargin": 0,
              "labelShowAssembly": true,
              "labelShowResolution": true,
              "labelTopMargin": 0,
              "maxZoom": "15",
              "minHeight": 40,
              "minWidth": 100,
              "name": "Benign-Prostate-1648133",
              "showMousePosition": true,
              "trackBorderColor": "black",
              "trackBorderWidth": 0
             },
             "server": "http://localhost:58053/api/v1",
             "tilesetUid": "bp7qe5hlTuWnWUXfC3eABQ",
             "type": "horizontal-heatmap",
             "uid": "fF8klEb-Squ5DdqdiKj6AQ"
            },
            {
             "height": 150,
             "options": {
              "backgroundColor": "#eeeeee",
              "colorRange": [
               "white",
               "rgba(245,166,35,1.0)",
               "rgba(208,2,27,1.0)",
               "black"
              ],
              "colorbarPosition": "topRight",
              "labelBottomMargin": 0,
              "labelColor": "black",
              "labelLeftMargin": 0,
              "labelPosition": "bottomRight",
              "labelRightMargin": 0,
              "labelShowAssembly": true,
              "labelShowResolution": true,
              "labelTopMargin": 0,
              "maxZoom": "15",
              "minHeight": 40,
              "minWidth": 100,
              "name": "Benign-Prostate-1595983",
              "showMousePosition": true,
              "trackBorderColor": "black",
              "trackBorderWidth": 0
             },
             "server": "http://localhost:58053/api/v1",
             "tilesetUid": "FivjvBeoRAmI3tggwMLWDw",
             "type": "horizontal-heatmap",
             "uid": "fjp9rrMVSfyr8DhPs2ZaVg"
            },
            {
             "height": 150,
             "options": {
              "backgroundColor": "#eeeeee",
              "colorRange": [
               "white",
               "rgba(245,166,35,1.0)",
               "rgba(208,2,27,1.0)",
               "black"
              ],
              "colorbarPosition": "topRight",
              "labelBottomMargin": 0,
              "labelColor": "black",
              "labelLeftMargin": 0,
              "labelPosition": "bottomRight",
              "labelRightMargin": 0,
              "labelShowAssembly": true,
              "labelShowResolution": true,
              "labelTopMargin": 0,
              "maxZoom": "15",
              "minHeight": 40,
              "minWidth": 100,
              "name": "Benign-Prostate-3330581",
              "showMousePosition": true,
              "trackBorderColor": "black",
              "trackBorderWidth": 0
             },
             "server": "http://localhost:58053/api/v1",
             "tilesetUid": "JaVFVbK0SNmMG_PFeSik9A",
             "type": "horizontal-heatmap",
             "uid": "fKv3QoiQSE2Us6mLVJo5ZA"
            },
            {
             "height": 150,
             "options": {
              "backgroundColor": "#eeeeee",
              "colorRange": [
               "white",
               "rgba(245,166,35,1.0)",
               "rgba(208,2,27,1.0)",
               "black"
              ],
              "colorbarPosition": "topRight",
              "labelBottomMargin": 0,
              "labelColor": "black",
              "labelLeftMargin": 0,
              "labelPosition": "bottomRight",
              "labelRightMargin": 0,
              "labelShowAssembly": true,
              "labelShowResolution": true,
              "labelTopMargin": 0,
              "maxZoom": "15",
              "minHeight": 40,
              "minWidth": 100,
              "name": "Benign-Prostate-1664855",
              "showMousePosition": true,
              "trackBorderColor": "black",
              "trackBorderWidth": 0
             },
             "server": "http://localhost:58053/api/v1",
             "tilesetUid": "XsWytOnMRCuKsWeUoKFDlg",
             "type": "horizontal-heatmap",
             "uid": "YleGk1a2S7WNFFq9MI5KHg"
            },
            {
             "height": 150,
             "options": {
              "backgroundColor": "#eeeeee",
              "colorRange": [
               "white",
               "rgba(245,166,35,1.0)",
               "rgba(208,2,27,1.0)",
               "black"
              ],
              "colorbarPosition": "topRight",
              "labelBottomMargin": 0,
              "labelColor": "black",
              "labelLeftMargin": 0,
              "labelPosition": "bottomRight",
              "labelRightMargin": 0,
              "labelShowAssembly": true,
              "labelShowResolution": true,
              "labelTopMargin": 0,
              "maxZoom": "15",
              "minHeight": 40,
              "minWidth": 100,
              "name": "Benign-Prostate-3320942",
              "showMousePosition": true,
              "trackBorderColor": "black",
              "trackBorderWidth": 0
             },
             "server": "http://localhost:58053/api/v1",
             "tilesetUid": "fCv_-cLUR7q9w16JwEdX9g",
             "type": "horizontal-heatmap",
             "uid": "KhLNQ75kTDOrTewU8Yv4yA"
            }
           ],
           "whole": []
          },
          "uid": "c4xLMYmkQem72W4Di51fzA"
         }
        ],
        "zoomLocks": {
         "locksByViewUid": {},
         "locksDict": {}
        }
       }
      }
     },
     "9c8c47ad048549a7b514a0d989084edb": {
      "model_module": "higlass-jupyter",
      "model_module_version": "0.4.0",
      "model_name": "HiGlassDisplayModel",
      "state": {
       "_dom_classes": [],
       "_model_data": [],
       "_view_count": null,
       "auth_token": "",
       "bounded": null,
       "cursor_location": [],
       "dark_mode": false,
       "default_track_options": {},
       "dom_element_id": "gruaza",
       "height": 0,
       "layout": "IPY_MODEL_6d0d7737dbc440738d2dc7b540dd41af",
       "location": [
        2097042982,
        2097442982,
        2097241306.6073298,
        2097244657.3926702
       ],
       "options": {},
       "renderer": "",
       "select_mode": false,
       "selection": [],
       "selection_on_alt": false,
       "viewconf": {
        "editable": true,
        "exportViewUrl": "http://higlass.io/api/v1/viewconfs",
        "locationLocks": {
         "locksByViewUid": {},
         "locksDict": {}
        },
        "trackSourceServers": [
         "http://higlass.io/api/v1"
        ],
        "valueScaleLocks": {
         "locksByViewUid": {},
         "locksDict": {}
        },
        "views": [
         {
          "initialXDomain": [
           2097042982,
           2097442982
          ],
          "initialYDomain": [
           2097241306.6073298,
           2097244657.3926702
          ],
          "layout": {
           "h": 6,
           "w": 12,
           "x": 0,
           "y": 0
          },
          "tracks": {
           "bottom": [],
           "center": [],
           "gallery": [],
           "left": [],
           "right": [],
           "top": [
            {
             "height": 30,
             "options": {
              "color": "#808080",
              "fontIsLeftAligned": false,
              "fontSize": 16,
              "mousePositionColor": "#000000",
              "showMousePosition": true,
              "stroke": "#ffffff"
             },
             "server": "http://localhost:60321/api/v1",
             "tilesetUid": "CMsuiFUyR6yjaqRP3PPALg",
             "type": "horizontal-chromosome-labels",
             "uid": "S4Y2rxMgQ1255grICDU9cQ"
            },
            {
             "height": 150,
             "options": {
              "fontSize": 16,
              "geneAnnotationHeight": 12,
              "geneLabelPosition": "outside",
              "geneStrandSpacing": 4,
              "labelBackgroundColor": "#ffffff",
              "labelBottomMargin": 0,
              "labelColor": "black",
              "labelLeftMargin": 0,
              "labelPosition": "hidden",
              "labelRightMargin": 0,
              "labelTopMargin": 0,
              "minHeight": 24,
              "minusStrandColor": "red",
              "mousePositionColor": "#000000",
              "plusStrandColor": "blue",
              "showMousePosition": true,
              "trackBorderColor": "black",
              "trackBorderWidth": 0
             },
             "server": "http://localhost:60321/api/v1",
             "tilesetUid": "CVJU4sjYTEikHt_g6QxMrw",
             "type": "horizontal-gene-annotations",
             "uid": "XxxvIQOzRXqpuMLrEBkYBA"
            }
           ],
           "whole": []
          },
          "uid": "XExeC4_pQRWEKNPb_0hP5A"
         }
        ],
        "zoomLocks": {
         "locksByViewUid": {},
         "locksDict": {}
        }
       }
      }
     },
     "b2b6ca3efe6649f7ac0f17a6fbb70138": {
      "model_module": "@jupyter-widgets/base",
      "model_module_version": "1.2.0",
      "model_name": "LayoutModel",
      "state": {}
     },
     "b932f56193a04f7d88e75e077b3cb2f6": {
      "model_module": "@jupyter-widgets/base",
      "model_module_version": "1.2.0",
      "model_name": "LayoutModel",
      "state": {}
     },
     "c14b91913f6e49d7896ecee16e11e270": {
      "model_module": "higlass-jupyter",
      "model_module_version": "0.4.0",
      "model_name": "HiGlassDisplayModel",
      "state": {
       "_dom_classes": [],
       "_model_data": [],
       "_view_count": null,
       "auth_token": "",
       "bounded": null,
       "cursor_location": [],
       "dark_mode": false,
       "default_track_options": {},
       "dom_element_id": "t0qem3",
       "height": 0,
       "layout": "IPY_MODEL_2fb7bcf94aa64d01a6fe32dd3809902e",
       "location": [
        2227407310,
        2230407310,
        2228454953.979058,
        2229359666.0209427
       ],
       "options": {},
       "renderer": "",
       "select_mode": false,
       "selection": [],
       "selection_on_alt": false,
       "viewconf": {
        "editable": true,
        "exportViewUrl": "http://higlass.io/api/v1/viewconfs",
        "locationLocks": {
         "locksByViewUid": {},
         "locksDict": {}
        },
        "trackSourceServers": [
         "http://higlass.io/api/v1"
        ],
        "valueScaleLocks": {
         "locksByViewUid": {},
         "locksDict": {}
        },
        "views": [
         {
          "initialXDomain": [
           2227407310,
           2230407310
          ],
          "initialYDomain": [
           2228454953.979058,
           2229359666.0209427
          ],
          "layout": {
           "h": 13,
           "w": 12,
           "x": 0,
           "y": 0
          },
          "tracks": {
           "bottom": [],
           "center": [
            {
             "contents": [
              {
               "height": 300,
               "options": {
                "backgroundColor": "#eeeeee",
                "colorRange": [
                 "white",
                 "rgba(245,166,35,1.0)",
                 "rgba(208,2,27,1.0)",
                 "black"
                ],
                "colorbarBackgroundColor": "#ffffff",
                "colorbarPosition": "topRight",
                "extent": "full",
                "heatmapValueScaling": "log",
                "labelBottomMargin": 0,
                "labelLeftMargin": 0,
                "labelPosition": "bottomRight",
                "labelRightMargin": 0,
                "labelShowAssembly": true,
                "labelShowResolution": true,
                "labelTopMargin": 0,
                "maxZoom": "15",
                "minHeight": 100,
                "minWidth": 100,
                "mousePositionColor": "#000000",
                "name": "PCa13848",
                "showMousePosition": true,
                "showTooltip": false,
                "trackBorderColor": "black",
                "trackBorderWidth": 0
               },
               "server": "http://localhost:54321/api/v1",
               "tilesetUid": "BbAPbcAST1q8oGL-L8pang",
               "type": "heatmap",
               "uid": "Gmv4my58QdW7ge_qdKHHCA"
              },
              {
               "options": {
                "flipDiagonal": "none",
                "labelBottomMargin": 0,
                "labelColor": "black",
                "labelLeftMargin": 0,
                "labelPosition": "hidden",
                "labelRightMargin": 0,
                "labelTopMargin": 0,
                "minSquareSize": "none",
                "name": "PCa13848 (w = 10)",
                "rectangleDomainFillColor": "grey",
                "rectangleDomainOpacity": 0.6,
                "rectangleDomainStrokeColor": "black",
                "showMousePosition": true,
                "trackBorderColor": "black",
                "trackBorderWidth": 0
               },
               "server": "http://localhost:54321/api/v1",
               "tilesetUid": "LMvL3l_2S821JGAS__rqKg",
               "type": "2d-rectangle-domains",
               "uid": "YxehYxxFT2aYaHpLWy3xoA"
              }
             ],
             "height": 300,
             "options": {},
             "type": "combined",
             "uid": "H2zaPv8QRdKS8LqSMUuIZA"
            }
           ],
           "gallery": [],
           "left": [],
           "right": [],
           "top": [
            {
             "height": 30,
             "options": {
              "color": "#808080",
              "fontIsLeftAligned": false,
              "fontSize": 16,
              "mousePositionColor": "#000000",
              "showMousePosition": true,
              "stroke": "#ffffff"
             },
             "server": "http://localhost:54321/api/v1",
             "tilesetUid": "CMsuiFUyR6yjaqRP3PPALg",
             "type": "horizontal-chromosome-labels",
             "uid": "S4Y2rxMgQ1255grICDU9cQ"
            },
            {
             "height": 150,
             "options": {
              "fontSize": 16,
              "geneAnnotationHeight": 12,
              "geneLabelPosition": "outside",
              "geneStrandSpacing": 4,
              "labelBackgroundColor": "#ffffff",
              "labelBottomMargin": 0,
              "labelColor": "black",
              "labelLeftMargin": 0,
              "labelPosition": "hidden",
              "labelRightMargin": 0,
              "labelTopMargin": 0,
              "minHeight": 24,
              "minusStrandColor": "red",
              "mousePositionColor": "#000000",
              "plusStrandColor": "blue",
              "showMousePosition": true,
              "trackBorderColor": "black",
              "trackBorderWidth": 0
             },
             "server": "http://localhost:54321/api/v1",
             "tilesetUid": "CVJU4sjYTEikHt_g6QxMrw",
             "type": "horizontal-gene-annotations",
             "uid": "XxxvIQOzRXqpuMLrEBkYBA"
            }
           ],
           "whole": []
          },
          "uid": "DrTTPj04Snefgg347y6TVg"
         }
        ],
        "zoomLocks": {
         "locksByViewUid": {},
         "locksDict": {}
        }
       }
      }
     },
     "d2596b8abbd349f7a2b6200f79bd2741": {
      "model_module": "@jupyter-widgets/base",
      "model_module_version": "1.2.0",
      "model_name": "LayoutModel",
      "state": {}
     },
     "d985354c73064311a325a135f1c02809": {
      "model_module": "higlass-jupyter",
      "model_module_version": "0.4.0",
      "model_name": "HiGlassDisplayModel",
      "state": {
       "_dom_classes": [],
       "_model_data": [],
       "_view_count": null,
       "auth_token": "",
       "bounded": null,
       "cursor_location": [
        -1,
        -1
       ],
       "dark_mode": false,
       "default_track_options": {},
       "dom_element_id": "j6snah",
       "height": 0,
       "layout": "IPY_MODEL_5c414cb023c4442e88441411951da2b9",
       "location": [
        775035865.4593104,
        794314889.3409358,
        1239429077.5603504,
        1251456886.489484
       ],
       "options": {},
       "renderer": "",
       "select_mode": false,
       "selection": [],
       "selection_on_alt": false,
       "viewconf": {
        "editable": true,
        "exportViewUrl": "http://higlass.io/api/v1/viewconfs",
        "locationLocks": {
         "locksByViewUid": {},
         "locksDict": {}
        },
        "trackSourceServers": [
         "http://higlass.io/api/v1"
        ],
        "valueScaleLocks": {
         "locksByViewUid": {},
         "locksDict": {}
        },
        "views": [
         {
          "initialXDomain": [
           775035865.4593104,
           794314889.3409358
          ],
          "initialYDomain": [
           1239429077.5603504,
           1251456886.489484
          ],
          "layout": {
           "h": 21,
           "w": 12,
           "x": 0,
           "y": 0
          },
          "tracks": {
           "bottom": [],
           "center": [
            {
             "contents": [
              {
               "height": 300,
               "options": {
                "backgroundColor": "#eeeeee",
                "colorRange": [
                 "white",
                 "rgba(245,166,35,1.0)",
                 "rgba(208,2,27,1.0)",
                 "black"
                ],
                "colorbarBackgroundColor": "#ffffff",
                "colorbarPosition": "topRight",
                "extent": "full",
                "heatmapValueScaling": "log",
                "labelBottomMargin": 0,
                "labelLeftMargin": 0,
                "labelPosition": "bottomRight",
                "labelRightMargin": 0,
                "labelShowAssembly": true,
                "labelShowResolution": true,
                "labelTopMargin": 0,
                "maxZoom": "15",
                "minHeight": 100,
                "minWidth": 100,
                "mousePositionColor": "#000000",
                "name": "PCa33173",
                "scaleEndPercent": "1.00000",
                "scaleStartPercent": "0.00000",
                "showMousePosition": true,
                "showTooltip": false,
                "trackBorderColor": "black",
                "trackBorderWidth": 0
               },
               "resolutions": [
                1000,
                2000,
                3000,
                4000,
                5000,
                10000,
                20000,
                30000,
                40000,
                50000,
                100000,
                200000,
                300000,
                400000,
                500000,
                1000000,
                2000000,
                3000000,
                4000000,
                5000000
               ],
               "server": "http://localhost:56647/api/v1",
               "tilesetUid": "S9koKd9RT2S0OYenqgvY-Q",
               "transforms": [],
               "type": "heatmap",
               "uid": "ZNuH1qlJRXylbj_M1uy9Ew"
              },
              {
               "options": {
                "flipDiagonal": "none",
                "labelBottomMargin": 0,
                "labelColor": "black",
                "labelLeftMargin": 0,
                "labelPosition": "hidden",
                "labelRightMargin": 0,
                "labelTopMargin": 0,
                "minSquareSize": "none",
                "name": "PCa33173",
                "rectangleDomainFillColor": "grey",
                "rectangleDomainOpacity": 0.6,
                "rectangleDomainStrokeColor": "black",
                "showMousePosition": true,
                "trackBorderColor": "black",
                "trackBorderWidth": 0
               },
               "server": "http://localhost:56647/api/v1",
               "tilesetUid": "IOa4mkfYR-avDQxh7HHwpw",
               "type": "2d-rectangle-domains",
               "uid": "CbZWlDtSQKer0fmsQ_zzNQ"
              }
             ],
             "height": 300,
             "options": {},
             "type": "combined",
             "uid": "RVkQE1vqSJi7i-wFHK2fLA"
            }
           ],
           "gallery": [],
           "left": [
            {
             "options": {
              "color": "#777777",
              "fontIsLeftAligned": false,
              "fontSize": 16,
              "minWidth": 35,
              "mousePositionColor": "#000000",
              "showMousePosition": true,
              "stroke": "#FFFFFF"
             },
             "server": "http://localhost:56647/api/v1",
             "tilesetUid": "CMsuiFUyR6yjaqRP3PPALg",
             "type": "vertical-chromosome-labels",
             "uid": "F83cD5fMR9SZl5QUecmlAg",
             "width": 30
            },
            {
             "height": 418,
             "options": {
              "fontSize": 16,
              "geneAnnoHeight": 12,
              "geneLabelPosition": "outside",
              "geneStrandSpacing": 4,
              "labelBottomMargin": 0,
              "labelColor": "black",
              "labelLeftMargin": 0,
              "labelPosition": "hidden",
              "labelRightMargin": 0,
              "labelTopMargin": 0,
              "minWidth": 24,
              "minusStrandColor": "red",
              "mousePositionColor": "#000000",
              "plusStrandColor": "blue",
              "showMousePosition": true,
              "trackBorderColor": "black",
              "trackBorderWidth": 0
             },
             "server": "http://localhost:56647/api/v1",
             "tilesetUid": "CVJU4sjYTEikHt_g6QxMrw",
             "type": "vertical-gene-annotations",
             "uid": "A8kVGdlAQrOi6-NMifnjew",
             "width": 65
            },
            {
             "options": {
              "colorRange": [
               "white",
               "rgba(245,166,35,1.0)",
               "rgba(208,2,27,1.0)",
               "black"
              ],
              "colorbarPosition": "topRight",
              "labelBottomMargin": 0,
              "labelColor": "black",
              "labelLeftMargin": 0,
              "labelPosition": "bottomRight",
              "labelRightMargin": 0,
              "labelShowAssembly": true,
              "labelShowResolution": true,
              "labelTopMargin": 0,
              "maxZoom": "15",
              "minHeight": 100,
              "minWidth": 50,
              "name": "PCa33173",
              "scaleEndPercent": "1.00000",
              "scaleStartPercent": "0.00000",
              "showMousePosition": true,
              "trackBorderColor": "black",
              "trackBorderWidth": 0
             },
             "resolutions": [
              1000,
              2000,
              3000,
              4000,
              5000,
              10000,
              20000,
              30000,
              40000,
              50000,
              100000,
              200000,
              300000,
              400000,
              500000,
              1000000,
              2000000,
              3000000,
              4000000,
              5000000
             ],
             "server": "http://localhost:56647/api/v1",
             "tilesetUid": "S9koKd9RT2S0OYenqgvY-Q",
             "transforms": [],
             "type": "vertical-heatmap",
             "uid": "Y0SFkPEaRaiNgZTFS3Gguw",
             "width": 150
            },
            {
             "aggregationModes": {
              "max": {
               "name": "Max",
               "value": "max"
              },
              "mean": {
               "name": "Mean",
               "value": "mean"
              },
              "min": {
               "name": "Min",
               "value": "min"
              },
              "std": {
               "name": "Standard Deviation",
               "value": "std"
              }
             },
             "options": {
              "axisLabelFormatting": "scientific",
              "axisPositionVertical": "top",
              "labelBottomMargin": 0,
              "labelColor": "black",
              "labelLeftMargin": 0,
              "labelPosition": "bottomLeft",
              "labelRightMargin": 0,
              "labelShowAssembly": true,
              "labelShowResolution": false,
              "labelTextOpacity": 0.4,
              "labelTopMargin": 0,
              "lineStrokeColor": "blue",
              "lineStrokeWidth": 1,
              "mousePositionColor": "#000000",
              "name": "PCa33173",
              "showMousePosition": true,
              "showTooltip": false,
              "trackBorderColor": "black",
              "trackBorderWidth": 0,
              "valueScaling": "linear"
             },
             "server": "http://localhost:56647/api/v1",
             "tilesetUid": "H5lC8X42RCG2CZv9odjF6w",
             "type": "vertical-line",
             "uid": "IHLeCKfwQY2baf4KBiABQw",
             "width": 20
            },
            {
             "options": {
              "alternating": false,
              "annotationHeight": 16,
              "annotationStyle": "box",
              "axisPositionHorizontal": "right",
              "colorEncoding": false,
              "colorEncodingRange": false,
              "colorRange": [
               "#000000",
               "#652537",
               "#bf5458",
               "#fba273",
               "#ffffe0"
              ],
              "fillColor": "blue",
              "labelBottomMargin": 0,
              "labelColor": "black",
              "labelLeftMargin": 0,
              "labelPosition": "hidden",
              "labelRightMargin": 0,
              "labelTopMargin": 0,
              "minHeight": 20,
              "name": "PCa33173",
              "showMousePosition": true,
              "showTexts": false,
              "trackBorderColor": "black",
              "trackBorderWidth": 0,
              "valueColumn": null
             },
             "server": "http://localhost:56647/api/v1",
             "tilesetUid": "No5iIzeOSUCE2-LfOXd-2A",
             "type": "bedlike",
             "uid": "FIY-Vcy1QEeuGpPlkNVsUw",
             "width": 20
            }
           ],
           "right": [],
           "top": [
            {
             "height": 30,
             "options": {
              "color": "#808080",
              "fontIsLeftAligned": false,
              "fontSize": 16,
              "mousePositionColor": "#000000",
              "showMousePosition": true,
              "stroke": "#ffffff"
             },
             "server": "http://localhost:56647/api/v1",
             "tilesetUid": "CMsuiFUyR6yjaqRP3PPALg",
             "type": "horizontal-chromosome-labels",
             "uid": "S4Y2rxMgQ1255grICDU9cQ"
            },
            {
             "height": 150,
             "options": {
              "fontSize": 16,
              "geneAnnotationHeight": 12,
              "geneLabelPosition": "outside",
              "geneStrandSpacing": 4,
              "labelBackgroundColor": "#ffffff",
              "labelBottomMargin": 0,
              "labelColor": "black",
              "labelLeftMargin": 0,
              "labelPosition": "hidden",
              "labelRightMargin": 0,
              "labelTopMargin": 0,
              "minHeight": 24,
              "minusStrandColor": "red",
              "mousePositionColor": "#000000",
              "plusStrandColor": "blue",
              "showMousePosition": true,
              "trackBorderColor": "black",
              "trackBorderWidth": 0
             },
             "server": "http://localhost:56647/api/v1",
             "tilesetUid": "CVJU4sjYTEikHt_g6QxMrw",
             "type": "horizontal-gene-annotations",
             "uid": "XxxvIQOzRXqpuMLrEBkYBA"
            },
            {
             "height": 150,
             "options": {
              "backgroundColor": "#eeeeee",
              "colorRange": [
               "white",
               "rgba(245,166,35,1.0)",
               "rgba(208,2,27,1.0)",
               "black"
              ],
              "colorbarPosition": "topRight",
              "labelBottomMargin": 0,
              "labelColor": "black",
              "labelLeftMargin": 0,
              "labelPosition": "bottomRight",
              "labelRightMargin": 0,
              "labelShowAssembly": true,
              "labelShowResolution": true,
              "labelTopMargin": 0,
              "maxZoom": "15",
              "minHeight": 40,
              "minWidth": 100,
              "name": "PCa33173",
              "scaleEndPercent": "1.00000",
              "scaleStartPercent": "0.00000",
              "showMousePosition": true,
              "trackBorderColor": "black",
              "trackBorderWidth": 0
             },
             "resolutions": [
              1000,
              2000,
              3000,
              4000,
              5000,
              10000,
              20000,
              30000,
              40000,
              50000,
              100000,
              200000,
              300000,
              400000,
              500000,
              1000000,
              2000000,
              3000000,
              4000000,
              5000000
             ],
             "server": "http://localhost:56647/api/v1",
             "tilesetUid": "S9koKd9RT2S0OYenqgvY-Q",
             "transforms": [],
             "type": "horizontal-heatmap",
             "uid": "Ra9_6fFITFaRwa4Aa6k8VA"
            },
            {
             "aggregationModes": {
              "max": {
               "name": "Max",
               "value": "max"
              },
              "mean": {
               "name": "Mean",
               "value": "mean"
              },
              "min": {
               "name": "Min",
               "value": "min"
              },
              "std": {
               "name": "Standard Deviation",
               "value": "std"
              }
             },
             "height": 20,
             "options": {
              "axisLabelFormatting": "scientific",
              "axisPositionHorizontal": "right",
              "labelBackgroundColor": "white",
              "labelBottomMargin": 0,
              "labelColor": "black",
              "labelLeftMargin": 0,
              "labelPosition": "topLeft",
              "labelRightMargin": 0,
              "labelShowAssembly": true,
              "labelShowResolution": false,
              "labelTextOpacity": 0.4,
              "labelTopMargin": 0,
              "lineStrokeColor": "blue",
              "lineStrokeWidth": 1,
              "minHeight": 20,
              "mousePositionColor": "#000000",
              "name": "PCa33173",
              "showMousePosition": true,
              "showTooltip": false,
              "trackBorderColor": "black",
              "trackBorderWidth": 0,
              "valueScaling": "linear"
             },
             "server": "http://localhost:56647/api/v1",
             "tilesetUid": "H5lC8X42RCG2CZv9odjF6w",
             "type": "horizontal-line",
             "uid": "anJxMhGWS3GqPTTcWUkP2A"
            },
            {
             "height": 20,
             "options": {
              "alternating": false,
              "annotationHeight": 16,
              "annotationStyle": "box",
              "axisPositionHorizontal": "right",
              "colorEncoding": false,
              "colorEncodingRange": false,
              "colorRange": [
               "#000000",
               "#652537",
               "#bf5458",
               "#fba273",
               "#ffffe0"
              ],
              "fillColor": "blue",
              "labelBottomMargin": 0,
              "labelColor": "black",
              "labelLeftMargin": 0,
              "labelPosition": "hidden",
              "labelRightMargin": 0,
              "labelTopMargin": 0,
              "minHeight": 20,
              "name": "PCa33173",
              "showMousePosition": true,
              "showTexts": false,
              "trackBorderColor": "black",
              "trackBorderWidth": 0,
              "valueColumn": null
             },
             "server": "http://localhost:56647/api/v1",
             "tilesetUid": "No5iIzeOSUCE2-LfOXd-2A",
             "type": "bedlike",
             "uid": "MlezUJ8TQ7mdqfEqSxdvvQ"
            }
           ],
           "whole": []
          },
          "uid": "Qp7M4O1_SMm3Z-J_xx8Fyw"
         }
        ],
        "zoomLocks": {
         "locksByViewUid": {},
         "locksDict": {}
        }
       }
      }
     },
     "efd835d327974ccea84c58e01b958e1c": {
      "model_module": "higlass-jupyter",
      "model_module_version": "0.4.0",
      "model_name": "HiGlassDisplayModel",
      "state": {
       "_dom_classes": [],
       "_model_data": [],
       "_view_count": null,
       "auth_token": "",
       "bounded": null,
       "cursor_location": [],
       "dark_mode": false,
       "default_track_options": {},
       "dom_element_id": "tdeoq6",
       "height": 0,
       "layout": "IPY_MODEL_3a98ccb10ec744f796c9deec4f98456c",
       "location": [
        2807633280.4240837,
        2825312861.575916,
        2816473071,
        2816473071
       ],
       "options": {},
       "renderer": "",
       "select_mode": false,
       "selection": [],
       "selection_on_alt": false,
       "viewconf": {
        "editable": true,
        "exportViewUrl": "http://higlass.io/api/v1/viewconfs",
        "locationLocks": {
         "locksByViewUid": {},
         "locksDict": {}
        },
        "trackSourceServers": [
         "http://higlass.io/api/v1"
        ],
        "valueScaleLocks": {
         "locksByViewUid": {},
         "locksDict": {}
        },
        "views": [
         {
          "initialXDomain": [
           2807633280.4240837,
           2825312861.575916
          ],
          "initialYDomain": [
           2816473071,
           2816473071
          ],
          "layout": {
           "h": 73,
           "w": 12,
           "x": 0,
           "y": 0
          },
          "tracks": {
           "bottom": [],
           "center": [],
           "gallery": [],
           "left": [],
           "right": [],
           "top": [
            {
             "height": 30,
             "options": {
              "color": "#808080",
              "fontIsLeftAligned": false,
              "fontSize": 16,
              "mousePositionColor": "#000000",
              "showMousePosition": true,
              "stroke": "#ffffff"
             },
             "server": "http://localhost:42979/api/v1",
             "tilesetUid": "CMsuiFUyR6yjaqRP3PPALg",
             "type": "horizontal-chromosome-labels",
             "uid": "S4Y2rxMgQ1255grICDU9cQ"
            },
            {
             "height": 150,
             "options": {
              "fontSize": 16,
              "geneAnnotationHeight": 12,
              "geneLabelPosition": "outside",
              "geneStrandSpacing": 4,
              "labelBackgroundColor": "#ffffff",
              "labelBottomMargin": 0,
              "labelColor": "black",
              "labelLeftMargin": 0,
              "labelPosition": "hidden",
              "labelRightMargin": 0,
              "labelTopMargin": 0,
              "minHeight": 24,
              "minusStrandColor": "red",
              "mousePositionColor": "#000000",
              "plusStrandColor": "blue",
              "showMousePosition": true,
              "trackBorderColor": "black",
              "trackBorderWidth": 0
             },
             "server": "http://localhost:42979/api/v1",
             "tilesetUid": "CVJU4sjYTEikHt_g6QxMrw",
             "type": "horizontal-gene-annotations",
             "uid": "XxxvIQOzRXqpuMLrEBkYBA"
            },
            {
             "height": 150,
             "options": {
              "backgroundColor": "#eeeeee",
              "colorRange": [
               "white",
               "rgba(245,166,35,1.0)",
               "rgba(208,2,27,1.0)",
               "black"
              ],
              "colorbarPosition": "topRight",
              "labelBottomMargin": 0,
              "labelColor": "black",
              "labelLeftMargin": 0,
              "labelPosition": "bottomRight",
              "labelRightMargin": 0,
              "labelShowAssembly": true,
              "labelShowResolution": true,
              "labelTopMargin": 0,
              "maxZoom": "15",
              "minHeight": 40,
              "minWidth": 100,
              "name": "PCa13848",
              "showMousePosition": true,
              "trackBorderColor": "black",
              "trackBorderWidth": 0
             },
             "server": "http://localhost:42979/api/v1",
             "tilesetUid": "BbAPbcAST1q8oGL-L8pang",
             "type": "horizontal-heatmap",
             "uid": "eY39cbJ3RUuxjdFvsx8jiA"
            },
            {
             "height": 150,
             "options": {
              "backgroundColor": "#eeeeee",
              "colorRange": [
               "white",
               "rgba(245,166,35,1.0)",
               "rgba(208,2,27,1.0)",
               "black"
              ],
              "colorbarPosition": "topRight",
              "labelBottomMargin": 0,
              "labelColor": "black",
              "labelLeftMargin": 0,
              "labelPosition": "bottomRight",
              "labelRightMargin": 0,
              "labelShowAssembly": true,
              "labelShowResolution": true,
              "labelTopMargin": 0,
              "maxZoom": "15",
              "minHeight": 40,
              "minWidth": 100,
              "name": "PCa19121",
              "showMousePosition": true,
              "trackBorderColor": "black",
              "trackBorderWidth": 0
             },
             "server": "http://localhost:42979/api/v1",
             "tilesetUid": "R035sMOYSceQf26wr5lm7w",
             "type": "horizontal-heatmap",
             "uid": "Hi_qdQtqS1quPknrA8NNlw"
            },
            {
             "height": 150,
             "options": {
              "backgroundColor": "#eeeeee",
              "colorRange": [
               "white",
               "rgba(245,166,35,1.0)",
               "rgba(208,2,27,1.0)",
               "black"
              ],
              "colorbarPosition": "topRight",
              "labelBottomMargin": 0,
              "labelColor": "black",
              "labelLeftMargin": 0,
              "labelPosition": "bottomRight",
              "labelRightMargin": 0,
              "labelShowAssembly": true,
              "labelShowResolution": true,
              "labelTopMargin": 0,
              "maxZoom": "15",
              "minHeight": 40,
              "minWidth": 100,
              "name": "PCa3023",
              "showMousePosition": true,
              "trackBorderColor": "black",
              "trackBorderWidth": 0
             },
             "server": "http://localhost:42979/api/v1",
             "tilesetUid": "NqxpnLYDRuSZPxWAFsO66g",
             "type": "horizontal-heatmap",
             "uid": "VJ7U4z5oQ2GU8ENcREqOGQ"
            },
            {
             "height": 150,
             "options": {
              "backgroundColor": "#eeeeee",
              "colorRange": [
               "white",
               "rgba(245,166,35,1.0)",
               "rgba(208,2,27,1.0)",
               "black"
              ],
              "colorbarPosition": "topRight",
              "labelBottomMargin": 0,
              "labelColor": "black",
              "labelLeftMargin": 0,
              "labelPosition": "bottomRight",
              "labelRightMargin": 0,
              "labelShowAssembly": true,
              "labelShowResolution": true,
              "labelTopMargin": 0,
              "maxZoom": "15",
              "minHeight": 40,
              "minWidth": 100,
              "name": "PCa40507",
              "showMousePosition": true,
              "trackBorderColor": "black",
              "trackBorderWidth": 0
             },
             "server": "http://localhost:42979/api/v1",
             "tilesetUid": "DYAWQOsYSg-OQjXnT5UEMQ",
             "type": "horizontal-heatmap",
             "uid": "UHlJqaIQT5qFNq1nH9EH9Q"
            },
            {
             "height": 150,
             "options": {
              "backgroundColor": "#eeeeee",
              "colorRange": [
               "white",
               "rgba(245,166,35,1.0)",
               "rgba(208,2,27,1.0)",
               "black"
              ],
              "colorbarPosition": "topRight",
              "labelBottomMargin": 0,
              "labelColor": "black",
              "labelLeftMargin": 0,
              "labelPosition": "bottomRight",
              "labelRightMargin": 0,
              "labelShowAssembly": true,
              "labelShowResolution": true,
              "labelTopMargin": 0,
              "maxZoom": "15",
              "minHeight": 40,
              "minWidth": 100,
              "name": "PCa51852",
              "showMousePosition": true,
              "trackBorderColor": "black",
              "trackBorderWidth": 0
             },
             "server": "http://localhost:42979/api/v1",
             "tilesetUid": "U9Ex8WMEQWaEs2dQVec0yg",
             "type": "horizontal-heatmap",
             "uid": "TEtkw3dxThq_049qEqYZ7Q"
            },
            {
             "height": 150,
             "options": {
              "backgroundColor": "#eeeeee",
              "colorRange": [
               "white",
               "rgba(245,166,35,1.0)",
               "rgba(208,2,27,1.0)",
               "black"
              ],
              "colorbarPosition": "topRight",
              "labelBottomMargin": 0,
              "labelColor": "black",
              "labelLeftMargin": 0,
              "labelPosition": "bottomRight",
              "labelRightMargin": 0,
              "labelShowAssembly": true,
              "labelShowResolution": true,
              "labelTopMargin": 0,
              "maxZoom": "15",
              "minHeight": 40,
              "minWidth": 100,
              "name": "PCa56413",
              "showMousePosition": true,
              "trackBorderColor": "black",
              "trackBorderWidth": 0
             },
             "server": "http://localhost:42979/api/v1",
             "tilesetUid": "Ki4mnmMoSKy5gyB_Wkyh3w",
             "type": "horizontal-heatmap",
             "uid": "bLyjunCLTOyyTxIoDMcsJQ"
            },
            {
             "height": 150,
             "options": {
              "backgroundColor": "#eeeeee",
              "colorRange": [
               "white",
               "rgba(245,166,35,1.0)",
               "rgba(208,2,27,1.0)",
               "black"
              ],
              "colorbarPosition": "topRight",
              "labelBottomMargin": 0,
              "labelColor": "black",
              "labelLeftMargin": 0,
              "labelPosition": "bottomRight",
              "labelRightMargin": 0,
              "labelShowAssembly": true,
              "labelShowResolution": true,
              "labelTopMargin": 0,
              "maxZoom": "15",
              "minHeight": 40,
              "minWidth": 100,
              "name": "PCa57054",
              "showMousePosition": true,
              "trackBorderColor": "black",
              "trackBorderWidth": 0
             },
             "server": "http://localhost:42979/api/v1",
             "tilesetUid": "JJvSTGq1TsqR6Mu-yB3yww",
             "type": "horizontal-heatmap",
             "uid": "UB_h-SArQ_W9Ch_CE6MsmQ"
            },
            {
             "height": 150,
             "options": {
              "backgroundColor": "#eeeeee",
              "colorRange": [
               "white",
               "rgba(245,166,35,1.0)",
               "rgba(208,2,27,1.0)",
               "black"
              ],
              "colorbarPosition": "topRight",
              "labelBottomMargin": 0,
              "labelColor": "black",
              "labelLeftMargin": 0,
              "labelPosition": "bottomRight",
              "labelRightMargin": 0,
              "labelShowAssembly": true,
              "labelShowResolution": true,
              "labelTopMargin": 0,
              "maxZoom": "15",
              "minHeight": 40,
              "minWidth": 100,
              "name": "PCa13266",
              "showMousePosition": true,
              "trackBorderColor": "black",
              "trackBorderWidth": 0
             },
             "server": "http://localhost:42979/api/v1",
             "tilesetUid": "CQ4OqxHHRpWqW0bWnR_95g",
             "type": "horizontal-heatmap",
             "uid": "NjD8ljW2Tu62N89hp8NsyA"
            },
            {
             "height": 150,
             "options": {
              "backgroundColor": "#eeeeee",
              "colorRange": [
               "white",
               "rgba(245,166,35,1.0)",
               "rgba(208,2,27,1.0)",
               "black"
              ],
              "colorbarPosition": "topRight",
              "labelBottomMargin": 0,
              "labelColor": "black",
              "labelLeftMargin": 0,
              "labelPosition": "bottomRight",
              "labelRightMargin": 0,
              "labelShowAssembly": true,
              "labelShowResolution": true,
              "labelTopMargin": 0,
              "maxZoom": "15",
              "minHeight": 40,
              "minWidth": 100,
              "name": "PCa14121",
              "showMousePosition": true,
              "trackBorderColor": "black",
              "trackBorderWidth": 0
             },
             "server": "http://localhost:42979/api/v1",
             "tilesetUid": "Wmj7v367QziMRlWFMWdzWw",
             "type": "horizontal-heatmap",
             "uid": "EK11NdFCT8imcFVleqsJSA"
            },
            {
             "height": 150,
             "options": {
              "backgroundColor": "#eeeeee",
              "colorRange": [
               "white",
               "rgba(245,166,35,1.0)",
               "rgba(208,2,27,1.0)",
               "black"
              ],
              "colorbarPosition": "topRight",
              "labelBottomMargin": 0,
              "labelColor": "black",
              "labelLeftMargin": 0,
              "labelPosition": "bottomRight",
              "labelRightMargin": 0,
              "labelShowAssembly": true,
              "labelShowResolution": true,
              "labelTopMargin": 0,
              "maxZoom": "15",
              "minHeight": 40,
              "minWidth": 100,
              "name": "PCa33173",
              "showMousePosition": true,
              "trackBorderColor": "black",
              "trackBorderWidth": 0
             },
             "server": "http://localhost:42979/api/v1",
             "tilesetUid": "R_2HBkduTYCenDUWv5LMQA",
             "type": "horizontal-heatmap",
             "uid": "QyZj1DtjRkmWvBx93hIz5w"
            },
            {
             "height": 150,
             "options": {
              "backgroundColor": "#eeeeee",
              "colorRange": [
               "white",
               "rgba(245,166,35,1.0)",
               "rgba(208,2,27,1.0)",
               "black"
              ],
              "colorbarPosition": "topRight",
              "labelBottomMargin": 0,
              "labelColor": "black",
              "labelLeftMargin": 0,
              "labelPosition": "bottomRight",
              "labelRightMargin": 0,
              "labelShowAssembly": true,
              "labelShowResolution": true,
              "labelTopMargin": 0,
              "maxZoom": "15",
              "minHeight": 40,
              "minWidth": 100,
              "name": "PCa53687",
              "showMousePosition": true,
              "trackBorderColor": "black",
              "trackBorderWidth": 0
             },
             "server": "http://localhost:42979/api/v1",
             "tilesetUid": "OCA9e7vPQ4ymmJeXUBRdhA",
             "type": "horizontal-heatmap",
             "uid": "cQvjLIgnTr-eGwCa9F3ZNg"
            },
            {
             "height": 150,
             "options": {
              "backgroundColor": "#eeeeee",
              "colorRange": [
               "white",
               "rgba(245,166,35,1.0)",
               "rgba(208,2,27,1.0)",
               "black"
              ],
              "colorbarPosition": "topRight",
              "labelBottomMargin": 0,
              "labelColor": "black",
              "labelLeftMargin": 0,
              "labelPosition": "bottomRight",
              "labelRightMargin": 0,
              "labelShowAssembly": true,
              "labelShowResolution": true,
              "labelTopMargin": 0,
              "maxZoom": "15",
              "minHeight": 40,
              "minWidth": 100,
              "name": "PCa57294",
              "showMousePosition": true,
              "trackBorderColor": "black",
              "trackBorderWidth": 0
             },
             "server": "http://localhost:42979/api/v1",
             "tilesetUid": "V4H5L6FvSGmQrHyurUus6w",
             "type": "horizontal-heatmap",
             "uid": "bGDxm87sSP2k-M4oWr0anA"
            },
            {
             "height": 150,
             "options": {
              "backgroundColor": "#eeeeee",
              "colorRange": [
               "white",
               "rgba(245,166,35,1.0)",
               "rgba(208,2,27,1.0)",
               "black"
              ],
              "colorbarPosition": "topRight",
              "labelBottomMargin": 0,
              "labelColor": "black",
              "labelLeftMargin": 0,
              "labelPosition": "bottomRight",
              "labelRightMargin": 0,
              "labelShowAssembly": true,
              "labelShowResolution": true,
              "labelTopMargin": 0,
              "maxZoom": "15",
              "minHeight": 40,
              "minWidth": 100,
              "name": "PCa58215",
              "showMousePosition": true,
              "trackBorderColor": "black",
              "trackBorderWidth": 0
             },
             "server": "http://localhost:42979/api/v1",
             "tilesetUid": "LSYUjN0DR_um2PfQ4RYeEA",
             "type": "horizontal-heatmap",
             "uid": "LacJLpf0QqyYuln92tEnJg"
            },
            {
             "height": 150,
             "options": {
              "backgroundColor": "#eeeeee",
              "colorRange": [
               "white",
               "rgba(245,166,35,1.0)",
               "rgba(208,2,27,1.0)",
               "black"
              ],
              "colorbarPosition": "topRight",
              "labelBottomMargin": 0,
              "labelColor": "black",
              "labelLeftMargin": 0,
              "labelPosition": "bottomRight",
              "labelRightMargin": 0,
              "labelShowAssembly": true,
              "labelShowResolution": true,
              "labelTopMargin": 0,
              "maxZoom": "15",
              "minHeight": 40,
              "minWidth": 100,
              "name": "Benign-Prostate-1648133",
              "showMousePosition": true,
              "trackBorderColor": "black",
              "trackBorderWidth": 0
             },
             "server": "http://localhost:42979/api/v1",
             "tilesetUid": "bp7qe5hlTuWnWUXfC3eABQ",
             "type": "horizontal-heatmap",
             "uid": "fF8klEb-Squ5DdqdiKj6AQ"
            },
            {
             "height": 150,
             "options": {
              "backgroundColor": "#eeeeee",
              "colorRange": [
               "white",
               "rgba(245,166,35,1.0)",
               "rgba(208,2,27,1.0)",
               "black"
              ],
              "colorbarPosition": "topRight",
              "labelBottomMargin": 0,
              "labelColor": "black",
              "labelLeftMargin": 0,
              "labelPosition": "bottomRight",
              "labelRightMargin": 0,
              "labelShowAssembly": true,
              "labelShowResolution": true,
              "labelTopMargin": 0,
              "maxZoom": "15",
              "minHeight": 40,
              "minWidth": 100,
              "name": "Benign-Prostate-1595983",
              "showMousePosition": true,
              "trackBorderColor": "black",
              "trackBorderWidth": 0
             },
             "server": "http://localhost:42979/api/v1",
             "tilesetUid": "FivjvBeoRAmI3tggwMLWDw",
             "type": "horizontal-heatmap",
             "uid": "fjp9rrMVSfyr8DhPs2ZaVg"
            },
            {
             "height": 150,
             "options": {
              "backgroundColor": "#eeeeee",
              "colorRange": [
               "white",
               "rgba(245,166,35,1.0)",
               "rgba(208,2,27,1.0)",
               "black"
              ],
              "colorbarPosition": "topRight",
              "labelBottomMargin": 0,
              "labelColor": "black",
              "labelLeftMargin": 0,
              "labelPosition": "bottomRight",
              "labelRightMargin": 0,
              "labelShowAssembly": true,
              "labelShowResolution": true,
              "labelTopMargin": 0,
              "maxZoom": "15",
              "minHeight": 40,
              "minWidth": 100,
              "name": "Benign-Prostate-3330581",
              "showMousePosition": true,
              "trackBorderColor": "black",
              "trackBorderWidth": 0
             },
             "server": "http://localhost:42979/api/v1",
             "tilesetUid": "JaVFVbK0SNmMG_PFeSik9A",
             "type": "horizontal-heatmap",
             "uid": "fKv3QoiQSE2Us6mLVJo5ZA"
            },
            {
             "height": 150,
             "options": {
              "backgroundColor": "#eeeeee",
              "colorRange": [
               "white",
               "rgba(245,166,35,1.0)",
               "rgba(208,2,27,1.0)",
               "black"
              ],
              "colorbarPosition": "topRight",
              "labelBottomMargin": 0,
              "labelColor": "black",
              "labelLeftMargin": 0,
              "labelPosition": "bottomRight",
              "labelRightMargin": 0,
              "labelShowAssembly": true,
              "labelShowResolution": true,
              "labelTopMargin": 0,
              "maxZoom": "15",
              "minHeight": 40,
              "minWidth": 100,
              "name": "Benign-Prostate-1664855",
              "showMousePosition": true,
              "trackBorderColor": "black",
              "trackBorderWidth": 0
             },
             "server": "http://localhost:42979/api/v1",
             "tilesetUid": "XsWytOnMRCuKsWeUoKFDlg",
             "type": "horizontal-heatmap",
             "uid": "YleGk1a2S7WNFFq9MI5KHg"
            },
            {
             "height": 150,
             "options": {
              "backgroundColor": "#eeeeee",
              "colorRange": [
               "white",
               "rgba(245,166,35,1.0)",
               "rgba(208,2,27,1.0)",
               "black"
              ],
              "colorbarPosition": "topRight",
              "labelBottomMargin": 0,
              "labelColor": "black",
              "labelLeftMargin": 0,
              "labelPosition": "bottomRight",
              "labelRightMargin": 0,
              "labelShowAssembly": true,
              "labelShowResolution": true,
              "labelTopMargin": 0,
              "maxZoom": "15",
              "minHeight": 40,
              "minWidth": 100,
              "name": "Benign-Prostate-3320942",
              "showMousePosition": true,
              "trackBorderColor": "black",
              "trackBorderWidth": 0
             },
             "server": "http://localhost:42979/api/v1",
             "tilesetUid": "fCv_-cLUR7q9w16JwEdX9g",
             "type": "horizontal-heatmap",
             "uid": "KhLNQ75kTDOrTewU8Yv4yA"
            }
           ],
           "whole": []
          },
          "uid": "DtPer0D6QTqRdGlBPZHjqA"
         }
        ],
        "zoomLocks": {
         "locksByViewUid": {},
         "locksDict": {}
        }
       }
      }
     }
    },
    "version_major": 2,
    "version_minor": 0
   }
  }
 },
 "nbformat": 4,
 "nbformat_minor": 4
}
