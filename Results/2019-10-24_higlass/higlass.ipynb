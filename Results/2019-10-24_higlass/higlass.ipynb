{
 "cells": [
  {
   "cell_type": "code",
   "execution_count": 24,
   "metadata": {},
   "outputs": [
    {
     "name": "stdout",
     "output_type": "stream",
     "text": [
      "/Users/hawleyj/Documents/Davos/Results/2019-10-24_higlass\n"
     ]
    }
   ],
   "source": [
    "import higlass\n",
    "from higlass.client import View, Track, CombinedTrack\n",
    "from higlass.tilesets import cooler, beddb\n",
    "import os\n",
    "import os.path as path\n",
    "import pandas as pd\n",
    "#from clodius import \n",
    "\n",
    "import negspy.coordinates as nc\n",
    "\n",
    "print(os.getcwd())"
   ]
  },
  {
   "cell_type": "code",
   "execution_count": 25,
   "metadata": {
    "jupyter": {
     "source_hidden": true
    }
   },
   "outputs": [],
   "source": [
    "# load annotations\n",
    "chrom_labels = {\n",
    "    \"top\": Track(\n",
    "        track_type=\"horizontal-chromosome-labels\",\n",
    "        server=\"http://higlass.io/api/v1\",\n",
    "        tileset_uuid=\"NyITQvZsS_mOFNlz5C2LJg\",\n",
    "        position=\"top\"\n",
    "    ),\n",
    "    \"left\": Track(\n",
    "        track_type=\"vertical-chromosome-labels\",\n",
    "        server=\"http://higlass.io/api/v1\",\n",
    "        tileset_uuid=\"NyITQvZsS_mOFNlz5C2LJg\",\n",
    "        position=\"left\"\n",
    "    )\n",
    "}\n",
    "\n",
    "gene_annots = {\n",
    "    \"top\": Track(\n",
    "        track_type=\"horizontal-gene-annotations\",\n",
    "        server=\"http://higlass.io/api/v1\",\n",
    "        tileset_uuid=\"P0PLbQMwTYGy-5uPIQid7A\",\n",
    "        position=\"top\"\n",
    "    ),\n",
    "    \"left\": Track(\n",
    "        track_type=\"vertical-gene-annotations\",\n",
    "        server=\"http://higlass.io/api/v1\",\n",
    "        tileset_uuid=\"P0PLbQMwTYGy-5uPIQid7A\",\n",
    "        position=\"left\"\n",
    "    )\n",
    "}\n",
    "\n",
    "ctcf_motifs = {\n",
    "    \"top\": Track(\n",
    "        track_type=\"bedlike\",\n",
    "        server=\"http://higlass.io/api/v1\",\n",
    "        tileset_uuid=\"EkPGY0iFQx6Nq6vdF8CpWA\",\n",
    "        position=\"top\"\n",
    "    ),\n",
    "    \"left\": Track(\n",
    "        track_type=\"bedlike\",\n",
    "        server=\"http://higlass.io/api/v1\",\n",
    "        tileset_uuid=\"EkPGY0iFQx6Nq6vdF8CpWA\",\n",
    "        position=\"left\"\n",
    "    )\n",
    "}\n",
    "\n",
    "hg38 = nc.get_chrominfo(\"hg38\")"
   ]
  },
  {
   "cell_type": "code",
   "execution_count": 32,
   "metadata": {},
   "outputs": [],
   "source": [
    "metadata = pd.read_csv(path.join(\"..\", \"..\", \"Data\", \"External\", \"LowC_Samples_Data_Available.tsv\"), sep=\"\\t\", header=0)\n",
    "samples = [\"PCa\" + str(i) for i in metadata[\"Sample ID\"].tolist()]\n",
    "cooler_files = [path.join(\"..\", \"..\", \"Data\", \"Processed\", \"2019-06-18_PCa-LowC-sequencing\", \"Contacts\", s + \".mcool\") for s in samples]\n",
    "lowc_tilesets = {s: cooler(f) for s, f in zip(samples, cooler_files)}\n",
    "\n",
    "resolutions = [\n",
    "    1000, 2000, 3000, 4000, 5000,\n",
    "    10000, 20000, 30000, 40000, 50000,\n",
    "    100000, 200000, 300000, 400000, 500000,\n",
    "    1000000, 2000000, 3000000, 4000000, 5000000\n",
    "][::-1]\n",
    "\n",
    "lowc_heatmaps = {\n",
    "    s: {\n",
    "        \"top\": Track(\n",
    "            track_type='horizontal-heatmap',\n",
    "            position='top',\n",
    "            tileset=lowc_tilesets[s],\n",
    "            filetype=\"cooler\",\n",
    "            height=150,\n",
    "            options={\n",
    "                \"maxZoom\": str(resolutions.index(10000)),\n",
    "                \"colorbarPosition\": \"topRight\"\n",
    "            }\n",
    "        ),\n",
    "        \"bottom\": Track(\n",
    "            track_type='horizontal-heatmap',\n",
    "            position='bottom',\n",
    "            tileset=lowc_tilesets[s],\n",
    "            filetype=\"cooler\",\n",
    "            height=150,\n",
    "            options={\n",
    "                \"maxZoom\": str(resolutions.index(10000)),\n",
    "                \"colorbarPosition\": \"topRight\"\n",
    "            }\n",
    "        ),\n",
    "        \"left\": Track(\n",
    "            track_type='vertical-heatmap',\n",
    "            position='left',\n",
    "            tileset=lowc_tilesets[s],\n",
    "            filetype=\"cooler\",\n",
    "            width=150,\n",
    "            options={\n",
    "                \"maxZoom\": str(resolutions.index(10000))\n",
    "            }\n",
    "        ),\n",
    "        \"right\": Track(\n",
    "            track_type='vertical-heatmap',\n",
    "            position='right',\n",
    "            tileset=lowc_tilesets[s],\n",
    "            filetype=\"cooler\",\n",
    "            width=150,\n",
    "            options={\n",
    "                \"maxZoom\": str(resolutions.index(10000))\n",
    "            }\n",
    "        ),\n",
    "        \"centre\": Track(\n",
    "            track_type='heatmap',\n",
    "            position='center',\n",
    "            tileset=lowc_tilesets[s],\n",
    "            filetype=\"cooler\",\n",
    "            height=500,\n",
    "            options={\n",
    "                \"maxZoom\": str(resolutions.index(10000))\n",
    "            }\n",
    "        )\n",
    "    } for s in samples\n",
    "}"
   ]
  },
  {
   "cell_type": "code",
   "execution_count": 161,
   "metadata": {
    "jupyter": {
     "source_hidden": true
    }
   },
   "outputs": [],
   "source": [
    "tad_files = [path.join(\"..\", \"2020-01-15_TAD-aggregation\", \"resolved-TADs\", s + \".40000bp.aggregated-domains.bedGraph\") for s in samples]\n",
    "#tad_testfile = path.join(\"..\", \"2020-01-15_TAD-aggregation\", \"resolved-TADs\", \"PCa3023.40000bp.aggregated-domains.bedGraph.beddb\")\n",
    "#tad_testfile = path.join(\"..\", \"2020-01-15_TAD-aggregation\", \"resolved-TADs\", \"test.bed.beddb\")\n",
    "#tad_testtile = beddb(tad_testfile)\n",
    "# tad_clodius_files = [path.join(\"..\", \"2020-01-15_TAD-aggregation\", \"resolved-TADs\", s + \".40000bp.aggregated-domains.bedGraph\") for s in samples[4:5]]\n",
    "# tad_tilesets = {s: beddb(f) for s, f in zip(samples, tad_cfiles)}\n",
    "#tad_rectangles = {s: Track(\n",
    "#    track_type=\"horizontal-2d-rectangle-domains\",\n",
    "#    position=\"top\",\n",
    "#    tileset=tad_tilesets[s],\n",
    "#    filetype=\"beddb\"\n",
    "#) for s in samples}\n",
    "#tad_testtrack = Track(\n",
    "#    track_type=\"horizontal-2d-rectangle-domains\",\n",
    "#    position=\"top\",\n",
    "#    tileset=tad_testtile,\n",
    "#    filetype=\"bed2ddb\"\n",
    "#)\n",
    "#tad_testtrack = Track(\n",
    "#    track_type=\"bedlike\",\n",
    "#    position=\"top\",\n",
    "#    tileset=tad_testtile,\n",
    "#    filetype=\"beddb\"\n",
    "#)"
   ]
  },
  {
   "cell_type": "code",
   "execution_count": 12,
   "metadata": {
    "collapsed": true,
    "jupyter": {
     "outputs_hidden": true,
     "source_hidden": true
    }
   },
   "outputs": [
    {
     "data": {
      "application/vnd.jupyter.widget-view+json": {
       "model_id": "b230fb175d2f45a6b653adc6fa21240f",
       "version_major": 2,
       "version_minor": 0
      },
      "text/plain": [
       "HiGlassDisplay(viewconf={'editable': True, 'views': [{'uid': 'Au-goszQSNSaeLD4SjKlaA', 'tracks': {'top': [{'ty…"
      ]
     },
     "metadata": {},
     "output_type": "display_data"
    }
   ],
   "source": [
    "foxa1_view = View(\n",
    "    tracks=[chrom_labels[\"top\"], gene_annots[\"top\"]] + [lowc_heatmaps[s][\"top\"] for s in samples],\n",
    "    initialXDomain=[\n",
    "        nc.chr_pos_to_genome_pos(\"chr14\", 36000000, hg38),\n",
    "        nc.chr_pos_to_genome_pos(\"chr14\", 39000000, hg38)\n",
    "    ],\n",
    ")\n",
    "\n",
    "display, server, viewconf = higlass.display([foxa1_view])\n",
    "display"
   ]
  },
  {
   "cell_type": "code",
   "execution_count": 179,
   "metadata": {
    "collapsed": true,
    "jupyter": {
     "outputs_hidden": true,
     "source_hidden": true
    }
   },
   "outputs": [
    {
     "data": {
      "application/vnd.jupyter.widget-view+json": {
       "model_id": "760c91dd315746a487ec06acf5cd5718",
       "version_major": 2,
       "version_minor": 0
      },
      "text/plain": [
       "HiGlassDisplay(viewconf={'editable': True, 'views': [{'uid': 'fkRiwNlsSGy449nV3nm0pQ', 'tracks': {'top': [{'ty…"
      ]
     },
     "metadata": {},
     "output_type": "display_data"
    }
   ],
   "source": [
    "t2e_translocation = View(\n",
    "    tracks=[\n",
    "        chrom_labels[\"top\"], gene_annots[\"top\"],\n",
    "        chrom_labels[\"left\"], gene_annots[\"left\"],\n",
    "        lowc_heatmaps[\"PCa13848\"][\"bottom\"],\n",
    "        lowc_heatmaps[\"PCa13848\"][\"centre\"],\n",
    "        lowc_heatmaps[\"PCa13848\"][\"left\"],\n",
    "    ],\n",
    "    initialYDomain=[\n",
    "        nc.chr_pos_to_genome_pos(\"chr21\", 38000000, hg38),\n",
    "        nc.chr_pos_to_genome_pos(\"chr21\", 42000000, hg38)\n",
    "    ],\n",
    "    initialXDomain=[\n",
    "        nc.chr_pos_to_genome_pos(\"chr14\", 33000000, hg38),\n",
    "        nc.chr_pos_to_genome_pos(\"chr14\", 38000000, hg38)\n",
    "    ],\n",
    ")\n",
    "nont2e_translocation = View(\n",
    "    tracks=[\n",
    "\n",
    "        chrom_labels[\"left\"], gene_annots[\"left\"],\n",
    "        lowc_heatmaps[\"PCa3023\"][\"top\"],\n",
    "        lowc_heatmaps[\"PCa3023\"][\"centre\"],\n",
    "        lowc_heatmaps[\"PCa3023\"][\"left\"],\n",
    "    ],\n",
    "    initialYDomain=[\n",
    "        nc.chr_pos_to_genome_pos(\"chr21\", 38000000, hg38),\n",
    "        nc.chr_pos_to_genome_pos(\"chr21\", 42000000, hg38)\n",
    "    ],\n",
    "    initialXDomain=[\n",
    "        nc.chr_pos_to_genome_pos(\"chr14\", 33000000, hg38),\n",
    "        nc.chr_pos_to_genome_pos(\"chr14\", 38000000, hg38)\n",
    "    ],\n",
    ")\n",
    "\n",
    "display, server, viewconf = higlass.display([t2e_translocation, nont2e_translocation])\n",
    "display"
   ]
  },
  {
   "cell_type": "code",
   "execution_count": 43,
   "metadata": {
    "collapsed": true,
    "jupyter": {
     "outputs_hidden": true,
     "source_hidden": true
    }
   },
   "outputs": [
    {
     "data": {
      "application/vnd.jupyter.widget-view+json": {
       "model_id": "6d9b5be46503446990b1f8281e741a78",
       "version_major": 2,
       "version_minor": 0
      },
      "text/plain": [
       "HiGlassDisplay(viewconf={'editable': True, 'views': [{'uid': 'Cdg-ozpSQUyoZ-v5Z3ibug', 'tracks': {'top': [{'ty…"
      ]
     },
     "metadata": {},
     "output_type": "display_data"
    }
   ],
   "source": [
    "ar_tracks = [chrom_labels[\"top\"], gene_annots[\"top\"]] + [lowc_heatmaps[s][\"top\"] for s in samples]\n",
    "ar_view = View(\n",
    "    tracks=ar_tracks,\n",
    "    initialXDomain=[\n",
    "        nc.chr_pos_to_genome_pos(\"chrX\", 65040000, hg38),\n",
    "        nc.chr_pos_to_genome_pos(\"chrX\", 70200000, hg38)\n",
    "    ]\n",
    ")\n",
    "\n",
    "display, server, viewconf = higlass.display([ar_view], value_scale_syncs = [ar_tracks])\n",
    "display\n",
    "#help(higlass.display)"
   ]
  },
  {
   "cell_type": "code",
   "execution_count": 18,
   "metadata": {
    "collapsed": true,
    "jupyter": {
     "outputs_hidden": true
    }
   },
   "outputs": [
    {
     "data": {
      "application/vnd.jupyter.widget-view+json": {
       "model_id": "9cb54de31feb46b796a38b8aa83fa088",
       "version_major": 2,
       "version_minor": 0
      },
      "text/plain": [
       "HiGlassDisplay(viewconf={'editable': True, 'views': [{'uid': 'Ltt4yD7PSGu8sWAiQcZ5fw', 'tracks': {'top': [{'ty…"
      ]
     },
     "metadata": {},
     "output_type": "display_data"
    }
   ],
   "source": [
    "myc_view = View(\n",
    "    tracks=[chrom_labels[\"top\"], gene_annots[\"top\"]] + [lowc_heatmaps[s][\"top\"] for s in samples],\n",
    "    initialXDomain=[\n",
    "        nc.chr_pos_to_genome_pos(\"chr8\", 126000000, hg38),\n",
    "        nc.chr_pos_to_genome_pos(\"chr8\", 130000000, hg38)\n",
    "    ],\n",
    ")\n",
    "\n",
    "display, server, viewconf = higlass.display([myc_view])\n",
    "display"
   ]
  },
  {
   "cell_type": "code",
   "execution_count": 23,
   "metadata": {
    "collapsed": true,
    "jupyter": {
     "outputs_hidden": true,
     "source_hidden": true
    }
   },
   "outputs": [
    {
     "data": {
      "application/vnd.jupyter.widget-view+json": {
       "model_id": "f13aa9882e004dc8bdc42fb459825776",
       "version_major": 2,
       "version_minor": 0
      },
      "text/plain": [
       "HiGlassDisplay(viewconf={'editable': True, 'views': [{'uid': 'aEyN0ixJTzCXiOO_MrbBPQ', 'tracks': {'top': [{'ty…"
      ]
     },
     "metadata": {},
     "output_type": "display_data"
    }
   ],
   "source": [
    "ctcf_view = View(\n",
    "    tracks=[chrom_labels[\"top\"], gene_annots[\"top\"]] + [lowc_heatmaps[s][\"top\"] for s in samples],\n",
    "    initialXDomain=[\n",
    "        nc.chr_pos_to_genome_pos(\"chr16\", 65000000, hg38),\n",
    "        nc.chr_pos_to_genome_pos(\"chr16\", 69000000, hg38)\n",
    "    ],\n",
    ")\n",
    "yy1_view = View(\n",
    "    tracks=[chrom_labels[\"top\"], gene_annots[\"top\"]] + [lowc_heatmaps[s][\"top\"] for s in samples],\n",
    "    initialXDomain=[\n",
    "        nc.chr_pos_to_genome_pos(\"chr14\", 98000000, hg38),\n",
    "        nc.chr_pos_to_genome_pos(\"chr14\", 102000000, hg38)\n",
    "    ],\n",
    ")\n",
    "hoxb13_view = View(\n",
    "    tracks=[chrom_labels[\"top\"], gene_annots[\"top\"]] + [lowc_heatmaps[s][\"top\"] for s in samples],\n",
    "    initialXDomain=[\n",
    "        nc.chr_pos_to_genome_pos(\"chr17\", 46160000, hg38),\n",
    "        nc.chr_pos_to_genome_pos(\"chr17\", 51320000, hg38)\n",
    "    ],\n",
    ")\n",
    "\n",
    "display, server, viewconf = higlass.display([\n",
    "    ctcf_view\n",
    "])\n",
    "display"
   ]
  },
  {
   "cell_type": "code",
   "execution_count": 42,
   "metadata": {
    "jupyter": {
     "source_hidden": true
    }
   },
   "outputs": [
    {
     "data": {
      "application/vnd.jupyter.widget-view+json": {
       "model_id": "c7d75beeb6e34ae587f98c7b0c7f4cb1",
       "version_major": 2,
       "version_minor": 0
      },
      "text/plain": [
       "HiGlassDisplay(viewconf={'editable': True, 'views': [{'uid': 'E6czkXM5RUus3KW_CQF1HA', 'tracks': {'top': [{'ty…"
      ]
     },
     "metadata": {},
     "output_type": "display_data"
    }
   ],
   "source": [
    "t2e_view = View(\n",
    "    tracks=(\n",
    "        [chrom_labels[\"top\"], gene_annots[\"top\"]]\n",
    "        + [lowc_heatmaps[\"PCa\" + str(s)][\"top\"] for s in metadata.loc[metadata[\"T2E Status\"] == \"Yes\", \"Sample ID\"]]\n",
    "        + [lowc_heatmaps[\"PCa\" + str(s)][\"top\"] for s in metadata.loc[metadata[\"T2E Status\"] == \"No\", \"Sample ID\"]]\n",
    "    ),\n",
    "    initialXDomain=[\n",
    "        nc.chr_pos_to_genome_pos(\"chr21\", 30000000, hg38),\n",
    "        nc.chr_pos_to_genome_pos(\"chr21\", 48000000, hg38)\n",
    "    ],\n",
    ")\n",
    "\n",
    "display, server, viewconf = higlass.display([\n",
    "    t2e_view\n",
    "])\n",
    "display"
   ]
  },
  {
   "cell_type": "code",
   "execution_count": null,
   "metadata": {},
   "outputs": [],
   "source": []
  }
 ],
 "metadata": {
  "file_extension": ".py",
  "kernelspec": {
   "display_name": "Python 3.7.3 64-bit ('base': conda)",
   "language": "python",
   "name": "python37364bitbasecondab15c031cd63a499983704f93d1181c69"
  },
  "language_info": {
   "codemirror_mode": {
    "name": "ipython",
    "version": 3
   },
   "file_extension": ".py",
   "mimetype": "text/x-python",
   "name": "python",
   "nbconvert_exporter": "python",
   "pygments_lexer": "ipython3",
   "version": "3.7.3"
  },
  "mimetype": "text/x-python",
  "name": "python",
  "npconvert_exporter": "python",
  "pygments_lexer": "ipython3",
  "version": 3
 },
 "nbformat": 4,
 "nbformat_minor": 4
}
