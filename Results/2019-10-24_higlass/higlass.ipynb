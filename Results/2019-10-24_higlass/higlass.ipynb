{
 "cells": [
  {
   "cell_type": "markdown",
   "metadata": {},
   "source": [
    "# Environment"
   ]
  },
  {
   "cell_type": "code",
   "execution_count": 2,
   "metadata": {},
   "outputs": [
    {
     "name": "stdout",
     "output_type": "stream",
     "text": [
      "/c/Users/james/Documents/Davos/Results/2019-10-24_higlass\n",
      "0.14.2\n",
      "0.4.0\n"
     ]
    }
   ],
   "source": [
    "import higlass\n",
    "from higlass.client import View, Track, CombinedTrack\n",
    "from higlass.tilesets import cooler, beddb, chromsizes, bigwig, Tileset\n",
    "import clodius\n",
    "import os\n",
    "import os.path as path\n",
    "import pandas as pd\n",
    "import itertools\n",
    "\n",
    "import negspy.coordinates as nc\n",
    "\n",
    "print(os.getcwd())\n",
    "print(clodius.__version__)\n",
    "print(higlass.__version__)"
   ]
  },
  {
   "cell_type": "markdown",
   "metadata": {},
   "source": [
    "## Load annotations"
   ]
  },
  {
   "cell_type": "code",
   "execution_count": 3,
   "metadata": {},
   "outputs": [],
   "source": [
    "genes = beddb(\"Data/hg38/gene-annotations-hg38.beddb\")\n",
    "chrom_sizes = chromsizes(\"hg38.chrom.sizes\")\n",
    "\n",
    "chrom_labels = {\n",
    "    \"top\": Track(\n",
    "        track_type=\"horizontal-chromosome-labels\",\n",
    "        tileset=chrom_sizes,\n",
    "        position=\"top\",\n",
    "        options={\n",
    "            \"fontSize\": 16,\n",
    "            \"showMousePosition\": True,\n",
    "        },\n",
    "    ),\n",
    "    \"left\": Track(\n",
    "        track_type=\"vertical-chromosome-labels\",\n",
    "        tileset=chrom_sizes,\n",
    "        position=\"left\",\n",
    "        options={\n",
    "            \"fontSize\": 16,\n",
    "            \"showMousePosition\": True,\n",
    "        },\n",
    "    )\n",
    "}\n",
    "\n",
    "gene_annots = {\n",
    "    \"top\": Track(\n",
    "        track_type=\"horizontal-gene-annotations\",\n",
    "        tileset=genes,\n",
    "        position=\"top\",\n",
    "        height=150,\n",
    "        options={\n",
    "            \"fontSize\": 16,\n",
    "            \"showMousePosition\": True,\n",
    "        },\n",
    "    ),\n",
    "    \"left\": Track(\n",
    "        track_type=\"vertical-gene-annotations\",\n",
    "        tileset=genes,\n",
    "        position=\"left\",\n",
    "        options={\n",
    "            \"fontSize\": 16,\n",
    "            \"showMousePosition\": True,\n",
    "        },\n",
    "    )\n",
    "}\n",
    "\n",
    "ctcf_motifs = {\n",
    "    \"top\": Track(\n",
    "        track_type=\"bedlike\",\n",
    "        server=\"//higlass.io/api/v1\",\n",
    "        tileset_uuid=\"EkPGY0iFQx6Nq6vdF8CpWA\",\n",
    "        position=\"top\",\n",
    "        options={\n",
    "            \"fontSize\": 12,\n",
    "            \"showMousePosition\": True,\n",
    "        },\n",
    "    ),\n",
    "    \"left\": Track(\n",
    "        track_type=\"bedlike\",\n",
    "        server=\"//higlass.io/api/v1\",\n",
    "        tileset_uuid=\"EkPGY0iFQx6Nq6vdF8CpWA\",\n",
    "        position=\"left\",\n",
    "        options={\n",
    "            \"fontSize\": 12,\n",
    "            \"showMousePosition\": True,\n",
    "        },\n",
    "    )\n",
    "}\n",
    "\n",
    "hg38 = nc.get_chrominfo(\"hg38\")"
   ]
  },
  {
   "cell_type": "markdown",
   "metadata": {},
   "source": [
    "# Data\n",
    "## Contact matrices"
   ]
  },
  {
   "cell_type": "code",
   "execution_count": 4,
   "metadata": {},
   "outputs": [],
   "source": [
    "metadata = pd.read_csv(path.join(\"..\", \"..\", \"Data\", \"External\", \"LowC_Samples_Data_Available.tsv\"), sep=\"\\t\", header=0)\n",
    "tumour_samples = [\"PCa\" + str(i) for i in metadata[\"Sample ID\"].tolist()]\n",
    "\n",
    "benign_metadata = pd.read_csv(path.join(\"..\", \"..\", \"Data\", \"Raw\", \"191220_A00827_0104_AHMW25DMXX\", \"config.tsv\"), sep=\"\\t\", header=0)\n",
    "benign_metadata = benign_metadata.loc[~benign_metadata[\"Sample\"].str.startswith(\"PCa\"), :]\n",
    "benign_samples = benign_metadata[\"Sample\"].tolist()\n",
    "\n",
    "all_samples = tumour_samples + benign_samples\n",
    "\n",
    "cooler_files = (\n",
    "    [path.join(\"..\", \"..\", \"Data\", \"Processed\", \"2019-06-18_PCa-LowC-sequencing\", \"Contacts\", s + \".mcool\") for s in tumour_samples]\n",
    "    + [path.join(\"..\", \"..\", \"Data\", \"Raw\", \"191220_A00827_0104_AHMW25DMXX\", \"Contacts\", s + \".mcool\") for s in benign_samples]\n",
    ")\n",
    "lowc_tilesets = {s: cooler(f) for s, f in zip(all_samples, cooler_files)}\n",
    "\n",
    "resolutions = [\n",
    "    1000, 2000, 3000, 4000, 5000,\n",
    "    10000, 20000, 30000, 40000, 50000,\n",
    "    100000, 200000, 300000, 400000, 500000,\n",
    "    1000000, 2000000, 3000000, 4000000, 5000000\n",
    "][::-1]\n",
    "\n",
    "min_resolution = 5000\n",
    "\n",
    "heatmap_size = 150\n",
    "lowc_heatmaps = {\n",
    "    s: {\n",
    "        \"top\": Track(\n",
    "            track_type='horizontal-heatmap',\n",
    "            position='top',\n",
    "            tileset=lowc_tilesets[s],\n",
    "            filetype=\"cooler\",\n",
    "            height=heatmap_size,\n",
    "            options={\n",
    "                \"maxZoom\": str(resolutions.index(min_resolution)),\n",
    "                \"colorbarPosition\": \"topRight\",\n",
    "                \"showMousePosition\": True,\n",
    "                \"name\": s,\n",
    "            },\n",
    "        ),\n",
    "        \"bottom\": Track(\n",
    "            track_type='horizontal-heatmap',\n",
    "            position='bottom',\n",
    "            tileset=lowc_tilesets[s],\n",
    "            filetype=\"cooler\",\n",
    "            height=heatmap_size,\n",
    "            options={\n",
    "                \"maxZoom\": str(resolutions.index(min_resolution)),\n",
    "                \"colorbarPosition\": \"topRight\",\n",
    "                \"showMousePosition\": True,\n",
    "                \"name\": s,\n",
    "            }\n",
    "        ),\n",
    "        \"left\": Track(\n",
    "            track_type='vertical-heatmap',\n",
    "            position='left',\n",
    "            tileset=lowc_tilesets[s],\n",
    "            filetype=\"cooler\",\n",
    "            width=heatmap_size,\n",
    "            options={\n",
    "                \"maxZoom\": str(resolutions.index(min_resolution)),\n",
    "                \"colorbarPosition\": \"topRight\",\n",
    "                \"showMousePosition\": True,\n",
    "                \"name\": s,\n",
    "            }\n",
    "        ),\n",
    "        \"right\": Track(\n",
    "            track_type='vertical-heatmap',\n",
    "            position='right',\n",
    "            tileset=lowc_tilesets[s],\n",
    "            filetype=\"cooler\",\n",
    "            width=heatmap_size,\n",
    "            options={\n",
    "                \"maxZoom\": str(resolutions.index(min_resolution)),\n",
    "                \"colorbarPosition\": \"topRight\",\n",
    "                \"showMousePosition\": True,\n",
    "                \"name\": s,\n",
    "            }\n",
    "        ),\n",
    "        \"centre\": Track(\n",
    "            track_type='heatmap',\n",
    "            position='center',\n",
    "            tileset=lowc_tilesets[s],\n",
    "            filetype=\"cooler\",\n",
    "            height=2 * heatmap_size,\n",
    "            options={\n",
    "                \"maxZoom\": str(resolutions.index(min_resolution)),\n",
    "                \"colorbarPosition\": \"topRight\",\n",
    "                \"showMousePosition\": True,\n",
    "                \"name\": s,\n",
    "            }\n",
    "        )\n",
    "    } for s in all_samples\n",
    "}"
   ]
  },
  {
   "cell_type": "markdown",
   "metadata": {},
   "source": [
    "## TADs"
   ]
  },
  {
   "cell_type": "code",
   "execution_count": 5,
   "metadata": {},
   "outputs": [],
   "source": [
    "windows = list(range(3, 31))\n",
    "\n",
    "tad_1D_files = {s: {w: path.join(\"..\", \"2020-01-15_TAD-aggregation\", \"resolved-TADs\", \"separated-TADs\", s + \".40000bp.w_\" + str(w) + \".domains.beddb\") for w in windows} for s in tumour_samples}\n",
    "tad_2D_files = {s: {w: path.join(\"..\", \"2020-01-15_TAD-aggregation\", \"resolved-TADs\", \"separated-TADs\", s + \".40000bp.w_\" + str(w) + \".domains.bed2ddb\") for w in windows} for s in tumour_samples}\n",
    "htad_files = {s: path.join(\"..\", \"2020-01-15_TAD-aggregation\", \"resolved-TADs\", s + \".40000bp.aggregated-domains.bed2ddb\") for s in tumour_samples}\n",
    "\n",
    "def bed2ddb(filepath, uuid=None, **kwargs):\n",
    "    from clodius.tiles.utils import tiles_wrapper_2d\n",
    "    from clodius.tiles.bed2ddb import get_2d_tileset_info, get_2D_tiles\n",
    "    return Tileset(\n",
    "        uuid=uuid,\n",
    "        tileset_info=lambda: get_2d_tileset_info(filepath),\n",
    "        tiles=lambda tids: tiles_wrapper_2d(\n",
    "            tids,\n",
    "            lambda z,x,y: get_2D_tiles(filepath, z, x, y)[(x, y)]\n",
    "        ),\n",
    "        **kwargs\n",
    "    )\n",
    "\n",
    "tad_1D_tilesets = {s: {w: beddb(v[w], name=s + \" TADs (w=\" + str(w) +\")\") for w in windows} for s, v in tad_1D_files.items()}\n",
    "tad_2D_tilesets = {s: {w: bed2ddb(v[w], name=s + \" TADs (w=\" + str(w) +\")\") for w in windows} for s, v in tad_2D_files.items()}\n",
    "htad_tilesets = {s: bed2ddb(v, name=s + \" TADs\") for s, v in htad_files.items()}\n",
    "\n",
    "tads = {\n",
    "    s: {\n",
    "        w: {\n",
    "           \"top\": Track(\n",
    "                track_type=\"bedlike\",\n",
    "                position='top',\n",
    "                tileset=tad_1D_tilesets[s][w],\n",
    "                filetype=\"beddb\",\n",
    "                options={\n",
    "                    \"showMousePosition\": True,\n",
    "                    \"name\": \"{} (w = {})\".format(s, w),\n",
    "                },\n",
    "            ),\n",
    "            \"bottom\": Track(\n",
    "                track_type=\"bedlike\",\n",
    "                position='bottom',\n",
    "                tileset=tad_1D_tilesets[s][w],\n",
    "                filetype=\"beddb\",\n",
    "                options={\n",
    "                    \"showMousePosition\": True,\n",
    "                    \"name\": \"{} (w = {})\".format(s, w),\n",
    "                },\n",
    "            ),\n",
    "            \"left\": Track(\n",
    "                track_type=\"bedlike\",\n",
    "                position=\"left\",\n",
    "                tileset=tad_1D_tilesets[s][w],\n",
    "                filetype=\"beddb\",\n",
    "                options={\n",
    "                    \"showMousePosition\": True,\n",
    "                    \"name\": \"{} (w = {})\".format(s, w),\n",
    "                },\n",
    "            ),\n",
    "            \"right\": Track(\n",
    "                track_type=\"bedlike\",\n",
    "                position=\"right\",\n",
    "                tileset=tad_1D_tilesets[s][w],\n",
    "                filetype=\"beddb\",\n",
    "                options={\n",
    "                    \"showMousePosition\": True,\n",
    "                    \"name\": \"{} (w = {})\".format(s, w),\n",
    "                },\n",
    "            ),\n",
    "        } for w in windows\n",
    "    } for s in tumour_samples\n",
    "}\n",
    "\n",
    "tad_polygons = {\n",
    "    s: {\n",
    "        w: {\n",
    "           \"top\": Track(\n",
    "                track_type=\"horizontal-2d-rectangle-domains\",\n",
    "                position=\"top\",\n",
    "                tileset=tad_2D_tilesets[s][w],\n",
    "                filetype=\"bed2ddb\",\n",
    "                options={\n",
    "                    \"showMousePosition\": True,\n",
    "                    \"name\": \"{} (w = {})\".format(s, w),\n",
    "                },\n",
    "            ),\n",
    "            \"bottom\": Track(\n",
    "                track_type=\"horizontal-2d-rectangle-domains\",\n",
    "                position='bottom',\n",
    "                tileset=tad_2D_tilesets[s][w],\n",
    "                filetype=\"bed2ddb\",\n",
    "                options={\n",
    "                    \"showMousePosition\": True,\n",
    "                    \"name\": \"{} (w = {})\".format(s, w),\n",
    "                },\n",
    "            ),\n",
    "            \"centre\": Track(\n",
    "                track_type=\"2d-rectangle-domains\",\n",
    "                position=\"center\",\n",
    "                tileset=tad_2D_tilesets[s][w],\n",
    "                filetype=\"bed2ddb\",\n",
    "                options={\n",
    "                    \"showMousePosition\": True,\n",
    "                    \"name\": \"{} (w = {})\".format(s, w),\n",
    "                },\n",
    "            ),\n",
    "        } for w in windows\n",
    "    } for s in tumour_samples\n",
    "}\n",
    "\n",
    "hierarchical_tads = {\n",
    "    s: {\n",
    "       \"top\": Track(\n",
    "            track_type=\"2d-rectangle-domains\",\n",
    "            position=\"top\",\n",
    "            tileset=htad_tilesets[s],\n",
    "            filetype=\"bed2ddb\",\n",
    "            options={\n",
    "                \"showMousePosition\": True,\n",
    "                \"name\": s,\n",
    "            },\n",
    "        ),\n",
    "        \"bottom\": Track(\n",
    "            track_type=\"2d-rectangle-domains\",\n",
    "            position=\"bottom\",\n",
    "            tileset=htad_tilesets[s],\n",
    "            filetype=\"bed2ddb\",\n",
    "            options={\n",
    "                \"showMousePosition\": True,\n",
    "                \"name\": s,\n",
    "            },\n",
    "        ),\n",
    "        \"centre\": Track(\n",
    "            track_type=\"2d-rectangle-domains\",\n",
    "            position=\"center\",\n",
    "            tileset=htad_tilesets[s],\n",
    "            filetype=\"bed2ddb\",\n",
    "            options={\n",
    "                \"showMousePosition\": True,\n",
    "                \"name\": s,\n",
    "            }\n",
    "        ),\n",
    "    } for s in tumour_samples\n",
    "}"
   ]
  },
  {
   "cell_type": "markdown",
   "metadata": {},
   "source": [
    "## H3K27ac ChIP-seq"
   ]
  },
  {
   "cell_type": "code",
   "execution_count": 6,
   "metadata": {},
   "outputs": [],
   "source": [
    "chip_files = {s: path.join(\"..\", \"..\", \"Data\", \"Processed\", \"2019-05-03_PCa-H3K27ac-peaks\", \"Peaks\", s + \"_treat_pileup.filtered.bw\") for s in tumour_samples}\n",
    "chip_tilesets = {s: bigwig(f) for s, f in chip_files.items()}\n",
    "chip = {\n",
    "    s: {\n",
    "        \"top\": Track(\n",
    "            track_type=\"horizontal-line\",\n",
    "            position=\"top\",\n",
    "            tileset=ts,\n",
    "            filetype=\"vector\",\n",
    "            options={\n",
    "                \"showMousePosition\": True,\n",
    "                \"name\": s,\n",
    "            },\n",
    "        ),\n",
    "        \"bottom\": Track(\n",
    "            track_type=\"horizontal-line\",\n",
    "            position=\"bottom\",\n",
    "            tileset=ts,\n",
    "            filetype=\"vector\",\n",
    "            options={\n",
    "                \"showMousePosition\": True,\n",
    "                \"name\": s,\n",
    "            },\n",
    "        ),\n",
    "        \"left\": Track(\n",
    "            track_type=\"vertical-line\",\n",
    "            position=\"left\",\n",
    "            tileset=ts,\n",
    "            filetype=\"vector\",\n",
    "            options={\n",
    "                \"showMousePosition\": True,\n",
    "                \"name\": s,\n",
    "            },\n",
    "        ),\n",
    "        \"right\": Track(\n",
    "            track_type=\"vertical-line\",\n",
    "            position=\"right\",\n",
    "            tileset=ts,\n",
    "            filetype=\"vector\",\n",
    "            options={\n",
    "                \"showMousePosition\": True,\n",
    "                \"name\": s,\n",
    "            },\n",
    "        ),\n",
    "    } for s, ts in chip_tilesets.items()\n",
    "}"
   ]
  },
  {
   "cell_type": "markdown",
   "metadata": {},
   "source": [
    "# Images\n",
    "## Generic"
   ]
  },
  {
   "cell_type": "code",
   "execution_count": 7,
   "metadata": {
    "jupyter": {
     "outputs_hidden": true
    }
   },
   "outputs": [
    {
     "data": {
      "application/vnd.jupyter.widget-view+json": {
       "model_id": "853f9175ad544319906e6db26e05b9e0",
       "version_major": 2,
       "version_minor": 0
      },
      "text/plain": [
       "HiGlassDisplay(viewconf={'editable': True, 'views': [{'uid': 'd6gpcrfPQNSk8rzbS_FDYg', 'tracks': {'top': [{'ty…"
      ]
     },
     "metadata": {},
     "output_type": "display_data"
    }
   ],
   "source": [
    "display, server, viewconf = higlass.display([\n",
    "    View(\n",
    "        tracks=[chrom_labels[\"top\"], gene_annots[\"top\"]],\n",
    "        initialXDomain=[\n",
    "            nc.chr_pos_to_genome_pos(\"chr14\", 36000000, hg38),\n",
    "            nc.chr_pos_to_genome_pos(\"chr14\", 39000000, hg38)\n",
    "        ],\n",
    "    )\n",
    "])\n",
    "display"
   ]
  },
  {
   "cell_type": "markdown",
   "metadata": {},
   "source": [
    "## FOXA1"
   ]
  },
  {
   "cell_type": "code",
   "execution_count": 8,
   "metadata": {
    "jupyter": {
     "outputs_hidden": true
    }
   },
   "outputs": [
    {
     "data": {
      "application/vnd.jupyter.widget-view+json": {
       "model_id": "9ea4e54aed0249879f7d44d5fb94e78e",
       "version_major": 2,
       "version_minor": 0
      },
      "text/plain": [
       "HiGlassDisplay(viewconf={'editable': True, 'views': [{'uid': 'LH55Wxz6SqaO0xrLXmhlTA', 'tracks': {'top': [{'ty…"
      ]
     },
     "metadata": {},
     "output_type": "display_data"
    }
   ],
   "source": [
    "foxa1_view = View(\n",
    "    tracks=[chrom_labels[\"top\"], gene_annots[\"top\"]]\n",
    "        + [CombinedTrack([lowc_heatmaps[\"PCa13848\"][\"centre\"], tad_polygons[\"PCa13848\"][10][\"centre\"]])]\n",
    "    ,\n",
    "    initialXDomain=[\n",
    "        nc.chr_pos_to_genome_pos(\"chr14\", 36000000, hg38),\n",
    "        nc.chr_pos_to_genome_pos(\"chr14\", 39000000, hg38)\n",
    "    ],\n",
    ")\n",
    "\n",
    "display, server, viewconf = higlass.display([foxa1_view])\n",
    "display"
   ]
  },
  {
   "cell_type": "markdown",
   "metadata": {},
   "source": [
    "## _TMPRSS2_-_ERG_ fusion"
   ]
  },
  {
   "cell_type": "code",
   "execution_count": 62,
   "metadata": {},
   "outputs": [
    {
     "data": {
      "application/vnd.jupyter.widget-view+json": {
       "model_id": "03093f458913452aa3f02492f18faafe",
       "version_major": 2,
       "version_minor": 0
      },
      "text/plain": [
       "HiGlassDisplay(viewconf={'editable': True, 'views': [{'uid': 'E6HJVfeYSnG6xXk5r1c4Mw', 'tracks': {'top': [{'ty…"
      ]
     },
     "metadata": {},
     "output_type": "display_data"
    }
   ],
   "source": [
    "t2e_view = View(\n",
    "    tracks=[chrom_labels[\"top\"], gene_annots[\"top\"]]\n",
    "        + [lowc_heatmaps[\"PCa\" + str(s)][\"top\"] for s in metadata.loc[metadata[\"T2E Status\"] == \"Yes\", \"Sample ID\"]]\n",
    "        + [lowc_heatmaps[\"PCa\" + str(s)][\"top\"] for s in metadata.loc[metadata[\"T2E Status\"] == \"No\", \"Sample ID\"]]\n",
    "        + [lowc_heatmaps[s][\"top\"] for s in benign_samples],\n",
    "    initialXDomain=[\n",
    "        nc.chr_pos_to_genome_pos(\"chr21\", 30000000, hg38),\n",
    "        nc.chr_pos_to_genome_pos(\"chr21\", 48000000, hg38)\n",
    "    ],\n",
    ")\n",
    "\n",
    "display, server, viewconf = higlass.display([\n",
    "    t2e_view\n",
    "])\n",
    "display"
   ]
  },
  {
   "cell_type": "markdown",
   "metadata": {},
   "source": [
    "## T2E translocation"
   ]
  },
  {
   "cell_type": "code",
   "execution_count": 63,
   "metadata": {
    "jupyter": {
     "outputs_hidden": true
    },
    "scrolled": false
   },
   "outputs": [
    {
     "data": {
      "application/vnd.jupyter.widget-view+json": {
       "model_id": "a3eec3fb7da043328be14dbacd438a2a",
       "version_major": 2,
       "version_minor": 0
      },
      "text/plain": [
       "HiGlassDisplay(viewconf={'editable': True, 'views': [{'uid': 'YCiq_h_qR5Wa_uM2Y-Atlw', 'tracks': {'top': [{'ty…"
      ]
     },
     "metadata": {},
     "output_type": "display_data"
    }
   ],
   "source": [
    "t2e_translocation = View(\n",
    "    tracks=[\n",
    "        chrom_labels[\"top\"], gene_annots[\"top\"],\n",
    "        chrom_labels[\"left\"], gene_annots[\"left\"],\n",
    "        lowc_heatmaps[\"PCa13848\"][\"bottom\"],\n",
    "        lowc_heatmaps[\"PCa13848\"][\"centre\"],\n",
    "        lowc_heatmaps[\"PCa13848\"][\"left\"],\n",
    "        #hierarchical_tads[\"PCa13848\"]\n",
    "    ],\n",
    "    initialYDomain=[\n",
    "        nc.chr_pos_to_genome_pos(\"chr21\", 38000000, hg38),\n",
    "        nc.chr_pos_to_genome_pos(\"chr21\", 42000000, hg38)\n",
    "    ],\n",
    "    initialXDomain=[\n",
    "        nc.chr_pos_to_genome_pos(\"chr14\", 33000000, hg38),\n",
    "        nc.chr_pos_to_genome_pos(\"chr14\", 38000000, hg38)\n",
    "    ],\n",
    ")\n",
    "nont2e_translocation = View(\n",
    "    tracks=[\n",
    "        chrom_labels[\"left\"], gene_annots[\"left\"],\n",
    "        lowc_heatmaps[\"PCa3023\"][\"top\"],\n",
    "        lowc_heatmaps[\"PCa3023\"][\"centre\"],\n",
    "        lowc_heatmaps[\"PCa3023\"][\"left\"],\n",
    "    ],\n",
    "    initialYDomain=[\n",
    "        nc.chr_pos_to_genome_pos(\"chr21\", 38500000, hg38),\n",
    "        nc.chr_pos_to_genome_pos(\"chr21\", 41500000, hg38)\n",
    "    ],\n",
    "    initialXDomain=[\n",
    "        nc.chr_pos_to_genome_pos(\"chr14\", 33000000, hg38),\n",
    "        nc.chr_pos_to_genome_pos(\"chr14\", 38000000, hg38)\n",
    "    ],\n",
    ")\n",
    "\n",
    "display, server, viewconf = higlass.display([t2e_translocation, nont2e_translocation])\n",
    "display"
   ]
  },
  {
   "cell_type": "code",
   "execution_count": 72,
   "metadata": {},
   "outputs": [
    {
     "data": {
      "application/vnd.jupyter.widget-view+json": {
       "model_id": "7913016833e245e2b35cdcf7df04cf67",
       "version_major": 2,
       "version_minor": 0
      },
      "text/plain": [
       "HiGlassDisplay(viewconf={'editable': True, 'views': [{'uid': 'SWsGQVD1SySHCsnuEIFrJg', 'tracks': {'top': [{'ty…"
      ]
     },
     "metadata": {},
     "output_type": "display_data"
    }
   ],
   "source": [
    "t2e_translocation_insertion = View(\n",
    "    tracks=[\n",
    "        chrom_labels[\"top\"], gene_annots[\"top\"],\n",
    "        chrom_labels[\"left\"], gene_annots[\"left\"],\n",
    "        lowc_heatmaps[\"PCa13848\"][\"centre\"],\n",
    "        tads[\"PCa13848\"][3][\"top\"],\n",
    "    ],\n",
    "    initialXDomain=[\n",
    "        nc.chr_pos_to_genome_pos(\"chr14\", 34000000, hg38),\n",
    "        nc.chr_pos_to_genome_pos(\"chr14\", 37000000, hg38)\n",
    "    ],\n",
    ")\n",
    "nont2e_translocation_insertion = View(\n",
    "    tracks=[\n",
    "        chrom_labels[\"left\"], gene_annots[\"left\"],\n",
    "        lowc_heatmaps[\"PCa3023\"][\"centre\"],\n",
    "        tads[\"PCa3023\"][3][\"top\"],\n",
    "    ],\n",
    "    initialXDomain=[\n",
    "        nc.chr_pos_to_genome_pos(\"chr14\", 34000000, hg38),\n",
    "        nc.chr_pos_to_genome_pos(\"chr14\", 37000000, hg38)\n",
    "    ],\n",
    ")\n",
    "display, server, viewconf = higlass.display([t2e_translocation_insertion, nont2e_translocation_insertion])\n",
    "display"
   ]
  },
  {
   "cell_type": "markdown",
   "metadata": {},
   "source": [
    "## AR"
   ]
  },
  {
   "cell_type": "code",
   "execution_count": 69,
   "metadata": {
    "scrolled": true
   },
   "outputs": [
    {
     "data": {
      "application/vnd.jupyter.widget-view+json": {
       "model_id": "ca1d06c57b174a28b65818457074283b",
       "version_major": 2,
       "version_minor": 0
      },
      "text/plain": [
       "HiGlassDisplay(viewconf={'editable': True, 'views': [{'uid': 'KwEtq-7mR9OkhqEra0y_VQ', 'tracks': {'top': [{'ty…"
      ]
     },
     "metadata": {},
     "output_type": "display_data"
    }
   ],
   "source": [
    "ar_tracks = [chrom_labels[\"top\"], gene_annots[\"top\"]] + [lowc_heatmaps[s][\"top\"] for s in all_samples]\n",
    "ar_view = View(\n",
    "    tracks=ar_tracks,\n",
    "    initialXDomain=[\n",
    "        nc.chr_pos_to_genome_pos(\"chrX\", 65040000, hg38),\n",
    "        nc.chr_pos_to_genome_pos(\"chrX\", 70200000, hg38)\n",
    "    ]\n",
    ")\n",
    "\n",
    "display, server, viewconf = higlass.display([ar_view], value_scale_syncs = [ar_tracks])\n",
    "display"
   ]
  },
  {
   "cell_type": "markdown",
   "metadata": {},
   "source": [
    "## MYC"
   ]
  },
  {
   "cell_type": "code",
   "execution_count": 70,
   "metadata": {
    "scrolled": true
   },
   "outputs": [
    {
     "data": {
      "application/vnd.jupyter.widget-view+json": {
       "model_id": "d65fcffbae0b4d7d92b3de499bbb521d",
       "version_major": 2,
       "version_minor": 0
      },
      "text/plain": [
       "HiGlassDisplay(viewconf={'editable': True, 'views': [{'uid': 'Zokpmwj3Tkeb6EN7yvRYgQ', 'tracks': {'top': [{'ty…"
      ]
     },
     "metadata": {},
     "output_type": "display_data"
    }
   ],
   "source": [
    "myc_view = View(\n",
    "    tracks=[chrom_labels[\"top\"], gene_annots[\"top\"]] + [lowc_heatmaps[s][\"top\"] for s in all_samples],\n",
    "    initialXDomain=[\n",
    "        nc.chr_pos_to_genome_pos(\"chr8\", 126000000, hg38),\n",
    "        nc.chr_pos_to_genome_pos(\"chr8\", 130000000, hg38)\n",
    "    ],\n",
    ")\n",
    "\n",
    "display, server, viewconf = higlass.display([myc_view])\n",
    "display"
   ]
  },
  {
   "cell_type": "markdown",
   "metadata": {},
   "source": [
    "## CTCF, YY1, HOXB13"
   ]
  },
  {
   "cell_type": "code",
   "execution_count": 71,
   "metadata": {
    "scrolled": true
   },
   "outputs": [
    {
     "data": {
      "application/vnd.jupyter.widget-view+json": {
       "model_id": "f92e93f4f02d44e9926339b0d8ae8df0",
       "version_major": 2,
       "version_minor": 0
      },
      "text/plain": [
       "HiGlassDisplay(viewconf={'editable': True, 'views': [{'uid': 'ZJB36s4QRhWFVCjNKn_GyA', 'tracks': {'top': [{'ty…"
      ]
     },
     "metadata": {},
     "output_type": "display_data"
    }
   ],
   "source": [
    "ctcf_view = View(\n",
    "    tracks=[chrom_labels[\"top\"], gene_annots[\"top\"]] + [lowc_heatmaps[s][\"top\"] for s in all_samples],\n",
    "    initialXDomain=[\n",
    "        nc.chr_pos_to_genome_pos(\"chr16\", 65000000, hg38),\n",
    "        nc.chr_pos_to_genome_pos(\"chr16\", 69000000, hg38)\n",
    "    ],\n",
    ")\n",
    "yy1_view = View(\n",
    "    tracks=[chrom_labels[\"top\"], gene_annots[\"top\"]] + [lowc_heatmaps[s][\"top\"] for s in all_samples],\n",
    "    initialXDomain=[\n",
    "        nc.chr_pos_to_genome_pos(\"chr14\", 98000000, hg38),\n",
    "        nc.chr_pos_to_genome_pos(\"chr14\", 102000000, hg38)\n",
    "    ],\n",
    ")\n",
    "hoxb13_view = View(\n",
    "    tracks=[chrom_labels[\"top\"], gene_annots[\"top\"]] + [lowc_heatmaps[s][\"top\"] for s in all_samples],\n",
    "    initialXDomain=[\n",
    "        nc.chr_pos_to_genome_pos(\"chr17\", 46160000, hg38),\n",
    "        nc.chr_pos_to_genome_pos(\"chr17\", 51320000, hg38)\n",
    "    ],\n",
    ")\n",
    "\n",
    "myc_insertion_view = View(\n",
    "    tracks=[chrom_labels[\"top\"], gene_annots[\"top\"]] + [lowc_heatmaps[s][\"top\"] for s in all_samples],\n",
    "    initialXDomain=[\n",
    "        nc.chr_pos_to_genome_pos(\"chr12\", 70480000 - 5e6, hg38),\n",
    "        nc.chr_pos_to_genome_pos(\"chr12\", 70570000 + 5e6, hg38)\n",
    "    ],\n",
    ")\n",
    "\n",
    "display, server, viewconf = higlass.display([\n",
    "    myc_insertion_view\n",
    "])\n",
    "display"
   ]
  },
  {
   "cell_type": "markdown",
   "metadata": {},
   "source": [
    "## Miscellaneous"
   ]
  },
  {
   "cell_type": "code",
   "execution_count": 57,
   "metadata": {
    "jupyter": {
     "outputs_hidden": true,
     "source_hidden": true
    },
    "scrolled": false
   },
   "outputs": [
    {
     "data": {
      "application/vnd.jupyter.widget-view+json": {
       "model_id": "6953ae71dc48479b954b7af4a43ceff7",
       "version_major": 2,
       "version_minor": 0
      },
      "text/plain": [
       "HiGlassDisplay(viewconf={'editable': True, 'views': [{'uid': 'O0GGV9LNRe2RehoWPCWLXQ', 'tracks': {'top': [{'ty…"
      ]
     },
     "metadata": {},
     "output_type": "display_data"
    }
   ],
   "source": [
    "test_view = View(\n",
    "    tracks=[chrom_labels[\"top\"], gene_annots[\"top\"]] + [chip[s][\"top\"] for s in tumour_samples] + [lowc_heatmaps[s][\"top\"] for s in tumour_samples] + [tads[s][10][\"top\"] for s in tumour_samples],\n",
    "    initialXDomain=[\n",
    "        nc.chr_pos_to_genome_pos(\"chr10\", 96320000, hg38),\n",
    "        nc.chr_pos_to_genome_pos(\"chr10\", 97400000, hg38)\n",
    "    ],\n",
    ")\n",
    "\n",
    "\n",
    "display, server, viewconf = higlass.display([test_view])\n",
    "display\n",
    "\n",
    "#\"genomePositionSearchBoxVisible\": true,\n",
    "#      \"genomePositionSearchBox\": {\n",
    "#        \"autocompleteServer\": \"http://higlass.io/api/v1\",\n",
    "#        \"chromInfoServer\": \"http://higlass.io/api/v1\",\n",
    "#        \"visible\": true,\n",
    "#        \"chromInfoId\": \"hg38\",\n",
    "#        \"autocompleteId\": \"P0PLbQMwTYGy-5uPIQid7A\"\n",
    "#      }\n",
    "#help(higlass.display)"
   ]
  },
  {
   "cell_type": "code",
   "execution_count": null,
   "metadata": {},
   "outputs": [],
   "source": []
  }
 ],
 "metadata": {
  "file_extension": ".py",
  "kernelspec": {
   "display_name": "Python 3.7.3 64-bit ('base': conda)",
   "language": "python",
   "name": "python37364bitbasecondae9af21f5171447e38140ec8437cf79eb"
  },
  "language_info": {
   "codemirror_mode": {
    "name": "ipython",
    "version": 3
   },
   "file_extension": ".py",
   "mimetype": "text/x-python",
   "name": "python",
   "nbconvert_exporter": "python",
   "pygments_lexer": "ipython3",
   "version": "3.7.3"
  },
  "mimetype": "text/x-python",
  "name": "python",
  "npconvert_exporter": "python",
  "pygments_lexer": "ipython3",
  "version": 3
 },
 "nbformat": 4,
 "nbformat_minor": 4
}
