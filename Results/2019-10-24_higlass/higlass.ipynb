{
 "cells": [
  {
   "cell_type": "markdown",
   "metadata": {},
   "source": [
    "# Environment"
   ]
  },
  {
   "cell_type": "code",
   "execution_count": 43,
   "metadata": {},
   "outputs": [
    {
     "name": "stdout",
     "output_type": "stream",
     "text": [
      "/Users/hawleyj/Documents/Davos/Results/2019-10-24_higlass\n",
      "0.14.2\n",
      "0.4.0\n"
     ]
    }
   ],
   "source": [
    "import higlass\n",
    "from higlass.client import View, Track, CombinedTrack\n",
    "from higlass.tilesets import cooler, beddb, Tileset\n",
    "import clodius\n",
    "import os\n",
    "import os.path as path\n",
    "import pandas as pd\n",
    "\n",
    "import negspy.coordinates as nc\n",
    "\n",
    "print(os.getcwd())\n",
    "print(clodius.__version__)\n",
    "print(higlass.__version__)"
   ]
  },
  {
   "cell_type": "markdown",
   "metadata": {},
   "source": [
    "## Load annotations"
   ]
  },
  {
   "cell_type": "code",
   "execution_count": 39,
   "metadata": {},
   "outputs": [],
   "source": [
    "# load annotations\n",
    "chrom_labels = {\n",
    "    \"top\": Track(\n",
    "        track_type=\"horizontal-chromosome-labels\",\n",
    "        server=\"http://higlass.io/api/v1\",\n",
    "        tileset_uuid=\"NyITQvZsS_mOFNlz5C2LJg\",\n",
    "        position=\"top\",\n",
    "        options={\n",
    "            \"fontSize\": 12,\n",
    "            \"showMousePosition\": True,\n",
    "        },\n",
    "    ),\n",
    "    \"left\": Track(\n",
    "        track_type=\"vertical-chromosome-labels\",\n",
    "        server=\"http://higlass.io/api/v1\",\n",
    "        tileset_uuid=\"NyITQvZsS_mOFNlz5C2LJg\",\n",
    "        position=\"left\",\n",
    "        options={\n",
    "            \"fontSize\": 12,\n",
    "            \"showMousePosition\": True,\n",
    "        },\n",
    "    )\n",
    "}\n",
    "\n",
    "gene_annots = {\n",
    "    \"top\": Track(\n",
    "        track_type=\"horizontal-gene-annotations\",\n",
    "        server=\"http://higlass.io/api/v1\",\n",
    "        tileset_uuid=\"P0PLbQMwTYGy-5uPIQid7A\",\n",
    "        position=\"top\",\n",
    "        height=150,\n",
    "        options={\n",
    "            \"fontSize\": 12,\n",
    "            \"showMousePosition\": True,\n",
    "        },\n",
    "    ),\n",
    "    \"left\": Track(\n",
    "        track_type=\"vertical-gene-annotations\",\n",
    "        server=\"http://higlass.io/api/v1\",\n",
    "        tileset_uuid=\"P0PLbQMwTYGy-5uPIQid7A\",\n",
    "        position=\"left\",\n",
    "        options={\n",
    "            \"fontSize\": 12,\n",
    "            \"showMousePosition\": True,\n",
    "        },\n",
    "    )\n",
    "}\n",
    "\n",
    "ctcf_motifs = {\n",
    "    \"top\": Track(\n",
    "        track_type=\"bedlike\",\n",
    "        server=\"http://higlass.io/api/v1\",\n",
    "        tileset_uuid=\"EkPGY0iFQx6Nq6vdF8CpWA\",\n",
    "        position=\"top\",\n",
    "        options={\n",
    "            \"fontSize\": 12,\n",
    "            \"showMousePosition\": True,\n",
    "        },\n",
    "    ),\n",
    "    \"left\": Track(\n",
    "        track_type=\"bedlike\",\n",
    "        server=\"http://higlass.io/api/v1\",\n",
    "        tileset_uuid=\"EkPGY0iFQx6Nq6vdF8CpWA\",\n",
    "        position=\"left\",\n",
    "        options={\n",
    "            \"fontSize\": 12,\n",
    "            \"showMousePosition\": True,\n",
    "        },\n",
    "    )\n",
    "}\n",
    "\n",
    "hg38 = nc.get_chrominfo(\"hg38\")"
   ]
  },
  {
   "cell_type": "markdown",
   "metadata": {},
   "source": [
    "# Data\n",
    "## Contact matrices"
   ]
  },
  {
   "cell_type": "code",
   "execution_count": 40,
   "metadata": {},
   "outputs": [],
   "source": [
    "metadata = pd.read_csv(path.join(\"..\", \"..\", \"Data\", \"External\", \"LowC_Samples_Data_Available.tsv\"), sep=\"\\t\", header=0)\n",
    "samples = [\"PCa\" + str(i) for i in metadata[\"Sample ID\"].tolist()]\n",
    "\n",
    "benign_metadata = pd.read_csv(path.join(\"..\", \"..\", \"Data\", \"Raw\", \"191220_A00827_0104_AHMW25DMXX\", \"config.tsv\"), sep=\"\\t\", header=0)\n",
    "benign_metadata = benign_metadata.loc[~benign_metadata[\"Sample\"].str.startswith(\"PCa\"), :]\n",
    "benign_samples = benign_metadata[\"Sample\"].tolist()\n",
    "\n",
    "all_samples = samples + benign_samples\n",
    "\n",
    "cooler_files = (\n",
    "    [path.join(\"..\", \"..\", \"Data\", \"Processed\", \"2019-06-18_PCa-LowC-sequencing\", \"Contacts\", s + \".mcool\") for s in samples]\n",
    "    + [path.join(\"..\", \"..\", \"Data\", \"Raw\", \"191220_A00827_0104_AHMW25DMXX\", \"Contacts\", s + \".mcool\") for s in benign_samples]\n",
    ")\n",
    "lowc_tilesets = {s: cooler(f) for s, f in zip(all_samples, cooler_files)}\n",
    "\n",
    "resolutions = [\n",
    "    1000, 2000, 3000, 4000, 5000,\n",
    "    10000, 20000, 30000, 40000, 50000,\n",
    "    100000, 200000, 300000, 400000, 500000,\n",
    "    1000000, 2000000, 3000000, 4000000, 5000000\n",
    "][::-1]\n",
    "\n",
    "lowc_heatmaps = {\n",
    "    s: {\n",
    "        \"top\": Track(\n",
    "            track_type='horizontal-heatmap',\n",
    "            position='top',\n",
    "            tileset=lowc_tilesets[s],\n",
    "            filetype=\"cooler\",\n",
    "            height=150,\n",
    "            options={\n",
    "                \"maxZoom\": str(resolutions.index(10000)),\n",
    "                \"colorbarPosition\": \"topRight\",\n",
    "                \"showMousePosition\": True,\n",
    "            },\n",
    "        ),\n",
    "        \"bottom\": Track(\n",
    "            track_type='horizontal-heatmap',\n",
    "            position='bottom',\n",
    "            tileset=lowc_tilesets[s],\n",
    "            filetype=\"cooler\",\n",
    "            height=150,\n",
    "            options={\n",
    "                \"maxZoom\": str(resolutions.index(10000)),\n",
    "                \"colorbarPosition\": \"topRight\",\n",
    "                \"showMousePosition\": True,\n",
    "            }\n",
    "        ),\n",
    "        \"left\": Track(\n",
    "            track_type='vertical-heatmap',\n",
    "            position='left',\n",
    "            tileset=lowc_tilesets[s],\n",
    "            filetype=\"cooler\",\n",
    "            width=150,\n",
    "            options={\n",
    "                \"maxZoom\": str(resolutions.index(10000)),\n",
    "                \"colorbarPosition\": \"topRight\",\n",
    "                \"showMousePosition\": True,\n",
    "            }\n",
    "        ),\n",
    "        \"right\": Track(\n",
    "            track_type='vertical-heatmap',\n",
    "            position='right',\n",
    "            tileset=lowc_tilesets[s],\n",
    "            filetype=\"cooler\",\n",
    "            width=150,\n",
    "            options={\n",
    "                \"maxZoom\": str(resolutions.index(10000)),\n",
    "                \"colorbarPosition\": \"topRight\",\n",
    "                \"showMousePosition\": True,\n",
    "            }\n",
    "        ),\n",
    "        \"centre\": Track(\n",
    "            track_type='heatmap',\n",
    "            position='center',\n",
    "            tileset=lowc_tilesets[s],\n",
    "            filetype=\"cooler\",\n",
    "            height=500,\n",
    "            options={\n",
    "                \"maxZoom\": str(resolutions.index(10000)),\n",
    "                \"colorbarPosition\": \"topRight\",\n",
    "                \"showMousePosition\": True,\n",
    "            }\n",
    "        )\n",
    "    } for s in all_samples\n",
    "}"
   ]
  },
  {
   "cell_type": "markdown",
   "metadata": {},
   "source": [
    "## TADs"
   ]
  },
  {
   "cell_type": "code",
   "execution_count": 48,
   "metadata": {},
   "outputs": [],
   "source": [
    "windows = list(range(3, 31))\n",
    "\n",
    "tad_files = {s: {w: path.join(\"..\", \"2020-01-15_TAD-aggregation\", \"resolved-TADs\", \"separated-TADs\", s + \".40000bp.w_\" + str(w) + \".domains.beddb\") for w in windows} for s in samples}\n",
    "htad_files = {s: path.join(\"..\", \"2020-01-15_TAD-aggregation\", \"resolved-TADs\", s + \".40000bp.aggregated-domains.bed2ddb\") for s in samples}\n",
    "tad_tilesets = {s: {w: beddb(v[w], name=s + \" TADs (w=\" + str(w) +\")\") for w in windows} for s, v in tad_files.items()}\n",
    "\n",
    "def bed2ddb(filepath, uuid=None, **kwargs):\n",
    "    from clodius.tiles.format import format_dense_tile\n",
    "    from clodius.tiles.utils import tiles_wrapper_2d\n",
    "    from clodius.tiles.bed2ddb import get_2d_tileset_info, get_2D_tiles\n",
    "    return Tileset(\n",
    "        uuid=uuid,\n",
    "        tileset_info=lambda: get_2d_tileset_info(filepath),\n",
    "        tiles=lambda tids: tiles_wrapper_2d(\n",
    "            tids,\n",
    "            lambda z,x,y: format_dense_tile(tile_data(z, x, y))\n",
    "        )\n",
    "    )\n",
    "\n",
    "htad_tilesets = {s: bed2ddb(v, name=s + \" TADs\") for s, v in htad_files.items()}\n",
    "\n",
    "tads = {\n",
    "    s: {\n",
    "        w: {\n",
    "           \"top\": Track(\n",
    "                track_type=\"bedlike\",\n",
    "                position='top',\n",
    "                tileset=tad_tilesets[s][w],\n",
    "                filetype=\"beddb\",\n",
    "                options={\n",
    "                    \"showMousePosition\": True,\n",
    "                },\n",
    "            ),\n",
    "            \"bottom\": Track(\n",
    "                track_type=\"bedlike\",\n",
    "                position='bottom',\n",
    "                tileset=tad_tilesets[s][w],\n",
    "                filetype=\"beddb\",\n",
    "                options={\n",
    "                    \"showMousePosition\": True,\n",
    "                },\n",
    "            ),\n",
    "            \"left\": Track(\n",
    "                track_type=\"bedlike\",\n",
    "                position=\"left\",\n",
    "                tileset=tad_tilesets[s][w],\n",
    "                filetype=\"beddb\",\n",
    "                options={\n",
    "                    \"showMousePosition\": True,\n",
    "                },\n",
    "            ),\n",
    "            \"right\": Track(\n",
    "                track_type=\"bedlike\",\n",
    "                position=\"right\",\n",
    "                tileset=tad_tilesets[s][w],\n",
    "                filetype=\"beddb\",\n",
    "                options={\n",
    "                    \"showMousePosition\": True,\n",
    "                },\n",
    "            ),\n",
    "        } for w in windows\n",
    "    } for s in samples\n",
    "}\n",
    "\n",
    "hierarchical_tads = {\n",
    "    s: Track(\n",
    "        track_type=\"2d-rectangle-domains\",\n",
    "        position=\"center\",\n",
    "        tileset=htad_tilesets[s],\n",
    "        filetype=\"bed2ddb\",\n",
    "    ) for s in samples\n",
    "}"
   ]
  },
  {
   "cell_type": "markdown",
   "metadata": {},
   "source": [
    "# Images\n",
    "## FOXA1"
   ]
  },
  {
   "cell_type": "code",
   "execution_count": 9,
   "metadata": {
    "jupyter": {
     "outputs_hidden": true
    },
    "scrolled": true
   },
   "outputs": [
    {
     "data": {
      "application/vnd.jupyter.widget-view+json": {
       "model_id": "c75e7ee83884430daaca4528779e2b9c",
       "version_major": 2,
       "version_minor": 0
      },
      "text/plain": [
       "HiGlassDisplay(viewconf={'editable': True, 'views': [{'uid': 'EPrQMCGbQbSu4x0AkoE0BA', 'tracks': {'top': [{'ty…"
      ]
     },
     "metadata": {},
     "output_type": "display_data"
    }
   ],
   "source": [
    "foxa1_view = View(\n",
    "    tracks=[chrom_labels[\"top\"], gene_annots[\"top\"], lowc_heatmaps[\"Benign-Prostate-1595983\"][\"top\"]] + [lowc_heatmaps[s][\"top\"] for s in samples],\n",
    "    initialXDomain=[\n",
    "        nc.chr_pos_to_genome_pos(\"chr14\", 36000000, hg38),\n",
    "        nc.chr_pos_to_genome_pos(\"chr14\", 39000000, hg38)\n",
    "    ],\n",
    ")\n",
    "\n",
    "display, server, viewconf = higlass.display([foxa1_view])\n",
    "display"
   ]
  },
  {
   "cell_type": "markdown",
   "metadata": {},
   "source": [
    "## _TMPRSS2_-_ERG_ fusion"
   ]
  },
  {
   "cell_type": "code",
   "execution_count": 14,
   "metadata": {
    "scrolled": true
   },
   "outputs": [
    {
     "data": {
      "application/vnd.jupyter.widget-view+json": {
       "model_id": "11e4f8f2a1504c1bb4f6bfd16af6bae0",
       "version_major": 2,
       "version_minor": 0
      },
      "text/plain": [
       "HiGlassDisplay(viewconf={'editable': True, 'views': [{'uid': 'MxiCW6RXQpm9iGNIX_e2Ug', 'tracks': {'top': [{'ty…"
      ]
     },
     "metadata": {},
     "output_type": "display_data"
    }
   ],
   "source": [
    "t2e_view = View(\n",
    "    tracks=(\n",
    "        [chrom_labels[\"top\"], gene_annots[\"top\"]]\n",
    "        + [lowc_heatmaps[\"PCa\" + str(s)][\"top\"] for s in metadata.loc[metadata[\"T2E Status\"] == \"Yes\", \"Sample ID\"]]\n",
    "        + [lowc_heatmaps[\"PCa\" + str(s)][\"top\"] for s in metadata.loc[metadata[\"T2E Status\"] == \"No\", \"Sample ID\"]]\n",
    "        + [lowc_heatmaps[s][\"top\"] for s in benign_samples]\n",
    "    ),\n",
    "    initialXDomain=[\n",
    "        nc.chr_pos_to_genome_pos(\"chr21\", 30000000, hg38),\n",
    "        nc.chr_pos_to_genome_pos(\"chr21\", 48000000, hg38)\n",
    "    ],\n",
    ")\n",
    "\n",
    "display, server, viewconf = higlass.display([\n",
    "    t2e_view\n",
    "])\n",
    "display"
   ]
  },
  {
   "cell_type": "markdown",
   "metadata": {},
   "source": [
    "## T2E translocation"
   ]
  },
  {
   "cell_type": "code",
   "execution_count": 13,
   "metadata": {
    "jupyter": {
     "outputs_hidden": true
    },
    "scrolled": true
   },
   "outputs": [
    {
     "data": {
      "application/vnd.jupyter.widget-view+json": {
       "model_id": "63693ff3119e4862bb0c2e91257df962",
       "version_major": 2,
       "version_minor": 0
      },
      "text/plain": [
       "HiGlassDisplay(viewconf={'editable': True, 'views': [{'uid': 'L7pnRKiBRx2CDPApzDAZ0g', 'tracks': {'top': [{'ty…"
      ]
     },
     "metadata": {},
     "output_type": "display_data"
    }
   ],
   "source": [
    "t2e_translocation = View(\n",
    "    tracks=[\n",
    "        chrom_labels[\"top\"], gene_annots[\"top\"],\n",
    "        chrom_labels[\"left\"], gene_annots[\"left\"],\n",
    "        lowc_heatmaps[\"PCa13848\"][\"bottom\"],\n",
    "        lowc_heatmaps[\"PCa13848\"][\"centre\"],\n",
    "        lowc_heatmaps[\"PCa13848\"][\"left\"],\n",
    "        #hierarchical_tads[\"PCa13848\"]\n",
    "    ],\n",
    "    initialYDomain=[\n",
    "        nc.chr_pos_to_genome_pos(\"chr21\", 38000000, hg38),\n",
    "        nc.chr_pos_to_genome_pos(\"chr21\", 42000000, hg38)\n",
    "    ],\n",
    "    initialXDomain=[\n",
    "        nc.chr_pos_to_genome_pos(\"chr14\", 33000000, hg38),\n",
    "        nc.chr_pos_to_genome_pos(\"chr14\", 38000000, hg38)\n",
    "    ],\n",
    ")\n",
    "nont2e_translocation = View(\n",
    "    tracks=[\n",
    "        chrom_labels[\"left\"], gene_annots[\"left\"],\n",
    "        lowc_heatmaps[\"PCa3023\"][\"top\"],\n",
    "        lowc_heatmaps[\"PCa3023\"][\"centre\"],\n",
    "        lowc_heatmaps[\"PCa3023\"][\"left\"],\n",
    "    ],\n",
    "    initialYDomain=[\n",
    "        nc.chr_pos_to_genome_pos(\"chr21\", 38000000, hg38),\n",
    "        nc.chr_pos_to_genome_pos(\"chr21\", 42000000, hg38)\n",
    "    ],\n",
    "    initialXDomain=[\n",
    "        nc.chr_pos_to_genome_pos(\"chr14\", 33000000, hg38),\n",
    "        nc.chr_pos_to_genome_pos(\"chr14\", 38000000, hg38)\n",
    "    ],\n",
    ")\n",
    "\n",
    "t2e_translocation_insertion = View(\n",
    "    tracks=[\n",
    "        chrom_labels[\"top\"], gene_annots[\"top\"],\n",
    "        chrom_labels[\"left\"], gene_annots[\"left\"],\n",
    "        lowc_heatmaps[\"PCa13848\"][\"centre\"],\n",
    "        tads[\"PCa13848\"][3][\"top\"],\n",
    "    ],\n",
    "    initialXDomain=[\n",
    "        nc.chr_pos_to_genome_pos(\"chr14\", 34000000, hg38),\n",
    "        nc.chr_pos_to_genome_pos(\"chr14\", 37000000, hg38)\n",
    "    ],\n",
    ")\n",
    "nont2e_translocation_insertion = View(\n",
    "    tracks=[\n",
    "        chrom_labels[\"left\"], gene_annots[\"left\"],\n",
    "        lowc_heatmaps[\"PCa3023\"][\"centre\"],\n",
    "        tads[\"PCa3023\"][3][\"top\"],\n",
    "    ],\n",
    "    initialXDomain=[\n",
    "        nc.chr_pos_to_genome_pos(\"chr14\", 34000000, hg38),\n",
    "        nc.chr_pos_to_genome_pos(\"chr14\", 37000000, hg38)\n",
    "    ],\n",
    ")\n",
    "\n",
    "\n",
    "display, server, viewconf = higlass.display([t2e_translocation, nont2e_translocation])\n",
    "#display, server, viewconf = higlass.display([t2e_translocation_insertion, nont2e_translocation_insertion])\n",
    "display"
   ]
  },
  {
   "cell_type": "markdown",
   "metadata": {},
   "source": [
    "## AR"
   ]
  },
  {
   "cell_type": "code",
   "execution_count": 43,
   "metadata": {},
   "outputs": [
    {
     "data": {
      "application/vnd.jupyter.widget-view+json": {
       "model_id": "6d9b5be46503446990b1f8281e741a78",
       "version_major": 2,
       "version_minor": 0
      },
      "text/plain": [
       "HiGlassDisplay(viewconf={'editable': True, 'views': [{'uid': 'Cdg-ozpSQUyoZ-v5Z3ibug', 'tracks': {'top': [{'ty…"
      ]
     },
     "metadata": {},
     "output_type": "display_data"
    }
   ],
   "source": [
    "ar_tracks = [chrom_labels[\"top\"], gene_annots[\"top\"]] + [lowc_heatmaps[s][\"top\"] for s in samples]\n",
    "ar_view = View(\n",
    "    tracks=ar_tracks,\n",
    "    initialXDomain=[\n",
    "        nc.chr_pos_to_genome_pos(\"chrX\", 65040000, hg38),\n",
    "        nc.chr_pos_to_genome_pos(\"chrX\", 70200000, hg38)\n",
    "    ]\n",
    ")\n",
    "\n",
    "display, server, viewconf = higlass.display([ar_view], value_scale_syncs = [ar_tracks])\n",
    "display\n",
    "#help(higlass.display)"
   ]
  },
  {
   "cell_type": "markdown",
   "metadata": {},
   "source": [
    "## MYC"
   ]
  },
  {
   "cell_type": "code",
   "execution_count": 30,
   "metadata": {},
   "outputs": [
    {
     "data": {
      "application/vnd.jupyter.widget-view+json": {
       "model_id": "86753118525d44e7ae93f6151b62ab4e",
       "version_major": 2,
       "version_minor": 0
      },
      "text/plain": [
       "HiGlassDisplay(viewconf={'editable': True, 'views': [{'uid': 'NmT5xaDFQcuUT2CCTwDu2g', 'tracks': {'top': [{'ty…"
      ]
     },
     "metadata": {},
     "output_type": "display_data"
    }
   ],
   "source": [
    "myc_view = View(\n",
    "    tracks=[chrom_labels[\"top\"], gene_annots[\"top\"]] + [lowc_heatmaps[s][\"top\"] for s in samples],\n",
    "    initialXDomain=[\n",
    "        nc.chr_pos_to_genome_pos(\"chr8\", 126000000, hg38),\n",
    "        nc.chr_pos_to_genome_pos(\"chr8\", 130000000, hg38)\n",
    "    ],\n",
    ")\n",
    "\n",
    "display, server, viewconf = higlass.display([myc_view])\n",
    "display"
   ]
  },
  {
   "cell_type": "markdown",
   "metadata": {},
   "source": [
    "## CTCF, YY1, HOXB13"
   ]
  },
  {
   "cell_type": "code",
   "execution_count": null,
   "metadata": {},
   "outputs": [],
   "source": [
    "ctcf_view = View(\n",
    "    tracks=[chrom_labels[\"top\"], gene_annots[\"top\"]] + [lowc_heatmaps[s][\"top\"] for s in samples],\n",
    "    initialXDomain=[\n",
    "        nc.chr_pos_to_genome_pos(\"chr16\", 65000000, hg38),\n",
    "        nc.chr_pos_to_genome_pos(\"chr16\", 69000000, hg38)\n",
    "    ],\n",
    ")\n",
    "yy1_view = View(\n",
    "    tracks=[chrom_labels[\"top\"], gene_annots[\"top\"]] + [lowc_heatmaps[s][\"top\"] for s in samples],\n",
    "    initialXDomain=[\n",
    "        nc.chr_pos_to_genome_pos(\"chr14\", 98000000, hg38),\n",
    "        nc.chr_pos_to_genome_pos(\"chr14\", 102000000, hg38)\n",
    "    ],\n",
    ")\n",
    "hoxb13_view = View(\n",
    "    tracks=[chrom_labels[\"top\"], gene_annots[\"top\"]] + [lowc_heatmaps[s][\"top\"] for s in samples],\n",
    "    initialXDomain=[\n",
    "        nc.chr_pos_to_genome_pos(\"chr17\", 46160000, hg38),\n",
    "        nc.chr_pos_to_genome_pos(\"chr17\", 51320000, hg38)\n",
    "    ],\n",
    ")\n",
    "\n",
    "myc_insertion_view = View(\n",
    "    tracks=[chrom_labels[\"top\"], gene_annots[\"top\"]] + [lowc_heatmaps[s][\"top\"] for s in samples],\n",
    "    initialXDomain=[\n",
    "        nc.chr_pos_to_genome_pos(\"chr12\", 70480000 - 5e6, hg38),\n",
    "        nc.chr_pos_to_genome_pos(\"chr12\", 70570000 + 5e6, hg38)\n",
    "    ],\n",
    ")\n",
    "\n",
    "display, server, viewconf = higlass.display([\n",
    "    myc_insertion_view\n",
    "])\n",
    "display"
   ]
  },
  {
   "cell_type": "markdown",
   "metadata": {},
   "source": [
    "## Miscellaneous"
   ]
  },
  {
   "cell_type": "code",
   "execution_count": 15,
   "metadata": {
    "jupyter": {
     "outputs_hidden": true,
     "source_hidden": true
    },
    "scrolled": true
   },
   "outputs": [
    {
     "data": {
      "application/vnd.jupyter.widget-view+json": {
       "model_id": "f720a7c517b0461f91fee02c5c3ea742",
       "version_major": 2,
       "version_minor": 0
      },
      "text/plain": [
       "HiGlassDisplay(viewconf={'editable': True, 'views': [{'uid': 'Ejpo1oruT0m85WNlcl5gZQ', 'tracks': {'top': [{'ty…"
      ]
     },
     "metadata": {},
     "output_type": "display_data"
    }
   ],
   "source": [
    "test_view = View(\n",
    "    tracks=[chrom_labels[\"top\"], gene_annots[\"top\"]] + [lowc_heatmaps[s][\"top\"] for s in samples],\n",
    "    initialXDomain=[\n",
    "        nc.chr_pos_to_genome_pos(\"chr6\", 42500000, hg38),\n",
    "        nc.chr_pos_to_genome_pos(\"chr6\", 127500000, hg38)\n",
    "    ],\n",
    "    initialYDomain=[\n",
    "        nc.chr_pos_to_genome_pos(\"chr6\", 42500000, hg38),\n",
    "        nc.chr_pos_to_genome_pos(\"chr6\", 127500000, hg38)\n",
    "    ],\n",
    ")\n",
    "\n",
    "display, server, viewconf = higlass.display([test_view])\n",
    "display"
   ]
  },
  {
   "cell_type": "code",
   "execution_count": 49,
   "metadata": {},
   "outputs": [
    {
     "data": {
      "application/vnd.jupyter.widget-view+json": {
       "model_id": "5170d33d198f48c6a9ab6364c083579b",
       "version_major": 2,
       "version_minor": 0
      },
      "text/plain": [
       "HiGlassDisplay(viewconf={'editable': True, 'views': [{'uid': 'I1JaWQ7xQUimdoAkfqVMww', 'tracks': {'top': [{'ty…"
      ]
     },
     "metadata": {},
     "output_type": "display_data"
    }
   ],
   "source": [
    "display, server, viewconf = higlass.display([\n",
    "    View(\n",
    "        tracks=([\n",
    "            chrom_labels[\"top\"], gene_annots[\"top\"], chrom_labels[\"left\"], gene_annots[\"left\"],\n",
    "            #lowc_heatmaps[\"PCa57054\"][\"centre\"],\n",
    "            tads[\"PCa57054\"][3][\"top\"],\n",
    "            tads[\"PCa57054\"][30][\"top\"],\n",
    "            hierarchical_tads[\"PCa57054\"],\n",
    "        ]),\n",
    "#        initialYDomain=[\n",
    "#            nc.chr_pos_to_genome_pos(\"chr21\", 30000000, hg38),\n",
    "#            nc.chr_pos_to_genome_pos(\"chr21\", 48000000, hg38)\n",
    "#        ],\n",
    "        initialXDomain=[\n",
    "            nc.chr_pos_to_genome_pos(\"chr12\", 118000000, hg38),\n",
    "            nc.chr_pos_to_genome_pos(\"chr12\", 135000000, hg38)\n",
    "        ],\n",
    "    )\n",
    "])\n",
    "display"
   ]
  },
  {
   "cell_type": "code",
   "execution_count": null,
   "metadata": {},
   "outputs": [],
   "source": []
  }
 ],
 "metadata": {
  "file_extension": ".py",
  "kernelspec": {
   "display_name": "Python 3.7.3 64-bit ('base': conda)",
   "language": "python",
   "name": "python37364bitbasecondab15c031cd63a499983704f93d1181c69"
  },
  "language_info": {
   "codemirror_mode": {
    "name": "ipython",
    "version": 3
   },
   "file_extension": ".py",
   "mimetype": "text/x-python",
   "name": "python",
   "nbconvert_exporter": "python",
   "pygments_lexer": "ipython3",
   "version": "3.7.6"
  },
  "mimetype": "text/x-python",
  "name": "python",
  "npconvert_exporter": "python",
  "pygments_lexer": "ipython3",
  "version": 3
 },
 "nbformat": 4,
 "nbformat_minor": 4
}
