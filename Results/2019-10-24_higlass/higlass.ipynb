{
 "cells": [
  {
   "cell_type": "code",
   "execution_count": 159,
   "metadata": {},
   "outputs": [
    {
     "name": "stdout",
     "output_type": "stream",
     "text": [
      "/Users/hawleyj/Documents/Davos/Results/2019-10-24_higlass\n"
     ]
    }
   ],
   "source": [
    "import higlass\n",
    "from higlass.client import View, Track, CombinedTrack\n",
    "from higlass.tilesets import cooler, beddb\n",
    "import os\n",
    "import os.path as path\n",
    "import pandas as pd\n",
    "#from clodius import \n",
    "\n",
    "import negspy.coordinates as nc\n",
    "\n",
    "print(os.getcwd())"
   ]
  },
  {
   "cell_type": "code",
   "execution_count": 29,
   "metadata": {
    "jupyter": {
     "source_hidden": true
    }
   },
   "outputs": [],
   "source": [
    "# load annotations\n",
    "chrom_labels = {\n",
    "    \"top\": Track(\n",
    "        track_type=\"horizontal-chromosome-labels\",\n",
    "        server=\"http://higlass.io/api/v1\",\n",
    "        tileset_uuid=\"NyITQvZsS_mOFNlz5C2LJg\",\n",
    "        position=\"top\"\n",
    "    ),\n",
    "    \"left\": Track(\n",
    "        track_type=\"vertical-chromosome-labels\",\n",
    "        server=\"http://higlass.io/api/v1\",\n",
    "        tileset_uuid=\"NyITQvZsS_mOFNlz5C2LJg\",\n",
    "        position=\"left\"\n",
    "    )\n",
    "}\n",
    "\n",
    "gene_annots = {\n",
    "    \"top\": Track(\n",
    "        track_type=\"horizontal-gene-annotations\",\n",
    "        server=\"http://higlass.io/api/v1\",\n",
    "        tileset_uuid=\"P0PLbQMwTYGy-5uPIQid7A\",\n",
    "        position=\"top\"\n",
    "    ),\n",
    "    \"left\": Track(\n",
    "        track_type=\"vertical-gene-annotations\",\n",
    "        server=\"http://higlass.io/api/v1\",\n",
    "        tileset_uuid=\"P0PLbQMwTYGy-5uPIQid7A\",\n",
    "        position=\"left\"\n",
    "    )\n",
    "}\n",
    "\n",
    "ctcf_motifs = {\n",
    "    \"top\": Track(\n",
    "        track_type=\"bedlike\",\n",
    "        server=\"http://higlass.io/api/v1\",\n",
    "        tileset_uuid=\"EkPGY0iFQx6Nq6vdF8CpWA\",\n",
    "        position=\"top\"\n",
    "    ),\n",
    "    \"left\": Track(\n",
    "        track_type=\"bedlike\",\n",
    "        server=\"http://higlass.io/api/v1\",\n",
    "        tileset_uuid=\"EkPGY0iFQx6Nq6vdF8CpWA\",\n",
    "        position=\"left\"\n",
    "    )\n",
    "}\n",
    "\n",
    "hg38 = nc.get_chrominfo(\"hg38\")"
   ]
  },
  {
   "cell_type": "code",
   "execution_count": 160,
   "metadata": {
    "jupyter": {
     "source_hidden": true
    }
   },
   "outputs": [],
   "source": [
    "samples = [\"PCa\" + str(i) for i in [13266,13848,14121,19121,3023,33173,40507,51852,53687,56413,57054,57294,58215]]\n",
    "cooler_files = [path.join(\"..\", \"..\", \"Data\", \"Processed\", \"2019-06-18_PCa-LowC-sequencing\", \"Contacts\", s + \".mcool\") for s in samples]\n",
    "lowc_tilesets = {s: cooler(f) for s, f in zip(samples, cooler_files)}\n",
    "\n",
    "resolutions = [\n",
    "    1000, 2000, 3000, 4000, 5000,\n",
    "    10000, 20000, 30000, 40000, 50000,\n",
    "    100000, 200000, 300000, 400000, 500000,\n",
    "    1000000, 2000000, 3000000, 4000000, 5000000\n",
    "][::-1]\n",
    "\n",
    "lowc_heatmaps = {\n",
    "    s: {\n",
    "        \"top\": Track(\n",
    "            track_type='horizontal-heatmap',\n",
    "            position='top',\n",
    "            tileset=lowc_tilesets[s],\n",
    "            filetype=\"cooler\",\n",
    "            height=150,\n",
    "            options={\n",
    "                \"maxZoom\": str(resolutions.index(10000)),\n",
    "                \"colorbarPosition\": \"topRight\"\n",
    "            }\n",
    "        ),\n",
    "        \"bottom\": Track(\n",
    "            track_type='horizontal-heatmap',\n",
    "            position='bottom',\n",
    "            tileset=lowc_tilesets[s],\n",
    "            filetype=\"cooler\",\n",
    "            height=150,\n",
    "            options={\n",
    "                \"maxZoom\": str(resolutions.index(10000)),\n",
    "                \"colorbarPosition\": \"topRight\"\n",
    "            }\n",
    "        ),\n",
    "        \"left\": Track(\n",
    "            track_type='vertical-heatmap',\n",
    "            position='left',\n",
    "            tileset=lowc_tilesets[s],\n",
    "            filetype=\"cooler\",\n",
    "            width=150,\n",
    "            options={\n",
    "                \"maxZoom\": str(resolutions.index(10000))\n",
    "            }\n",
    "        ),\n",
    "        \"right\": Track(\n",
    "            track_type='vertical-heatmap',\n",
    "            position='right',\n",
    "            tileset=lowc_tilesets[s],\n",
    "            filetype=\"cooler\",\n",
    "            width=150,\n",
    "            options={\n",
    "                \"maxZoom\": str(resolutions.index(10000))\n",
    "            }\n",
    "        ),\n",
    "        \"centre\": Track(\n",
    "            track_type='heatmap',\n",
    "            position='center',\n",
    "            tileset=lowc_tilesets[s],\n",
    "            filetype=\"cooler\",\n",
    "            height=500,\n",
    "            options={\n",
    "                \"maxZoom\": str(resolutions.index(10000))\n",
    "            }\n",
    "        )\n",
    "    } for s in samples\n",
    "}"
   ]
  },
  {
   "cell_type": "code",
   "execution_count": 161,
   "metadata": {},
   "outputs": [],
   "source": [
    "tad_files = [path.join(\"..\", \"2020-01-15_TAD-aggregation\", \"resolved-TADs\", s + \".40000bp.aggregated-domains.bedGraph\") for s in samples]\n",
    "#tad_testfile = path.join(\"..\", \"2020-01-15_TAD-aggregation\", \"resolved-TADs\", \"PCa3023.40000bp.aggregated-domains.bedGraph.beddb\")\n",
    "#tad_testfile = path.join(\"..\", \"2020-01-15_TAD-aggregation\", \"resolved-TADs\", \"test.bed.beddb\")\n",
    "#tad_testtile = beddb(tad_testfile)\n",
    "# tad_clodius_files = [path.join(\"..\", \"2020-01-15_TAD-aggregation\", \"resolved-TADs\", s + \".40000bp.aggregated-domains.bedGraph\") for s in samples[4:5]]\n",
    "# tad_tilesets = {s: beddb(f) for s, f in zip(samples, tad_cfiles)}\n",
    "#tad_rectangles = {s: Track(\n",
    "#    track_type=\"horizontal-2d-rectangle-domains\",\n",
    "#    position=\"top\",\n",
    "#    tileset=tad_tilesets[s],\n",
    "#    filetype=\"beddb\"\n",
    "#) for s in samples}\n",
    "#tad_testtrack = Track(\n",
    "#    track_type=\"horizontal-2d-rectangle-domains\",\n",
    "#    position=\"top\",\n",
    "#    tileset=tad_testtile,\n",
    "#    filetype=\"bed2ddb\"\n",
    "#)\n",
    "#tad_testtrack = Track(\n",
    "#    track_type=\"bedlike\",\n",
    "#    position=\"top\",\n",
    "#    tileset=tad_testtile,\n",
    "#    filetype=\"beddb\"\n",
    "#)"
   ]
  },
  {
   "cell_type": "code",
   "execution_count": 184,
   "metadata": {
    "collapsed": true,
    "jupyter": {
     "outputs_hidden": true,
     "source_hidden": true
    }
   },
   "outputs": [
    {
     "data": {
      "application/vnd.jupyter.widget-view+json": {
       "model_id": "f91b1735ed8e42959fb7a9acb614c4ed",
       "version_major": 2,
       "version_minor": 0
      },
      "text/plain": [
       "HiGlassDisplay(viewconf={'editable': True, 'views': [{'uid': 'GY54_3JNTCe0crRH1wFHUQ', 'tracks': {'top': [{'ty…"
      ]
     },
     "metadata": {},
     "output_type": "display_data"
    }
   ],
   "source": [
    "foxa1_view = View(\n",
    "    tracks=[chrom_labels[\"top\"], gene_annots[\"top\"]] + [lowc_heatmaps[s][\"top\"] for s in samples],\n",
    "    initialXDomain=[\n",
    "        nc.chr_pos_to_genome_pos(\"chr14\", 36000000, hg38),\n",
    "        nc.chr_pos_to_genome_pos(\"chr14\", 39000000, hg38)\n",
    "    ],\n",
    ")\n",
    "\n",
    "display, server, viewconf = higlass.display([foxa1_view])\n",
    "display"
   ]
  },
  {
   "cell_type": "code",
   "execution_count": 179,
   "metadata": {
    "collapsed": true,
    "jupyter": {
     "outputs_hidden": true,
     "source_hidden": true
    }
   },
   "outputs": [
    {
     "data": {
      "application/vnd.jupyter.widget-view+json": {
       "model_id": "760c91dd315746a487ec06acf5cd5718",
       "version_major": 2,
       "version_minor": 0
      },
      "text/plain": [
       "HiGlassDisplay(viewconf={'editable': True, 'views': [{'uid': 'fkRiwNlsSGy449nV3nm0pQ', 'tracks': {'top': [{'ty…"
      ]
     },
     "metadata": {},
     "output_type": "display_data"
    }
   ],
   "source": [
    "t2e_translocation = View(\n",
    "    tracks=[\n",
    "        chrom_labels[\"top\"], gene_annots[\"top\"],\n",
    "        chrom_labels[\"left\"], gene_annots[\"left\"],\n",
    "        lowc_heatmaps[\"PCa13848\"][\"bottom\"],\n",
    "        lowc_heatmaps[\"PCa13848\"][\"centre\"],\n",
    "        lowc_heatmaps[\"PCa13848\"][\"left\"],\n",
    "    ],\n",
    "    initialYDomain=[\n",
    "        nc.chr_pos_to_genome_pos(\"chr21\", 38000000, hg38),\n",
    "        nc.chr_pos_to_genome_pos(\"chr21\", 42000000, hg38)\n",
    "    ],\n",
    "    initialXDomain=[\n",
    "        nc.chr_pos_to_genome_pos(\"chr14\", 33000000, hg38),\n",
    "        nc.chr_pos_to_genome_pos(\"chr14\", 38000000, hg38)\n",
    "    ],\n",
    ")\n",
    "nont2e_translocation = View(\n",
    "    tracks=[\n",
    "\n",
    "        chrom_labels[\"left\"], gene_annots[\"left\"],\n",
    "        lowc_heatmaps[\"PCa3023\"][\"top\"],\n",
    "        lowc_heatmaps[\"PCa3023\"][\"centre\"],\n",
    "        lowc_heatmaps[\"PCa3023\"][\"left\"],\n",
    "    ],\n",
    "    initialYDomain=[\n",
    "        nc.chr_pos_to_genome_pos(\"chr21\", 38000000, hg38),\n",
    "        nc.chr_pos_to_genome_pos(\"chr21\", 42000000, hg38)\n",
    "    ],\n",
    "    initialXDomain=[\n",
    "        nc.chr_pos_to_genome_pos(\"chr14\", 33000000, hg38),\n",
    "        nc.chr_pos_to_genome_pos(\"chr14\", 38000000, hg38)\n",
    "    ],\n",
    ")\n",
    "\n",
    "display, server, viewconf = higlass.display([t2e_translocation, nont2e_translocation])\n",
    "display"
   ]
  },
  {
   "cell_type": "code",
   "execution_count": 192,
   "metadata": {
    "collapsed": true,
    "jupyter": {
     "outputs_hidden": true,
     "source_hidden": true
    }
   },
   "outputs": [
    {
     "data": {
      "application/vnd.jupyter.widget-view+json": {
       "model_id": "531962cd8edb44629b01aff9bb8e19f2",
       "version_major": 2,
       "version_minor": 0
      },
      "text/plain": [
       "HiGlassDisplay(viewconf={'editable': True, 'views': [{'uid': 'R7AhBNVsRPawu87khHx5Dw', 'tracks': {'top': [{'ty…"
      ]
     },
     "metadata": {},
     "output_type": "display_data"
    }
   ],
   "source": [
    "ar_view = View(\n",
    "    tracks=[chrom_labels[\"top\"], gene_annots[\"top\"]] + [lowc_heatmaps[s][\"top\"] for s in samples],\n",
    "    initialXDomain=[\n",
    "        nc.chr_pos_to_genome_pos(\"chrX\", 63500000, hg38),\n",
    "        nc.chr_pos_to_genome_pos(\"chrX\", 71500000, hg38)\n",
    "    ],\n",
    ")\n",
    "\n",
    "display, server, viewconf = higlass.display([ar_view])\n",
    "display"
   ]
  },
  {
   "cell_type": "code",
   "execution_count": 190,
   "metadata": {
    "collapsed": true,
    "jupyter": {
     "outputs_hidden": true,
     "source_hidden": true
    }
   },
   "outputs": [
    {
     "data": {
      "application/vnd.jupyter.widget-view+json": {
       "model_id": "31d5e0836ddc4cb5add08f4b5920d1fe",
       "version_major": 2,
       "version_minor": 0
      },
      "text/plain": [
       "HiGlassDisplay(viewconf={'editable': True, 'views': [{'uid': 'ERkIRNX7QkCod9vovd_pww', 'tracks': {'top': [{'ty…"
      ]
     },
     "metadata": {},
     "output_type": "display_data"
    }
   ],
   "source": [
    "myc_view = View(\n",
    "    tracks=[chrom_labels[\"top\"], gene_annots[\"top\"]] + [lowc_heatmaps[s][\"top\"] for s in samples],\n",
    "    initialXDomain=[\n",
    "        nc.chr_pos_to_genome_pos(\"chr8\", 126000000, hg38),\n",
    "        nc.chr_pos_to_genome_pos(\"chr8\", 130000000, hg38)\n",
    "    ],\n",
    ")\n",
    "\n",
    "display, server, viewconf = higlass.display([myc_view])\n",
    "display"
   ]
  },
  {
   "cell_type": "code",
   "execution_count": null,
   "metadata": {},
   "outputs": [],
   "source": []
  }
 ],
 "metadata": {
  "file_extension": ".py",
  "kernelspec": {
   "display_name": "Python 3.7.3 64-bit ('base': conda)",
   "language": "python",
   "name": "python37364bitbasecondab15c031cd63a499983704f93d1181c69"
  },
  "language_info": {
   "codemirror_mode": {
    "name": "ipython",
    "version": 3
   },
   "file_extension": ".py",
   "mimetype": "text/x-python",
   "name": "python",
   "nbconvert_exporter": "python",
   "pygments_lexer": "ipython3",
   "version": "3.7.3"
  },
  "mimetype": "text/x-python",
  "name": "python",
  "npconvert_exporter": "python",
  "pygments_lexer": "ipython3",
  "version": 3
 },
 "nbformat": 4,
 "nbformat_minor": 4
}
