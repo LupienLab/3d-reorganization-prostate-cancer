{
 "nbformat": 4,
 "nbformat_minor": 2,
 "metadata": {
  "language_info": {
   "name": "python",
   "codemirror_mode": {
    "name": "ipython",
    "version": 3
   },
   "version": "3.7.3-final"
  },
  "orig_nbformat": 2,
  "file_extension": ".py",
  "mimetype": "text/x-python",
  "name": "python",
  "npconvert_exporter": "python",
  "pygments_lexer": "ipython3",
  "version": 3,
  "kernelspec": {
   "name": "python37364bitbasecondae9af21f5171447e38140ec8437cf79eb",
   "display_name": "Python 3.7.3 64-bit ('base': conda)"
  }
 },
 "cells": [
  {
   "cell_type": "code",
   "execution_count": 4,
   "metadata": {},
   "outputs": [
    {
     "data": {
      "application/vnd.jupyter.widget-view+json": {
       "model_id": "a915606f50324d1e9051924818962f0f",
       "version_major": 2,
       "version_minor": 0
      },
      "text/plain": "HiGlassDisplay(viewconf={'editable': True, 'views': [{'uid': 'JBpmtdGOTxms4yThORWOhA', 'tracks': {'top': [{'ty…"
     },
     "metadata": {},
     "output_type": "display_data"
    }
   ],
   "source": [
    "from higlass.client import View, Track\n",
    "from higlass.tilesets import cooler\n",
    "import higlass\n",
    "\n",
    "\n",
    "view1 = View([\n",
    "    Track(track_type='top-axis', position='top'),\n",
    "    Track(track_type='heatmap', position='center',\n",
    "          tileset_uuid='CQMd6V_cRw6iCI_-Unl3PQ',\n",
    "          server=\"http://higlass.io/api/v1/\",\n",
    "          height=250,\n",
    "          options={ 'valueScaleMax': 0.5 }),\n",
    "])\n",
    "\n",
    "display, server, viewconf = higlass.display([view1])\n",
    "display"
   ]
  },
  {
   "cell_type": "code",
   "execution_count": null,
   "metadata": {},
   "outputs": [],
   "source": []
  }
 ]
}