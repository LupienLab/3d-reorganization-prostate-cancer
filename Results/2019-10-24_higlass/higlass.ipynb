{
 "cells": [
  {
   "cell_type": "markdown",
   "metadata": {},
   "source": [
    "# Environment"
   ]
  },
  {
   "cell_type": "code",
   "execution_count": 1,
   "metadata": {},
   "outputs": [],
   "source": [
    "import higlass\n",
    "from higlass.client import View, Track, CombinedTrack\n",
    "from higlass.tilesets import cooler, beddb, chromsizes, bigwig, Tileset\n",
    "import clodius\n",
    "import os\n",
    "import os.path as path\n",
    "import pandas as pd\n",
    "import itertools\n",
    "import negspy.coordinates as nc"
   ]
  },
  {
   "cell_type": "markdown",
   "metadata": {},
   "source": [
    "## Load annotations"
   ]
  },
  {
   "cell_type": "code",
   "execution_count": 2,
   "metadata": {
    "code_folding": [
     4,
     25,
     47
    ]
   },
   "outputs": [],
   "source": [
    "genes = beddb(\"Data/hg38/gene-annotations-hg38.beddb\")\n",
    "chrom_sizes = chromsizes(\"hg38.chrom.sizes\")\n",
    "label_font_size = 18\n",
    "\n",
    "chrom_labels = {\n",
    "    \"top\": Track(\n",
    "        track_type=\"horizontal-chromosome-labels\",\n",
    "        tileset=chrom_sizes,\n",
    "        position=\"top\",\n",
    "        options={\n",
    "            \"fontSize\": label_font_size,\n",
    "            \"showMousePosition\": True,\n",
    "        },\n",
    "    ),\n",
    "    \"left\": Track(\n",
    "        track_type=\"vertical-chromosome-labels\",\n",
    "        tileset=chrom_sizes,\n",
    "        position=\"left\",\n",
    "        options={\n",
    "            \"fontSize\": label_font_size,\n",
    "            \"showMousePosition\": True,\n",
    "        },\n",
    "    )\n",
    "}\n",
    "\n",
    "gene_annots = {\n",
    "    \"top\": Track(\n",
    "        track_type=\"horizontal-gene-annotations\",\n",
    "        tileset=genes,\n",
    "        position=\"top\",\n",
    "        height=150,\n",
    "        options={\n",
    "            \"fontSize\": label_font_size,\n",
    "            \"showMousePosition\": True,\n",
    "        },\n",
    "    ),\n",
    "    \"left\": Track(\n",
    "        track_type=\"vertical-gene-annotations\",\n",
    "        tileset=genes,\n",
    "        position=\"left\",\n",
    "        options={\n",
    "            \"fontSize\": label_font_size,\n",
    "            \"showMousePosition\": True,\n",
    "        },\n",
    "    )\n",
    "}\n",
    "\n",
    "ctcf_motifs = {\n",
    "    \"top\": Track(\n",
    "        track_type=\"bedlike\",\n",
    "        server=\"//higlass.io/api/v1\",\n",
    "        tileset_uuid=\"EkPGY0iFQx6Nq6vdF8CpWA\",\n",
    "        position=\"top\",\n",
    "        options={\n",
    "            \"fontSize\": label_font_size,\n",
    "            \"showMousePosition\": True,\n",
    "        },\n",
    "    ),\n",
    "    \"left\": Track(\n",
    "        track_type=\"bedlike\",\n",
    "        server=\"//higlass.io/api/v1\",\n",
    "        tileset_uuid=\"EkPGY0iFQx6Nq6vdF8CpWA\",\n",
    "        position=\"left\",\n",
    "        options={\n",
    "            \"fontSize\": label_font_size,\n",
    "            \"showMousePosition\": True,\n",
    "        },\n",
    "    )\n",
    "}\n",
    "\n",
    "hg38 = nc.get_chrominfo(\"hg38\")"
   ]
  },
  {
   "cell_type": "markdown",
   "metadata": {},
   "source": [
    "# Data\n",
    "## Contact matrices"
   ]
  },
  {
   "cell_type": "code",
   "execution_count": 3,
   "metadata": {
    "code_folding": [
     29
    ]
   },
   "outputs": [],
   "source": [
    "metadata = pd.read_csv(path.join(\"..\", \"..\", \"Data\", \"External\", \"LowC_Samples_Data_Available.tsv\"), sep=\"\\t\", header=0)\n",
    "metadata = metadata.loc[metadata.Include == \"Yes\", :]\n",
    "metadata[\"SampleID\"] = [\"PCa\" + str(i) for i in metadata[\"Sample ID\"]]\n",
    "\n",
    "tumour_samples = metadata[\"SampleID\"].tolist()\n",
    "t2e_samples = metadata.loc[metadata[\"T2E Status\"] == \"Yes\", \"SampleID\"].tolist()\n",
    "nont2e_samples = metadata.loc[metadata[\"T2E Status\"] == \"No\", \"SampleID\"].tolist()\n",
    "\n",
    "benign_metadata = pd.read_csv(    path.join(\"..\", \"..\", \"Data\", \"Raw\", \"191220_A00827_0104_AHMW25DMXX\", \"config.tsv\"), sep=\"\\t\", header=0)\n",
    "benign_metadata = benign_metadata.loc[~benign_metadata[\"Sample\"].str.startswith(\"PCa\"), :]\n",
    "benign_samples = benign_metadata[\"Sample\"].tolist()\n",
    "\n",
    "all_samples = tumour_samples + benign_samples\n",
    "all_names = pd.DataFrame({\"Sample\": all_samples, \"Name\": metadata[\"Patient ID\"].tolist() + benign_samples})\n",
    "cooler_files = (\n",
    "    [path.join(\"..\", \"..\", \"Data\", \"Processed\", \"2019-06-18_PCa-LowC-sequencing\", \"Contacts\", s + \".mcool\") for s in tumour_samples]\n",
    "    + [path.join(\"..\", \"..\", \"Data\", \"Raw\", \"191220_A00827_0104_AHMW25DMXX\", \"Contacts\", s + \".mcool\") for s in benign_samples]\n",
    ")\n",
    "lowc_tilesets = {s: cooler(f) for s, f in zip(all_samples, cooler_files)}\n",
    "\n",
    "resolutions = [\n",
    "    1000, 2000, 3000, 4000, 5000,\n",
    "    10000, 20000, 30000, 40000, 50000,\n",
    "    100000, 200000, 300000, 400000, 500000,\n",
    "    1000000, 2000000, 3000000, 4000000, 5000000\n",
    "][::-1]\n",
    "\n",
    "min_resolution = 5000\n",
    "heatmap_size = 250\n",
    "lowc_heatmaps = {\n",
    "    s: {\n",
    "        \"top\": Track(\n",
    "            track_type='horizontal-heatmap',\n",
    "            position='top',\n",
    "            tileset=lowc_tilesets[s],\n",
    "            filetype=\"cooler\",\n",
    "            height=heatmap_size,\n",
    "            options={\n",
    "                \"maxZoom\": str(resolutions.index(min_resolution)),\n",
    "                \"colorbarPosition\": \"topRight\",\n",
    "                \"showMousePosition\": True,\n",
    "                \"name\": all_names.loc[all_names[\"Sample\"] == s, \"Name\"].values[0],\n",
    "            },\n",
    "        ),\n",
    "        \"bottom\": Track(\n",
    "            track_type='horizontal-heatmap',\n",
    "            position='bottom',\n",
    "            tileset=lowc_tilesets[s],\n",
    "            filetype=\"cooler\",\n",
    "            height=heatmap_size,\n",
    "            options={\n",
    "                \"maxZoom\": str(resolutions.index(min_resolution)),\n",
    "                \"colorbarPosition\": \"topRight\",\n",
    "                \"showMousePosition\": True,\n",
    "                \"name\": all_names.loc[all_names[\"Sample\"] == s, \"Name\"].values[0],\n",
    "            }\n",
    "        ),\n",
    "        \"left\": Track(\n",
    "            track_type='vertical-heatmap',\n",
    "            position='left',\n",
    "            tileset=lowc_tilesets[s],\n",
    "            filetype=\"cooler\",\n",
    "            width=heatmap_size,\n",
    "            options={\n",
    "                \"maxZoom\": str(resolutions.index(min_resolution)),\n",
    "                \"colorbarPosition\": \"topRight\",\n",
    "                \"showMousePosition\": True,\n",
    "                \"name\": all_names.loc[all_names[\"Sample\"] == s, \"Name\"].values[0],\n",
    "            }\n",
    "        ),\n",
    "        \"right\": Track(\n",
    "            track_type='vertical-heatmap',\n",
    "            position='right',\n",
    "            tileset=lowc_tilesets[s],\n",
    "            filetype=\"cooler\",\n",
    "            width=heatmap_size,\n",
    "            options={\n",
    "                \"maxZoom\": str(resolutions.index(min_resolution)),\n",
    "                \"colorbarPosition\": \"topRight\",\n",
    "                \"showMousePosition\": True,\n",
    "                \"name\": all_names.loc[all_names[\"Sample\"] == s, \"Name\"].values[0],\n",
    "            }\n",
    "        ),\n",
    "        \"centre\": Track(\n",
    "            track_type='heatmap',\n",
    "            position='center',\n",
    "            tileset=lowc_tilesets[s],\n",
    "            filetype=\"cooler\",\n",
    "            height=2 * heatmap_size,\n",
    "            options={\n",
    "                \"maxZoom\": str(resolutions.index(min_resolution)),\n",
    "                \"colorbarPosition\": \"topRight\",\n",
    "                \"showMousePosition\": True,\n",
    "                \"name\": all_names.loc[all_names[\"Sample\"] == s, \"Name\"].values[0],\n",
    "            }\n",
    "        )\n",
    "    } for s in all_samples\n",
    "}"
   ]
  },
  {
   "cell_type": "markdown",
   "metadata": {},
   "source": [
    "## TADs"
   ]
  },
  {
   "cell_type": "code",
   "execution_count": 4,
   "metadata": {
    "code_folding": [
     6,
     23,
     70,
     107
    ]
   },
   "outputs": [],
   "source": [
    "windows = list(range(3, 31))\n",
    "\n",
    "tad_1D_files = {s: {w: path.join(\"..\", \"2020-01-15_TAD-aggregation\", \"resolved-TADs\", \"separated-TADs\", s + \".40000bp.w_\" + str(w) + \".domains.beddb\") for w in windows} for s in tumour_samples}\n",
    "tad_2D_files = {s: {w: path.join(\"..\", \"2020-01-15_TAD-aggregation\", \"resolved-TADs\", \"separated-TADs\", s + \".40000bp.w_\" + str(w) + \".domains.bed2ddb\") for w in windows} for s in tumour_samples}\n",
    "htad_files = {s: path.join(\"..\", \"2020-01-15_TAD-aggregation\", \"resolved-TADs\", s + \".40000bp.aggregated-domains.bed2ddb\") for s in tumour_samples}\n",
    "\n",
    "def bed2ddb(filepath, uuid=None, **kwargs):\n",
    "    from clodius.tiles.utils import tiles_wrapper_2d\n",
    "    from clodius.tiles.bed2ddb import get_2d_tileset_info, get_2D_tiles\n",
    "    return Tileset(\n",
    "        uuid=uuid,\n",
    "        tileset_info=lambda: get_2d_tileset_info(filepath),\n",
    "        tiles=lambda tids: tiles_wrapper_2d(\n",
    "            tids,\n",
    "            lambda z,x,y: get_2D_tiles(filepath, z, x, y)[(x, y)]\n",
    "        ),\n",
    "        **kwargs\n",
    "    )\n",
    "\n",
    "tad_1D_tilesets = {s: {w: beddb(v[w], name=s + \" TADs (w=\" + str(w) +\")\") for w in windows} for s, v in tad_1D_files.items()}\n",
    "tad_2D_tilesets = {s: {w: bed2ddb(v[w], name=s + \" TADs (w=\" + str(w) +\")\") for w in windows} for s, v in tad_2D_files.items()}\n",
    "htad_tilesets = {s: bed2ddb(v, name=s + \" TADs\") for s, v in htad_files.items()}\n",
    "\n",
    "tads = {\n",
    "    s: {\n",
    "        w: {\n",
    "           \"top\": Track(\n",
    "                track_type=\"bedlike\",\n",
    "                position=\"top\",\n",
    "                tileset=tad_1D_tilesets[s][w],\n",
    "                filetype=\"beddb\",\n",
    "                options={\n",
    "                    \"showMousePosition\": True,\n",
    "                    \"name\": \"{} (w = {})\".format(s, w),\n",
    "                },\n",
    "            ),\n",
    "            \"bottom\": Track(\n",
    "                track_type=\"bedlike\",\n",
    "                position=\"bottom\",\n",
    "                tileset=tad_1D_tilesets[s][w],\n",
    "                filetype=\"beddb\",\n",
    "                options={\n",
    "                    \"showMousePosition\": True,\n",
    "                    \"name\": \"{} (w = {})\".format(s, w),\n",
    "                },\n",
    "            ),\n",
    "            \"left\": Track(\n",
    "                track_type=\"bedlike\",\n",
    "                position=\"left\",\n",
    "                tileset=tad_1D_tilesets[s][w],\n",
    "                filetype=\"beddb\",\n",
    "                options={\n",
    "                    \"showMousePosition\": True,\n",
    "                    \"name\": \"{} (w = {})\".format(s, w),\n",
    "                },\n",
    "            ),\n",
    "            \"right\": Track(\n",
    "                track_type=\"bedlike\",\n",
    "                position=\"right\",\n",
    "                tileset=tad_1D_tilesets[s][w],\n",
    "                filetype=\"beddb\",\n",
    "                options={\n",
    "                    \"showMousePosition\": True,\n",
    "                    \"name\": \"{} (w = {})\".format(s, w),\n",
    "                },\n",
    "            ),\n",
    "        } for w in windows\n",
    "    } for s in tumour_samples\n",
    "}\n",
    "\n",
    "tad_polygons = {\n",
    "    s: {\n",
    "        w: {\n",
    "           \"top\": Track(\n",
    "                track_type=\"horizontal-2d-rectangle-domains\",\n",
    "                position=\"top\",\n",
    "                tileset=tad_2D_tilesets[s][w],\n",
    "                filetype=\"bed2ddb\",\n",
    "                options={\n",
    "                    \"showMousePosition\": True,\n",
    "                    \"name\": \"{} (w = {})\".format(s, w),\n",
    "                },\n",
    "            ),\n",
    "            \"bottom\": Track(\n",
    "                track_type=\"horizontal-2d-rectangle-domains\",\n",
    "                position='bottom',\n",
    "                tileset=tad_2D_tilesets[s][w],\n",
    "                filetype=\"bed2ddb\",\n",
    "                options={\n",
    "                    \"showMousePosition\": True,\n",
    "                    \"name\": \"{} (w = {})\".format(s, w),\n",
    "                },\n",
    "            ),\n",
    "            \"centre\": Track(\n",
    "                track_type=\"2d-rectangle-domains\",\n",
    "                position=\"center\",\n",
    "                tileset=tad_2D_tilesets[s][w],\n",
    "                filetype=\"bed2ddb\",\n",
    "                options={\n",
    "                    \"showMousePosition\": True,\n",
    "                    \"name\": \"{} (w = {})\".format(s, w),\n",
    "                },\n",
    "            ),\n",
    "        } for w in windows\n",
    "    } for s in tumour_samples\n",
    "}\n",
    "\n",
    "hierarchical_tads = {\n",
    "    s: {\n",
    "       \"top\": Track(\n",
    "            track_type=\"2d-rectangle-domains\",\n",
    "            position=\"top\",\n",
    "            tileset=htad_tilesets[s],\n",
    "            filetype=\"bed2ddb\",\n",
    "            options={\n",
    "                \"showMousePosition\": True,\n",
    "                \"name\": s,\n",
    "            },\n",
    "        ),\n",
    "        \"bottom\": Track(\n",
    "            track_type=\"2d-rectangle-domains\",\n",
    "            position=\"bottom\",\n",
    "            tileset=htad_tilesets[s],\n",
    "            filetype=\"bed2ddb\",\n",
    "            options={\n",
    "                \"showMousePosition\": True,\n",
    "                \"name\": s,\n",
    "            },\n",
    "        ),\n",
    "        \"centre\": Track(\n",
    "            track_type=\"2d-rectangle-domains\",\n",
    "            position=\"center\",\n",
    "            tileset=htad_tilesets[s],\n",
    "            filetype=\"bed2ddb\",\n",
    "            options={\n",
    "                \"showMousePosition\": True,\n",
    "                \"name\": s,\n",
    "            }\n",
    "        ),\n",
    "    } for s in tumour_samples\n",
    "}"
   ]
  },
  {
   "cell_type": "markdown",
   "metadata": {},
   "source": [
    "## H3K27ac ChIP-seq"
   ]
  },
  {
   "cell_type": "code",
   "execution_count": 5,
   "metadata": {
    "code_folding": [
     3,
     54
    ]
   },
   "outputs": [],
   "source": [
    "line_height = 50\n",
    "chip_files = {s: path.join(\"..\", \"..\", \"Data\", \"Processed\", \"2019-05-03_PCa-H3K27ac-peaks\", \"Peaks\", s + \"_treat_pileup.filtered.bw\") for s in tumour_samples}\n",
    "chip_tilesets = {s: bigwig(f) for s, f in chip_files.items()}\n",
    "chip = {\n",
    "    s: {\n",
    "        \"top\": Track(\n",
    "            track_type=\"horizontal-line\",\n",
    "            position=\"top\",\n",
    "            tileset=ts,\n",
    "            filetype=\"vector\",\n",
    "            height=line_height,\n",
    "            options={\n",
    "                \"showMousePosition\": True,\n",
    "                \"name\": metadata.loc[metadata[\"SampleID\"] == s, \"Patient ID\"].values[0],\n",
    "            },\n",
    "        ),\n",
    "        \"bottom\": Track(\n",
    "            track_type=\"horizontal-line\",\n",
    "            position=\"bottom\",\n",
    "            tileset=ts,\n",
    "            filetype=\"vector\",\n",
    "            height=line_height,\n",
    "            options={\n",
    "                \"showMousePosition\": True,\n",
    "                \"name\": metadata.loc[metadata[\"SampleID\"] == s, \"Patient ID\"].values[0],\n",
    "            },\n",
    "        ),\n",
    "        \"left\": Track(\n",
    "            track_type=\"vertical-line\",\n",
    "            position=\"left\",\n",
    "            tileset=ts,\n",
    "            filetype=\"vector\",\n",
    "            height=line_height,\n",
    "            options={\n",
    "                \"showMousePosition\": True,\n",
    "                \"name\": metadata.loc[metadata[\"SampleID\"] == s, \"Patient ID\"].values[0],\n",
    "            },\n",
    "        ),\n",
    "        \"right\": Track(\n",
    "            track_type=\"vertical-line\",\n",
    "            position=\"right\",\n",
    "            tileset=ts,\n",
    "            filetype=\"vector\",\n",
    "            height=line_height,\n",
    "            options={\n",
    "                \"showMousePosition\": True,\n",
    "                \"name\": metadata.loc[metadata[\"SampleID\"] == s, \"Patient ID\"].values[0],\n",
    "            },\n",
    "        ),\n",
    "    } for s, ts in chip_tilesets.items()\n",
    "}\n",
    "\n",
    "peak_files = {s: path.join(\"..\", \"..\", \"Data\", \"Processed\", \"2019-05-03_PCa-H3K27ac-peaks\", \"Peaks\", s + \"_peaks.filtered.beddb\") for s in tumour_samples}\n",
    "peak_tilesets = {s: beddb(f) for s, f in peak_files.items()}\n",
    "peaks = {\n",
    "    s: {\n",
    "        \"top\": Track(\n",
    "            track_type=\"bedlike\",\n",
    "            position=\"top\",\n",
    "            tileset=ts,\n",
    "            filetype=\"beddb\",\n",
    "            options={\n",
    "                \"showMousePosition\": True,\n",
    "                \"name\": metadata.loc[metadata[\"SampleID\"] == s, \"Patient ID\"].values[0],\n",
    "            },\n",
    "        ),\n",
    "        \"bottom\": Track(\n",
    "            track_type=\"bedlike\",\n",
    "            position=\"bottom\",\n",
    "            tileset=ts,\n",
    "            filetype=\"beddb\",\n",
    "            options={\n",
    "                \"showMousePosition\": True,\n",
    "                \"name\": metadata.loc[metadata[\"SampleID\"] == s, \"Patient ID\"].values[0],\n",
    "            },\n",
    "        ),\n",
    "        \"left\": Track(\n",
    "            track_type=\"bedlike\",\n",
    "            position=\"left\",\n",
    "            tileset=ts,\n",
    "            filetype=\"beddb\",\n",
    "            options={\n",
    "                \"showMousePosition\": True,\n",
    "                \"name\": metadata.loc[metadata[\"SampleID\"] == s, \"Patient ID\"].values[0],\n",
    "            },\n",
    "        ),\n",
    "        \"right\": Track(\n",
    "            track_type=\"bedlike\",\n",
    "            position=\"right\",\n",
    "            tileset=ts,\n",
    "            filetype=\"beddb\",\n",
    "            options={\n",
    "                \"showMousePosition\": True,\n",
    "                \"name\": metadata.loc[metadata[\"SampleID\"] == s, \"Patient ID\"].values[0],\n",
    "            },\n",
    "        ),\n",
    "    } for s, ts in peak_tilesets.items()\n",
    "}"
   ]
  },
  {
   "cell_type": "markdown",
   "metadata": {},
   "source": [
    "## Load breakpoints"
   ]
  },
  {
   "cell_type": "code",
   "execution_count": 6,
   "metadata": {
    "code_folding": [
     11
    ]
   },
   "outputs": [],
   "source": [
    "BREAK_DIR = path.join(\"..\", \"2019-07-24_breakfinder\", \"Breakpoints\", \"Default\")\n",
    "breaks = {s: pd.read_csv(\n",
    "    path.join(BREAK_DIR, s + \".breaks.sorted.manually-resolved.tsv\"),\n",
    "    sep=\"\\t\",\n",
    "    header=None,\n",
    "    index_col=False,\n",
    "    names=[\"chr_x\", \"start_x\", \"end_x\", \"chr_y\", \"start_y\", \"end_y\", \"name\", \"logodds\", \"strand_x\", \"strand_y\", \"resolution\", \"Type\", \"Notes\"],\n",
    ") for s in tumour_samples}\n",
    "\n",
    "break_files = {s: path.join(BREAK_DIR, s + \".breaks.bed2ddb\") for s in tumour_samples}\n",
    "break_tilesets = {s: bed2ddb(v, name=s + \" Breaks\") for s, v in break_files.items()}\n",
    "break_tracks = {\n",
    "    s: {\n",
    "       \"top\": Track(\n",
    "            track_type=\"horizontal-2d-rectangle-domains\",\n",
    "            position=\"top\",\n",
    "            tileset=break_tilesets[s],\n",
    "            filetype=\"bed2ddb\",\n",
    "            options={\n",
    "                \"showMousePosition\": True,\n",
    "                \"name\": s,\n",
    "            },\n",
    "        ),\n",
    "        \"bottom\": Track(\n",
    "            track_type=\"vertical-2d-rectangle-domains\",\n",
    "            position=\"bottom\",\n",
    "            tileset=break_tilesets[s],\n",
    "            filetype=\"bed2ddb\",\n",
    "            options={\n",
    "                \"showMousePosition\": True,\n",
    "                \"name\": s,\n",
    "            },\n",
    "        ),\n",
    "        \"centre\": Track(\n",
    "            track_type=\"2d-rectangle-domains\",\n",
    "            position=\"center\",\n",
    "            tileset=break_tilesets[s],\n",
    "            filetype=\"bed2ddb\",\n",
    "            options={\n",
    "                \"showMousePosition\": True,\n",
    "                \"name\": s,\n",
    "            }\n",
    "        ),\n",
    "    } for s in tumour_samples\n",
    "}"
   ]
  },
  {
   "cell_type": "markdown",
   "metadata": {},
   "source": [
    "# Paper figures"
   ]
  },
  {
   "cell_type": "code",
   "execution_count": 7,
   "metadata": {
    "scrolled": false
   },
   "outputs": [
    {
     "data": {
      "application/vnd.jupyter.widget-view+json": {
       "model_id": "a9afd644edf646879a3db793fab032d5",
       "version_major": 2,
       "version_minor": 0
      },
      "text/plain": [
       "HiGlassDisplay(viewconf={'editable': True, 'views': [{'uid': 'aRJSzRvvRbSYYBuuY0eMpw', 'tracks': {'top': [{'ty…"
      ]
     },
     "metadata": {},
     "output_type": "display_data"
    }
   ],
   "source": [
    "fig1_view = [\n",
    "    View(\n",
    "        tracks=[\n",
    "            chrom_labels[\"top\"], gene_annots[\"top\"],\n",
    "            chip[s][\"top\"],\n",
    "            tads[s][3][\"top\"],\n",
    "            tads[s][10][\"top\"],\n",
    "            tads[s][17][\"top\"],\n",
    "            tads[s][24][\"top\"],\n",
    "        ],\n",
    "        initialXDomain=[\n",
    "            nc.chr_pos_to_genome_pos(\"chr14\", 36800000, hg38),\n",
    "            nc.chr_pos_to_genome_pos(\"chr14\", 38400000, hg38),\n",
    "        ]\n",
    "    ) for s in tumour_samples\n",
    "]\n",
    "display, server, viewconf = higlass.display(\n",
    "    views=fig1_view,\n",
    "    server_port=8192\n",
    ")\n",
    "display"
   ]
  },
  {
   "cell_type": "markdown",
   "metadata": {},
   "source": [
    "## Effects of structural variants on TAD boundaries\n",
    "\n",
    "### A structural variant that alter local TAD boundaries"
   ]
  },
  {
   "cell_type": "code",
   "execution_count": 21,
   "metadata": {
    "code_folding": [
     0,
     18,
     35,
     47,
     58
    ],
    "scrolled": false
   },
   "outputs": [
    {
     "data": {
      "application/vnd.jupyter.widget-view+json": {
       "model_id": "9e692ec1c13b4178ba6aa5bbce994c82",
       "version_major": 2,
       "version_minor": 0
      },
      "text/plain": [
       "HiGlassDisplay(viewconf={'editable': True, 'views': [{'uid': 'cxWlndDmTyOisb0lZG96dw', 'tracks': {'top': [{'ty…"
      ]
     },
     "metadata": {},
     "output_type": "display_data"
    }
   ],
   "source": [
    "t2e_translocation = View(\n",
    "    tracks=[\n",
    "        chrom_labels[\"top\"], gene_annots[\"top\"],\n",
    "        chrom_labels[\"left\"], gene_annots[\"left\"],\n",
    "        lowc_heatmaps[\"PCa13848\"][\"bottom\"],\n",
    "        lowc_heatmaps[\"PCa13848\"][\"centre\"],\n",
    "        lowc_heatmaps[\"PCa13848\"][\"left\"],\n",
    "        #hierarchical_tads[\"PCa13848\"]\n",
    "    ],\n",
    "    initialYDomain=[\n",
    "        nc.chr_pos_to_genome_pos(\"chr21\", 38000000, hg38),\n",
    "        nc.chr_pos_to_genome_pos(\"chr21\", 42000000, hg38)\n",
    "    ],\n",
    "    initialXDomain=[\n",
    "        nc.chr_pos_to_genome_pos(\"chr14\", 33000000, hg38),\n",
    "        nc.chr_pos_to_genome_pos(\"chr14\", 38000000, hg38)\n",
    "    ],\n",
    ")\n",
    "nont2e_translocation = View(\n",
    "    tracks=[\n",
    "        chrom_labels[\"left\"], gene_annots[\"left\"],\n",
    "        lowc_heatmaps[\"PCa3023\"][\"top\"],\n",
    "        lowc_heatmaps[\"PCa3023\"][\"centre\"],\n",
    "        lowc_heatmaps[\"PCa3023\"][\"left\"],\n",
    "    ],\n",
    "    initialYDomain=[\n",
    "        nc.chr_pos_to_genome_pos(\"chr21\", 38500000, hg38),\n",
    "        nc.chr_pos_to_genome_pos(\"chr21\", 41500000, hg38)\n",
    "    ],\n",
    "    initialXDomain=[\n",
    "        nc.chr_pos_to_genome_pos(\"chr14\", 33000000, hg38),\n",
    "        nc.chr_pos_to_genome_pos(\"chr14\", 38000000, hg38)\n",
    "    ],\n",
    ")\n",
    "\n",
    "t2e_translocation_insertion = View(\n",
    "    tracks=[\n",
    "        chrom_labels[\"top\"], gene_annots[\"top\"],\n",
    "        chrom_labels[\"left\"], gene_annots[\"left\"],\n",
    "        lowc_heatmaps[\"PCa13848\"][\"centre\"],\n",
    "        tads[\"PCa13848\"][3][\"top\"],\n",
    "    ],\n",
    "    initialXDomain=[\n",
    "        nc.chr_pos_to_genome_pos(\"chr14\", 34000000, hg38),\n",
    "        nc.chr_pos_to_genome_pos(\"chr14\", 37000000, hg38)\n",
    "    ],\n",
    ")\n",
    "nont2e_translocation_insertion = View(\n",
    "    tracks=[\n",
    "        chrom_labels[\"left\"], gene_annots[\"left\"],\n",
    "        lowc_heatmaps[\"PCa3023\"][\"centre\"],\n",
    "        tads[\"PCa3023\"][3][\"top\"],\n",
    "    ],\n",
    "    initialXDomain=[\n",
    "        nc.chr_pos_to_genome_pos(\"chr14\", 34000000, hg38),\n",
    "        nc.chr_pos_to_genome_pos(\"chr14\", 37000000, hg38)\n",
    "    ],\n",
    ")\n",
    "display, server, viewconf = higlass.display(\n",
    "    views=[\n",
    "        t2e_translocation, nont2e_translocation,\n",
    "        t2e_translocation_insertion, nont2e_translocation_insertion\n",
    "    ],\n",
    "    value_scale_syncs = [\n",
    "        [\n",
    "            (t2e_translocation, lowc_heatmaps[\"PCa13848\"][\"centre\"]),\n",
    "            (nont2e_translocation, lowc_heatmaps[\"PCa3023\"][\"centre\"]),\n",
    "        ],\n",
    "        [\n",
    "            (t2e_translocation_insertion, lowc_heatmaps[\"PCa13848\"][\"centre\"]),\n",
    "            (nont2e_translocation_insertion, lowc_heatmaps[\"PCa3023\"][\"centre\"]),\n",
    "        ],\n",
    "    ],\n",
    "    zoom_syncs=[\n",
    "        [t2e_translocation, nont2e_translocation],\n",
    "        [t2e_translocation_insertion, nont2e_translocation_insertion]\n",
    "    ],\n",
    "    location_syncs=[\n",
    "        [t2e_translocation, nont2e_translocation],\n",
    "        [t2e_translocation_insertion, nont2e_translocation_insertion]\n",
    "    ],\n",
    ")\n",
    "display"
   ]
  },
  {
   "cell_type": "markdown",
   "metadata": {},
   "source": [
    "### A structural variant that does not affect local TAD boundaries"
   ]
  },
  {
   "cell_type": "code",
   "execution_count": 8,
   "metadata": {
    "code_folding": [
     12,
     25
    ],
    "scrolled": false
   },
   "outputs": [
    {
     "data": {
      "application/vnd.jupyter.widget-view+json": {
       "model_id": "8c1977cde1dc4955a5854f96e09671e2",
       "version_major": 2,
       "version_minor": 0
      },
      "text/plain": [
       "HiGlassDisplay(viewconf={'editable': True, 'views': [{'uid': 'QbHBZLcmR2OnTYabH3zS7g', 'tracks': {'top': [{'ty…"
      ]
     },
     "metadata": {},
     "output_type": "display_data"
    }
   ],
   "source": [
    "sv_sample_id = \"PCa13848\"\n",
    "nonsv_sample_id = \"PCa3023\"\n",
    "pos = {\n",
    "    \"x\": [\n",
    "        nc.chr_pos_to_genome_pos(\"chr12\", 69700000, hg38),\n",
    "        nc.chr_pos_to_genome_pos(\"chr12\", 60900000, hg38)\n",
    "    ],\n",
    "    \"y\": [\n",
    "        nc.chr_pos_to_genome_pos(\"chr11\", 96630000, hg38),\n",
    "        nc.chr_pos_to_genome_pos(\"chr11\", 99300000, hg38)\n",
    "    ]\n",
    "}\n",
    "non_affecting_sv = View(\n",
    "    tracks=[\n",
    "        chrom_labels[\"top\"], gene_annots[\"top\"],\n",
    "        chrom_labels[\"left\"], gene_annots[\"left\"],\n",
    "        #lowc_heatmaps[sv_sample_id][\"bottom\"],\n",
    "        #CombinedTrack([lowc_heatmaps[sv_sample_id][\"centre\"], break_tracks[sv_sample_id][\"centre\"]]),\n",
    "        #lowc_heatmaps[sv_sample_id][\"centre\"],\n",
    "        #lowc_heatmaps[sv_sample_id][\"left\"],\n",
    "        #hierarchical_tads[sv_sample_id]\n",
    "    ],\n",
    "    initialYDomain=pos[\"y\"],\n",
    "    initialXDomain=pos[\"x\"],\n",
    ")\n",
    "non_affecting_nonsv = View(\n",
    "    tracks=[\n",
    "        chrom_labels[\"top\"], gene_annots[\"top\"],\n",
    "        chrom_labels[\"left\"], gene_annots[\"left\"],\n",
    "        #lowc_heatmaps[nonsv_sample_id][\"top\"],\n",
    "        #lowc_heatmaps[nonsv_sample_id][\"centre\"],\n",
    "        #lowc_heatmaps[nonsv_sample_id][\"left\"],\n",
    "    ],\n",
    "    initialYDomain=pos[\"y\"],\n",
    "    initialXDomain=pos[\"x\"],\n",
    ")\n",
    "\n",
    "display, server, viewconf = higlass.display(\n",
    "    views=[\n",
    "        non_affecting_sv, non_affecting_nonsv,\n",
    "    ],\n",
    "#    value_scale_syncs = [\n",
    "#        [\n",
    "#            (non_affecting_sv, lowc_heatmaps[sv_sample_id][\"centre\"]),\n",
    "#            (non_affecting_nonsv, lowc_heatmaps[nonsv_sample_id][\"centre\"]),\n",
    "#        ],\n",
    "#        [\n",
    "#            (non_affecting_sv, lowc_heatmaps[sv_sample_id][\"centre\"]),\n",
    "#            (non_affecting_nonsv, lowc_heatmaps[nonsv_sample_id][\"centre\"]),\n",
    "#        ],\n",
    "#    ],\n",
    "#    zoom_syncs=[\n",
    "#        [non_affecting_sv, non_affecting_nonsv],\n",
    "#    ],\n",
    "#    location_syncs=[\n",
    "#        [non_affecting_sv, non_affecting_nonsv],\n",
    "#    ],\n",
    "    server_port=8192\n",
    ")\n",
    "display"
   ]
  },
  {
   "cell_type": "markdown",
   "metadata": {},
   "source": [
    "# Images\n",
    "## Important prostate cancer regions"
   ]
  },
  {
   "cell_type": "code",
   "execution_count": 7,
   "metadata": {
    "jupyter": {
     "outputs_hidden": true
    }
   },
   "outputs": [
    {
     "data": {
      "application/vnd.jupyter.widget-view+json": {
       "model_id": "631fc25d7a7b477ba76c0e7fc00441b0",
       "version_major": 2,
       "version_minor": 0
      },
      "text/plain": [
       "HiGlassDisplay(viewconf={'editable': True, 'views': [{'uid': 'G8NZVn4pR8O8zbgSqXacjA', 'tracks': {'top': [{'ty…"
      ]
     },
     "metadata": {},
     "output_type": "display_data"
    }
   ],
   "source": [
    "display, server, viewconf = higlass.display([\n",
    "    View(\n",
    "        tracks=[chrom_labels[\"top\"], gene_annots[\"top\"]],\n",
    "        initialXDomain=[\n",
    "            nc.chr_pos_to_genome_pos(\"chr13\", 20000000, hg38),\n",
    "            nc.chr_pos_to_genome_pos(\"chr13\", 20400000, hg38)\n",
    "        ],\n",
    "    )\n",
    "])\n",
    "display"
   ]
  },
  {
   "cell_type": "markdown",
   "metadata": {},
   "source": [
    "### FOXA1"
   ]
  },
  {
   "cell_type": "code",
   "execution_count": 21,
   "metadata": {
    "jupyter": {
     "outputs_hidden": true
    }
   },
   "outputs": [
    {
     "data": {
      "application/vnd.jupyter.widget-view+json": {
       "model_id": "31acd932d0294391a5bfe32d6999b2ba",
       "version_major": 2,
       "version_minor": 0
      },
      "text/plain": [
       "HiGlassDisplay(viewconf={'editable': True, 'views': [{'uid': 'bJyIaQsuSNKaAYmh13ACJQ', 'tracks': {'top': [{'ty…"
      ]
     },
     "metadata": {},
     "output_type": "display_data"
    }
   ],
   "source": [
    "foxa1_view = View(\n",
    "    tracks=[\n",
    "        lowc_heatmaps[\"PCa13266\"][\"centre\"],\n",
    "        gene_annots[\"top\"],\n",
    "        chrom_labels[\"top\"],\n",
    "        CombinedTrack(\n",
    "            tracks=[chip[s][\"top\"] for s in tumour_samples],\n",
    "            options={\n",
    "                \"height\": 150\n",
    "            }\n",
    "        )\n",
    "    ],\n",
    "    initialXDomain=[\n",
    "        nc.chr_pos_to_genome_pos(\"chr14\", 36000000, hg38),\n",
    "        nc.chr_pos_to_genome_pos(\"chr14\", 39000000, hg38)\n",
    "    ],\n",
    ")\n",
    "\n",
    "display, server, viewconf = higlass.display(\n",
    "    [foxa1_view],\n",
    "    value_scale_syncs=[[(foxa1_view, chip[s][\"top\"]) for s in tumour_samples]]\n",
    ")\n",
    "display"
   ]
  },
  {
   "cell_type": "markdown",
   "metadata": {},
   "source": [
    "### _TMPRSS2 - ERG_ fusion"
   ]
  },
  {
   "cell_type": "code",
   "execution_count": 44,
   "metadata": {
    "scrolled": false
   },
   "outputs": [
    {
     "data": {
      "application/vnd.jupyter.widget-view+json": {
       "model_id": "c6bfe3960de94593840db415b27fa7db",
       "version_major": 2,
       "version_minor": 0
      },
      "text/plain": [
       "HiGlassDisplay(viewconf={'editable': True, 'views': [{'uid': 'Ygmvoh7hT0qIWaTlQwEOZA', 'tracks': {'top': [{'ty…"
      ]
     },
     "metadata": {},
     "output_type": "display_data"
    }
   ],
   "source": [
    "t2e_view = View(\n",
    "    tracks=[chrom_labels[\"top\"], gene_annots[\"top\"]],\n",
    "        #+ [lowc_heatmaps[s][\"top\"] for s in t2e_samples]\n",
    "        #+ [lowc_heatmaps[s][\"top\"] for s in nont2e_samples],\n",
    "    initialXDomain=[\n",
    "        nc.chr_pos_to_genome_pos(\"chr21\", 36000000, hg38),\n",
    "        nc.chr_pos_to_genome_pos(\"chr21\", 42000000, hg38)\n",
    "    ],\n",
    ")\n",
    "\n",
    "display, server, viewconf = higlass.display(\n",
    "    views=[t2e_view]\n",
    ")\n",
    "display"
   ]
  },
  {
   "cell_type": "markdown",
   "metadata": {},
   "source": [
    "## AR"
   ]
  },
  {
   "cell_type": "code",
   "execution_count": 10,
   "metadata": {
    "scrolled": true
   },
   "outputs": [
    {
     "data": {
      "application/vnd.jupyter.widget-view+json": {
       "model_id": "706ef49acfef4c17b93017858bcddbea",
       "version_major": 2,
       "version_minor": 0
      },
      "text/plain": [
       "HiGlassDisplay(viewconf={'editable': True, 'views': [{'uid': 'bd-LlC-qR7CeX1BXv4rzMA', 'tracks': {'top': [{'ty…"
      ]
     },
     "metadata": {},
     "output_type": "display_data"
    }
   ],
   "source": [
    "ar_tracks = [chrom_labels[\"top\"], gene_annots[\"top\"]] + [lowc_heatmaps[s][\"top\"] for s in all_samples]\n",
    "ar_view = View(\n",
    "    tracks=ar_tracks,\n",
    "    initialXDomain=[\n",
    "        nc.chr_pos_to_genome_pos(\"chrX\", 65040000, hg38),\n",
    "        nc.chr_pos_to_genome_pos(\"chrX\", 70200000, hg38)\n",
    "    ]\n",
    ")\n",
    "\n",
    "display, server, viewconf = higlass.display([ar_view], value_scale_syncs = [ar_tracks])\n",
    "display"
   ]
  },
  {
   "cell_type": "markdown",
   "metadata": {},
   "source": [
    "## MYC"
   ]
  },
  {
   "cell_type": "code",
   "execution_count": 11,
   "metadata": {
    "scrolled": true
   },
   "outputs": [
    {
     "data": {
      "application/vnd.jupyter.widget-view+json": {
       "model_id": "18989014b5464ff2a7a28ecc537ac49a",
       "version_major": 2,
       "version_minor": 0
      },
      "text/plain": [
       "HiGlassDisplay(viewconf={'editable': True, 'views': [{'uid': 'G7cYX6t0TSSkImMeIPftJA', 'tracks': {'top': [{'ty…"
      ]
     },
     "metadata": {},
     "output_type": "display_data"
    }
   ],
   "source": [
    "myc_view = View(\n",
    "    tracks=[chrom_labels[\"top\"], gene_annots[\"top\"]] + [lowc_heatmaps[s][\"top\"] for s in all_samples],\n",
    "    initialXDomain=[\n",
    "        nc.chr_pos_to_genome_pos(\"chr8\", 126000000, hg38),\n",
    "        nc.chr_pos_to_genome_pos(\"chr8\", 130000000, hg38)\n",
    "    ],\n",
    ")\n",
    "\n",
    "display, server, viewconf = higlass.display([myc_view])\n",
    "display"
   ]
  },
  {
   "cell_type": "markdown",
   "metadata": {},
   "source": [
    "## CTCF, YY1, HOXB13"
   ]
  },
  {
   "cell_type": "code",
   "execution_count": 12,
   "metadata": {
    "scrolled": true
   },
   "outputs": [
    {
     "data": {
      "application/vnd.jupyter.widget-view+json": {
       "model_id": "9ae4c6210e8c45688e4fd4f67a0fdc55",
       "version_major": 2,
       "version_minor": 0
      },
      "text/plain": [
       "HiGlassDisplay(viewconf={'editable': True, 'views': [{'uid': 'c4xLMYmkQem72W4Di51fzA', 'tracks': {'top': [{'ty…"
      ]
     },
     "metadata": {},
     "output_type": "display_data"
    }
   ],
   "source": [
    "ctcf_view = View(\n",
    "    tracks=[chrom_labels[\"top\"], gene_annots[\"top\"]] + [lowc_heatmaps[s][\"top\"] for s in all_samples],\n",
    "    initialXDomain=[\n",
    "        nc.chr_pos_to_genome_pos(\"chr16\", 65000000, hg38),\n",
    "        nc.chr_pos_to_genome_pos(\"chr16\", 69000000, hg38)\n",
    "    ],\n",
    ")\n",
    "yy1_view = View(\n",
    "    tracks=[chrom_labels[\"top\"], gene_annots[\"top\"]] + [lowc_heatmaps[s][\"top\"] for s in all_samples],\n",
    "    initialXDomain=[\n",
    "        nc.chr_pos_to_genome_pos(\"chr14\", 98000000, hg38),\n",
    "        nc.chr_pos_to_genome_pos(\"chr14\", 102000000, hg38)\n",
    "    ],\n",
    ")\n",
    "hoxb13_view = View(\n",
    "    tracks=[chrom_labels[\"top\"], gene_annots[\"top\"]] + [lowc_heatmaps[s][\"top\"] for s in all_samples],\n",
    "    initialXDomain=[\n",
    "        nc.chr_pos_to_genome_pos(\"chr17\", 46160000, hg38),\n",
    "        nc.chr_pos_to_genome_pos(\"chr17\", 51320000, hg38)\n",
    "    ],\n",
    ")\n",
    "\n",
    "myc_insertion_view = View(\n",
    "    tracks=[chrom_labels[\"top\"], gene_annots[\"top\"]] + [lowc_heatmaps[s][\"top\"] for s in all_samples],\n",
    "    initialXDomain=[\n",
    "        nc.chr_pos_to_genome_pos(\"chr12\", 70480000 - 5e6, hg38),\n",
    "        nc.chr_pos_to_genome_pos(\"chr12\", 70570000 + 5e6, hg38)\n",
    "    ],\n",
    ")\n",
    "\n",
    "display, server, viewconf = higlass.display([\n",
    "    myc_insertion_view\n",
    "])\n",
    "display"
   ]
  },
  {
   "cell_type": "markdown",
   "metadata": {},
   "source": [
    "## Structural variants"
   ]
  },
  {
   "cell_type": "markdown",
   "metadata": {},
   "source": [
    "### Breakpoint pairs"
   ]
  },
  {
   "cell_type": "code",
   "execution_count": 22,
   "metadata": {
    "scrolled": false
   },
   "outputs": [
    {
     "data": {
      "application/vnd.jupyter.widget-view+json": {
       "model_id": "6c2d80e7a2764a1fb3296b6e2c682574",
       "version_major": 2,
       "version_minor": 0
      },
      "text/plain": [
       "HiGlassDisplay(viewconf={'editable': True, 'views': [{'uid': 'NfVEdIekT4qdE75LnmtnwQ', 'tracks': {'top': [{'ty…"
      ]
     },
     "metadata": {},
     "output_type": "display_data"
    }
   ],
   "source": [
    "zoom_offset = 1e6\n",
    "s = \"PCa40507\"\n",
    "i = list(range(0, 2))\n",
    "v = [\n",
    "    View(\n",
    "        tracks=[\n",
    "            chrom_labels[\"top\"], gene_annots[\"top\"],\n",
    "            chrom_labels[\"left\"], gene_annots[\"left\"]]\n",
    "            #CombinedTrack([lowc_heatmaps[s][\"top\"], break_tracks[s][\"top\"]]),\n",
    "            #lowc_heatmaps[s][\"top\"],\n",
    "            #chip[s][\"top\"], peaks[s][\"top\"],\n",
    "            + [tads[s][w][\"top\"] for w in [3,10,20,30]]\n",
    "            + [CombinedTrack([lowc_heatmaps[s][\"centre\"], break_tracks[s][\"centre\"]]),\n",
    "            tads[s][3][\"left\"],\n",
    "            #lowc_heatmaps[s][\"left\"],\n",
    "            #chip[s][\"left\"], peaks[s][\"left\"],\n",
    "        ],\n",
    "        initialYDomain=[\n",
    "            nc.chr_pos_to_genome_pos(breaks[s].iloc[j].chr_x, int(breaks[s].iloc[j].start_x) - zoom_offset, hg38),\n",
    "            nc.chr_pos_to_genome_pos(breaks[s].iloc[j].chr_x, int(breaks[s].iloc[j].end_x) + zoom_offset, hg38)\n",
    "        ],\n",
    "        initialXDomain=[\n",
    "            nc.chr_pos_to_genome_pos(breaks[s].iloc[j].chr_y, int(breaks[s].iloc[j].start_y) - zoom_offset, hg38),\n",
    "            nc.chr_pos_to_genome_pos(breaks[s].iloc[j].chr_y, int(breaks[s].iloc[j].end_y) + zoom_offset, hg38)\n",
    "        ],\n",
    "    ) for j in i\n",
    "]\n",
    "    \n",
    "display, server, viewconf = higlass.display(\n",
    "    views=v,\n",
    "    zoom_syncs=[v],\n",
    "    server_port=8192\n",
    ")\n",
    "#print(breaks[s].iloc[i, :])\n",
    "display"
   ]
  },
  {
   "cell_type": "markdown",
   "metadata": {},
   "source": [
    "## Differential TAD boundaries"
   ]
  },
  {
   "cell_type": "code",
   "execution_count": 16,
   "metadata": {},
   "outputs": [
    {
     "name": "stdout",
     "output_type": "stream",
     "text": [
      "['PCa13266', 'PCa13848', 'PCa14121', 'PCa19121', 'PCa3023', 'PCa33173', 'PCa40507', 'PCa51852', 'PCa53687', 'PCa56413', 'PCa57054', 'PCa57294', 'PCa58215']\n"
     ]
    },
    {
     "data": {
      "application/vnd.jupyter.widget-view+json": {
       "model_id": "c3b856171cf646cfba80dbfd5f729ba4",
       "version_major": 2,
       "version_minor": 0
      },
      "text/plain": [
       "HiGlassDisplay(viewconf={'editable': True, 'views': [{'uid': 'Vl2vaQV0Q8O4v3Qw-WiXvw', 'tracks': {'top': [{'ty…"
      ]
     },
     "metadata": {},
     "output_type": "display_data"
    }
   ],
   "source": [
    "tad_view = View(\n",
    "    tracks=[chrom_labels[\"top\"], gene_annots[\"top\"]] + [tads[s][3][\"top\"] for s in tumour_samples],\n",
    "    initialXDomain = [\n",
    "        nc.chr_pos_to_genome_pos(\"chr10\", 67570000, hg38),\n",
    "        nc.chr_pos_to_genome_pos(\"chr10\", 69950000, hg38),\n",
    "    ]\n",
    ")\n",
    "\n",
    "display, server, viewconf = higlass.display(views=[tad_view], server_port=8192)\n",
    "print(tumour_samples)\n",
    "display"
   ]
  },
  {
   "cell_type": "markdown",
   "metadata": {},
   "source": [
    "## Complex events"
   ]
  },
  {
   "cell_type": "code",
   "execution_count": null,
   "metadata": {
    "scrolled": false
   },
   "outputs": [],
   "source": [
    "s = \"Benign-Prostate-3330581\"\n",
    "pos = {\n",
    "    \"x\": [\n",
    "        nc.chr_pos_to_genome_pos(\"chr19\", 36300000, hg38),\n",
    "        nc.chr_pos_to_genome_pos(\"chr19\", 44600000, hg38)\n",
    "    ],\n",
    "    \"y\": [\n",
    "        nc.chr_pos_to_genome_pos(\"chr19\", 56300000, hg38),\n",
    "        nc.chr_pos_to_genome_pos(\"chr19\", 58400000, hg38)\n",
    "    ]\n",
    "}\n",
    "v = [\n",
    "    #View(\n",
    "    #    tracks=[\n",
    "    #        chrom_labels[\"top\"], gene_annots[\"top\"],\n",
    "    #        chrom_labels[\"left\"], gene_annots[\"left\"],\n",
    "    #        lowc_heatmaps[s][\"centre\"],\n",
    "    #    ],\n",
    "    #    initialXDomain=pos[\"x\"],\n",
    "    #),\n",
    "    View(\n",
    "        tracks=[\n",
    "            chrom_labels[\"top\"], gene_annots[\"top\"],\n",
    "            chrom_labels[\"left\"], gene_annots[\"left\"],\n",
    "            lowc_heatmaps[s][\"centre\"],\n",
    "        ],\n",
    "        initialXDomain=pos[\"x\"],\n",
    "        initialYDomain=pos[\"y\"],\n",
    "    ),\n",
    "    #View(\n",
    "    #    tracks=[\n",
    "    #        #chrom_labels[\"top\"], gene_annots[\"top\"],\n",
    "    #        #chrom_labels[\"left\"], gene_annots[\"left\"],\n",
    "    #        lowc_heatmaps[s][\"centre\"],\n",
    "    #    ],\n",
    "    #    initialXDomain=pos[\"y\"],\n",
    "    #),\n",
    "    #View(\n",
    "    #    tracks=[\n",
    "    #        chrom_labels[\"top\"], gene_annots[\"top\"],\n",
    "    #        chrom_labels[\"left\"], gene_annots[\"left\"],\n",
    "    #        lowc_heatmaps[s][\"centre\"],\n",
    "    #        break_tracks[s][\"centre\"],\n",
    "    #    ],\n",
    "    #    initialXDomain=[\n",
    "    #        nc.chr_pos_to_genome_pos(\"chr16\", 60000000, hg38),\n",
    "    #        nc.chr_pos_to_genome_pos(\"chr16\", 63000000, hg38)\n",
    "    #    ],\n",
    "    #)\n",
    "]\n",
    "\n",
    "display, server, viewconf = higlass.display(\n",
    "    views=v,\n",
    "    server_port=8192\n",
    ")\n",
    "display"
   ]
  },
  {
   "cell_type": "code",
   "execution_count": null,
   "metadata": {},
   "outputs": [],
   "source": []
  }
 ],
 "metadata": {
  "file_extension": ".py",
  "kernelspec": {
   "display_name": "Python 3.7.3 64-bit ('base': conda)",
   "language": "python",
   "name": "python37364bitbasecondae9af21f5171447e38140ec8437cf79eb"
  },
  "language_info": {
   "codemirror_mode": {
    "name": "ipython",
    "version": 3
   },
   "file_extension": ".py",
   "mimetype": "text/x-python",
   "name": "python",
   "nbconvert_exporter": "python",
   "pygments_lexer": "ipython3",
   "version": "3.7.3"
  },
  "mimetype": "text/x-python",
  "name": "python",
  "npconvert_exporter": "python",
  "pygments_lexer": "ipython3",
  "version": 3,
  "widgets": {
   "application/vnd.jupyter.widget-state+json": {
    "state": {
     "017e87eb993b4472b4fc85564dacca10": {
      "model_module": "@jupyter-widgets/base",
      "model_module_version": "1.2.0",
      "model_name": "LayoutModel",
      "state": {}
     },
     "1745bca1037448d0a20aedf2566e9d8f": {
      "model_module": "higlass-jupyter",
      "model_module_version": "0.4.0",
      "model_name": "HiGlassDisplayModel",
      "state": {
       "_dom_classes": [],
       "_model_data": [],
       "_view_count": null,
       "auth_token": "",
       "bounded": null,
       "cursor_location": [
        -1,
        -1
       ],
       "dark_mode": false,
       "default_track_options": {},
       "dom_element_id": "oudf06",
       "height": 0,
       "layout": "IPY_MODEL_b932f56193a04f7d88e75e077b3cb2f6",
       "location": [
        [
         2224407310,
         2229407310,
         2816021682.111111,
         2818924459.888889
        ],
        [
         2224407310,
         2229407310,
         2816091126.5555553,
         2818855015.444444
        ]
       ],
       "options": {},
       "renderer": "",
       "select_mode": false,
       "selection": [],
       "selection_on_alt": false,
       "viewconf": {
        "editable": true,
        "exportViewUrl": "http://higlass.io/api/v1/viewconfs",
        "locationLocks": {
         "locksByViewUid": {},
         "locksDict": {}
        },
        "trackSourceServers": [
         "http://higlass.io/api/v1"
        ],
        "valueScaleLocks": {
         "locksByViewUid": {},
         "locksDict": {}
        },
        "views": [
         {
          "initialXDomain": [
           2224407310,
           2229407310
          ],
          "initialYDomain": [
           2816021682.111111,
           2818924459.888889
          ],
          "layout": {
           "h": 20,
           "w": 12,
           "x": 0,
           "y": 0
          },
          "tracks": {
           "bottom": [
            {
             "height": 150,
             "options": {
              "backgroundColor": "#eeeeee",
              "colorRange": [
               "white",
               "rgba(245,166,35,1.0)",
               "rgba(208,2,27,1.0)",
               "black"
              ],
              "colorbarPosition": "topRight",
              "labelBottomMargin": 0,
              "labelColor": "black",
              "labelLeftMargin": 0,
              "labelPosition": "bottomRight",
              "labelRightMargin": 0,
              "labelShowAssembly": true,
              "labelShowResolution": true,
              "labelTopMargin": 0,
              "maxZoom": "15",
              "minHeight": 40,
              "minWidth": 100,
              "name": "PCa13848",
              "showMousePosition": true,
              "trackBorderColor": "black",
              "trackBorderWidth": 0
             },
             "resolutions": [
              1000,
              2000,
              3000,
              4000,
              5000,
              10000,
              20000,
              30000,
              40000,
              50000,
              100000,
              200000,
              300000,
              400000,
              500000,
              1000000,
              2000000,
              3000000,
              4000000,
              5000000
             ],
             "server": "http://localhost:34199/api/v1",
             "tilesetUid": "BbAPbcAST1q8oGL-L8pang",
             "transforms": [],
             "type": "horizontal-heatmap",
             "uid": "eGEWgCI_T76CYCZe11Px8Q"
            }
           ],
           "center": [
            {
             "height": 300,
             "options": {
              "backgroundColor": "#eeeeee",
              "colorRange": [
               "white",
               "rgba(245,166,35,1.0)",
               "rgba(208,2,27,1.0)",
               "black"
              ],
              "colorbarBackgroundColor": "#ffffff",
              "colorbarPosition": "topRight",
              "extent": "full",
              "heatmapValueScaling": "log",
              "labelBottomMargin": 0,
              "labelLeftMargin": 0,
              "labelPosition": "bottomRight",
              "labelRightMargin": 0,
              "labelShowAssembly": true,
              "labelShowResolution": true,
              "labelTopMargin": 0,
              "maxZoom": "15",
              "minHeight": 100,
              "minWidth": 100,
              "mousePositionColor": "#000000",
              "name": "PCa13848",
              "showMousePosition": true,
              "showTooltip": false,
              "trackBorderColor": "black",
              "trackBorderWidth": 0
             },
             "resolutions": [
              1000,
              2000,
              3000,
              4000,
              5000,
              10000,
              20000,
              30000,
              40000,
              50000,
              100000,
              200000,
              300000,
              400000,
              500000,
              1000000,
              2000000,
              3000000,
              4000000,
              5000000
             ],
             "server": "http://localhost:34199/api/v1",
             "tilesetUid": "BbAPbcAST1q8oGL-L8pang",
             "transforms": [],
             "type": "heatmap",
             "uid": "Gmv4my58QdW7ge_qdKHHCA"
            }
           ],
           "gallery": [],
           "left": [
            {
             "options": {
              "color": "#777777",
              "fontIsLeftAligned": false,
              "fontSize": 16,
              "minWidth": 35,
              "mousePositionColor": "#000000",
              "showMousePosition": true,
              "stroke": "#FFFFFF"
             },
             "server": "http://localhost:34199/api/v1",
             "tilesetUid": "CMsuiFUyR6yjaqRP3PPALg",
             "type": "vertical-chromosome-labels",
             "uid": "F83cD5fMR9SZl5QUecmlAg",
             "width": 30
            },
            {
             "options": {
              "fontSize": 16,
              "geneAnnoHeight": 12,
              "geneLabelPosition": "outside",
              "geneStrandSpacing": 4,
              "labelBottomMargin": 0,
              "labelColor": "black",
              "labelLeftMargin": 0,
              "labelPosition": "hidden",
              "labelRightMargin": 0,
              "labelTopMargin": 0,
              "minWidth": 24,
              "minusStrandColor": "red",
              "mousePositionColor": "#000000",
              "plusStrandColor": "blue",
              "showMousePosition": true,
              "trackBorderColor": "black",
              "trackBorderWidth": 0
             },
             "server": "http://localhost:34199/api/v1",
             "tilesetUid": "CVJU4sjYTEikHt_g6QxMrw",
             "type": "vertical-gene-annotations",
             "uid": "A8kVGdlAQrOi6-NMifnjew",
             "width": 55
            },
            {
             "options": {
              "colorRange": [
               "white",
               "rgba(245,166,35,1.0)",
               "rgba(208,2,27,1.0)",
               "black"
              ],
              "colorbarPosition": "topRight",
              "labelBottomMargin": 0,
              "labelColor": "black",
              "labelLeftMargin": 0,
              "labelPosition": "bottomRight",
              "labelRightMargin": 0,
              "labelShowAssembly": true,
              "labelShowResolution": true,
              "labelTopMargin": 0,
              "maxZoom": "15",
              "minHeight": 100,
              "minWidth": 50,
              "name": "PCa13848",
              "scaleEndPercent": "1.00000",
              "scaleStartPercent": "0.00000",
              "showMousePosition": true,
              "trackBorderColor": "black",
              "trackBorderWidth": 0
             },
             "resolutions": [
              1000,
              2000,
              3000,
              4000,
              5000,
              10000,
              20000,
              30000,
              40000,
              50000,
              100000,
              200000,
              300000,
              400000,
              500000,
              1000000,
              2000000,
              3000000,
              4000000,
              5000000
             ],
             "server": "http://localhost:34199/api/v1",
             "tilesetUid": "BbAPbcAST1q8oGL-L8pang",
             "transforms": [],
             "type": "vertical-heatmap",
             "uid": "HFS9SNq3Q32K1ObmHWuNGg",
             "width": 150
            }
           ],
           "right": [],
           "top": [
            {
             "height": 30,
             "options": {
              "color": "#808080",
              "fontIsLeftAligned": false,
              "fontSize": 16,
              "mousePositionColor": "#000000",
              "showMousePosition": true,
              "stroke": "#ffffff"
             },
             "server": "http://localhost:34199/api/v1",
             "tilesetUid": "CMsuiFUyR6yjaqRP3PPALg",
             "type": "horizontal-chromosome-labels",
             "uid": "S4Y2rxMgQ1255grICDU9cQ"
            },
            {
             "height": 150,
             "options": {
              "fontSize": 16,
              "geneAnnotationHeight": 12,
              "geneLabelPosition": "outside",
              "geneStrandSpacing": 4,
              "labelBackgroundColor": "#ffffff",
              "labelBottomMargin": 0,
              "labelColor": "black",
              "labelLeftMargin": 0,
              "labelPosition": "hidden",
              "labelRightMargin": 0,
              "labelTopMargin": 0,
              "minHeight": 24,
              "minusStrandColor": "red",
              "mousePositionColor": "#000000",
              "plusStrandColor": "blue",
              "showMousePosition": true,
              "trackBorderColor": "black",
              "trackBorderWidth": 0
             },
             "server": "http://localhost:34199/api/v1",
             "tilesetUid": "CVJU4sjYTEikHt_g6QxMrw",
             "type": "horizontal-gene-annotations",
             "uid": "XxxvIQOzRXqpuMLrEBkYBA"
            }
           ],
           "whole": []
          },
          "uid": "H4wruZMATc-2embtV1XIqg"
         },
         {
          "initialXDomain": [
           2224407310,
           2229407310
          ],
          "initialYDomain": [
           2816091126.5555553,
           2818855015.444444
          ],
          "layout": {
           "h": 15,
           "w": 12,
           "x": 0,
           "y": 20
          },
          "tracks": {
           "bottom": [],
           "center": [
            {
             "height": 300,
             "options": {
              "backgroundColor": "#eeeeee",
              "colorRange": [
               "white",
               "rgba(245,166,35,1.0)",
               "rgba(208,2,27,1.0)",
               "black"
              ],
              "colorbarBackgroundColor": "#ffffff",
              "colorbarPosition": "topRight",
              "extent": "full",
              "heatmapValueScaling": "log",
              "labelBottomMargin": 0,
              "labelLeftMargin": 0,
              "labelPosition": "bottomRight",
              "labelRightMargin": 0,
              "labelShowAssembly": true,
              "labelShowResolution": true,
              "labelTopMargin": 0,
              "maxZoom": "15",
              "minHeight": 100,
              "minWidth": 100,
              "mousePositionColor": "#000000",
              "name": "PCa3023",
              "showMousePosition": true,
              "showTooltip": false,
              "trackBorderColor": "black",
              "trackBorderWidth": 0
             },
             "resolutions": [
              1000,
              2000,
              3000,
              4000,
              5000,
              10000,
              20000,
              30000,
              40000,
              50000,
              100000,
              200000,
              300000,
              400000,
              500000,
              1000000,
              2000000,
              3000000,
              4000000,
              5000000
             ],
             "server": "http://localhost:34199/api/v1",
             "tilesetUid": "NqxpnLYDRuSZPxWAFsO66g",
             "transforms": [],
             "type": "heatmap",
             "uid": "DQV50Mz-TfuJaxNfU9GgsQ"
            }
           ],
           "gallery": [],
           "left": [
            {
             "options": {
              "color": "#777777",
              "fontIsLeftAligned": false,
              "fontSize": 16,
              "minWidth": 35,
              "mousePositionColor": "#000000",
              "showMousePosition": true,
              "stroke": "#FFFFFF"
             },
             "server": "http://localhost:34199/api/v1",
             "tilesetUid": "CMsuiFUyR6yjaqRP3PPALg",
             "type": "vertical-chromosome-labels",
             "uid": "F83cD5fMR9SZl5QUecmlAg",
             "width": 30
            },
            {
             "options": {
              "fontSize": 16,
              "geneAnnoHeight": 12,
              "geneLabelPosition": "outside",
              "geneStrandSpacing": 4,
              "labelBottomMargin": 0,
              "labelColor": "black",
              "labelLeftMargin": 0,
              "labelPosition": "hidden",
              "labelRightMargin": 0,
              "labelTopMargin": 0,
              "minWidth": 24,
              "minusStrandColor": "red",
              "mousePositionColor": "#000000",
              "plusStrandColor": "blue",
              "showMousePosition": true,
              "trackBorderColor": "black",
              "trackBorderWidth": 0
             },
             "server": "http://localhost:34199/api/v1",
             "tilesetUid": "CVJU4sjYTEikHt_g6QxMrw",
             "type": "vertical-gene-annotations",
             "uid": "A8kVGdlAQrOi6-NMifnjew",
             "width": 55
            },
            {
             "options": {
              "colorRange": [
               "white",
               "rgba(245,166,35,1.0)",
               "rgba(208,2,27,1.0)",
               "black"
              ],
              "colorbarPosition": "topRight",
              "labelBottomMargin": 0,
              "labelColor": "black",
              "labelLeftMargin": 0,
              "labelPosition": "bottomRight",
              "labelRightMargin": 0,
              "labelShowAssembly": true,
              "labelShowResolution": true,
              "labelTopMargin": 0,
              "maxZoom": "15",
              "minHeight": 100,
              "minWidth": 50,
              "name": "PCa3023",
              "showMousePosition": true,
              "trackBorderColor": "black",
              "trackBorderWidth": 0
             },
             "resolutions": [
              1000,
              2000,
              3000,
              4000,
              5000,
              10000,
              20000,
              30000,
              40000,
              50000,
              100000,
              200000,
              300000,
              400000,
              500000,
              1000000,
              2000000,
              3000000,
              4000000,
              5000000
             ],
             "server": "http://localhost:34199/api/v1",
             "tilesetUid": "NqxpnLYDRuSZPxWAFsO66g",
             "transforms": [],
             "type": "vertical-heatmap",
             "uid": "SsJ9k5zyQDKj8mmAi0Yb_Q",
             "width": 150
            }
           ],
           "right": [],
           "top": [
            {
             "height": 150,
             "options": {
              "backgroundColor": "#eeeeee",
              "colorRange": [
               "white",
               "rgba(245,166,35,1.0)",
               "rgba(208,2,27,1.0)",
               "black"
              ],
              "colorbarPosition": "topRight",
              "labelBottomMargin": 0,
              "labelColor": "black",
              "labelLeftMargin": 0,
              "labelPosition": "bottomRight",
              "labelRightMargin": 0,
              "labelShowAssembly": true,
              "labelShowResolution": true,
              "labelTopMargin": 0,
              "maxZoom": "15",
              "minHeight": 40,
              "minWidth": 100,
              "name": "PCa3023",
              "showMousePosition": true,
              "trackBorderColor": "black",
              "trackBorderWidth": 0
             },
             "resolutions": [
              1000,
              2000,
              3000,
              4000,
              5000,
              10000,
              20000,
              30000,
              40000,
              50000,
              100000,
              200000,
              300000,
              400000,
              500000,
              1000000,
              2000000,
              3000000,
              4000000,
              5000000
             ],
             "server": "http://localhost:34199/api/v1",
             "tilesetUid": "NqxpnLYDRuSZPxWAFsO66g",
             "transforms": [],
             "type": "horizontal-heatmap",
             "uid": "VJ7U4z5oQ2GU8ENcREqOGQ"
            }
           ],
           "whole": []
          },
          "uid": "COi40X3qTTC01qJvoFQEyA"
         }
        ],
        "zoomLocks": {
         "locksByViewUid": {},
         "locksDict": {}
        }
       }
      }
     },
     "18989014b5464ff2a7a28ecc537ac49a": {
      "model_module": "higlass-jupyter",
      "model_module_version": "0.4.0",
      "model_name": "HiGlassDisplayModel",
      "state": {
       "_dom_classes": [],
       "_model_data": [],
       "_view_count": null,
       "auth_token": "",
       "bounded": null,
       "cursor_location": [],
       "dark_mode": false,
       "default_track_options": {},
       "dom_element_id": "fn92j7",
       "height": 0,
       "layout": "IPY_MODEL_b2b6ca3efe6649f7ac0f17a6fbb70138",
       "location": [
        1517385878.094241,
        1521314673.9057593,
        1519350276,
        1519350276
       ],
       "options": {},
       "renderer": "",
       "select_mode": false,
       "selection": [],
       "selection_on_alt": false,
       "viewconf": {
        "editable": true,
        "exportViewUrl": "http://higlass.io/api/v1/viewconfs",
        "locationLocks": {
         "locksByViewUid": {},
         "locksDict": {}
        },
        "trackSourceServers": [
         "http://higlass.io/api/v1"
        ],
        "valueScaleLocks": {
         "locksByViewUid": {},
         "locksDict": {}
        },
        "views": [
         {
          "initialXDomain": [
           1517385878.094241,
           1521314673.9057593
          ],
          "initialYDomain": [
           1519350276,
           1519350276
          ],
          "layout": {
           "h": 73,
           "w": 12,
           "x": 0,
           "y": 0
          },
          "tracks": {
           "bottom": [],
           "center": [],
           "gallery": [],
           "left": [],
           "right": [],
           "top": [
            {
             "height": 30,
             "options": {
              "color": "#808080",
              "fontIsLeftAligned": false,
              "fontSize": 16,
              "mousePositionColor": "#000000",
              "showMousePosition": true,
              "stroke": "#ffffff"
             },
             "server": "http://localhost:57421/api/v1",
             "tilesetUid": "CMsuiFUyR6yjaqRP3PPALg",
             "type": "horizontal-chromosome-labels",
             "uid": "S4Y2rxMgQ1255grICDU9cQ"
            },
            {
             "height": 150,
             "options": {
              "fontSize": 16,
              "geneAnnotationHeight": 12,
              "geneLabelPosition": "outside",
              "geneStrandSpacing": 4,
              "labelBackgroundColor": "#ffffff",
              "labelBottomMargin": 0,
              "labelColor": "black",
              "labelLeftMargin": 0,
              "labelPosition": "hidden",
              "labelRightMargin": 0,
              "labelTopMargin": 0,
              "minHeight": 24,
              "minusStrandColor": "red",
              "mousePositionColor": "#000000",
              "plusStrandColor": "blue",
              "showMousePosition": true,
              "trackBorderColor": "black",
              "trackBorderWidth": 0
             },
             "server": "http://localhost:57421/api/v1",
             "tilesetUid": "CVJU4sjYTEikHt_g6QxMrw",
             "type": "horizontal-gene-annotations",
             "uid": "XxxvIQOzRXqpuMLrEBkYBA"
            },
            {
             "height": 150,
             "options": {
              "backgroundColor": "#eeeeee",
              "colorRange": [
               "white",
               "rgba(245,166,35,1.0)",
               "rgba(208,2,27,1.0)",
               "black"
              ],
              "colorbarPosition": "topRight",
              "labelBottomMargin": 0,
              "labelColor": "black",
              "labelLeftMargin": 0,
              "labelPosition": "bottomRight",
              "labelRightMargin": 0,
              "labelShowAssembly": true,
              "labelShowResolution": true,
              "labelTopMargin": 0,
              "maxZoom": "15",
              "minHeight": 40,
              "minWidth": 100,
              "name": "PCa13266",
              "showMousePosition": true,
              "trackBorderColor": "black",
              "trackBorderWidth": 0
             },
             "server": "http://localhost:57421/api/v1",
             "tilesetUid": "CQ4OqxHHRpWqW0bWnR_95g",
             "type": "horizontal-heatmap",
             "uid": "NjD8ljW2Tu62N89hp8NsyA"
            },
            {
             "height": 150,
             "options": {
              "backgroundColor": "#eeeeee",
              "colorRange": [
               "white",
               "rgba(245,166,35,1.0)",
               "rgba(208,2,27,1.0)",
               "black"
              ],
              "colorbarPosition": "topRight",
              "labelBottomMargin": 0,
              "labelColor": "black",
              "labelLeftMargin": 0,
              "labelPosition": "bottomRight",
              "labelRightMargin": 0,
              "labelShowAssembly": true,
              "labelShowResolution": true,
              "labelTopMargin": 0,
              "maxZoom": "15",
              "minHeight": 40,
              "minWidth": 100,
              "name": "PCa13848",
              "showMousePosition": true,
              "trackBorderColor": "black",
              "trackBorderWidth": 0
             },
             "server": "http://localhost:57421/api/v1",
             "tilesetUid": "BbAPbcAST1q8oGL-L8pang",
             "type": "horizontal-heatmap",
             "uid": "eY39cbJ3RUuxjdFvsx8jiA"
            },
            {
             "height": 150,
             "options": {
              "backgroundColor": "#eeeeee",
              "colorRange": [
               "white",
               "rgba(245,166,35,1.0)",
               "rgba(208,2,27,1.0)",
               "black"
              ],
              "colorbarPosition": "topRight",
              "labelBottomMargin": 0,
              "labelColor": "black",
              "labelLeftMargin": 0,
              "labelPosition": "bottomRight",
              "labelRightMargin": 0,
              "labelShowAssembly": true,
              "labelShowResolution": true,
              "labelTopMargin": 0,
              "maxZoom": "15",
              "minHeight": 40,
              "minWidth": 100,
              "name": "PCa14121",
              "showMousePosition": true,
              "trackBorderColor": "black",
              "trackBorderWidth": 0
             },
             "server": "http://localhost:57421/api/v1",
             "tilesetUid": "Wmj7v367QziMRlWFMWdzWw",
             "type": "horizontal-heatmap",
             "uid": "EK11NdFCT8imcFVleqsJSA"
            },
            {
             "height": 150,
             "options": {
              "backgroundColor": "#eeeeee",
              "colorRange": [
               "white",
               "rgba(245,166,35,1.0)",
               "rgba(208,2,27,1.0)",
               "black"
              ],
              "colorbarPosition": "topRight",
              "labelBottomMargin": 0,
              "labelColor": "black",
              "labelLeftMargin": 0,
              "labelPosition": "bottomRight",
              "labelRightMargin": 0,
              "labelShowAssembly": true,
              "labelShowResolution": true,
              "labelTopMargin": 0,
              "maxZoom": "15",
              "minHeight": 40,
              "minWidth": 100,
              "name": "PCa19121",
              "showMousePosition": true,
              "trackBorderColor": "black",
              "trackBorderWidth": 0
             },
             "server": "http://localhost:57421/api/v1",
             "tilesetUid": "R035sMOYSceQf26wr5lm7w",
             "type": "horizontal-heatmap",
             "uid": "Hi_qdQtqS1quPknrA8NNlw"
            },
            {
             "height": 150,
             "options": {
              "backgroundColor": "#eeeeee",
              "colorRange": [
               "white",
               "rgba(245,166,35,1.0)",
               "rgba(208,2,27,1.0)",
               "black"
              ],
              "colorbarPosition": "topRight",
              "labelBottomMargin": 0,
              "labelColor": "black",
              "labelLeftMargin": 0,
              "labelPosition": "bottomRight",
              "labelRightMargin": 0,
              "labelShowAssembly": true,
              "labelShowResolution": true,
              "labelTopMargin": 0,
              "maxZoom": "15",
              "minHeight": 40,
              "minWidth": 100,
              "name": "PCa3023",
              "showMousePosition": true,
              "trackBorderColor": "black",
              "trackBorderWidth": 0
             },
             "server": "http://localhost:57421/api/v1",
             "tilesetUid": "NqxpnLYDRuSZPxWAFsO66g",
             "type": "horizontal-heatmap",
             "uid": "VJ7U4z5oQ2GU8ENcREqOGQ"
            },
            {
             "height": 150,
             "options": {
              "backgroundColor": "#eeeeee",
              "colorRange": [
               "white",
               "rgba(245,166,35,1.0)",
               "rgba(208,2,27,1.0)",
               "black"
              ],
              "colorbarPosition": "topRight",
              "labelBottomMargin": 0,
              "labelColor": "black",
              "labelLeftMargin": 0,
              "labelPosition": "bottomRight",
              "labelRightMargin": 0,
              "labelShowAssembly": true,
              "labelShowResolution": true,
              "labelTopMargin": 0,
              "maxZoom": "15",
              "minHeight": 40,
              "minWidth": 100,
              "name": "PCa33173",
              "showMousePosition": true,
              "trackBorderColor": "black",
              "trackBorderWidth": 0
             },
             "server": "http://localhost:57421/api/v1",
             "tilesetUid": "R_2HBkduTYCenDUWv5LMQA",
             "type": "horizontal-heatmap",
             "uid": "QyZj1DtjRkmWvBx93hIz5w"
            },
            {
             "height": 150,
             "options": {
              "backgroundColor": "#eeeeee",
              "colorRange": [
               "white",
               "rgba(245,166,35,1.0)",
               "rgba(208,2,27,1.0)",
               "black"
              ],
              "colorbarPosition": "topRight",
              "labelBottomMargin": 0,
              "labelColor": "black",
              "labelLeftMargin": 0,
              "labelPosition": "bottomRight",
              "labelRightMargin": 0,
              "labelShowAssembly": true,
              "labelShowResolution": true,
              "labelTopMargin": 0,
              "maxZoom": "15",
              "minHeight": 40,
              "minWidth": 100,
              "name": "PCa40507",
              "showMousePosition": true,
              "trackBorderColor": "black",
              "trackBorderWidth": 0
             },
             "server": "http://localhost:57421/api/v1",
             "tilesetUid": "DYAWQOsYSg-OQjXnT5UEMQ",
             "type": "horizontal-heatmap",
             "uid": "UHlJqaIQT5qFNq1nH9EH9Q"
            },
            {
             "height": 150,
             "options": {
              "backgroundColor": "#eeeeee",
              "colorRange": [
               "white",
               "rgba(245,166,35,1.0)",
               "rgba(208,2,27,1.0)",
               "black"
              ],
              "colorbarPosition": "topRight",
              "labelBottomMargin": 0,
              "labelColor": "black",
              "labelLeftMargin": 0,
              "labelPosition": "bottomRight",
              "labelRightMargin": 0,
              "labelShowAssembly": true,
              "labelShowResolution": true,
              "labelTopMargin": 0,
              "maxZoom": "15",
              "minHeight": 40,
              "minWidth": 100,
              "name": "PCa51852",
              "showMousePosition": true,
              "trackBorderColor": "black",
              "trackBorderWidth": 0
             },
             "server": "http://localhost:57421/api/v1",
             "tilesetUid": "U9Ex8WMEQWaEs2dQVec0yg",
             "type": "horizontal-heatmap",
             "uid": "TEtkw3dxThq_049qEqYZ7Q"
            },
            {
             "height": 150,
             "options": {
              "backgroundColor": "#eeeeee",
              "colorRange": [
               "white",
               "rgba(245,166,35,1.0)",
               "rgba(208,2,27,1.0)",
               "black"
              ],
              "colorbarPosition": "topRight",
              "labelBottomMargin": 0,
              "labelColor": "black",
              "labelLeftMargin": 0,
              "labelPosition": "bottomRight",
              "labelRightMargin": 0,
              "labelShowAssembly": true,
              "labelShowResolution": true,
              "labelTopMargin": 0,
              "maxZoom": "15",
              "minHeight": 40,
              "minWidth": 100,
              "name": "PCa53687",
              "showMousePosition": true,
              "trackBorderColor": "black",
              "trackBorderWidth": 0
             },
             "server": "http://localhost:57421/api/v1",
             "tilesetUid": "OCA9e7vPQ4ymmJeXUBRdhA",
             "type": "horizontal-heatmap",
             "uid": "cQvjLIgnTr-eGwCa9F3ZNg"
            },
            {
             "height": 150,
             "options": {
              "backgroundColor": "#eeeeee",
              "colorRange": [
               "white",
               "rgba(245,166,35,1.0)",
               "rgba(208,2,27,1.0)",
               "black"
              ],
              "colorbarPosition": "topRight",
              "labelBottomMargin": 0,
              "labelColor": "black",
              "labelLeftMargin": 0,
              "labelPosition": "bottomRight",
              "labelRightMargin": 0,
              "labelShowAssembly": true,
              "labelShowResolution": true,
              "labelTopMargin": 0,
              "maxZoom": "15",
              "minHeight": 40,
              "minWidth": 100,
              "name": "PCa56413",
              "showMousePosition": true,
              "trackBorderColor": "black",
              "trackBorderWidth": 0
             },
             "server": "http://localhost:57421/api/v1",
             "tilesetUid": "Ki4mnmMoSKy5gyB_Wkyh3w",
             "type": "horizontal-heatmap",
             "uid": "bLyjunCLTOyyTxIoDMcsJQ"
            },
            {
             "height": 150,
             "options": {
              "backgroundColor": "#eeeeee",
              "colorRange": [
               "white",
               "rgba(245,166,35,1.0)",
               "rgba(208,2,27,1.0)",
               "black"
              ],
              "colorbarPosition": "topRight",
              "labelBottomMargin": 0,
              "labelColor": "black",
              "labelLeftMargin": 0,
              "labelPosition": "bottomRight",
              "labelRightMargin": 0,
              "labelShowAssembly": true,
              "labelShowResolution": true,
              "labelTopMargin": 0,
              "maxZoom": "15",
              "minHeight": 40,
              "minWidth": 100,
              "name": "PCa57054",
              "showMousePosition": true,
              "trackBorderColor": "black",
              "trackBorderWidth": 0
             },
             "server": "http://localhost:57421/api/v1",
             "tilesetUid": "JJvSTGq1TsqR6Mu-yB3yww",
             "type": "horizontal-heatmap",
             "uid": "UB_h-SArQ_W9Ch_CE6MsmQ"
            },
            {
             "height": 150,
             "options": {
              "backgroundColor": "#eeeeee",
              "colorRange": [
               "white",
               "rgba(245,166,35,1.0)",
               "rgba(208,2,27,1.0)",
               "black"
              ],
              "colorbarPosition": "topRight",
              "labelBottomMargin": 0,
              "labelColor": "black",
              "labelLeftMargin": 0,
              "labelPosition": "bottomRight",
              "labelRightMargin": 0,
              "labelShowAssembly": true,
              "labelShowResolution": true,
              "labelTopMargin": 0,
              "maxZoom": "15",
              "minHeight": 40,
              "minWidth": 100,
              "name": "PCa57294",
              "showMousePosition": true,
              "trackBorderColor": "black",
              "trackBorderWidth": 0
             },
             "server": "http://localhost:57421/api/v1",
             "tilesetUid": "V4H5L6FvSGmQrHyurUus6w",
             "type": "horizontal-heatmap",
             "uid": "bGDxm87sSP2k-M4oWr0anA"
            },
            {
             "height": 150,
             "options": {
              "backgroundColor": "#eeeeee",
              "colorRange": [
               "white",
               "rgba(245,166,35,1.0)",
               "rgba(208,2,27,1.0)",
               "black"
              ],
              "colorbarPosition": "topRight",
              "labelBottomMargin": 0,
              "labelColor": "black",
              "labelLeftMargin": 0,
              "labelPosition": "bottomRight",
              "labelRightMargin": 0,
              "labelShowAssembly": true,
              "labelShowResolution": true,
              "labelTopMargin": 0,
              "maxZoom": "15",
              "minHeight": 40,
              "minWidth": 100,
              "name": "PCa58215",
              "showMousePosition": true,
              "trackBorderColor": "black",
              "trackBorderWidth": 0
             },
             "server": "http://localhost:57421/api/v1",
             "tilesetUid": "LSYUjN0DR_um2PfQ4RYeEA",
             "type": "horizontal-heatmap",
             "uid": "LacJLpf0QqyYuln92tEnJg"
            },
            {
             "height": 150,
             "options": {
              "backgroundColor": "#eeeeee",
              "colorRange": [
               "white",
               "rgba(245,166,35,1.0)",
               "rgba(208,2,27,1.0)",
               "black"
              ],
              "colorbarPosition": "topRight",
              "labelBottomMargin": 0,
              "labelColor": "black",
              "labelLeftMargin": 0,
              "labelPosition": "bottomRight",
              "labelRightMargin": 0,
              "labelShowAssembly": true,
              "labelShowResolution": true,
              "labelTopMargin": 0,
              "maxZoom": "15",
              "minHeight": 40,
              "minWidth": 100,
              "name": "Benign-Prostate-1648133",
              "showMousePosition": true,
              "trackBorderColor": "black",
              "trackBorderWidth": 0
             },
             "server": "http://localhost:57421/api/v1",
             "tilesetUid": "bp7qe5hlTuWnWUXfC3eABQ",
             "type": "horizontal-heatmap",
             "uid": "fF8klEb-Squ5DdqdiKj6AQ"
            },
            {
             "height": 150,
             "options": {
              "backgroundColor": "#eeeeee",
              "colorRange": [
               "white",
               "rgba(245,166,35,1.0)",
               "rgba(208,2,27,1.0)",
               "black"
              ],
              "colorbarPosition": "topRight",
              "labelBottomMargin": 0,
              "labelColor": "black",
              "labelLeftMargin": 0,
              "labelPosition": "bottomRight",
              "labelRightMargin": 0,
              "labelShowAssembly": true,
              "labelShowResolution": true,
              "labelTopMargin": 0,
              "maxZoom": "15",
              "minHeight": 40,
              "minWidth": 100,
              "name": "Benign-Prostate-1595983",
              "showMousePosition": true,
              "trackBorderColor": "black",
              "trackBorderWidth": 0
             },
             "server": "http://localhost:57421/api/v1",
             "tilesetUid": "FivjvBeoRAmI3tggwMLWDw",
             "type": "horizontal-heatmap",
             "uid": "fjp9rrMVSfyr8DhPs2ZaVg"
            },
            {
             "height": 150,
             "options": {
              "backgroundColor": "#eeeeee",
              "colorRange": [
               "white",
               "rgba(245,166,35,1.0)",
               "rgba(208,2,27,1.0)",
               "black"
              ],
              "colorbarPosition": "topRight",
              "labelBottomMargin": 0,
              "labelColor": "black",
              "labelLeftMargin": 0,
              "labelPosition": "bottomRight",
              "labelRightMargin": 0,
              "labelShowAssembly": true,
              "labelShowResolution": true,
              "labelTopMargin": 0,
              "maxZoom": "15",
              "minHeight": 40,
              "minWidth": 100,
              "name": "Benign-Prostate-3330581",
              "showMousePosition": true,
              "trackBorderColor": "black",
              "trackBorderWidth": 0
             },
             "server": "http://localhost:57421/api/v1",
             "tilesetUid": "JaVFVbK0SNmMG_PFeSik9A",
             "type": "horizontal-heatmap",
             "uid": "fKv3QoiQSE2Us6mLVJo5ZA"
            },
            {
             "height": 150,
             "options": {
              "backgroundColor": "#eeeeee",
              "colorRange": [
               "white",
               "rgba(245,166,35,1.0)",
               "rgba(208,2,27,1.0)",
               "black"
              ],
              "colorbarPosition": "topRight",
              "labelBottomMargin": 0,
              "labelColor": "black",
              "labelLeftMargin": 0,
              "labelPosition": "bottomRight",
              "labelRightMargin": 0,
              "labelShowAssembly": true,
              "labelShowResolution": true,
              "labelTopMargin": 0,
              "maxZoom": "15",
              "minHeight": 40,
              "minWidth": 100,
              "name": "Benign-Prostate-1664855",
              "showMousePosition": true,
              "trackBorderColor": "black",
              "trackBorderWidth": 0
             },
             "server": "http://localhost:57421/api/v1",
             "tilesetUid": "XsWytOnMRCuKsWeUoKFDlg",
             "type": "horizontal-heatmap",
             "uid": "YleGk1a2S7WNFFq9MI5KHg"
            },
            {
             "height": 150,
             "options": {
              "backgroundColor": "#eeeeee",
              "colorRange": [
               "white",
               "rgba(245,166,35,1.0)",
               "rgba(208,2,27,1.0)",
               "black"
              ],
              "colorbarPosition": "topRight",
              "labelBottomMargin": 0,
              "labelColor": "black",
              "labelLeftMargin": 0,
              "labelPosition": "bottomRight",
              "labelRightMargin": 0,
              "labelShowAssembly": true,
              "labelShowResolution": true,
              "labelTopMargin": 0,
              "maxZoom": "15",
              "minHeight": 40,
              "minWidth": 100,
              "name": "Benign-Prostate-3320942",
              "showMousePosition": true,
              "trackBorderColor": "black",
              "trackBorderWidth": 0
             },
             "server": "http://localhost:57421/api/v1",
             "tilesetUid": "fCv_-cLUR7q9w16JwEdX9g",
             "type": "horizontal-heatmap",
             "uid": "KhLNQ75kTDOrTewU8Yv4yA"
            }
           ],
           "whole": []
          },
          "uid": "G7cYX6t0TSSkImMeIPftJA"
         }
        ],
        "zoomLocks": {
         "locksByViewUid": {},
         "locksDict": {}
        }
       }
      }
     },
     "2fb7bcf94aa64d01a6fe32dd3809902e": {
      "model_module": "@jupyter-widgets/base",
      "model_module_version": "1.2.0",
      "model_name": "LayoutModel",
      "state": {}
     },
     "3591ffef5dd14fd39ff93421f9b53e59": {
      "model_module": "@jupyter-widgets/base",
      "model_module_version": "1.2.0",
      "model_name": "LayoutModel",
      "state": {}
     },
     "3a98ccb10ec744f796c9deec4f98456c": {
      "model_module": "@jupyter-widgets/base",
      "model_module_version": "1.2.0",
      "model_name": "LayoutModel",
      "state": {}
     },
     "5119af840b2242b7a2bcb5b81d47fd13": {
      "model_module": "higlass-jupyter",
      "model_module_version": "0.4.0",
      "model_name": "HiGlassDisplayModel",
      "state": {
       "_dom_classes": [],
       "_model_data": [],
       "_view_count": null,
       "auth_token": "",
       "bounded": null,
       "cursor_location": [
        -1,
        -1
       ],
       "dark_mode": false,
       "default_track_options": {},
       "dom_element_id": "a0wr5r",
       "height": 0,
       "layout": "IPY_MODEL_576f065698dd458d858ff434956feb48",
       "location": [
        757124691.0618923,
        759698028.2811472,
        1633923213.4552693,
        1635555466.805267
       ],
       "options": {},
       "renderer": "",
       "select_mode": false,
       "selection": [],
       "selection_on_alt": false,
       "viewconf": {
        "editable": true,
        "exportViewUrl": "http://higlass.io/api/v1/viewconfs",
        "locationLocks": {
         "locksByViewUid": {},
         "locksDict": {}
        },
        "trackSourceServers": [
         "http://higlass.io/api/v1"
        ],
        "valueScaleLocks": {
         "locksByViewUid": {},
         "locksDict": {}
        },
        "views": [
         {
          "initialXDomain": [
           757124691.0618923,
           759698028.2811472
          ],
          "initialYDomain": [
           1633923213.4552693,
           1635555466.805267
          ],
          "layout": {
           "h": 21,
           "w": 12,
           "x": 0,
           "y": 0
          },
          "tracks": {
           "bottom": [],
           "center": [
            {
             "contents": [
              {
               "height": 300,
               "options": {
                "backgroundColor": "#eeeeee",
                "colorRange": [
                 "white",
                 "rgba(245,166,35,1.0)",
                 "rgba(208,2,27,1.0)",
                 "black"
                ],
                "colorbarBackgroundColor": "#ffffff",
                "colorbarPosition": "topRight",
                "extent": "full",
                "heatmapValueScaling": "log",
                "labelBottomMargin": 0,
                "labelLeftMargin": 0,
                "labelPosition": "bottomRight",
                "labelRightMargin": 0,
                "labelShowAssembly": true,
                "labelShowResolution": true,
                "labelTopMargin": 0,
                "maxZoom": "15",
                "minHeight": 100,
                "minWidth": 100,
                "mousePositionColor": "#000000",
                "name": "PCa13848",
                "scaleEndPercent": "1.00000",
                "scaleStartPercent": "0.00000",
                "showMousePosition": true,
                "showTooltip": false,
                "trackBorderColor": "black",
                "trackBorderWidth": 0
               },
               "resolutions": [
                1000,
                2000,
                3000,
                4000,
                5000,
                10000,
                20000,
                30000,
                40000,
                50000,
                100000,
                200000,
                300000,
                400000,
                500000,
                1000000,
                2000000,
                3000000,
                4000000,
                5000000
               ],
               "server": "http://localhost:42311/api/v1",
               "tilesetUid": "NRiqZ9S9RSGVzDOtNC2z8A",
               "transforms": [],
               "type": "heatmap",
               "uid": "B-H2f2bfQ1qj4EcBXTAJXw"
              },
              {
               "options": {
                "flipDiagonal": "none",
                "labelBottomMargin": 0,
                "labelColor": "black",
                "labelLeftMargin": 0,
                "labelPosition": "hidden",
                "labelRightMargin": 0,
                "labelTopMargin": 0,
                "minSquareSize": "none",
                "name": "PCa13848",
                "rectangleDomainFillColor": "grey",
                "rectangleDomainOpacity": 0.6,
                "rectangleDomainStrokeColor": "black",
                "showMousePosition": true,
                "trackBorderColor": "black",
                "trackBorderWidth": 0
               },
               "server": "http://localhost:42311/api/v1",
               "tilesetUid": "L6XlAH6VRLenBNgL-aH19g",
               "type": "2d-rectangle-domains",
               "uid": "eYhYk-t_SmO4SBhctPAykQ"
              }
             ],
             "height": 300,
             "options": {},
             "type": "combined",
             "uid": "O2v_SYKJRqa5nIeGyzwonw"
            }
           ],
           "gallery": [],
           "left": [
            {
             "options": {
              "color": "#777777",
              "fontIsLeftAligned": false,
              "fontSize": 16,
              "minWidth": 35,
              "mousePositionColor": "#000000",
              "showMousePosition": true,
              "stroke": "#FFFFFF"
             },
             "server": "http://localhost:42311/api/v1",
             "tilesetUid": "CMsuiFUyR6yjaqRP3PPALg",
             "type": "vertical-chromosome-labels",
             "uid": "F83cD5fMR9SZl5QUecmlAg",
             "width": 30
            },
            {
             "height": 418,
             "options": {
              "fontSize": 16,
              "geneAnnoHeight": 12,
              "geneLabelPosition": "outside",
              "geneStrandSpacing": 4,
              "labelBottomMargin": 0,
              "labelColor": "black",
              "labelLeftMargin": 0,
              "labelPosition": "hidden",
              "labelRightMargin": 0,
              "labelTopMargin": 0,
              "minWidth": 24,
              "minusStrandColor": "red",
              "mousePositionColor": "#000000",
              "plusStrandColor": "blue",
              "showMousePosition": true,
              "trackBorderColor": "black",
              "trackBorderWidth": 0
             },
             "server": "http://localhost:42311/api/v1",
             "tilesetUid": "CVJU4sjYTEikHt_g6QxMrw",
             "type": "vertical-gene-annotations",
             "uid": "A8kVGdlAQrOi6-NMifnjew",
             "width": 76
            },
            {
             "options": {
              "colorRange": [
               "white",
               "rgba(245,166,35,1.0)",
               "rgba(208,2,27,1.0)",
               "black"
              ],
              "colorbarPosition": "topRight",
              "labelBottomMargin": 0,
              "labelColor": "black",
              "labelLeftMargin": 0,
              "labelPosition": "bottomRight",
              "labelRightMargin": 0,
              "labelShowAssembly": true,
              "labelShowResolution": true,
              "labelTopMargin": 0,
              "maxZoom": "15",
              "minHeight": 100,
              "minWidth": 50,
              "name": "PCa13848",
              "scaleEndPercent": "1.00000",
              "scaleStartPercent": "0.00000",
              "showMousePosition": true,
              "trackBorderColor": "black",
              "trackBorderWidth": 0
             },
             "resolutions": [
              1000,
              2000,
              3000,
              4000,
              5000,
              10000,
              20000,
              30000,
              40000,
              50000,
              100000,
              200000,
              300000,
              400000,
              500000,
              1000000,
              2000000,
              3000000,
              4000000,
              5000000
             ],
             "server": "http://localhost:42311/api/v1",
             "tilesetUid": "NRiqZ9S9RSGVzDOtNC2z8A",
             "transforms": [],
             "type": "vertical-heatmap",
             "uid": "RNwUjmEbRo-syt1DSpI7Hw",
             "width": 150
            },
            {
             "aggregationModes": {
              "max": {
               "name": "Max",
               "value": "max"
              },
              "mean": {
               "name": "Mean",
               "value": "mean"
              },
              "min": {
               "name": "Min",
               "value": "min"
              },
              "std": {
               "name": "Standard Deviation",
               "value": "std"
              }
             },
             "options": {
              "axisLabelFormatting": "scientific",
              "axisPositionVertical": "top",
              "labelBottomMargin": 0,
              "labelColor": "black",
              "labelLeftMargin": 0,
              "labelPosition": "bottomLeft",
              "labelRightMargin": 0,
              "labelShowAssembly": true,
              "labelShowResolution": false,
              "labelTextOpacity": 0.4,
              "labelTopMargin": 0,
              "lineStrokeColor": "blue",
              "lineStrokeWidth": 1,
              "mousePositionColor": "#000000",
              "name": "PCa13848",
              "showMousePosition": true,
              "showTooltip": false,
              "trackBorderColor": "black",
              "trackBorderWidth": 0,
              "valueScaling": "linear"
             },
             "server": "http://localhost:42311/api/v1",
             "tilesetUid": "dQm0dS5DTrueuf3nMKw8xA",
             "type": "vertical-line",
             "uid": "Rbtbv8OdQH6BWJPAZrhR8g",
             "width": 20
            },
            {
             "options": {
              "alternating": false,
              "annotationHeight": 16,
              "annotationStyle": "box",
              "axisPositionHorizontal": "right",
              "colorEncoding": false,
              "colorEncodingRange": false,
              "colorRange": [
               "#000000",
               "#652537",
               "#bf5458",
               "#fba273",
               "#ffffe0"
              ],
              "fillColor": "blue",
              "labelBottomMargin": 0,
              "labelColor": "black",
              "labelLeftMargin": 0,
              "labelPosition": "hidden",
              "labelRightMargin": 0,
              "labelTopMargin": 0,
              "minHeight": 20,
              "name": "PCa13848",
              "showMousePosition": true,
              "showTexts": false,
              "trackBorderColor": "black",
              "trackBorderWidth": 0,
              "valueColumn": null
             },
             "server": "http://localhost:42311/api/v1",
             "tilesetUid": "He6AqME3T2aIHHyNSdokoQ",
             "type": "bedlike",
             "uid": "AwaUpzleTW2SwGevGnketw",
             "width": 20
            }
           ],
           "right": [],
           "top": [
            {
             "height": 30,
             "options": {
              "color": "#808080",
              "fontIsLeftAligned": false,
              "fontSize": 16,
              "mousePositionColor": "#000000",
              "showMousePosition": true,
              "stroke": "#ffffff"
             },
             "server": "http://localhost:42311/api/v1",
             "tilesetUid": "CMsuiFUyR6yjaqRP3PPALg",
             "type": "horizontal-chromosome-labels",
             "uid": "S4Y2rxMgQ1255grICDU9cQ"
            },
            {
             "height": 150,
             "options": {
              "fontSize": 16,
              "geneAnnotationHeight": 12,
              "geneLabelPosition": "outside",
              "geneStrandSpacing": 4,
              "labelBackgroundColor": "#ffffff",
              "labelBottomMargin": 0,
              "labelColor": "black",
              "labelLeftMargin": 0,
              "labelPosition": "hidden",
              "labelRightMargin": 0,
              "labelTopMargin": 0,
              "minHeight": 24,
              "minusStrandColor": "red",
              "mousePositionColor": "#000000",
              "plusStrandColor": "blue",
              "showMousePosition": true,
              "trackBorderColor": "black",
              "trackBorderWidth": 0
             },
             "server": "http://localhost:42311/api/v1",
             "tilesetUid": "CVJU4sjYTEikHt_g6QxMrw",
             "type": "horizontal-gene-annotations",
             "uid": "XxxvIQOzRXqpuMLrEBkYBA"
            },
            {
             "height": 150,
             "options": {
              "backgroundColor": "#eeeeee",
              "colorRange": [
               "white",
               "rgba(245,166,35,1.0)",
               "rgba(208,2,27,1.0)",
               "black"
              ],
              "colorbarPosition": "topRight",
              "labelBottomMargin": 0,
              "labelColor": "black",
              "labelLeftMargin": 0,
              "labelPosition": "bottomRight",
              "labelRightMargin": 0,
              "labelShowAssembly": true,
              "labelShowResolution": true,
              "labelTopMargin": 0,
              "maxZoom": "15",
              "minHeight": 40,
              "minWidth": 100,
              "name": "PCa13848",
              "scaleEndPercent": "1.00000",
              "scaleStartPercent": "0.00000",
              "showMousePosition": true,
              "trackBorderColor": "black",
              "trackBorderWidth": 0
             },
             "resolutions": [
              1000,
              2000,
              3000,
              4000,
              5000,
              10000,
              20000,
              30000,
              40000,
              50000,
              100000,
              200000,
              300000,
              400000,
              500000,
              1000000,
              2000000,
              3000000,
              4000000,
              5000000
             ],
             "server": "http://localhost:42311/api/v1",
             "tilesetUid": "NRiqZ9S9RSGVzDOtNC2z8A",
             "transforms": [],
             "type": "horizontal-heatmap",
             "uid": "cSZunRpmQ0i1IxdyKZjSPw"
            },
            {
             "aggregationModes": {
              "max": {
               "name": "Max",
               "value": "max"
              },
              "mean": {
               "name": "Mean",
               "value": "mean"
              },
              "min": {
               "name": "Min",
               "value": "min"
              },
              "std": {
               "name": "Standard Deviation",
               "value": "std"
              }
             },
             "height": 20,
             "options": {
              "axisLabelFormatting": "scientific",
              "axisPositionHorizontal": "right",
              "labelBackgroundColor": "white",
              "labelBottomMargin": 0,
              "labelColor": "black",
              "labelLeftMargin": 0,
              "labelPosition": "topLeft",
              "labelRightMargin": 0,
              "labelShowAssembly": true,
              "labelShowResolution": false,
              "labelTextOpacity": 0.4,
              "labelTopMargin": 0,
              "lineStrokeColor": "blue",
              "lineStrokeWidth": 1,
              "minHeight": 20,
              "mousePositionColor": "#000000",
              "name": "PCa13848",
              "showMousePosition": true,
              "showTooltip": false,
              "trackBorderColor": "black",
              "trackBorderWidth": 0,
              "valueScaling": "linear"
             },
             "server": "http://localhost:42311/api/v1",
             "tilesetUid": "dQm0dS5DTrueuf3nMKw8xA",
             "type": "horizontal-line",
             "uid": "OSITdIWZTgWufHxijJuBoA"
            },
            {
             "height": 20,
             "options": {
              "alternating": false,
              "annotationHeight": 16,
              "annotationStyle": "box",
              "axisPositionHorizontal": "right",
              "colorEncoding": false,
              "colorEncodingRange": false,
              "colorRange": [
               "#000000",
               "#652537",
               "#bf5458",
               "#fba273",
               "#ffffe0"
              ],
              "fillColor": "blue",
              "labelBottomMargin": 0,
              "labelColor": "black",
              "labelLeftMargin": 0,
              "labelPosition": "hidden",
              "labelRightMargin": 0,
              "labelTopMargin": 0,
              "minHeight": 20,
              "name": "PCa13848",
              "showMousePosition": true,
              "showTexts": false,
              "trackBorderColor": "black",
              "trackBorderWidth": 0,
              "valueColumn": null
             },
             "server": "http://localhost:42311/api/v1",
             "tilesetUid": "He6AqME3T2aIHHyNSdokoQ",
             "type": "bedlike",
             "uid": "TaG0HAhyT2uTe6f3vntaEA"
            }
           ],
           "whole": []
          },
          "uid": "VnRj1SXQTHOD8j2crqz3JA"
         }
        ],
        "zoomLocks": {
         "locksByViewUid": {},
         "locksDict": {}
        }
       }
      }
     },
     "576f065698dd458d858ff434956feb48": {
      "model_module": "@jupyter-widgets/base",
      "model_module_version": "1.2.0",
      "model_name": "LayoutModel",
      "state": {}
     },
     "5c414cb023c4442e88441411951da2b9": {
      "model_module": "@jupyter-widgets/base",
      "model_module_version": "1.2.0",
      "model_name": "LayoutModel",
      "state": {}
     },
     "5e14913e3cdf46448ebc68814cfd9e77": {
      "model_module": "higlass-jupyter",
      "model_module_version": "0.4.0",
      "model_name": "HiGlassDisplayModel",
      "state": {
       "_dom_classes": [],
       "_model_data": [],
       "_view_count": null,
       "auth_token": "",
       "bounded": null,
       "cursor_location": [
        2227600974.9022927,
        2227600974.9022927
       ],
       "dark_mode": false,
       "default_track_options": {},
       "dom_element_id": "39co6c",
       "height": 0,
       "layout": "IPY_MODEL_d2596b8abbd349f7a2b6200f79bd2741",
       "location": [
        2227407310,
        2230407310,
        2228907310,
        2228907310
       ],
       "options": {},
       "renderer": "",
       "select_mode": false,
       "selection": [],
       "selection_on_alt": false,
       "viewconf": {
        "editable": true,
        "exportViewUrl": "http://higlass.io/api/v1/viewconfs",
        "locationLocks": {
         "locksByViewUid": {},
         "locksDict": {}
        },
        "trackSourceServers": [
         "http://higlass.io/api/v1"
        ],
        "valueScaleLocks": {
         "locksByViewUid": {},
         "locksDict": {}
        },
        "views": [
         {
          "initialXDomain": [
           2227407310,
           2230407310
          ],
          "initialYDomain": [
           2228907310,
           2228907310
          ],
          "layout": {
           "h": 11,
           "w": 12,
           "x": 0,
           "y": 0
          },
          "tracks": {
           "bottom": [],
           "center": [],
           "gallery": [],
           "left": [],
           "right": [],
           "top": [
            {
             "height": 150,
             "options": {
              "backgroundColor": "#eeeeee",
              "colorRange": [
               "white",
               "rgba(245,166,35,1.0)",
               "rgba(208,2,27,1.0)",
               "black"
              ],
              "colorbarPosition": "topRight",
              "labelBottomMargin": 0,
              "labelColor": "black",
              "labelLeftMargin": 0,
              "labelPosition": "bottomRight",
              "labelRightMargin": 0,
              "labelShowAssembly": true,
              "labelShowResolution": true,
              "labelTopMargin": 0,
              "maxZoom": "15",
              "minHeight": 40,
              "minWidth": 100,
              "name": "PCa13848",
              "scaleEndPercent": "1.00000",
              "scaleStartPercent": "0.00000",
              "showMousePosition": true,
              "trackBorderColor": "black",
              "trackBorderWidth": 0
             },
             "resolutions": [
              1000,
              2000,
              3000,
              4000,
              5000,
              10000,
              20000,
              30000,
              40000,
              50000,
              100000,
              200000,
              300000,
              400000,
              500000,
              1000000,
              2000000,
              3000000,
              4000000,
              5000000
             ],
             "server": "http://localhost:42773/api/v1",
             "tilesetUid": "BbAPbcAST1q8oGL-L8pang",
             "transforms": [],
             "type": "horizontal-heatmap",
             "uid": "eY39cbJ3RUuxjdFvsx8jiA"
            },
            {
             "height": 30,
             "options": {
              "color": "#808080",
              "fontIsLeftAligned": false,
              "fontSize": 16,
              "mousePositionColor": "#000000",
              "showMousePosition": true,
              "stroke": "#ffffff"
             },
             "server": "http://localhost:42773/api/v1",
             "tilesetUid": "CMsuiFUyR6yjaqRP3PPALg",
             "type": "horizontal-chromosome-labels",
             "uid": "S4Y2rxMgQ1255grICDU9cQ"
            },
            {
             "height": 150,
             "options": {
              "fontSize": 16,
              "geneAnnotationHeight": 12,
              "geneLabelPosition": "outside",
              "geneStrandSpacing": 4,
              "labelBackgroundColor": "#ffffff",
              "labelBottomMargin": 0,
              "labelColor": "black",
              "labelLeftMargin": 0,
              "labelPosition": "hidden",
              "labelRightMargin": 0,
              "labelTopMargin": 0,
              "minHeight": 24,
              "minusStrandColor": "red",
              "mousePositionColor": "#000000",
              "plusStrandColor": "blue",
              "showMousePosition": true,
              "trackBorderColor": "black",
              "trackBorderWidth": 0
             },
             "server": "http://localhost:42773/api/v1",
             "tilesetUid": "CVJU4sjYTEikHt_g6QxMrw",
             "type": "horizontal-gene-annotations",
             "uid": "XxxvIQOzRXqpuMLrEBkYBA"
            },
            {
             "aggregationModes": {
              "max": {
               "name": "Max",
               "value": "max"
              },
              "mean": {
               "name": "Mean",
               "value": "mean"
              },
              "min": {
               "name": "Min",
               "value": "min"
              },
              "std": {
               "name": "Standard Deviation",
               "value": "std"
              }
             },
             "height": 20,
             "options": {
              "axisLabelFormatting": "scientific",
              "axisPositionHorizontal": "right",
              "labelBackgroundColor": "white",
              "labelBottomMargin": 0,
              "labelColor": "black",
              "labelLeftMargin": 0,
              "labelPosition": "topLeft",
              "labelRightMargin": 0,
              "labelShowAssembly": true,
              "labelShowResolution": false,
              "labelTextOpacity": 0.4,
              "labelTopMargin": 0,
              "lineStrokeColor": "blue",
              "lineStrokeWidth": 1,
              "minHeight": 20,
              "mousePositionColor": "#000000",
              "name": "PCa13848",
              "showMousePosition": true,
              "showTooltip": false,
              "trackBorderColor": "black",
              "trackBorderWidth": 0,
              "valueScaling": "linear"
             },
             "server": "http://localhost:42773/api/v1",
             "tilesetUid": "dQm0dS5DTrueuf3nMKw8xA",
             "type": "horizontal-line",
             "uid": "OSITdIWZTgWufHxijJuBoA"
            },
            {
             "height": 20,
             "options": {
              "alternating": false,
              "annotationHeight": 16,
              "annotationStyle": "box",
              "axisPositionHorizontal": "right",
              "colorEncoding": false,
              "colorEncodingRange": false,
              "colorRange": [
               "#000000",
               "#652537",
               "#bf5458",
               "#fba273",
               "#ffffe0"
              ],
              "fillColor": "blue",
              "labelBottomMargin": 0,
              "labelColor": "black",
              "labelLeftMargin": 0,
              "labelPosition": "hidden",
              "labelRightMargin": 0,
              "labelTopMargin": 0,
              "minHeight": 20,
              "name": "PCa13848 (w = 3)",
              "showMousePosition": true,
              "showTexts": false,
              "trackBorderColor": "black",
              "trackBorderWidth": 0,
              "valueColumn": null
             },
             "server": "http://localhost:42773/api/v1",
             "tilesetUid": "azs9NILhRUerJU1Ffj8jAQ",
             "type": "bedlike",
             "uid": "MMaYxIYmTbGoDCg4t7Y_hg"
            },
            {
             "height": 20,
             "options": {
              "alternating": false,
              "annotationHeight": 16,
              "annotationStyle": "box",
              "axisPositionHorizontal": "right",
              "colorEncoding": false,
              "colorEncodingRange": false,
              "colorRange": [
               "#000000",
               "#652537",
               "#bf5458",
               "#fba273",
               "#ffffe0"
              ],
              "fillColor": "blue",
              "labelBottomMargin": 0,
              "labelColor": "black",
              "labelLeftMargin": 0,
              "labelPosition": "hidden",
              "labelRightMargin": 0,
              "labelTopMargin": 0,
              "minHeight": 20,
              "name": "PCa13848 (w = 10)",
              "showMousePosition": true,
              "showTexts": false,
              "trackBorderColor": "black",
              "trackBorderWidth": 0,
              "valueColumn": null
             },
             "server": "http://localhost:42773/api/v1",
             "tilesetUid": "SNqTcGXFRjeCpwVcuUKiuA",
             "type": "bedlike",
             "uid": "MoqoC7L5S8yybi6WqcAtdg"
            }
           ],
           "whole": []
          },
          "uid": "HsDgMeJrSf6DOYS7DcV6zA"
         }
        ],
        "zoomLocks": {
         "locksByViewUid": {},
         "locksDict": {}
        }
       }
      }
     },
     "685777435690414c8e5fc3fd77ebeab2": {
      "model_module": "higlass-jupyter",
      "model_module_version": "0.4.0",
      "model_name": "HiGlassDisplayModel",
      "state": {
       "_dom_classes": [],
       "_model_data": [],
       "_view_count": null,
       "auth_token": "",
       "bounded": null,
       "cursor_location": [],
       "dark_mode": false,
       "default_track_options": {},
       "dom_element_id": "lb08en",
       "height": 0,
       "layout": "IPY_MODEL_998a65160f154765a279acfa795a7fcb",
       "location": [
        [
         2225407310,
         2228407310,
         2226238344.4827585,
         2227576275.5172415
        ],
        [
         2225407310,
         2228407310,
         2226203861.724138,
         2227610758.275862
        ]
       ],
       "options": {},
       "renderer": "",
       "select_mode": false,
       "selection": [],
       "selection_on_alt": false,
       "viewconf": {
        "editable": true,
        "exportViewUrl": "http://higlass.io/api/v1/viewconfs",
        "locationLocks": {
         "locksByViewUid": {},
         "locksDict": {}
        },
        "trackSourceServers": [
         "http://higlass.io/api/v1"
        ],
        "valueScaleLocks": {
         "locksByViewUid": {},
         "locksDict": {}
        },
        "views": [
         {
          "initialXDomain": [
           2225407310,
           2228407310
          ],
          "initialYDomain": [
           2226238344.4827585,
           2227576275.5172415
          ],
          "layout": {
           "h": 16,
           "w": 12,
           "x": 0,
           "y": 0
          },
          "tracks": {
           "bottom": [],
           "center": [
            {
             "height": 300,
             "options": {
              "backgroundColor": "#eeeeee",
              "colorRange": [
               "white",
               "rgba(245,166,35,1.0)",
               "rgba(208,2,27,1.0)",
               "black"
              ],
              "colorbarBackgroundColor": "#ffffff",
              "colorbarPosition": "topRight",
              "extent": "full",
              "heatmapValueScaling": "log",
              "labelBottomMargin": 0,
              "labelLeftMargin": 0,
              "labelPosition": "bottomRight",
              "labelRightMargin": 0,
              "labelShowAssembly": true,
              "labelShowResolution": true,
              "labelTopMargin": 0,
              "maxZoom": "15",
              "minHeight": 100,
              "minWidth": 100,
              "mousePositionColor": "#000000",
              "name": "PCa13848",
              "scaleEndPercent": "1.00000",
              "scaleStartPercent": "0.00000",
              "showMousePosition": true,
              "showTooltip": false,
              "trackBorderColor": "black",
              "trackBorderWidth": 0
             },
             "resolutions": [
              1000,
              2000,
              3000,
              4000,
              5000,
              10000,
              20000,
              30000,
              40000,
              50000,
              100000,
              200000,
              300000,
              400000,
              500000,
              1000000,
              2000000,
              3000000,
              4000000,
              5000000
             ],
             "server": "http://localhost:50201/api/v1",
             "tilesetUid": "BbAPbcAST1q8oGL-L8pang",
             "transforms": [],
             "type": "heatmap",
             "uid": "Gmv4my58QdW7ge_qdKHHCA"
            }
           ],
           "gallery": [],
           "left": [
            {
             "options": {
              "color": "#777777",
              "fontIsLeftAligned": false,
              "fontSize": 16,
              "minWidth": 35,
              "mousePositionColor": "#000000",
              "showMousePosition": true,
              "stroke": "#FFFFFF"
             },
             "server": "http://localhost:50201/api/v1",
             "tilesetUid": "CMsuiFUyR6yjaqRP3PPALg",
             "type": "vertical-chromosome-labels",
             "uid": "F83cD5fMR9SZl5QUecmlAg",
             "width": 30
            },
            {
             "options": {
              "fontSize": 16,
              "geneAnnoHeight": 12,
              "geneLabelPosition": "outside",
              "geneStrandSpacing": 4,
              "labelBottomMargin": 0,
              "labelColor": "black",
              "labelLeftMargin": 0,
              "labelPosition": "hidden",
              "labelRightMargin": 0,
              "labelTopMargin": 0,
              "minWidth": 24,
              "minusStrandColor": "red",
              "mousePositionColor": "#000000",
              "plusStrandColor": "blue",
              "showMousePosition": true,
              "trackBorderColor": "black",
              "trackBorderWidth": 0
             },
             "server": "http://localhost:50201/api/v1",
             "tilesetUid": "CVJU4sjYTEikHt_g6QxMrw",
             "type": "vertical-gene-annotations",
             "uid": "A8kVGdlAQrOi6-NMifnjew",
             "width": 55
            }
           ],
           "right": [],
           "top": [
            {
             "height": 30,
             "options": {
              "color": "#808080",
              "fontIsLeftAligned": false,
              "fontSize": 16,
              "mousePositionColor": "#000000",
              "showMousePosition": true,
              "stroke": "#ffffff"
             },
             "server": "http://localhost:50201/api/v1",
             "tilesetUid": "CMsuiFUyR6yjaqRP3PPALg",
             "type": "horizontal-chromosome-labels",
             "uid": "S4Y2rxMgQ1255grICDU9cQ"
            },
            {
             "height": 150,
             "options": {
              "fontSize": 16,
              "geneAnnotationHeight": 12,
              "geneLabelPosition": "outside",
              "geneStrandSpacing": 4,
              "labelBackgroundColor": "#ffffff",
              "labelBottomMargin": 0,
              "labelColor": "black",
              "labelLeftMargin": 0,
              "labelPosition": "hidden",
              "labelRightMargin": 0,
              "labelTopMargin": 0,
              "minHeight": 24,
              "minusStrandColor": "red",
              "mousePositionColor": "#000000",
              "plusStrandColor": "blue",
              "showMousePosition": true,
              "trackBorderColor": "black",
              "trackBorderWidth": 0
             },
             "server": "http://localhost:50201/api/v1",
             "tilesetUid": "CVJU4sjYTEikHt_g6QxMrw",
             "type": "horizontal-gene-annotations",
             "uid": "XxxvIQOzRXqpuMLrEBkYBA"
            },
            {
             "height": 20,
             "options": {
              "alternating": false,
              "annotationHeight": 16,
              "annotationStyle": "box",
              "axisPositionHorizontal": "right",
              "colorEncoding": false,
              "colorEncodingRange": false,
              "colorRange": [
               "#000000",
               "#652537",
               "#bf5458",
               "#fba273",
               "#ffffe0"
              ],
              "fillColor": "blue",
              "labelBottomMargin": 0,
              "labelColor": "black",
              "labelLeftMargin": 0,
              "labelPosition": "hidden",
              "labelRightMargin": 0,
              "labelTopMargin": 0,
              "minHeight": 20,
              "name": "PCa13848 (w = 3)",
              "showMousePosition": true,
              "showTexts": false,
              "trackBorderColor": "black",
              "trackBorderWidth": 0,
              "valueColumn": null
             },
             "server": "http://localhost:50201/api/v1",
             "tilesetUid": "azs9NILhRUerJU1Ffj8jAQ",
             "type": "bedlike",
             "uid": "MMaYxIYmTbGoDCg4t7Y_hg"
            }
           ],
           "whole": []
          },
          "uid": "b9qPmvdIRMmOqrWMCL2g7w"
         },
         {
          "initialXDomain": [
           2225407310,
           2228407310
          ],
          "initialYDomain": [
           2226203861.724138,
           2227610758.275862
          ],
          "layout": {
           "h": 12,
           "w": 12,
           "x": 0,
           "y": 16
          },
          "tracks": {
           "bottom": [],
           "center": [
            {
             "height": 300,
             "options": {
              "backgroundColor": "#eeeeee",
              "colorRange": [
               "white",
               "rgba(245,166,35,1.0)",
               "rgba(208,2,27,1.0)",
               "black"
              ],
              "colorbarBackgroundColor": "#ffffff",
              "colorbarPosition": "topRight",
              "extent": "full",
              "heatmapValueScaling": "log",
              "labelBottomMargin": 0,
              "labelLeftMargin": 0,
              "labelPosition": "bottomRight",
              "labelRightMargin": 0,
              "labelShowAssembly": true,
              "labelShowResolution": true,
              "labelTopMargin": 0,
              "maxZoom": "15",
              "minHeight": 100,
              "minWidth": 100,
              "mousePositionColor": "#000000",
              "name": "PCa3023",
              "scaleEndPercent": "1.00000",
              "scaleStartPercent": "0.00000",
              "showMousePosition": true,
              "showTooltip": false,
              "trackBorderColor": "black",
              "trackBorderWidth": 0
             },
             "resolutions": [
              1000,
              2000,
              3000,
              4000,
              5000,
              10000,
              20000,
              30000,
              40000,
              50000,
              100000,
              200000,
              300000,
              400000,
              500000,
              1000000,
              2000000,
              3000000,
              4000000,
              5000000
             ],
             "server": "http://localhost:50201/api/v1",
             "tilesetUid": "NqxpnLYDRuSZPxWAFsO66g",
             "transforms": [],
             "type": "heatmap",
             "uid": "DQV50Mz-TfuJaxNfU9GgsQ"
            }
           ],
           "gallery": [],
           "left": [
            {
             "options": {
              "color": "#777777",
              "fontIsLeftAligned": false,
              "fontSize": 16,
              "minWidth": 35,
              "mousePositionColor": "#000000",
              "showMousePosition": true,
              "stroke": "#FFFFFF"
             },
             "server": "http://localhost:50201/api/v1",
             "tilesetUid": "CMsuiFUyR6yjaqRP3PPALg",
             "type": "vertical-chromosome-labels",
             "uid": "F83cD5fMR9SZl5QUecmlAg",
             "width": 30
            },
            {
             "options": {
              "fontSize": 16,
              "geneAnnoHeight": 12,
              "geneLabelPosition": "outside",
              "geneStrandSpacing": 4,
              "labelBottomMargin": 0,
              "labelColor": "black",
              "labelLeftMargin": 0,
              "labelPosition": "hidden",
              "labelRightMargin": 0,
              "labelTopMargin": 0,
              "minWidth": 24,
              "minusStrandColor": "red",
              "mousePositionColor": "#000000",
              "plusStrandColor": "blue",
              "showMousePosition": true,
              "trackBorderColor": "black",
              "trackBorderWidth": 0
             },
             "server": "http://localhost:50201/api/v1",
             "tilesetUid": "CVJU4sjYTEikHt_g6QxMrw",
             "type": "vertical-gene-annotations",
             "uid": "A8kVGdlAQrOi6-NMifnjew",
             "width": 55
            }
           ],
           "right": [],
           "top": [
            {
             "height": 20,
             "options": {
              "alternating": false,
              "annotationHeight": 16,
              "annotationStyle": "box",
              "axisPositionHorizontal": "right",
              "colorEncoding": false,
              "colorEncodingRange": false,
              "colorRange": [
               "#000000",
               "#652537",
               "#bf5458",
               "#fba273",
               "#ffffe0"
              ],
              "fillColor": "blue",
              "labelBottomMargin": 0,
              "labelColor": "black",
              "labelLeftMargin": 0,
              "labelPosition": "hidden",
              "labelRightMargin": 0,
              "labelTopMargin": 0,
              "minHeight": 20,
              "name": "PCa3023 (w = 3)",
              "showMousePosition": true,
              "showTexts": false,
              "trackBorderColor": "black",
              "trackBorderWidth": 0,
              "valueColumn": null
             },
             "server": "http://localhost:50201/api/v1",
             "tilesetUid": "CB06rym7RsG8lKpY4F49Hw",
             "type": "bedlike",
             "uid": "ISBKTMYWQNOvFgqOJFqMMA"
            }
           ],
           "whole": []
          },
          "uid": "dJtnwHhUQx6PRi30Ov2UHg"
         }
        ],
        "zoomLocks": {
         "locksByViewUid": {},
         "locksDict": {}
        }
       }
      }
     },
     "6d0d7737dbc440738d2dc7b540dd41af": {
      "model_module": "@jupyter-widgets/base",
      "model_module_version": "1.2.0",
      "model_name": "LayoutModel",
      "state": {}
     },
     "706ef49acfef4c17b93017858bcddbea": {
      "model_module": "higlass-jupyter",
      "model_module_version": "0.4.0",
      "model_name": "HiGlassDisplayModel",
      "state": {
       "_dom_classes": [],
       "_model_data": [],
       "_view_count": null,
       "auth_token": "",
       "bounded": null,
       "cursor_location": [],
       "dark_mode": false,
       "default_track_options": {},
       "dom_element_id": "rojlw2",
       "height": 0,
       "layout": "IPY_MODEL_017e87eb993b4472b4fc85564dacca10",
       "location": [
        2940087448.7015705,
        2945155595.298429,
        2942621522,
        2942621522
       ],
       "options": {},
       "renderer": "",
       "select_mode": false,
       "selection": [],
       "selection_on_alt": false,
       "viewconf": {
        "editable": true,
        "exportViewUrl": "http://higlass.io/api/v1/viewconfs",
        "locationLocks": {
         "locksByViewUid": {},
         "locksDict": {}
        },
        "trackSourceServers": [
         "http://higlass.io/api/v1"
        ],
        "valueScaleLocks": {
         "locksByViewUid": {
          "bd-LlC-qR7CeX1BXv4rzMA.EK11NdFCT8imcFVleqsJSA": "LDJo7DtGTDGtjZpicv0hkw",
          "bd-LlC-qR7CeX1BXv4rzMA.Hi_qdQtqS1quPknrA8NNlw": "LDJo7DtGTDGtjZpicv0hkw",
          "bd-LlC-qR7CeX1BXv4rzMA.KhLNQ75kTDOrTewU8Yv4yA": "LDJo7DtGTDGtjZpicv0hkw",
          "bd-LlC-qR7CeX1BXv4rzMA.LacJLpf0QqyYuln92tEnJg": "LDJo7DtGTDGtjZpicv0hkw",
          "bd-LlC-qR7CeX1BXv4rzMA.NjD8ljW2Tu62N89hp8NsyA": "LDJo7DtGTDGtjZpicv0hkw",
          "bd-LlC-qR7CeX1BXv4rzMA.QyZj1DtjRkmWvBx93hIz5w": "LDJo7DtGTDGtjZpicv0hkw",
          "bd-LlC-qR7CeX1BXv4rzMA.S4Y2rxMgQ1255grICDU9cQ": "LDJo7DtGTDGtjZpicv0hkw",
          "bd-LlC-qR7CeX1BXv4rzMA.TEtkw3dxThq_049qEqYZ7Q": "LDJo7DtGTDGtjZpicv0hkw",
          "bd-LlC-qR7CeX1BXv4rzMA.UB_h-SArQ_W9Ch_CE6MsmQ": "LDJo7DtGTDGtjZpicv0hkw",
          "bd-LlC-qR7CeX1BXv4rzMA.UHlJqaIQT5qFNq1nH9EH9Q": "LDJo7DtGTDGtjZpicv0hkw",
          "bd-LlC-qR7CeX1BXv4rzMA.VJ7U4z5oQ2GU8ENcREqOGQ": "LDJo7DtGTDGtjZpicv0hkw",
          "bd-LlC-qR7CeX1BXv4rzMA.XxxvIQOzRXqpuMLrEBkYBA": "LDJo7DtGTDGtjZpicv0hkw",
          "bd-LlC-qR7CeX1BXv4rzMA.YleGk1a2S7WNFFq9MI5KHg": "LDJo7DtGTDGtjZpicv0hkw",
          "bd-LlC-qR7CeX1BXv4rzMA.bGDxm87sSP2k-M4oWr0anA": "LDJo7DtGTDGtjZpicv0hkw",
          "bd-LlC-qR7CeX1BXv4rzMA.bLyjunCLTOyyTxIoDMcsJQ": "LDJo7DtGTDGtjZpicv0hkw",
          "bd-LlC-qR7CeX1BXv4rzMA.cQvjLIgnTr-eGwCa9F3ZNg": "LDJo7DtGTDGtjZpicv0hkw",
          "bd-LlC-qR7CeX1BXv4rzMA.eY39cbJ3RUuxjdFvsx8jiA": "LDJo7DtGTDGtjZpicv0hkw",
          "bd-LlC-qR7CeX1BXv4rzMA.fF8klEb-Squ5DdqdiKj6AQ": "LDJo7DtGTDGtjZpicv0hkw",
          "bd-LlC-qR7CeX1BXv4rzMA.fKv3QoiQSE2Us6mLVJo5ZA": "LDJo7DtGTDGtjZpicv0hkw",
          "bd-LlC-qR7CeX1BXv4rzMA.fjp9rrMVSfyr8DhPs2ZaVg": "LDJo7DtGTDGtjZpicv0hkw"
         },
         "locksDict": {
          "LDJo7DtGTDGtjZpicv0hkw": {
           "bd-LlC-qR7CeX1BXv4rzMA.EK11NdFCT8imcFVleqsJSA": {
            "track": "EK11NdFCT8imcFVleqsJSA",
            "view": "bd-LlC-qR7CeX1BXv4rzMA"
           },
           "bd-LlC-qR7CeX1BXv4rzMA.Hi_qdQtqS1quPknrA8NNlw": {
            "track": "Hi_qdQtqS1quPknrA8NNlw",
            "view": "bd-LlC-qR7CeX1BXv4rzMA"
           },
           "bd-LlC-qR7CeX1BXv4rzMA.KhLNQ75kTDOrTewU8Yv4yA": {
            "track": "KhLNQ75kTDOrTewU8Yv4yA",
            "view": "bd-LlC-qR7CeX1BXv4rzMA"
           },
           "bd-LlC-qR7CeX1BXv4rzMA.LacJLpf0QqyYuln92tEnJg": {
            "track": "LacJLpf0QqyYuln92tEnJg",
            "view": "bd-LlC-qR7CeX1BXv4rzMA"
           },
           "bd-LlC-qR7CeX1BXv4rzMA.NjD8ljW2Tu62N89hp8NsyA": {
            "track": "NjD8ljW2Tu62N89hp8NsyA",
            "view": "bd-LlC-qR7CeX1BXv4rzMA"
           },
           "bd-LlC-qR7CeX1BXv4rzMA.QyZj1DtjRkmWvBx93hIz5w": {
            "track": "QyZj1DtjRkmWvBx93hIz5w",
            "view": "bd-LlC-qR7CeX1BXv4rzMA"
           },
           "bd-LlC-qR7CeX1BXv4rzMA.S4Y2rxMgQ1255grICDU9cQ": {
            "track": "S4Y2rxMgQ1255grICDU9cQ",
            "view": "bd-LlC-qR7CeX1BXv4rzMA"
           },
           "bd-LlC-qR7CeX1BXv4rzMA.TEtkw3dxThq_049qEqYZ7Q": {
            "track": "TEtkw3dxThq_049qEqYZ7Q",
            "view": "bd-LlC-qR7CeX1BXv4rzMA"
           },
           "bd-LlC-qR7CeX1BXv4rzMA.UB_h-SArQ_W9Ch_CE6MsmQ": {
            "track": "UB_h-SArQ_W9Ch_CE6MsmQ",
            "view": "bd-LlC-qR7CeX1BXv4rzMA"
           },
           "bd-LlC-qR7CeX1BXv4rzMA.UHlJqaIQT5qFNq1nH9EH9Q": {
            "track": "UHlJqaIQT5qFNq1nH9EH9Q",
            "view": "bd-LlC-qR7CeX1BXv4rzMA"
           },
           "bd-LlC-qR7CeX1BXv4rzMA.VJ7U4z5oQ2GU8ENcREqOGQ": {
            "track": "VJ7U4z5oQ2GU8ENcREqOGQ",
            "view": "bd-LlC-qR7CeX1BXv4rzMA"
           },
           "bd-LlC-qR7CeX1BXv4rzMA.XxxvIQOzRXqpuMLrEBkYBA": {
            "track": "XxxvIQOzRXqpuMLrEBkYBA",
            "view": "bd-LlC-qR7CeX1BXv4rzMA"
           },
           "bd-LlC-qR7CeX1BXv4rzMA.YleGk1a2S7WNFFq9MI5KHg": {
            "track": "YleGk1a2S7WNFFq9MI5KHg",
            "view": "bd-LlC-qR7CeX1BXv4rzMA"
           },
           "bd-LlC-qR7CeX1BXv4rzMA.bGDxm87sSP2k-M4oWr0anA": {
            "track": "bGDxm87sSP2k-M4oWr0anA",
            "view": "bd-LlC-qR7CeX1BXv4rzMA"
           },
           "bd-LlC-qR7CeX1BXv4rzMA.bLyjunCLTOyyTxIoDMcsJQ": {
            "track": "bLyjunCLTOyyTxIoDMcsJQ",
            "view": "bd-LlC-qR7CeX1BXv4rzMA"
           },
           "bd-LlC-qR7CeX1BXv4rzMA.cQvjLIgnTr-eGwCa9F3ZNg": {
            "track": "cQvjLIgnTr-eGwCa9F3ZNg",
            "view": "bd-LlC-qR7CeX1BXv4rzMA"
           },
           "bd-LlC-qR7CeX1BXv4rzMA.eY39cbJ3RUuxjdFvsx8jiA": {
            "track": "eY39cbJ3RUuxjdFvsx8jiA",
            "view": "bd-LlC-qR7CeX1BXv4rzMA"
           },
           "bd-LlC-qR7CeX1BXv4rzMA.fF8klEb-Squ5DdqdiKj6AQ": {
            "track": "fF8klEb-Squ5DdqdiKj6AQ",
            "view": "bd-LlC-qR7CeX1BXv4rzMA"
           },
           "bd-LlC-qR7CeX1BXv4rzMA.fKv3QoiQSE2Us6mLVJo5ZA": {
            "track": "fKv3QoiQSE2Us6mLVJo5ZA",
            "view": "bd-LlC-qR7CeX1BXv4rzMA"
           },
           "bd-LlC-qR7CeX1BXv4rzMA.fjp9rrMVSfyr8DhPs2ZaVg": {
            "track": "fjp9rrMVSfyr8DhPs2ZaVg",
            "view": "bd-LlC-qR7CeX1BXv4rzMA"
           },
           "uid": "LDJo7DtGTDGtjZpicv0hkw"
          }
         }
        },
        "views": [
         {
          "initialXDomain": [
           2940087448.7015705,
           2945155595.298429
          ],
          "initialYDomain": [
           2942621522,
           2942621522
          ],
          "layout": {
           "h": 73,
           "w": 12,
           "x": 0,
           "y": 0
          },
          "tracks": {
           "bottom": [],
           "center": [],
           "gallery": [],
           "left": [],
           "right": [],
           "top": [
            {
             "height": 30,
             "options": {
              "color": "#808080",
              "fontIsLeftAligned": false,
              "fontSize": 16,
              "mousePositionColor": "#000000",
              "showMousePosition": true,
              "stroke": "#ffffff"
             },
             "server": "http://localhost:42915/api/v1",
             "tilesetUid": "CMsuiFUyR6yjaqRP3PPALg",
             "type": "horizontal-chromosome-labels",
             "uid": "S4Y2rxMgQ1255grICDU9cQ"
            },
            {
             "height": 150,
             "options": {
              "fontSize": 16,
              "geneAnnotationHeight": 12,
              "geneLabelPosition": "outside",
              "geneStrandSpacing": 4,
              "labelBackgroundColor": "#ffffff",
              "labelBottomMargin": 0,
              "labelColor": "black",
              "labelLeftMargin": 0,
              "labelPosition": "hidden",
              "labelRightMargin": 0,
              "labelTopMargin": 0,
              "minHeight": 24,
              "minusStrandColor": "red",
              "mousePositionColor": "#000000",
              "plusStrandColor": "blue",
              "showMousePosition": true,
              "trackBorderColor": "black",
              "trackBorderWidth": 0
             },
             "server": "http://localhost:42915/api/v1",
             "tilesetUid": "CVJU4sjYTEikHt_g6QxMrw",
             "type": "horizontal-gene-annotations",
             "uid": "XxxvIQOzRXqpuMLrEBkYBA"
            },
            {
             "height": 150,
             "options": {
              "backgroundColor": "#eeeeee",
              "colorRange": [
               "white",
               "rgba(245,166,35,1.0)",
               "rgba(208,2,27,1.0)",
               "black"
              ],
              "colorbarPosition": "topRight",
              "labelBottomMargin": 0,
              "labelColor": "black",
              "labelLeftMargin": 0,
              "labelPosition": "bottomRight",
              "labelRightMargin": 0,
              "labelShowAssembly": true,
              "labelShowResolution": true,
              "labelTopMargin": 0,
              "maxZoom": "15",
              "minHeight": 40,
              "minWidth": 100,
              "name": "PCa13266",
              "showMousePosition": true,
              "trackBorderColor": "black",
              "trackBorderWidth": 0
             },
             "server": "http://localhost:42915/api/v1",
             "tilesetUid": "CQ4OqxHHRpWqW0bWnR_95g",
             "type": "horizontal-heatmap",
             "uid": "NjD8ljW2Tu62N89hp8NsyA"
            },
            {
             "height": 150,
             "options": {
              "backgroundColor": "#eeeeee",
              "colorRange": [
               "white",
               "rgba(245,166,35,1.0)",
               "rgba(208,2,27,1.0)",
               "black"
              ],
              "colorbarPosition": "topRight",
              "labelBottomMargin": 0,
              "labelColor": "black",
              "labelLeftMargin": 0,
              "labelPosition": "bottomRight",
              "labelRightMargin": 0,
              "labelShowAssembly": true,
              "labelShowResolution": true,
              "labelTopMargin": 0,
              "maxZoom": "15",
              "minHeight": 40,
              "minWidth": 100,
              "name": "PCa13848",
              "showMousePosition": true,
              "trackBorderColor": "black",
              "trackBorderWidth": 0
             },
             "server": "http://localhost:42915/api/v1",
             "tilesetUid": "BbAPbcAST1q8oGL-L8pang",
             "type": "horizontal-heatmap",
             "uid": "eY39cbJ3RUuxjdFvsx8jiA"
            },
            {
             "height": 150,
             "options": {
              "backgroundColor": "#eeeeee",
              "colorRange": [
               "white",
               "rgba(245,166,35,1.0)",
               "rgba(208,2,27,1.0)",
               "black"
              ],
              "colorbarPosition": "topRight",
              "labelBottomMargin": 0,
              "labelColor": "black",
              "labelLeftMargin": 0,
              "labelPosition": "bottomRight",
              "labelRightMargin": 0,
              "labelShowAssembly": true,
              "labelShowResolution": true,
              "labelTopMargin": 0,
              "maxZoom": "15",
              "minHeight": 40,
              "minWidth": 100,
              "name": "PCa14121",
              "showMousePosition": true,
              "trackBorderColor": "black",
              "trackBorderWidth": 0
             },
             "server": "http://localhost:42915/api/v1",
             "tilesetUid": "Wmj7v367QziMRlWFMWdzWw",
             "type": "horizontal-heatmap",
             "uid": "EK11NdFCT8imcFVleqsJSA"
            },
            {
             "height": 150,
             "options": {
              "backgroundColor": "#eeeeee",
              "colorRange": [
               "white",
               "rgba(245,166,35,1.0)",
               "rgba(208,2,27,1.0)",
               "black"
              ],
              "colorbarPosition": "topRight",
              "labelBottomMargin": 0,
              "labelColor": "black",
              "labelLeftMargin": 0,
              "labelPosition": "bottomRight",
              "labelRightMargin": 0,
              "labelShowAssembly": true,
              "labelShowResolution": true,
              "labelTopMargin": 0,
              "maxZoom": "15",
              "minHeight": 40,
              "minWidth": 100,
              "name": "PCa19121",
              "showMousePosition": true,
              "trackBorderColor": "black",
              "trackBorderWidth": 0
             },
             "server": "http://localhost:42915/api/v1",
             "tilesetUid": "R035sMOYSceQf26wr5lm7w",
             "type": "horizontal-heatmap",
             "uid": "Hi_qdQtqS1quPknrA8NNlw"
            },
            {
             "height": 150,
             "options": {
              "backgroundColor": "#eeeeee",
              "colorRange": [
               "white",
               "rgba(245,166,35,1.0)",
               "rgba(208,2,27,1.0)",
               "black"
              ],
              "colorbarPosition": "topRight",
              "labelBottomMargin": 0,
              "labelColor": "black",
              "labelLeftMargin": 0,
              "labelPosition": "bottomRight",
              "labelRightMargin": 0,
              "labelShowAssembly": true,
              "labelShowResolution": true,
              "labelTopMargin": 0,
              "maxZoom": "15",
              "minHeight": 40,
              "minWidth": 100,
              "name": "PCa3023",
              "showMousePosition": true,
              "trackBorderColor": "black",
              "trackBorderWidth": 0
             },
             "server": "http://localhost:42915/api/v1",
             "tilesetUid": "NqxpnLYDRuSZPxWAFsO66g",
             "type": "horizontal-heatmap",
             "uid": "VJ7U4z5oQ2GU8ENcREqOGQ"
            },
            {
             "height": 150,
             "options": {
              "backgroundColor": "#eeeeee",
              "colorRange": [
               "white",
               "rgba(245,166,35,1.0)",
               "rgba(208,2,27,1.0)",
               "black"
              ],
              "colorbarPosition": "topRight",
              "labelBottomMargin": 0,
              "labelColor": "black",
              "labelLeftMargin": 0,
              "labelPosition": "bottomRight",
              "labelRightMargin": 0,
              "labelShowAssembly": true,
              "labelShowResolution": true,
              "labelTopMargin": 0,
              "maxZoom": "15",
              "minHeight": 40,
              "minWidth": 100,
              "name": "PCa33173",
              "showMousePosition": true,
              "trackBorderColor": "black",
              "trackBorderWidth": 0
             },
             "server": "http://localhost:42915/api/v1",
             "tilesetUid": "R_2HBkduTYCenDUWv5LMQA",
             "type": "horizontal-heatmap",
             "uid": "QyZj1DtjRkmWvBx93hIz5w"
            },
            {
             "height": 150,
             "options": {
              "backgroundColor": "#eeeeee",
              "colorRange": [
               "white",
               "rgba(245,166,35,1.0)",
               "rgba(208,2,27,1.0)",
               "black"
              ],
              "colorbarPosition": "topRight",
              "labelBottomMargin": 0,
              "labelColor": "black",
              "labelLeftMargin": 0,
              "labelPosition": "bottomRight",
              "labelRightMargin": 0,
              "labelShowAssembly": true,
              "labelShowResolution": true,
              "labelTopMargin": 0,
              "maxZoom": "15",
              "minHeight": 40,
              "minWidth": 100,
              "name": "PCa40507",
              "showMousePosition": true,
              "trackBorderColor": "black",
              "trackBorderWidth": 0
             },
             "server": "http://localhost:42915/api/v1",
             "tilesetUid": "DYAWQOsYSg-OQjXnT5UEMQ",
             "type": "horizontal-heatmap",
             "uid": "UHlJqaIQT5qFNq1nH9EH9Q"
            },
            {
             "height": 150,
             "options": {
              "backgroundColor": "#eeeeee",
              "colorRange": [
               "white",
               "rgba(245,166,35,1.0)",
               "rgba(208,2,27,1.0)",
               "black"
              ],
              "colorbarPosition": "topRight",
              "labelBottomMargin": 0,
              "labelColor": "black",
              "labelLeftMargin": 0,
              "labelPosition": "bottomRight",
              "labelRightMargin": 0,
              "labelShowAssembly": true,
              "labelShowResolution": true,
              "labelTopMargin": 0,
              "maxZoom": "15",
              "minHeight": 40,
              "minWidth": 100,
              "name": "PCa51852",
              "showMousePosition": true,
              "trackBorderColor": "black",
              "trackBorderWidth": 0
             },
             "server": "http://localhost:42915/api/v1",
             "tilesetUid": "U9Ex8WMEQWaEs2dQVec0yg",
             "type": "horizontal-heatmap",
             "uid": "TEtkw3dxThq_049qEqYZ7Q"
            },
            {
             "height": 150,
             "options": {
              "backgroundColor": "#eeeeee",
              "colorRange": [
               "white",
               "rgba(245,166,35,1.0)",
               "rgba(208,2,27,1.0)",
               "black"
              ],
              "colorbarPosition": "topRight",
              "labelBottomMargin": 0,
              "labelColor": "black",
              "labelLeftMargin": 0,
              "labelPosition": "bottomRight",
              "labelRightMargin": 0,
              "labelShowAssembly": true,
              "labelShowResolution": true,
              "labelTopMargin": 0,
              "maxZoom": "15",
              "minHeight": 40,
              "minWidth": 100,
              "name": "PCa53687",
              "showMousePosition": true,
              "trackBorderColor": "black",
              "trackBorderWidth": 0
             },
             "server": "http://localhost:42915/api/v1",
             "tilesetUid": "OCA9e7vPQ4ymmJeXUBRdhA",
             "type": "horizontal-heatmap",
             "uid": "cQvjLIgnTr-eGwCa9F3ZNg"
            },
            {
             "height": 150,
             "options": {
              "backgroundColor": "#eeeeee",
              "colorRange": [
               "white",
               "rgba(245,166,35,1.0)",
               "rgba(208,2,27,1.0)",
               "black"
              ],
              "colorbarPosition": "topRight",
              "labelBottomMargin": 0,
              "labelColor": "black",
              "labelLeftMargin": 0,
              "labelPosition": "bottomRight",
              "labelRightMargin": 0,
              "labelShowAssembly": true,
              "labelShowResolution": true,
              "labelTopMargin": 0,
              "maxZoom": "15",
              "minHeight": 40,
              "minWidth": 100,
              "name": "PCa56413",
              "showMousePosition": true,
              "trackBorderColor": "black",
              "trackBorderWidth": 0
             },
             "server": "http://localhost:42915/api/v1",
             "tilesetUid": "Ki4mnmMoSKy5gyB_Wkyh3w",
             "type": "horizontal-heatmap",
             "uid": "bLyjunCLTOyyTxIoDMcsJQ"
            },
            {
             "height": 150,
             "options": {
              "backgroundColor": "#eeeeee",
              "colorRange": [
               "white",
               "rgba(245,166,35,1.0)",
               "rgba(208,2,27,1.0)",
               "black"
              ],
              "colorbarPosition": "topRight",
              "labelBottomMargin": 0,
              "labelColor": "black",
              "labelLeftMargin": 0,
              "labelPosition": "bottomRight",
              "labelRightMargin": 0,
              "labelShowAssembly": true,
              "labelShowResolution": true,
              "labelTopMargin": 0,
              "maxZoom": "15",
              "minHeight": 40,
              "minWidth": 100,
              "name": "PCa57054",
              "showMousePosition": true,
              "trackBorderColor": "black",
              "trackBorderWidth": 0
             },
             "server": "http://localhost:42915/api/v1",
             "tilesetUid": "JJvSTGq1TsqR6Mu-yB3yww",
             "type": "horizontal-heatmap",
             "uid": "UB_h-SArQ_W9Ch_CE6MsmQ"
            },
            {
             "height": 150,
             "options": {
              "backgroundColor": "#eeeeee",
              "colorRange": [
               "white",
               "rgba(245,166,35,1.0)",
               "rgba(208,2,27,1.0)",
               "black"
              ],
              "colorbarPosition": "topRight",
              "labelBottomMargin": 0,
              "labelColor": "black",
              "labelLeftMargin": 0,
              "labelPosition": "bottomRight",
              "labelRightMargin": 0,
              "labelShowAssembly": true,
              "labelShowResolution": true,
              "labelTopMargin": 0,
              "maxZoom": "15",
              "minHeight": 40,
              "minWidth": 100,
              "name": "PCa57294",
              "showMousePosition": true,
              "trackBorderColor": "black",
              "trackBorderWidth": 0
             },
             "server": "http://localhost:42915/api/v1",
             "tilesetUid": "V4H5L6FvSGmQrHyurUus6w",
             "type": "horizontal-heatmap",
             "uid": "bGDxm87sSP2k-M4oWr0anA"
            },
            {
             "height": 150,
             "options": {
              "backgroundColor": "#eeeeee",
              "colorRange": [
               "white",
               "rgba(245,166,35,1.0)",
               "rgba(208,2,27,1.0)",
               "black"
              ],
              "colorbarPosition": "topRight",
              "labelBottomMargin": 0,
              "labelColor": "black",
              "labelLeftMargin": 0,
              "labelPosition": "bottomRight",
              "labelRightMargin": 0,
              "labelShowAssembly": true,
              "labelShowResolution": true,
              "labelTopMargin": 0,
              "maxZoom": "15",
              "minHeight": 40,
              "minWidth": 100,
              "name": "PCa58215",
              "showMousePosition": true,
              "trackBorderColor": "black",
              "trackBorderWidth": 0
             },
             "server": "http://localhost:42915/api/v1",
             "tilesetUid": "LSYUjN0DR_um2PfQ4RYeEA",
             "type": "horizontal-heatmap",
             "uid": "LacJLpf0QqyYuln92tEnJg"
            },
            {
             "height": 150,
             "options": {
              "backgroundColor": "#eeeeee",
              "colorRange": [
               "white",
               "rgba(245,166,35,1.0)",
               "rgba(208,2,27,1.0)",
               "black"
              ],
              "colorbarPosition": "topRight",
              "labelBottomMargin": 0,
              "labelColor": "black",
              "labelLeftMargin": 0,
              "labelPosition": "bottomRight",
              "labelRightMargin": 0,
              "labelShowAssembly": true,
              "labelShowResolution": true,
              "labelTopMargin": 0,
              "maxZoom": "15",
              "minHeight": 40,
              "minWidth": 100,
              "name": "Benign-Prostate-1648133",
              "showMousePosition": true,
              "trackBorderColor": "black",
              "trackBorderWidth": 0
             },
             "server": "http://localhost:42915/api/v1",
             "tilesetUid": "bp7qe5hlTuWnWUXfC3eABQ",
             "type": "horizontal-heatmap",
             "uid": "fF8klEb-Squ5DdqdiKj6AQ"
            },
            {
             "height": 150,
             "options": {
              "backgroundColor": "#eeeeee",
              "colorRange": [
               "white",
               "rgba(245,166,35,1.0)",
               "rgba(208,2,27,1.0)",
               "black"
              ],
              "colorbarPosition": "topRight",
              "labelBottomMargin": 0,
              "labelColor": "black",
              "labelLeftMargin": 0,
              "labelPosition": "bottomRight",
              "labelRightMargin": 0,
              "labelShowAssembly": true,
              "labelShowResolution": true,
              "labelTopMargin": 0,
              "maxZoom": "15",
              "minHeight": 40,
              "minWidth": 100,
              "name": "Benign-Prostate-1595983",
              "showMousePosition": true,
              "trackBorderColor": "black",
              "trackBorderWidth": 0
             },
             "server": "http://localhost:42915/api/v1",
             "tilesetUid": "FivjvBeoRAmI3tggwMLWDw",
             "type": "horizontal-heatmap",
             "uid": "fjp9rrMVSfyr8DhPs2ZaVg"
            },
            {
             "height": 150,
             "options": {
              "backgroundColor": "#eeeeee",
              "colorRange": [
               "white",
               "rgba(245,166,35,1.0)",
               "rgba(208,2,27,1.0)",
               "black"
              ],
              "colorbarPosition": "topRight",
              "labelBottomMargin": 0,
              "labelColor": "black",
              "labelLeftMargin": 0,
              "labelPosition": "bottomRight",
              "labelRightMargin": 0,
              "labelShowAssembly": true,
              "labelShowResolution": true,
              "labelTopMargin": 0,
              "maxZoom": "15",
              "minHeight": 40,
              "minWidth": 100,
              "name": "Benign-Prostate-3330581",
              "showMousePosition": true,
              "trackBorderColor": "black",
              "trackBorderWidth": 0
             },
             "server": "http://localhost:42915/api/v1",
             "tilesetUid": "JaVFVbK0SNmMG_PFeSik9A",
             "type": "horizontal-heatmap",
             "uid": "fKv3QoiQSE2Us6mLVJo5ZA"
            },
            {
             "height": 150,
             "options": {
              "backgroundColor": "#eeeeee",
              "colorRange": [
               "white",
               "rgba(245,166,35,1.0)",
               "rgba(208,2,27,1.0)",
               "black"
              ],
              "colorbarPosition": "topRight",
              "labelBottomMargin": 0,
              "labelColor": "black",
              "labelLeftMargin": 0,
              "labelPosition": "bottomRight",
              "labelRightMargin": 0,
              "labelShowAssembly": true,
              "labelShowResolution": true,
              "labelTopMargin": 0,
              "maxZoom": "15",
              "minHeight": 40,
              "minWidth": 100,
              "name": "Benign-Prostate-1664855",
              "showMousePosition": true,
              "trackBorderColor": "black",
              "trackBorderWidth": 0
             },
             "server": "http://localhost:42915/api/v1",
             "tilesetUid": "XsWytOnMRCuKsWeUoKFDlg",
             "type": "horizontal-heatmap",
             "uid": "YleGk1a2S7WNFFq9MI5KHg"
            },
            {
             "height": 150,
             "options": {
              "backgroundColor": "#eeeeee",
              "colorRange": [
               "white",
               "rgba(245,166,35,1.0)",
               "rgba(208,2,27,1.0)",
               "black"
              ],
              "colorbarPosition": "topRight",
              "labelBottomMargin": 0,
              "labelColor": "black",
              "labelLeftMargin": 0,
              "labelPosition": "bottomRight",
              "labelRightMargin": 0,
              "labelShowAssembly": true,
              "labelShowResolution": true,
              "labelTopMargin": 0,
              "maxZoom": "15",
              "minHeight": 40,
              "minWidth": 100,
              "name": "Benign-Prostate-3320942",
              "showMousePosition": true,
              "trackBorderColor": "black",
              "trackBorderWidth": 0
             },
             "server": "http://localhost:42915/api/v1",
             "tilesetUid": "fCv_-cLUR7q9w16JwEdX9g",
             "type": "horizontal-heatmap",
             "uid": "KhLNQ75kTDOrTewU8Yv4yA"
            }
           ],
           "whole": []
          },
          "uid": "bd-LlC-qR7CeX1BXv4rzMA"
         }
        ],
        "zoomLocks": {
         "locksByViewUid": {},
         "locksDict": {}
        }
       }
      }
     },
     "998a65160f154765a279acfa795a7fcb": {
      "model_module": "@jupyter-widgets/base",
      "model_module_version": "1.2.0",
      "model_name": "LayoutModel",
      "state": {}
     },
     "9ae4c6210e8c45688e4fd4f67a0fdc55": {
      "model_module": "higlass-jupyter",
      "model_module_version": "0.4.0",
      "model_name": "HiGlassDisplayModel",
      "state": {
       "_dom_classes": [],
       "_model_data": [],
       "_view_count": null,
       "auth_token": "",
       "bounded": null,
       "cursor_location": [],
       "dark_mode": false,
       "default_track_options": {},
       "dom_element_id": "yixhqx",
       "height": 0,
       "layout": "IPY_MODEL_3591ffef5dd14fd39ff93421f9b53e59",
       "location": [
        2009337479.2827225,
        2019247866.7172775,
        2014292673,
        2014292673
       ],
       "options": {},
       "renderer": "",
       "select_mode": false,
       "selection": [],
       "selection_on_alt": false,
       "viewconf": {
        "editable": true,
        "exportViewUrl": "http://higlass.io/api/v1/viewconfs",
        "locationLocks": {
         "locksByViewUid": {},
         "locksDict": {}
        },
        "trackSourceServers": [
         "http://higlass.io/api/v1"
        ],
        "valueScaleLocks": {
         "locksByViewUid": {},
         "locksDict": {}
        },
        "views": [
         {
          "initialXDomain": [
           2009337479.2827225,
           2019247866.7172775
          ],
          "initialYDomain": [
           2014292673,
           2014292673
          ],
          "layout": {
           "h": 73,
           "w": 12,
           "x": 0,
           "y": 0
          },
          "tracks": {
           "bottom": [],
           "center": [],
           "gallery": [],
           "left": [],
           "right": [],
           "top": [
            {
             "height": 30,
             "options": {
              "color": "#808080",
              "fontIsLeftAligned": false,
              "fontSize": 16,
              "mousePositionColor": "#000000",
              "showMousePosition": true,
              "stroke": "#ffffff"
             },
             "server": "http://localhost:58053/api/v1",
             "tilesetUid": "CMsuiFUyR6yjaqRP3PPALg",
             "type": "horizontal-chromosome-labels",
             "uid": "S4Y2rxMgQ1255grICDU9cQ"
            },
            {
             "height": 150,
             "options": {
              "fontSize": 16,
              "geneAnnotationHeight": 12,
              "geneLabelPosition": "outside",
              "geneStrandSpacing": 4,
              "labelBackgroundColor": "#ffffff",
              "labelBottomMargin": 0,
              "labelColor": "black",
              "labelLeftMargin": 0,
              "labelPosition": "hidden",
              "labelRightMargin": 0,
              "labelTopMargin": 0,
              "minHeight": 24,
              "minusStrandColor": "red",
              "mousePositionColor": "#000000",
              "plusStrandColor": "blue",
              "showMousePosition": true,
              "trackBorderColor": "black",
              "trackBorderWidth": 0
             },
             "server": "http://localhost:58053/api/v1",
             "tilesetUid": "CVJU4sjYTEikHt_g6QxMrw",
             "type": "horizontal-gene-annotations",
             "uid": "XxxvIQOzRXqpuMLrEBkYBA"
            },
            {
             "height": 150,
             "options": {
              "backgroundColor": "#eeeeee",
              "colorRange": [
               "white",
               "rgba(245,166,35,1.0)",
               "rgba(208,2,27,1.0)",
               "black"
              ],
              "colorbarPosition": "topRight",
              "labelBottomMargin": 0,
              "labelColor": "black",
              "labelLeftMargin": 0,
              "labelPosition": "bottomRight",
              "labelRightMargin": 0,
              "labelShowAssembly": true,
              "labelShowResolution": true,
              "labelTopMargin": 0,
              "maxZoom": "15",
              "minHeight": 40,
              "minWidth": 100,
              "name": "PCa13266",
              "showMousePosition": true,
              "trackBorderColor": "black",
              "trackBorderWidth": 0
             },
             "server": "http://localhost:58053/api/v1",
             "tilesetUid": "CQ4OqxHHRpWqW0bWnR_95g",
             "type": "horizontal-heatmap",
             "uid": "NjD8ljW2Tu62N89hp8NsyA"
            },
            {
             "height": 150,
             "options": {
              "backgroundColor": "#eeeeee",
              "colorRange": [
               "white",
               "rgba(245,166,35,1.0)",
               "rgba(208,2,27,1.0)",
               "black"
              ],
              "colorbarPosition": "topRight",
              "labelBottomMargin": 0,
              "labelColor": "black",
              "labelLeftMargin": 0,
              "labelPosition": "bottomRight",
              "labelRightMargin": 0,
              "labelShowAssembly": true,
              "labelShowResolution": true,
              "labelTopMargin": 0,
              "maxZoom": "15",
              "minHeight": 40,
              "minWidth": 100,
              "name": "PCa13848",
              "showMousePosition": true,
              "trackBorderColor": "black",
              "trackBorderWidth": 0
             },
             "server": "http://localhost:58053/api/v1",
             "tilesetUid": "BbAPbcAST1q8oGL-L8pang",
             "type": "horizontal-heatmap",
             "uid": "eY39cbJ3RUuxjdFvsx8jiA"
            },
            {
             "height": 150,
             "options": {
              "backgroundColor": "#eeeeee",
              "colorRange": [
               "white",
               "rgba(245,166,35,1.0)",
               "rgba(208,2,27,1.0)",
               "black"
              ],
              "colorbarPosition": "topRight",
              "labelBottomMargin": 0,
              "labelColor": "black",
              "labelLeftMargin": 0,
              "labelPosition": "bottomRight",
              "labelRightMargin": 0,
              "labelShowAssembly": true,
              "labelShowResolution": true,
              "labelTopMargin": 0,
              "maxZoom": "15",
              "minHeight": 40,
              "minWidth": 100,
              "name": "PCa14121",
              "showMousePosition": true,
              "trackBorderColor": "black",
              "trackBorderWidth": 0
             },
             "server": "http://localhost:58053/api/v1",
             "tilesetUid": "Wmj7v367QziMRlWFMWdzWw",
             "type": "horizontal-heatmap",
             "uid": "EK11NdFCT8imcFVleqsJSA"
            },
            {
             "height": 150,
             "options": {
              "backgroundColor": "#eeeeee",
              "colorRange": [
               "white",
               "rgba(245,166,35,1.0)",
               "rgba(208,2,27,1.0)",
               "black"
              ],
              "colorbarPosition": "topRight",
              "labelBottomMargin": 0,
              "labelColor": "black",
              "labelLeftMargin": 0,
              "labelPosition": "bottomRight",
              "labelRightMargin": 0,
              "labelShowAssembly": true,
              "labelShowResolution": true,
              "labelTopMargin": 0,
              "maxZoom": "15",
              "minHeight": 40,
              "minWidth": 100,
              "name": "PCa19121",
              "showMousePosition": true,
              "trackBorderColor": "black",
              "trackBorderWidth": 0
             },
             "server": "http://localhost:58053/api/v1",
             "tilesetUid": "R035sMOYSceQf26wr5lm7w",
             "type": "horizontal-heatmap",
             "uid": "Hi_qdQtqS1quPknrA8NNlw"
            },
            {
             "height": 150,
             "options": {
              "backgroundColor": "#eeeeee",
              "colorRange": [
               "white",
               "rgba(245,166,35,1.0)",
               "rgba(208,2,27,1.0)",
               "black"
              ],
              "colorbarPosition": "topRight",
              "labelBottomMargin": 0,
              "labelColor": "black",
              "labelLeftMargin": 0,
              "labelPosition": "bottomRight",
              "labelRightMargin": 0,
              "labelShowAssembly": true,
              "labelShowResolution": true,
              "labelTopMargin": 0,
              "maxZoom": "15",
              "minHeight": 40,
              "minWidth": 100,
              "name": "PCa3023",
              "showMousePosition": true,
              "trackBorderColor": "black",
              "trackBorderWidth": 0
             },
             "server": "http://localhost:58053/api/v1",
             "tilesetUid": "NqxpnLYDRuSZPxWAFsO66g",
             "type": "horizontal-heatmap",
             "uid": "VJ7U4z5oQ2GU8ENcREqOGQ"
            },
            {
             "height": 150,
             "options": {
              "backgroundColor": "#eeeeee",
              "colorRange": [
               "white",
               "rgba(245,166,35,1.0)",
               "rgba(208,2,27,1.0)",
               "black"
              ],
              "colorbarPosition": "topRight",
              "labelBottomMargin": 0,
              "labelColor": "black",
              "labelLeftMargin": 0,
              "labelPosition": "bottomRight",
              "labelRightMargin": 0,
              "labelShowAssembly": true,
              "labelShowResolution": true,
              "labelTopMargin": 0,
              "maxZoom": "15",
              "minHeight": 40,
              "minWidth": 100,
              "name": "PCa33173",
              "showMousePosition": true,
              "trackBorderColor": "black",
              "trackBorderWidth": 0
             },
             "server": "http://localhost:58053/api/v1",
             "tilesetUid": "R_2HBkduTYCenDUWv5LMQA",
             "type": "horizontal-heatmap",
             "uid": "QyZj1DtjRkmWvBx93hIz5w"
            },
            {
             "height": 150,
             "options": {
              "backgroundColor": "#eeeeee",
              "colorRange": [
               "white",
               "rgba(245,166,35,1.0)",
               "rgba(208,2,27,1.0)",
               "black"
              ],
              "colorbarPosition": "topRight",
              "labelBottomMargin": 0,
              "labelColor": "black",
              "labelLeftMargin": 0,
              "labelPosition": "bottomRight",
              "labelRightMargin": 0,
              "labelShowAssembly": true,
              "labelShowResolution": true,
              "labelTopMargin": 0,
              "maxZoom": "15",
              "minHeight": 40,
              "minWidth": 100,
              "name": "PCa40507",
              "showMousePosition": true,
              "trackBorderColor": "black",
              "trackBorderWidth": 0
             },
             "server": "http://localhost:58053/api/v1",
             "tilesetUid": "DYAWQOsYSg-OQjXnT5UEMQ",
             "type": "horizontal-heatmap",
             "uid": "UHlJqaIQT5qFNq1nH9EH9Q"
            },
            {
             "height": 150,
             "options": {
              "backgroundColor": "#eeeeee",
              "colorRange": [
               "white",
               "rgba(245,166,35,1.0)",
               "rgba(208,2,27,1.0)",
               "black"
              ],
              "colorbarPosition": "topRight",
              "labelBottomMargin": 0,
              "labelColor": "black",
              "labelLeftMargin": 0,
              "labelPosition": "bottomRight",
              "labelRightMargin": 0,
              "labelShowAssembly": true,
              "labelShowResolution": true,
              "labelTopMargin": 0,
              "maxZoom": "15",
              "minHeight": 40,
              "minWidth": 100,
              "name": "PCa51852",
              "showMousePosition": true,
              "trackBorderColor": "black",
              "trackBorderWidth": 0
             },
             "server": "http://localhost:58053/api/v1",
             "tilesetUid": "U9Ex8WMEQWaEs2dQVec0yg",
             "type": "horizontal-heatmap",
             "uid": "TEtkw3dxThq_049qEqYZ7Q"
            },
            {
             "height": 150,
             "options": {
              "backgroundColor": "#eeeeee",
              "colorRange": [
               "white",
               "rgba(245,166,35,1.0)",
               "rgba(208,2,27,1.0)",
               "black"
              ],
              "colorbarPosition": "topRight",
              "labelBottomMargin": 0,
              "labelColor": "black",
              "labelLeftMargin": 0,
              "labelPosition": "bottomRight",
              "labelRightMargin": 0,
              "labelShowAssembly": true,
              "labelShowResolution": true,
              "labelTopMargin": 0,
              "maxZoom": "15",
              "minHeight": 40,
              "minWidth": 100,
              "name": "PCa53687",
              "showMousePosition": true,
              "trackBorderColor": "black",
              "trackBorderWidth": 0
             },
             "server": "http://localhost:58053/api/v1",
             "tilesetUid": "OCA9e7vPQ4ymmJeXUBRdhA",
             "type": "horizontal-heatmap",
             "uid": "cQvjLIgnTr-eGwCa9F3ZNg"
            },
            {
             "height": 150,
             "options": {
              "backgroundColor": "#eeeeee",
              "colorRange": [
               "white",
               "rgba(245,166,35,1.0)",
               "rgba(208,2,27,1.0)",
               "black"
              ],
              "colorbarPosition": "topRight",
              "labelBottomMargin": 0,
              "labelColor": "black",
              "labelLeftMargin": 0,
              "labelPosition": "bottomRight",
              "labelRightMargin": 0,
              "labelShowAssembly": true,
              "labelShowResolution": true,
              "labelTopMargin": 0,
              "maxZoom": "15",
              "minHeight": 40,
              "minWidth": 100,
              "name": "PCa56413",
              "showMousePosition": true,
              "trackBorderColor": "black",
              "trackBorderWidth": 0
             },
             "server": "http://localhost:58053/api/v1",
             "tilesetUid": "Ki4mnmMoSKy5gyB_Wkyh3w",
             "type": "horizontal-heatmap",
             "uid": "bLyjunCLTOyyTxIoDMcsJQ"
            },
            {
             "height": 150,
             "options": {
              "backgroundColor": "#eeeeee",
              "colorRange": [
               "white",
               "rgba(245,166,35,1.0)",
               "rgba(208,2,27,1.0)",
               "black"
              ],
              "colorbarPosition": "topRight",
              "labelBottomMargin": 0,
              "labelColor": "black",
              "labelLeftMargin": 0,
              "labelPosition": "bottomRight",
              "labelRightMargin": 0,
              "labelShowAssembly": true,
              "labelShowResolution": true,
              "labelTopMargin": 0,
              "maxZoom": "15",
              "minHeight": 40,
              "minWidth": 100,
              "name": "PCa57054",
              "showMousePosition": true,
              "trackBorderColor": "black",
              "trackBorderWidth": 0
             },
             "server": "http://localhost:58053/api/v1",
             "tilesetUid": "JJvSTGq1TsqR6Mu-yB3yww",
             "type": "horizontal-heatmap",
             "uid": "UB_h-SArQ_W9Ch_CE6MsmQ"
            },
            {
             "height": 150,
             "options": {
              "backgroundColor": "#eeeeee",
              "colorRange": [
               "white",
               "rgba(245,166,35,1.0)",
               "rgba(208,2,27,1.0)",
               "black"
              ],
              "colorbarPosition": "topRight",
              "labelBottomMargin": 0,
              "labelColor": "black",
              "labelLeftMargin": 0,
              "labelPosition": "bottomRight",
              "labelRightMargin": 0,
              "labelShowAssembly": true,
              "labelShowResolution": true,
              "labelTopMargin": 0,
              "maxZoom": "15",
              "minHeight": 40,
              "minWidth": 100,
              "name": "PCa57294",
              "showMousePosition": true,
              "trackBorderColor": "black",
              "trackBorderWidth": 0
             },
             "server": "http://localhost:58053/api/v1",
             "tilesetUid": "V4H5L6FvSGmQrHyurUus6w",
             "type": "horizontal-heatmap",
             "uid": "bGDxm87sSP2k-M4oWr0anA"
            },
            {
             "height": 150,
             "options": {
              "backgroundColor": "#eeeeee",
              "colorRange": [
               "white",
               "rgba(245,166,35,1.0)",
               "rgba(208,2,27,1.0)",
               "black"
              ],
              "colorbarPosition": "topRight",
              "labelBottomMargin": 0,
              "labelColor": "black",
              "labelLeftMargin": 0,
              "labelPosition": "bottomRight",
              "labelRightMargin": 0,
              "labelShowAssembly": true,
              "labelShowResolution": true,
              "labelTopMargin": 0,
              "maxZoom": "15",
              "minHeight": 40,
              "minWidth": 100,
              "name": "PCa58215",
              "showMousePosition": true,
              "trackBorderColor": "black",
              "trackBorderWidth": 0
             },
             "server": "http://localhost:58053/api/v1",
             "tilesetUid": "LSYUjN0DR_um2PfQ4RYeEA",
             "type": "horizontal-heatmap",
             "uid": "LacJLpf0QqyYuln92tEnJg"
            },
            {
             "height": 150,
             "options": {
              "backgroundColor": "#eeeeee",
              "colorRange": [
               "white",
               "rgba(245,166,35,1.0)",
               "rgba(208,2,27,1.0)",
               "black"
              ],
              "colorbarPosition": "topRight",
              "labelBottomMargin": 0,
              "labelColor": "black",
              "labelLeftMargin": 0,
              "labelPosition": "bottomRight",
              "labelRightMargin": 0,
              "labelShowAssembly": true,
              "labelShowResolution": true,
              "labelTopMargin": 0,
              "maxZoom": "15",
              "minHeight": 40,
              "minWidth": 100,
              "name": "Benign-Prostate-1648133",
              "showMousePosition": true,
              "trackBorderColor": "black",
              "trackBorderWidth": 0
             },
             "server": "http://localhost:58053/api/v1",
             "tilesetUid": "bp7qe5hlTuWnWUXfC3eABQ",
             "type": "horizontal-heatmap",
             "uid": "fF8klEb-Squ5DdqdiKj6AQ"
            },
            {
             "height": 150,
             "options": {
              "backgroundColor": "#eeeeee",
              "colorRange": [
               "white",
               "rgba(245,166,35,1.0)",
               "rgba(208,2,27,1.0)",
               "black"
              ],
              "colorbarPosition": "topRight",
              "labelBottomMargin": 0,
              "labelColor": "black",
              "labelLeftMargin": 0,
              "labelPosition": "bottomRight",
              "labelRightMargin": 0,
              "labelShowAssembly": true,
              "labelShowResolution": true,
              "labelTopMargin": 0,
              "maxZoom": "15",
              "minHeight": 40,
              "minWidth": 100,
              "name": "Benign-Prostate-1595983",
              "showMousePosition": true,
              "trackBorderColor": "black",
              "trackBorderWidth": 0
             },
             "server": "http://localhost:58053/api/v1",
             "tilesetUid": "FivjvBeoRAmI3tggwMLWDw",
             "type": "horizontal-heatmap",
             "uid": "fjp9rrMVSfyr8DhPs2ZaVg"
            },
            {
             "height": 150,
             "options": {
              "backgroundColor": "#eeeeee",
              "colorRange": [
               "white",
               "rgba(245,166,35,1.0)",
               "rgba(208,2,27,1.0)",
               "black"
              ],
              "colorbarPosition": "topRight",
              "labelBottomMargin": 0,
              "labelColor": "black",
              "labelLeftMargin": 0,
              "labelPosition": "bottomRight",
              "labelRightMargin": 0,
              "labelShowAssembly": true,
              "labelShowResolution": true,
              "labelTopMargin": 0,
              "maxZoom": "15",
              "minHeight": 40,
              "minWidth": 100,
              "name": "Benign-Prostate-3330581",
              "showMousePosition": true,
              "trackBorderColor": "black",
              "trackBorderWidth": 0
             },
             "server": "http://localhost:58053/api/v1",
             "tilesetUid": "JaVFVbK0SNmMG_PFeSik9A",
             "type": "horizontal-heatmap",
             "uid": "fKv3QoiQSE2Us6mLVJo5ZA"
            },
            {
             "height": 150,
             "options": {
              "backgroundColor": "#eeeeee",
              "colorRange": [
               "white",
               "rgba(245,166,35,1.0)",
               "rgba(208,2,27,1.0)",
               "black"
              ],
              "colorbarPosition": "topRight",
              "labelBottomMargin": 0,
              "labelColor": "black",
              "labelLeftMargin": 0,
              "labelPosition": "bottomRight",
              "labelRightMargin": 0,
              "labelShowAssembly": true,
              "labelShowResolution": true,
              "labelTopMargin": 0,
              "maxZoom": "15",
              "minHeight": 40,
              "minWidth": 100,
              "name": "Benign-Prostate-1664855",
              "showMousePosition": true,
              "trackBorderColor": "black",
              "trackBorderWidth": 0
             },
             "server": "http://localhost:58053/api/v1",
             "tilesetUid": "XsWytOnMRCuKsWeUoKFDlg",
             "type": "horizontal-heatmap",
             "uid": "YleGk1a2S7WNFFq9MI5KHg"
            },
            {
             "height": 150,
             "options": {
              "backgroundColor": "#eeeeee",
              "colorRange": [
               "white",
               "rgba(245,166,35,1.0)",
               "rgba(208,2,27,1.0)",
               "black"
              ],
              "colorbarPosition": "topRight",
              "labelBottomMargin": 0,
              "labelColor": "black",
              "labelLeftMargin": 0,
              "labelPosition": "bottomRight",
              "labelRightMargin": 0,
              "labelShowAssembly": true,
              "labelShowResolution": true,
              "labelTopMargin": 0,
              "maxZoom": "15",
              "minHeight": 40,
              "minWidth": 100,
              "name": "Benign-Prostate-3320942",
              "showMousePosition": true,
              "trackBorderColor": "black",
              "trackBorderWidth": 0
             },
             "server": "http://localhost:58053/api/v1",
             "tilesetUid": "fCv_-cLUR7q9w16JwEdX9g",
             "type": "horizontal-heatmap",
             "uid": "KhLNQ75kTDOrTewU8Yv4yA"
            }
           ],
           "whole": []
          },
          "uid": "c4xLMYmkQem72W4Di51fzA"
         }
        ],
        "zoomLocks": {
         "locksByViewUid": {},
         "locksDict": {}
        }
       }
      }
     },
     "9c8c47ad048549a7b514a0d989084edb": {
      "model_module": "higlass-jupyter",
      "model_module_version": "0.4.0",
      "model_name": "HiGlassDisplayModel",
      "state": {
       "_dom_classes": [],
       "_model_data": [],
       "_view_count": null,
       "auth_token": "",
       "bounded": null,
       "cursor_location": [],
       "dark_mode": false,
       "default_track_options": {},
       "dom_element_id": "gruaza",
       "height": 0,
       "layout": "IPY_MODEL_6d0d7737dbc440738d2dc7b540dd41af",
       "location": [
        2097042982,
        2097442982,
        2097241306.6073298,
        2097244657.3926702
       ],
       "options": {},
       "renderer": "",
       "select_mode": false,
       "selection": [],
       "selection_on_alt": false,
       "viewconf": {
        "editable": true,
        "exportViewUrl": "http://higlass.io/api/v1/viewconfs",
        "locationLocks": {
         "locksByViewUid": {},
         "locksDict": {}
        },
        "trackSourceServers": [
         "http://higlass.io/api/v1"
        ],
        "valueScaleLocks": {
         "locksByViewUid": {},
         "locksDict": {}
        },
        "views": [
         {
          "initialXDomain": [
           2097042982,
           2097442982
          ],
          "initialYDomain": [
           2097241306.6073298,
           2097244657.3926702
          ],
          "layout": {
           "h": 6,
           "w": 12,
           "x": 0,
           "y": 0
          },
          "tracks": {
           "bottom": [],
           "center": [],
           "gallery": [],
           "left": [],
           "right": [],
           "top": [
            {
             "height": 30,
             "options": {
              "color": "#808080",
              "fontIsLeftAligned": false,
              "fontSize": 16,
              "mousePositionColor": "#000000",
              "showMousePosition": true,
              "stroke": "#ffffff"
             },
             "server": "http://localhost:60321/api/v1",
             "tilesetUid": "CMsuiFUyR6yjaqRP3PPALg",
             "type": "horizontal-chromosome-labels",
             "uid": "S4Y2rxMgQ1255grICDU9cQ"
            },
            {
             "height": 150,
             "options": {
              "fontSize": 16,
              "geneAnnotationHeight": 12,
              "geneLabelPosition": "outside",
              "geneStrandSpacing": 4,
              "labelBackgroundColor": "#ffffff",
              "labelBottomMargin": 0,
              "labelColor": "black",
              "labelLeftMargin": 0,
              "labelPosition": "hidden",
              "labelRightMargin": 0,
              "labelTopMargin": 0,
              "minHeight": 24,
              "minusStrandColor": "red",
              "mousePositionColor": "#000000",
              "plusStrandColor": "blue",
              "showMousePosition": true,
              "trackBorderColor": "black",
              "trackBorderWidth": 0
             },
             "server": "http://localhost:60321/api/v1",
             "tilesetUid": "CVJU4sjYTEikHt_g6QxMrw",
             "type": "horizontal-gene-annotations",
             "uid": "XxxvIQOzRXqpuMLrEBkYBA"
            }
           ],
           "whole": []
          },
          "uid": "XExeC4_pQRWEKNPb_0hP5A"
         }
        ],
        "zoomLocks": {
         "locksByViewUid": {},
         "locksDict": {}
        }
       }
      }
     },
     "b2b6ca3efe6649f7ac0f17a6fbb70138": {
      "model_module": "@jupyter-widgets/base",
      "model_module_version": "1.2.0",
      "model_name": "LayoutModel",
      "state": {}
     },
     "b932f56193a04f7d88e75e077b3cb2f6": {
      "model_module": "@jupyter-widgets/base",
      "model_module_version": "1.2.0",
      "model_name": "LayoutModel",
      "state": {}
     },
     "c14b91913f6e49d7896ecee16e11e270": {
      "model_module": "higlass-jupyter",
      "model_module_version": "0.4.0",
      "model_name": "HiGlassDisplayModel",
      "state": {
       "_dom_classes": [],
       "_model_data": [],
       "_view_count": null,
       "auth_token": "",
       "bounded": null,
       "cursor_location": [],
       "dark_mode": false,
       "default_track_options": {},
       "dom_element_id": "t0qem3",
       "height": 0,
       "layout": "IPY_MODEL_2fb7bcf94aa64d01a6fe32dd3809902e",
       "location": [
        2227407310,
        2230407310,
        2228454953.979058,
        2229359666.0209427
       ],
       "options": {},
       "renderer": "",
       "select_mode": false,
       "selection": [],
       "selection_on_alt": false,
       "viewconf": {
        "editable": true,
        "exportViewUrl": "http://higlass.io/api/v1/viewconfs",
        "locationLocks": {
         "locksByViewUid": {},
         "locksDict": {}
        },
        "trackSourceServers": [
         "http://higlass.io/api/v1"
        ],
        "valueScaleLocks": {
         "locksByViewUid": {},
         "locksDict": {}
        },
        "views": [
         {
          "initialXDomain": [
           2227407310,
           2230407310
          ],
          "initialYDomain": [
           2228454953.979058,
           2229359666.0209427
          ],
          "layout": {
           "h": 13,
           "w": 12,
           "x": 0,
           "y": 0
          },
          "tracks": {
           "bottom": [],
           "center": [
            {
             "contents": [
              {
               "height": 300,
               "options": {
                "backgroundColor": "#eeeeee",
                "colorRange": [
                 "white",
                 "rgba(245,166,35,1.0)",
                 "rgba(208,2,27,1.0)",
                 "black"
                ],
                "colorbarBackgroundColor": "#ffffff",
                "colorbarPosition": "topRight",
                "extent": "full",
                "heatmapValueScaling": "log",
                "labelBottomMargin": 0,
                "labelLeftMargin": 0,
                "labelPosition": "bottomRight",
                "labelRightMargin": 0,
                "labelShowAssembly": true,
                "labelShowResolution": true,
                "labelTopMargin": 0,
                "maxZoom": "15",
                "minHeight": 100,
                "minWidth": 100,
                "mousePositionColor": "#000000",
                "name": "PCa13848",
                "showMousePosition": true,
                "showTooltip": false,
                "trackBorderColor": "black",
                "trackBorderWidth": 0
               },
               "server": "http://localhost:54321/api/v1",
               "tilesetUid": "BbAPbcAST1q8oGL-L8pang",
               "type": "heatmap",
               "uid": "Gmv4my58QdW7ge_qdKHHCA"
              },
              {
               "options": {
                "flipDiagonal": "none",
                "labelBottomMargin": 0,
                "labelColor": "black",
                "labelLeftMargin": 0,
                "labelPosition": "hidden",
                "labelRightMargin": 0,
                "labelTopMargin": 0,
                "minSquareSize": "none",
                "name": "PCa13848 (w = 10)",
                "rectangleDomainFillColor": "grey",
                "rectangleDomainOpacity": 0.6,
                "rectangleDomainStrokeColor": "black",
                "showMousePosition": true,
                "trackBorderColor": "black",
                "trackBorderWidth": 0
               },
               "server": "http://localhost:54321/api/v1",
               "tilesetUid": "LMvL3l_2S821JGAS__rqKg",
               "type": "2d-rectangle-domains",
               "uid": "YxehYxxFT2aYaHpLWy3xoA"
              }
             ],
             "height": 300,
             "options": {},
             "type": "combined",
             "uid": "H2zaPv8QRdKS8LqSMUuIZA"
            }
           ],
           "gallery": [],
           "left": [],
           "right": [],
           "top": [
            {
             "height": 30,
             "options": {
              "color": "#808080",
              "fontIsLeftAligned": false,
              "fontSize": 16,
              "mousePositionColor": "#000000",
              "showMousePosition": true,
              "stroke": "#ffffff"
             },
             "server": "http://localhost:54321/api/v1",
             "tilesetUid": "CMsuiFUyR6yjaqRP3PPALg",
             "type": "horizontal-chromosome-labels",
             "uid": "S4Y2rxMgQ1255grICDU9cQ"
            },
            {
             "height": 150,
             "options": {
              "fontSize": 16,
              "geneAnnotationHeight": 12,
              "geneLabelPosition": "outside",
              "geneStrandSpacing": 4,
              "labelBackgroundColor": "#ffffff",
              "labelBottomMargin": 0,
              "labelColor": "black",
              "labelLeftMargin": 0,
              "labelPosition": "hidden",
              "labelRightMargin": 0,
              "labelTopMargin": 0,
              "minHeight": 24,
              "minusStrandColor": "red",
              "mousePositionColor": "#000000",
              "plusStrandColor": "blue",
              "showMousePosition": true,
              "trackBorderColor": "black",
              "trackBorderWidth": 0
             },
             "server": "http://localhost:54321/api/v1",
             "tilesetUid": "CVJU4sjYTEikHt_g6QxMrw",
             "type": "horizontal-gene-annotations",
             "uid": "XxxvIQOzRXqpuMLrEBkYBA"
            }
           ],
           "whole": []
          },
          "uid": "DrTTPj04Snefgg347y6TVg"
         }
        ],
        "zoomLocks": {
         "locksByViewUid": {},
         "locksDict": {}
        }
       }
      }
     },
     "d2596b8abbd349f7a2b6200f79bd2741": {
      "model_module": "@jupyter-widgets/base",
      "model_module_version": "1.2.0",
      "model_name": "LayoutModel",
      "state": {}
     },
     "d985354c73064311a325a135f1c02809": {
      "model_module": "higlass-jupyter",
      "model_module_version": "0.4.0",
      "model_name": "HiGlassDisplayModel",
      "state": {
       "_dom_classes": [],
       "_model_data": [],
       "_view_count": null,
       "auth_token": "",
       "bounded": null,
       "cursor_location": [
        -1,
        -1
       ],
       "dark_mode": false,
       "default_track_options": {},
       "dom_element_id": "j6snah",
       "height": 0,
       "layout": "IPY_MODEL_5c414cb023c4442e88441411951da2b9",
       "location": [
        775035865.4593104,
        794314889.3409358,
        1239429077.5603504,
        1251456886.489484
       ],
       "options": {},
       "renderer": "",
       "select_mode": false,
       "selection": [],
       "selection_on_alt": false,
       "viewconf": {
        "editable": true,
        "exportViewUrl": "http://higlass.io/api/v1/viewconfs",
        "locationLocks": {
         "locksByViewUid": {},
         "locksDict": {}
        },
        "trackSourceServers": [
         "http://higlass.io/api/v1"
        ],
        "valueScaleLocks": {
         "locksByViewUid": {},
         "locksDict": {}
        },
        "views": [
         {
          "initialXDomain": [
           775035865.4593104,
           794314889.3409358
          ],
          "initialYDomain": [
           1239429077.5603504,
           1251456886.489484
          ],
          "layout": {
           "h": 21,
           "w": 12,
           "x": 0,
           "y": 0
          },
          "tracks": {
           "bottom": [],
           "center": [
            {
             "contents": [
              {
               "height": 300,
               "options": {
                "backgroundColor": "#eeeeee",
                "colorRange": [
                 "white",
                 "rgba(245,166,35,1.0)",
                 "rgba(208,2,27,1.0)",
                 "black"
                ],
                "colorbarBackgroundColor": "#ffffff",
                "colorbarPosition": "topRight",
                "extent": "full",
                "heatmapValueScaling": "log",
                "labelBottomMargin": 0,
                "labelLeftMargin": 0,
                "labelPosition": "bottomRight",
                "labelRightMargin": 0,
                "labelShowAssembly": true,
                "labelShowResolution": true,
                "labelTopMargin": 0,
                "maxZoom": "15",
                "minHeight": 100,
                "minWidth": 100,
                "mousePositionColor": "#000000",
                "name": "PCa33173",
                "scaleEndPercent": "1.00000",
                "scaleStartPercent": "0.00000",
                "showMousePosition": true,
                "showTooltip": false,
                "trackBorderColor": "black",
                "trackBorderWidth": 0
               },
               "resolutions": [
                1000,
                2000,
                3000,
                4000,
                5000,
                10000,
                20000,
                30000,
                40000,
                50000,
                100000,
                200000,
                300000,
                400000,
                500000,
                1000000,
                2000000,
                3000000,
                4000000,
                5000000
               ],
               "server": "http://localhost:56647/api/v1",
               "tilesetUid": "S9koKd9RT2S0OYenqgvY-Q",
               "transforms": [],
               "type": "heatmap",
               "uid": "ZNuH1qlJRXylbj_M1uy9Ew"
              },
              {
               "options": {
                "flipDiagonal": "none",
                "labelBottomMargin": 0,
                "labelColor": "black",
                "labelLeftMargin": 0,
                "labelPosition": "hidden",
                "labelRightMargin": 0,
                "labelTopMargin": 0,
                "minSquareSize": "none",
                "name": "PCa33173",
                "rectangleDomainFillColor": "grey",
                "rectangleDomainOpacity": 0.6,
                "rectangleDomainStrokeColor": "black",
                "showMousePosition": true,
                "trackBorderColor": "black",
                "trackBorderWidth": 0
               },
               "server": "http://localhost:56647/api/v1",
               "tilesetUid": "IOa4mkfYR-avDQxh7HHwpw",
               "type": "2d-rectangle-domains",
               "uid": "CbZWlDtSQKer0fmsQ_zzNQ"
              }
             ],
             "height": 300,
             "options": {},
             "type": "combined",
             "uid": "RVkQE1vqSJi7i-wFHK2fLA"
            }
           ],
           "gallery": [],
           "left": [
            {
             "options": {
              "color": "#777777",
              "fontIsLeftAligned": false,
              "fontSize": 16,
              "minWidth": 35,
              "mousePositionColor": "#000000",
              "showMousePosition": true,
              "stroke": "#FFFFFF"
             },
             "server": "http://localhost:56647/api/v1",
             "tilesetUid": "CMsuiFUyR6yjaqRP3PPALg",
             "type": "vertical-chromosome-labels",
             "uid": "F83cD5fMR9SZl5QUecmlAg",
             "width": 30
            },
            {
             "height": 418,
             "options": {
              "fontSize": 16,
              "geneAnnoHeight": 12,
              "geneLabelPosition": "outside",
              "geneStrandSpacing": 4,
              "labelBottomMargin": 0,
              "labelColor": "black",
              "labelLeftMargin": 0,
              "labelPosition": "hidden",
              "labelRightMargin": 0,
              "labelTopMargin": 0,
              "minWidth": 24,
              "minusStrandColor": "red",
              "mousePositionColor": "#000000",
              "plusStrandColor": "blue",
              "showMousePosition": true,
              "trackBorderColor": "black",
              "trackBorderWidth": 0
             },
             "server": "http://localhost:56647/api/v1",
             "tilesetUid": "CVJU4sjYTEikHt_g6QxMrw",
             "type": "vertical-gene-annotations",
             "uid": "A8kVGdlAQrOi6-NMifnjew",
             "width": 65
            },
            {
             "options": {
              "colorRange": [
               "white",
               "rgba(245,166,35,1.0)",
               "rgba(208,2,27,1.0)",
               "black"
              ],
              "colorbarPosition": "topRight",
              "labelBottomMargin": 0,
              "labelColor": "black",
              "labelLeftMargin": 0,
              "labelPosition": "bottomRight",
              "labelRightMargin": 0,
              "labelShowAssembly": true,
              "labelShowResolution": true,
              "labelTopMargin": 0,
              "maxZoom": "15",
              "minHeight": 100,
              "minWidth": 50,
              "name": "PCa33173",
              "scaleEndPercent": "1.00000",
              "scaleStartPercent": "0.00000",
              "showMousePosition": true,
              "trackBorderColor": "black",
              "trackBorderWidth": 0
             },
             "resolutions": [
              1000,
              2000,
              3000,
              4000,
              5000,
              10000,
              20000,
              30000,
              40000,
              50000,
              100000,
              200000,
              300000,
              400000,
              500000,
              1000000,
              2000000,
              3000000,
              4000000,
              5000000
             ],
             "server": "http://localhost:56647/api/v1",
             "tilesetUid": "S9koKd9RT2S0OYenqgvY-Q",
             "transforms": [],
             "type": "vertical-heatmap",
             "uid": "Y0SFkPEaRaiNgZTFS3Gguw",
             "width": 150
            },
            {
             "aggregationModes": {
              "max": {
               "name": "Max",
               "value": "max"
              },
              "mean": {
               "name": "Mean",
               "value": "mean"
              },
              "min": {
               "name": "Min",
               "value": "min"
              },
              "std": {
               "name": "Standard Deviation",
               "value": "std"
              }
             },
             "options": {
              "axisLabelFormatting": "scientific",
              "axisPositionVertical": "top",
              "labelBottomMargin": 0,
              "labelColor": "black",
              "labelLeftMargin": 0,
              "labelPosition": "bottomLeft",
              "labelRightMargin": 0,
              "labelShowAssembly": true,
              "labelShowResolution": false,
              "labelTextOpacity": 0.4,
              "labelTopMargin": 0,
              "lineStrokeColor": "blue",
              "lineStrokeWidth": 1,
              "mousePositionColor": "#000000",
              "name": "PCa33173",
              "showMousePosition": true,
              "showTooltip": false,
              "trackBorderColor": "black",
              "trackBorderWidth": 0,
              "valueScaling": "linear"
             },
             "server": "http://localhost:56647/api/v1",
             "tilesetUid": "H5lC8X42RCG2CZv9odjF6w",
             "type": "vertical-line",
             "uid": "IHLeCKfwQY2baf4KBiABQw",
             "width": 20
            },
            {
             "options": {
              "alternating": false,
              "annotationHeight": 16,
              "annotationStyle": "box",
              "axisPositionHorizontal": "right",
              "colorEncoding": false,
              "colorEncodingRange": false,
              "colorRange": [
               "#000000",
               "#652537",
               "#bf5458",
               "#fba273",
               "#ffffe0"
              ],
              "fillColor": "blue",
              "labelBottomMargin": 0,
              "labelColor": "black",
              "labelLeftMargin": 0,
              "labelPosition": "hidden",
              "labelRightMargin": 0,
              "labelTopMargin": 0,
              "minHeight": 20,
              "name": "PCa33173",
              "showMousePosition": true,
              "showTexts": false,
              "trackBorderColor": "black",
              "trackBorderWidth": 0,
              "valueColumn": null
             },
             "server": "http://localhost:56647/api/v1",
             "tilesetUid": "No5iIzeOSUCE2-LfOXd-2A",
             "type": "bedlike",
             "uid": "FIY-Vcy1QEeuGpPlkNVsUw",
             "width": 20
            }
           ],
           "right": [],
           "top": [
            {
             "height": 30,
             "options": {
              "color": "#808080",
              "fontIsLeftAligned": false,
              "fontSize": 16,
              "mousePositionColor": "#000000",
              "showMousePosition": true,
              "stroke": "#ffffff"
             },
             "server": "http://localhost:56647/api/v1",
             "tilesetUid": "CMsuiFUyR6yjaqRP3PPALg",
             "type": "horizontal-chromosome-labels",
             "uid": "S4Y2rxMgQ1255grICDU9cQ"
            },
            {
             "height": 150,
             "options": {
              "fontSize": 16,
              "geneAnnotationHeight": 12,
              "geneLabelPosition": "outside",
              "geneStrandSpacing": 4,
              "labelBackgroundColor": "#ffffff",
              "labelBottomMargin": 0,
              "labelColor": "black",
              "labelLeftMargin": 0,
              "labelPosition": "hidden",
              "labelRightMargin": 0,
              "labelTopMargin": 0,
              "minHeight": 24,
              "minusStrandColor": "red",
              "mousePositionColor": "#000000",
              "plusStrandColor": "blue",
              "showMousePosition": true,
              "trackBorderColor": "black",
              "trackBorderWidth": 0
             },
             "server": "http://localhost:56647/api/v1",
             "tilesetUid": "CVJU4sjYTEikHt_g6QxMrw",
             "type": "horizontal-gene-annotations",
             "uid": "XxxvIQOzRXqpuMLrEBkYBA"
            },
            {
             "height": 150,
             "options": {
              "backgroundColor": "#eeeeee",
              "colorRange": [
               "white",
               "rgba(245,166,35,1.0)",
               "rgba(208,2,27,1.0)",
               "black"
              ],
              "colorbarPosition": "topRight",
              "labelBottomMargin": 0,
              "labelColor": "black",
              "labelLeftMargin": 0,
              "labelPosition": "bottomRight",
              "labelRightMargin": 0,
              "labelShowAssembly": true,
              "labelShowResolution": true,
              "labelTopMargin": 0,
              "maxZoom": "15",
              "minHeight": 40,
              "minWidth": 100,
              "name": "PCa33173",
              "scaleEndPercent": "1.00000",
              "scaleStartPercent": "0.00000",
              "showMousePosition": true,
              "trackBorderColor": "black",
              "trackBorderWidth": 0
             },
             "resolutions": [
              1000,
              2000,
              3000,
              4000,
              5000,
              10000,
              20000,
              30000,
              40000,
              50000,
              100000,
              200000,
              300000,
              400000,
              500000,
              1000000,
              2000000,
              3000000,
              4000000,
              5000000
             ],
             "server": "http://localhost:56647/api/v1",
             "tilesetUid": "S9koKd9RT2S0OYenqgvY-Q",
             "transforms": [],
             "type": "horizontal-heatmap",
             "uid": "Ra9_6fFITFaRwa4Aa6k8VA"
            },
            {
             "aggregationModes": {
              "max": {
               "name": "Max",
               "value": "max"
              },
              "mean": {
               "name": "Mean",
               "value": "mean"
              },
              "min": {
               "name": "Min",
               "value": "min"
              },
              "std": {
               "name": "Standard Deviation",
               "value": "std"
              }
             },
             "height": 20,
             "options": {
              "axisLabelFormatting": "scientific",
              "axisPositionHorizontal": "right",
              "labelBackgroundColor": "white",
              "labelBottomMargin": 0,
              "labelColor": "black",
              "labelLeftMargin": 0,
              "labelPosition": "topLeft",
              "labelRightMargin": 0,
              "labelShowAssembly": true,
              "labelShowResolution": false,
              "labelTextOpacity": 0.4,
              "labelTopMargin": 0,
              "lineStrokeColor": "blue",
              "lineStrokeWidth": 1,
              "minHeight": 20,
              "mousePositionColor": "#000000",
              "name": "PCa33173",
              "showMousePosition": true,
              "showTooltip": false,
              "trackBorderColor": "black",
              "trackBorderWidth": 0,
              "valueScaling": "linear"
             },
             "server": "http://localhost:56647/api/v1",
             "tilesetUid": "H5lC8X42RCG2CZv9odjF6w",
             "type": "horizontal-line",
             "uid": "anJxMhGWS3GqPTTcWUkP2A"
            },
            {
             "height": 20,
             "options": {
              "alternating": false,
              "annotationHeight": 16,
              "annotationStyle": "box",
              "axisPositionHorizontal": "right",
              "colorEncoding": false,
              "colorEncodingRange": false,
              "colorRange": [
               "#000000",
               "#652537",
               "#bf5458",
               "#fba273",
               "#ffffe0"
              ],
              "fillColor": "blue",
              "labelBottomMargin": 0,
              "labelColor": "black",
              "labelLeftMargin": 0,
              "labelPosition": "hidden",
              "labelRightMargin": 0,
              "labelTopMargin": 0,
              "minHeight": 20,
              "name": "PCa33173",
              "showMousePosition": true,
              "showTexts": false,
              "trackBorderColor": "black",
              "trackBorderWidth": 0,
              "valueColumn": null
             },
             "server": "http://localhost:56647/api/v1",
             "tilesetUid": "No5iIzeOSUCE2-LfOXd-2A",
             "type": "bedlike",
             "uid": "MlezUJ8TQ7mdqfEqSxdvvQ"
            }
           ],
           "whole": []
          },
          "uid": "Qp7M4O1_SMm3Z-J_xx8Fyw"
         }
        ],
        "zoomLocks": {
         "locksByViewUid": {},
         "locksDict": {}
        }
       }
      }
     },
     "efd835d327974ccea84c58e01b958e1c": {
      "model_module": "higlass-jupyter",
      "model_module_version": "0.4.0",
      "model_name": "HiGlassDisplayModel",
      "state": {
       "_dom_classes": [],
       "_model_data": [],
       "_view_count": null,
       "auth_token": "",
       "bounded": null,
       "cursor_location": [],
       "dark_mode": false,
       "default_track_options": {},
       "dom_element_id": "tdeoq6",
       "height": 0,
       "layout": "IPY_MODEL_3a98ccb10ec744f796c9deec4f98456c",
       "location": [
        2807633280.4240837,
        2825312861.575916,
        2816473071,
        2816473071
       ],
       "options": {},
       "renderer": "",
       "select_mode": false,
       "selection": [],
       "selection_on_alt": false,
       "viewconf": {
        "editable": true,
        "exportViewUrl": "http://higlass.io/api/v1/viewconfs",
        "locationLocks": {
         "locksByViewUid": {},
         "locksDict": {}
        },
        "trackSourceServers": [
         "http://higlass.io/api/v1"
        ],
        "valueScaleLocks": {
         "locksByViewUid": {},
         "locksDict": {}
        },
        "views": [
         {
          "initialXDomain": [
           2807633280.4240837,
           2825312861.575916
          ],
          "initialYDomain": [
           2816473071,
           2816473071
          ],
          "layout": {
           "h": 73,
           "w": 12,
           "x": 0,
           "y": 0
          },
          "tracks": {
           "bottom": [],
           "center": [],
           "gallery": [],
           "left": [],
           "right": [],
           "top": [
            {
             "height": 30,
             "options": {
              "color": "#808080",
              "fontIsLeftAligned": false,
              "fontSize": 16,
              "mousePositionColor": "#000000",
              "showMousePosition": true,
              "stroke": "#ffffff"
             },
             "server": "http://localhost:42979/api/v1",
             "tilesetUid": "CMsuiFUyR6yjaqRP3PPALg",
             "type": "horizontal-chromosome-labels",
             "uid": "S4Y2rxMgQ1255grICDU9cQ"
            },
            {
             "height": 150,
             "options": {
              "fontSize": 16,
              "geneAnnotationHeight": 12,
              "geneLabelPosition": "outside",
              "geneStrandSpacing": 4,
              "labelBackgroundColor": "#ffffff",
              "labelBottomMargin": 0,
              "labelColor": "black",
              "labelLeftMargin": 0,
              "labelPosition": "hidden",
              "labelRightMargin": 0,
              "labelTopMargin": 0,
              "minHeight": 24,
              "minusStrandColor": "red",
              "mousePositionColor": "#000000",
              "plusStrandColor": "blue",
              "showMousePosition": true,
              "trackBorderColor": "black",
              "trackBorderWidth": 0
             },
             "server": "http://localhost:42979/api/v1",
             "tilesetUid": "CVJU4sjYTEikHt_g6QxMrw",
             "type": "horizontal-gene-annotations",
             "uid": "XxxvIQOzRXqpuMLrEBkYBA"
            },
            {
             "height": 150,
             "options": {
              "backgroundColor": "#eeeeee",
              "colorRange": [
               "white",
               "rgba(245,166,35,1.0)",
               "rgba(208,2,27,1.0)",
               "black"
              ],
              "colorbarPosition": "topRight",
              "labelBottomMargin": 0,
              "labelColor": "black",
              "labelLeftMargin": 0,
              "labelPosition": "bottomRight",
              "labelRightMargin": 0,
              "labelShowAssembly": true,
              "labelShowResolution": true,
              "labelTopMargin": 0,
              "maxZoom": "15",
              "minHeight": 40,
              "minWidth": 100,
              "name": "PCa13848",
              "showMousePosition": true,
              "trackBorderColor": "black",
              "trackBorderWidth": 0
             },
             "server": "http://localhost:42979/api/v1",
             "tilesetUid": "BbAPbcAST1q8oGL-L8pang",
             "type": "horizontal-heatmap",
             "uid": "eY39cbJ3RUuxjdFvsx8jiA"
            },
            {
             "height": 150,
             "options": {
              "backgroundColor": "#eeeeee",
              "colorRange": [
               "white",
               "rgba(245,166,35,1.0)",
               "rgba(208,2,27,1.0)",
               "black"
              ],
              "colorbarPosition": "topRight",
              "labelBottomMargin": 0,
              "labelColor": "black",
              "labelLeftMargin": 0,
              "labelPosition": "bottomRight",
              "labelRightMargin": 0,
              "labelShowAssembly": true,
              "labelShowResolution": true,
              "labelTopMargin": 0,
              "maxZoom": "15",
              "minHeight": 40,
              "minWidth": 100,
              "name": "PCa19121",
              "showMousePosition": true,
              "trackBorderColor": "black",
              "trackBorderWidth": 0
             },
             "server": "http://localhost:42979/api/v1",
             "tilesetUid": "R035sMOYSceQf26wr5lm7w",
             "type": "horizontal-heatmap",
             "uid": "Hi_qdQtqS1quPknrA8NNlw"
            },
            {
             "height": 150,
             "options": {
              "backgroundColor": "#eeeeee",
              "colorRange": [
               "white",
               "rgba(245,166,35,1.0)",
               "rgba(208,2,27,1.0)",
               "black"
              ],
              "colorbarPosition": "topRight",
              "labelBottomMargin": 0,
              "labelColor": "black",
              "labelLeftMargin": 0,
              "labelPosition": "bottomRight",
              "labelRightMargin": 0,
              "labelShowAssembly": true,
              "labelShowResolution": true,
              "labelTopMargin": 0,
              "maxZoom": "15",
              "minHeight": 40,
              "minWidth": 100,
              "name": "PCa3023",
              "showMousePosition": true,
              "trackBorderColor": "black",
              "trackBorderWidth": 0
             },
             "server": "http://localhost:42979/api/v1",
             "tilesetUid": "NqxpnLYDRuSZPxWAFsO66g",
             "type": "horizontal-heatmap",
             "uid": "VJ7U4z5oQ2GU8ENcREqOGQ"
            },
            {
             "height": 150,
             "options": {
              "backgroundColor": "#eeeeee",
              "colorRange": [
               "white",
               "rgba(245,166,35,1.0)",
               "rgba(208,2,27,1.0)",
               "black"
              ],
              "colorbarPosition": "topRight",
              "labelBottomMargin": 0,
              "labelColor": "black",
              "labelLeftMargin": 0,
              "labelPosition": "bottomRight",
              "labelRightMargin": 0,
              "labelShowAssembly": true,
              "labelShowResolution": true,
              "labelTopMargin": 0,
              "maxZoom": "15",
              "minHeight": 40,
              "minWidth": 100,
              "name": "PCa40507",
              "showMousePosition": true,
              "trackBorderColor": "black",
              "trackBorderWidth": 0
             },
             "server": "http://localhost:42979/api/v1",
             "tilesetUid": "DYAWQOsYSg-OQjXnT5UEMQ",
             "type": "horizontal-heatmap",
             "uid": "UHlJqaIQT5qFNq1nH9EH9Q"
            },
            {
             "height": 150,
             "options": {
              "backgroundColor": "#eeeeee",
              "colorRange": [
               "white",
               "rgba(245,166,35,1.0)",
               "rgba(208,2,27,1.0)",
               "black"
              ],
              "colorbarPosition": "topRight",
              "labelBottomMargin": 0,
              "labelColor": "black",
              "labelLeftMargin": 0,
              "labelPosition": "bottomRight",
              "labelRightMargin": 0,
              "labelShowAssembly": true,
              "labelShowResolution": true,
              "labelTopMargin": 0,
              "maxZoom": "15",
              "minHeight": 40,
              "minWidth": 100,
              "name": "PCa51852",
              "showMousePosition": true,
              "trackBorderColor": "black",
              "trackBorderWidth": 0
             },
             "server": "http://localhost:42979/api/v1",
             "tilesetUid": "U9Ex8WMEQWaEs2dQVec0yg",
             "type": "horizontal-heatmap",
             "uid": "TEtkw3dxThq_049qEqYZ7Q"
            },
            {
             "height": 150,
             "options": {
              "backgroundColor": "#eeeeee",
              "colorRange": [
               "white",
               "rgba(245,166,35,1.0)",
               "rgba(208,2,27,1.0)",
               "black"
              ],
              "colorbarPosition": "topRight",
              "labelBottomMargin": 0,
              "labelColor": "black",
              "labelLeftMargin": 0,
              "labelPosition": "bottomRight",
              "labelRightMargin": 0,
              "labelShowAssembly": true,
              "labelShowResolution": true,
              "labelTopMargin": 0,
              "maxZoom": "15",
              "minHeight": 40,
              "minWidth": 100,
              "name": "PCa56413",
              "showMousePosition": true,
              "trackBorderColor": "black",
              "trackBorderWidth": 0
             },
             "server": "http://localhost:42979/api/v1",
             "tilesetUid": "Ki4mnmMoSKy5gyB_Wkyh3w",
             "type": "horizontal-heatmap",
             "uid": "bLyjunCLTOyyTxIoDMcsJQ"
            },
            {
             "height": 150,
             "options": {
              "backgroundColor": "#eeeeee",
              "colorRange": [
               "white",
               "rgba(245,166,35,1.0)",
               "rgba(208,2,27,1.0)",
               "black"
              ],
              "colorbarPosition": "topRight",
              "labelBottomMargin": 0,
              "labelColor": "black",
              "labelLeftMargin": 0,
              "labelPosition": "bottomRight",
              "labelRightMargin": 0,
              "labelShowAssembly": true,
              "labelShowResolution": true,
              "labelTopMargin": 0,
              "maxZoom": "15",
              "minHeight": 40,
              "minWidth": 100,
              "name": "PCa57054",
              "showMousePosition": true,
              "trackBorderColor": "black",
              "trackBorderWidth": 0
             },
             "server": "http://localhost:42979/api/v1",
             "tilesetUid": "JJvSTGq1TsqR6Mu-yB3yww",
             "type": "horizontal-heatmap",
             "uid": "UB_h-SArQ_W9Ch_CE6MsmQ"
            },
            {
             "height": 150,
             "options": {
              "backgroundColor": "#eeeeee",
              "colorRange": [
               "white",
               "rgba(245,166,35,1.0)",
               "rgba(208,2,27,1.0)",
               "black"
              ],
              "colorbarPosition": "topRight",
              "labelBottomMargin": 0,
              "labelColor": "black",
              "labelLeftMargin": 0,
              "labelPosition": "bottomRight",
              "labelRightMargin": 0,
              "labelShowAssembly": true,
              "labelShowResolution": true,
              "labelTopMargin": 0,
              "maxZoom": "15",
              "minHeight": 40,
              "minWidth": 100,
              "name": "PCa13266",
              "showMousePosition": true,
              "trackBorderColor": "black",
              "trackBorderWidth": 0
             },
             "server": "http://localhost:42979/api/v1",
             "tilesetUid": "CQ4OqxHHRpWqW0bWnR_95g",
             "type": "horizontal-heatmap",
             "uid": "NjD8ljW2Tu62N89hp8NsyA"
            },
            {
             "height": 150,
             "options": {
              "backgroundColor": "#eeeeee",
              "colorRange": [
               "white",
               "rgba(245,166,35,1.0)",
               "rgba(208,2,27,1.0)",
               "black"
              ],
              "colorbarPosition": "topRight",
              "labelBottomMargin": 0,
              "labelColor": "black",
              "labelLeftMargin": 0,
              "labelPosition": "bottomRight",
              "labelRightMargin": 0,
              "labelShowAssembly": true,
              "labelShowResolution": true,
              "labelTopMargin": 0,
              "maxZoom": "15",
              "minHeight": 40,
              "minWidth": 100,
              "name": "PCa14121",
              "showMousePosition": true,
              "trackBorderColor": "black",
              "trackBorderWidth": 0
             },
             "server": "http://localhost:42979/api/v1",
             "tilesetUid": "Wmj7v367QziMRlWFMWdzWw",
             "type": "horizontal-heatmap",
             "uid": "EK11NdFCT8imcFVleqsJSA"
            },
            {
             "height": 150,
             "options": {
              "backgroundColor": "#eeeeee",
              "colorRange": [
               "white",
               "rgba(245,166,35,1.0)",
               "rgba(208,2,27,1.0)",
               "black"
              ],
              "colorbarPosition": "topRight",
              "labelBottomMargin": 0,
              "labelColor": "black",
              "labelLeftMargin": 0,
              "labelPosition": "bottomRight",
              "labelRightMargin": 0,
              "labelShowAssembly": true,
              "labelShowResolution": true,
              "labelTopMargin": 0,
              "maxZoom": "15",
              "minHeight": 40,
              "minWidth": 100,
              "name": "PCa33173",
              "showMousePosition": true,
              "trackBorderColor": "black",
              "trackBorderWidth": 0
             },
             "server": "http://localhost:42979/api/v1",
             "tilesetUid": "R_2HBkduTYCenDUWv5LMQA",
             "type": "horizontal-heatmap",
             "uid": "QyZj1DtjRkmWvBx93hIz5w"
            },
            {
             "height": 150,
             "options": {
              "backgroundColor": "#eeeeee",
              "colorRange": [
               "white",
               "rgba(245,166,35,1.0)",
               "rgba(208,2,27,1.0)",
               "black"
              ],
              "colorbarPosition": "topRight",
              "labelBottomMargin": 0,
              "labelColor": "black",
              "labelLeftMargin": 0,
              "labelPosition": "bottomRight",
              "labelRightMargin": 0,
              "labelShowAssembly": true,
              "labelShowResolution": true,
              "labelTopMargin": 0,
              "maxZoom": "15",
              "minHeight": 40,
              "minWidth": 100,
              "name": "PCa53687",
              "showMousePosition": true,
              "trackBorderColor": "black",
              "trackBorderWidth": 0
             },
             "server": "http://localhost:42979/api/v1",
             "tilesetUid": "OCA9e7vPQ4ymmJeXUBRdhA",
             "type": "horizontal-heatmap",
             "uid": "cQvjLIgnTr-eGwCa9F3ZNg"
            },
            {
             "height": 150,
             "options": {
              "backgroundColor": "#eeeeee",
              "colorRange": [
               "white",
               "rgba(245,166,35,1.0)",
               "rgba(208,2,27,1.0)",
               "black"
              ],
              "colorbarPosition": "topRight",
              "labelBottomMargin": 0,
              "labelColor": "black",
              "labelLeftMargin": 0,
              "labelPosition": "bottomRight",
              "labelRightMargin": 0,
              "labelShowAssembly": true,
              "labelShowResolution": true,
              "labelTopMargin": 0,
              "maxZoom": "15",
              "minHeight": 40,
              "minWidth": 100,
              "name": "PCa57294",
              "showMousePosition": true,
              "trackBorderColor": "black",
              "trackBorderWidth": 0
             },
             "server": "http://localhost:42979/api/v1",
             "tilesetUid": "V4H5L6FvSGmQrHyurUus6w",
             "type": "horizontal-heatmap",
             "uid": "bGDxm87sSP2k-M4oWr0anA"
            },
            {
             "height": 150,
             "options": {
              "backgroundColor": "#eeeeee",
              "colorRange": [
               "white",
               "rgba(245,166,35,1.0)",
               "rgba(208,2,27,1.0)",
               "black"
              ],
              "colorbarPosition": "topRight",
              "labelBottomMargin": 0,
              "labelColor": "black",
              "labelLeftMargin": 0,
              "labelPosition": "bottomRight",
              "labelRightMargin": 0,
              "labelShowAssembly": true,
              "labelShowResolution": true,
              "labelTopMargin": 0,
              "maxZoom": "15",
              "minHeight": 40,
              "minWidth": 100,
              "name": "PCa58215",
              "showMousePosition": true,
              "trackBorderColor": "black",
              "trackBorderWidth": 0
             },
             "server": "http://localhost:42979/api/v1",
             "tilesetUid": "LSYUjN0DR_um2PfQ4RYeEA",
             "type": "horizontal-heatmap",
             "uid": "LacJLpf0QqyYuln92tEnJg"
            },
            {
             "height": 150,
             "options": {
              "backgroundColor": "#eeeeee",
              "colorRange": [
               "white",
               "rgba(245,166,35,1.0)",
               "rgba(208,2,27,1.0)",
               "black"
              ],
              "colorbarPosition": "topRight",
              "labelBottomMargin": 0,
              "labelColor": "black",
              "labelLeftMargin": 0,
              "labelPosition": "bottomRight",
              "labelRightMargin": 0,
              "labelShowAssembly": true,
              "labelShowResolution": true,
              "labelTopMargin": 0,
              "maxZoom": "15",
              "minHeight": 40,
              "minWidth": 100,
              "name": "Benign-Prostate-1648133",
              "showMousePosition": true,
              "trackBorderColor": "black",
              "trackBorderWidth": 0
             },
             "server": "http://localhost:42979/api/v1",
             "tilesetUid": "bp7qe5hlTuWnWUXfC3eABQ",
             "type": "horizontal-heatmap",
             "uid": "fF8klEb-Squ5DdqdiKj6AQ"
            },
            {
             "height": 150,
             "options": {
              "backgroundColor": "#eeeeee",
              "colorRange": [
               "white",
               "rgba(245,166,35,1.0)",
               "rgba(208,2,27,1.0)",
               "black"
              ],
              "colorbarPosition": "topRight",
              "labelBottomMargin": 0,
              "labelColor": "black",
              "labelLeftMargin": 0,
              "labelPosition": "bottomRight",
              "labelRightMargin": 0,
              "labelShowAssembly": true,
              "labelShowResolution": true,
              "labelTopMargin": 0,
              "maxZoom": "15",
              "minHeight": 40,
              "minWidth": 100,
              "name": "Benign-Prostate-1595983",
              "showMousePosition": true,
              "trackBorderColor": "black",
              "trackBorderWidth": 0
             },
             "server": "http://localhost:42979/api/v1",
             "tilesetUid": "FivjvBeoRAmI3tggwMLWDw",
             "type": "horizontal-heatmap",
             "uid": "fjp9rrMVSfyr8DhPs2ZaVg"
            },
            {
             "height": 150,
             "options": {
              "backgroundColor": "#eeeeee",
              "colorRange": [
               "white",
               "rgba(245,166,35,1.0)",
               "rgba(208,2,27,1.0)",
               "black"
              ],
              "colorbarPosition": "topRight",
              "labelBottomMargin": 0,
              "labelColor": "black",
              "labelLeftMargin": 0,
              "labelPosition": "bottomRight",
              "labelRightMargin": 0,
              "labelShowAssembly": true,
              "labelShowResolution": true,
              "labelTopMargin": 0,
              "maxZoom": "15",
              "minHeight": 40,
              "minWidth": 100,
              "name": "Benign-Prostate-3330581",
              "showMousePosition": true,
              "trackBorderColor": "black",
              "trackBorderWidth": 0
             },
             "server": "http://localhost:42979/api/v1",
             "tilesetUid": "JaVFVbK0SNmMG_PFeSik9A",
             "type": "horizontal-heatmap",
             "uid": "fKv3QoiQSE2Us6mLVJo5ZA"
            },
            {
             "height": 150,
             "options": {
              "backgroundColor": "#eeeeee",
              "colorRange": [
               "white",
               "rgba(245,166,35,1.0)",
               "rgba(208,2,27,1.0)",
               "black"
              ],
              "colorbarPosition": "topRight",
              "labelBottomMargin": 0,
              "labelColor": "black",
              "labelLeftMargin": 0,
              "labelPosition": "bottomRight",
              "labelRightMargin": 0,
              "labelShowAssembly": true,
              "labelShowResolution": true,
              "labelTopMargin": 0,
              "maxZoom": "15",
              "minHeight": 40,
              "minWidth": 100,
              "name": "Benign-Prostate-1664855",
              "showMousePosition": true,
              "trackBorderColor": "black",
              "trackBorderWidth": 0
             },
             "server": "http://localhost:42979/api/v1",
             "tilesetUid": "XsWytOnMRCuKsWeUoKFDlg",
             "type": "horizontal-heatmap",
             "uid": "YleGk1a2S7WNFFq9MI5KHg"
            },
            {
             "height": 150,
             "options": {
              "backgroundColor": "#eeeeee",
              "colorRange": [
               "white",
               "rgba(245,166,35,1.0)",
               "rgba(208,2,27,1.0)",
               "black"
              ],
              "colorbarPosition": "topRight",
              "labelBottomMargin": 0,
              "labelColor": "black",
              "labelLeftMargin": 0,
              "labelPosition": "bottomRight",
              "labelRightMargin": 0,
              "labelShowAssembly": true,
              "labelShowResolution": true,
              "labelTopMargin": 0,
              "maxZoom": "15",
              "minHeight": 40,
              "minWidth": 100,
              "name": "Benign-Prostate-3320942",
              "showMousePosition": true,
              "trackBorderColor": "black",
              "trackBorderWidth": 0
             },
             "server": "http://localhost:42979/api/v1",
             "tilesetUid": "fCv_-cLUR7q9w16JwEdX9g",
             "type": "horizontal-heatmap",
             "uid": "KhLNQ75kTDOrTewU8Yv4yA"
            }
           ],
           "whole": []
          },
          "uid": "DtPer0D6QTqRdGlBPZHjqA"
         }
        ],
        "zoomLocks": {
         "locksByViewUid": {},
         "locksDict": {}
        }
       }
      }
     }
    },
    "version_major": 2,
    "version_minor": 0
   }
  }
 },
 "nbformat": 4,
 "nbformat_minor": 4
}
