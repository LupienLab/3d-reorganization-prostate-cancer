{
 "cells": [
  {
   "cell_type": "markdown",
   "metadata": {},
   "source": [
    "# Environment"
   ]
  },
  {
   "cell_type": "code",
   "execution_count": 25,
   "metadata": {},
   "outputs": [],
   "source": [
    "import higlass\n",
    "from higlass.client import View, Track, CombinedTrack\n",
    "from higlass.tilesets import cooler, beddb\n",
    "import os\n",
    "import os.path as path\n",
    "import pandas as pd\n",
    "import negspy.coordinates as nc\n",
    "import numpy as np"
   ]
  },
  {
   "cell_type": "markdown",
   "metadata": {},
   "source": [
    "# Data\n",
    "## Load annotations"
   ]
  },
  {
   "cell_type": "code",
   "execution_count": 26,
   "metadata": {},
   "outputs": [],
   "source": [
    "# load annotations\n",
    "chrom_labels = {\n",
    "    \"top\": Track(\n",
    "        track_type=\"horizontal-chromosome-labels\",\n",
    "        server=\"http://higlass.io/api/v1\",\n",
    "        tileset_uuid=\"NyITQvZsS_mOFNlz5C2LJg\",\n",
    "        position=\"top\"\n",
    "    ),\n",
    "    \"left\": Track(\n",
    "        track_type=\"vertical-chromosome-labels\",\n",
    "        server=\"http://higlass.io/api/v1\",\n",
    "        tileset_uuid=\"NyITQvZsS_mOFNlz5C2LJg\",\n",
    "        position=\"left\"\n",
    "    )\n",
    "}\n",
    "\n",
    "gene_annots = {\n",
    "    \"top\": Track(\n",
    "        track_type=\"horizontal-gene-annotations\",\n",
    "        server=\"http://higlass.io/api/v1\",\n",
    "        tileset_uuid=\"P0PLbQMwTYGy-5uPIQid7A\",\n",
    "        position=\"top\"\n",
    "    ),\n",
    "    \"left\": Track(\n",
    "        track_type=\"vertical-gene-annotations\",\n",
    "        server=\"http://higlass.io/api/v1\",\n",
    "        tileset_uuid=\"P0PLbQMwTYGy-5uPIQid7A\",\n",
    "        position=\"left\"\n",
    "    )\n",
    "}\n",
    "\n",
    "ctcf_motifs = {\n",
    "    \"top\": Track(\n",
    "        track_type=\"bedlike\",\n",
    "        server=\"http://higlass.io/api/v1\",\n",
    "        tileset_uuid=\"EkPGY0iFQx6Nq6vdF8CpWA\",\n",
    "        position=\"top\"\n",
    "    ),\n",
    "    \"left\": Track(\n",
    "        track_type=\"bedlike\",\n",
    "        server=\"http://higlass.io/api/v1\",\n",
    "        tileset_uuid=\"EkPGY0iFQx6Nq6vdF8CpWA\",\n",
    "        position=\"left\"\n",
    "    )\n",
    "}\n",
    "\n",
    "hg38 = nc.get_chrominfo(\"hg38\")"
   ]
  },
  {
   "cell_type": "markdown",
   "metadata": {},
   "source": [
    "## Load contact matrices"
   ]
  },
  {
   "cell_type": "code",
   "execution_count": 27,
   "metadata": {},
   "outputs": [],
   "source": [
    "metadata = pd.read_csv(path.join(\"..\", \"..\", \"Data\", \"External\", \"LowC_Samples_Data_Available.tsv\"), sep=\"\\t\", header=0)\n",
    "samples = [\"PCa\" + str(i) for i in metadata[\"Sample ID\"].tolist()]\n",
    "cooler_files = [path.join(\"..\", \"..\", \"Data\", \"Processed\", \"2019-06-18_PCa-LowC-sequencing\", \"Contacts\", s + \".mcool\") for s in samples]\n",
    "lowc_tilesets = {s: cooler(f) for s, f in zip(samples, cooler_files)}\n",
    "\n",
    "resolutions = [\n",
    "    1000, 2000, 3000, 4000, 5000,\n",
    "    10000, 20000, 30000, 40000, 50000,\n",
    "    100000, 200000, 300000, 400000, 500000,\n",
    "    1000000, 2000000, 3000000, 4000000, 5000000\n",
    "][::-1]\n",
    "\n",
    "lowc_heatmaps = {\n",
    "    s: {\n",
    "        \"top\": Track(\n",
    "            track_type='horizontal-heatmap',\n",
    "            position='top',\n",
    "            tileset=lowc_tilesets[s],\n",
    "            filetype=\"cooler\",\n",
    "            height=150,\n",
    "            options={\n",
    "                \"maxZoom\": str(resolutions.index(10000)),\n",
    "                \"colorbarPosition\": \"topRight\"\n",
    "            }\n",
    "        ),\n",
    "        \"bottom\": Track(\n",
    "            track_type='horizontal-heatmap',\n",
    "            position='bottom',\n",
    "            tileset=lowc_tilesets[s],\n",
    "            filetype=\"cooler\",\n",
    "            height=150,\n",
    "            options={\n",
    "                \"maxZoom\": str(resolutions.index(10000)),\n",
    "                \"colorbarPosition\": \"topRight\"\n",
    "            }\n",
    "        ),\n",
    "        \"left\": Track(\n",
    "            track_type='vertical-heatmap',\n",
    "            position='left',\n",
    "            tileset=lowc_tilesets[s],\n",
    "            filetype=\"cooler\",\n",
    "            width=150,\n",
    "            options={\n",
    "                \"maxZoom\": str(resolutions.index(10000))\n",
    "            }\n",
    "        ),\n",
    "        \"right\": Track(\n",
    "            track_type='vertical-heatmap',\n",
    "            position='right',\n",
    "            tileset=lowc_tilesets[s],\n",
    "            filetype=\"cooler\",\n",
    "            width=150,\n",
    "            options={\n",
    "                \"maxZoom\": str(resolutions.index(10000))\n",
    "            }\n",
    "        ),\n",
    "        \"centre\": Track(\n",
    "            track_type='heatmap',\n",
    "            position='center',\n",
    "            tileset=lowc_tilesets[s],\n",
    "            filetype=\"cooler\",\n",
    "            height=500,\n",
    "            options={\n",
    "                \"maxZoom\": str(resolutions.index(10000))\n",
    "            }\n",
    "        )\n",
    "    } for s in samples\n",
    "}"
   ]
  },
  {
   "cell_type": "markdown",
   "metadata": {},
   "source": [
    "## Load TADs"
   ]
  },
  {
   "cell_type": "code",
   "execution_count": 55,
   "metadata": {},
   "outputs": [],
   "source": [
    "windows = list(range(3, 31))\n",
    "\n",
    "tad_files = {s: {w: path.join(\"..\", \"2020-01-15_TAD-aggregation\", \"resolved-TADs\", \"separated-TADs\", s + \".40000bp.w_\" + str(w) + \".domains.beddb\") for w in windows} for s in samples}\n",
    "htad_files = {s: path.join(\"..\", \"2020-01-15_TAD-aggregation\", \"resolved-TADs\", s + \".40000bp.aggregated-domains.bed2ddb\") for s in samples}\n",
    "tad_tilesets = {s: {w: beddb(v[w], name=s + \" TADs (w=\" + str(w) +\")\") for w in windows} for s, v in tad_files.items()}\n",
    "\n",
    "tads = {\n",
    "    s: {\n",
    "        w: {\n",
    "           \"top\": Track(\n",
    "                track_type=\"bedlike\",\n",
    "                position='top',\n",
    "                tileset=tad_tilesets[s][w],\n",
    "                filetype=\"beddb\",\n",
    "            ),\n",
    "            \"bottom\": Track(\n",
    "                track_type=\"bedlike\",\n",
    "                position='bottom',\n",
    "                tileset=tad_tilesets[s][w],\n",
    "                filetype=\"beddb\",\n",
    "            ),\n",
    "            \"left\": Track(\n",
    "                track_type=\"bedlike\",\n",
    "                position=\"left\",\n",
    "                tileset=tad_tilesets[s][w],\n",
    "                filetype=\"beddb\",\n",
    "            ),\n",
    "            \"right\": Track(\n",
    "                track_type=\"bedlike\",\n",
    "                position=\"right\",\n",
    "                tileset=tad_tilesets[s][w],\n",
    "                filetype=\"beddb\",\n",
    "            ),\n",
    "        } for w in windows\n",
    "    } for s in samples\n",
    "}"
   ]
  },
  {
   "cell_type": "markdown",
   "metadata": {},
   "source": [
    "## Load breakpoints"
   ]
  },
  {
   "cell_type": "code",
   "execution_count": 61,
   "metadata": {},
   "outputs": [],
   "source": [
    "BREAK_DIR = path.join(\"..\", \"2019-07-24_breakfinder\", \"Breakpoints\", \"Default\")\n",
    "breaks = {s: pd.read_csv(\n",
    "    path.join(BREAK_DIR, s + \".breaks.sorted.bedpe\"),\n",
    "    sep=\"\\t\",\n",
    "    header=None,\n",
    "    index_col=False,\n",
    "    names=[\"chr_x\", \"start_x\", \"end_x\", \"chr_y\", \"start_y\", \"end_y\", \"name\", \"logodds\", \"strand_x\", \"strand_y\", \"resolution\"],\n",
    ") for s in samples}"
   ]
  },
  {
   "cell_type": "markdown",
   "metadata": {},
   "source": [
    "# Analysis\n",
    "## Plot SVs"
   ]
  },
  {
   "cell_type": "code",
   "execution_count": 82,
   "metadata": {},
   "outputs": [
    {
     "name": "stdout",
     "output_type": "stream",
     "text": [
      "PCa13848\n",
      "chr_x             chr10\n",
      "start_x       106100000\n",
      "end_x         107800000\n",
      "chr_y             chr20\n",
      "start_y        30900000\n",
      "end_y          31500000\n",
      "name                  .\n",
      "logodds         180.229\n",
      "strand_x              -\n",
      "strand_y              +\n",
      "resolution        100kb\n",
      "Name: 13, dtype: object\n"
     ]
    },
    {
     "data": {
      "application/vnd.jupyter.widget-view+json": {
       "model_id": "d26c8efc645445f785731b4c28733767",
       "version_major": 2,
       "version_minor": 0
      },
      "text/plain": [
       "HiGlassDisplay(viewconf={'editable': True, 'views': [{'uid': 'NjSprAMKQS-RQBRtTfynFw', 'tracks': {'top': [{'ty…"
      ]
     },
     "metadata": {},
     "output_type": "display_data"
    }
   ],
   "source": [
    "zoom_offset = 1e6\n",
    "s = samples[1]\n",
    "i = 13\n",
    "b = breaks[s].iloc[i, :]\n",
    "print(s)\n",
    "print(b)\n",
    "v = View(\n",
    "    tracks=[\n",
    "        chrom_labels[\"top\"], gene_annots[\"top\"],\n",
    "        chrom_labels[\"left\"], gene_annots[\"left\"],\n",
    "        lowc_heatmaps[s][\"top\"],\n",
    "        lowc_heatmaps[s][\"centre\"],\n",
    "        lowc_heatmaps[s][\"left\"],\n",
    "    ],\n",
    "    initialXDomain=[\n",
    "        nc.chr_pos_to_genome_pos(b.chr_x, int(b.start_x) - zoom_offset, hg38),\n",
    "        nc.chr_pos_to_genome_pos(b.chr_x, int(b.end_x) + zoom_offset, hg38)\n",
    "    ],\n",
    "    initialYDomain=[\n",
    "        nc.chr_pos_to_genome_pos(b.chr_y, int(b.start_y) - zoom_offset, hg38),\n",
    "        nc.chr_pos_to_genome_pos(b.chr_y, int(b.end_y) + zoom_offset, hg38)\n",
    "    ],\n",
    ")\n",
    "u = View(\n",
    "    tracks=[\n",
    "        chrom_labels[\"top\"], gene_annots[\"top\"],\n",
    "        chrom_labels[\"left\"], gene_annots[\"left\"],\n",
    "        lowc_heatmaps[s][\"top\"],\n",
    "        lowc_heatmaps[s][\"centre\"],\n",
    "        lowc_heatmaps[s][\"left\"],\n",
    "    ],\n",
    "    initialXDomain=[\n",
    "        nc.chr_pos_to_genome_pos(b.chr_y, int(b.start_y) - zoom_offset, hg38),\n",
    "        nc.chr_pos_to_genome_pos(b.chr_y, int(b.end_y) + zoom_offset, hg38)\n",
    "    ],\n",
    ")\n",
    "w = View(\n",
    "    tracks=[\n",
    "        chrom_labels[\"top\"], gene_annots[\"top\"],\n",
    "        chrom_labels[\"left\"], gene_annots[\"left\"],\n",
    "        lowc_heatmaps[s][\"top\"],\n",
    "        lowc_heatmaps[s][\"centre\"],\n",
    "        lowc_heatmaps[s][\"left\"],\n",
    "    ],\n",
    "    initialXDomain=[\n",
    "        nc.chr_pos_to_genome_pos(b.chr_x, int(b.start_x) - zoom_offset, hg38),\n",
    "        nc.chr_pos_to_genome_pos(b.chr_x, int(b.end_x) + zoom_offset, hg38)\n",
    "    ],\n",
    ")\n",
    "display, server, viewconf = higlass.display([v])\n",
    "display"
   ]
  },
  {
   "cell_type": "code",
   "execution_count": null,
   "metadata": {},
   "outputs": [],
   "source": []
  },
  {
   "cell_type": "code",
   "execution_count": null,
   "metadata": {},
   "outputs": [],
   "source": []
  }
 ],
 "metadata": {
  "kernelspec": {
   "display_name": "Python 3.7.3 64-bit ('base': conda)",
   "language": "python",
   "name": "python37364bitbasecondab15c031cd63a499983704f93d1181c69"
  },
  "language_info": {
   "codemirror_mode": {
    "name": "ipython",
    "version": 3
   },
   "file_extension": ".py",
   "mimetype": "text/x-python",
   "name": "python",
   "nbconvert_exporter": "python",
   "pygments_lexer": "ipython3",
   "version": "3.7.6"
  }
 },
 "nbformat": 4,
 "nbformat_minor": 4
}
