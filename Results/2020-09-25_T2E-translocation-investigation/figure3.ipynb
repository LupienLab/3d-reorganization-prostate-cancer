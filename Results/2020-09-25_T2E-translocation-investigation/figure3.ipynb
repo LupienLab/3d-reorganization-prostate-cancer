{
 "cells": [
  {
   "cell_type": "markdown",
   "metadata": {},
   "source": [
    "# Environment"
   ]
  },
  {
   "cell_type": "code",
   "execution_count": 36,
   "metadata": {},
   "outputs": [],
   "source": [
    "from cooler import Cooler, create_cooler\n",
    "\n",
    "import higlass\n",
    "from higlass.client import View, Track, CombinedTrack\n",
    "from higlass.tilesets import cooler, beddb, chromsizes, bigwig, Tileset\n",
    "import clodius\n",
    "import os\n",
    "import os.path as path\n",
    "import pandas as pd\n",
    "import numpy as np\n",
    "import itertools\n",
    "import negspy.coordinates as nc"
   ]
  },
  {
   "cell_type": "markdown",
   "metadata": {},
   "source": [
    "## Load annotations"
   ]
  },
  {
   "cell_type": "code",
   "execution_count": 37,
   "metadata": {
    "code_folding": [
     4,
     43,
     84
    ]
   },
   "outputs": [],
   "source": [
    "genes = beddb(\"../2019-10-24_higlass/Data/hg38/gene-annotations-hg38.beddb\")\n",
    "chrom_sizes = chromsizes(\"../2019-10-24_higlass/hg38.chrom.sizes\")\n",
    "label_font_size = 18\n",
    "chr_label_size = 30\n",
    "annots_size = 150\n",
    "\n",
    "chrom_labels = {\n",
    "    p: Track(\n",
    "        track_type=l + \"-chromosome-labels\",\n",
    "        tileset=chrom_sizes,\n",
    "        position=p,\n",
    "        height=chr_label_size,\n",
    "        width=chr_label_size,\n",
    "        options={\n",
    "            \"fontSize\": label_font_size,\n",
    "            \"showMousePosition\": True,\n",
    "        },\n",
    "    ) for p, l in zip([\"top\", \"bottom\", \"left\", \"right\"], [\"horizontal\", \"horizontal\", \"vertical\", \"vertical\"])\n",
    "}\n",
    "\n",
    "gene_annots = {\n",
    "    p: Track(\n",
    "        track_type=l + \"-gene-annotations\",\n",
    "        tileset=genes,\n",
    "        position=p,\n",
    "        height=annots_size,\n",
    "        width=annots_size,\n",
    "        options={\n",
    "            \"fontSize\": label_font_size,\n",
    "            \"showMousePosition\": True,\n",
    "        },\n",
    "    ) for p, l in zip([\"top\", \"bottom\", \"left\", \"right\"], [\"horizontal\", \"horizontal\", \"vertical\", \"vertical\"])\n",
    "}\n",
    "\n",
    "hg38 = nc.get_chrominfo(\"hg38\")"
   ]
  },
  {
   "cell_type": "markdown",
   "metadata": {},
   "source": [
    "# Data\n",
    "## Contact matrices"
   ]
  },
  {
   "cell_type": "code",
   "execution_count": 38,
   "metadata": {
    "code_folding": [
     24,
     33,
     39
    ],
    "scrolled": true
   },
   "outputs": [],
   "source": [
    "tumour_metadata = pd.read_csv(path.join(\"..\", \"..\", \"Data\", \"External\", \"LowC_Samples_Data_Available.tsv\"), sep=\"\\t\", header=0)\n",
    "tumour_metadata = tumour_metadata.loc[tumour_metadata.Include == \"Yes\", :]\n",
    "tumour_metadata[\"SampleID\"] = [\"PCa\" + str(i) for i in tumour_metadata[\"Sample ID\"]]\n",
    "\n",
    "tumour_samples = tumour_metadata[\"SampleID\"].tolist()\n",
    "t2e_samples = tumour_metadata.loc[tumour_metadata[\"T2E Status\"] == \"Yes\", \"SampleID\"].tolist()\n",
    "nont2e_samples = tumour_metadata.loc[tumour_metadata[\"T2E Status\"] == \"No\", \"SampleID\"].tolist()\n",
    "\n",
    "benign_metadata = pd.read_csv(path.join(\"..\", \"..\", \"Data\", \"Raw\", \"191220_A00827_0104_AHMW25DMXX_HiC\", \"config.tsv\"), sep=\"\\t\", header=0)\n",
    "benign_metadata = benign_metadata.loc[benign_metadata.Include == \"Yes\", :]\n",
    "benign_samples = benign_metadata[\"Sample\"].tolist()\n",
    "\n",
    "cell_line_metadata = pd.read_csv(path.join(\"..\", \"..\", \"Data\", \"External\", \"Rhie_2019\", \"config.tsv\"), sep=\"\\t\", header=0)\n",
    "cell_line_samples = cell_line_metadata[\"Run_Accession\"].tolist()\n",
    "\n",
    "all_samples = tumour_samples + benign_samples + cell_line_samples\n",
    "metadata = pd.read_csv(path.join(\"..\", \"2020-01-15_TAD-aggregation\", \"config.tsv\"), sep=\"\\t\", index_col=False, header=0)\n",
    "cooler_files = (\n",
    "    [path.join(\"..\", \"..\", \"Data\", \"Processed\", \"2019-06-18_PCa-LowC-sequencing\", \"Contacts\", s + \".mcool\") for s in tumour_samples + benign_samples]\n",
    "    + [path.join(\"..\", \"..\", \"Data\", \"External\", \"Rhie_2019\", \"Contacts\", s + \".mcool\") for s in cell_line_samples]\n",
    ")\n",
    "lowc_tilesets = {s: cooler(f) for s, f in zip(all_samples, cooler_files)}\n",
    "\n",
    "resolutions = [\n",
    "    1000, 2000, 3000, 4000, 5000,\n",
    "    10000, 20000, 30000, 40000, 50000,\n",
    "    100000, 200000, 300000, 400000, 500000,\n",
    "    1000000, 2000000, 3000000, 4000000, 5000000\n",
    "][::-1]\n",
    "\n",
    "min_resolution = 20000\n",
    "heatmap_size = 500\n",
    "colour_range = [\n",
    "    \"rgba(65, 105, 225, 1.0)\",\n",
    "    \"rgba(255, 250, 250, 1.0)\",\n",
    "    # \"rgba(240, 128, 128, 1.0)\",\n",
    "    \"rgba(255, 25, 25, 1.0)\"\n",
    "]\n",
    "lowc_heatmaps = {\n",
    "    s: {\n",
    "        p: Track(\n",
    "            track_type=l + \"heatmap\",\n",
    "            position=p,\n",
    "            tileset=lowc_tilesets[s],\n",
    "            filetype=\"cooler\",\n",
    "            height=heatmap_size,\n",
    "            options={\n",
    "                \"maxZoom\": str(resolutions.index(min_resolution)),\n",
    "                \"colorbarPosition\": \"topRight\",\n",
    "                \"showMousePosition\": True,\n",
    "                \"name\": metadata.loc[metadata[\"SampleID\"] == s, \"Label\"].values[0],\n",
    "                \"colorRange\": colour_range,\n",
    "            },\n",
    "        ) for p, l in zip(\n",
    "            [\"top\", \"bottom\", \"left\", \"right\", \"center\"],\n",
    "            [\"horizontal-\", \"horizontal-\", \"vertical-\", \"vertical-\", \"\"]\n",
    "        )\n",
    "    } for s in all_samples\n",
    "}"
   ]
  },
  {
   "cell_type": "markdown",
   "metadata": {},
   "source": [
    "## TADs"
   ]
  },
  {
   "cell_type": "code",
   "execution_count": 39,
   "metadata": {
    "code_folding": [
     6,
     23,
     40,
     77
    ]
   },
   "outputs": [],
   "source": [
    "windows = list(range(3, 21))\n",
    "\n",
    "tad_1D_tilesets = {\n",
    "    s: {\n",
    "        w: beddb(\n",
    "            path.join(\"..\", \"2020-08-29_TADs-downsampled\", \"Tracks\", s + \".300000000.res_40000bp.window_\" + str(w) + \".domains.beddb\"),\n",
    "            name=s + \" TADs (w=\" + str(w) +\")\"\n",
    "        ) for w in windows\n",
    "    } for s in tumour_samples + benign_samples\n",
    "}\n",
    "\n",
    "tads = {\n",
    "    s: {\n",
    "        w: {\n",
    "           p: Track(\n",
    "                track_type=t + \"bedlike\",\n",
    "                position=p,\n",
    "                tileset=tad_1D_tilesets[s][w],\n",
    "                filetype=\"beddb\",\n",
    "                options={\n",
    "                    \"showMousePosition\": True,\n",
    "                    \"name\": \"{} (w = {})\".format(s, w),\n",
    "                },\n",
    "            ) for p, t in zip([\"top\", \"bottom\", \"left\", \"right\"], [\"\", \"\", \"vertical-\", \"vertical-\"])\n",
    "        } for w in windows\n",
    "    } for s in tumour_samples + benign_samples\n",
    "}"
   ]
  },
  {
   "cell_type": "markdown",
   "metadata": {},
   "source": [
    "## Load breakpoints"
   ]
  },
  {
   "cell_type": "code",
   "execution_count": 44,
   "metadata": {
    "code_folding": [
     1,
     10,
     53
    ],
    "scrolled": false
   },
   "outputs": [],
   "source": [
    "BREAK_DIR = path.join(\"..\", \"2020-02-19_chromoplexy\")\n",
    "breaks = pd.read_csv(\n",
    "    path.join(BREAK_DIR, \"Graphs\", \"sv-breakpoints.paired.tsv\"),\n",
    "    sep=\"\\t\",\n",
    "    header=0,\n",
    "    index_col=False,\n",
    ")\n",
    "\n",
    "break_files_1D = {s: path.join(BREAK_DIR, \"Tracks\", s + \".breaks.beddb\") for s in tumour_samples}\n",
    "break_tilesets_1D = {\n",
    "    s: beddb(\n",
    "        v,\n",
    "        name=metadata.loc[metadata[\"SampleID\"] == s, \"Label\"].values[0] + \" Breaks\"\n",
    "    ) for s, v in break_files_1D.items()\n",
    "}\n",
    "break_tracks_1D = {\n",
    "    s: {\n",
    "        p: Track(\n",
    "            track_type=t + \"bedlike\",\n",
    "            position=p,\n",
    "            tileset=break_tilesets_1D[s],\n",
    "            filetype=\"beddb\",\n",
    "            options={\n",
    "                \"showMousePosition\": True,\n",
    "                \"name\": metadata.loc[metadata[\"SampleID\"] == s, \"Label\"].values[0],\n",
    "            },\n",
    "        ) for p, t in zip([\"top\", \"bottom\", \"left\", \"right\"], [\"\", \"\", \"vertical-\", \"vertical-\"])\n",
    "    } for s in tumour_samples\n",
    "}\n",
    "\n",
    "disruption_tests = pd.read_csv(path.join(\"..\", \"2020-02-19_chromoplexy\", \"Graphs\", \"sv-disruption-tests.tsv\"), sep=\"\\t\")\n",
    "bp_singletons = pd.read_csv(path.join(\"..\", \"2020-02-19_chromoplexy\", \"Graphs\", \"sv-breakpoints.tsv\"), sep=\"\\t\")\n",
    "bp_pairs = pd.read_csv(path.join(\"..\", \"2020-02-19_chromoplexy\", \"Graphs\", \"sv-breakpoints.paired.tsv\"), sep=\"\\t\")\n",
    "disruption_tads = pd.read_csv(path.join(\"..\", \"2020-02-19_sv-disruption-TADs\", \"sv-disruption-tests.TADs.tsv\"), sep=\"\\t\")"
   ]
  },
  {
   "cell_type": "markdown",
   "metadata": {},
   "source": [
    "# Effect of structural variants on TAD boundaries"
   ]
  },
  {
   "cell_type": "markdown",
   "metadata": {},
   "source": [
    "## A structural variant that alter local TAD boundaries without changing gene expression"
   ]
  },
  {
   "cell_type": "code",
   "execution_count": 41,
   "metadata": {
    "code_folding": [
     0
    ]
   },
   "outputs": [
    {
     "data": {
      "application/vnd.jupyter.widget-view+json": {
       "model_id": "4004e8680d9e4fa1ab36b32851bf49a6",
       "version_major": 2,
       "version_minor": 0
      },
      "text/plain": [
       "HiGlassDisplay(viewconf={'editable': True, 'views': [{'uid': 'd_ah4fYjTqa2voES7wZmqQ', 'tracks': {'top': [{'ty…"
      ]
     },
     "metadata": {},
     "output_type": "display_data"
    }
   ],
   "source": [
    "sv_sample_id = \"PCa13848\"\n",
    "pos = {\n",
    "    \"x\": [\n",
    "        nc.chr_pos_to_genome_pos(\"chr14\", 34499120, hg38),\n",
    "        nc.chr_pos_to_genome_pos(\"chr14\", 36927510, hg38),\n",
    "    ],\n",
    "    \"y\": [\n",
    "        nc.chr_pos_to_genome_pos(\"chr21\", 38390391, hg38),\n",
    "        nc.chr_pos_to_genome_pos(\"chr21\", 41642867, hg38)\n",
    "    ]\n",
    "}\n",
    "\n",
    "v = View(\n",
    "    tracks=[\n",
    "        chrom_labels[\"top\"],\n",
    "        gene_annots[\"top\"],\n",
    "        chrom_labels[\"left\"],\n",
    "        gene_annots[\"left\"],\n",
    "        lowc_heatmaps[sv_sample_id][\"top\"],\n",
    "        lowc_heatmaps[sv_sample_id][\"center\"],\n",
    "    ],\n",
    "    initialXDomain = pos[\"x\"],\n",
    "    initialYDomain = pos[\"y\"],\n",
    ")\n",
    "\n",
    "d, s, c = higlass.display(\n",
    "    views=[v],\n",
    ")\n",
    "d"
   ]
  },
  {
   "cell_type": "code",
   "execution_count": 35,
   "metadata": {},
   "outputs": [
    {
     "data": {
      "application/vnd.jupyter.widget-view+json": {
       "model_id": "98906ec963884b38a1c19e4243987a96",
       "version_major": 2,
       "version_minor": 0
      },
      "text/plain": [
       "HiGlassDisplay(viewconf={'editable': True, 'views': [{'uid': 'QEXP0pcGTfWcH_EghtW5BA', 'tracks': {'top': [{'ty…"
      ]
     },
     "metadata": {},
     "output_type": "display_data"
    }
   ],
   "source": [
    "pos = {\n",
    "    \"x\": [\n",
    "        nc.chr_pos_to_genome_pos(\"chr14\", 35400000, hg38),\n",
    "        nc.chr_pos_to_genome_pos(\"chr14\", 35900000, hg38),\n",
    "    ],\n",
    "}\n",
    "\n",
    "v = View(\n",
    "    tracks=[\n",
    "        chrom_labels[\"top\"],\n",
    "        gene_annots[\"top\"],\n",
    "    ],\n",
    "    initialXDomain = pos[\"x\"],\n",
    ")\n",
    "\n",
    "d, s, c = higlass.display(\n",
    "    views=[v],\n",
    ")\n",
    "d"
   ]
  },
  {
   "cell_type": "code",
   "execution_count": 80,
   "metadata": {
    "code_folding": [
     4
    ],
    "scrolled": false
   },
   "outputs": [
    {
     "name": "stderr",
     "output_type": "stream",
     "text": [
      "/home/james/miniconda3/envs/Davos/lib/python3.6/site-packages/ipykernel_launcher.py:34: RuntimeWarning: divide by zero encountered in log10\n"
     ]
    },
    {
     "name": "stdout",
     "output_type": "stream",
     "text": [
      "(25, 25)\n",
      "[-1.001538778851279, 0.7701097786127445]\n",
      "[-0.6430071704768191, 1.5652500375764604]\n",
      "{'nonmut': Ttest_indResult(statistic=6.712609095985658, pvalue=2.157924279264934e-10), 'benign': Ttest_indResult(statistic=16.732481914220198, pvalue=1.0496979131115223e-43)}\n"
     ]
    },
    {
     "data": {
      "image/png": "[encoded data removed]",
      "text/plain": [
       "<Figure size 864x864 with 1 Axes>"
      ]
     },
     "metadata": {
      "needs_background": "light"
     },
     "output_type": "display_data"
    },
    {
     "data": {
      "image/png": "[encoded data removed]",
      "text/plain": [
       "<Figure size 864x864 with 1 Axes>"
      ]
     },
     "metadata": {
      "needs_background": "light"
     },
     "output_type": "display_data"
    }
   ],
   "source": [
    "import numpy as np\n",
    "import matplotlib.pyplot as plt\n",
    "import scipy.stats as stats\n",
    "\n",
    "sv_sample_id = \"PCa13848\"\n",
    "nonsv_sample_id = \"PCa53687\"\n",
    "pos = {\n",
    "    \"x\": [\n",
    "        nc.chr_pos_to_genome_pos(\"chr14\", 35225000, hg38),\n",
    "        nc.chr_pos_to_genome_pos(\"chr14\", 36025000, hg38),\n",
    "    ],\n",
    "}\n",
    "\n",
    "def filter_arr(x):\n",
    "    return x[~np.isnan(x) & np.isfinite(x)]\n",
    "\n",
    "mut = Cooler(path.join(\"..\", \"..\", \"Data\", \"Processed\", \"2019-06-18_PCa-LowC-sequencing\", \"Contacts\", sv_sample_id + \".mcool::/resolutions/20000\"))\n",
    "nonmut = Cooler(path.join(\"..\", \"..\", \"Data\", \"Processed\", \"2019-06-18_PCa-LowC-sequencing\", \"Contacts\", nonsv_sample_id + \".mcool::/resolutions/20000\"))\n",
    "benigns = {\n",
    "    s: Cooler(\n",
    "        path.join(\"..\", \"..\", \"Data\", \"Processed\", \"2019-06-18_PCa-LowC-sequencing\", \"Contacts\", s + \".mcool::/resolutions/20000\")\n",
    "    ) for s in benign_samples\n",
    "}\n",
    "\n",
    "# get contact matrix values around the breakpoint\n",
    "i, j = mut.extent(\"chr14:35400000-35900000\")\n",
    "mut_mat = mut.matrix()[i:j, i:j]\n",
    "nonmut_mat = nonmut.matrix()[i:j, i:j]\n",
    "benign_mat = np.mean([benigns[s].matrix()[i:j, i:j] for s in benign_samples])\n",
    "\n",
    "# calculate the difference between the two contact matrices\n",
    "# (< 0: more contacts in mutant, > 0: fewer contacts in mutant)\n",
    "diff = {\n",
    "    \"nonmut\": np.log10(nonmut_mat / mut_mat),\n",
    "    \"benign\": np.log10(benign_mat / mut_mat),\n",
    "}\n",
    "print(diff[\"nonmut\"].shape)\n",
    "print([filter_arr(diff[\"nonmut\"]).min(), filter_arr(diff[\"nonmut\"]).max()])\n",
    "print([filter_arr(diff[\"benign\"]).min(), filter_arr(diff[\"benign\"]).max()])\n",
    "\n",
    "overlapping = {\n",
    "    \"nonmut\": np.append(diff[\"nonmut\"][0:16, 0:16].flatten(), diff[\"nonmut\"][16:, 16:].flatten()),\n",
    "    \"benign\": np.append(diff[\"benign\"][0:16, 0:16].flatten(), diff[\"benign\"][16:, 16:].flatten()),\n",
    "}\n",
    "broken = {\n",
    "    \"nonmut\": diff[\"nonmut\"][0:16, 16:].flatten(),\n",
    "    \"benign\": diff[\"benign\"][0:16, 16:].flatten(),\n",
    "}\n",
    "\n",
    "ttest_res = {\n",
    "    \"nonmut\": stats.ttest_ind(\n",
    "        a = filter_arr(broken[\"nonmut\"]),\n",
    "        b = filter_arr(overlapping[\"nonmut\"]),\n",
    "        equal_var=False,\n",
    "    ),\n",
    "    \"benign\": stats.ttest_ind(\n",
    "        a = filter_arr(broken[\"benign\"]),\n",
    "        b = filter_arr(overlapping[\"benign\"]),\n",
    "        equal_var=False,\n",
    "    ),\n",
    "}\n",
    "print(ttest_res)\n",
    "\n",
    "# plot differences between mutant and nonmutant/benign samples\n",
    "fig = plt.figure(figsize=(12, 12))\n",
    "ax = fig.add_subplot(111)\n",
    "ax.set_title(\"Difference between mutated and benign\")\n",
    "plt.imshow(diff[\"benign\"], vmin=0, vmax=1.2, cmap=\"Reds\")\n",
    "ax.set_aspect('equal')\n",
    "fig.savefig(\"diff-benign.altered-TAD.pdf\")\n",
    "\n",
    "fig = plt.figure(figsize=(12, 12))\n",
    "ax = fig.add_subplot(111)\n",
    "ax.set_title(\"Difference between mutated and non-mutated\")\n",
    "plt.imshow(diff[\"nonmut\"], vmin=-0.1, vmax=0.3, cmap=\"Reds\")\n",
    "ax.set_aspect('equal')\n",
    "fig.savefig(\"diff-nonmut.altered-TAD.pdf\")"
   ]
  },
  {
   "cell_type": "markdown",
   "metadata": {},
   "source": [
    "## A structural variant that does not affect local TAD boundaries with differential gene expression"
   ]
  },
  {
   "cell_type": "code",
   "execution_count": 58,
   "metadata": {
    "code_folding": [
     12,
     2
    ],
    "scrolled": false
   },
   "outputs": [
    {
     "data": {
      "application/vnd.jupyter.widget-view+json": {
       "model_id": "42da653ddacd4928b3e537b963fc7109",
       "version_major": 2,
       "version_minor": 0
      },
      "text/plain": [
       "HiGlassDisplay(viewconf={'editable': True, 'views': [{'uid': 'fIwiTNgiSguqG85BLvwg6g', 'tracks': {'top': [{'ty…"
      ]
     },
     "metadata": {},
     "output_type": "display_data"
    }
   ],
   "source": [
    "sv_sample_id = \"PCa51852\"\n",
    "nonsv_sample_id = \"PCa13266\"\n",
    "\n",
    "pos = {\n",
    "    \"x\": [\n",
    "        nc.chr_pos_to_genome_pos(\"chr12\", 5559445, hg38),\n",
    "        nc.chr_pos_to_genome_pos(\"chr12\", 7919445, hg38)\n",
    "    ],\n",
    "    \"y\": [\n",
    "        nc.chr_pos_to_genome_pos(\"chr2\", 10482496, hg38),\n",
    "        nc.chr_pos_to_genome_pos(\"chr2\", 11880637, hg38)\n",
    "    ]\n",
    "}\n",
    "v = View(\n",
    "    tracks=[\n",
    "        chrom_labels[\"top\"],\n",
    "        gene_annots[\"top\"],\n",
    "        chrom_labels[\"left\"],\n",
    "        gene_annots[\"left\"],\n",
    "        lowc_heatmaps[sv_sample_id][\"top\"],\n",
    "        lowc_heatmaps[sv_sample_id][\"center\"],\n",
    "    ],\n",
    "    initialXDomain = pos[\"x\"],\n",
    "    initialYDomain = pos[\"y\"],\n",
    ")\n",
    "\n",
    "d, s, c = higlass.display(\n",
    "    views=[v],\n",
    ")\n",
    "d"
   ]
  },
  {
   "cell_type": "code",
   "execution_count": 82,
   "metadata": {
    "scrolled": false
   },
   "outputs": [
    {
     "name": "stderr",
     "output_type": "stream",
     "text": [
      "/home/james/miniconda3/envs/Davos/lib/python3.6/site-packages/ipykernel_launcher.py:31: RuntimeWarning: divide by zero encountered in true_divide\n",
      "/home/james/miniconda3/envs/Davos/lib/python3.6/site-packages/ipykernel_launcher.py:31: RuntimeWarning: invalid value encountered in true_divide\n",
      "/home/james/miniconda3/envs/Davos/lib/python3.6/site-packages/ipykernel_launcher.py:31: RuntimeWarning: divide by zero encountered in log10\n",
      "/home/james/miniconda3/envs/Davos/lib/python3.6/site-packages/ipykernel_launcher.py:32: RuntimeWarning: divide by zero encountered in true_divide\n"
     ]
    },
    {
     "name": "stdout",
     "output_type": "stream",
     "text": [
      "(50, 50)\n",
      "[-0.9543337040947188, 1.2897995856728406]\n",
      "[-0.45254579327228805, 1.7743447907709948]\n",
      "{'nonmut': Ttest_indResult(statistic=5.249388531127014, pvalue=1.9563654953438385e-07), 'benign': Ttest_indResult(statistic=30.16218343849497, pvalue=1.4597867469298748e-151)}\n"
     ]
    },
    {
     "data": {
      "image/png": "[encoded data removed]",
      "text/plain": [
       "<Figure size 864x864 with 1 Axes>"
      ]
     },
     "metadata": {
      "needs_background": "light"
     },
     "output_type": "display_data"
    },
    {
     "data": {
      "image/png": "[encoded data removed]",
      "text/plain": [
       "<Figure size 864x864 with 1 Axes>"
      ]
     },
     "metadata": {
      "needs_background": "light"
     },
     "output_type": "display_data"
    }
   ],
   "source": [
    "import numpy as np\n",
    "import matplotlib.pyplot as plt\n",
    "import scipy.stats as stats\n",
    "\n",
    "sv_sample_id = \"PCa53687\"\n",
    "nonsv_sample_id = \"PCa40507\"\n",
    "pos = {\n",
    "    \"x\": [\n",
    "        nc.chr_pos_to_genome_pos(\"chr12\", 6300000, hg38),\n",
    "        nc.chr_pos_to_genome_pos(\"chr12\", 7300000, hg38),\n",
    "    ],\n",
    "}\n",
    "\n",
    "mut = Cooler(path.join(\"..\", \"..\", \"Data\", \"Processed\", \"2019-06-18_PCa-LowC-sequencing\", \"Contacts\", sv_sample_id + \".mcool::/resolutions/20000\"))\n",
    "nonmut = Cooler(path.join(\"..\", \"..\", \"Data\", \"Processed\", \"2019-06-18_PCa-LowC-sequencing\", \"Contacts\", nonsv_sample_id + \".mcool::/resolutions/20000\"))\n",
    "benigns = {\n",
    "    s: Cooler(\n",
    "        path.join(\"..\", \"..\", \"Data\", \"Processed\", \"2019-06-18_PCa-LowC-sequencing\", \"Contacts\", s + \".mcool::/resolutions/20000\")\n",
    "    ) for s in benign_samples\n",
    "}\n",
    "\n",
    "# get contact matrix values around the breakpoint\n",
    "i, j = mut.extent(\"chr12:6300000-7300000\")\n",
    "mut_mat = mut.matrix()[i:j, i:j]\n",
    "nonmut_mat = nonmut.matrix()[i:j, i:j]\n",
    "benign_mat = np.mean([benigns[s].matrix()[i:j, i:j] for s in benign_samples])\n",
    "\n",
    "# calculate the difference between the two contact matrices\n",
    "# (< 0: more contacts in mutant, > 0: fewer contacts in mutant)\n",
    "diff = {\n",
    "    \"nonmut\": np.log10(nonmut_mat / mut_mat),\n",
    "    \"benign\": np.log10(benign_mat / mut_mat),\n",
    "}\n",
    "print(diff[\"nonmut\"].shape)\n",
    "print([filter_arr(diff[\"nonmut\"]).min(), filter_arr(diff[\"nonmut\"]).max()])\n",
    "print([filter_arr(diff[\"benign\"]).min(), filter_arr(diff[\"benign\"]).max()])\n",
    "\n",
    "overlapping = {\n",
    "    \"nonmut\": np.append(diff[\"nonmut\"][0:25, 0:25].flatten(), diff[\"nonmut\"][25:, 25:].flatten()),\n",
    "    \"benign\": np.append(diff[\"benign\"][0:25, 0:25].flatten(), diff[\"benign\"][25:, 25:].flatten()),\n",
    "}\n",
    "broken = {\n",
    "    \"nonmut\": diff[\"nonmut\"][0:25, 25:].flatten(),\n",
    "    \"benign\": diff[\"benign\"][0:25, 25:].flatten(),\n",
    "}\n",
    "\n",
    "ttest_res = {\n",
    "    \"nonmut\": stats.ttest_ind(\n",
    "        a = filter_arr(broken[\"nonmut\"]),\n",
    "        b = filter_arr(overlapping[\"nonmut\"]),\n",
    "        equal_var=False,\n",
    "    ),\n",
    "    \"benign\": stats.ttest_ind(\n",
    "        a = filter_arr(broken[\"benign\"]),\n",
    "        b = filter_arr(overlapping[\"benign\"]),\n",
    "        equal_var=False,\n",
    "    ),\n",
    "}\n",
    "print(ttest_res)\n",
    "\n",
    "# plot differences between mutant and nonmutant/benign samples\n",
    "fig = plt.figure(figsize=(12, 12))\n",
    "ax = fig.add_subplot(111)\n",
    "ax.set_title(\"Difference between mutated and benign\")\n",
    "plt.imshow(diff[\"benign\"], vmin=0, vmax=1.2, cmap=\"Reds\")\n",
    "ax.set_aspect('equal')\n",
    "fig.savefig(\"diff-benign.no-altered-TAD.pdf\")\n",
    "\n",
    "fig = plt.figure(figsize=(12, 12))\n",
    "ax = fig.add_subplot(111)\n",
    "ax.set_title(\"Difference between mutated and non-mutated\")\n",
    "plt.imshow(diff[\"nonmut\"], vmin=0.3, vmax=0.5, cmap=\"Reds\")\n",
    "ax.set_aspect('equal')\n",
    "fig.savefig(\"diff-nonmut.no-altered-TAD.pdf\")"
   ]
  },
  {
   "cell_type": "markdown",
   "metadata": {},
   "source": [
    "## Exploring other breakpoints"
   ]
  },
  {
   "cell_type": "code",
   "execution_count": 83,
   "metadata": {
    "scrolled": false
   },
   "outputs": [
    {
     "name": "stdout",
     "output_type": "stream",
     "text": [
      "['PCa53687']\n",
      "['PCa13266', 'PCa13848', 'PCa14121', 'PCa19121', 'PCa3023', 'PCa33173', 'PCa40507', 'PCa51852', 'PCa56413', 'PCa57294']\n",
      "{'x': {'chr': 'chr7', 'start': 106330000.0, 'end': 108840000.0}, 'y': {'chr': 'chr1', 'start': 230620000.0, 'end': 233750000.0}}\n"
     ]
    },
    {
     "data": {
      "application/vnd.jupyter.widget-view+json": {
       "model_id": "e6ba75f80883439c880777b5fc4cf2ff",
       "version_major": 2,
       "version_minor": 0
      },
      "text/plain": [
       "HiGlassDisplay(viewconf={'editable': True, 'views': [{'uid': 'Ha2HmiwwTeatehfMR26ncQ', 'tracks': {'top': [{'ty…"
      ]
     },
     "metadata": {},
     "output_type": "display_data"
    }
   ],
   "source": [
    "zoom_offset = 1e6\n",
    "\n",
    "# test_ID\n",
    "ti = 197\n",
    "# paired test_ID(s)\n",
    "tj = bp_pairs.loc[bp_pairs.test_ID_x == ti, \"test_ID_y\"].tolist() + bp_pairs.loc[bp_pairs.test_ID_y == ti, \"test_ID_x\"].tolist()\n",
    "\n",
    "# mutated sample IDs\n",
    "mut_s = disruption_tests.loc[disruption_tests.test_ID == ti, \"mut_samples\"].values[0].split(\",\")\n",
    "nonmut_s = disruption_tests.loc[disruption_tests.test_ID == ti, \"nonmut_samples\"].values[0].split(\",\")\n",
    "\n",
    "# views\n",
    "v = []\n",
    "if len(tj) > 1:\n",
    "    pos = {\n",
    "        \"x\": {\n",
    "            \"chr\": disruption_tads.loc[disruption_tads.test_ID == ti, \"chr\"].values[0],\n",
    "            \"start\": int(disruption_tads.loc[disruption_tads.test_ID == ti, \"start\"].values[0]) - zoom_offset,\n",
    "            \"end\": int(disruption_tads.loc[disruption_tads.test_ID == ti, \"end\"].values[0]) + zoom_offset,\n",
    "        },\n",
    "        \"y\": {\n",
    "            k: {\n",
    "                \"chr\": disruption_tads.loc[disruption_tads.test_ID == k, \"chr\"].values[0],\n",
    "                \"start\": int(disruption_tads.loc[disruption_tads.test_ID == k, \"start\"].values[0]) - zoom_offset,\n",
    "                \"end\": int(disruption_tads.loc[disruption_tads.test_ID == k, \"end\"].values[0]) + zoom_offset,\n",
    "            } for k in tj\n",
    "        },\n",
    "    }\n",
    "    v = [\n",
    "        View(\n",
    "            tracks=[\n",
    "                chrom_labels[\"top\"],\n",
    "                gene_annots[\"top\"],\n",
    "                chrom_labels[\"left\"],\n",
    "                lowc_heatmaps[s][\"center\"],\n",
    "            ],\n",
    "            initialXDomain=[\n",
    "                nc.chr_pos_to_genome_pos(pos[\"x\"][\"chr\"], pos[\"x\"][\"start\"], hg38),\n",
    "                nc.chr_pos_to_genome_pos(pos[\"x\"][\"chr\"], pos[\"x\"][\"end\"], hg38)\n",
    "            ],\n",
    "            initialYDomain=[\n",
    "                nc.chr_pos_to_genome_pos(pos[\"y\"][k][\"chr\"], pos[\"y\"][k][\"start\"], hg38),\n",
    "                nc.chr_pos_to_genome_pos(pos[\"y\"][k][\"chr\"], pos[\"y\"][k][\"end\"], hg38)\n",
    "            ],\n",
    "        ) for s in mut_s for k in tj\n",
    "    ]\n",
    "    for s in nonmut_s[1:2]:\n",
    "        for k in tj:\n",
    "            v.append(View(\n",
    "                tracks=[\n",
    "                    chrom_labels[\"left\"],\n",
    "                    lowc_heatmaps[s][\"center\"],\n",
    "                    lowc_heatmaps[s][\"bottom\"],\n",
    "                ],\n",
    "                initialXDomain=[\n",
    "                    nc.chr_pos_to_genome_pos(pos[\"x\"][\"chr\"], pos[\"x\"][\"start\"], hg38),\n",
    "                    nc.chr_pos_to_genome_pos(pos[\"x\"][\"chr\"], pos[\"x\"][\"end\"], hg38)\n",
    "                ],\n",
    "                initialYDomain=[\n",
    "                    nc.chr_pos_to_genome_pos(pos[\"y\"][k][\"chr\"], pos[\"y\"][k][\"start\"], hg38),\n",
    "                    nc.chr_pos_to_genome_pos(pos[\"y\"][k][\"chr\"], pos[\"y\"][k][\"end\"], hg38)\n",
    "                ],\n",
    "            ))\n",
    "else:\n",
    "    pos = {\n",
    "        \"x\": {\n",
    "            \"chr\": disruption_tads.loc[disruption_tads.test_ID == ti, \"chr\"].values[0],\n",
    "            \"start\": int(disruption_tads.loc[disruption_tads.test_ID == ti, \"start\"].values[0]) - zoom_offset,\n",
    "            \"end\": int(disruption_tads.loc[disruption_tads.test_ID == ti, \"end\"].values[0]) + zoom_offset,\n",
    "        },\n",
    "        \"y\": {\n",
    "            \"chr\": disruption_tads.loc[disruption_tads.test_ID == tj[0], \"chr\"].values[0],\n",
    "            \"start\": int(disruption_tads.loc[disruption_tads.test_ID == tj[0], \"start\"].values[0]) - zoom_offset,\n",
    "            \"end\": int(disruption_tads.loc[disruption_tads.test_ID == tj[0], \"end\"].values[0]) + zoom_offset,\n",
    "        },\n",
    "    }\n",
    "    v = [\n",
    "        View(\n",
    "            tracks=[\n",
    "                chrom_labels[\"top\"],\n",
    "                gene_annots[\"top\"],\n",
    "                chrom_labels[\"left\"],\n",
    "                lowc_heatmaps[s][\"center\"],\n",
    "                lowc_heatmaps[s][\"bottom\"],\n",
    "            ],\n",
    "            initialXDomain=[\n",
    "                nc.chr_pos_to_genome_pos(pos[\"x\"][\"chr\"], pos[\"x\"][\"start\"], hg38),\n",
    "                nc.chr_pos_to_genome_pos(pos[\"x\"][\"chr\"], pos[\"x\"][\"end\"], hg38)\n",
    "            ],\n",
    "            initialYDomain=[\n",
    "                nc.chr_pos_to_genome_pos(pos[\"y\"][\"chr\"], pos[\"y\"][\"start\"], hg38),\n",
    "                nc.chr_pos_to_genome_pos(pos[\"y\"][\"chr\"], pos[\"y\"][\"end\"], hg38)\n",
    "            ],\n",
    "        ) for s in mut_s\n",
    "    ]\n",
    "    \n",
    "    for s in nonmut_s[1:2]:\n",
    "        v.append(View(\n",
    "            tracks=[\n",
    "                chrom_labels[\"left\"],\n",
    "                lowc_heatmaps[s][\"center\"],\n",
    "                lowc_heatmaps[s][\"bottom\"],\n",
    "            ],\n",
    "            initialXDomain=[\n",
    "                nc.chr_pos_to_genome_pos(pos[\"x\"][\"chr\"], pos[\"x\"][\"start\"], hg38),\n",
    "                nc.chr_pos_to_genome_pos(pos[\"x\"][\"chr\"], pos[\"x\"][\"end\"], hg38)\n",
    "            ],\n",
    "            initialYDomain=[\n",
    "                nc.chr_pos_to_genome_pos(pos[\"y\"][\"chr\"], pos[\"y\"][\"start\"], hg38),\n",
    "                nc.chr_pos_to_genome_pos(pos[\"y\"][\"chr\"], pos[\"y\"][\"end\"], hg38)\n",
    "            ],\n",
    "        ))\n",
    "\n",
    "\n",
    "print(mut_s)\n",
    "print(nonmut_s)\n",
    "print(pos)\n",
    "display, server, viewconf = higlass.display(\n",
    "    views=v,\n",
    "    zoom_syncs=[v],\n",
    "#    location_syncs=[v],\n",
    "#    value_scale_syncs=[\n",
    "#        [(v[s], lowc_heatmaps[s][\"top\"]) for s in v]\n",
    "#    ],\n",
    "    server_port=8192\n",
    ")\n",
    "\n",
    "display"
   ]
  },
  {
   "cell_type": "markdown",
   "metadata": {},
   "source": [
    "# Images\n",
    "## Important prostate cancer regions"
   ]
  },
  {
   "cell_type": "code",
   "execution_count": 10,
   "metadata": {},
   "outputs": [],
   "source": [
    "sample_tracks = [chrom_labels[\"top\"], gene_annots[\"top\"]] + [lowc_heatmaps[s][\"top\"] for s in all_samples[::-1]]\n",
    "tumour_tracks = [chrom_labels[\"top\"], gene_annots[\"top\"]] + [lowc_heatmaps[s][\"top\"] for s in tumour_samples]"
   ]
  },
  {
   "cell_type": "markdown",
   "metadata": {},
   "source": [
    "### FOXA1"
   ]
  },
  {
   "cell_type": "code",
   "execution_count": 18,
   "metadata": {
    "jupyter": {
     "outputs_hidden": true
    },
    "scrolled": true
   },
   "outputs": [
    {
     "data": {
      "application/vnd.jupyter.widget-view+json": {
       "model_id": "f36409f99cd74e75941d84a41e4e52c2",
       "version_major": 2,
       "version_minor": 0
      },
      "text/plain": [
       "HiGlassDisplay(viewconf={'editable': True, 'views': [{'uid': 'El1Cw0kTTritNvpESa4vrg', 'tracks': {'top': [{'ty…"
      ]
     },
     "metadata": {},
     "output_type": "display_data"
    }
   ],
   "source": [
    "foxa1_view = View(\n",
    "    tracks=sample_tracks,\n",
    "    initialXDomain=[\n",
    "        nc.chr_pos_to_genome_pos(\"chr14\", 36000000, hg38),\n",
    "        nc.chr_pos_to_genome_pos(\"chr14\", 39000000, hg38)\n",
    "    ],\n",
    ")\n",
    "\n",
    "display, server, viewconf = higlass.display(\n",
    "    [foxa1_view],\n",
    "    value_scale_syncs=[\n",
    "        [(foxa1_view, lowc_heatmaps[s][\"top\"]) for s in all_samples]\n",
    "    ],\n",
    "    server_port=8192,\n",
    ")\n",
    "display"
   ]
  },
  {
   "cell_type": "code",
   "execution_count": 20,
   "metadata": {},
   "outputs": [
    {
     "name": "stdout",
     "output_type": "stream",
     "text": [
      "This: 0veffb\n"
     ]
    },
    {
     "ename": "NameError",
     "evalue": "name 'save_as_png' is not defined",
     "output_type": "error",
     "traceback": [
      "\u001b[0;31m---------------------------------------------------------------------------\u001b[0m",
      "\u001b[0;31mNameError\u001b[0m                                 Traceback (most recent call last)",
      "\u001b[0;32m<ipython-input-20-4edecf86bc97>\u001b[0m in \u001b[0;36m<module>\u001b[0;34m\u001b[0m\n\u001b[1;32m      1\u001b[0m \u001b[0mprint\u001b[0m\u001b[0;34m(\u001b[0m\u001b[0;34m\"This: {}\"\u001b[0m\u001b[0;34m.\u001b[0m\u001b[0mformat\u001b[0m\u001b[0;34m(\u001b[0m\u001b[0mdisplay\u001b[0m\u001b[0;34m.\u001b[0m\u001b[0mdom_element_id\u001b[0m\u001b[0;34m)\u001b[0m\u001b[0;34m)\u001b[0m\u001b[0;34m\u001b[0m\u001b[0;34m\u001b[0m\u001b[0m\n\u001b[1;32m      2\u001b[0m \u001b[0;31m#save_as_png(display, path.join(os.getcwd(), \"Plots\", \"FOXA1-locus.v2.png\"))\u001b[0m\u001b[0;34m\u001b[0m\u001b[0;34m\u001b[0m\u001b[0;34m\u001b[0m\u001b[0m\n\u001b[0;32m----> 3\u001b[0;31m \u001b[0msave_as_png\u001b[0m\u001b[0;34m(\u001b[0m\u001b[0mdisplay\u001b[0m\u001b[0;34m,\u001b[0m \u001b[0mpath\u001b[0m\u001b[0;34m.\u001b[0m\u001b[0mjoin\u001b[0m\u001b[0;34m(\u001b[0m\u001b[0;34m\"Plots\"\u001b[0m\u001b[0;34m,\u001b[0m \u001b[0;34m\"FOXA1-locus.v2.png\"\u001b[0m\u001b[0;34m)\u001b[0m\u001b[0;34m)\u001b[0m\u001b[0;34m\u001b[0m\u001b[0;34m\u001b[0m\u001b[0m\n\u001b[0m",
      "\u001b[0;31mNameError\u001b[0m: name 'save_as_png' is not defined"
     ]
    }
   ],
   "source": [
    "print(\"This: {}\".format(display.dom_element_id))\n",
    "#save_as_png(display, path.join(os.getcwd(), \"Plots\", \"FOXA1-locus.v2.png\"))\n",
    "save_as_png(display, path.join(\"Plots\", \"FOXA1-locus.v2.png\"))"
   ]
  },
  {
   "cell_type": "markdown",
   "metadata": {},
   "source": [
    "### _TMPRSS2 - ERG_ fusion"
   ]
  },
  {
   "cell_type": "code",
   "execution_count": 11,
   "metadata": {
    "scrolled": false
   },
   "outputs": [
    {
     "data": {
      "application/vnd.jupyter.widget-view+json": {
       "model_id": "de209d18a0004d0f8ff001b0742c7d9c",
       "version_major": 2,
       "version_minor": 0
      },
      "text/plain": [
       "HiGlassDisplay(viewconf={'editable': True, 'views': [{'uid': 'e9Lfnuv7SNSoaRv4Uz6Ulw', 'tracks': {'top': [{'ty…"
      ]
     },
     "metadata": {},
     "output_type": "display_data"
    }
   ],
   "source": [
    "t2e_view = View(\n",
    "    tracks=tumour_tracks,\n",
    "    initialXDomain=[\n",
    "        nc.chr_pos_to_genome_pos(\"chr21\", 35000000, hg38),\n",
    "        nc.chr_pos_to_genome_pos(\"chr21\", 43000000, hg38)\n",
    "    ],\n",
    ")\n",
    "\n",
    "display, server, viewconf = higlass.display(\n",
    "    views=[t2e_view],\n",
    "    value_scale_syncs = [\n",
    "        [(t2e_view, lowc_heatmaps[s][\"top\"]) for s in tumour_samples],\n",
    "    ],\n",
    "    #zoom_syncs=[\n",
    "    #    [(t2e_view, lowc_heatmaps[s][\"center\"]) for s in tumour_samples],\n",
    "    #],\n",
    "    #location_syncs=[\n",
    "    #    [(t2e_view, lowc_heatmaps[s][\"center\"]) for s in tumour_samples],\n",
    "    #],\n",
    "    server_port=8192\n",
    ")\n",
    "display"
   ]
  },
  {
   "cell_type": "markdown",
   "metadata": {},
   "source": [
    "### AR"
   ]
  },
  {
   "cell_type": "code",
   "execution_count": 23,
   "metadata": {
    "scrolled": true
   },
   "outputs": [
    {
     "data": {
      "application/vnd.jupyter.widget-view+json": {
       "model_id": "0b3c77aefaaf456c918b680bc0924d56",
       "version_major": 2,
       "version_minor": 0
      },
      "text/plain": [
       "HiGlassDisplay(viewconf={'editable': True, 'views': [{'uid': 'JdyFubg-R2-66OQ1TFUxow', 'tracks': {'top': [{'ty…"
      ]
     },
     "metadata": {},
     "output_type": "display_data"
    }
   ],
   "source": [
    "ar_view = View(\n",
    "    tracks=sample_tracks,\n",
    "    initialXDomain=[\n",
    "        nc.chr_pos_to_genome_pos(\"chrX\", 65800000, hg38),\n",
    "        nc.chr_pos_to_genome_pos(\"chrX\", 68700000, hg38)\n",
    "    ]\n",
    ")\n",
    "\n",
    "display, server, viewconf = higlass.display(\n",
    "    [ar_view],\n",
    "    value_scale_syncs = [\n",
    "        [(ar_view, lowc_heatmaps[s][\"top\"]) for s in all_samples]\n",
    "    ],\n",
    "    server_port=8192,\n",
    ")\n",
    "display"
   ]
  },
  {
   "cell_type": "markdown",
   "metadata": {},
   "source": [
    "### MYC"
   ]
  },
  {
   "cell_type": "code",
   "execution_count": 24,
   "metadata": {
    "scrolled": true
   },
   "outputs": [
    {
     "data": {
      "application/vnd.jupyter.widget-view+json": {
       "model_id": "310e4a1f0a334ad499e872b8f9af6344",
       "version_major": 2,
       "version_minor": 0
      },
      "text/plain": [
       "HiGlassDisplay(viewconf={'editable': True, 'views': [{'uid': 'SQ_PXsdOTaau3ltyrKoLlQ', 'tracks': {'top': [{'ty…"
      ]
     },
     "metadata": {},
     "output_type": "display_data"
    }
   ],
   "source": [
    "myc_view = View(\n",
    "    tracks=sample_tracks,\n",
    "    initialXDomain=[\n",
    "        nc.chr_pos_to_genome_pos(\"chr8\", 126000000, hg38),\n",
    "        nc.chr_pos_to_genome_pos(\"chr8\", 130000000, hg38)\n",
    "    ],\n",
    ")\n",
    "\n",
    "display, server, viewconf = higlass.display(\n",
    "    [myc_view],\n",
    "    value_scale_syncs=[\n",
    "        [(myc_view, lowc_heatmaps[s][\"top\"]) for s in all_samples]\n",
    "    ],\n",
    "    server_port=8192,\n",
    ")\n",
    "display\n"
   ]
  },
  {
   "cell_type": "markdown",
   "metadata": {},
   "source": [
    "### HOXB13"
   ]
  },
  {
   "cell_type": "code",
   "execution_count": 25,
   "metadata": {
    "scrolled": true
   },
   "outputs": [
    {
     "data": {
      "application/vnd.jupyter.widget-view+json": {
       "model_id": "bec410f0a1594682896aee1f66945b79",
       "version_major": 2,
       "version_minor": 0
      },
      "text/plain": [
       "HiGlassDisplay(viewconf={'editable': True, 'views': [{'uid': 'XORqkA-4RxuSUVqkhmpf2A', 'tracks': {'top': [{'ty…"
      ]
     },
     "metadata": {},
     "output_type": "display_data"
    }
   ],
   "source": [
    "hoxb13_view = View(\n",
    "    tracks=sample_tracks,\n",
    "    initialXDomain=[\n",
    "        nc.chr_pos_to_genome_pos(\"chr17\", 46160000, hg38),\n",
    "        nc.chr_pos_to_genome_pos(\"chr17\", 51320000, hg38)\n",
    "    ],\n",
    ")\n",
    "display, server, viewconf = higlass.display(\n",
    "    [hoxb13_view],\n",
    "    value_scale_syncs=[\n",
    "        [(hoxb13_view, lowc_heatmaps[s][\"top\"]) for s in all_samples]\n",
    "    ],\n",
    "    server_port=8192,\n",
    ")\n",
    "display\n"
   ]
  },
  {
   "cell_type": "markdown",
   "metadata": {},
   "source": [
    "### KLK Cluster"
   ]
  },
  {
   "cell_type": "code",
   "execution_count": 12,
   "metadata": {
    "scrolled": false
   },
   "outputs": [
    {
     "data": {
      "application/vnd.jupyter.widget-view+json": {
       "model_id": "1b2a3678821e4a96b25ca9a178fa91a8",
       "version_major": 2,
       "version_minor": 0
      },
      "text/plain": [
       "HiGlassDisplay(viewconf={'editable': True, 'views': [{'uid': 'coYkGqDnSiu23Z7eqM5Geg', 'tracks': {'top': [{'ty…"
      ]
     },
     "metadata": {},
     "output_type": "display_data"
    }
   ],
   "source": [
    "klk_view = View(\n",
    "    tracks=sample_tracks,\n",
    "    #tracks = [chrom_labels[\"top\"], gene_annots[\"top\"]],\n",
    "    initialXDomain=[\n",
    "        nc.chr_pos_to_genome_pos(\"chr19\", 49000000, hg38),\n",
    "        nc.chr_pos_to_genome_pos(\"chr19\", 53000000, hg38)\n",
    "    ],\n",
    ")\n",
    "display, server, viewconf = higlass.display(\n",
    "    [klk_view],\n",
    "    value_scale_syncs=[\n",
    "        [(klk_view, lowc_heatmaps[s][\"top\"]) for s in all_samples]\n",
    "    ],\n",
    "    server_port=8192,\n",
    ")\n",
    "display\n"
   ]
  },
  {
   "cell_type": "code",
   "execution_count": null,
   "metadata": {},
   "outputs": [],
   "source": [
    "myc_insertion_view = View(\n",
    "    tracks=[chrom_labels[\"top\"], gene_annots[\"top\"]] + [lowc_heatmaps[s][\"top\"] for s in all_samples],\n",
    "    initialXDomain=[\n",
    "        nc.chr_pos_to_genome_pos(\"chr12\", 70480000 - 5e6, hg38),\n",
    "        nc.chr_pos_to_genome_pos(\"chr12\", 70570000 + 5e6, hg38)\n",
    "    ],\n",
    ")\n",
    "\n",
    "display, server, viewconf = higlass.display([\n",
    "    myc_insertion_view\n",
    "])\n",
    "display"
   ]
  },
  {
   "cell_type": "markdown",
   "metadata": {},
   "source": [
    "# Structural variants and novel COREs"
   ]
  },
  {
   "cell_type": "markdown",
   "metadata": {},
   "source": [
    "## COL1A1"
   ]
  },
  {
   "cell_type": "markdown",
   "metadata": {},
   "source": [
    "### Rearrangement"
   ]
  },
  {
   "cell_type": "code",
   "execution_count": 24,
   "metadata": {
    "code_folding": [],
    "scrolled": false
   },
   "outputs": [
    {
     "data": {
      "application/vnd.jupyter.widget-view+json": {
       "model_id": "fe2aa7fd9a7a4917bc4d83130103a36b",
       "version_major": 2,
       "version_minor": 0
      },
      "text/plain": [
       "HiGlassDisplay(viewconf={'editable': True, 'views': [{'uid': 'JYMCYMtHRI2y0cjBYMHgcA', 'tracks': {'top': [{'ty…"
      ]
     },
     "metadata": {},
     "output_type": "display_data"
    }
   ],
   "source": [
    "mut_s = \"PCa40507\"\n",
    "nonmut_s = \"PCa13266\"\n",
    "zoom_offset = 1e5\n",
    "\n",
    "pos = {\n",
    "    \"x\": [\n",
    "        nc.chr_pos_to_genome_pos(\"chr17\", 50100000 - zoom_offset, hg38),\n",
    "        nc.chr_pos_to_genome_pos(\"chr17\", 50400000 + zoom_offset, hg38),\n",
    "    ],\n",
    "    \"y\": [\n",
    "        [\n",
    "            nc.chr_pos_to_genome_pos(\"chr17\", 11300000 - zoom_offset, hg38),\n",
    "            nc.chr_pos_to_genome_pos(\"chr17\", 11800000 + zoom_offset, hg38),   \n",
    "        ],\n",
    "        [\n",
    "            nc.chr_pos_to_genome_pos(\"chr2\", 6726000 - zoom_offset, hg38),\n",
    "            nc.chr_pos_to_genome_pos(\"chr2\", 7064000 + zoom_offset, hg38),\n",
    "        ]\n",
    "    ]\n",
    "}\n",
    "\n",
    "# views\n",
    "v = [\n",
    "    View(\n",
    "        tracks=[\n",
    "            chrom_labels[\"top\"],\n",
    "            gene_annots[\"top\"],\n",
    "            chip[mut_s][\"top\"],\n",
    "            peaks[mut_s][\"top\"],\n",
    "            cores[mut_s][\"top\"],\n",
    "            chrom_labels[\"left\"],\n",
    "            gene_annots[\"left\"],\n",
    "            chrom_labels[\"left\"],\n",
    "            chip[mut_s][\"left\"],\n",
    "            peaks[mut_s][\"left\"],\n",
    "            cores[mut_s][\"left\"],\n",
    "            CombinedTrack([lowc_heatmaps[mut_s][\"center\"], break_tracks_2D[mut_s][\"centre\"]]),\n",
    "            lowc_heatmaps[mut_s][\"bottom\"],\n",
    "        ],\n",
    "        initialXDomain=pos[\"x\"],\n",
    "        initialYDomain=pos[\"y\"][0],\n",
    "    ),\n",
    "    View(\n",
    "        tracks=[\n",
    "            chrom_labels[\"top\"],\n",
    "            gene_annots[\"top\"],\n",
    "            chip[nonmut_s][\"top\"],\n",
    "            peaks[nonmut_s][\"top\"],\n",
    "            cores[nonmut_s][\"top\"],\n",
    "            chrom_labels[\"left\"],\n",
    "            gene_annots[\"left\"],\n",
    "            chrom_labels[\"left\"],\n",
    "            chip[nonmut_s][\"left\"],\n",
    "            peaks[nonmut_s][\"left\"],\n",
    "            cores[nonmut_s][\"left\"],\n",
    "            CombinedTrack([lowc_heatmaps[nonmut_s][\"center\"], break_tracks_2D[mut_s][\"centre\"]]),\n",
    "            lowc_heatmaps[nonmut_s][\"bottom\"],\n",
    "        ],\n",
    "        initialXDomain=pos[\"x\"],\n",
    "        initialYDomain=pos[\"y\"][0],\n",
    "    ),\n",
    "    View(\n",
    "        tracks=[\n",
    "            chrom_labels[\"top\"],\n",
    "            gene_annots[\"top\"],\n",
    "            chip[mut_s][\"top\"],\n",
    "            peaks[mut_s][\"top\"],\n",
    "            cores[mut_s][\"top\"],\n",
    "            chrom_labels[\"left\"],\n",
    "            gene_annots[\"left\"],\n",
    "            chrom_labels[\"left\"],\n",
    "            chip[mut_s][\"left\"],\n",
    "            peaks[mut_s][\"left\"],\n",
    "            cores[mut_s][\"left\"],\n",
    "            CombinedTrack([lowc_heatmaps[mut_s][\"center\"], break_tracks_2D[mut_s][\"centre\"]]),\n",
    "            lowc_heatmaps[mut_s][\"bottom\"],\n",
    "        ],\n",
    "        initialXDomain=pos[\"x\"],\n",
    "        initialYDomain=pos[\"y\"][1],\n",
    "    ),\n",
    "    View(\n",
    "        tracks=[\n",
    "            chrom_labels[\"top\"],\n",
    "            gene_annots[\"top\"],\n",
    "            chip[nonmut_s][\"top\"],\n",
    "            peaks[nonmut_s][\"top\"],\n",
    "            cores[nonmut_s][\"top\"],\n",
    "            chrom_labels[\"left\"],\n",
    "            gene_annots[\"left\"],\n",
    "            chrom_labels[\"left\"],\n",
    "            chip[nonmut_s][\"left\"],\n",
    "            peaks[nonmut_s][\"left\"],\n",
    "            cores[nonmut_s][\"left\"],\n",
    "            CombinedTrack([lowc_heatmaps[nonmut_s][\"center\"], break_tracks_2D[mut_s][\"centre\"]]),\n",
    "            lowc_heatmaps[nonmut_s][\"bottom\"],\n",
    "        ],\n",
    "        initialXDomain=pos[\"x\"],\n",
    "        initialYDomain=pos[\"y\"][1],\n",
    "    ),\n",
    "]\n",
    "\n",
    "display, server, viewconf = higlass.display(\n",
    "    views=v,\n",
    "    zoom_syncs=[v],\n",
    "    location_syncs=[\n",
    "        v[0:2],\n",
    "        v[2:4]\n",
    "    ],\n",
    "    value_scale_syncs=[\n",
    "        [(v[0], chip[mut_s][\"top\"]), (v[1], chip[nonmut_s][\"top\"])],\n",
    "        [(v[0], chip[mut_s][\"left\"]), (v[1], chip[nonmut_s][\"left\"])],\n",
    "        [(v[2], chip[mut_s][\"top\"]), (v[3], chip[nonmut_s][\"top\"])],\n",
    "        [(v[2], chip[mut_s][\"left\"]), (v[3], chip[nonmut_s][\"left\"])],\n",
    "        [(v[0], chip[mut_s][\"top\"]), (v[0], chip[mut_s][\"left\"])],\n",
    "        [(v[2], chip[mut_s][\"top\"]), (v[2], chip[mut_s][\"left\"])],\n",
    "        [(v[0], lowc_heatmaps[mut_s][\"center\"]), (v[1], lowc_heatmaps[nonmut_s][\"center\"])],\n",
    "        [(v[0], lowc_heatmaps[mut_s][\"bottom\"]), (v[1], lowc_heatmaps[nonmut_s][\"bottom\"])],\n",
    "        [(v[2], lowc_heatmaps[mut_s][\"center\"]), (v[3], lowc_heatmaps[nonmut_s][\"center\"])],\n",
    "        [(v[2], lowc_heatmaps[mut_s][\"bottom\"]), (v[3], lowc_heatmaps[nonmut_s][\"bottom\"])],\n",
    "    ],\n",
    "    server_port=8192\n",
    ")\n",
    "\n",
    "display"
   ]
  },
  {
   "cell_type": "markdown",
   "metadata": {},
   "source": [
    "### All acetylation"
   ]
  },
  {
   "cell_type": "code",
   "execution_count": 23,
   "metadata": {
    "code_folding": [
     3,
     15
    ],
    "scrolled": false
   },
   "outputs": [
    {
     "data": {
      "application/vnd.jupyter.widget-view+json": {
       "model_id": "35b18124780c4c59adcccc81e02b70db",
       "version_major": 2,
       "version_minor": 0
      },
      "text/plain": [
       "HiGlassDisplay(viewconf={'editable': True, 'views': [{'uid': 'cR4jr4DNTb2QIlPhSlGn_w', 'tracks': {'top': [{'ty…"
      ]
     },
     "metadata": {},
     "output_type": "display_data"
    }
   ],
   "source": [
    "mut_s = \"PCa40507\"\n",
    "zoom_offset = 1e5\n",
    "\n",
    "pos = [\n",
    "    [\n",
    "        nc.chr_pos_to_genome_pos(\"chr17\", 50100000 - zoom_offset, hg38),\n",
    "        nc.chr_pos_to_genome_pos(\"chr17\", 50500000 + zoom_offset, hg38),\n",
    "    ],\n",
    "    [\n",
    "        nc.chr_pos_to_genome_pos(\"chr17\", 11300000 - zoom_offset, hg38),\n",
    "        nc.chr_pos_to_genome_pos(\"chr17\", 11800000 + zoom_offset, hg38),   \n",
    "    ],\n",
    "    [\n",
    "        nc.chr_pos_to_genome_pos(\"chr2\", 3700000 - zoom_offset, hg38),\n",
    "        nc.chr_pos_to_genome_pos(\"chr2\", 6890000 + zoom_offset, hg38),\n",
    "    ]\n",
    "]\n",
    "\n",
    "\n",
    "comb_tracks = {\n",
    "    \"chip\": CombinedTrack([chip[s][\"top\"] for s in tumour_samples if s != mut_s]),\n",
    "}\n",
    "\n",
    "# views\n",
    "v = [\n",
    "    View(\n",
    "        tracks=[\n",
    "            chrom_labels[\"top\"],\n",
    "            gene_annots[\"top\"],\n",
    "            break_tracks_1D[mut_s][\"top\"],\n",
    "            chip[mut_s][\"top\"],\n",
    "            cores[mut_s][\"top\"],\n",
    "            peaks[mut_s][\"top\"],\n",
    "            comb_tracks[\"chip\"],\n",
    "        ] + [\n",
    "            peaks[s][\"top\"] for s in tumour_samples if s != mut_s\n",
    "        ] + [\n",
    "            cores[s][\"top\"] for s in tumour_samples if s != mut_s\n",
    "        ],\n",
    "        initialXDomain=p,\n",
    "    )\n",
    "    for p in pos\n",
    "]\n",
    "\n",
    "display, server, viewconf = higlass.display(\n",
    "    views=v,\n",
    "    zoom_syncs=[v],\n",
    "    value_scale_syncs=[\n",
    "        [(v[0], chip[s][\"top\"]) for s in tumour_samples],\n",
    "        [(v[1], chip[s][\"top\"]) for s in tumour_samples],\n",
    "        [(v[2], chip[s][\"top\"]) for s in tumour_samples],\n",
    "    ],\n",
    "    server_port=8192\n",
    ")\n",
    "\n",
    "display"
   ]
  },
  {
   "cell_type": "markdown",
   "metadata": {},
   "source": [
    "### Paired acetylation"
   ]
  },
  {
   "cell_type": "code",
   "execution_count": 12,
   "metadata": {},
   "outputs": [
    {
     "data": {
      "application/vnd.jupyter.widget-view+json": {
       "model_id": "13f90d24ab4140428f03761c302fcd48",
       "version_major": 2,
       "version_minor": 0
      },
      "text/plain": [
       "HiGlassDisplay(viewconf={'editable': True, 'views': [{'uid': 'QzF4QCz6T8Ou19hXZoWmsg', 'tracks': {'top': [{'ty…"
      ]
     },
     "metadata": {},
     "output_type": "display_data"
    }
   ],
   "source": [
    "nonmut_s = \"PCa13848\"\n",
    "mut_s = \"PCa40507\"\n",
    "zoom_offset = 1e5\n",
    "\n",
    "pos = {\n",
    "    \"x\": [\n",
    "        nc.chr_pos_to_genome_pos(\"chr17\", 49964536, hg38),\n",
    "        nc.chr_pos_to_genome_pos(\"chr17\", 50380091, hg38),\n",
    "    ],\n",
    "    \"y\": [\n",
    "        nc.chr_pos_to_genome_pos(\"chr17\", 11300000 - zoom_offset, hg38),\n",
    "        nc.chr_pos_to_genome_pos(\"chr17\", 11800000 + zoom_offset, hg38),\n",
    "    ]\n",
    "}\n",
    "\n",
    "# views\n",
    "v = [\n",
    "    View(\n",
    "        tracks=[\n",
    "            chrom_labels[\"top\"],\n",
    "            gene_annots[\"top\"],\n",
    "            break_tracks_1D[mut_s][\"top\"],\n",
    "            chip[mut_s][\"top\"],\n",
    "            cores[mut_s][\"top\"],\n",
    "            peaks[mut_s][\"top\"],\n",
    "            chip[nonmut_s][\"top\"],\n",
    "            cores[nonmut_s][\"top\"],\n",
    "            peaks[nonmut_s][\"top\"],\n",
    "        ],\n",
    "        initialXDomain=pos[\"x\"],\n",
    "    )\n",
    "]\n",
    "\n",
    "display, server, viewconf = higlass.display(\n",
    "    views=v,\n",
    "    zoom_syncs=[v],\n",
    "    location_syncs=[v],\n",
    "    value_scale_syncs=[\n",
    "        [(v[0], chip[mut_s][\"top\"]), (v[0], chip[nonmut_s][\"top\"])],\n",
    "    ],\n",
    "    server_port=8192\n",
    ")\n",
    "\n",
    "display"
   ]
  },
  {
   "cell_type": "markdown",
   "metadata": {},
   "source": [
    "### ZNF516 & PMEPA1"
   ]
  },
  {
   "cell_type": "markdown",
   "metadata": {},
   "source": [
    "### Rearrangement"
   ]
  },
  {
   "cell_type": "code",
   "execution_count": 9,
   "metadata": {
    "code_folding": [
     3,
     15
    ],
    "scrolled": false
   },
   "outputs": [
    {
     "data": {
      "application/vnd.jupyter.widget-view+json": {
       "model_id": "a0e7e3d5e35b473194b8020e99f7df82",
       "version_major": 2,
       "version_minor": 0
      },
      "text/plain": [
       "HiGlassDisplay(viewconf={'editable': True, 'views': [{'uid': 'QiuGr526R3aQc6D7XR37eA', 'tracks': {'top': [{'ty…"
      ]
     },
     "metadata": {},
     "output_type": "display_data"
    }
   ],
   "source": [
    "mut_s = \"PCa13848\"\n",
    "nonmut_s = \"PCa40507\"\n",
    "\n",
    "pos = {\n",
    "    \"x\": [\n",
    "        nc.chr_pos_to_genome_pos(\"chr18\", 76200000, hg38),\n",
    "        nc.chr_pos_to_genome_pos(\"chr18\", 76600000, hg38),\n",
    "    ],\n",
    "    \"y\": [\n",
    "        nc.chr_pos_to_genome_pos(\"chr20\", 57600000, hg38),\n",
    "        nc.chr_pos_to_genome_pos(\"chr20\", 57800000, hg38),\n",
    "    ]\n",
    "}\n",
    "\n",
    "# views\n",
    "v = [\n",
    "    View(\n",
    "        tracks=[\n",
    "            chrom_labels[\"top\"],\n",
    "            gene_annots[\"top\"],\n",
    "            break_tracks_1D[mut_s][\"top\"],\n",
    "            chip[mut_s][\"top\"],\n",
    "            peaks[mut_s][\"top\"],\n",
    "            cores[mut_s][\"top\"],\n",
    "            chrom_labels[\"left\"],\n",
    "            gene_annots[\"left\"],\n",
    "            chrom_labels[\"left\"],\n",
    "            break_tracks_1D[mut_s][\"left\"],\n",
    "            chip[mut_s][\"left\"],\n",
    "            peaks[mut_s][\"left\"],\n",
    "            cores[mut_s][\"left\"],\n",
    "            CombinedTrack([lowc_heatmaps[mut_s][\"center\"], break_tracks_2D[mut_s][\"centre\"]]),\n",
    "            lowc_heatmaps[mut_s][\"bottom\"],\n",
    "        ],\n",
    "        initialXDomain=pos[\"x\"],\n",
    "        initialYDomain=pos[\"y\"],\n",
    "    ),\n",
    "    View(\n",
    "        tracks=[\n",
    "            chrom_labels[\"top\"],\n",
    "            gene_annots[\"top\"],\n",
    "            chip[nonmut_s][\"top\"],\n",
    "            peaks[nonmut_s][\"top\"],\n",
    "            cores[nonmut_s][\"top\"],\n",
    "            chrom_labels[\"left\"],\n",
    "            gene_annots[\"left\"],\n",
    "            chip[nonmut_s][\"left\"],\n",
    "            peaks[nonmut_s][\"left\"],\n",
    "            cores[nonmut_s][\"left\"],\n",
    "            CombinedTrack([lowc_heatmaps[nonmut_s][\"center\"], break_tracks_2D[mut_s][\"centre\"]]),\n",
    "            lowc_heatmaps[nonmut_s][\"bottom\"],\n",
    "        ],\n",
    "        initialXDomain=pos[\"x\"],\n",
    "        initialYDomain=pos[\"y\"],\n",
    "    ),\n",
    "]\n",
    "\n",
    "display, server, viewconf = higlass.display(\n",
    "    views=v,\n",
    "    zoom_syncs=[v],\n",
    "    location_syncs=[v],\n",
    "    value_scale_syncs=[\n",
    "        [(v[0], chip[mut_s][\"top\"]), (v[1], chip[nonmut_s][\"top\"])],\n",
    "        [(v[0], chip[mut_s][\"left\"]), (v[1], chip[nonmut_s][\"left\"])],\n",
    "        [(v[0], chip[mut_s][\"top\"]), (v[0], chip[mut_s][\"left\"])],\n",
    "        [(v[0], lowc_heatmaps[mut_s][\"center\"]), (v[1], lowc_heatmaps[nonmut_s][\"center\"])],\n",
    "        [(v[0], lowc_heatmaps[mut_s][\"bottom\"]), (v[1], lowc_heatmaps[nonmut_s][\"bottom\"])],\n",
    "    ],\n",
    "    server_port=8192\n",
    ")\n",
    "\n",
    "display"
   ]
  },
  {
   "cell_type": "markdown",
   "metadata": {},
   "source": [
    "### All acetylation"
   ]
  },
  {
   "cell_type": "code",
   "execution_count": 10,
   "metadata": {
    "scrolled": false
   },
   "outputs": [
    {
     "data": {
      "application/vnd.jupyter.widget-view+json": {
       "model_id": "c049414fac4141b695f11a351aa5b7b0",
       "version_major": 2,
       "version_minor": 0
      },
      "text/plain": [
       "HiGlassDisplay(viewconf={'editable': True, 'views': [{'uid': 'MsIvwS5JTwGpEuDEVBo6Ww', 'tracks': {'top': [{'ty…"
      ]
     },
     "metadata": {},
     "output_type": "display_data"
    }
   ],
   "source": [
    "mut_s = \"PCa13848\"\n",
    "zoom_offset = 1e5\n",
    "\n",
    "pos = {\n",
    "    \"x\": [\n",
    "        nc.chr_pos_to_genome_pos(\"chr18\", 76200000, hg38),\n",
    "        nc.chr_pos_to_genome_pos(\"chr18\", 76600000, hg38),\n",
    "    ],\n",
    "    \"y\": [\n",
    "        nc.chr_pos_to_genome_pos(\"chr20\", 57600000, hg38),\n",
    "        nc.chr_pos_to_genome_pos(\"chr20\", 57800000, hg38),\n",
    "    ]\n",
    "}\n",
    "\n",
    "comb_tracks = {\n",
    "    \"chip\": CombinedTrack([chip[s][\"top\"] for s in tumour_samples if s != mut_s]),\n",
    "}\n",
    "\n",
    "# views\n",
    "v = [\n",
    "    View(\n",
    "        tracks=[\n",
    "            chrom_labels[\"top\"],\n",
    "            gene_annots[\"top\"],\n",
    "            break_tracks_1D[mut_s][\"top\"],\n",
    "            chip[mut_s][\"top\"],\n",
    "            cores[mut_s][\"top\"],\n",
    "            peaks[mut_s][\"top\"],\n",
    "            comb_tracks[\"chip\"],\n",
    "        ] + [\n",
    "            peaks[s][\"top\"] for s in tumour_samples if s != mut_s\n",
    "        ] + [\n",
    "            cores[s][\"top\"] for s in tumour_samples if s != mut_s\n",
    "        ],\n",
    "        initialXDomain=p,\n",
    "    ) for p in pos.values()\n",
    "]\n",
    "\n",
    "display, server, viewconf = higlass.display(\n",
    "    views=v,\n",
    "    zoom_syncs=[v],\n",
    "    #location_syncs=[v],\n",
    "    value_scale_syncs=[\n",
    "        [(v[0], chip[s][\"top\"]) for s in tumour_samples],\n",
    "        [(v[1], chip[s][\"top\"]) for s in tumour_samples],\n",
    "    ],\n",
    "    server_port=8192\n",
    ")\n",
    "\n",
    "display"
   ]
  },
  {
   "cell_type": "markdown",
   "metadata": {},
   "source": [
    "### Paired acetylation"
   ]
  },
  {
   "cell_type": "code",
   "execution_count": null,
   "metadata": {},
   "outputs": [],
   "source": []
  },
  {
   "cell_type": "markdown",
   "metadata": {},
   "source": [
    "## TMPRSS2 & ERG\n",
    "### Rearrangement"
   ]
  },
  {
   "cell_type": "code",
   "execution_count": 9,
   "metadata": {},
   "outputs": [
    {
     "data": {
      "application/vnd.jupyter.widget-view+json": {
       "model_id": "660275123fbb4d028ceed166813accd2",
       "version_major": 2,
       "version_minor": 0
      },
      "text/plain": [
       "HiGlassDisplay(viewconf={'editable': True, 'views': [{'uid': 'e_JH2E8RT52MgmRK3wmKkA', 'tracks': {'top': [{'ty…"
      ]
     },
     "metadata": {},
     "output_type": "display_data"
    }
   ],
   "source": [
    "mut_s = \"PCa13848\"\n",
    "nonmut_s = \"PCa13266\"\n",
    "zoom_offset = 1e5\n",
    "\n",
    "pos = {\n",
    "    \"x\": [\n",
    "        nc.chr_pos_to_genome_pos(\"chr21\", 38400000 - zoom_offset, hg38),\n",
    "        nc.chr_pos_to_genome_pos(\"chr21\", 38780000 + zoom_offset, hg38),\n",
    "    ],\n",
    "    \"y\": [\n",
    "        nc.chr_pos_to_genome_pos(\"chr21\", 41450000 - zoom_offset, hg38),\n",
    "        nc.chr_pos_to_genome_pos(\"chr21\", 41620000 + zoom_offset, hg38),   \n",
    "    ]\n",
    "}\n",
    "\n",
    "# views\n",
    "v = [\n",
    "    View(\n",
    "        tracks=[\n",
    "            chrom_labels[\"top\"],\n",
    "            gene_annots[\"top\"],\n",
    "            chip[mut_s][\"top\"],\n",
    "            peaks[mut_s][\"top\"],\n",
    "            cores[mut_s][\"top\"],\n",
    "            chrom_labels[\"left\"],\n",
    "            gene_annots[\"left\"],\n",
    "            chrom_labels[\"left\"],\n",
    "            chip[mut_s][\"left\"],\n",
    "            peaks[mut_s][\"left\"],\n",
    "            cores[mut_s][\"left\"],\n",
    "            CombinedTrack([lowc_heatmaps[mut_s][\"center\"], break_tracks_2D[mut_s][\"centre\"]]),\n",
    "            lowc_heatmaps[mut_s][\"bottom\"],\n",
    "        ],\n",
    "        initialXDomain=pos[\"x\"],\n",
    "        initialYDomain=pos[\"y\"],\n",
    "    ),\n",
    "    View(\n",
    "        tracks=[\n",
    "            chrom_labels[\"top\"],\n",
    "            gene_annots[\"top\"],\n",
    "            chip[nonmut_s][\"top\"],\n",
    "            peaks[nonmut_s][\"top\"],\n",
    "            cores[nonmut_s][\"top\"],\n",
    "            chrom_labels[\"left\"],\n",
    "            gene_annots[\"left\"],\n",
    "            chrom_labels[\"left\"],\n",
    "            chip[nonmut_s][\"left\"],\n",
    "            peaks[nonmut_s][\"left\"],\n",
    "            cores[nonmut_s][\"left\"],\n",
    "            CombinedTrack([lowc_heatmaps[nonmut_s][\"center\"], break_tracks_2D[mut_s][\"centre\"]]),\n",
    "            lowc_heatmaps[nonmut_s][\"bottom\"],\n",
    "        ],\n",
    "        initialXDomain=pos[\"x\"],\n",
    "        initialYDomain=pos[\"y\"],\n",
    "    ),\n",
    "]\n",
    "\n",
    "display, server, viewconf = higlass.display(\n",
    "    views=v,\n",
    "    zoom_syncs=[v],\n",
    "    location_syncs=[\n",
    "        v[0:2],\n",
    "        v[2:4]\n",
    "    ],\n",
    "    value_scale_syncs=[\n",
    "        [(v[0], chip[mut_s][\"top\"]), (v[1], chip[nonmut_s][\"top\"])],\n",
    "        [(v[0], chip[mut_s][\"left\"]), (v[1], chip[nonmut_s][\"left\"])],\n",
    "        [(v[0], chip[mut_s][\"top\"]), (v[0], chip[mut_s][\"left\"])],\n",
    "        [(v[0], lowc_heatmaps[mut_s][\"center\"]), (v[1], lowc_heatmaps[nonmut_s][\"center\"])],\n",
    "        [(v[0], lowc_heatmaps[mut_s][\"bottom\"]), (v[1], lowc_heatmaps[nonmut_s][\"bottom\"])],\n",
    "    ],\n",
    "    server_port=8192\n",
    ")\n",
    "\n",
    "display"
   ]
  },
  {
   "cell_type": "markdown",
   "metadata": {},
   "source": [
    "### All acetylation"
   ]
  },
  {
   "cell_type": "code",
   "execution_count": 10,
   "metadata": {
    "scrolled": false
   },
   "outputs": [
    {
     "data": {
      "application/vnd.jupyter.widget-view+json": {
       "model_id": "d0f2290a31a44606a2d61ebb6cd03d1b",
       "version_major": 2,
       "version_minor": 0
      },
      "text/plain": [
       "HiGlassDisplay(viewconf={'editable': True, 'views': [{'uid': 'fgGdHwXoTwmDZxI4aA7Q_Q', 'tracks': {'top': [{'ty…"
      ]
     },
     "metadata": {},
     "output_type": "display_data"
    }
   ],
   "source": [
    "zoom_offset = 1e5\n",
    "\n",
    "pos = {\n",
    "    \"x\": [\n",
    "        nc.chr_pos_to_genome_pos(\"chr21\", 38400000 - zoom_offset, hg38),\n",
    "        nc.chr_pos_to_genome_pos(\"chr21\", 38780000 + zoom_offset, hg38),\n",
    "    ],\n",
    "    \"y\": [\n",
    "        nc.chr_pos_to_genome_pos(\"chr21\", 41450000 - zoom_offset, hg38),\n",
    "        nc.chr_pos_to_genome_pos(\"chr21\", 41620000 + zoom_offset, hg38),   \n",
    "    ]\n",
    "}\n",
    "\n",
    "comb_tracks = {\n",
    "    \"T2E\": CombinedTrack([chip[s][\"top\"] for s in t2e_samples]),\n",
    "    \"non-T2E\": CombinedTrack([chip[s][\"top\"] for s in nont2e_samples]),\n",
    "}\n",
    "\n",
    "# views\n",
    "v = [\n",
    "    View(\n",
    "        tracks=[\n",
    "            chrom_labels[\"top\"],\n",
    "            gene_annots[\"top\"],\n",
    "            break_tracks_1D[mut_s][\"top\"],\n",
    "            comb_tracks[\"T2E\"],\n",
    "            comb_tracks[\"non-T2E\"],\n",
    "        ] + [\n",
    "            peaks[s][\"top\"] for s in t2e_samples\n",
    "        ] + [\n",
    "            cores[s][\"top\"] for s in t2e_samples\n",
    "        ] + [\n",
    "            peaks[s][\"top\"] for s in nont2e_samples\n",
    "        ] + [\n",
    "            cores[s][\"top\"] for s in nont2e_samples\n",
    "        ],\n",
    "        initialXDomain=p,\n",
    "    ) for p in pos.values()\n",
    "]\n",
    "\n",
    "display, server, viewconf = higlass.display(\n",
    "    views=v,\n",
    "    zoom_syncs=[v],\n",
    "    #location_syncs=[v],\n",
    "    value_scale_syncs=[\n",
    "        [(v[0], chip[s][\"top\"]) for s in tumour_samples],\n",
    "        [(v[1], chip[s][\"top\"]) for s in tumour_samples],\n",
    "    ],\n",
    "    server_port=8192\n",
    ")\n",
    "\n",
    "display"
   ]
  },
  {
   "cell_type": "markdown",
   "metadata": {},
   "source": [
    "## ZBTB24 & ELK4"
   ]
  },
  {
   "cell_type": "markdown",
   "metadata": {},
   "source": [
    "### Rearrangement"
   ]
  },
  {
   "cell_type": "code",
   "execution_count": 18,
   "metadata": {},
   "outputs": [
    {
     "data": {
      "application/vnd.jupyter.widget-view+json": {
       "model_id": "29386442910e4544a0c3a347cbe32631",
       "version_major": 2,
       "version_minor": 0
      },
      "text/plain": [
       "HiGlassDisplay(viewconf={'editable': True, 'views': [{'uid': 'ETEwucwgSvm9YP5y7SmaFA', 'tracks': {'top': [{'ty…"
      ]
     },
     "metadata": {},
     "output_type": "display_data"
    }
   ],
   "source": [
    "mut_s = \"PCa13848\"\n",
    "nonmut_s = \"PCa13266\"\n",
    "zoom_offset = 1e5\n",
    "\n",
    "pos = {\n",
    "    \"x\": [\n",
    "        nc.chr_pos_to_genome_pos(\"chr6\", 110500000 - zoom_offset, hg38),\n",
    "        nc.chr_pos_to_genome_pos(\"chr6\", 110500000 + zoom_offset, hg38),\n",
    "    ],\n",
    "    \"y\": [\n",
    "        nc.chr_pos_to_genome_pos(\"chr1\", 205650000 - zoom_offset, hg38),\n",
    "        nc.chr_pos_to_genome_pos(\"chr1\", 205650000 + zoom_offset, hg38),   \n",
    "    ]\n",
    "}\n",
    "\n",
    "# views\n",
    "v = [\n",
    "    View(\n",
    "        tracks=[\n",
    "            chrom_labels[\"top\"],\n",
    "            gene_annots[\"top\"],\n",
    "            chip[mut_s][\"top\"],\n",
    "            peaks[mut_s][\"top\"],\n",
    "            cores[mut_s][\"top\"],\n",
    "            chrom_labels[\"left\"],\n",
    "            gene_annots[\"left\"],\n",
    "            chrom_labels[\"left\"],\n",
    "            chip[mut_s][\"left\"],\n",
    "            peaks[mut_s][\"left\"],\n",
    "            cores[mut_s][\"left\"],\n",
    "            CombinedTrack([lowc_heatmaps[mut_s][\"center\"], break_tracks_2D[mut_s][\"centre\"]]),\n",
    "            lowc_heatmaps[mut_s][\"bottom\"],\n",
    "        ],\n",
    "        initialXDomain=pos[\"x\"],\n",
    "        initialYDomain=pos[\"y\"],\n",
    "    ),\n",
    "    View(\n",
    "        tracks=[\n",
    "            chrom_labels[\"top\"],\n",
    "            gene_annots[\"top\"],\n",
    "            chip[nonmut_s][\"top\"],\n",
    "            peaks[nonmut_s][\"top\"],\n",
    "            cores[nonmut_s][\"top\"],\n",
    "            chrom_labels[\"left\"],\n",
    "            gene_annots[\"left\"],\n",
    "            chrom_labels[\"left\"],\n",
    "            chip[nonmut_s][\"left\"],\n",
    "            peaks[nonmut_s][\"left\"],\n",
    "            cores[nonmut_s][\"left\"],\n",
    "            CombinedTrack([lowc_heatmaps[nonmut_s][\"center\"], break_tracks_2D[mut_s][\"centre\"]]),\n",
    "            lowc_heatmaps[nonmut_s][\"bottom\"],\n",
    "        ],\n",
    "        initialXDomain=pos[\"x\"],\n",
    "        initialYDomain=pos[\"y\"],\n",
    "    ),\n",
    "]\n",
    "\n",
    "display, server, viewconf = higlass.display(\n",
    "    views=v,\n",
    "    zoom_syncs=[v],\n",
    "    location_syncs=[\n",
    "        v[0:2],\n",
    "        v[2:4]\n",
    "    ],\n",
    "    value_scale_syncs=[\n",
    "        [(v[0], chip[mut_s][\"top\"]), (v[1], chip[nonmut_s][\"top\"])],\n",
    "        [(v[0], chip[mut_s][\"left\"]), (v[1], chip[nonmut_s][\"left\"])],\n",
    "        [(v[0], chip[mut_s][\"top\"]), (v[0], chip[mut_s][\"left\"])],\n",
    "        [(v[0], lowc_heatmaps[mut_s][\"center\"]), (v[1], lowc_heatmaps[nonmut_s][\"center\"])],\n",
    "        [(v[0], lowc_heatmaps[mut_s][\"bottom\"]), (v[1], lowc_heatmaps[nonmut_s][\"bottom\"])],\n",
    "    ],\n",
    "    server_port=8192\n",
    ")\n",
    "\n",
    "display"
   ]
  },
  {
   "cell_type": "markdown",
   "metadata": {},
   "source": [
    "### All acetylation"
   ]
  },
  {
   "cell_type": "code",
   "execution_count": 16,
   "metadata": {
    "scrolled": false
   },
   "outputs": [
    {
     "data": {
      "application/vnd.jupyter.widget-view+json": {
       "model_id": "a9ef068129b946c3943be9e88a88bb28",
       "version_major": 2,
       "version_minor": 0
      },
      "text/plain": [
       "HiGlassDisplay(viewconf={'editable': True, 'views': [{'uid': 'O4wkomI1TruN-rfMa6ixMw', 'tracks': {'top': [{'ty…"
      ]
     },
     "metadata": {},
     "output_type": "display_data"
    }
   ],
   "source": [
    "zoom_offset = 1e5\n",
    "\n",
    "pos = {\n",
    "    \"x\": [\n",
    "        nc.chr_pos_to_genome_pos(\"chr6\", 110500000 - zoom_offset, hg38),\n",
    "        nc.chr_pos_to_genome_pos(\"chr6\", 110500000 + zoom_offset, hg38),\n",
    "    ],\n",
    "    \"y\": [\n",
    "        nc.chr_pos_to_genome_pos(\"chr1\", 205650000 - zoom_offset, hg38),\n",
    "        nc.chr_pos_to_genome_pos(\"chr1\", 205650000 + zoom_offset, hg38),   \n",
    "    ]\n",
    "}\n",
    "\n",
    "comb_tracks = {\n",
    "    \"mut\": CombinedTrack([chip[s][\"top\"] for s in tumour_samples if s == mut_s]),\n",
    "    \"nonmut\": CombinedTrack([chip[s][\"top\"] for s in tumour_samples if s != mut_s]),\n",
    "}\n",
    "\n",
    "# views\n",
    "v = [\n",
    "    View(\n",
    "        tracks=[\n",
    "            chrom_labels[\"top\"],\n",
    "            gene_annots[\"top\"],\n",
    "            break_tracks_1D[mut_s][\"top\"],\n",
    "            comb_tracks[\"mut\"],\n",
    "        ] + [\n",
    "            peaks[s][\"top\"] for s in tumour_samples if s == mut_s\n",
    "        ] + [\n",
    "            cores[s][\"top\"] for s in tumour_samples if s == mut_s\n",
    "        ] + [\n",
    "            comb_tracks[\"nonmut\"],\n",
    "        ] + [\n",
    "            peaks[s][\"top\"] for s in tumour_samples if s != mut_s\n",
    "        ] + [\n",
    "            cores[s][\"top\"] for s in tumour_samples if s != mut_s\n",
    "        ],\n",
    "        initialXDomain=p,\n",
    "    ) for p in pos.values()\n",
    "]\n",
    "\n",
    "display, server, viewconf = higlass.display(\n",
    "    views=v,\n",
    "    zoom_syncs=[v],\n",
    "    #location_syncs=[v],\n",
    "    value_scale_syncs=[\n",
    "        [(v[0], chip[s][\"top\"]) for s in tumour_samples],\n",
    "        [(v[1], chip[s][\"top\"]) for s in tumour_samples],\n",
    "    ],\n",
    "    server_port=8192\n",
    ")\n",
    "\n",
    "display"
   ]
  },
  {
   "cell_type": "markdown",
   "metadata": {},
   "source": [
    "## Other example"
   ]
  },
  {
   "cell_type": "markdown",
   "metadata": {},
   "source": [
    "### Rearrangement"
   ]
  },
  {
   "cell_type": "code",
   "execution_count": 20,
   "metadata": {},
   "outputs": [
    {
     "data": {
      "application/vnd.jupyter.widget-view+json": {
       "model_id": "bb16fb4c384449bda21a8df7d332eb9e",
       "version_major": 2,
       "version_minor": 0
      },
      "text/plain": [
       "HiGlassDisplay(viewconf={'editable': True, 'views': [{'uid': 'SAyTqEsXRuunk-35AD5mjA', 'tracks': {'top': [{'ty…"
      ]
     },
     "metadata": {},
     "output_type": "display_data"
    }
   ],
   "source": [
    "mut_s = \"PCa13848\"\n",
    "nonmut_s = \"PCa13266\"\n",
    "zoom_offset = 1e5\n",
    "\n",
    "pos = {\n",
    "    \"x\": [\n",
    "        nc.chr_pos_to_genome_pos(\"chr5\", 172400000 - zoom_offset, hg38),\n",
    "        nc.chr_pos_to_genome_pos(\"chr5\", 173000000 + zoom_offset, hg38),\n",
    "    ],\n",
    "    \"y\": [\n",
    "        nc.chr_pos_to_genome_pos(\"chr5\", 59000000 - zoom_offset, hg38),\n",
    "        nc.chr_pos_to_genome_pos(\"chr5\", 59200000 + zoom_offset, hg38),\n",
    "    ]\n",
    "}\n",
    "\n",
    "# views\n",
    "v = [\n",
    "    View(\n",
    "        tracks=[\n",
    "            chrom_labels[\"top\"],\n",
    "            gene_annots[\"top\"],\n",
    "            chip[mut_s][\"top\"],\n",
    "            peaks[mut_s][\"top\"],\n",
    "            cores[mut_s][\"top\"],\n",
    "            chrom_labels[\"left\"],\n",
    "            gene_annots[\"left\"],\n",
    "            chrom_labels[\"left\"],\n",
    "            chip[mut_s][\"left\"],\n",
    "            peaks[mut_s][\"left\"],\n",
    "            cores[mut_s][\"left\"],\n",
    "            CombinedTrack([lowc_heatmaps[mut_s][\"center\"], break_tracks_2D[mut_s][\"centre\"]]),\n",
    "            lowc_heatmaps[mut_s][\"bottom\"],\n",
    "        ],\n",
    "        initialXDomain=pos[\"x\"],\n",
    "        initialYDomain=pos[\"y\"],\n",
    "    ),\n",
    "    View(\n",
    "        tracks=[\n",
    "            chrom_labels[\"top\"],\n",
    "            gene_annots[\"top\"],\n",
    "            chip[nonmut_s][\"top\"],\n",
    "            peaks[nonmut_s][\"top\"],\n",
    "            cores[nonmut_s][\"top\"],\n",
    "            chrom_labels[\"left\"],\n",
    "            gene_annots[\"left\"],\n",
    "            chrom_labels[\"left\"],\n",
    "            chip[nonmut_s][\"left\"],\n",
    "            peaks[nonmut_s][\"left\"],\n",
    "            cores[nonmut_s][\"left\"],\n",
    "            CombinedTrack([lowc_heatmaps[nonmut_s][\"center\"], break_tracks_2D[mut_s][\"centre\"]]),\n",
    "            lowc_heatmaps[nonmut_s][\"bottom\"],\n",
    "        ],\n",
    "        initialXDomain=pos[\"x\"],\n",
    "        initialYDomain=pos[\"y\"],\n",
    "    ),\n",
    "]\n",
    "\n",
    "display, server, viewconf = higlass.display(\n",
    "    views=v,\n",
    "    zoom_syncs=[v],\n",
    "    location_syncs=[\n",
    "        v[0:2],\n",
    "        v[2:4]\n",
    "    ],\n",
    "    value_scale_syncs=[\n",
    "        [(v[0], chip[mut_s][\"top\"]), (v[1], chip[nonmut_s][\"top\"])],\n",
    "        [(v[0], chip[mut_s][\"left\"]), (v[1], chip[nonmut_s][\"left\"])],\n",
    "        [(v[0], chip[mut_s][\"top\"]), (v[0], chip[mut_s][\"left\"])],\n",
    "        [(v[0], lowc_heatmaps[mut_s][\"center\"]), (v[1], lowc_heatmaps[nonmut_s][\"center\"])],\n",
    "        [(v[0], lowc_heatmaps[mut_s][\"bottom\"]), (v[1], lowc_heatmaps[nonmut_s][\"bottom\"])],\n",
    "    ],\n",
    "    server_port=8192\n",
    ")\n",
    "\n",
    "display"
   ]
  },
  {
   "cell_type": "markdown",
   "metadata": {},
   "source": [
    "### All acetylation"
   ]
  },
  {
   "cell_type": "code",
   "execution_count": 21,
   "metadata": {
    "scrolled": false
   },
   "outputs": [
    {
     "data": {
      "application/vnd.jupyter.widget-view+json": {
       "model_id": "e0e026b279eb4bda958feb2f56cf9b30",
       "version_major": 2,
       "version_minor": 0
      },
      "text/plain": [
       "HiGlassDisplay(viewconf={'editable': True, 'views': [{'uid': 'YxbZcsVkR4mouzVtW3aOMQ', 'tracks': {'top': [{'ty…"
      ]
     },
     "metadata": {},
     "output_type": "display_data"
    }
   ],
   "source": [
    "zoom_offset = 1e5\n",
    "\n",
    "pos = {\n",
    "    \"x\": [\n",
    "        nc.chr_pos_to_genome_pos(\"chr5\", 172400000 - zoom_offset, hg38),\n",
    "        nc.chr_pos_to_genome_pos(\"chr5\", 173000000 + zoom_offset, hg38),\n",
    "    ],\n",
    "    \"y\": [\n",
    "        nc.chr_pos_to_genome_pos(\"chr5\", 59000000 - zoom_offset, hg38),\n",
    "        nc.chr_pos_to_genome_pos(\"chr5\", 59200000 + zoom_offset, hg38),\n",
    "    ]\n",
    "}\n",
    "\n",
    "comb_tracks = {\n",
    "    \"mut\": CombinedTrack([chip[s][\"top\"] for s in tumour_samples if s == mut_s]),\n",
    "    \"nonmut\": CombinedTrack([chip[s][\"top\"] for s in tumour_samples if s != mut_s]),\n",
    "}\n",
    "\n",
    "# views\n",
    "v = [\n",
    "    View(\n",
    "        tracks=[\n",
    "            chrom_labels[\"top\"],\n",
    "            gene_annots[\"top\"],\n",
    "            break_tracks_1D[mut_s][\"top\"],\n",
    "            comb_tracks[\"mut\"],\n",
    "        ] + [\n",
    "            peaks[s][\"top\"] for s in tumour_samples if s == mut_s\n",
    "        ] + [\n",
    "            cores[s][\"top\"] for s in tumour_samples if s == mut_s\n",
    "        ] + [\n",
    "            comb_tracks[\"nonmut\"],\n",
    "        ] + [\n",
    "            peaks[s][\"top\"] for s in tumour_samples if s != mut_s\n",
    "        ] + [\n",
    "            cores[s][\"top\"] for s in tumour_samples if s != mut_s\n",
    "        ],\n",
    "        initialXDomain=p,\n",
    "    ) for p in pos.values()\n",
    "]\n",
    "\n",
    "display, server, viewconf = higlass.display(\n",
    "    views=v,\n",
    "    zoom_syncs=[v],\n",
    "    #location_syncs=[v],\n",
    "    value_scale_syncs=[\n",
    "        [(v[0], chip[s][\"top\"]) for s in tumour_samples],\n",
    "        [(v[1], chip[s][\"top\"]) for s in tumour_samples],\n",
    "    ],\n",
    "    server_port=8192\n",
    ")\n",
    "\n",
    "display"
   ]
  },
  {
   "cell_type": "code",
   "execution_count": 6,
   "metadata": {},
   "outputs": [
    {
     "data": {
      "application/vnd.jupyter.widget-view+json": {
       "model_id": "d2a02df76de3462893780559f917ce2c",
       "version_major": 2,
       "version_minor": 0
      },
      "text/plain": [
       "HiGlassDisplay(viewconf={'editable': True, 'views': [{'uid': 'fK47XBvhQFi4TcLllh_eqQ', 'tracks': {'top': [{'ty…"
      ]
     },
     "metadata": {},
     "output_type": "display_data"
    }
   ],
   "source": [
    "insulation = {\n",
    "    \"diff\": Track(\n",
    "        track_type=\"horizontal-line\",\n",
    "        position=\"top\",\n",
    "        tileset=bigwig(\"../2020-08-29_TADs-downsampled/Insulation/difftl-insulation.malignant-benign.bw\"),\n",
    "        filetype=\"vector\",\n",
    "        height=100,\n",
    "        options={\n",
    "            \"showMousePosition\": True,\n",
    "            \"name\": \"Malignant vs Benign Insulation\",\n",
    "            \"valueScaleMin\": -2,\n",
    "            \"valueScaleMax\": 2,\n",
    "            \"zeroLineColor\": \"#000000\",\n",
    "            \"zeroLineVisible\": True,\n",
    "            # \"zeroLineOpacity\": 1,\n",
    "        },\n",
    "    ),\n",
    "    \"tumour\": Track(\n",
    "        track_type=\"horizontal-line\",\n",
    "        position=\"top\",\n",
    "        tileset=bigwig(\"../2020-08-29_TADs-downsampled/Insulation/difftl-insulation.malignant.bw\"),\n",
    "        filetype=\"vector\",\n",
    "        height=100,\n",
    "        options={\n",
    "            \"showMousePosition\": True,\n",
    "            \"name\": \"Tumour Insulation\",\n",
    "        },\n",
    "    ),\n",
    "    \"benign\": Track(\n",
    "        track_type=\"horizontal-line\",\n",
    "        position=\"top\",\n",
    "        tileset=bigwig(\"../2020-08-29_TADs-downsampled/Insulation/difftl-insulation.benign.bw\"),\n",
    "        filetype=\"vector\",\n",
    "        height=100,\n",
    "        options={\n",
    "            \"showMousePosition\": True,\n",
    "            \"name\": \"Tumour Insulation\",\n",
    "        },\n",
    "    ),\n",
    "}\n",
    "\n",
    "test_view = View(\n",
    "    tracks=[\n",
    "        gene_annots[\"top\"],\n",
    "        chrom_labels[\"top\"],\n",
    "        lowc_heatmaps[\"PCa13266\"][\"top\"],\n",
    "        lowc_heatmaps[\"SRR7702334\"][\"top\"],\n",
    "        lowc_heatmaps[\"Benign-Prostate-1595983\"][\"top\"],\n",
    "        lowc_heatmaps[\"SRR8446383\"][\"top\"],\n",
    "    ],\n",
    "    initialXDomain=[\n",
    "        nc.chr_pos_to_genome_pos(\"chrX\", 68e6 - 3e6, hg38),\n",
    "        nc.chr_pos_to_genome_pos(\"chrX\", 68e6 + 3e6, hg38),\n",
    "    ]\n",
    ")\n",
    "\n",
    "d, s, v = higlass.display(\n",
    "    views=[test_view],\n",
    "    # value_scale_syncs=[\n",
    "    #     [(test_view, lowc_heatmaps[s][\"top\"]) for s in [\"PCa13266\", \"SRR7702334\", \"Benign-Prostate-1595983\", \"SRR8446383\"]]\n",
    "    # ],\n",
    ")\n",
    "d"
   ]
  },
  {
   "cell_type": "code",
   "execution_count": null,
   "metadata": {},
   "outputs": [],
   "source": []
  }
 ],
 "metadata": {
  "file_extension": ".py",
  "kernelspec": {
   "display_name": "Python 3",
   "language": "python",
   "name": "python3"
  },
  "language_info": {
   "codemirror_mode": {
    "name": "ipython",
    "version": 3
   },
   "file_extension": ".py",
   "mimetype": "text/x-python",
   "name": "python",
   "nbconvert_exporter": "python",
   "pygments_lexer": "ipython3",
   "version": "3.6.10"
  },
  "mimetype": "text/x-python",
  "name": "python",
  "npconvert_exporter": "python",
  "pygments_lexer": "ipython3",
  "version": 3,
  "widgets": {
   "application/vnd.jupyter.widget-state+json": {
    "state": {
     "017e87eb993b4472b4fc85564dacca10": {
      "model_module": "@jupyter-widgets/base",
      "model_module_version": "1.2.0",
      "model_name": "LayoutModel",
      "state": {}
     },
     "1745bca1037448d0a20aedf2566e9d8f": {
      "model_module": "higlass-jupyter",
      "model_module_version": "0.4.0",
      "model_name": "HiGlassDisplayModel",
      "state": {
       "_dom_classes": [],
       "_model_data": [],
       "_view_count": null,
       "auth_token": "",
       "bounded": null,
       "cursor_location": [
        -1,
        -1
       ],
       "dark_mode": false,
       "default_track_options": {},
       "dom_element_id": "oudf06",
       "height": 0,
       "layout": "IPY_MODEL_b932f56193a04f7d88e75e077b3cb2f6",
       "location": [
        [
         2224407310,
         2229407310,
         2816021682.111111,
         2818924459.888889
        ],
        [
         2224407310,
         2229407310,
         2816091126.5555553,
         2818855015.444444
        ]
       ],
       "options": {},
       "renderer": "",
       "select_mode": false,
       "selection": [],
       "selection_on_alt": false,
       "viewconf": {
        "editable": true,
        "exportViewUrl": "http://higlass.io/api/v1/viewconfs",
        "locationLocks": {
         "locksByViewUid": {},
         "locksDict": {}
        },
        "trackSourceServers": [
         "http://higlass.io/api/v1"
        ],
        "valueScaleLocks": {
         "locksByViewUid": {},
         "locksDict": {}
        },
        "views": [
         {
          "initialXDomain": [
           2224407310,
           2229407310
          ],
          "initialYDomain": [
           2816021682.111111,
           2818924459.888889
          ],
          "layout": {
           "h": 20,
           "w": 12,
           "x": 0,
           "y": 0
          },
          "tracks": {
           "bottom": [
            {
             "height": 150,
             "options": {
              "backgroundColor": "#eeeeee",
              "colorRange": [
               "white",
               "rgba(245,166,35,1.0)",
               "rgba(208,2,27,1.0)",
               "black"
              ],
              "colorbarPosition": "topRight",
              "labelBottomMargin": 0,
              "labelColor": "black",
              "labelLeftMargin": 0,
              "labelPosition": "bottomRight",
              "labelRightMargin": 0,
              "labelShowAssembly": true,
              "labelShowResolution": true,
              "labelTopMargin": 0,
              "maxZoom": "15",
              "minHeight": 40,
              "minWidth": 100,
              "name": "PCa13848",
              "showMousePosition": true,
              "trackBorderColor": "black",
              "trackBorderWidth": 0
             },
             "resolutions": [
              1000,
              2000,
              3000,
              4000,
              5000,
              10000,
              20000,
              30000,
              40000,
              50000,
              100000,
              200000,
              300000,
              400000,
              500000,
              1000000,
              2000000,
              3000000,
              4000000,
              5000000
             ],
             "server": "http://localhost:34199/api/v1",
             "tilesetUid": "BbAPbcAST1q8oGL-L8pang",
             "transforms": [],
             "type": "horizontal-heatmap",
             "uid": "eGEWgCI_T76CYCZe11Px8Q"
            }
           ],
           "center": [
            {
             "height": 300,
             "options": {
              "backgroundColor": "#eeeeee",
              "colorRange": [
               "white",
               "rgba(245,166,35,1.0)",
               "rgba(208,2,27,1.0)",
               "black"
              ],
              "colorbarBackgroundColor": "#ffffff",
              "colorbarPosition": "topRight",
              "extent": "full",
              "heatmapValueScaling": "log",
              "labelBottomMargin": 0,
              "labelLeftMargin": 0,
              "labelPosition": "bottomRight",
              "labelRightMargin": 0,
              "labelShowAssembly": true,
              "labelShowResolution": true,
              "labelTopMargin": 0,
              "maxZoom": "15",
              "minHeight": 100,
              "minWidth": 100,
              "mousePositionColor": "#000000",
              "name": "PCa13848",
              "showMousePosition": true,
              "showTooltip": false,
              "trackBorderColor": "black",
              "trackBorderWidth": 0
             },
             "resolutions": [
              1000,
              2000,
              3000,
              4000,
              5000,
              10000,
              20000,
              30000,
              40000,
              50000,
              100000,
              200000,
              300000,
              400000,
              500000,
              1000000,
              2000000,
              3000000,
              4000000,
              5000000
             ],
             "server": "http://localhost:34199/api/v1",
             "tilesetUid": "BbAPbcAST1q8oGL-L8pang",
             "transforms": [],
             "type": "heatmap",
             "uid": "Gmv4my58QdW7ge_qdKHHCA"
            }
           ],
           "gallery": [],
           "left": [
            {
             "options": {
              "color": "#777777",
              "fontIsLeftAligned": false,
              "fontSize": 16,
              "minWidth": 35,
              "mousePositionColor": "#000000",
              "showMousePosition": true,
              "stroke": "#FFFFFF"
             },
             "server": "http://localhost:34199/api/v1",
             "tilesetUid": "CMsuiFUyR6yjaqRP3PPALg",
             "type": "vertical-chromosome-labels",
             "uid": "F83cD5fMR9SZl5QUecmlAg",
             "width": 30
            },
            {
             "options": {
              "fontSize": 16,
              "geneAnnoHeight": 12,
              "geneLabelPosition": "outside",
              "geneStrandSpacing": 4,
              "labelBottomMargin": 0,
              "labelColor": "black",
              "labelLeftMargin": 0,
              "labelPosition": "hidden",
              "labelRightMargin": 0,
              "labelTopMargin": 0,
              "minWidth": 24,
              "minusStrandColor": "red",
              "mousePositionColor": "#000000",
              "plusStrandColor": "blue",
              "showMousePosition": true,
              "trackBorderColor": "black",
              "trackBorderWidth": 0
             },
             "server": "http://localhost:34199/api/v1",
             "tilesetUid": "CVJU4sjYTEikHt_g6QxMrw",
             "type": "vertical-gene-annotations",
             "uid": "A8kVGdlAQrOi6-NMifnjew",
             "width": 55
            },
            {
             "options": {
              "colorRange": [
               "white",
               "rgba(245,166,35,1.0)",
               "rgba(208,2,27,1.0)",
               "black"
              ],
              "colorbarPosition": "topRight",
              "labelBottomMargin": 0,
              "labelColor": "black",
              "labelLeftMargin": 0,
              "labelPosition": "bottomRight",
              "labelRightMargin": 0,
              "labelShowAssembly": true,
              "labelShowResolution": true,
              "labelTopMargin": 0,
              "maxZoom": "15",
              "minHeight": 100,
              "minWidth": 50,
              "name": "PCa13848",
              "scaleEndPercent": "1.00000",
              "scaleStartPercent": "0.00000",
              "showMousePosition": true,
              "trackBorderColor": "black",
              "trackBorderWidth": 0
             },
             "resolutions": [
              1000,
              2000,
              3000,
              4000,
              5000,
              10000,
              20000,
              30000,
              40000,
              50000,
              100000,
              200000,
              300000,
              400000,
              500000,
              1000000,
              2000000,
              3000000,
              4000000,
              5000000
             ],
             "server": "http://localhost:34199/api/v1",
             "tilesetUid": "BbAPbcAST1q8oGL-L8pang",
             "transforms": [],
             "type": "vertical-heatmap",
             "uid": "HFS9SNq3Q32K1ObmHWuNGg",
             "width": 150
            }
           ],
           "right": [],
           "top": [
            {
             "height": 30,
             "options": {
              "color": "#808080",
              "fontIsLeftAligned": false,
              "fontSize": 16,
              "mousePositionColor": "#000000",
              "showMousePosition": true,
              "stroke": "#ffffff"
             },
             "server": "http://localhost:34199/api/v1",
             "tilesetUid": "CMsuiFUyR6yjaqRP3PPALg",
             "type": "horizontal-chromosome-labels",
             "uid": "S4Y2rxMgQ1255grICDU9cQ"
            },
            {
             "height": 150,
             "options": {
              "fontSize": 16,
              "geneAnnotationHeight": 12,
              "geneLabelPosition": "outside",
              "geneStrandSpacing": 4,
              "labelBackgroundColor": "#ffffff",
              "labelBottomMargin": 0,
              "labelColor": "black",
              "labelLeftMargin": 0,
              "labelPosition": "hidden",
              "labelRightMargin": 0,
              "labelTopMargin": 0,
              "minHeight": 24,
              "minusStrandColor": "red",
              "mousePositionColor": "#000000",
              "plusStrandColor": "blue",
              "showMousePosition": true,
              "trackBorderColor": "black",
              "trackBorderWidth": 0
             },
             "server": "http://localhost:34199/api/v1",
             "tilesetUid": "CVJU4sjYTEikHt_g6QxMrw",
             "type": "horizontal-gene-annotations",
             "uid": "XxxvIQOzRXqpuMLrEBkYBA"
            }
           ],
           "whole": []
          },
          "uid": "H4wruZMATc-2embtV1XIqg"
         },
         {
          "initialXDomain": [
           2224407310,
           2229407310
          ],
          "initialYDomain": [
           2816091126.5555553,
           2818855015.444444
          ],
          "layout": {
           "h": 15,
           "w": 12,
           "x": 0,
           "y": 20
          },
          "tracks": {
           "bottom": [],
           "center": [
            {
             "height": 300,
             "options": {
              "backgroundColor": "#eeeeee",
              "colorRange": [
               "white",
               "rgba(245,166,35,1.0)",
               "rgba(208,2,27,1.0)",
               "black"
              ],
              "colorbarBackgroundColor": "#ffffff",
              "colorbarPosition": "topRight",
              "extent": "full",
              "heatmapValueScaling": "log",
              "labelBottomMargin": 0,
              "labelLeftMargin": 0,
              "labelPosition": "bottomRight",
              "labelRightMargin": 0,
              "labelShowAssembly": true,
              "labelShowResolution": true,
              "labelTopMargin": 0,
              "maxZoom": "15",
              "minHeight": 100,
              "minWidth": 100,
              "mousePositionColor": "#000000",
              "name": "PCa3023",
              "showMousePosition": true,
              "showTooltip": false,
              "trackBorderColor": "black",
              "trackBorderWidth": 0
             },
             "resolutions": [
              1000,
              2000,
              3000,
              4000,
              5000,
              10000,
              20000,
              30000,
              40000,
              50000,
              100000,
              200000,
              300000,
              400000,
              500000,
              1000000,
              2000000,
              3000000,
              4000000,
              5000000
             ],
             "server": "http://localhost:34199/api/v1",
             "tilesetUid": "NqxpnLYDRuSZPxWAFsO66g",
             "transforms": [],
             "type": "heatmap",
             "uid": "DQV50Mz-TfuJaxNfU9GgsQ"
            }
           ],
           "gallery": [],
           "left": [
            {
             "options": {
              "color": "#777777",
              "fontIsLeftAligned": false,
              "fontSize": 16,
              "minWidth": 35,
              "mousePositionColor": "#000000",
              "showMousePosition": true,
              "stroke": "#FFFFFF"
             },
             "server": "http://localhost:34199/api/v1",
             "tilesetUid": "CMsuiFUyR6yjaqRP3PPALg",
             "type": "vertical-chromosome-labels",
             "uid": "F83cD5fMR9SZl5QUecmlAg",
             "width": 30
            },
            {
             "options": {
              "fontSize": 16,
              "geneAnnoHeight": 12,
              "geneLabelPosition": "outside",
              "geneStrandSpacing": 4,
              "labelBottomMargin": 0,
              "labelColor": "black",
              "labelLeftMargin": 0,
              "labelPosition": "hidden",
              "labelRightMargin": 0,
              "labelTopMargin": 0,
              "minWidth": 24,
              "minusStrandColor": "red",
              "mousePositionColor": "#000000",
              "plusStrandColor": "blue",
              "showMousePosition": true,
              "trackBorderColor": "black",
              "trackBorderWidth": 0
             },
             "server": "http://localhost:34199/api/v1",
             "tilesetUid": "CVJU4sjYTEikHt_g6QxMrw",
             "type": "vertical-gene-annotations",
             "uid": "A8kVGdlAQrOi6-NMifnjew",
             "width": 55
            },
            {
             "options": {
              "colorRange": [
               "white",
               "rgba(245,166,35,1.0)",
               "rgba(208,2,27,1.0)",
               "black"
              ],
              "colorbarPosition": "topRight",
              "labelBottomMargin": 0,
              "labelColor": "black",
              "labelLeftMargin": 0,
              "labelPosition": "bottomRight",
              "labelRightMargin": 0,
              "labelShowAssembly": true,
              "labelShowResolution": true,
              "labelTopMargin": 0,
              "maxZoom": "15",
              "minHeight": 100,
              "minWidth": 50,
              "name": "PCa3023",
              "showMousePosition": true,
              "trackBorderColor": "black",
              "trackBorderWidth": 0
             },
             "resolutions": [
              1000,
              2000,
              3000,
              4000,
              5000,
              10000,
              20000,
              30000,
              40000,
              50000,
              100000,
              200000,
              300000,
              400000,
              500000,
              1000000,
              2000000,
              3000000,
              4000000,
              5000000
             ],
             "server": "http://localhost:34199/api/v1",
             "tilesetUid": "NqxpnLYDRuSZPxWAFsO66g",
             "transforms": [],
             "type": "vertical-heatmap",
             "uid": "SsJ9k5zyQDKj8mmAi0Yb_Q",
             "width": 150
            }
           ],
           "right": [],
           "top": [
            {
             "height": 150,
             "options": {
              "backgroundColor": "#eeeeee",
              "colorRange": [
               "white",
               "rgba(245,166,35,1.0)",
               "rgba(208,2,27,1.0)",
               "black"
              ],
              "colorbarPosition": "topRight",
              "labelBottomMargin": 0,
              "labelColor": "black",
              "labelLeftMargin": 0,
              "labelPosition": "bottomRight",
              "labelRightMargin": 0,
              "labelShowAssembly": true,
              "labelShowResolution": true,
              "labelTopMargin": 0,
              "maxZoom": "15",
              "minHeight": 40,
              "minWidth": 100,
              "name": "PCa3023",
              "showMousePosition": true,
              "trackBorderColor": "black",
              "trackBorderWidth": 0
             },
             "resolutions": [
              1000,
              2000,
              3000,
              4000,
              5000,
              10000,
              20000,
              30000,
              40000,
              50000,
              100000,
              200000,
              300000,
              400000,
              500000,
              1000000,
              2000000,
              3000000,
              4000000,
              5000000
             ],
             "server": "http://localhost:34199/api/v1",
             "tilesetUid": "NqxpnLYDRuSZPxWAFsO66g",
             "transforms": [],
             "type": "horizontal-heatmap",
             "uid": "VJ7U4z5oQ2GU8ENcREqOGQ"
            }
           ],
           "whole": []
          },
          "uid": "COi40X3qTTC01qJvoFQEyA"
         }
        ],
        "zoomLocks": {
         "locksByViewUid": {},
         "locksDict": {}
        }
       }
      }
     },
     "18989014b5464ff2a7a28ecc537ac49a": {
      "model_module": "higlass-jupyter",
      "model_module_version": "0.4.0",
      "model_name": "HiGlassDisplayModel",
      "state": {
       "_dom_classes": [],
       "_model_data": [],
       "_view_count": null,
       "auth_token": "",
       "bounded": null,
       "cursor_location": [],
       "dark_mode": false,
       "default_track_options": {},
       "dom_element_id": "fn92j7",
       "height": 0,
       "layout": "IPY_MODEL_b2b6ca3efe6649f7ac0f17a6fbb70138",
       "location": [
        1517385878.094241,
        1521314673.9057593,
        1519350276,
        1519350276
       ],
       "options": {},
       "renderer": "",
       "select_mode": false,
       "selection": [],
       "selection_on_alt": false,
       "viewconf": {
        "editable": true,
        "exportViewUrl": "http://higlass.io/api/v1/viewconfs",
        "locationLocks": {
         "locksByViewUid": {},
         "locksDict": {}
        },
        "trackSourceServers": [
         "http://higlass.io/api/v1"
        ],
        "valueScaleLocks": {
         "locksByViewUid": {},
         "locksDict": {}
        },
        "views": [
         {
          "initialXDomain": [
           1517385878.094241,
           1521314673.9057593
          ],
          "initialYDomain": [
           1519350276,
           1519350276
          ],
          "layout": {
           "h": 73,
           "w": 12,
           "x": 0,
           "y": 0
          },
          "tracks": {
           "bottom": [],
           "center": [],
           "gallery": [],
           "left": [],
           "right": [],
           "top": [
            {
             "height": 30,
             "options": {
              "color": "#808080",
              "fontIsLeftAligned": false,
              "fontSize": 16,
              "mousePositionColor": "#000000",
              "showMousePosition": true,
              "stroke": "#ffffff"
             },
             "server": "http://localhost:57421/api/v1",
             "tilesetUid": "CMsuiFUyR6yjaqRP3PPALg",
             "type": "horizontal-chromosome-labels",
             "uid": "S4Y2rxMgQ1255grICDU9cQ"
            },
            {
             "height": 150,
             "options": {
              "fontSize": 16,
              "geneAnnotationHeight": 12,
              "geneLabelPosition": "outside",
              "geneStrandSpacing": 4,
              "labelBackgroundColor": "#ffffff",
              "labelBottomMargin": 0,
              "labelColor": "black",
              "labelLeftMargin": 0,
              "labelPosition": "hidden",
              "labelRightMargin": 0,
              "labelTopMargin": 0,
              "minHeight": 24,
              "minusStrandColor": "red",
              "mousePositionColor": "#000000",
              "plusStrandColor": "blue",
              "showMousePosition": true,
              "trackBorderColor": "black",
              "trackBorderWidth": 0
             },
             "server": "http://localhost:57421/api/v1",
             "tilesetUid": "CVJU4sjYTEikHt_g6QxMrw",
             "type": "horizontal-gene-annotations",
             "uid": "XxxvIQOzRXqpuMLrEBkYBA"
            },
            {
             "height": 150,
             "options": {
              "backgroundColor": "#eeeeee",
              "colorRange": [
               "white",
               "rgba(245,166,35,1.0)",
               "rgba(208,2,27,1.0)",
               "black"
              ],
              "colorbarPosition": "topRight",
              "labelBottomMargin": 0,
              "labelColor": "black",
              "labelLeftMargin": 0,
              "labelPosition": "bottomRight",
              "labelRightMargin": 0,
              "labelShowAssembly": true,
              "labelShowResolution": true,
              "labelTopMargin": 0,
              "maxZoom": "15",
              "minHeight": 40,
              "minWidth": 100,
              "name": "PCa13266",
              "showMousePosition": true,
              "trackBorderColor": "black",
              "trackBorderWidth": 0
             },
             "server": "http://localhost:57421/api/v1",
             "tilesetUid": "CQ4OqxHHRpWqW0bWnR_95g",
             "type": "horizontal-heatmap",
             "uid": "NjD8ljW2Tu62N89hp8NsyA"
            },
            {
             "height": 150,
             "options": {
              "backgroundColor": "#eeeeee",
              "colorRange": [
               "white",
               "rgba(245,166,35,1.0)",
               "rgba(208,2,27,1.0)",
               "black"
              ],
              "colorbarPosition": "topRight",
              "labelBottomMargin": 0,
              "labelColor": "black",
              "labelLeftMargin": 0,
              "labelPosition": "bottomRight",
              "labelRightMargin": 0,
              "labelShowAssembly": true,
              "labelShowResolution": true,
              "labelTopMargin": 0,
              "maxZoom": "15",
              "minHeight": 40,
              "minWidth": 100,
              "name": "PCa13848",
              "showMousePosition": true,
              "trackBorderColor": "black",
              "trackBorderWidth": 0
             },
             "server": "http://localhost:57421/api/v1",
             "tilesetUid": "BbAPbcAST1q8oGL-L8pang",
             "type": "horizontal-heatmap",
             "uid": "eY39cbJ3RUuxjdFvsx8jiA"
            },
            {
             "height": 150,
             "options": {
              "backgroundColor": "#eeeeee",
              "colorRange": [
               "white",
               "rgba(245,166,35,1.0)",
               "rgba(208,2,27,1.0)",
               "black"
              ],
              "colorbarPosition": "topRight",
              "labelBottomMargin": 0,
              "labelColor": "black",
              "labelLeftMargin": 0,
              "labelPosition": "bottomRight",
              "labelRightMargin": 0,
              "labelShowAssembly": true,
              "labelShowResolution": true,
              "labelTopMargin": 0,
              "maxZoom": "15",
              "minHeight": 40,
              "minWidth": 100,
              "name": "PCa14121",
              "showMousePosition": true,
              "trackBorderColor": "black",
              "trackBorderWidth": 0
             },
             "server": "http://localhost:57421/api/v1",
             "tilesetUid": "Wmj7v367QziMRlWFMWdzWw",
             "type": "horizontal-heatmap",
             "uid": "EK11NdFCT8imcFVleqsJSA"
            },
            {
             "height": 150,
             "options": {
              "backgroundColor": "#eeeeee",
              "colorRange": [
               "white",
               "rgba(245,166,35,1.0)",
               "rgba(208,2,27,1.0)",
               "black"
              ],
              "colorbarPosition": "topRight",
              "labelBottomMargin": 0,
              "labelColor": "black",
              "labelLeftMargin": 0,
              "labelPosition": "bottomRight",
              "labelRightMargin": 0,
              "labelShowAssembly": true,
              "labelShowResolution": true,
              "labelTopMargin": 0,
              "maxZoom": "15",
              "minHeight": 40,
              "minWidth": 100,
              "name": "PCa19121",
              "showMousePosition": true,
              "trackBorderColor": "black",
              "trackBorderWidth": 0
             },
             "server": "http://localhost:57421/api/v1",
             "tilesetUid": "R035sMOYSceQf26wr5lm7w",
             "type": "horizontal-heatmap",
             "uid": "Hi_qdQtqS1quPknrA8NNlw"
            },
            {
             "height": 150,
             "options": {
              "backgroundColor": "#eeeeee",
              "colorRange": [
               "white",
               "rgba(245,166,35,1.0)",
               "rgba(208,2,27,1.0)",
               "black"
              ],
              "colorbarPosition": "topRight",
              "labelBottomMargin": 0,
              "labelColor": "black",
              "labelLeftMargin": 0,
              "labelPosition": "bottomRight",
              "labelRightMargin": 0,
              "labelShowAssembly": true,
              "labelShowResolution": true,
              "labelTopMargin": 0,
              "maxZoom": "15",
              "minHeight": 40,
              "minWidth": 100,
              "name": "PCa3023",
              "showMousePosition": true,
              "trackBorderColor": "black",
              "trackBorderWidth": 0
             },
             "server": "http://localhost:57421/api/v1",
             "tilesetUid": "NqxpnLYDRuSZPxWAFsO66g",
             "type": "horizontal-heatmap",
             "uid": "VJ7U4z5oQ2GU8ENcREqOGQ"
            },
            {
             "height": 150,
             "options": {
              "backgroundColor": "#eeeeee",
              "colorRange": [
               "white",
               "rgba(245,166,35,1.0)",
               "rgba(208,2,27,1.0)",
               "black"
              ],
              "colorbarPosition": "topRight",
              "labelBottomMargin": 0,
              "labelColor": "black",
              "labelLeftMargin": 0,
              "labelPosition": "bottomRight",
              "labelRightMargin": 0,
              "labelShowAssembly": true,
              "labelShowResolution": true,
              "labelTopMargin": 0,
              "maxZoom": "15",
              "minHeight": 40,
              "minWidth": 100,
              "name": "PCa33173",
              "showMousePosition": true,
              "trackBorderColor": "black",
              "trackBorderWidth": 0
             },
             "server": "http://localhost:57421/api/v1",
             "tilesetUid": "R_2HBkduTYCenDUWv5LMQA",
             "type": "horizontal-heatmap",
             "uid": "QyZj1DtjRkmWvBx93hIz5w"
            },
            {
             "height": 150,
             "options": {
              "backgroundColor": "#eeeeee",
              "colorRange": [
               "white",
               "rgba(245,166,35,1.0)",
               "rgba(208,2,27,1.0)",
               "black"
              ],
              "colorbarPosition": "topRight",
              "labelBottomMargin": 0,
              "labelColor": "black",
              "labelLeftMargin": 0,
              "labelPosition": "bottomRight",
              "labelRightMargin": 0,
              "labelShowAssembly": true,
              "labelShowResolution": true,
              "labelTopMargin": 0,
              "maxZoom": "15",
              "minHeight": 40,
              "minWidth": 100,
              "name": "PCa40507",
              "showMousePosition": true,
              "trackBorderColor": "black",
              "trackBorderWidth": 0
             },
             "server": "http://localhost:57421/api/v1",
             "tilesetUid": "DYAWQOsYSg-OQjXnT5UEMQ",
             "type": "horizontal-heatmap",
             "uid": "UHlJqaIQT5qFNq1nH9EH9Q"
            },
            {
             "height": 150,
             "options": {
              "backgroundColor": "#eeeeee",
              "colorRange": [
               "white",
               "rgba(245,166,35,1.0)",
               "rgba(208,2,27,1.0)",
               "black"
              ],
              "colorbarPosition": "topRight",
              "labelBottomMargin": 0,
              "labelColor": "black",
              "labelLeftMargin": 0,
              "labelPosition": "bottomRight",
              "labelRightMargin": 0,
              "labelShowAssembly": true,
              "labelShowResolution": true,
              "labelTopMargin": 0,
              "maxZoom": "15",
              "minHeight": 40,
              "minWidth": 100,
              "name": "PCa51852",
              "showMousePosition": true,
              "trackBorderColor": "black",
              "trackBorderWidth": 0
             },
             "server": "http://localhost:57421/api/v1",
             "tilesetUid": "U9Ex8WMEQWaEs2dQVec0yg",
             "type": "horizontal-heatmap",
             "uid": "TEtkw3dxThq_049qEqYZ7Q"
            },
            {
             "height": 150,
             "options": {
              "backgroundColor": "#eeeeee",
              "colorRange": [
               "white",
               "rgba(245,166,35,1.0)",
               "rgba(208,2,27,1.0)",
               "black"
              ],
              "colorbarPosition": "topRight",
              "labelBottomMargin": 0,
              "labelColor": "black",
              "labelLeftMargin": 0,
              "labelPosition": "bottomRight",
              "labelRightMargin": 0,
              "labelShowAssembly": true,
              "labelShowResolution": true,
              "labelTopMargin": 0,
              "maxZoom": "15",
              "minHeight": 40,
              "minWidth": 100,
              "name": "PCa53687",
              "showMousePosition": true,
              "trackBorderColor": "black",
              "trackBorderWidth": 0
             },
             "server": "http://localhost:57421/api/v1",
             "tilesetUid": "OCA9e7vPQ4ymmJeXUBRdhA",
             "type": "horizontal-heatmap",
             "uid": "cQvjLIgnTr-eGwCa9F3ZNg"
            },
            {
             "height": 150,
             "options": {
              "backgroundColor": "#eeeeee",
              "colorRange": [
               "white",
               "rgba(245,166,35,1.0)",
               "rgba(208,2,27,1.0)",
               "black"
              ],
              "colorbarPosition": "topRight",
              "labelBottomMargin": 0,
              "labelColor": "black",
              "labelLeftMargin": 0,
              "labelPosition": "bottomRight",
              "labelRightMargin": 0,
              "labelShowAssembly": true,
              "labelShowResolution": true,
              "labelTopMargin": 0,
              "maxZoom": "15",
              "minHeight": 40,
              "minWidth": 100,
              "name": "PCa56413",
              "showMousePosition": true,
              "trackBorderColor": "black",
              "trackBorderWidth": 0
             },
             "server": "http://localhost:57421/api/v1",
             "tilesetUid": "Ki4mnmMoSKy5gyB_Wkyh3w",
             "type": "horizontal-heatmap",
             "uid": "bLyjunCLTOyyTxIoDMcsJQ"
            },
            {
             "height": 150,
             "options": {
              "backgroundColor": "#eeeeee",
              "colorRange": [
               "white",
               "rgba(245,166,35,1.0)",
               "rgba(208,2,27,1.0)",
               "black"
              ],
              "colorbarPosition": "topRight",
              "labelBottomMargin": 0,
              "labelColor": "black",
              "labelLeftMargin": 0,
              "labelPosition": "bottomRight",
              "labelRightMargin": 0,
              "labelShowAssembly": true,
              "labelShowResolution": true,
              "labelTopMargin": 0,
              "maxZoom": "15",
              "minHeight": 40,
              "minWidth": 100,
              "name": "PCa57054",
              "showMousePosition": true,
              "trackBorderColor": "black",
              "trackBorderWidth": 0
             },
             "server": "http://localhost:57421/api/v1",
             "tilesetUid": "JJvSTGq1TsqR6Mu-yB3yww",
             "type": "horizontal-heatmap",
             "uid": "UB_h-SArQ_W9Ch_CE6MsmQ"
            },
            {
             "height": 150,
             "options": {
              "backgroundColor": "#eeeeee",
              "colorRange": [
               "white",
               "rgba(245,166,35,1.0)",
               "rgba(208,2,27,1.0)",
               "black"
              ],
              "colorbarPosition": "topRight",
              "labelBottomMargin": 0,
              "labelColor": "black",
              "labelLeftMargin": 0,
              "labelPosition": "bottomRight",
              "labelRightMargin": 0,
              "labelShowAssembly": true,
              "labelShowResolution": true,
              "labelTopMargin": 0,
              "maxZoom": "15",
              "minHeight": 40,
              "minWidth": 100,
              "name": "PCa57294",
              "showMousePosition": true,
              "trackBorderColor": "black",
              "trackBorderWidth": 0
             },
             "server": "http://localhost:57421/api/v1",
             "tilesetUid": "V4H5L6FvSGmQrHyurUus6w",
             "type": "horizontal-heatmap",
             "uid": "bGDxm87sSP2k-M4oWr0anA"
            },
            {
             "height": 150,
             "options": {
              "backgroundColor": "#eeeeee",
              "colorRange": [
               "white",
               "rgba(245,166,35,1.0)",
               "rgba(208,2,27,1.0)",
               "black"
              ],
              "colorbarPosition": "topRight",
              "labelBottomMargin": 0,
              "labelColor": "black",
              "labelLeftMargin": 0,
              "labelPosition": "bottomRight",
              "labelRightMargin": 0,
              "labelShowAssembly": true,
              "labelShowResolution": true,
              "labelTopMargin": 0,
              "maxZoom": "15",
              "minHeight": 40,
              "minWidth": 100,
              "name": "PCa58215",
              "showMousePosition": true,
              "trackBorderColor": "black",
              "trackBorderWidth": 0
             },
             "server": "http://localhost:57421/api/v1",
             "tilesetUid": "LSYUjN0DR_um2PfQ4RYeEA",
             "type": "horizontal-heatmap",
             "uid": "LacJLpf0QqyYuln92tEnJg"
            },
            {
             "height": 150,
             "options": {
              "backgroundColor": "#eeeeee",
              "colorRange": [
               "white",
               "rgba(245,166,35,1.0)",
               "rgba(208,2,27,1.0)",
               "black"
              ],
              "colorbarPosition": "topRight",
              "labelBottomMargin": 0,
              "labelColor": "black",
              "labelLeftMargin": 0,
              "labelPosition": "bottomRight",
              "labelRightMargin": 0,
              "labelShowAssembly": true,
              "labelShowResolution": true,
              "labelTopMargin": 0,
              "maxZoom": "15",
              "minHeight": 40,
              "minWidth": 100,
              "name": "Benign-Prostate-1648133",
              "showMousePosition": true,
              "trackBorderColor": "black",
              "trackBorderWidth": 0
             },
             "server": "http://localhost:57421/api/v1",
             "tilesetUid": "bp7qe5hlTuWnWUXfC3eABQ",
             "type": "horizontal-heatmap",
             "uid": "fF8klEb-Squ5DdqdiKj6AQ"
            },
            {
             "height": 150,
             "options": {
              "backgroundColor": "#eeeeee",
              "colorRange": [
               "white",
               "rgba(245,166,35,1.0)",
               "rgba(208,2,27,1.0)",
               "black"
              ],
              "colorbarPosition": "topRight",
              "labelBottomMargin": 0,
              "labelColor": "black",
              "labelLeftMargin": 0,
              "labelPosition": "bottomRight",
              "labelRightMargin": 0,
              "labelShowAssembly": true,
              "labelShowResolution": true,
              "labelTopMargin": 0,
              "maxZoom": "15",
              "minHeight": 40,
              "minWidth": 100,
              "name": "Benign-Prostate-1595983",
              "showMousePosition": true,
              "trackBorderColor": "black",
              "trackBorderWidth": 0
             },
             "server": "http://localhost:57421/api/v1",
             "tilesetUid": "FivjvBeoRAmI3tggwMLWDw",
             "type": "horizontal-heatmap",
             "uid": "fjp9rrMVSfyr8DhPs2ZaVg"
            },
            {
             "height": 150,
             "options": {
              "backgroundColor": "#eeeeee",
              "colorRange": [
               "white",
               "rgba(245,166,35,1.0)",
               "rgba(208,2,27,1.0)",
               "black"
              ],
              "colorbarPosition": "topRight",
              "labelBottomMargin": 0,
              "labelColor": "black",
              "labelLeftMargin": 0,
              "labelPosition": "bottomRight",
              "labelRightMargin": 0,
              "labelShowAssembly": true,
              "labelShowResolution": true,
              "labelTopMargin": 0,
              "maxZoom": "15",
              "minHeight": 40,
              "minWidth": 100,
              "name": "Benign-Prostate-3330581",
              "showMousePosition": true,
              "trackBorderColor": "black",
              "trackBorderWidth": 0
             },
             "server": "http://localhost:57421/api/v1",
             "tilesetUid": "JaVFVbK0SNmMG_PFeSik9A",
             "type": "horizontal-heatmap",
             "uid": "fKv3QoiQSE2Us6mLVJo5ZA"
            },
            {
             "height": 150,
             "options": {
              "backgroundColor": "#eeeeee",
              "colorRange": [
               "white",
               "rgba(245,166,35,1.0)",
               "rgba(208,2,27,1.0)",
               "black"
              ],
              "colorbarPosition": "topRight",
              "labelBottomMargin": 0,
              "labelColor": "black",
              "labelLeftMargin": 0,
              "labelPosition": "bottomRight",
              "labelRightMargin": 0,
              "labelShowAssembly": true,
              "labelShowResolution": true,
              "labelTopMargin": 0,
              "maxZoom": "15",
              "minHeight": 40,
              "minWidth": 100,
              "name": "Benign-Prostate-1664855",
              "showMousePosition": true,
              "trackBorderColor": "black",
              "trackBorderWidth": 0
             },
             "server": "http://localhost:57421/api/v1",
             "tilesetUid": "XsWytOnMRCuKsWeUoKFDlg",
             "type": "horizontal-heatmap",
             "uid": "YleGk1a2S7WNFFq9MI5KHg"
            },
            {
             "height": 150,
             "options": {
              "backgroundColor": "#eeeeee",
              "colorRange": [
               "white",
               "rgba(245,166,35,1.0)",
               "rgba(208,2,27,1.0)",
               "black"
              ],
              "colorbarPosition": "topRight",
              "labelBottomMargin": 0,
              "labelColor": "black",
              "labelLeftMargin": 0,
              "labelPosition": "bottomRight",
              "labelRightMargin": 0,
              "labelShowAssembly": true,
              "labelShowResolution": true,
              "labelTopMargin": 0,
              "maxZoom": "15",
              "minHeight": 40,
              "minWidth": 100,
              "name": "Benign-Prostate-3320942",
              "showMousePosition": true,
              "trackBorderColor": "black",
              "trackBorderWidth": 0
             },
             "server": "http://localhost:57421/api/v1",
             "tilesetUid": "fCv_-cLUR7q9w16JwEdX9g",
             "type": "horizontal-heatmap",
             "uid": "KhLNQ75kTDOrTewU8Yv4yA"
            }
           ],
           "whole": []
          },
          "uid": "G7cYX6t0TSSkImMeIPftJA"
         }
        ],
        "zoomLocks": {
         "locksByViewUid": {},
         "locksDict": {}
        }
       }
      }
     },
     "2fb7bcf94aa64d01a6fe32dd3809902e": {
      "model_module": "@jupyter-widgets/base",
      "model_module_version": "1.2.0",
      "model_name": "LayoutModel",
      "state": {}
     },
     "3591ffef5dd14fd39ff93421f9b53e59": {
      "model_module": "@jupyter-widgets/base",
      "model_module_version": "1.2.0",
      "model_name": "LayoutModel",
      "state": {}
     },
     "3a98ccb10ec744f796c9deec4f98456c": {
      "model_module": "@jupyter-widgets/base",
      "model_module_version": "1.2.0",
      "model_name": "LayoutModel",
      "state": {}
     },
     "5119af840b2242b7a2bcb5b81d47fd13": {
      "model_module": "higlass-jupyter",
      "model_module_version": "0.4.0",
      "model_name": "HiGlassDisplayModel",
      "state": {
       "_dom_classes": [],
       "_model_data": [],
       "_view_count": null,
       "auth_token": "",
       "bounded": null,
       "cursor_location": [
        -1,
        -1
       ],
       "dark_mode": false,
       "default_track_options": {},
       "dom_element_id": "a0wr5r",
       "height": 0,
       "layout": "IPY_MODEL_576f065698dd458d858ff434956feb48",
       "location": [
        757124691.0618923,
        759698028.2811472,
        1633923213.4552693,
        1635555466.805267
       ],
       "options": {},
       "renderer": "",
       "select_mode": false,
       "selection": [],
       "selection_on_alt": false,
       "viewconf": {
        "editable": true,
        "exportViewUrl": "http://higlass.io/api/v1/viewconfs",
        "locationLocks": {
         "locksByViewUid": {},
         "locksDict": {}
        },
        "trackSourceServers": [
         "http://higlass.io/api/v1"
        ],
        "valueScaleLocks": {
         "locksByViewUid": {},
         "locksDict": {}
        },
        "views": [
         {
          "initialXDomain": [
           757124691.0618923,
           759698028.2811472
          ],
          "initialYDomain": [
           1633923213.4552693,
           1635555466.805267
          ],
          "layout": {
           "h": 21,
           "w": 12,
           "x": 0,
           "y": 0
          },
          "tracks": {
           "bottom": [],
           "center": [
            {
             "contents": [
              {
               "height": 300,
               "options": {
                "backgroundColor": "#eeeeee",
                "colorRange": [
                 "white",
                 "rgba(245,166,35,1.0)",
                 "rgba(208,2,27,1.0)",
                 "black"
                ],
                "colorbarBackgroundColor": "#ffffff",
                "colorbarPosition": "topRight",
                "extent": "full",
                "heatmapValueScaling": "log",
                "labelBottomMargin": 0,
                "labelLeftMargin": 0,
                "labelPosition": "bottomRight",
                "labelRightMargin": 0,
                "labelShowAssembly": true,
                "labelShowResolution": true,
                "labelTopMargin": 0,
                "maxZoom": "15",
                "minHeight": 100,
                "minWidth": 100,
                "mousePositionColor": "#000000",
                "name": "PCa13848",
                "scaleEndPercent": "1.00000",
                "scaleStartPercent": "0.00000",
                "showMousePosition": true,
                "showTooltip": false,
                "trackBorderColor": "black",
                "trackBorderWidth": 0
               },
               "resolutions": [
                1000,
                2000,
                3000,
                4000,
                5000,
                10000,
                20000,
                30000,
                40000,
                50000,
                100000,
                200000,
                300000,
                400000,
                500000,
                1000000,
                2000000,
                3000000,
                4000000,
                5000000
               ],
               "server": "http://localhost:42311/api/v1",
               "tilesetUid": "NRiqZ9S9RSGVzDOtNC2z8A",
               "transforms": [],
               "type": "heatmap",
               "uid": "B-H2f2bfQ1qj4EcBXTAJXw"
              },
              {
               "options": {
                "flipDiagonal": "none",
                "labelBottomMargin": 0,
                "labelColor": "black",
                "labelLeftMargin": 0,
                "labelPosition": "hidden",
                "labelRightMargin": 0,
                "labelTopMargin": 0,
                "minSquareSize": "none",
                "name": "PCa13848",
                "rectangleDomainFillColor": "grey",
                "rectangleDomainOpacity": 0.6,
                "rectangleDomainStrokeColor": "black",
                "showMousePosition": true,
                "trackBorderColor": "black",
                "trackBorderWidth": 0
               },
               "server": "http://localhost:42311/api/v1",
               "tilesetUid": "L6XlAH6VRLenBNgL-aH19g",
               "type": "2d-rectangle-domains",
               "uid": "eYhYk-t_SmO4SBhctPAykQ"
              }
             ],
             "height": 300,
             "options": {},
             "type": "combined",
             "uid": "O2v_SYKJRqa5nIeGyzwonw"
            }
           ],
           "gallery": [],
           "left": [
            {
             "options": {
              "color": "#777777",
              "fontIsLeftAligned": false,
              "fontSize": 16,
              "minWidth": 35,
              "mousePositionColor": "#000000",
              "showMousePosition": true,
              "stroke": "#FFFFFF"
             },
             "server": "http://localhost:42311/api/v1",
             "tilesetUid": "CMsuiFUyR6yjaqRP3PPALg",
             "type": "vertical-chromosome-labels",
             "uid": "F83cD5fMR9SZl5QUecmlAg",
             "width": 30
            },
            {
             "height": 418,
             "options": {
              "fontSize": 16,
              "geneAnnoHeight": 12,
              "geneLabelPosition": "outside",
              "geneStrandSpacing": 4,
              "labelBottomMargin": 0,
              "labelColor": "black",
              "labelLeftMargin": 0,
              "labelPosition": "hidden",
              "labelRightMargin": 0,
              "labelTopMargin": 0,
              "minWidth": 24,
              "minusStrandColor": "red",
              "mousePositionColor": "#000000",
              "plusStrandColor": "blue",
              "showMousePosition": true,
              "trackBorderColor": "black",
              "trackBorderWidth": 0
             },
             "server": "http://localhost:42311/api/v1",
             "tilesetUid": "CVJU4sjYTEikHt_g6QxMrw",
             "type": "vertical-gene-annotations",
             "uid": "A8kVGdlAQrOi6-NMifnjew",
             "width": 76
            },
            {
             "options": {
              "colorRange": [
               "white",
               "rgba(245,166,35,1.0)",
               "rgba(208,2,27,1.0)",
               "black"
              ],
              "colorbarPosition": "topRight",
              "labelBottomMargin": 0,
              "labelColor": "black",
              "labelLeftMargin": 0,
              "labelPosition": "bottomRight",
              "labelRightMargin": 0,
              "labelShowAssembly": true,
              "labelShowResolution": true,
              "labelTopMargin": 0,
              "maxZoom": "15",
              "minHeight": 100,
              "minWidth": 50,
              "name": "PCa13848",
              "scaleEndPercent": "1.00000",
              "scaleStartPercent": "0.00000",
              "showMousePosition": true,
              "trackBorderColor": "black",
              "trackBorderWidth": 0
             },
             "resolutions": [
              1000,
              2000,
              3000,
              4000,
              5000,
              10000,
              20000,
              30000,
              40000,
              50000,
              100000,
              200000,
              300000,
              400000,
              500000,
              1000000,
              2000000,
              3000000,
              4000000,
              5000000
             ],
             "server": "http://localhost:42311/api/v1",
             "tilesetUid": "NRiqZ9S9RSGVzDOtNC2z8A",
             "transforms": [],
             "type": "vertical-heatmap",
             "uid": "RNwUjmEbRo-syt1DSpI7Hw",
             "width": 150
            },
            {
             "aggregationModes": {
              "max": {
               "name": "Max",
               "value": "max"
              },
              "mean": {
               "name": "Mean",
               "value": "mean"
              },
              "min": {
               "name": "Min",
               "value": "min"
              },
              "std": {
               "name": "Standard Deviation",
               "value": "std"
              }
             },
             "options": {
              "axisLabelFormatting": "scientific",
              "axisPositionVertical": "top",
              "labelBottomMargin": 0,
              "labelColor": "black",
              "labelLeftMargin": 0,
              "labelPosition": "bottomLeft",
              "labelRightMargin": 0,
              "labelShowAssembly": true,
              "labelShowResolution": false,
              "labelTextOpacity": 0.4,
              "labelTopMargin": 0,
              "lineStrokeColor": "blue",
              "lineStrokeWidth": 1,
              "mousePositionColor": "#000000",
              "name": "PCa13848",
              "showMousePosition": true,
              "showTooltip": false,
              "trackBorderColor": "black",
              "trackBorderWidth": 0,
              "valueScaling": "linear"
             },
             "server": "http://localhost:42311/api/v1",
             "tilesetUid": "dQm0dS5DTrueuf3nMKw8xA",
             "type": "vertical-line",
             "uid": "Rbtbv8OdQH6BWJPAZrhR8g",
             "width": 20
            },
            {
             "options": {
              "alternating": false,
              "annotationHeight": 16,
              "annotationStyle": "box",
              "axisPositionHorizontal": "right",
              "colorEncoding": false,
              "colorEncodingRange": false,
              "colorRange": [
               "#000000",
               "#652537",
               "#bf5458",
               "#fba273",
               "#ffffe0"
              ],
              "fillColor": "blue",
              "labelBottomMargin": 0,
              "labelColor": "black",
              "labelLeftMargin": 0,
              "labelPosition": "hidden",
              "labelRightMargin": 0,
              "labelTopMargin": 0,
              "minHeight": 20,
              "name": "PCa13848",
              "showMousePosition": true,
              "showTexts": false,
              "trackBorderColor": "black",
              "trackBorderWidth": 0,
              "valueColumn": null
             },
             "server": "http://localhost:42311/api/v1",
             "tilesetUid": "He6AqME3T2aIHHyNSdokoQ",
             "type": "bedlike",
             "uid": "AwaUpzleTW2SwGevGnketw",
             "width": 20
            }
           ],
           "right": [],
           "top": [
            {
             "height": 30,
             "options": {
              "color": "#808080",
              "fontIsLeftAligned": false,
              "fontSize": 16,
              "mousePositionColor": "#000000",
              "showMousePosition": true,
              "stroke": "#ffffff"
             },
             "server": "http://localhost:42311/api/v1",
             "tilesetUid": "CMsuiFUyR6yjaqRP3PPALg",
             "type": "horizontal-chromosome-labels",
             "uid": "S4Y2rxMgQ1255grICDU9cQ"
            },
            {
             "height": 150,
             "options": {
              "fontSize": 16,
              "geneAnnotationHeight": 12,
              "geneLabelPosition": "outside",
              "geneStrandSpacing": 4,
              "labelBackgroundColor": "#ffffff",
              "labelBottomMargin": 0,
              "labelColor": "black",
              "labelLeftMargin": 0,
              "labelPosition": "hidden",
              "labelRightMargin": 0,
              "labelTopMargin": 0,
              "minHeight": 24,
              "minusStrandColor": "red",
              "mousePositionColor": "#000000",
              "plusStrandColor": "blue",
              "showMousePosition": true,
              "trackBorderColor": "black",
              "trackBorderWidth": 0
             },
             "server": "http://localhost:42311/api/v1",
             "tilesetUid": "CVJU4sjYTEikHt_g6QxMrw",
             "type": "horizontal-gene-annotations",
             "uid": "XxxvIQOzRXqpuMLrEBkYBA"
            },
            {
             "height": 150,
             "options": {
              "backgroundColor": "#eeeeee",
              "colorRange": [
               "white",
               "rgba(245,166,35,1.0)",
               "rgba(208,2,27,1.0)",
               "black"
              ],
              "colorbarPosition": "topRight",
              "labelBottomMargin": 0,
              "labelColor": "black",
              "labelLeftMargin": 0,
              "labelPosition": "bottomRight",
              "labelRightMargin": 0,
              "labelShowAssembly": true,
              "labelShowResolution": true,
              "labelTopMargin": 0,
              "maxZoom": "15",
              "minHeight": 40,
              "minWidth": 100,
              "name": "PCa13848",
              "scaleEndPercent": "1.00000",
              "scaleStartPercent": "0.00000",
              "showMousePosition": true,
              "trackBorderColor": "black",
              "trackBorderWidth": 0
             },
             "resolutions": [
              1000,
              2000,
              3000,
              4000,
              5000,
              10000,
              20000,
              30000,
              40000,
              50000,
              100000,
              200000,
              300000,
              400000,
              500000,
              1000000,
              2000000,
              3000000,
              4000000,
              5000000
             ],
             "server": "http://localhost:42311/api/v1",
             "tilesetUid": "NRiqZ9S9RSGVzDOtNC2z8A",
             "transforms": [],
             "type": "horizontal-heatmap",
             "uid": "cSZunRpmQ0i1IxdyKZjSPw"
            },
            {
             "aggregationModes": {
              "max": {
               "name": "Max",
               "value": "max"
              },
              "mean": {
               "name": "Mean",
               "value": "mean"
              },
              "min": {
               "name": "Min",
               "value": "min"
              },
              "std": {
               "name": "Standard Deviation",
               "value": "std"
              }
             },
             "height": 20,
             "options": {
              "axisLabelFormatting": "scientific",
              "axisPositionHorizontal": "right",
              "labelBackgroundColor": "white",
              "labelBottomMargin": 0,
              "labelColor": "black",
              "labelLeftMargin": 0,
              "labelPosition": "topLeft",
              "labelRightMargin": 0,
              "labelShowAssembly": true,
              "labelShowResolution": false,
              "labelTextOpacity": 0.4,
              "labelTopMargin": 0,
              "lineStrokeColor": "blue",
              "lineStrokeWidth": 1,
              "minHeight": 20,
              "mousePositionColor": "#000000",
              "name": "PCa13848",
              "showMousePosition": true,
              "showTooltip": false,
              "trackBorderColor": "black",
              "trackBorderWidth": 0,
              "valueScaling": "linear"
             },
             "server": "http://localhost:42311/api/v1",
             "tilesetUid": "dQm0dS5DTrueuf3nMKw8xA",
             "type": "horizontal-line",
             "uid": "OSITdIWZTgWufHxijJuBoA"
            },
            {
             "height": 20,
             "options": {
              "alternating": false,
              "annotationHeight": 16,
              "annotationStyle": "box",
              "axisPositionHorizontal": "right",
              "colorEncoding": false,
              "colorEncodingRange": false,
              "colorRange": [
               "#000000",
               "#652537",
               "#bf5458",
               "#fba273",
               "#ffffe0"
              ],
              "fillColor": "blue",
              "labelBottomMargin": 0,
              "labelColor": "black",
              "labelLeftMargin": 0,
              "labelPosition": "hidden",
              "labelRightMargin": 0,
              "labelTopMargin": 0,
              "minHeight": 20,
              "name": "PCa13848",
              "showMousePosition": true,
              "showTexts": false,
              "trackBorderColor": "black",
              "trackBorderWidth": 0,
              "valueColumn": null
             },
             "server": "http://localhost:42311/api/v1",
             "tilesetUid": "He6AqME3T2aIHHyNSdokoQ",
             "type": "bedlike",
             "uid": "TaG0HAhyT2uTe6f3vntaEA"
            }
           ],
           "whole": []
          },
          "uid": "VnRj1SXQTHOD8j2crqz3JA"
         }
        ],
        "zoomLocks": {
         "locksByViewUid": {},
         "locksDict": {}
        }
       }
      }
     },
     "576f065698dd458d858ff434956feb48": {
      "model_module": "@jupyter-widgets/base",
      "model_module_version": "1.2.0",
      "model_name": "LayoutModel",
      "state": {}
     },
     "5c414cb023c4442e88441411951da2b9": {
      "model_module": "@jupyter-widgets/base",
      "model_module_version": "1.2.0",
      "model_name": "LayoutModel",
      "state": {}
     },
     "5e14913e3cdf46448ebc68814cfd9e77": {
      "model_module": "higlass-jupyter",
      "model_module_version": "0.4.0",
      "model_name": "HiGlassDisplayModel",
      "state": {
       "_dom_classes": [],
       "_model_data": [],
       "_view_count": null,
       "auth_token": "",
       "bounded": null,
       "cursor_location": [
        2227600974.9022927,
        2227600974.9022927
       ],
       "dark_mode": false,
       "default_track_options": {},
       "dom_element_id": "39co6c",
       "height": 0,
       "layout": "IPY_MODEL_d2596b8abbd349f7a2b6200f79bd2741",
       "location": [
        2227407310,
        2230407310,
        2228907310,
        2228907310
       ],
       "options": {},
       "renderer": "",
       "select_mode": false,
       "selection": [],
       "selection_on_alt": false,
       "viewconf": {
        "editable": true,
        "exportViewUrl": "http://higlass.io/api/v1/viewconfs",
        "locationLocks": {
         "locksByViewUid": {},
         "locksDict": {}
        },
        "trackSourceServers": [
         "http://higlass.io/api/v1"
        ],
        "valueScaleLocks": {
         "locksByViewUid": {},
         "locksDict": {}
        },
        "views": [
         {
          "initialXDomain": [
           2227407310,
           2230407310
          ],
          "initialYDomain": [
           2228907310,
           2228907310
          ],
          "layout": {
           "h": 11,
           "w": 12,
           "x": 0,
           "y": 0
          },
          "tracks": {
           "bottom": [],
           "center": [],
           "gallery": [],
           "left": [],
           "right": [],
           "top": [
            {
             "height": 150,
             "options": {
              "backgroundColor": "#eeeeee",
              "colorRange": [
               "white",
               "rgba(245,166,35,1.0)",
               "rgba(208,2,27,1.0)",
               "black"
              ],
              "colorbarPosition": "topRight",
              "labelBottomMargin": 0,
              "labelColor": "black",
              "labelLeftMargin": 0,
              "labelPosition": "bottomRight",
              "labelRightMargin": 0,
              "labelShowAssembly": true,
              "labelShowResolution": true,
              "labelTopMargin": 0,
              "maxZoom": "15",
              "minHeight": 40,
              "minWidth": 100,
              "name": "PCa13848",
              "scaleEndPercent": "1.00000",
              "scaleStartPercent": "0.00000",
              "showMousePosition": true,
              "trackBorderColor": "black",
              "trackBorderWidth": 0
             },
             "resolutions": [
              1000,
              2000,
              3000,
              4000,
              5000,
              10000,
              20000,
              30000,
              40000,
              50000,
              100000,
              200000,
              300000,
              400000,
              500000,
              1000000,
              2000000,
              3000000,
              4000000,
              5000000
             ],
             "server": "http://localhost:42773/api/v1",
             "tilesetUid": "BbAPbcAST1q8oGL-L8pang",
             "transforms": [],
             "type": "horizontal-heatmap",
             "uid": "eY39cbJ3RUuxjdFvsx8jiA"
            },
            {
             "height": 30,
             "options": {
              "color": "#808080",
              "fontIsLeftAligned": false,
              "fontSize": 16,
              "mousePositionColor": "#000000",
              "showMousePosition": true,
              "stroke": "#ffffff"
             },
             "server": "http://localhost:42773/api/v1",
             "tilesetUid": "CMsuiFUyR6yjaqRP3PPALg",
             "type": "horizontal-chromosome-labels",
             "uid": "S4Y2rxMgQ1255grICDU9cQ"
            },
            {
             "height": 150,
             "options": {
              "fontSize": 16,
              "geneAnnotationHeight": 12,
              "geneLabelPosition": "outside",
              "geneStrandSpacing": 4,
              "labelBackgroundColor": "#ffffff",
              "labelBottomMargin": 0,
              "labelColor": "black",
              "labelLeftMargin": 0,
              "labelPosition": "hidden",
              "labelRightMargin": 0,
              "labelTopMargin": 0,
              "minHeight": 24,
              "minusStrandColor": "red",
              "mousePositionColor": "#000000",
              "plusStrandColor": "blue",
              "showMousePosition": true,
              "trackBorderColor": "black",
              "trackBorderWidth": 0
             },
             "server": "http://localhost:42773/api/v1",
             "tilesetUid": "CVJU4sjYTEikHt_g6QxMrw",
             "type": "horizontal-gene-annotations",
             "uid": "XxxvIQOzRXqpuMLrEBkYBA"
            },
            {
             "aggregationModes": {
              "max": {
               "name": "Max",
               "value": "max"
              },
              "mean": {
               "name": "Mean",
               "value": "mean"
              },
              "min": {
               "name": "Min",
               "value": "min"
              },
              "std": {
               "name": "Standard Deviation",
               "value": "std"
              }
             },
             "height": 20,
             "options": {
              "axisLabelFormatting": "scientific",
              "axisPositionHorizontal": "right",
              "labelBackgroundColor": "white",
              "labelBottomMargin": 0,
              "labelColor": "black",
              "labelLeftMargin": 0,
              "labelPosition": "topLeft",
              "labelRightMargin": 0,
              "labelShowAssembly": true,
              "labelShowResolution": false,
              "labelTextOpacity": 0.4,
              "labelTopMargin": 0,
              "lineStrokeColor": "blue",
              "lineStrokeWidth": 1,
              "minHeight": 20,
              "mousePositionColor": "#000000",
              "name": "PCa13848",
              "showMousePosition": true,
              "showTooltip": false,
              "trackBorderColor": "black",
              "trackBorderWidth": 0,
              "valueScaling": "linear"
             },
             "server": "http://localhost:42773/api/v1",
             "tilesetUid": "dQm0dS5DTrueuf3nMKw8xA",
             "type": "horizontal-line",
             "uid": "OSITdIWZTgWufHxijJuBoA"
            },
            {
             "height": 20,
             "options": {
              "alternating": false,
              "annotationHeight": 16,
              "annotationStyle": "box",
              "axisPositionHorizontal": "right",
              "colorEncoding": false,
              "colorEncodingRange": false,
              "colorRange": [
               "#000000",
               "#652537",
               "#bf5458",
               "#fba273",
               "#ffffe0"
              ],
              "fillColor": "blue",
              "labelBottomMargin": 0,
              "labelColor": "black",
              "labelLeftMargin": 0,
              "labelPosition": "hidden",
              "labelRightMargin": 0,
              "labelTopMargin": 0,
              "minHeight": 20,
              "name": "PCa13848 (w = 3)",
              "showMousePosition": true,
              "showTexts": false,
              "trackBorderColor": "black",
              "trackBorderWidth": 0,
              "valueColumn": null
             },
             "server": "http://localhost:42773/api/v1",
             "tilesetUid": "azs9NILhRUerJU1Ffj8jAQ",
             "type": "bedlike",
             "uid": "MMaYxIYmTbGoDCg4t7Y_hg"
            },
            {
             "height": 20,
             "options": {
              "alternating": false,
              "annotationHeight": 16,
              "annotationStyle": "box",
              "axisPositionHorizontal": "right",
              "colorEncoding": false,
              "colorEncodingRange": false,
              "colorRange": [
               "#000000",
               "#652537",
               "#bf5458",
               "#fba273",
               "#ffffe0"
              ],
              "fillColor": "blue",
              "labelBottomMargin": 0,
              "labelColor": "black",
              "labelLeftMargin": 0,
              "labelPosition": "hidden",
              "labelRightMargin": 0,
              "labelTopMargin": 0,
              "minHeight": 20,
              "name": "PCa13848 (w = 10)",
              "showMousePosition": true,
              "showTexts": false,
              "trackBorderColor": "black",
              "trackBorderWidth": 0,
              "valueColumn": null
             },
             "server": "http://localhost:42773/api/v1",
             "tilesetUid": "SNqTcGXFRjeCpwVcuUKiuA",
             "type": "bedlike",
             "uid": "MoqoC7L5S8yybi6WqcAtdg"
            }
           ],
           "whole": []
          },
          "uid": "HsDgMeJrSf6DOYS7DcV6zA"
         }
        ],
        "zoomLocks": {
         "locksByViewUid": {},
         "locksDict": {}
        }
       }
      }
     },
     "685777435690414c8e5fc3fd77ebeab2": {
      "model_module": "higlass-jupyter",
      "model_module_version": "0.4.0",
      "model_name": "HiGlassDisplayModel",
      "state": {
       "_dom_classes": [],
       "_model_data": [],
       "_view_count": null,
       "auth_token": "",
       "bounded": null,
       "cursor_location": [],
       "dark_mode": false,
       "default_track_options": {},
       "dom_element_id": "lb08en",
       "height": 0,
       "layout": "IPY_MODEL_998a65160f154765a279acfa795a7fcb",
       "location": [
        [
         2225407310,
         2228407310,
         2226238344.4827585,
         2227576275.5172415
        ],
        [
         2225407310,
         2228407310,
         2226203861.724138,
         2227610758.275862
        ]
       ],
       "options": {},
       "renderer": "",
       "select_mode": false,
       "selection": [],
       "selection_on_alt": false,
       "viewconf": {
        "editable": true,
        "exportViewUrl": "http://higlass.io/api/v1/viewconfs",
        "locationLocks": {
         "locksByViewUid": {},
         "locksDict": {}
        },
        "trackSourceServers": [
         "http://higlass.io/api/v1"
        ],
        "valueScaleLocks": {
         "locksByViewUid": {},
         "locksDict": {}
        },
        "views": [
         {
          "initialXDomain": [
           2225407310,
           2228407310
          ],
          "initialYDomain": [
           2226238344.4827585,
           2227576275.5172415
          ],
          "layout": {
           "h": 16,
           "w": 12,
           "x": 0,
           "y": 0
          },
          "tracks": {
           "bottom": [],
           "center": [
            {
             "height": 300,
             "options": {
              "backgroundColor": "#eeeeee",
              "colorRange": [
               "white",
               "rgba(245,166,35,1.0)",
               "rgba(208,2,27,1.0)",
               "black"
              ],
              "colorbarBackgroundColor": "#ffffff",
              "colorbarPosition": "topRight",
              "extent": "full",
              "heatmapValueScaling": "log",
              "labelBottomMargin": 0,
              "labelLeftMargin": 0,
              "labelPosition": "bottomRight",
              "labelRightMargin": 0,
              "labelShowAssembly": true,
              "labelShowResolution": true,
              "labelTopMargin": 0,
              "maxZoom": "15",
              "minHeight": 100,
              "minWidth": 100,
              "mousePositionColor": "#000000",
              "name": "PCa13848",
              "scaleEndPercent": "1.00000",
              "scaleStartPercent": "0.00000",
              "showMousePosition": true,
              "showTooltip": false,
              "trackBorderColor": "black",
              "trackBorderWidth": 0
             },
             "resolutions": [
              1000,
              2000,
              3000,
              4000,
              5000,
              10000,
              20000,
              30000,
              40000,
              50000,
              100000,
              200000,
              300000,
              400000,
              500000,
              1000000,
              2000000,
              3000000,
              4000000,
              5000000
             ],
             "server": "http://localhost:50201/api/v1",
             "tilesetUid": "BbAPbcAST1q8oGL-L8pang",
             "transforms": [],
             "type": "heatmap",
             "uid": "Gmv4my58QdW7ge_qdKHHCA"
            }
           ],
           "gallery": [],
           "left": [
            {
             "options": {
              "color": "#777777",
              "fontIsLeftAligned": false,
              "fontSize": 16,
              "minWidth": 35,
              "mousePositionColor": "#000000",
              "showMousePosition": true,
              "stroke": "#FFFFFF"
             },
             "server": "http://localhost:50201/api/v1",
             "tilesetUid": "CMsuiFUyR6yjaqRP3PPALg",
             "type": "vertical-chromosome-labels",
             "uid": "F83cD5fMR9SZl5QUecmlAg",
             "width": 30
            },
            {
             "options": {
              "fontSize": 16,
              "geneAnnoHeight": 12,
              "geneLabelPosition": "outside",
              "geneStrandSpacing": 4,
              "labelBottomMargin": 0,
              "labelColor": "black",
              "labelLeftMargin": 0,
              "labelPosition": "hidden",
              "labelRightMargin": 0,
              "labelTopMargin": 0,
              "minWidth": 24,
              "minusStrandColor": "red",
              "mousePositionColor": "#000000",
              "plusStrandColor": "blue",
              "showMousePosition": true,
              "trackBorderColor": "black",
              "trackBorderWidth": 0
             },
             "server": "http://localhost:50201/api/v1",
             "tilesetUid": "CVJU4sjYTEikHt_g6QxMrw",
             "type": "vertical-gene-annotations",
             "uid": "A8kVGdlAQrOi6-NMifnjew",
             "width": 55
            }
           ],
           "right": [],
           "top": [
            {
             "height": 30,
             "options": {
              "color": "#808080",
              "fontIsLeftAligned": false,
              "fontSize": 16,
              "mousePositionColor": "#000000",
              "showMousePosition": true,
              "stroke": "#ffffff"
             },
             "server": "http://localhost:50201/api/v1",
             "tilesetUid": "CMsuiFUyR6yjaqRP3PPALg",
             "type": "horizontal-chromosome-labels",
             "uid": "S4Y2rxMgQ1255grICDU9cQ"
            },
            {
             "height": 150,
             "options": {
              "fontSize": 16,
              "geneAnnotationHeight": 12,
              "geneLabelPosition": "outside",
              "geneStrandSpacing": 4,
              "labelBackgroundColor": "#ffffff",
              "labelBottomMargin": 0,
              "labelColor": "black",
              "labelLeftMargin": 0,
              "labelPosition": "hidden",
              "labelRightMargin": 0,
              "labelTopMargin": 0,
              "minHeight": 24,
              "minusStrandColor": "red",
              "mousePositionColor": "#000000",
              "plusStrandColor": "blue",
              "showMousePosition": true,
              "trackBorderColor": "black",
              "trackBorderWidth": 0
             },
             "server": "http://localhost:50201/api/v1",
             "tilesetUid": "CVJU4sjYTEikHt_g6QxMrw",
             "type": "horizontal-gene-annotations",
             "uid": "XxxvIQOzRXqpuMLrEBkYBA"
            },
            {
             "height": 20,
             "options": {
              "alternating": false,
              "annotationHeight": 16,
              "annotationStyle": "box",
              "axisPositionHorizontal": "right",
              "colorEncoding": false,
              "colorEncodingRange": false,
              "colorRange": [
               "#000000",
               "#652537",
               "#bf5458",
               "#fba273",
               "#ffffe0"
              ],
              "fillColor": "blue",
              "labelBottomMargin": 0,
              "labelColor": "black",
              "labelLeftMargin": 0,
              "labelPosition": "hidden",
              "labelRightMargin": 0,
              "labelTopMargin": 0,
              "minHeight": 20,
              "name": "PCa13848 (w = 3)",
              "showMousePosition": true,
              "showTexts": false,
              "trackBorderColor": "black",
              "trackBorderWidth": 0,
              "valueColumn": null
             },
             "server": "http://localhost:50201/api/v1",
             "tilesetUid": "azs9NILhRUerJU1Ffj8jAQ",
             "type": "bedlike",
             "uid": "MMaYxIYmTbGoDCg4t7Y_hg"
            }
           ],
           "whole": []
          },
          "uid": "b9qPmvdIRMmOqrWMCL2g7w"
         },
         {
          "initialXDomain": [
           2225407310,
           2228407310
          ],
          "initialYDomain": [
           2226203861.724138,
           2227610758.275862
          ],
          "layout": {
           "h": 12,
           "w": 12,
           "x": 0,
           "y": 16
          },
          "tracks": {
           "bottom": [],
           "center": [
            {
             "height": 300,
             "options": {
              "backgroundColor": "#eeeeee",
              "colorRange": [
               "white",
               "rgba(245,166,35,1.0)",
               "rgba(208,2,27,1.0)",
               "black"
              ],
              "colorbarBackgroundColor": "#ffffff",
              "colorbarPosition": "topRight",
              "extent": "full",
              "heatmapValueScaling": "log",
              "labelBottomMargin": 0,
              "labelLeftMargin": 0,
              "labelPosition": "bottomRight",
              "labelRightMargin": 0,
              "labelShowAssembly": true,
              "labelShowResolution": true,
              "labelTopMargin": 0,
              "maxZoom": "15",
              "minHeight": 100,
              "minWidth": 100,
              "mousePositionColor": "#000000",
              "name": "PCa3023",
              "scaleEndPercent": "1.00000",
              "scaleStartPercent": "0.00000",
              "showMousePosition": true,
              "showTooltip": false,
              "trackBorderColor": "black",
              "trackBorderWidth": 0
             },
             "resolutions": [
              1000,
              2000,
              3000,
              4000,
              5000,
              10000,
              20000,
              30000,
              40000,
              50000,
              100000,
              200000,
              300000,
              400000,
              500000,
              1000000,
              2000000,
              3000000,
              4000000,
              5000000
             ],
             "server": "http://localhost:50201/api/v1",
             "tilesetUid": "NqxpnLYDRuSZPxWAFsO66g",
             "transforms": [],
             "type": "heatmap",
             "uid": "DQV50Mz-TfuJaxNfU9GgsQ"
            }
           ],
           "gallery": [],
           "left": [
            {
             "options": {
              "color": "#777777",
              "fontIsLeftAligned": false,
              "fontSize": 16,
              "minWidth": 35,
              "mousePositionColor": "#000000",
              "showMousePosition": true,
              "stroke": "#FFFFFF"
             },
             "server": "http://localhost:50201/api/v1",
             "tilesetUid": "CMsuiFUyR6yjaqRP3PPALg",
             "type": "vertical-chromosome-labels",
             "uid": "F83cD5fMR9SZl5QUecmlAg",
             "width": 30
            },
            {
             "options": {
              "fontSize": 16,
              "geneAnnoHeight": 12,
              "geneLabelPosition": "outside",
              "geneStrandSpacing": 4,
              "labelBottomMargin": 0,
              "labelColor": "black",
              "labelLeftMargin": 0,
              "labelPosition": "hidden",
              "labelRightMargin": 0,
              "labelTopMargin": 0,
              "minWidth": 24,
              "minusStrandColor": "red",
              "mousePositionColor": "#000000",
              "plusStrandColor": "blue",
              "showMousePosition": true,
              "trackBorderColor": "black",
              "trackBorderWidth": 0
             },
             "server": "http://localhost:50201/api/v1",
             "tilesetUid": "CVJU4sjYTEikHt_g6QxMrw",
             "type": "vertical-gene-annotations",
             "uid": "A8kVGdlAQrOi6-NMifnjew",
             "width": 55
            }
           ],
           "right": [],
           "top": [
            {
             "height": 20,
             "options": {
              "alternating": false,
              "annotationHeight": 16,
              "annotationStyle": "box",
              "axisPositionHorizontal": "right",
              "colorEncoding": false,
              "colorEncodingRange": false,
              "colorRange": [
               "#000000",
               "#652537",
               "#bf5458",
               "#fba273",
               "#ffffe0"
              ],
              "fillColor": "blue",
              "labelBottomMargin": 0,
              "labelColor": "black",
              "labelLeftMargin": 0,
              "labelPosition": "hidden",
              "labelRightMargin": 0,
              "labelTopMargin": 0,
              "minHeight": 20,
              "name": "PCa3023 (w = 3)",
              "showMousePosition": true,
              "showTexts": false,
              "trackBorderColor": "black",
              "trackBorderWidth": 0,
              "valueColumn": null
             },
             "server": "http://localhost:50201/api/v1",
             "tilesetUid": "CB06rym7RsG8lKpY4F49Hw",
             "type": "bedlike",
             "uid": "ISBKTMYWQNOvFgqOJFqMMA"
            }
           ],
           "whole": []
          },
          "uid": "dJtnwHhUQx6PRi30Ov2UHg"
         }
        ],
        "zoomLocks": {
         "locksByViewUid": {},
         "locksDict": {}
        }
       }
      }
     },
     "6d0d7737dbc440738d2dc7b540dd41af": {
      "model_module": "@jupyter-widgets/base",
      "model_module_version": "1.2.0",
      "model_name": "LayoutModel",
      "state": {}
     },
     "706ef49acfef4c17b93017858bcddbea": {
      "model_module": "higlass-jupyter",
      "model_module_version": "0.4.0",
      "model_name": "HiGlassDisplayModel",
      "state": {
       "_dom_classes": [],
       "_model_data": [],
       "_view_count": null,
       "auth_token": "",
       "bounded": null,
       "cursor_location": [],
       "dark_mode": false,
       "default_track_options": {},
       "dom_element_id": "rojlw2",
       "height": 0,
       "layout": "IPY_MODEL_017e87eb993b4472b4fc85564dacca10",
       "location": [
        2940087448.7015705,
        2945155595.298429,
        2942621522,
        2942621522
       ],
       "options": {},
       "renderer": "",
       "select_mode": false,
       "selection": [],
       "selection_on_alt": false,
       "viewconf": {
        "editable": true,
        "exportViewUrl": "http://higlass.io/api/v1/viewconfs",
        "locationLocks": {
         "locksByViewUid": {},
         "locksDict": {}
        },
        "trackSourceServers": [
         "http://higlass.io/api/v1"
        ],
        "valueScaleLocks": {
         "locksByViewUid": {
          "bd-LlC-qR7CeX1BXv4rzMA.EK11NdFCT8imcFVleqsJSA": "LDJo7DtGTDGtjZpicv0hkw",
          "bd-LlC-qR7CeX1BXv4rzMA.Hi_qdQtqS1quPknrA8NNlw": "LDJo7DtGTDGtjZpicv0hkw",
          "bd-LlC-qR7CeX1BXv4rzMA.KhLNQ75kTDOrTewU8Yv4yA": "LDJo7DtGTDGtjZpicv0hkw",
          "bd-LlC-qR7CeX1BXv4rzMA.LacJLpf0QqyYuln92tEnJg": "LDJo7DtGTDGtjZpicv0hkw",
          "bd-LlC-qR7CeX1BXv4rzMA.NjD8ljW2Tu62N89hp8NsyA": "LDJo7DtGTDGtjZpicv0hkw",
          "bd-LlC-qR7CeX1BXv4rzMA.QyZj1DtjRkmWvBx93hIz5w": "LDJo7DtGTDGtjZpicv0hkw",
          "bd-LlC-qR7CeX1BXv4rzMA.S4Y2rxMgQ1255grICDU9cQ": "LDJo7DtGTDGtjZpicv0hkw",
          "bd-LlC-qR7CeX1BXv4rzMA.TEtkw3dxThq_049qEqYZ7Q": "LDJo7DtGTDGtjZpicv0hkw",
          "bd-LlC-qR7CeX1BXv4rzMA.UB_h-SArQ_W9Ch_CE6MsmQ": "LDJo7DtGTDGtjZpicv0hkw",
          "bd-LlC-qR7CeX1BXv4rzMA.UHlJqaIQT5qFNq1nH9EH9Q": "LDJo7DtGTDGtjZpicv0hkw",
          "bd-LlC-qR7CeX1BXv4rzMA.VJ7U4z5oQ2GU8ENcREqOGQ": "LDJo7DtGTDGtjZpicv0hkw",
          "bd-LlC-qR7CeX1BXv4rzMA.XxxvIQOzRXqpuMLrEBkYBA": "LDJo7DtGTDGtjZpicv0hkw",
          "bd-LlC-qR7CeX1BXv4rzMA.YleGk1a2S7WNFFq9MI5KHg": "LDJo7DtGTDGtjZpicv0hkw",
          "bd-LlC-qR7CeX1BXv4rzMA.bGDxm87sSP2k-M4oWr0anA": "LDJo7DtGTDGtjZpicv0hkw",
          "bd-LlC-qR7CeX1BXv4rzMA.bLyjunCLTOyyTxIoDMcsJQ": "LDJo7DtGTDGtjZpicv0hkw",
          "bd-LlC-qR7CeX1BXv4rzMA.cQvjLIgnTr-eGwCa9F3ZNg": "LDJo7DtGTDGtjZpicv0hkw",
          "bd-LlC-qR7CeX1BXv4rzMA.eY39cbJ3RUuxjdFvsx8jiA": "LDJo7DtGTDGtjZpicv0hkw",
          "bd-LlC-qR7CeX1BXv4rzMA.fF8klEb-Squ5DdqdiKj6AQ": "LDJo7DtGTDGtjZpicv0hkw",
          "bd-LlC-qR7CeX1BXv4rzMA.fKv3QoiQSE2Us6mLVJo5ZA": "LDJo7DtGTDGtjZpicv0hkw",
          "bd-LlC-qR7CeX1BXv4rzMA.fjp9rrMVSfyr8DhPs2ZaVg": "LDJo7DtGTDGtjZpicv0hkw"
         },
         "locksDict": {
          "LDJo7DtGTDGtjZpicv0hkw": {
           "bd-LlC-qR7CeX1BXv4rzMA.EK11NdFCT8imcFVleqsJSA": {
            "track": "EK11NdFCT8imcFVleqsJSA",
            "view": "bd-LlC-qR7CeX1BXv4rzMA"
           },
           "bd-LlC-qR7CeX1BXv4rzMA.Hi_qdQtqS1quPknrA8NNlw": {
            "track": "Hi_qdQtqS1quPknrA8NNlw",
            "view": "bd-LlC-qR7CeX1BXv4rzMA"
           },
           "bd-LlC-qR7CeX1BXv4rzMA.KhLNQ75kTDOrTewU8Yv4yA": {
            "track": "KhLNQ75kTDOrTewU8Yv4yA",
            "view": "bd-LlC-qR7CeX1BXv4rzMA"
           },
           "bd-LlC-qR7CeX1BXv4rzMA.LacJLpf0QqyYuln92tEnJg": {
            "track": "LacJLpf0QqyYuln92tEnJg",
            "view": "bd-LlC-qR7CeX1BXv4rzMA"
           },
           "bd-LlC-qR7CeX1BXv4rzMA.NjD8ljW2Tu62N89hp8NsyA": {
            "track": "NjD8ljW2Tu62N89hp8NsyA",
            "view": "bd-LlC-qR7CeX1BXv4rzMA"
           },
           "bd-LlC-qR7CeX1BXv4rzMA.QyZj1DtjRkmWvBx93hIz5w": {
            "track": "QyZj1DtjRkmWvBx93hIz5w",
            "view": "bd-LlC-qR7CeX1BXv4rzMA"
           },
           "bd-LlC-qR7CeX1BXv4rzMA.S4Y2rxMgQ1255grICDU9cQ": {
            "track": "S4Y2rxMgQ1255grICDU9cQ",
            "view": "bd-LlC-qR7CeX1BXv4rzMA"
           },
           "bd-LlC-qR7CeX1BXv4rzMA.TEtkw3dxThq_049qEqYZ7Q": {
            "track": "TEtkw3dxThq_049qEqYZ7Q",
            "view": "bd-LlC-qR7CeX1BXv4rzMA"
           },
           "bd-LlC-qR7CeX1BXv4rzMA.UB_h-SArQ_W9Ch_CE6MsmQ": {
            "track": "UB_h-SArQ_W9Ch_CE6MsmQ",
            "view": "bd-LlC-qR7CeX1BXv4rzMA"
           },
           "bd-LlC-qR7CeX1BXv4rzMA.UHlJqaIQT5qFNq1nH9EH9Q": {
            "track": "UHlJqaIQT5qFNq1nH9EH9Q",
            "view": "bd-LlC-qR7CeX1BXv4rzMA"
           },
           "bd-LlC-qR7CeX1BXv4rzMA.VJ7U4z5oQ2GU8ENcREqOGQ": {
            "track": "VJ7U4z5oQ2GU8ENcREqOGQ",
            "view": "bd-LlC-qR7CeX1BXv4rzMA"
           },
           "bd-LlC-qR7CeX1BXv4rzMA.XxxvIQOzRXqpuMLrEBkYBA": {
            "track": "XxxvIQOzRXqpuMLrEBkYBA",
            "view": "bd-LlC-qR7CeX1BXv4rzMA"
           },
           "bd-LlC-qR7CeX1BXv4rzMA.YleGk1a2S7WNFFq9MI5KHg": {
            "track": "YleGk1a2S7WNFFq9MI5KHg",
            "view": "bd-LlC-qR7CeX1BXv4rzMA"
           },
           "bd-LlC-qR7CeX1BXv4rzMA.bGDxm87sSP2k-M4oWr0anA": {
            "track": "bGDxm87sSP2k-M4oWr0anA",
            "view": "bd-LlC-qR7CeX1BXv4rzMA"
           },
           "bd-LlC-qR7CeX1BXv4rzMA.bLyjunCLTOyyTxIoDMcsJQ": {
            "track": "bLyjunCLTOyyTxIoDMcsJQ",
            "view": "bd-LlC-qR7CeX1BXv4rzMA"
           },
           "bd-LlC-qR7CeX1BXv4rzMA.cQvjLIgnTr-eGwCa9F3ZNg": {
            "track": "cQvjLIgnTr-eGwCa9F3ZNg",
            "view": "bd-LlC-qR7CeX1BXv4rzMA"
           },
           "bd-LlC-qR7CeX1BXv4rzMA.eY39cbJ3RUuxjdFvsx8jiA": {
            "track": "eY39cbJ3RUuxjdFvsx8jiA",
            "view": "bd-LlC-qR7CeX1BXv4rzMA"
           },
           "bd-LlC-qR7CeX1BXv4rzMA.fF8klEb-Squ5DdqdiKj6AQ": {
            "track": "fF8klEb-Squ5DdqdiKj6AQ",
            "view": "bd-LlC-qR7CeX1BXv4rzMA"
           },
           "bd-LlC-qR7CeX1BXv4rzMA.fKv3QoiQSE2Us6mLVJo5ZA": {
            "track": "fKv3QoiQSE2Us6mLVJo5ZA",
            "view": "bd-LlC-qR7CeX1BXv4rzMA"
           },
           "bd-LlC-qR7CeX1BXv4rzMA.fjp9rrMVSfyr8DhPs2ZaVg": {
            "track": "fjp9rrMVSfyr8DhPs2ZaVg",
            "view": "bd-LlC-qR7CeX1BXv4rzMA"
           },
           "uid": "LDJo7DtGTDGtjZpicv0hkw"
          }
         }
        },
        "views": [
         {
          "initialXDomain": [
           2940087448.7015705,
           2945155595.298429
          ],
          "initialYDomain": [
           2942621522,
           2942621522
          ],
          "layout": {
           "h": 73,
           "w": 12,
           "x": 0,
           "y": 0
          },
          "tracks": {
           "bottom": [],
           "center": [],
           "gallery": [],
           "left": [],
           "right": [],
           "top": [
            {
             "height": 30,
             "options": {
              "color": "#808080",
              "fontIsLeftAligned": false,
              "fontSize": 16,
              "mousePositionColor": "#000000",
              "showMousePosition": true,
              "stroke": "#ffffff"
             },
             "server": "http://localhost:42915/api/v1",
             "tilesetUid": "CMsuiFUyR6yjaqRP3PPALg",
             "type": "horizontal-chromosome-labels",
             "uid": "S4Y2rxMgQ1255grICDU9cQ"
            },
            {
             "height": 150,
             "options": {
              "fontSize": 16,
              "geneAnnotationHeight": 12,
              "geneLabelPosition": "outside",
              "geneStrandSpacing": 4,
              "labelBackgroundColor": "#ffffff",
              "labelBottomMargin": 0,
              "labelColor": "black",
              "labelLeftMargin": 0,
              "labelPosition": "hidden",
              "labelRightMargin": 0,
              "labelTopMargin": 0,
              "minHeight": 24,
              "minusStrandColor": "red",
              "mousePositionColor": "#000000",
              "plusStrandColor": "blue",
              "showMousePosition": true,
              "trackBorderColor": "black",
              "trackBorderWidth": 0
             },
             "server": "http://localhost:42915/api/v1",
             "tilesetUid": "CVJU4sjYTEikHt_g6QxMrw",
             "type": "horizontal-gene-annotations",
             "uid": "XxxvIQOzRXqpuMLrEBkYBA"
            },
            {
             "height": 150,
             "options": {
              "backgroundColor": "#eeeeee",
              "colorRange": [
               "white",
               "rgba(245,166,35,1.0)",
               "rgba(208,2,27,1.0)",
               "black"
              ],
              "colorbarPosition": "topRight",
              "labelBottomMargin": 0,
              "labelColor": "black",
              "labelLeftMargin": 0,
              "labelPosition": "bottomRight",
              "labelRightMargin": 0,
              "labelShowAssembly": true,
              "labelShowResolution": true,
              "labelTopMargin": 0,
              "maxZoom": "15",
              "minHeight": 40,
              "minWidth": 100,
              "name": "PCa13266",
              "showMousePosition": true,
              "trackBorderColor": "black",
              "trackBorderWidth": 0
             },
             "server": "http://localhost:42915/api/v1",
             "tilesetUid": "CQ4OqxHHRpWqW0bWnR_95g",
             "type": "horizontal-heatmap",
             "uid": "NjD8ljW2Tu62N89hp8NsyA"
            },
            {
             "height": 150,
             "options": {
              "backgroundColor": "#eeeeee",
              "colorRange": [
               "white",
               "rgba(245,166,35,1.0)",
               "rgba(208,2,27,1.0)",
               "black"
              ],
              "colorbarPosition": "topRight",
              "labelBottomMargin": 0,
              "labelColor": "black",
              "labelLeftMargin": 0,
              "labelPosition": "bottomRight",
              "labelRightMargin": 0,
              "labelShowAssembly": true,
              "labelShowResolution": true,
              "labelTopMargin": 0,
              "maxZoom": "15",
              "minHeight": 40,
              "minWidth": 100,
              "name": "PCa13848",
              "showMousePosition": true,
              "trackBorderColor": "black",
              "trackBorderWidth": 0
             },
             "server": "http://localhost:42915/api/v1",
             "tilesetUid": "BbAPbcAST1q8oGL-L8pang",
             "type": "horizontal-heatmap",
             "uid": "eY39cbJ3RUuxjdFvsx8jiA"
            },
            {
             "height": 150,
             "options": {
              "backgroundColor": "#eeeeee",
              "colorRange": [
               "white",
               "rgba(245,166,35,1.0)",
               "rgba(208,2,27,1.0)",
               "black"
              ],
              "colorbarPosition": "topRight",
              "labelBottomMargin": 0,
              "labelColor": "black",
              "labelLeftMargin": 0,
              "labelPosition": "bottomRight",
              "labelRightMargin": 0,
              "labelShowAssembly": true,
              "labelShowResolution": true,
              "labelTopMargin": 0,
              "maxZoom": "15",
              "minHeight": 40,
              "minWidth": 100,
              "name": "PCa14121",
              "showMousePosition": true,
              "trackBorderColor": "black",
              "trackBorderWidth": 0
             },
             "server": "http://localhost:42915/api/v1",
             "tilesetUid": "Wmj7v367QziMRlWFMWdzWw",
             "type": "horizontal-heatmap",
             "uid": "EK11NdFCT8imcFVleqsJSA"
            },
            {
             "height": 150,
             "options": {
              "backgroundColor": "#eeeeee",
              "colorRange": [
               "white",
               "rgba(245,166,35,1.0)",
               "rgba(208,2,27,1.0)",
               "black"
              ],
              "colorbarPosition": "topRight",
              "labelBottomMargin": 0,
              "labelColor": "black",
              "labelLeftMargin": 0,
              "labelPosition": "bottomRight",
              "labelRightMargin": 0,
              "labelShowAssembly": true,
              "labelShowResolution": true,
              "labelTopMargin": 0,
              "maxZoom": "15",
              "minHeight": 40,
              "minWidth": 100,
              "name": "PCa19121",
              "showMousePosition": true,
              "trackBorderColor": "black",
              "trackBorderWidth": 0
             },
             "server": "http://localhost:42915/api/v1",
             "tilesetUid": "R035sMOYSceQf26wr5lm7w",
             "type": "horizontal-heatmap",
             "uid": "Hi_qdQtqS1quPknrA8NNlw"
            },
            {
             "height": 150,
             "options": {
              "backgroundColor": "#eeeeee",
              "colorRange": [
               "white",
               "rgba(245,166,35,1.0)",
               "rgba(208,2,27,1.0)",
               "black"
              ],
              "colorbarPosition": "topRight",
              "labelBottomMargin": 0,
              "labelColor": "black",
              "labelLeftMargin": 0,
              "labelPosition": "bottomRight",
              "labelRightMargin": 0,
              "labelShowAssembly": true,
              "labelShowResolution": true,
              "labelTopMargin": 0,
              "maxZoom": "15",
              "minHeight": 40,
              "minWidth": 100,
              "name": "PCa3023",
              "showMousePosition": true,
              "trackBorderColor": "black",
              "trackBorderWidth": 0
             },
             "server": "http://localhost:42915/api/v1",
             "tilesetUid": "NqxpnLYDRuSZPxWAFsO66g",
             "type": "horizontal-heatmap",
             "uid": "VJ7U4z5oQ2GU8ENcREqOGQ"
            },
            {
             "height": 150,
             "options": {
              "backgroundColor": "#eeeeee",
              "colorRange": [
               "white",
               "rgba(245,166,35,1.0)",
               "rgba(208,2,27,1.0)",
               "black"
              ],
              "colorbarPosition": "topRight",
              "labelBottomMargin": 0,
              "labelColor": "black",
              "labelLeftMargin": 0,
              "labelPosition": "bottomRight",
              "labelRightMargin": 0,
              "labelShowAssembly": true,
              "labelShowResolution": true,
              "labelTopMargin": 0,
              "maxZoom": "15",
              "minHeight": 40,
              "minWidth": 100,
              "name": "PCa33173",
              "showMousePosition": true,
              "trackBorderColor": "black",
              "trackBorderWidth": 0
             },
             "server": "http://localhost:42915/api/v1",
             "tilesetUid": "R_2HBkduTYCenDUWv5LMQA",
             "type": "horizontal-heatmap",
             "uid": "QyZj1DtjRkmWvBx93hIz5w"
            },
            {
             "height": 150,
             "options": {
              "backgroundColor": "#eeeeee",
              "colorRange": [
               "white",
               "rgba(245,166,35,1.0)",
               "rgba(208,2,27,1.0)",
               "black"
              ],
              "colorbarPosition": "topRight",
              "labelBottomMargin": 0,
              "labelColor": "black",
              "labelLeftMargin": 0,
              "labelPosition": "bottomRight",
              "labelRightMargin": 0,
              "labelShowAssembly": true,
              "labelShowResolution": true,
              "labelTopMargin": 0,
              "maxZoom": "15",
              "minHeight": 40,
              "minWidth": 100,
              "name": "PCa40507",
              "showMousePosition": true,
              "trackBorderColor": "black",
              "trackBorderWidth": 0
             },
             "server": "http://localhost:42915/api/v1",
             "tilesetUid": "DYAWQOsYSg-OQjXnT5UEMQ",
             "type": "horizontal-heatmap",
             "uid": "UHlJqaIQT5qFNq1nH9EH9Q"
            },
            {
             "height": 150,
             "options": {
              "backgroundColor": "#eeeeee",
              "colorRange": [
               "white",
               "rgba(245,166,35,1.0)",
               "rgba(208,2,27,1.0)",
               "black"
              ],
              "colorbarPosition": "topRight",
              "labelBottomMargin": 0,
              "labelColor": "black",
              "labelLeftMargin": 0,
              "labelPosition": "bottomRight",
              "labelRightMargin": 0,
              "labelShowAssembly": true,
              "labelShowResolution": true,
              "labelTopMargin": 0,
              "maxZoom": "15",
              "minHeight": 40,
              "minWidth": 100,
              "name": "PCa51852",
              "showMousePosition": true,
              "trackBorderColor": "black",
              "trackBorderWidth": 0
             },
             "server": "http://localhost:42915/api/v1",
             "tilesetUid": "U9Ex8WMEQWaEs2dQVec0yg",
             "type": "horizontal-heatmap",
             "uid": "TEtkw3dxThq_049qEqYZ7Q"
            },
            {
             "height": 150,
             "options": {
              "backgroundColor": "#eeeeee",
              "colorRange": [
               "white",
               "rgba(245,166,35,1.0)",
               "rgba(208,2,27,1.0)",
               "black"
              ],
              "colorbarPosition": "topRight",
              "labelBottomMargin": 0,
              "labelColor": "black",
              "labelLeftMargin": 0,
              "labelPosition": "bottomRight",
              "labelRightMargin": 0,
              "labelShowAssembly": true,
              "labelShowResolution": true,
              "labelTopMargin": 0,
              "maxZoom": "15",
              "minHeight": 40,
              "minWidth": 100,
              "name": "PCa53687",
              "showMousePosition": true,
              "trackBorderColor": "black",
              "trackBorderWidth": 0
             },
             "server": "http://localhost:42915/api/v1",
             "tilesetUid": "OCA9e7vPQ4ymmJeXUBRdhA",
             "type": "horizontal-heatmap",
             "uid": "cQvjLIgnTr-eGwCa9F3ZNg"
            },
            {
             "height": 150,
             "options": {
              "backgroundColor": "#eeeeee",
              "colorRange": [
               "white",
               "rgba(245,166,35,1.0)",
               "rgba(208,2,27,1.0)",
               "black"
              ],
              "colorbarPosition": "topRight",
              "labelBottomMargin": 0,
              "labelColor": "black",
              "labelLeftMargin": 0,
              "labelPosition": "bottomRight",
              "labelRightMargin": 0,
              "labelShowAssembly": true,
              "labelShowResolution": true,
              "labelTopMargin": 0,
              "maxZoom": "15",
              "minHeight": 40,
              "minWidth": 100,
              "name": "PCa56413",
              "showMousePosition": true,
              "trackBorderColor": "black",
              "trackBorderWidth": 0
             },
             "server": "http://localhost:42915/api/v1",
             "tilesetUid": "Ki4mnmMoSKy5gyB_Wkyh3w",
             "type": "horizontal-heatmap",
             "uid": "bLyjunCLTOyyTxIoDMcsJQ"
            },
            {
             "height": 150,
             "options": {
              "backgroundColor": "#eeeeee",
              "colorRange": [
               "white",
               "rgba(245,166,35,1.0)",
               "rgba(208,2,27,1.0)",
               "black"
              ],
              "colorbarPosition": "topRight",
              "labelBottomMargin": 0,
              "labelColor": "black",
              "labelLeftMargin": 0,
              "labelPosition": "bottomRight",
              "labelRightMargin": 0,
              "labelShowAssembly": true,
              "labelShowResolution": true,
              "labelTopMargin": 0,
              "maxZoom": "15",
              "minHeight": 40,
              "minWidth": 100,
              "name": "PCa57054",
              "showMousePosition": true,
              "trackBorderColor": "black",
              "trackBorderWidth": 0
             },
             "server": "http://localhost:42915/api/v1",
             "tilesetUid": "JJvSTGq1TsqR6Mu-yB3yww",
             "type": "horizontal-heatmap",
             "uid": "UB_h-SArQ_W9Ch_CE6MsmQ"
            },
            {
             "height": 150,
             "options": {
              "backgroundColor": "#eeeeee",
              "colorRange": [
               "white",
               "rgba(245,166,35,1.0)",
               "rgba(208,2,27,1.0)",
               "black"
              ],
              "colorbarPosition": "topRight",
              "labelBottomMargin": 0,
              "labelColor": "black",
              "labelLeftMargin": 0,
              "labelPosition": "bottomRight",
              "labelRightMargin": 0,
              "labelShowAssembly": true,
              "labelShowResolution": true,
              "labelTopMargin": 0,
              "maxZoom": "15",
              "minHeight": 40,
              "minWidth": 100,
              "name": "PCa57294",
              "showMousePosition": true,
              "trackBorderColor": "black",
              "trackBorderWidth": 0
             },
             "server": "http://localhost:42915/api/v1",
             "tilesetUid": "V4H5L6FvSGmQrHyurUus6w",
             "type": "horizontal-heatmap",
             "uid": "bGDxm87sSP2k-M4oWr0anA"
            },
            {
             "height": 150,
             "options": {
              "backgroundColor": "#eeeeee",
              "colorRange": [
               "white",
               "rgba(245,166,35,1.0)",
               "rgba(208,2,27,1.0)",
               "black"
              ],
              "colorbarPosition": "topRight",
              "labelBottomMargin": 0,
              "labelColor": "black",
              "labelLeftMargin": 0,
              "labelPosition": "bottomRight",
              "labelRightMargin": 0,
              "labelShowAssembly": true,
              "labelShowResolution": true,
              "labelTopMargin": 0,
              "maxZoom": "15",
              "minHeight": 40,
              "minWidth": 100,
              "name": "PCa58215",
              "showMousePosition": true,
              "trackBorderColor": "black",
              "trackBorderWidth": 0
             },
             "server": "http://localhost:42915/api/v1",
             "tilesetUid": "LSYUjN0DR_um2PfQ4RYeEA",
             "type": "horizontal-heatmap",
             "uid": "LacJLpf0QqyYuln92tEnJg"
            },
            {
             "height": 150,
             "options": {
              "backgroundColor": "#eeeeee",
              "colorRange": [
               "white",
               "rgba(245,166,35,1.0)",
               "rgba(208,2,27,1.0)",
               "black"
              ],
              "colorbarPosition": "topRight",
              "labelBottomMargin": 0,
              "labelColor": "black",
              "labelLeftMargin": 0,
              "labelPosition": "bottomRight",
              "labelRightMargin": 0,
              "labelShowAssembly": true,
              "labelShowResolution": true,
              "labelTopMargin": 0,
              "maxZoom": "15",
              "minHeight": 40,
              "minWidth": 100,
              "name": "Benign-Prostate-1648133",
              "showMousePosition": true,
              "trackBorderColor": "black",
              "trackBorderWidth": 0
             },
             "server": "http://localhost:42915/api/v1",
             "tilesetUid": "bp7qe5hlTuWnWUXfC3eABQ",
             "type": "horizontal-heatmap",
             "uid": "fF8klEb-Squ5DdqdiKj6AQ"
            },
            {
             "height": 150,
             "options": {
              "backgroundColor": "#eeeeee",
              "colorRange": [
               "white",
               "rgba(245,166,35,1.0)",
               "rgba(208,2,27,1.0)",
               "black"
              ],
              "colorbarPosition": "topRight",
              "labelBottomMargin": 0,
              "labelColor": "black",
              "labelLeftMargin": 0,
              "labelPosition": "bottomRight",
              "labelRightMargin": 0,
              "labelShowAssembly": true,
              "labelShowResolution": true,
              "labelTopMargin": 0,
              "maxZoom": "15",
              "minHeight": 40,
              "minWidth": 100,
              "name": "Benign-Prostate-1595983",
              "showMousePosition": true,
              "trackBorderColor": "black",
              "trackBorderWidth": 0
             },
             "server": "http://localhost:42915/api/v1",
             "tilesetUid": "FivjvBeoRAmI3tggwMLWDw",
             "type": "horizontal-heatmap",
             "uid": "fjp9rrMVSfyr8DhPs2ZaVg"
            },
            {
             "height": 150,
             "options": {
              "backgroundColor": "#eeeeee",
              "colorRange": [
               "white",
               "rgba(245,166,35,1.0)",
               "rgba(208,2,27,1.0)",
               "black"
              ],
              "colorbarPosition": "topRight",
              "labelBottomMargin": 0,
              "labelColor": "black",
              "labelLeftMargin": 0,
              "labelPosition": "bottomRight",
              "labelRightMargin": 0,
              "labelShowAssembly": true,
              "labelShowResolution": true,
              "labelTopMargin": 0,
              "maxZoom": "15",
              "minHeight": 40,
              "minWidth": 100,
              "name": "Benign-Prostate-3330581",
              "showMousePosition": true,
              "trackBorderColor": "black",
              "trackBorderWidth": 0
             },
             "server": "http://localhost:42915/api/v1",
             "tilesetUid": "JaVFVbK0SNmMG_PFeSik9A",
             "type": "horizontal-heatmap",
             "uid": "fKv3QoiQSE2Us6mLVJo5ZA"
            },
            {
             "height": 150,
             "options": {
              "backgroundColor": "#eeeeee",
              "colorRange": [
               "white",
               "rgba(245,166,35,1.0)",
               "rgba(208,2,27,1.0)",
               "black"
              ],
              "colorbarPosition": "topRight",
              "labelBottomMargin": 0,
              "labelColor": "black",
              "labelLeftMargin": 0,
              "labelPosition": "bottomRight",
              "labelRightMargin": 0,
              "labelShowAssembly": true,
              "labelShowResolution": true,
              "labelTopMargin": 0,
              "maxZoom": "15",
              "minHeight": 40,
              "minWidth": 100,
              "name": "Benign-Prostate-1664855",
              "showMousePosition": true,
              "trackBorderColor": "black",
              "trackBorderWidth": 0
             },
             "server": "http://localhost:42915/api/v1",
             "tilesetUid": "XsWytOnMRCuKsWeUoKFDlg",
             "type": "horizontal-heatmap",
             "uid": "YleGk1a2S7WNFFq9MI5KHg"
            },
            {
             "height": 150,
             "options": {
              "backgroundColor": "#eeeeee",
              "colorRange": [
               "white",
               "rgba(245,166,35,1.0)",
               "rgba(208,2,27,1.0)",
               "black"
              ],
              "colorbarPosition": "topRight",
              "labelBottomMargin": 0,
              "labelColor": "black",
              "labelLeftMargin": 0,
              "labelPosition": "bottomRight",
              "labelRightMargin": 0,
              "labelShowAssembly": true,
              "labelShowResolution": true,
              "labelTopMargin": 0,
              "maxZoom": "15",
              "minHeight": 40,
              "minWidth": 100,
              "name": "Benign-Prostate-3320942",
              "showMousePosition": true,
              "trackBorderColor": "black",
              "trackBorderWidth": 0
             },
             "server": "http://localhost:42915/api/v1",
             "tilesetUid": "fCv_-cLUR7q9w16JwEdX9g",
             "type": "horizontal-heatmap",
             "uid": "KhLNQ75kTDOrTewU8Yv4yA"
            }
           ],
           "whole": []
          },
          "uid": "bd-LlC-qR7CeX1BXv4rzMA"
         }
        ],
        "zoomLocks": {
         "locksByViewUid": {},
         "locksDict": {}
        }
       }
      }
     },
     "998a65160f154765a279acfa795a7fcb": {
      "model_module": "@jupyter-widgets/base",
      "model_module_version": "1.2.0",
      "model_name": "LayoutModel",
      "state": {}
     },
     "9ae4c6210e8c45688e4fd4f67a0fdc55": {
      "model_module": "higlass-jupyter",
      "model_module_version": "0.4.0",
      "model_name": "HiGlassDisplayModel",
      "state": {
       "_dom_classes": [],
       "_model_data": [],
       "_view_count": null,
       "auth_token": "",
       "bounded": null,
       "cursor_location": [],
       "dark_mode": false,
       "default_track_options": {},
       "dom_element_id": "yixhqx",
       "height": 0,
       "layout": "IPY_MODEL_3591ffef5dd14fd39ff93421f9b53e59",
       "location": [
        2009337479.2827225,
        2019247866.7172775,
        2014292673,
        2014292673
       ],
       "options": {},
       "renderer": "",
       "select_mode": false,
       "selection": [],
       "selection_on_alt": false,
       "viewconf": {
        "editable": true,
        "exportViewUrl": "http://higlass.io/api/v1/viewconfs",
        "locationLocks": {
         "locksByViewUid": {},
         "locksDict": {}
        },
        "trackSourceServers": [
         "http://higlass.io/api/v1"
        ],
        "valueScaleLocks": {
         "locksByViewUid": {},
         "locksDict": {}
        },
        "views": [
         {
          "initialXDomain": [
           2009337479.2827225,
           2019247866.7172775
          ],
          "initialYDomain": [
           2014292673,
           2014292673
          ],
          "layout": {
           "h": 73,
           "w": 12,
           "x": 0,
           "y": 0
          },
          "tracks": {
           "bottom": [],
           "center": [],
           "gallery": [],
           "left": [],
           "right": [],
           "top": [
            {
             "height": 30,
             "options": {
              "color": "#808080",
              "fontIsLeftAligned": false,
              "fontSize": 16,
              "mousePositionColor": "#000000",
              "showMousePosition": true,
              "stroke": "#ffffff"
             },
             "server": "http://localhost:58053/api/v1",
             "tilesetUid": "CMsuiFUyR6yjaqRP3PPALg",
             "type": "horizontal-chromosome-labels",
             "uid": "S4Y2rxMgQ1255grICDU9cQ"
            },
            {
             "height": 150,
             "options": {
              "fontSize": 16,
              "geneAnnotationHeight": 12,
              "geneLabelPosition": "outside",
              "geneStrandSpacing": 4,
              "labelBackgroundColor": "#ffffff",
              "labelBottomMargin": 0,
              "labelColor": "black",
              "labelLeftMargin": 0,
              "labelPosition": "hidden",
              "labelRightMargin": 0,
              "labelTopMargin": 0,
              "minHeight": 24,
              "minusStrandColor": "red",
              "mousePositionColor": "#000000",
              "plusStrandColor": "blue",
              "showMousePosition": true,
              "trackBorderColor": "black",
              "trackBorderWidth": 0
             },
             "server": "http://localhost:58053/api/v1",
             "tilesetUid": "CVJU4sjYTEikHt_g6QxMrw",
             "type": "horizontal-gene-annotations",
             "uid": "XxxvIQOzRXqpuMLrEBkYBA"
            },
            {
             "height": 150,
             "options": {
              "backgroundColor": "#eeeeee",
              "colorRange": [
               "white",
               "rgba(245,166,35,1.0)",
               "rgba(208,2,27,1.0)",
               "black"
              ],
              "colorbarPosition": "topRight",
              "labelBottomMargin": 0,
              "labelColor": "black",
              "labelLeftMargin": 0,
              "labelPosition": "bottomRight",
              "labelRightMargin": 0,
              "labelShowAssembly": true,
              "labelShowResolution": true,
              "labelTopMargin": 0,
              "maxZoom": "15",
              "minHeight": 40,
              "minWidth": 100,
              "name": "PCa13266",
              "showMousePosition": true,
              "trackBorderColor": "black",
              "trackBorderWidth": 0
             },
             "server": "http://localhost:58053/api/v1",
             "tilesetUid": "CQ4OqxHHRpWqW0bWnR_95g",
             "type": "horizontal-heatmap",
             "uid": "NjD8ljW2Tu62N89hp8NsyA"
            },
            {
             "height": 150,
             "options": {
              "backgroundColor": "#eeeeee",
              "colorRange": [
               "white",
               "rgba(245,166,35,1.0)",
               "rgba(208,2,27,1.0)",
               "black"
              ],
              "colorbarPosition": "topRight",
              "labelBottomMargin": 0,
              "labelColor": "black",
              "labelLeftMargin": 0,
              "labelPosition": "bottomRight",
              "labelRightMargin": 0,
              "labelShowAssembly": true,
              "labelShowResolution": true,
              "labelTopMargin": 0,
              "maxZoom": "15",
              "minHeight": 40,
              "minWidth": 100,
              "name": "PCa13848",
              "showMousePosition": true,
              "trackBorderColor": "black",
              "trackBorderWidth": 0
             },
             "server": "http://localhost:58053/api/v1",
             "tilesetUid": "BbAPbcAST1q8oGL-L8pang",
             "type": "horizontal-heatmap",
             "uid": "eY39cbJ3RUuxjdFvsx8jiA"
            },
            {
             "height": 150,
             "options": {
              "backgroundColor": "#eeeeee",
              "colorRange": [
               "white",
               "rgba(245,166,35,1.0)",
               "rgba(208,2,27,1.0)",
               "black"
              ],
              "colorbarPosition": "topRight",
              "labelBottomMargin": 0,
              "labelColor": "black",
              "labelLeftMargin": 0,
              "labelPosition": "bottomRight",
              "labelRightMargin": 0,
              "labelShowAssembly": true,
              "labelShowResolution": true,
              "labelTopMargin": 0,
              "maxZoom": "15",
              "minHeight": 40,
              "minWidth": 100,
              "name": "PCa14121",
              "showMousePosition": true,
              "trackBorderColor": "black",
              "trackBorderWidth": 0
             },
             "server": "http://localhost:58053/api/v1",
             "tilesetUid": "Wmj7v367QziMRlWFMWdzWw",
             "type": "horizontal-heatmap",
             "uid": "EK11NdFCT8imcFVleqsJSA"
            },
            {
             "height": 150,
             "options": {
              "backgroundColor": "#eeeeee",
              "colorRange": [
               "white",
               "rgba(245,166,35,1.0)",
               "rgba(208,2,27,1.0)",
               "black"
              ],
              "colorbarPosition": "topRight",
              "labelBottomMargin": 0,
              "labelColor": "black",
              "labelLeftMargin": 0,
              "labelPosition": "bottomRight",
              "labelRightMargin": 0,
              "labelShowAssembly": true,
              "labelShowResolution": true,
              "labelTopMargin": 0,
              "maxZoom": "15",
              "minHeight": 40,
              "minWidth": 100,
              "name": "PCa19121",
              "showMousePosition": true,
              "trackBorderColor": "black",
              "trackBorderWidth": 0
             },
             "server": "http://localhost:58053/api/v1",
             "tilesetUid": "R035sMOYSceQf26wr5lm7w",
             "type": "horizontal-heatmap",
             "uid": "Hi_qdQtqS1quPknrA8NNlw"
            },
            {
             "height": 150,
             "options": {
              "backgroundColor": "#eeeeee",
              "colorRange": [
               "white",
               "rgba(245,166,35,1.0)",
               "rgba(208,2,27,1.0)",
               "black"
              ],
              "colorbarPosition": "topRight",
              "labelBottomMargin": 0,
              "labelColor": "black",
              "labelLeftMargin": 0,
              "labelPosition": "bottomRight",
              "labelRightMargin": 0,
              "labelShowAssembly": true,
              "labelShowResolution": true,
              "labelTopMargin": 0,
              "maxZoom": "15",
              "minHeight": 40,
              "minWidth": 100,
              "name": "PCa3023",
              "showMousePosition": true,
              "trackBorderColor": "black",
              "trackBorderWidth": 0
             },
             "server": "http://localhost:58053/api/v1",
             "tilesetUid": "NqxpnLYDRuSZPxWAFsO66g",
             "type": "horizontal-heatmap",
             "uid": "VJ7U4z5oQ2GU8ENcREqOGQ"
            },
            {
             "height": 150,
             "options": {
              "backgroundColor": "#eeeeee",
              "colorRange": [
               "white",
               "rgba(245,166,35,1.0)",
               "rgba(208,2,27,1.0)",
               "black"
              ],
              "colorbarPosition": "topRight",
              "labelBottomMargin": 0,
              "labelColor": "black",
              "labelLeftMargin": 0,
              "labelPosition": "bottomRight",
              "labelRightMargin": 0,
              "labelShowAssembly": true,
              "labelShowResolution": true,
              "labelTopMargin": 0,
              "maxZoom": "15",
              "minHeight": 40,
              "minWidth": 100,
              "name": "PCa33173",
              "showMousePosition": true,
              "trackBorderColor": "black",
              "trackBorderWidth": 0
             },
             "server": "http://localhost:58053/api/v1",
             "tilesetUid": "R_2HBkduTYCenDUWv5LMQA",
             "type": "horizontal-heatmap",
             "uid": "QyZj1DtjRkmWvBx93hIz5w"
            },
            {
             "height": 150,
             "options": {
              "backgroundColor": "#eeeeee",
              "colorRange": [
               "white",
               "rgba(245,166,35,1.0)",
               "rgba(208,2,27,1.0)",
               "black"
              ],
              "colorbarPosition": "topRight",
              "labelBottomMargin": 0,
              "labelColor": "black",
              "labelLeftMargin": 0,
              "labelPosition": "bottomRight",
              "labelRightMargin": 0,
              "labelShowAssembly": true,
              "labelShowResolution": true,
              "labelTopMargin": 0,
              "maxZoom": "15",
              "minHeight": 40,
              "minWidth": 100,
              "name": "PCa40507",
              "showMousePosition": true,
              "trackBorderColor": "black",
              "trackBorderWidth": 0
             },
             "server": "http://localhost:58053/api/v1",
             "tilesetUid": "DYAWQOsYSg-OQjXnT5UEMQ",
             "type": "horizontal-heatmap",
             "uid": "UHlJqaIQT5qFNq1nH9EH9Q"
            },
            {
             "height": 150,
             "options": {
              "backgroundColor": "#eeeeee",
              "colorRange": [
               "white",
               "rgba(245,166,35,1.0)",
               "rgba(208,2,27,1.0)",
               "black"
              ],
              "colorbarPosition": "topRight",
              "labelBottomMargin": 0,
              "labelColor": "black",
              "labelLeftMargin": 0,
              "labelPosition": "bottomRight",
              "labelRightMargin": 0,
              "labelShowAssembly": true,
              "labelShowResolution": true,
              "labelTopMargin": 0,
              "maxZoom": "15",
              "minHeight": 40,
              "minWidth": 100,
              "name": "PCa51852",
              "showMousePosition": true,
              "trackBorderColor": "black",
              "trackBorderWidth": 0
             },
             "server": "http://localhost:58053/api/v1",
             "tilesetUid": "U9Ex8WMEQWaEs2dQVec0yg",
             "type": "horizontal-heatmap",
             "uid": "TEtkw3dxThq_049qEqYZ7Q"
            },
            {
             "height": 150,
             "options": {
              "backgroundColor": "#eeeeee",
              "colorRange": [
               "white",
               "rgba(245,166,35,1.0)",
               "rgba(208,2,27,1.0)",
               "black"
              ],
              "colorbarPosition": "topRight",
              "labelBottomMargin": 0,
              "labelColor": "black",
              "labelLeftMargin": 0,
              "labelPosition": "bottomRight",
              "labelRightMargin": 0,
              "labelShowAssembly": true,
              "labelShowResolution": true,
              "labelTopMargin": 0,
              "maxZoom": "15",
              "minHeight": 40,
              "minWidth": 100,
              "name": "PCa53687",
              "showMousePosition": true,
              "trackBorderColor": "black",
              "trackBorderWidth": 0
             },
             "server": "http://localhost:58053/api/v1",
             "tilesetUid": "OCA9e7vPQ4ymmJeXUBRdhA",
             "type": "horizontal-heatmap",
             "uid": "cQvjLIgnTr-eGwCa9F3ZNg"
            },
            {
             "height": 150,
             "options": {
              "backgroundColor": "#eeeeee",
              "colorRange": [
               "white",
               "rgba(245,166,35,1.0)",
               "rgba(208,2,27,1.0)",
               "black"
              ],
              "colorbarPosition": "topRight",
              "labelBottomMargin": 0,
              "labelColor": "black",
              "labelLeftMargin": 0,
              "labelPosition": "bottomRight",
              "labelRightMargin": 0,
              "labelShowAssembly": true,
              "labelShowResolution": true,
              "labelTopMargin": 0,
              "maxZoom": "15",
              "minHeight": 40,
              "minWidth": 100,
              "name": "PCa56413",
              "showMousePosition": true,
              "trackBorderColor": "black",
              "trackBorderWidth": 0
             },
             "server": "http://localhost:58053/api/v1",
             "tilesetUid": "Ki4mnmMoSKy5gyB_Wkyh3w",
             "type": "horizontal-heatmap",
             "uid": "bLyjunCLTOyyTxIoDMcsJQ"
            },
            {
             "height": 150,
             "options": {
              "backgroundColor": "#eeeeee",
              "colorRange": [
               "white",
               "rgba(245,166,35,1.0)",
               "rgba(208,2,27,1.0)",
               "black"
              ],
              "colorbarPosition": "topRight",
              "labelBottomMargin": 0,
              "labelColor": "black",
              "labelLeftMargin": 0,
              "labelPosition": "bottomRight",
              "labelRightMargin": 0,
              "labelShowAssembly": true,
              "labelShowResolution": true,
              "labelTopMargin": 0,
              "maxZoom": "15",
              "minHeight": 40,
              "minWidth": 100,
              "name": "PCa57054",
              "showMousePosition": true,
              "trackBorderColor": "black",
              "trackBorderWidth": 0
             },
             "server": "http://localhost:58053/api/v1",
             "tilesetUid": "JJvSTGq1TsqR6Mu-yB3yww",
             "type": "horizontal-heatmap",
             "uid": "UB_h-SArQ_W9Ch_CE6MsmQ"
            },
            {
             "height": 150,
             "options": {
              "backgroundColor": "#eeeeee",
              "colorRange": [
               "white",
               "rgba(245,166,35,1.0)",
               "rgba(208,2,27,1.0)",
               "black"
              ],
              "colorbarPosition": "topRight",
              "labelBottomMargin": 0,
              "labelColor": "black",
              "labelLeftMargin": 0,
              "labelPosition": "bottomRight",
              "labelRightMargin": 0,
              "labelShowAssembly": true,
              "labelShowResolution": true,
              "labelTopMargin": 0,
              "maxZoom": "15",
              "minHeight": 40,
              "minWidth": 100,
              "name": "PCa57294",
              "showMousePosition": true,
              "trackBorderColor": "black",
              "trackBorderWidth": 0
             },
             "server": "http://localhost:58053/api/v1",
             "tilesetUid": "V4H5L6FvSGmQrHyurUus6w",
             "type": "horizontal-heatmap",
             "uid": "bGDxm87sSP2k-M4oWr0anA"
            },
            {
             "height": 150,
             "options": {
              "backgroundColor": "#eeeeee",
              "colorRange": [
               "white",
               "rgba(245,166,35,1.0)",
               "rgba(208,2,27,1.0)",
               "black"
              ],
              "colorbarPosition": "topRight",
              "labelBottomMargin": 0,
              "labelColor": "black",
              "labelLeftMargin": 0,
              "labelPosition": "bottomRight",
              "labelRightMargin": 0,
              "labelShowAssembly": true,
              "labelShowResolution": true,
              "labelTopMargin": 0,
              "maxZoom": "15",
              "minHeight": 40,
              "minWidth": 100,
              "name": "PCa58215",
              "showMousePosition": true,
              "trackBorderColor": "black",
              "trackBorderWidth": 0
             },
             "server": "http://localhost:58053/api/v1",
             "tilesetUid": "LSYUjN0DR_um2PfQ4RYeEA",
             "type": "horizontal-heatmap",
             "uid": "LacJLpf0QqyYuln92tEnJg"
            },
            {
             "height": 150,
             "options": {
              "backgroundColor": "#eeeeee",
              "colorRange": [
               "white",
               "rgba(245,166,35,1.0)",
               "rgba(208,2,27,1.0)",
               "black"
              ],
              "colorbarPosition": "topRight",
              "labelBottomMargin": 0,
              "labelColor": "black",
              "labelLeftMargin": 0,
              "labelPosition": "bottomRight",
              "labelRightMargin": 0,
              "labelShowAssembly": true,
              "labelShowResolution": true,
              "labelTopMargin": 0,
              "maxZoom": "15",
              "minHeight": 40,
              "minWidth": 100,
              "name": "Benign-Prostate-1648133",
              "showMousePosition": true,
              "trackBorderColor": "black",
              "trackBorderWidth": 0
             },
             "server": "http://localhost:58053/api/v1",
             "tilesetUid": "bp7qe5hlTuWnWUXfC3eABQ",
             "type": "horizontal-heatmap",
             "uid": "fF8klEb-Squ5DdqdiKj6AQ"
            },
            {
             "height": 150,
             "options": {
              "backgroundColor": "#eeeeee",
              "colorRange": [
               "white",
               "rgba(245,166,35,1.0)",
               "rgba(208,2,27,1.0)",
               "black"
              ],
              "colorbarPosition": "topRight",
              "labelBottomMargin": 0,
              "labelColor": "black",
              "labelLeftMargin": 0,
              "labelPosition": "bottomRight",
              "labelRightMargin": 0,
              "labelShowAssembly": true,
              "labelShowResolution": true,
              "labelTopMargin": 0,
              "maxZoom": "15",
              "minHeight": 40,
              "minWidth": 100,
              "name": "Benign-Prostate-1595983",
              "showMousePosition": true,
              "trackBorderColor": "black",
              "trackBorderWidth": 0
             },
             "server": "http://localhost:58053/api/v1",
             "tilesetUid": "FivjvBeoRAmI3tggwMLWDw",
             "type": "horizontal-heatmap",
             "uid": "fjp9rrMVSfyr8DhPs2ZaVg"
            },
            {
             "height": 150,
             "options": {
              "backgroundColor": "#eeeeee",
              "colorRange": [
               "white",
               "rgba(245,166,35,1.0)",
               "rgba(208,2,27,1.0)",
               "black"
              ],
              "colorbarPosition": "topRight",
              "labelBottomMargin": 0,
              "labelColor": "black",
              "labelLeftMargin": 0,
              "labelPosition": "bottomRight",
              "labelRightMargin": 0,
              "labelShowAssembly": true,
              "labelShowResolution": true,
              "labelTopMargin": 0,
              "maxZoom": "15",
              "minHeight": 40,
              "minWidth": 100,
              "name": "Benign-Prostate-3330581",
              "showMousePosition": true,
              "trackBorderColor": "black",
              "trackBorderWidth": 0
             },
             "server": "http://localhost:58053/api/v1",
             "tilesetUid": "JaVFVbK0SNmMG_PFeSik9A",
             "type": "horizontal-heatmap",
             "uid": "fKv3QoiQSE2Us6mLVJo5ZA"
            },
            {
             "height": 150,
             "options": {
              "backgroundColor": "#eeeeee",
              "colorRange": [
               "white",
               "rgba(245,166,35,1.0)",
               "rgba(208,2,27,1.0)",
               "black"
              ],
              "colorbarPosition": "topRight",
              "labelBottomMargin": 0,
              "labelColor": "black",
              "labelLeftMargin": 0,
              "labelPosition": "bottomRight",
              "labelRightMargin": 0,
              "labelShowAssembly": true,
              "labelShowResolution": true,
              "labelTopMargin": 0,
              "maxZoom": "15",
              "minHeight": 40,
              "minWidth": 100,
              "name": "Benign-Prostate-1664855",
              "showMousePosition": true,
              "trackBorderColor": "black",
              "trackBorderWidth": 0
             },
             "server": "http://localhost:58053/api/v1",
             "tilesetUid": "XsWytOnMRCuKsWeUoKFDlg",
             "type": "horizontal-heatmap",
             "uid": "YleGk1a2S7WNFFq9MI5KHg"
            },
            {
             "height": 150,
             "options": {
              "backgroundColor": "#eeeeee",
              "colorRange": [
               "white",
               "rgba(245,166,35,1.0)",
               "rgba(208,2,27,1.0)",
               "black"
              ],
              "colorbarPosition": "topRight",
              "labelBottomMargin": 0,
              "labelColor": "black",
              "labelLeftMargin": 0,
              "labelPosition": "bottomRight",
              "labelRightMargin": 0,
              "labelShowAssembly": true,
              "labelShowResolution": true,
              "labelTopMargin": 0,
              "maxZoom": "15",
              "minHeight": 40,
              "minWidth": 100,
              "name": "Benign-Prostate-3320942",
              "showMousePosition": true,
              "trackBorderColor": "black",
              "trackBorderWidth": 0
             },
             "server": "http://localhost:58053/api/v1",
             "tilesetUid": "fCv_-cLUR7q9w16JwEdX9g",
             "type": "horizontal-heatmap",
             "uid": "KhLNQ75kTDOrTewU8Yv4yA"
            }
           ],
           "whole": []
          },
          "uid": "c4xLMYmkQem72W4Di51fzA"
         }
        ],
        "zoomLocks": {
         "locksByViewUid": {},
         "locksDict": {}
        }
       }
      }
     },
     "9c8c47ad048549a7b514a0d989084edb": {
      "model_module": "higlass-jupyter",
      "model_module_version": "0.4.0",
      "model_name": "HiGlassDisplayModel",
      "state": {
       "_dom_classes": [],
       "_model_data": [],
       "_view_count": null,
       "auth_token": "",
       "bounded": null,
       "cursor_location": [],
       "dark_mode": false,
       "default_track_options": {},
       "dom_element_id": "gruaza",
       "height": 0,
       "layout": "IPY_MODEL_6d0d7737dbc440738d2dc7b540dd41af",
       "location": [
        2097042982,
        2097442982,
        2097241306.6073298,
        2097244657.3926702
       ],
       "options": {},
       "renderer": "",
       "select_mode": false,
       "selection": [],
       "selection_on_alt": false,
       "viewconf": {
        "editable": true,
        "exportViewUrl": "http://higlass.io/api/v1/viewconfs",
        "locationLocks": {
         "locksByViewUid": {},
         "locksDict": {}
        },
        "trackSourceServers": [
         "http://higlass.io/api/v1"
        ],
        "valueScaleLocks": {
         "locksByViewUid": {},
         "locksDict": {}
        },
        "views": [
         {
          "initialXDomain": [
           2097042982,
           2097442982
          ],
          "initialYDomain": [
           2097241306.6073298,
           2097244657.3926702
          ],
          "layout": {
           "h": 6,
           "w": 12,
           "x": 0,
           "y": 0
          },
          "tracks": {
           "bottom": [],
           "center": [],
           "gallery": [],
           "left": [],
           "right": [],
           "top": [
            {
             "height": 30,
             "options": {
              "color": "#808080",
              "fontIsLeftAligned": false,
              "fontSize": 16,
              "mousePositionColor": "#000000",
              "showMousePosition": true,
              "stroke": "#ffffff"
             },
             "server": "http://localhost:60321/api/v1",
             "tilesetUid": "CMsuiFUyR6yjaqRP3PPALg",
             "type": "horizontal-chromosome-labels",
             "uid": "S4Y2rxMgQ1255grICDU9cQ"
            },
            {
             "height": 150,
             "options": {
              "fontSize": 16,
              "geneAnnotationHeight": 12,
              "geneLabelPosition": "outside",
              "geneStrandSpacing": 4,
              "labelBackgroundColor": "#ffffff",
              "labelBottomMargin": 0,
              "labelColor": "black",
              "labelLeftMargin": 0,
              "labelPosition": "hidden",
              "labelRightMargin": 0,
              "labelTopMargin": 0,
              "minHeight": 24,
              "minusStrandColor": "red",
              "mousePositionColor": "#000000",
              "plusStrandColor": "blue",
              "showMousePosition": true,
              "trackBorderColor": "black",
              "trackBorderWidth": 0
             },
             "server": "http://localhost:60321/api/v1",
             "tilesetUid": "CVJU4sjYTEikHt_g6QxMrw",
             "type": "horizontal-gene-annotations",
             "uid": "XxxvIQOzRXqpuMLrEBkYBA"
            }
           ],
           "whole": []
          },
          "uid": "XExeC4_pQRWEKNPb_0hP5A"
         }
        ],
        "zoomLocks": {
         "locksByViewUid": {},
         "locksDict": {}
        }
       }
      }
     },
     "b2b6ca3efe6649f7ac0f17a6fbb70138": {
      "model_module": "@jupyter-widgets/base",
      "model_module_version": "1.2.0",
      "model_name": "LayoutModel",
      "state": {}
     },
     "b932f56193a04f7d88e75e077b3cb2f6": {
      "model_module": "@jupyter-widgets/base",
      "model_module_version": "1.2.0",
      "model_name": "LayoutModel",
      "state": {}
     },
     "c14b91913f6e49d7896ecee16e11e270": {
      "model_module": "higlass-jupyter",
      "model_module_version": "0.4.0",
      "model_name": "HiGlassDisplayModel",
      "state": {
       "_dom_classes": [],
       "_model_data": [],
       "_view_count": null,
       "auth_token": "",
       "bounded": null,
       "cursor_location": [],
       "dark_mode": false,
       "default_track_options": {},
       "dom_element_id": "t0qem3",
       "height": 0,
       "layout": "IPY_MODEL_2fb7bcf94aa64d01a6fe32dd3809902e",
       "location": [
        2227407310,
        2230407310,
        2228454953.979058,
        2229359666.0209427
       ],
       "options": {},
       "renderer": "",
       "select_mode": false,
       "selection": [],
       "selection_on_alt": false,
       "viewconf": {
        "editable": true,
        "exportViewUrl": "http://higlass.io/api/v1/viewconfs",
        "locationLocks": {
         "locksByViewUid": {},
         "locksDict": {}
        },
        "trackSourceServers": [
         "http://higlass.io/api/v1"
        ],
        "valueScaleLocks": {
         "locksByViewUid": {},
         "locksDict": {}
        },
        "views": [
         {
          "initialXDomain": [
           2227407310,
           2230407310
          ],
          "initialYDomain": [
           2228454953.979058,
           2229359666.0209427
          ],
          "layout": {
           "h": 13,
           "w": 12,
           "x": 0,
           "y": 0
          },
          "tracks": {
           "bottom": [],
           "center": [
            {
             "contents": [
              {
               "height": 300,
               "options": {
                "backgroundColor": "#eeeeee",
                "colorRange": [
                 "white",
                 "rgba(245,166,35,1.0)",
                 "rgba(208,2,27,1.0)",
                 "black"
                ],
                "colorbarBackgroundColor": "#ffffff",
                "colorbarPosition": "topRight",
                "extent": "full",
                "heatmapValueScaling": "log",
                "labelBottomMargin": 0,
                "labelLeftMargin": 0,
                "labelPosition": "bottomRight",
                "labelRightMargin": 0,
                "labelShowAssembly": true,
                "labelShowResolution": true,
                "labelTopMargin": 0,
                "maxZoom": "15",
                "minHeight": 100,
                "minWidth": 100,
                "mousePositionColor": "#000000",
                "name": "PCa13848",
                "showMousePosition": true,
                "showTooltip": false,
                "trackBorderColor": "black",
                "trackBorderWidth": 0
               },
               "server": "http://localhost:54321/api/v1",
               "tilesetUid": "BbAPbcAST1q8oGL-L8pang",
               "type": "heatmap",
               "uid": "Gmv4my58QdW7ge_qdKHHCA"
              },
              {
               "options": {
                "flipDiagonal": "none",
                "labelBottomMargin": 0,
                "labelColor": "black",
                "labelLeftMargin": 0,
                "labelPosition": "hidden",
                "labelRightMargin": 0,
                "labelTopMargin": 0,
                "minSquareSize": "none",
                "name": "PCa13848 (w = 10)",
                "rectangleDomainFillColor": "grey",
                "rectangleDomainOpacity": 0.6,
                "rectangleDomainStrokeColor": "black",
                "showMousePosition": true,
                "trackBorderColor": "black",
                "trackBorderWidth": 0
               },
               "server": "http://localhost:54321/api/v1",
               "tilesetUid": "LMvL3l_2S821JGAS__rqKg",
               "type": "2d-rectangle-domains",
               "uid": "YxehYxxFT2aYaHpLWy3xoA"
              }
             ],
             "height": 300,
             "options": {},
             "type": "combined",
             "uid": "H2zaPv8QRdKS8LqSMUuIZA"
            }
           ],
           "gallery": [],
           "left": [],
           "right": [],
           "top": [
            {
             "height": 30,
             "options": {
              "color": "#808080",
              "fontIsLeftAligned": false,
              "fontSize": 16,
              "mousePositionColor": "#000000",
              "showMousePosition": true,
              "stroke": "#ffffff"
             },
             "server": "http://localhost:54321/api/v1",
             "tilesetUid": "CMsuiFUyR6yjaqRP3PPALg",
             "type": "horizontal-chromosome-labels",
             "uid": "S4Y2rxMgQ1255grICDU9cQ"
            },
            {
             "height": 150,
             "options": {
              "fontSize": 16,
              "geneAnnotationHeight": 12,
              "geneLabelPosition": "outside",
              "geneStrandSpacing": 4,
              "labelBackgroundColor": "#ffffff",
              "labelBottomMargin": 0,
              "labelColor": "black",
              "labelLeftMargin": 0,
              "labelPosition": "hidden",
              "labelRightMargin": 0,
              "labelTopMargin": 0,
              "minHeight": 24,
              "minusStrandColor": "red",
              "mousePositionColor": "#000000",
              "plusStrandColor": "blue",
              "showMousePosition": true,
              "trackBorderColor": "black",
              "trackBorderWidth": 0
             },
             "server": "http://localhost:54321/api/v1",
             "tilesetUid": "CVJU4sjYTEikHt_g6QxMrw",
             "type": "horizontal-gene-annotations",
             "uid": "XxxvIQOzRXqpuMLrEBkYBA"
            }
           ],
           "whole": []
          },
          "uid": "DrTTPj04Snefgg347y6TVg"
         }
        ],
        "zoomLocks": {
         "locksByViewUid": {},
         "locksDict": {}
        }
       }
      }
     },
     "d2596b8abbd349f7a2b6200f79bd2741": {
      "model_module": "@jupyter-widgets/base",
      "model_module_version": "1.2.0",
      "model_name": "LayoutModel",
      "state": {}
     },
     "d985354c73064311a325a135f1c02809": {
      "model_module": "higlass-jupyter",
      "model_module_version": "0.4.0",
      "model_name": "HiGlassDisplayModel",
      "state": {
       "_dom_classes": [],
       "_model_data": [],
       "_view_count": null,
       "auth_token": "",
       "bounded": null,
       "cursor_location": [
        -1,
        -1
       ],
       "dark_mode": false,
       "default_track_options": {},
       "dom_element_id": "j6snah",
       "height": 0,
       "layout": "IPY_MODEL_5c414cb023c4442e88441411951da2b9",
       "location": [
        775035865.4593104,
        794314889.3409358,
        1239429077.5603504,
        1251456886.489484
       ],
       "options": {},
       "renderer": "",
       "select_mode": false,
       "selection": [],
       "selection_on_alt": false,
       "viewconf": {
        "editable": true,
        "exportViewUrl": "http://higlass.io/api/v1/viewconfs",
        "locationLocks": {
         "locksByViewUid": {},
         "locksDict": {}
        },
        "trackSourceServers": [
         "http://higlass.io/api/v1"
        ],
        "valueScaleLocks": {
         "locksByViewUid": {},
         "locksDict": {}
        },
        "views": [
         {
          "initialXDomain": [
           775035865.4593104,
           794314889.3409358
          ],
          "initialYDomain": [
           1239429077.5603504,
           1251456886.489484
          ],
          "layout": {
           "h": 21,
           "w": 12,
           "x": 0,
           "y": 0
          },
          "tracks": {
           "bottom": [],
           "center": [
            {
             "contents": [
              {
               "height": 300,
               "options": {
                "backgroundColor": "#eeeeee",
                "colorRange": [
                 "white",
                 "rgba(245,166,35,1.0)",
                 "rgba(208,2,27,1.0)",
                 "black"
                ],
                "colorbarBackgroundColor": "#ffffff",
                "colorbarPosition": "topRight",
                "extent": "full",
                "heatmapValueScaling": "log",
                "labelBottomMargin": 0,
                "labelLeftMargin": 0,
                "labelPosition": "bottomRight",
                "labelRightMargin": 0,
                "labelShowAssembly": true,
                "labelShowResolution": true,
                "labelTopMargin": 0,
                "maxZoom": "15",
                "minHeight": 100,
                "minWidth": 100,
                "mousePositionColor": "#000000",
                "name": "PCa33173",
                "scaleEndPercent": "1.00000",
                "scaleStartPercent": "0.00000",
                "showMousePosition": true,
                "showTooltip": false,
                "trackBorderColor": "black",
                "trackBorderWidth": 0
               },
               "resolutions": [
                1000,
                2000,
                3000,
                4000,
                5000,
                10000,
                20000,
                30000,
                40000,
                50000,
                100000,
                200000,
                300000,
                400000,
                500000,
                1000000,
                2000000,
                3000000,
                4000000,
                5000000
               ],
               "server": "http://localhost:56647/api/v1",
               "tilesetUid": "S9koKd9RT2S0OYenqgvY-Q",
               "transforms": [],
               "type": "heatmap",
               "uid": "ZNuH1qlJRXylbj_M1uy9Ew"
              },
              {
               "options": {
                "flipDiagonal": "none",
                "labelBottomMargin": 0,
                "labelColor": "black",
                "labelLeftMargin": 0,
                "labelPosition": "hidden",
                "labelRightMargin": 0,
                "labelTopMargin": 0,
                "minSquareSize": "none",
                "name": "PCa33173",
                "rectangleDomainFillColor": "grey",
                "rectangleDomainOpacity": 0.6,
                "rectangleDomainStrokeColor": "black",
                "showMousePosition": true,
                "trackBorderColor": "black",
                "trackBorderWidth": 0
               },
               "server": "http://localhost:56647/api/v1",
               "tilesetUid": "IOa4mkfYR-avDQxh7HHwpw",
               "type": "2d-rectangle-domains",
               "uid": "CbZWlDtSQKer0fmsQ_zzNQ"
              }
             ],
             "height": 300,
             "options": {},
             "type": "combined",
             "uid": "RVkQE1vqSJi7i-wFHK2fLA"
            }
           ],
           "gallery": [],
           "left": [
            {
             "options": {
              "color": "#777777",
              "fontIsLeftAligned": false,
              "fontSize": 16,
              "minWidth": 35,
              "mousePositionColor": "#000000",
              "showMousePosition": true,
              "stroke": "#FFFFFF"
             },
             "server": "http://localhost:56647/api/v1",
             "tilesetUid": "CMsuiFUyR6yjaqRP3PPALg",
             "type": "vertical-chromosome-labels",
             "uid": "F83cD5fMR9SZl5QUecmlAg",
             "width": 30
            },
            {
             "height": 418,
             "options": {
              "fontSize": 16,
              "geneAnnoHeight": 12,
              "geneLabelPosition": "outside",
              "geneStrandSpacing": 4,
              "labelBottomMargin": 0,
              "labelColor": "black",
              "labelLeftMargin": 0,
              "labelPosition": "hidden",
              "labelRightMargin": 0,
              "labelTopMargin": 0,
              "minWidth": 24,
              "minusStrandColor": "red",
              "mousePositionColor": "#000000",
              "plusStrandColor": "blue",
              "showMousePosition": true,
              "trackBorderColor": "black",
              "trackBorderWidth": 0
             },
             "server": "http://localhost:56647/api/v1",
             "tilesetUid": "CVJU4sjYTEikHt_g6QxMrw",
             "type": "vertical-gene-annotations",
             "uid": "A8kVGdlAQrOi6-NMifnjew",
             "width": 65
            },
            {
             "options": {
              "colorRange": [
               "white",
               "rgba(245,166,35,1.0)",
               "rgba(208,2,27,1.0)",
               "black"
              ],
              "colorbarPosition": "topRight",
              "labelBottomMargin": 0,
              "labelColor": "black",
              "labelLeftMargin": 0,
              "labelPosition": "bottomRight",
              "labelRightMargin": 0,
              "labelShowAssembly": true,
              "labelShowResolution": true,
              "labelTopMargin": 0,
              "maxZoom": "15",
              "minHeight": 100,
              "minWidth": 50,
              "name": "PCa33173",
              "scaleEndPercent": "1.00000",
              "scaleStartPercent": "0.00000",
              "showMousePosition": true,
              "trackBorderColor": "black",
              "trackBorderWidth": 0
             },
             "resolutions": [
              1000,
              2000,
              3000,
              4000,
              5000,
              10000,
              20000,
              30000,
              40000,
              50000,
              100000,
              200000,
              300000,
              400000,
              500000,
              1000000,
              2000000,
              3000000,
              4000000,
              5000000
             ],
             "server": "http://localhost:56647/api/v1",
             "tilesetUid": "S9koKd9RT2S0OYenqgvY-Q",
             "transforms": [],
             "type": "vertical-heatmap",
             "uid": "Y0SFkPEaRaiNgZTFS3Gguw",
             "width": 150
            },
            {
             "aggregationModes": {
              "max": {
               "name": "Max",
               "value": "max"
              },
              "mean": {
               "name": "Mean",
               "value": "mean"
              },
              "min": {
               "name": "Min",
               "value": "min"
              },
              "std": {
               "name": "Standard Deviation",
               "value": "std"
              }
             },
             "options": {
              "axisLabelFormatting": "scientific",
              "axisPositionVertical": "top",
              "labelBottomMargin": 0,
              "labelColor": "black",
              "labelLeftMargin": 0,
              "labelPosition": "bottomLeft",
              "labelRightMargin": 0,
              "labelShowAssembly": true,
              "labelShowResolution": false,
              "labelTextOpacity": 0.4,
              "labelTopMargin": 0,
              "lineStrokeColor": "blue",
              "lineStrokeWidth": 1,
              "mousePositionColor": "#000000",
              "name": "PCa33173",
              "showMousePosition": true,
              "showTooltip": false,
              "trackBorderColor": "black",
              "trackBorderWidth": 0,
              "valueScaling": "linear"
             },
             "server": "http://localhost:56647/api/v1",
             "tilesetUid": "H5lC8X42RCG2CZv9odjF6w",
             "type": "vertical-line",
             "uid": "IHLeCKfwQY2baf4KBiABQw",
             "width": 20
            },
            {
             "options": {
              "alternating": false,
              "annotationHeight": 16,
              "annotationStyle": "box",
              "axisPositionHorizontal": "right",
              "colorEncoding": false,
              "colorEncodingRange": false,
              "colorRange": [
               "#000000",
               "#652537",
               "#bf5458",
               "#fba273",
               "#ffffe0"
              ],
              "fillColor": "blue",
              "labelBottomMargin": 0,
              "labelColor": "black",
              "labelLeftMargin": 0,
              "labelPosition": "hidden",
              "labelRightMargin": 0,
              "labelTopMargin": 0,
              "minHeight": 20,
              "name": "PCa33173",
              "showMousePosition": true,
              "showTexts": false,
              "trackBorderColor": "black",
              "trackBorderWidth": 0,
              "valueColumn": null
             },
             "server": "http://localhost:56647/api/v1",
             "tilesetUid": "No5iIzeOSUCE2-LfOXd-2A",
             "type": "bedlike",
             "uid": "FIY-Vcy1QEeuGpPlkNVsUw",
             "width": 20
            }
           ],
           "right": [],
           "top": [
            {
             "height": 30,
             "options": {
              "color": "#808080",
              "fontIsLeftAligned": false,
              "fontSize": 16,
              "mousePositionColor": "#000000",
              "showMousePosition": true,
              "stroke": "#ffffff"
             },
             "server": "http://localhost:56647/api/v1",
             "tilesetUid": "CMsuiFUyR6yjaqRP3PPALg",
             "type": "horizontal-chromosome-labels",
             "uid": "S4Y2rxMgQ1255grICDU9cQ"
            },
            {
             "height": 150,
             "options": {
              "fontSize": 16,
              "geneAnnotationHeight": 12,
              "geneLabelPosition": "outside",
              "geneStrandSpacing": 4,
              "labelBackgroundColor": "#ffffff",
              "labelBottomMargin": 0,
              "labelColor": "black",
              "labelLeftMargin": 0,
              "labelPosition": "hidden",
              "labelRightMargin": 0,
              "labelTopMargin": 0,
              "minHeight": 24,
              "minusStrandColor": "red",
              "mousePositionColor": "#000000",
              "plusStrandColor": "blue",
              "showMousePosition": true,
              "trackBorderColor": "black",
              "trackBorderWidth": 0
             },
             "server": "http://localhost:56647/api/v1",
             "tilesetUid": "CVJU4sjYTEikHt_g6QxMrw",
             "type": "horizontal-gene-annotations",
             "uid": "XxxvIQOzRXqpuMLrEBkYBA"
            },
            {
             "height": 150,
             "options": {
              "backgroundColor": "#eeeeee",
              "colorRange": [
               "white",
               "rgba(245,166,35,1.0)",
               "rgba(208,2,27,1.0)",
               "black"
              ],
              "colorbarPosition": "topRight",
              "labelBottomMargin": 0,
              "labelColor": "black",
              "labelLeftMargin": 0,
              "labelPosition": "bottomRight",
              "labelRightMargin": 0,
              "labelShowAssembly": true,
              "labelShowResolution": true,
              "labelTopMargin": 0,
              "maxZoom": "15",
              "minHeight": 40,
              "minWidth": 100,
              "name": "PCa33173",
              "scaleEndPercent": "1.00000",
              "scaleStartPercent": "0.00000",
              "showMousePosition": true,
              "trackBorderColor": "black",
              "trackBorderWidth": 0
             },
             "resolutions": [
              1000,
              2000,
              3000,
              4000,
              5000,
              10000,
              20000,
              30000,
              40000,
              50000,
              100000,
              200000,
              300000,
              400000,
              500000,
              1000000,
              2000000,
              3000000,
              4000000,
              5000000
             ],
             "server": "http://localhost:56647/api/v1",
             "tilesetUid": "S9koKd9RT2S0OYenqgvY-Q",
             "transforms": [],
             "type": "horizontal-heatmap",
             "uid": "Ra9_6fFITFaRwa4Aa6k8VA"
            },
            {
             "aggregationModes": {
              "max": {
               "name": "Max",
               "value": "max"
              },
              "mean": {
               "name": "Mean",
               "value": "mean"
              },
              "min": {
               "name": "Min",
               "value": "min"
              },
              "std": {
               "name": "Standard Deviation",
               "value": "std"
              }
             },
             "height": 20,
             "options": {
              "axisLabelFormatting": "scientific",
              "axisPositionHorizontal": "right",
              "labelBackgroundColor": "white",
              "labelBottomMargin": 0,
              "labelColor": "black",
              "labelLeftMargin": 0,
              "labelPosition": "topLeft",
              "labelRightMargin": 0,
              "labelShowAssembly": true,
              "labelShowResolution": false,
              "labelTextOpacity": 0.4,
              "labelTopMargin": 0,
              "lineStrokeColor": "blue",
              "lineStrokeWidth": 1,
              "minHeight": 20,
              "mousePositionColor": "#000000",
              "name": "PCa33173",
              "showMousePosition": true,
              "showTooltip": false,
              "trackBorderColor": "black",
              "trackBorderWidth": 0,
              "valueScaling": "linear"
             },
             "server": "http://localhost:56647/api/v1",
             "tilesetUid": "H5lC8X42RCG2CZv9odjF6w",
             "type": "horizontal-line",
             "uid": "anJxMhGWS3GqPTTcWUkP2A"
            },
            {
             "height": 20,
             "options": {
              "alternating": false,
              "annotationHeight": 16,
              "annotationStyle": "box",
              "axisPositionHorizontal": "right",
              "colorEncoding": false,
              "colorEncodingRange": false,
              "colorRange": [
               "#000000",
               "#652537",
               "#bf5458",
               "#fba273",
               "#ffffe0"
              ],
              "fillColor": "blue",
              "labelBottomMargin": 0,
              "labelColor": "black",
              "labelLeftMargin": 0,
              "labelPosition": "hidden",
              "labelRightMargin": 0,
              "labelTopMargin": 0,
              "minHeight": 20,
              "name": "PCa33173",
              "showMousePosition": true,
              "showTexts": false,
              "trackBorderColor": "black",
              "trackBorderWidth": 0,
              "valueColumn": null
             },
             "server": "http://localhost:56647/api/v1",
             "tilesetUid": "No5iIzeOSUCE2-LfOXd-2A",
             "type": "bedlike",
             "uid": "MlezUJ8TQ7mdqfEqSxdvvQ"
            }
           ],
           "whole": []
          },
          "uid": "Qp7M4O1_SMm3Z-J_xx8Fyw"
         }
        ],
        "zoomLocks": {
         "locksByViewUid": {},
         "locksDict": {}
        }
       }
      }
     },
     "efd835d327974ccea84c58e01b958e1c": {
      "model_module": "higlass-jupyter",
      "model_module_version": "0.4.0",
      "model_name": "HiGlassDisplayModel",
      "state": {
       "_dom_classes": [],
       "_model_data": [],
       "_view_count": null,
       "auth_token": "",
       "bounded": null,
       "cursor_location": [],
       "dark_mode": false,
       "default_track_options": {},
       "dom_element_id": "tdeoq6",
       "height": 0,
       "layout": "IPY_MODEL_3a98ccb10ec744f796c9deec4f98456c",
       "location": [
        2807633280.4240837,
        2825312861.575916,
        2816473071,
        2816473071
       ],
       "options": {},
       "renderer": "",
       "select_mode": false,
       "selection": [],
       "selection_on_alt": false,
       "viewconf": {
        "editable": true,
        "exportViewUrl": "http://higlass.io/api/v1/viewconfs",
        "locationLocks": {
         "locksByViewUid": {},
         "locksDict": {}
        },
        "trackSourceServers": [
         "http://higlass.io/api/v1"
        ],
        "valueScaleLocks": {
         "locksByViewUid": {},
         "locksDict": {}
        },
        "views": [
         {
          "initialXDomain": [
           2807633280.4240837,
           2825312861.575916
          ],
          "initialYDomain": [
           2816473071,
           2816473071
          ],
          "layout": {
           "h": 73,
           "w": 12,
           "x": 0,
           "y": 0
          },
          "tracks": {
           "bottom": [],
           "center": [],
           "gallery": [],
           "left": [],
           "right": [],
           "top": [
            {
             "height": 30,
             "options": {
              "color": "#808080",
              "fontIsLeftAligned": false,
              "fontSize": 16,
              "mousePositionColor": "#000000",
              "showMousePosition": true,
              "stroke": "#ffffff"
             },
             "server": "http://localhost:42979/api/v1",
             "tilesetUid": "CMsuiFUyR6yjaqRP3PPALg",
             "type": "horizontal-chromosome-labels",
             "uid": "S4Y2rxMgQ1255grICDU9cQ"
            },
            {
             "height": 150,
             "options": {
              "fontSize": 16,
              "geneAnnotationHeight": 12,
              "geneLabelPosition": "outside",
              "geneStrandSpacing": 4,
              "labelBackgroundColor": "#ffffff",
              "labelBottomMargin": 0,
              "labelColor": "black",
              "labelLeftMargin": 0,
              "labelPosition": "hidden",
              "labelRightMargin": 0,
              "labelTopMargin": 0,
              "minHeight": 24,
              "minusStrandColor": "red",
              "mousePositionColor": "#000000",
              "plusStrandColor": "blue",
              "showMousePosition": true,
              "trackBorderColor": "black",
              "trackBorderWidth": 0
             },
             "server": "http://localhost:42979/api/v1",
             "tilesetUid": "CVJU4sjYTEikHt_g6QxMrw",
             "type": "horizontal-gene-annotations",
             "uid": "XxxvIQOzRXqpuMLrEBkYBA"
            },
            {
             "height": 150,
             "options": {
              "backgroundColor": "#eeeeee",
              "colorRange": [
               "white",
               "rgba(245,166,35,1.0)",
               "rgba(208,2,27,1.0)",
               "black"
              ],
              "colorbarPosition": "topRight",
              "labelBottomMargin": 0,
              "labelColor": "black",
              "labelLeftMargin": 0,
              "labelPosition": "bottomRight",
              "labelRightMargin": 0,
              "labelShowAssembly": true,
              "labelShowResolution": true,
              "labelTopMargin": 0,
              "maxZoom": "15",
              "minHeight": 40,
              "minWidth": 100,
              "name": "PCa13848",
              "showMousePosition": true,
              "trackBorderColor": "black",
              "trackBorderWidth": 0
             },
             "server": "http://localhost:42979/api/v1",
             "tilesetUid": "BbAPbcAST1q8oGL-L8pang",
             "type": "horizontal-heatmap",
             "uid": "eY39cbJ3RUuxjdFvsx8jiA"
            },
            {
             "height": 150,
             "options": {
              "backgroundColor": "#eeeeee",
              "colorRange": [
               "white",
               "rgba(245,166,35,1.0)",
               "rgba(208,2,27,1.0)",
               "black"
              ],
              "colorbarPosition": "topRight",
              "labelBottomMargin": 0,
              "labelColor": "black",
              "labelLeftMargin": 0,
              "labelPosition": "bottomRight",
              "labelRightMargin": 0,
              "labelShowAssembly": true,
              "labelShowResolution": true,
              "labelTopMargin": 0,
              "maxZoom": "15",
              "minHeight": 40,
              "minWidth": 100,
              "name": "PCa19121",
              "showMousePosition": true,
              "trackBorderColor": "black",
              "trackBorderWidth": 0
             },
             "server": "http://localhost:42979/api/v1",
             "tilesetUid": "R035sMOYSceQf26wr5lm7w",
             "type": "horizontal-heatmap",
             "uid": "Hi_qdQtqS1quPknrA8NNlw"
            },
            {
             "height": 150,
             "options": {
              "backgroundColor": "#eeeeee",
              "colorRange": [
               "white",
               "rgba(245,166,35,1.0)",
               "rgba(208,2,27,1.0)",
               "black"
              ],
              "colorbarPosition": "topRight",
              "labelBottomMargin": 0,
              "labelColor": "black",
              "labelLeftMargin": 0,
              "labelPosition": "bottomRight",
              "labelRightMargin": 0,
              "labelShowAssembly": true,
              "labelShowResolution": true,
              "labelTopMargin": 0,
              "maxZoom": "15",
              "minHeight": 40,
              "minWidth": 100,
              "name": "PCa3023",
              "showMousePosition": true,
              "trackBorderColor": "black",
              "trackBorderWidth": 0
             },
             "server": "http://localhost:42979/api/v1",
             "tilesetUid": "NqxpnLYDRuSZPxWAFsO66g",
             "type": "horizontal-heatmap",
             "uid": "VJ7U4z5oQ2GU8ENcREqOGQ"
            },
            {
             "height": 150,
             "options": {
              "backgroundColor": "#eeeeee",
              "colorRange": [
               "white",
               "rgba(245,166,35,1.0)",
               "rgba(208,2,27,1.0)",
               "black"
              ],
              "colorbarPosition": "topRight",
              "labelBottomMargin": 0,
              "labelColor": "black",
              "labelLeftMargin": 0,
              "labelPosition": "bottomRight",
              "labelRightMargin": 0,
              "labelShowAssembly": true,
              "labelShowResolution": true,
              "labelTopMargin": 0,
              "maxZoom": "15",
              "minHeight": 40,
              "minWidth": 100,
              "name": "PCa40507",
              "showMousePosition": true,
              "trackBorderColor": "black",
              "trackBorderWidth": 0
             },
             "server": "http://localhost:42979/api/v1",
             "tilesetUid": "DYAWQOsYSg-OQjXnT5UEMQ",
             "type": "horizontal-heatmap",
             "uid": "UHlJqaIQT5qFNq1nH9EH9Q"
            },
            {
             "height": 150,
             "options": {
              "backgroundColor": "#eeeeee",
              "colorRange": [
               "white",
               "rgba(245,166,35,1.0)",
               "rgba(208,2,27,1.0)",
               "black"
              ],
              "colorbarPosition": "topRight",
              "labelBottomMargin": 0,
              "labelColor": "black",
              "labelLeftMargin": 0,
              "labelPosition": "bottomRight",
              "labelRightMargin": 0,
              "labelShowAssembly": true,
              "labelShowResolution": true,
              "labelTopMargin": 0,
              "maxZoom": "15",
              "minHeight": 40,
              "minWidth": 100,
              "name": "PCa51852",
              "showMousePosition": true,
              "trackBorderColor": "black",
              "trackBorderWidth": 0
             },
             "server": "http://localhost:42979/api/v1",
             "tilesetUid": "U9Ex8WMEQWaEs2dQVec0yg",
             "type": "horizontal-heatmap",
             "uid": "TEtkw3dxThq_049qEqYZ7Q"
            },
            {
             "height": 150,
             "options": {
              "backgroundColor": "#eeeeee",
              "colorRange": [
               "white",
               "rgba(245,166,35,1.0)",
               "rgba(208,2,27,1.0)",
               "black"
              ],
              "colorbarPosition": "topRight",
              "labelBottomMargin": 0,
              "labelColor": "black",
              "labelLeftMargin": 0,
              "labelPosition": "bottomRight",
              "labelRightMargin": 0,
              "labelShowAssembly": true,
              "labelShowResolution": true,
              "labelTopMargin": 0,
              "maxZoom": "15",
              "minHeight": 40,
              "minWidth": 100,
              "name": "PCa56413",
              "showMousePosition": true,
              "trackBorderColor": "black",
              "trackBorderWidth": 0
             },
             "server": "http://localhost:42979/api/v1",
             "tilesetUid": "Ki4mnmMoSKy5gyB_Wkyh3w",
             "type": "horizontal-heatmap",
             "uid": "bLyjunCLTOyyTxIoDMcsJQ"
            },
            {
             "height": 150,
             "options": {
              "backgroundColor": "#eeeeee",
              "colorRange": [
               "white",
               "rgba(245,166,35,1.0)",
               "rgba(208,2,27,1.0)",
               "black"
              ],
              "colorbarPosition": "topRight",
              "labelBottomMargin": 0,
              "labelColor": "black",
              "labelLeftMargin": 0,
              "labelPosition": "bottomRight",
              "labelRightMargin": 0,
              "labelShowAssembly": true,
              "labelShowResolution": true,
              "labelTopMargin": 0,
              "maxZoom": "15",
              "minHeight": 40,
              "minWidth": 100,
              "name": "PCa57054",
              "showMousePosition": true,
              "trackBorderColor": "black",
              "trackBorderWidth": 0
             },
             "server": "http://localhost:42979/api/v1",
             "tilesetUid": "JJvSTGq1TsqR6Mu-yB3yww",
             "type": "horizontal-heatmap",
             "uid": "UB_h-SArQ_W9Ch_CE6MsmQ"
            },
            {
             "height": 150,
             "options": {
              "backgroundColor": "#eeeeee",
              "colorRange": [
               "white",
               "rgba(245,166,35,1.0)",
               "rgba(208,2,27,1.0)",
               "black"
              ],
              "colorbarPosition": "topRight",
              "labelBottomMargin": 0,
              "labelColor": "black",
              "labelLeftMargin": 0,
              "labelPosition": "bottomRight",
              "labelRightMargin": 0,
              "labelShowAssembly": true,
              "labelShowResolution": true,
              "labelTopMargin": 0,
              "maxZoom": "15",
              "minHeight": 40,
              "minWidth": 100,
              "name": "PCa13266",
              "showMousePosition": true,
              "trackBorderColor": "black",
              "trackBorderWidth": 0
             },
             "server": "http://localhost:42979/api/v1",
             "tilesetUid": "CQ4OqxHHRpWqW0bWnR_95g",
             "type": "horizontal-heatmap",
             "uid": "NjD8ljW2Tu62N89hp8NsyA"
            },
            {
             "height": 150,
             "options": {
              "backgroundColor": "#eeeeee",
              "colorRange": [
               "white",
               "rgba(245,166,35,1.0)",
               "rgba(208,2,27,1.0)",
               "black"
              ],
              "colorbarPosition": "topRight",
              "labelBottomMargin": 0,
              "labelColor": "black",
              "labelLeftMargin": 0,
              "labelPosition": "bottomRight",
              "labelRightMargin": 0,
              "labelShowAssembly": true,
              "labelShowResolution": true,
              "labelTopMargin": 0,
              "maxZoom": "15",
              "minHeight": 40,
              "minWidth": 100,
              "name": "PCa14121",
              "showMousePosition": true,
              "trackBorderColor": "black",
              "trackBorderWidth": 0
             },
             "server": "http://localhost:42979/api/v1",
             "tilesetUid": "Wmj7v367QziMRlWFMWdzWw",
             "type": "horizontal-heatmap",
             "uid": "EK11NdFCT8imcFVleqsJSA"
            },
            {
             "height": 150,
             "options": {
              "backgroundColor": "#eeeeee",
              "colorRange": [
               "white",
               "rgba(245,166,35,1.0)",
               "rgba(208,2,27,1.0)",
               "black"
              ],
              "colorbarPosition": "topRight",
              "labelBottomMargin": 0,
              "labelColor": "black",
              "labelLeftMargin": 0,
              "labelPosition": "bottomRight",
              "labelRightMargin": 0,
              "labelShowAssembly": true,
              "labelShowResolution": true,
              "labelTopMargin": 0,
              "maxZoom": "15",
              "minHeight": 40,
              "minWidth": 100,
              "name": "PCa33173",
              "showMousePosition": true,
              "trackBorderColor": "black",
              "trackBorderWidth": 0
             },
             "server": "http://localhost:42979/api/v1",
             "tilesetUid": "R_2HBkduTYCenDUWv5LMQA",
             "type": "horizontal-heatmap",
             "uid": "QyZj1DtjRkmWvBx93hIz5w"
            },
            {
             "height": 150,
             "options": {
              "backgroundColor": "#eeeeee",
              "colorRange": [
               "white",
               "rgba(245,166,35,1.0)",
               "rgba(208,2,27,1.0)",
               "black"
              ],
              "colorbarPosition": "topRight",
              "labelBottomMargin": 0,
              "labelColor": "black",
              "labelLeftMargin": 0,
              "labelPosition": "bottomRight",
              "labelRightMargin": 0,
              "labelShowAssembly": true,
              "labelShowResolution": true,
              "labelTopMargin": 0,
              "maxZoom": "15",
              "minHeight": 40,
              "minWidth": 100,
              "name": "PCa53687",
              "showMousePosition": true,
              "trackBorderColor": "black",
              "trackBorderWidth": 0
             },
             "server": "http://localhost:42979/api/v1",
             "tilesetUid": "OCA9e7vPQ4ymmJeXUBRdhA",
             "type": "horizontal-heatmap",
             "uid": "cQvjLIgnTr-eGwCa9F3ZNg"
            },
            {
             "height": 150,
             "options": {
              "backgroundColor": "#eeeeee",
              "colorRange": [
               "white",
               "rgba(245,166,35,1.0)",
               "rgba(208,2,27,1.0)",
               "black"
              ],
              "colorbarPosition": "topRight",
              "labelBottomMargin": 0,
              "labelColor": "black",
              "labelLeftMargin": 0,
              "labelPosition": "bottomRight",
              "labelRightMargin": 0,
              "labelShowAssembly": true,
              "labelShowResolution": true,
              "labelTopMargin": 0,
              "maxZoom": "15",
              "minHeight": 40,
              "minWidth": 100,
              "name": "PCa57294",
              "showMousePosition": true,
              "trackBorderColor": "black",
              "trackBorderWidth": 0
             },
             "server": "http://localhost:42979/api/v1",
             "tilesetUid": "V4H5L6FvSGmQrHyurUus6w",
             "type": "horizontal-heatmap",
             "uid": "bGDxm87sSP2k-M4oWr0anA"
            },
            {
             "height": 150,
             "options": {
              "backgroundColor": "#eeeeee",
              "colorRange": [
               "white",
               "rgba(245,166,35,1.0)",
               "rgba(208,2,27,1.0)",
               "black"
              ],
              "colorbarPosition": "topRight",
              "labelBottomMargin": 0,
              "labelColor": "black",
              "labelLeftMargin": 0,
              "labelPosition": "bottomRight",
              "labelRightMargin": 0,
              "labelShowAssembly": true,
              "labelShowResolution": true,
              "labelTopMargin": 0,
              "maxZoom": "15",
              "minHeight": 40,
              "minWidth": 100,
              "name": "PCa58215",
              "showMousePosition": true,
              "trackBorderColor": "black",
              "trackBorderWidth": 0
             },
             "server": "http://localhost:42979/api/v1",
             "tilesetUid": "LSYUjN0DR_um2PfQ4RYeEA",
             "type": "horizontal-heatmap",
             "uid": "LacJLpf0QqyYuln92tEnJg"
            },
            {
             "height": 150,
             "options": {
              "backgroundColor": "#eeeeee",
              "colorRange": [
               "white",
               "rgba(245,166,35,1.0)",
               "rgba(208,2,27,1.0)",
               "black"
              ],
              "colorbarPosition": "topRight",
              "labelBottomMargin": 0,
              "labelColor": "black",
              "labelLeftMargin": 0,
              "labelPosition": "bottomRight",
              "labelRightMargin": 0,
              "labelShowAssembly": true,
              "labelShowResolution": true,
              "labelTopMargin": 0,
              "maxZoom": "15",
              "minHeight": 40,
              "minWidth": 100,
              "name": "Benign-Prostate-1648133",
              "showMousePosition": true,
              "trackBorderColor": "black",
              "trackBorderWidth": 0
             },
             "server": "http://localhost:42979/api/v1",
             "tilesetUid": "bp7qe5hlTuWnWUXfC3eABQ",
             "type": "horizontal-heatmap",
             "uid": "fF8klEb-Squ5DdqdiKj6AQ"
            },
            {
             "height": 150,
             "options": {
              "backgroundColor": "#eeeeee",
              "colorRange": [
               "white",
               "rgba(245,166,35,1.0)",
               "rgba(208,2,27,1.0)",
               "black"
              ],
              "colorbarPosition": "topRight",
              "labelBottomMargin": 0,
              "labelColor": "black",
              "labelLeftMargin": 0,
              "labelPosition": "bottomRight",
              "labelRightMargin": 0,
              "labelShowAssembly": true,
              "labelShowResolution": true,
              "labelTopMargin": 0,
              "maxZoom": "15",
              "minHeight": 40,
              "minWidth": 100,
              "name": "Benign-Prostate-1595983",
              "showMousePosition": true,
              "trackBorderColor": "black",
              "trackBorderWidth": 0
             },
             "server": "http://localhost:42979/api/v1",
             "tilesetUid": "FivjvBeoRAmI3tggwMLWDw",
             "type": "horizontal-heatmap",
             "uid": "fjp9rrMVSfyr8DhPs2ZaVg"
            },
            {
             "height": 150,
             "options": {
              "backgroundColor": "#eeeeee",
              "colorRange": [
               "white",
               "rgba(245,166,35,1.0)",
               "rgba(208,2,27,1.0)",
               "black"
              ],
              "colorbarPosition": "topRight",
              "labelBottomMargin": 0,
              "labelColor": "black",
              "labelLeftMargin": 0,
              "labelPosition": "bottomRight",
              "labelRightMargin": 0,
              "labelShowAssembly": true,
              "labelShowResolution": true,
              "labelTopMargin": 0,
              "maxZoom": "15",
              "minHeight": 40,
              "minWidth": 100,
              "name": "Benign-Prostate-3330581",
              "showMousePosition": true,
              "trackBorderColor": "black",
              "trackBorderWidth": 0
             },
             "server": "http://localhost:42979/api/v1",
             "tilesetUid": "JaVFVbK0SNmMG_PFeSik9A",
             "type": "horizontal-heatmap",
             "uid": "fKv3QoiQSE2Us6mLVJo5ZA"
            },
            {
             "height": 150,
             "options": {
              "backgroundColor": "#eeeeee",
              "colorRange": [
               "white",
               "rgba(245,166,35,1.0)",
               "rgba(208,2,27,1.0)",
               "black"
              ],
              "colorbarPosition": "topRight",
              "labelBottomMargin": 0,
              "labelColor": "black",
              "labelLeftMargin": 0,
              "labelPosition": "bottomRight",
              "labelRightMargin": 0,
              "labelShowAssembly": true,
              "labelShowResolution": true,
              "labelTopMargin": 0,
              "maxZoom": "15",
              "minHeight": 40,
              "minWidth": 100,
              "name": "Benign-Prostate-1664855",
              "showMousePosition": true,
              "trackBorderColor": "black",
              "trackBorderWidth": 0
             },
             "server": "http://localhost:42979/api/v1",
             "tilesetUid": "XsWytOnMRCuKsWeUoKFDlg",
             "type": "horizontal-heatmap",
             "uid": "YleGk1a2S7WNFFq9MI5KHg"
            },
            {
             "height": 150,
             "options": {
              "backgroundColor": "#eeeeee",
              "colorRange": [
               "white",
               "rgba(245,166,35,1.0)",
               "rgba(208,2,27,1.0)",
               "black"
              ],
              "colorbarPosition": "topRight",
              "labelBottomMargin": 0,
              "labelColor": "black",
              "labelLeftMargin": 0,
              "labelPosition": "bottomRight",
              "labelRightMargin": 0,
              "labelShowAssembly": true,
              "labelShowResolution": true,
              "labelTopMargin": 0,
              "maxZoom": "15",
              "minHeight": 40,
              "minWidth": 100,
              "name": "Benign-Prostate-3320942",
              "showMousePosition": true,
              "trackBorderColor": "black",
              "trackBorderWidth": 0
             },
             "server": "http://localhost:42979/api/v1",
             "tilesetUid": "fCv_-cLUR7q9w16JwEdX9g",
             "type": "horizontal-heatmap",
             "uid": "KhLNQ75kTDOrTewU8Yv4yA"
            }
           ],
           "whole": []
          },
          "uid": "DtPer0D6QTqRdGlBPZHjqA"
         }
        ],
        "zoomLocks": {
         "locksByViewUid": {},
         "locksDict": {}
        }
       }
      }
     }
    },
    "version_major": 2,
    "version_minor": 0
   }
  }
 },
 "nbformat": 4,
 "nbformat_minor": 4
}
