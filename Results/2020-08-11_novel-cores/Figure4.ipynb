{
 "cells": [
  {
   "cell_type": "markdown",
   "metadata": {},
   "source": [
    "# Environment"
   ]
  },
  {
   "cell_type": "code",
   "execution_count": 1,
   "metadata": {},
   "outputs": [],
   "source": [
    "import higlass\n",
    "from higlass.client import View, Track, CombinedTrack\n",
    "from higlass.tilesets import cooler, beddb, chromsizes, bigwig, Tileset\n",
    "import clodius\n",
    "from cooler import Cooler, create_cooler\n",
    "import os\n",
    "import os.path as path\n",
    "import pandas as pd\n",
    "import numpy as np\n",
    "import itertools\n",
    "import negspy.coordinates as nc\n",
    "import matplotlib.pyplot as plt\n",
    "import scipy.stats as stats"
   ]
  },
  {
   "cell_type": "markdown",
   "metadata": {},
   "source": [
    "# Load annotations"
   ]
  },
  {
   "cell_type": "code",
   "execution_count": 2,
   "metadata": {},
   "outputs": [],
   "source": [
    "genes = beddb(\"../2019-10-24_higlass/Data/hg38/gene-annotations-hg38.beddb\")\n",
    "chrom_sizes = chromsizes(\"../2019-10-24_higlass/hg38.chrom.sizes\")\n",
    "label_font_size = 18\n",
    "chr_label_size = 30\n",
    "annots_size = 150\n",
    "\n",
    "chrom_labels = {\n",
    "    p: Track(\n",
    "        track_type=l + \"-chromosome-labels\",\n",
    "        tileset=chrom_sizes,\n",
    "        position=p,\n",
    "        height=chr_label_size,\n",
    "        width=chr_label_size,\n",
    "        options={\n",
    "            \"fontSize\": label_font_size,\n",
    "            \"showMousePosition\": True,\n",
    "        },\n",
    "    ) for p, l in zip([\"top\", \"bottom\", \"left\", \"right\"], [\"horizontal\", \"horizontal\", \"vertical\", \"vertical\"])\n",
    "}\n",
    "\n",
    "gene_annots = {\n",
    "    p: Track(\n",
    "        track_type=l + \"-gene-annotations\",\n",
    "        tileset=genes,\n",
    "        position=p,\n",
    "        height=annots_size,\n",
    "        width=annots_size,\n",
    "        options={\n",
    "            \"fontSize\": label_font_size,\n",
    "            \"showMousePosition\": True,\n",
    "        },\n",
    "    ) for p, l in zip([\"top\", \"bottom\", \"left\", \"right\"], [\"horizontal\", \"horizontal\", \"vertical\", \"vertical\"])\n",
    "}\n",
    "\n",
    "hg38 = nc.get_chrominfo(\"hg38\")"
   ]
  },
  {
   "cell_type": "markdown",
   "metadata": {},
   "source": [
    "# Data\n",
    "## Contact matrices"
   ]
  },
  {
   "cell_type": "code",
   "execution_count": 3,
   "metadata": {},
   "outputs": [],
   "source": [
    "tumour_metadata = pd.read_csv(path.join(\"..\", \"..\", \"Data\", \"External\", \"LowC_Samples_Data_Available.tsv\"), sep=\"\\t\", header=0)\n",
    "tumour_metadata = tumour_metadata.loc[tumour_metadata.Include == \"Yes\", :]\n",
    "tumour_metadata[\"SampleID\"] = [\"PCa\" + str(i) for i in tumour_metadata[\"Sample ID\"]]\n",
    "\n",
    "tumour_samples = tumour_metadata[\"SampleID\"].tolist()\n",
    "t2e_samples = tumour_metadata.loc[tumour_metadata[\"T2E Status\"] == \"Yes\", \"SampleID\"].tolist()\n",
    "nont2e_samples = tumour_metadata.loc[tumour_metadata[\"T2E Status\"] == \"No\", \"SampleID\"].tolist()\n",
    "\n",
    "benign_metadata = pd.read_csv(path.join(\"..\", \"..\", \"Data\", \"Raw\", \"191220_A00827_0104_AHMW25DMXX_HiC\", \"config.tsv\"), sep=\"\\t\", header=0)\n",
    "benign_metadata = benign_metadata.loc[benign_metadata.Include == \"Yes\", :]\n",
    "benign_samples = benign_metadata[\"Sample\"].tolist()\n",
    "\n",
    "cell_line_metadata = pd.read_csv(path.join(\"..\", \"..\", \"Data\", \"External\", \"Rhie_2019\", \"config.tsv\"), sep=\"\\t\", header=0)\n",
    "cell_line_samples = cell_line_metadata[\"Run_Accession\"].tolist()\n",
    "\n",
    "all_samples = tumour_samples + benign_samples + cell_line_samples\n",
    "metadata = pd.read_csv(path.join(\"..\", \"2020-01-15_TAD-aggregation\", \"config.tsv\"), sep=\"\\t\", index_col=False, header=0)\n",
    "cooler_files = (\n",
    "    [path.join(\"..\", \"..\", \"Data\", \"Processed\", \"2019-06-18_PCa-LowC-sequencing\", \"Contacts\", s + \".mcool\") for s in tumour_samples + benign_samples]\n",
    "    + [path.join(\"..\", \"..\", \"Data\", \"External\", \"Rhie_2019\", \"Contacts\", s + \".mcool\") for s in cell_line_samples]\n",
    ")\n",
    "lowc_tilesets = {s: cooler(f) for s, f in zip(all_samples, cooler_files)}\n",
    "\n",
    "resolutions = [\n",
    "    1000, 2000, 3000, 4000, 5000,\n",
    "    10000, 20000, 30000, 40000, 50000,\n",
    "    100000, 200000, 300000, 400000, 500000,\n",
    "    1000000, 2000000, 3000000, 4000000, 5000000\n",
    "][::-1]\n",
    "\n",
    "min_resolution = 40000\n",
    "heatmap_size = 500\n",
    "colour_range = [\n",
    "    \"rgba(65, 105, 225, 1.0)\",\n",
    "    \"rgba(255, 250, 250, 1.0)\",\n",
    "    # \"rgba(240, 128, 128, 1.0)\",\n",
    "    \"rgba(255, 25, 25, 1.0)\"\n",
    "]\n",
    "lowc_heatmaps = {\n",
    "    s: {\n",
    "        p: Track(\n",
    "            track_type=l + \"heatmap\",\n",
    "            position=p,\n",
    "            tileset=lowc_tilesets[s],\n",
    "            filetype=\"cooler\",\n",
    "            height=heatmap_size,\n",
    "            options={\n",
    "                \"maxZoom\": str(resolutions.index(min_resolution)),\n",
    "                \"colorbarPosition\": \"topRight\",\n",
    "                \"showMousePosition\": True,\n",
    "                \"name\": metadata.loc[metadata[\"SampleID\"] == s, \"Label\"].values[0],\n",
    "                \"colorRange\": colour_range,\n",
    "            },\n",
    "        ) for p, l in zip(\n",
    "            [\"top\", \"bottom\", \"left\", \"right\", \"center\"],\n",
    "            [\"horizontal-\", \"horizontal-\", \"vertical-\", \"vertical-\", \"\"]\n",
    "        )\n",
    "    } for s in all_samples\n",
    "}"
   ]
  },
  {
   "cell_type": "markdown",
   "metadata": {},
   "source": [
    "## H3K27ac ChIP-seq"
   ]
  },
  {
   "cell_type": "code",
   "execution_count": 4,
   "metadata": {},
   "outputs": [],
   "source": [
    "line_height = 150\n",
    "chip_files = {s: path.join(\"..\", \"..\", \"Data\", \"Processed\", \"2019-05-03_PCa-H3K27ac-peaks\", \"Peaks\", s + \"_FE.sorted.filtered.bw\") for s in tumour_samples}\n",
    "chip_tilesets = {s: bigwig(f) for s, f in chip_files.items()}\n",
    "chip = {\n",
    "    s: {\n",
    "        p: Track(\n",
    "            track_type=t + \"-bar\",\n",
    "            position=p,\n",
    "            tileset=ts,\n",
    "            filetype=\"vector\",\n",
    "            height=line_height,\n",
    "            width=line_height,\n",
    "            options={\n",
    "                \"showMousePosition\": True,\n",
    "                \"name\": metadata.loc[metadata[\"SampleID\"] == s, \"Label\"].values[0] + \" H3K27ac\",\n",
    "                \"barFillColor\": metadata.loc[metadata[\"SampleID\"] == s, \"Sample_Colour\"].values[0],\n",
    "            },\n",
    "        ) for p, t in zip([\"top\", \"bottom\", \"left\", \"right\"], [\"horizontal\", \"horizontal\", \"vertical\", \"vertical\"])\n",
    "    } for s, ts in chip_tilesets.items()\n",
    "}\n",
    "\n",
    "chip_line = {\n",
    "    s: {\n",
    "        p: Track(\n",
    "            track_type=t + \"-line\",\n",
    "            position=p,\n",
    "            tileset=ts,\n",
    "            filetype=\"vector\",\n",
    "            height=line_height,\n",
    "            width=line_height,\n",
    "            options={\n",
    "                \"showMousePosition\": True,\n",
    "                \"name\": metadata.loc[metadata[\"SampleID\"] == s, \"Label\"].values[0] + \" H3K27ac\",\n",
    "                \"lineStrokeColor\": metadata.loc[metadata[\"SampleID\"] == s, \"Sample_Colour\"].values[0],\n",
    "            },\n",
    "        ) for p, t in zip([\"top\", \"bottom\", \"left\", \"right\"], [\"horizontal\", \"horizontal\", \"vertical\", \"vertical\"])\n",
    "    } for s, ts in chip_tilesets.items()\n",
    "}\n",
    "\n",
    "peak_files = {s: path.join(\"..\", \"..\", \"Data\", \"Processed\", \"2019-05-03_PCa-H3K27ac-peaks\", \"Tracks\", s + \"_peaks.beddb\") for s in tumour_samples}\n",
    "peak_tilesets = {s: beddb(f) for s, f in peak_files.items()}\n",
    "peaks = {\n",
    "    s: {\n",
    "        p: Track(\n",
    "            track_type=t + \"bedlike\",\n",
    "            position=p,\n",
    "            tileset=ts,\n",
    "            filetype=\"beddb\",\n",
    "            options={\n",
    "                \"showMousePosition\": True,\n",
    "                \"name\": metadata.loc[metadata[\"SampleID\"] == s, \"Label\"].values[0] + \" H3K27ac Peaks\",\n",
    "                \"fillColor\": metadata.loc[metadata[\"SampleID\"] == s, \"Sample_Colour\"].values[0],\n",
    "            },\n",
    "        ) for p, t in zip([\"top\", \"bottom\", \"left\", \"right\"], [\"\", \"\", \"vertical-\", \"vertical-\"])\n",
    "    } for s, ts in peak_tilesets.items()\n",
    "}\n",
    "\n",
    "core_files = {s: path.join(\"..\", \"..\", \"Data\", \"Processed\", \"2019-05-03_PCa-H3K27ac-peaks\", \"COREs\", s + \".cores.beddb\") for s in tumour_samples}\n",
    "core_tilesets = {s: beddb(f) for s, f in core_files.items()}\n",
    "cores = {\n",
    "    s: {\n",
    "        p: Track(\n",
    "            track_type=t + \"bedlike\",\n",
    "            position=p,\n",
    "            tileset=ts,\n",
    "            filetype=\"beddb\",\n",
    "            options={\n",
    "                \"showMousePosition\": True,\n",
    "                \"name\": metadata.loc[metadata[\"SampleID\"] == s, \"Label\"].values[0] + \" COREs\",\n",
    "                \"fillColor\": metadata.loc[metadata[\"SampleID\"] == s, \"Sample_Colour\"].values[0],\n",
    "            },\n",
    "        ) for p, t in zip([\"top\", \"bottom\", \"left\", \"right\"], [\"\", \"\", \"vertical-\", \"vertical-\"])\n",
    "    } for s, ts in core_tilesets.items()\n",
    "}\n"
   ]
  },
  {
   "cell_type": "markdown",
   "metadata": {},
   "source": [
    "## Load breakpoints"
   ]
  },
  {
   "cell_type": "code",
   "execution_count": 5,
   "metadata": {},
   "outputs": [],
   "source": [
    "BREAK_DIR = path.join(\"..\", \"2020-02-19_chromoplexy\")\n",
    "breaks = pd.read_csv(\n",
    "    path.join(BREAK_DIR, \"Graphs\", \"sv-breakpoints.paired.tsv\"),\n",
    "    sep=\"\\t\",\n",
    "    header=0,\n",
    "    index_col=False,\n",
    ")\n",
    "\n",
    "break_files_1D = {s: path.join(BREAK_DIR, \"Tracks\", s + \".breaks.beddb\") for s in tumour_samples}\n",
    "break_tilesets_1D = {\n",
    "    s: beddb(\n",
    "        v,\n",
    "        name=metadata.loc[metadata[\"SampleID\"] == s, \"Label\"].values[0] + \" Breaks\"\n",
    "    ) for s, v in break_files_1D.items()\n",
    "}\n",
    "break_tracks_1D = {\n",
    "    s: {\n",
    "        p: Track(\n",
    "            track_type=t + \"bedlike\",\n",
    "            position=p,\n",
    "            tileset=break_tilesets_1D[s],\n",
    "            filetype=\"beddb\",\n",
    "            options={\n",
    "                \"showMousePosition\": True,\n",
    "                \"name\": metadata.loc[metadata[\"SampleID\"] == s, \"Label\"].values[0],\n",
    "            },\n",
    "        ) for p, t in zip([\"top\", \"bottom\", \"left\", \"right\"], [\"\", \"\", \"vertical-\", \"vertical-\"])\n",
    "    } for s in tumour_samples\n",
    "}\n",
    "\n",
    "#disruption_tests = pd.read_csv(path.join(\"..\", \"2020-02-19_chromoplexy\", \"Graphs\", \"sv-disruption-tests.tsv\"), sep=\"\\t\")\n",
    "#bp_singletons = pd.read_csv(path.join(\"..\", \"2020-02-19_chromoplexy\", \"Graphs\", \"sv-breakpoints.tsv\"), sep=\"\\t\")\n",
    "#bp_pairs = pd.read_csv(path.join(\"..\", \"2020-02-19_chromoplexy\", \"Graphs\", \"sv-breakpoints.paired.tsv\"), sep=\"\\t\")\n",
    "#disruption_tads = pd.read_csv(path.join(\"..\", \"2020-02-19_sv-disruption-TADs\", \"sv-disruption-tests.TADs.tsv\"), sep=\"\\t\")"
   ]
  },
  {
   "cell_type": "markdown",
   "metadata": {},
   "source": [
    "# Structural variants"
   ]
  },
  {
   "cell_type": "markdown",
   "metadata": {},
   "source": [
    "## ZNF516 & PMEPA1"
   ]
  },
  {
   "cell_type": "markdown",
   "metadata": {},
   "source": [
    "### Acetylation"
   ]
  },
  {
   "cell_type": "markdown",
   "metadata": {},
   "source": [
    "#### ZNF516"
   ]
  },
  {
   "cell_type": "code",
   "execution_count": 35,
   "metadata": {
    "scrolled": false
   },
   "outputs": [
    {
     "data": {
      "application/vnd.jupyter.widget-view+json": {
       "model_id": "a68e0279fc1349d58205adec7d2a70fe",
       "version_major": 2,
       "version_minor": 0
      },
      "text/plain": [
       "HiGlassDisplay(viewconf={'editable': True, 'views': [{'uid': 'ZbmnfrFVSCGq4NUnt4iywQ', 'tracks': {'top': [{'ty…"
      ]
     },
     "metadata": {},
     "output_type": "display_data"
    }
   ],
   "source": [
    "mut_samples = [\"PCa13848\"]\n",
    "nonmut_samples = [s for s in tumour_samples if s not in mut_samples]\n",
    "\n",
    "pos = [\n",
    "    nc.chr_pos_to_genome_pos(\"chr18\", 76354322, hg38),\n",
    "    nc.chr_pos_to_genome_pos(\"chr18\", 76501749, hg38),\n",
    "]\n",
    "\n",
    "comb_tracks = {\n",
    "    \"chip\": {\n",
    "        \"mut\": CombinedTrack([chip[s][\"top\"] for s in tumour_samples if s in mut_samples]),\n",
    "        \"nonmut\": CombinedTrack([chip[s][\"top\"] for s in tumour_samples if s in nonmut_samples]),\n",
    "    },\n",
    "    \"peak\": {\n",
    "        \"mut\": CombinedTrack([peaks[s][\"top\"] for s in tumour_samples if s in mut_samples]),\n",
    "        \"nonmut\": CombinedTrack([peaks[s][\"top\"] for s in tumour_samples if s in nonmut_samples]),\n",
    "    },\n",
    "    \"core\": {\n",
    "        \"mut\": CombinedTrack([cores[s][\"top\"] for s in tumour_samples if s in mut_samples]),\n",
    "        \"nonmut\": CombinedTrack([cores[s][\"top\"] for s in tumour_samples if s in nonmut_samples]),\n",
    "    },\n",
    "}\n",
    "\n",
    "# views\n",
    "v = [\n",
    "    View(\n",
    "        tracks=[\n",
    "            chrom_labels[\"top\"],\n",
    "            gene_annots[\"top\"],\n",
    "            comb_tracks[\"chip\"][\"mut\"],\n",
    "        ] + [\n",
    "            peaks[s][\"top\"] for s in mut_samples\n",
    "#        ] + [\n",
    "#            cores[s][\"top\"] for s in t2e_samples\n",
    "        ] + [\n",
    "            comb_tracks[\"chip\"][\"nonmut\"],\n",
    "        ] + [\n",
    "            peaks[s][\"top\"] for s in nonmut_samples\n",
    "#        ] + [\n",
    "#            cores[s][\"top\"] for s in nont2e_samples\n",
    "            #comb_tracks[\"core\"][\"mut\"],\n",
    "            #comb_tracks[\"chip\"][\"nonmut\"],\n",
    "            #comb_tracks[\"peak\"][\"nonmut\"],\n",
    "            #comb_tracks[\"core\"][\"nonmut\"],\n",
    "        ],\n",
    "        initialXDomain=pos,\n",
    "    )\n",
    "]\n",
    "\n",
    "display, server, viewconf = higlass.display(\n",
    "    views=v,\n",
    "    value_scale_syncs=[\n",
    "        [(v[0], chip[s][\"top\"]) for s in tumour_samples],\n",
    "    ],\n",
    "    server_port=8192\n",
    ")\n",
    "display"
   ]
  },
  {
   "cell_type": "markdown",
   "metadata": {},
   "source": [
    "#### PMEPA1"
   ]
  },
  {
   "cell_type": "code",
   "execution_count": 37,
   "metadata": {},
   "outputs": [
    {
     "data": {
      "application/vnd.jupyter.widget-view+json": {
       "model_id": "c35f476e8bfd4c27bf5a0292b51eaf42",
       "version_major": 2,
       "version_minor": 0
      },
      "text/plain": [
       "HiGlassDisplay(viewconf={'editable': True, 'views': [{'uid': 'USfZIoSHSvq9MIjoS9fwAQ', 'tracks': {'top': [{'ty…"
      ]
     },
     "metadata": {},
     "output_type": "display_data"
    }
   ],
   "source": [
    "mut_samples = [\"PCa13848\"]\n",
    "nonmut_samples = [s for s in tumour_samples if s not in mut_samples]\n",
    "\n",
    "pos = [\n",
    "    nc.chr_pos_to_genome_pos(\"chr20\", 57647705, hg38),\n",
    "    nc.chr_pos_to_genome_pos(\"chr20\", 57714831, hg38),\n",
    "]\n",
    "\n",
    "comb_tracks = {\n",
    "    \"chip\": {\n",
    "        \"mut\": CombinedTrack([chip[s][\"top\"] for s in tumour_samples if s in mut_samples]),\n",
    "        \"nonmut\": CombinedTrack([chip[s][\"top\"] for s in tumour_samples if s in nonmut_samples]),\n",
    "    },\n",
    "    \"peak\": {\n",
    "        \"mut\": CombinedTrack([peaks[s][\"top\"] for s in tumour_samples if s in mut_samples]),\n",
    "        \"nonmut\": CombinedTrack([peaks[s][\"top\"] for s in tumour_samples if s in nonmut_samples]),\n",
    "    },\n",
    "    \"core\": {\n",
    "        \"mut\": CombinedTrack([cores[s][\"top\"] for s in tumour_samples if s in mut_samples]),\n",
    "        \"nonmut\": CombinedTrack([cores[s][\"top\"] for s in tumour_samples if s in nonmut_samples]),\n",
    "    },\n",
    "}\n",
    "\n",
    "# views\n",
    "v = [\n",
    "    View(\n",
    "        tracks=[\n",
    "            chrom_labels[\"top\"],\n",
    "            gene_annots[\"top\"],\n",
    "            comb_tracks[\"chip\"][\"mut\"],\n",
    "        ] + [\n",
    "            peaks[s][\"top\"] for s in mut_samples\n",
    "#        ] + [\n",
    "#            cores[s][\"top\"] for s in t2e_samples\n",
    "        ] + [\n",
    "            comb_tracks[\"chip\"][\"nonmut\"],\n",
    "        ] + [\n",
    "            peaks[s][\"top\"] for s in nonmut_samples\n",
    "#        ] + [\n",
    "#            cores[s][\"top\"] for s in nont2e_samples\n",
    "            #comb_tracks[\"core\"][\"mut\"],\n",
    "            #comb_tracks[\"chip\"][\"nonmut\"],\n",
    "            #comb_tracks[\"peak\"][\"nonmut\"],\n",
    "            #comb_tracks[\"core\"][\"nonmut\"],\n",
    "        ],\n",
    "        initialXDomain=pos,\n",
    "    )\n",
    "]\n",
    "\n",
    "display, server, viewconf = higlass.display(\n",
    "    views=v,\n",
    "    value_scale_syncs=[\n",
    "        [(v[0], chip[s][\"top\"]) for s in tumour_samples],\n",
    "    ],\n",
    "    server_port=8193\n",
    ")\n",
    "display"
   ]
  },
  {
   "cell_type": "markdown",
   "metadata": {},
   "source": [
    "### Rearrangement"
   ]
  },
  {
   "cell_type": "code",
   "execution_count": 11,
   "metadata": {
    "scrolled": false
   },
   "outputs": [
    {
     "data": {
      "application/vnd.jupyter.widget-view+json": {
       "model_id": "7265cd492f084d3a8eb563e9b9705eac",
       "version_major": 2,
       "version_minor": 0
      },
      "text/plain": [
       "HiGlassDisplay(viewconf={'editable': True, 'views': [{'uid': 'PwZcUohbSA6r-79kVQfgiw', 'tracks': {'top': [{'ty…"
      ]
     },
     "metadata": {},
     "output_type": "display_data"
    }
   ],
   "source": [
    "mut_s = \"PCa13848\"\n",
    "nonmut_s = \"PCa40507\"\n",
    "\n",
    "pos = {\n",
    "    \"x\": [\n",
    "        nc.chr_pos_to_genome_pos(\"chr18\", 76200000, hg38),\n",
    "        nc.chr_pos_to_genome_pos(\"chr18\", 76600000, hg38),\n",
    "    ],\n",
    "    \"y\": [\n",
    "        nc.chr_pos_to_genome_pos(\"chr20\", 57600000, hg38),\n",
    "        nc.chr_pos_to_genome_pos(\"chr20\", 57800000, hg38),\n",
    "    ]\n",
    "}\n",
    "\n",
    "# views\n",
    "v = [\n",
    "    View(\n",
    "        tracks=[\n",
    "            chrom_labels[\"top\"],\n",
    "            gene_annots[\"top\"],\n",
    "            #chip[mut_s][\"top\"],\n",
    "            #peaks[mut_s][\"top\"],\n",
    "            #cores[mut_s][\"top\"],\n",
    "            #break_tracks_1D[mut_s][\"top\"],\n",
    "            chrom_labels[\"left\"],\n",
    "            gene_annots[\"left\"],\n",
    "            #chip[mut_s][\"left\"],\n",
    "            #peaks[mut_s][\"left\"],\n",
    "            #cores[mut_s][\"left\"],\n",
    "            #break_tracks_1D[mut_s][\"left\"],\n",
    "            lowc_heatmaps[mut_s][\"center\"],\n",
    "            #lowc_heatmaps[mut_s][\"bottom\"],\n",
    "        ],\n",
    "        initialXDomain=pos[\"x\"],\n",
    "        initialYDomain=pos[\"y\"],\n",
    "    ),\n",
    "    View(\n",
    "        tracks=[\n",
    "            chrom_labels[\"top\"],\n",
    "            gene_annots[\"top\"],\n",
    "            #chip[nonmut_s][\"top\"],\n",
    "            #peaks[nonmut_s][\"top\"],\n",
    "            #cores[nonmut_s][\"top\"],\n",
    "            chrom_labels[\"left\"],\n",
    "            gene_annots[\"left\"],\n",
    "            #chip[nonmut_s][\"left\"],\n",
    "            #peaks[nonmut_s][\"left\"],\n",
    "            #cores[nonmut_s][\"left\"],\n",
    "            lowc_heatmaps[nonmut_s][\"center\"],\n",
    "            #lowc_heatmaps[nonmut_s][\"bottom\"],\n",
    "        ],\n",
    "        initialXDomain=pos[\"x\"],\n",
    "        initialYDomain=pos[\"y\"],\n",
    "    ),\n",
    "]\n",
    "\n",
    "display, server, viewconf = higlass.display(\n",
    "    views=v,\n",
    "    zoom_syncs=[v],\n",
    "    location_syncs=[v],\n",
    "    value_scale_syncs=[\n",
    "        [(v[0], chip[mut_s][\"top\"]), (v[1], chip[nonmut_s][\"top\"])],\n",
    "        [(v[0], chip[mut_s][\"left\"]), (v[1], chip[nonmut_s][\"left\"])],\n",
    "        [(v[0], chip[mut_s][\"top\"]), (v[0], chip[mut_s][\"left\"])],\n",
    "        [(v[0], lowc_heatmaps[mut_s][\"center\"]), (v[1], lowc_heatmaps[nonmut_s][\"center\"])],\n",
    "        [(v[0], lowc_heatmaps[mut_s][\"bottom\"]), (v[1], lowc_heatmaps[nonmut_s][\"bottom\"])],\n",
    "    ],\n",
    "    server_port=8194\n",
    ")\n",
    "\n",
    "display"
   ]
  },
  {
   "cell_type": "markdown",
   "metadata": {},
   "source": [
    "## ERG & TMPRSS2"
   ]
  },
  {
   "cell_type": "markdown",
   "metadata": {},
   "source": [
    "### Acetylation"
   ]
  },
  {
   "cell_type": "markdown",
   "metadata": {},
   "source": [
    "#### ERG"
   ]
  },
  {
   "cell_type": "code",
   "execution_count": 31,
   "metadata": {
    "scrolled": false
   },
   "outputs": [
    {
     "data": {
      "application/vnd.jupyter.widget-view+json": {
       "model_id": "0f8c6be3286f49f29519bcaa3f690e24",
       "version_major": 2,
       "version_minor": 0
      },
      "text/plain": [
       "HiGlassDisplay(viewconf={'editable': True, 'views': [{'uid': 'FSTZkd_jT5CINFN4rxP6mA', 'tracks': {'top': [{'ty…"
      ]
     },
     "metadata": {},
     "output_type": "display_data"
    }
   ],
   "source": [
    "pos = [\n",
    "    nc.chr_pos_to_genome_pos(\"chr21\", 38350000, hg38),\n",
    "    nc.chr_pos_to_genome_pos(\"chr21\", 38700000, hg38),\n",
    "]\n",
    "\n",
    "comb_tracks = {\n",
    "    \"chip\": {\n",
    "        \"mut\": CombinedTrack([chip[s][\"top\"] for s in tumour_samples if s in t2e_samples]),\n",
    "        \"nonmut\": CombinedTrack([chip[s][\"top\"] for s in tumour_samples if s in nont2e_samples]),\n",
    "    },\n",
    "    \"peak\": {\n",
    "        \"mut\": CombinedTrack([peaks[s][\"top\"] for s in tumour_samples if s in t2e_samples]),\n",
    "        \"nonmut\": CombinedTrack([peaks[s][\"top\"] for s in tumour_samples if s in nont2e_samples]),\n",
    "    },\n",
    "    \"core\": {\n",
    "        \"mut\": CombinedTrack([cores[s][\"top\"] for s in tumour_samples if s in t2e_samples]),\n",
    "        \"nonmut\": CombinedTrack([cores[s][\"top\"] for s in tumour_samples if s in nont2e_samples]),\n",
    "    },\n",
    "}\n",
    "\n",
    "# views\n",
    "v = [\n",
    "    View(\n",
    "        tracks=[\n",
    "            chrom_labels[\"top\"],\n",
    "            gene_annots[\"top\"],\n",
    "            comb_tracks[\"chip\"][\"mut\"],\n",
    "        ] + [\n",
    "            peaks[s][\"top\"] for s in t2e_samples\n",
    "#        ] + [\n",
    "#            cores[s][\"top\"] for s in t2e_samples\n",
    "        ] + [\n",
    "            comb_tracks[\"chip\"][\"nonmut\"],\n",
    "        ] + [\n",
    "            peaks[s][\"top\"] for s in nont2e_samples\n",
    "#        ] + [\n",
    "#            cores[s][\"top\"] for s in nont2e_samples\n",
    "            #comb_tracks[\"core\"][\"mut\"],\n",
    "            #comb_tracks[\"chip\"][\"nonmut\"],\n",
    "            #comb_tracks[\"peak\"][\"nonmut\"],\n",
    "            #comb_tracks[\"core\"][\"nonmut\"],\n",
    "        ],\n",
    "        initialXDomain=pos,\n",
    "    )\n",
    "]\n",
    "\n",
    "display, server, viewconf = higlass.display(\n",
    "    views=v,\n",
    "    value_scale_syncs=[\n",
    "        [(v[0], chip[s][\"top\"]) for s in tumour_samples],\n",
    "    ],\n",
    "    server_port=8195\n",
    ")\n",
    "\n",
    "display"
   ]
  },
  {
   "cell_type": "markdown",
   "metadata": {},
   "source": [
    "#### TMPRSS2"
   ]
  },
  {
   "cell_type": "code",
   "execution_count": 61,
   "metadata": {},
   "outputs": [
    {
     "data": {
      "application/vnd.jupyter.widget-view+json": {
       "model_id": "83dd29641280443ca169ad1547ba29bd",
       "version_major": 2,
       "version_minor": 0
      },
      "text/plain": [
       "HiGlassDisplay(viewconf={'editable': True, 'views': [{'uid': 'CENJBn0CSm2BjP0JCjT3ig', 'tracks': {'top': [{'ty…"
      ]
     },
     "metadata": {},
     "output_type": "display_data"
    }
   ],
   "source": [
    "pos = [\n",
    "    nc.chr_pos_to_genome_pos(\"chr21\", 41455753, hg38),\n",
    "    nc.chr_pos_to_genome_pos(\"chr21\", 41516463, hg38),\n",
    "]\n",
    "\n",
    "comb_tracks = {\n",
    "    \"chip\": {\n",
    "        \"mut\": CombinedTrack([chip[s][\"top\"] for s in tumour_samples if s in t2e_samples]),\n",
    "        \"nonmut\": CombinedTrack([chip[s][\"top\"] for s in tumour_samples if s in nont2e_samples]),\n",
    "    },\n",
    "    \"peak\": {\n",
    "        \"mut\": CombinedTrack([peaks[s][\"top\"] for s in tumour_samples if s in t2e_samples]),\n",
    "        \"nonmut\": CombinedTrack([peaks[s][\"top\"] for s in tumour_samples if s in nont2e_samples]),\n",
    "    },\n",
    "    \"core\": {\n",
    "        \"mut\": CombinedTrack([cores[s][\"top\"] for s in tumour_samples if s in t2e_samples]),\n",
    "        \"nonmut\": CombinedTrack([cores[s][\"top\"] for s in tumour_samples if s in nont2e_samples]),\n",
    "    },\n",
    "}\n",
    "\n",
    "# views\n",
    "v = [\n",
    "    View(\n",
    "        tracks=[\n",
    "            chrom_labels[\"top\"],\n",
    "            gene_annots[\"top\"],\n",
    "            comb_tracks[\"chip\"][\"mut\"],\n",
    "        ] + [\n",
    "            peaks[s][\"top\"] for s in t2e_samples\n",
    "        ] + [\n",
    "            #comb_tracks[\"peak\"][\"mut\"],\n",
    "            #comb_tracks[\"core\"][\"mut\"],\n",
    "            comb_tracks[\"chip\"][\"nonmut\"],\n",
    "            #comb_tracks[\"peak\"][\"nonmut\"],\n",
    "            #comb_tracks[\"core\"][\"nonmut\"],\n",
    "        ] + [\n",
    "            peaks[s][\"top\"] for s in nont2e_samples\n",
    "        ],\n",
    "        initialXDomain=pos,\n",
    "    )\n",
    "]\n",
    "\n",
    "display, server, viewconf = higlass.display(\n",
    "    views=v,\n",
    "    value_scale_syncs=[\n",
    "        [(v[0], chip[s][\"top\"]) for s in tumour_samples],\n",
    "    ],\n",
    "    server_port=8196\n",
    ")\n",
    "\n",
    "display"
   ]
  },
  {
   "cell_type": "markdown",
   "metadata": {},
   "source": [
    "### Rearrangement"
   ]
  },
  {
   "cell_type": "code",
   "execution_count": 12,
   "metadata": {},
   "outputs": [
    {
     "data": {
      "application/vnd.jupyter.widget-view+json": {
       "model_id": "6300d3be6c9041e9b690cbd1ef6f981a",
       "version_major": 2,
       "version_minor": 0
      },
      "text/plain": [
       "HiGlassDisplay(viewconf={'editable': True, 'views': [{'uid': 'd_RojHzNTy2VC_Lnyq0yPw', 'tracks': {'top': [{'ty…"
      ]
     },
     "metadata": {},
     "output_type": "display_data"
    }
   ],
   "source": [
    "mut_s = \"PCa13848\"\n",
    "nonmut_s = \"PCa13266\"\n",
    "\n",
    "pos = {\n",
    "    \"x\": [\n",
    "        nc.chr_pos_to_genome_pos(\"chr21\", 38000000, hg38),\n",
    "        nc.chr_pos_to_genome_pos(\"chr21\", 39000000, hg38),\n",
    "    ],\n",
    "    \"y\": [\n",
    "        nc.chr_pos_to_genome_pos(\"chr21\", 41000000, hg38),\n",
    "        nc.chr_pos_to_genome_pos(\"chr21\", 42000000, hg38),\n",
    "    ]\n",
    "}\n",
    "\n",
    "# views\n",
    "v = [\n",
    "    View(\n",
    "        tracks=[\n",
    "            chrom_labels[\"top\"],\n",
    "            gene_annots[\"top\"],\n",
    "            #chip[mut_s][\"top\"],\n",
    "            #peaks[mut_s][\"top\"],\n",
    "            #cores[mut_s][\"top\"],\n",
    "            #break_tracks_1D[mut_s][\"top\"],\n",
    "            chrom_labels[\"left\"],\n",
    "            gene_annots[\"left\"],\n",
    "            #chip[mut_s][\"left\"],\n",
    "            #peaks[mut_s][\"left\"],\n",
    "            #cores[mut_s][\"left\"],\n",
    "            #break_tracks_1D[mut_s][\"left\"],\n",
    "            lowc_heatmaps[mut_s][\"center\"],\n",
    "            #lowc_heatmaps[mut_s][\"bottom\"],\n",
    "        ],\n",
    "        initialXDomain=pos[\"x\"],\n",
    "        initialYDomain=pos[\"y\"],\n",
    "    ),\n",
    "    View(\n",
    "        tracks=[\n",
    "            chrom_labels[\"top\"],\n",
    "            gene_annots[\"top\"],\n",
    "            #chip[nonmut_s][\"top\"],\n",
    "            #peaks[nonmut_s][\"top\"],\n",
    "            #cores[nonmut_s][\"top\"],\n",
    "            chrom_labels[\"left\"],\n",
    "            gene_annots[\"left\"],\n",
    "            #chip[nonmut_s][\"left\"],\n",
    "            #peaks[nonmut_s][\"left\"],\n",
    "            #cores[nonmut_s][\"left\"],\n",
    "            lowc_heatmaps[nonmut_s][\"center\"],\n",
    "            #lowc_heatmaps[nonmut_s][\"bottom\"],\n",
    "        ],\n",
    "        initialXDomain=pos[\"x\"],\n",
    "        initialYDomain=pos[\"y\"],\n",
    "    ),\n",
    "]\n",
    "\n",
    "display, server, viewconf = higlass.display(\n",
    "    views=v,\n",
    "    zoom_syncs=[v],\n",
    "    location_syncs=[v],\n",
    "    value_scale_syncs=[\n",
    "        [(v[0], chip[mut_s][\"top\"]), (v[1], chip[nonmut_s][\"top\"])],\n",
    "        [(v[0], chip[mut_s][\"left\"]), (v[1], chip[nonmut_s][\"left\"])],\n",
    "        [(v[0], chip[mut_s][\"top\"]), (v[0], chip[mut_s][\"left\"])],\n",
    "        [(v[0], lowc_heatmaps[mut_s][\"center\"]), (v[1], lowc_heatmaps[nonmut_s][\"center\"])],\n",
    "        [(v[0], lowc_heatmaps[mut_s][\"bottom\"]), (v[1], lowc_heatmaps[nonmut_s][\"bottom\"])],\n",
    "    ],\n",
    "    server_port=8197\n",
    ")\n",
    "\n",
    "display"
   ]
  },
  {
   "cell_type": "markdown",
   "metadata": {},
   "source": [
    "## BRAF & DENND2A"
   ]
  },
  {
   "cell_type": "markdown",
   "metadata": {},
   "source": [
    "### Rearrangement"
   ]
  },
  {
   "cell_type": "code",
   "execution_count": 32,
   "metadata": {},
   "outputs": [
    {
     "data": {
      "application/vnd.jupyter.widget-view+json": {
       "model_id": "4572437a648d4c8b90180fc48b207dde",
       "version_major": 2,
       "version_minor": 0
      },
      "text/plain": [
       "HiGlassDisplay(viewconf={'editable': True, 'views': [{'uid': 'RpJT2LVPTJmP2EUnCV-klw', 'tracks': {'top': [{'ty…"
      ]
     },
     "metadata": {},
     "output_type": "display_data"
    }
   ],
   "source": [
    "mut_s = \"PCa53687\"\n",
    "nonmut_s = \"PCa13266\"\n",
    "\n",
    "pos = {\n",
    "    \"x\": [\n",
    "        nc.chr_pos_to_genome_pos(\"chr7\", 140275699, hg38),\n",
    "        nc.chr_pos_to_genome_pos(\"chr7\", 141295700, hg38),\n",
    "    ],\n",
    "    \"y\": [\n",
    "        nc.chr_pos_to_genome_pos(\"chr19\", 15451565, hg38),\n",
    "        nc.chr_pos_to_genome_pos(\"chr19\", 16304417, hg38),\n",
    "    ]\n",
    "}\n",
    "\n",
    "# views\n",
    "v = [\n",
    "    View(\n",
    "        tracks=[\n",
    "            chrom_labels[\"top\"],\n",
    "            gene_annots[\"top\"],\n",
    "            #chip[mut_s][\"top\"],\n",
    "            #peaks[mut_s][\"top\"],\n",
    "            #cores[mut_s][\"top\"],\n",
    "            #break_tracks_1D[mut_s][\"top\"],\n",
    "            chrom_labels[\"left\"],\n",
    "            gene_annots[\"left\"],\n",
    "            #chip[mut_s][\"left\"],\n",
    "            #peaks[mut_s][\"left\"],\n",
    "            #cores[mut_s][\"left\"],\n",
    "            #break_tracks_1D[mut_s][\"left\"],\n",
    "            lowc_heatmaps[mut_s][\"center\"],\n",
    "            #lowc_heatmaps[mut_s][\"bottom\"],\n",
    "        ],\n",
    "        initialXDomain=pos[\"x\"],\n",
    "        initialYDomain=pos[\"y\"],\n",
    "    ),\n",
    "    View(\n",
    "        tracks=[\n",
    "            chrom_labels[\"top\"],\n",
    "            gene_annots[\"top\"],\n",
    "            #chip[nonmut_s][\"top\"],\n",
    "            #peaks[nonmut_s][\"top\"],\n",
    "            #cores[nonmut_s][\"top\"],\n",
    "            chrom_labels[\"left\"],\n",
    "            gene_annots[\"left\"],\n",
    "            #chip[nonmut_s][\"left\"],\n",
    "            #peaks[nonmut_s][\"left\"],\n",
    "            #cores[nonmut_s][\"left\"],\n",
    "            lowc_heatmaps[nonmut_s][\"center\"],\n",
    "            #lowc_heatmaps[nonmut_s][\"bottom\"],\n",
    "        ],\n",
    "        initialXDomain=pos[\"x\"],\n",
    "        initialYDomain=pos[\"y\"],\n",
    "    ),\n",
    "]\n",
    "\n",
    "display, server, viewconf = higlass.display(\n",
    "    views=v,\n",
    "    zoom_syncs=[v],\n",
    "    location_syncs=[v],\n",
    "    value_scale_syncs=[\n",
    "        [(v[0], chip[mut_s][\"top\"]), (v[1], chip[nonmut_s][\"top\"])],\n",
    "        [(v[0], chip[mut_s][\"left\"]), (v[1], chip[nonmut_s][\"left\"])],\n",
    "        [(v[0], chip[mut_s][\"top\"]), (v[0], chip[mut_s][\"left\"])],\n",
    "        [(v[0], lowc_heatmaps[mut_s][\"center\"]), (v[1], lowc_heatmaps[nonmut_s][\"center\"])],\n",
    "        [(v[0], lowc_heatmaps[mut_s][\"bottom\"]), (v[1], lowc_heatmaps[nonmut_s][\"bottom\"])],\n",
    "    ],\n",
    "    server_port=8198\n",
    ")\n",
    "\n",
    "display"
   ]
  },
  {
   "cell_type": "markdown",
   "metadata": {},
   "source": [
    "### Virtual 4C"
   ]
  },
  {
   "cell_type": "code",
   "execution_count": 8,
   "metadata": {},
   "outputs": [],
   "source": [
    "COOL_DIR = path.join(\"..\", \"..\", \"Data\", \"Processed\", \"2019-06-18_PCa-LowC-sequencing\", \"Contacts\")\n",
    "\n",
    "sv_sample_id = \"PCa53687\"\n",
    "\n",
    "coolers = {\n",
    "    s: Cooler(path.join(COOL_DIR, s + \".mcool::/resolutions/10000\")) for s in tumour_samples\n",
    "}\n",
    "\n",
    "i_tad = [140480000, 141500000]\n",
    "#i_tad = [139134000, 141500000]\n",
    "j_tad = [14639975, 17040000]\n",
    "i_start, i_stop = coolers[sv_sample_id].extent(\"chr7:\" + str(i_tad[0]) + \"-\" + str(i_tad[1]))\n",
    "j_start, j_stop = coolers[sv_sample_id].extent(\"chr19:\" + str(j_tad[0]) + \"-\" + str(j_tad[1]))\n",
    "\n",
    "braf_coords = [140719327, 140924928]\n",
    "sv_coords = [140760000, 15919000]\n",
    "\n",
    "braf_prom_coords = [braf_coords[1] - 500, braf_coords[1] + 1500]\n",
    "braf_new_coords = [braf_coords[0], sv_coords[0]]\n",
    "braf_orig_coords = [sv_coords[0], braf_coords[1]]\n",
    "braf_start, braf_stop = coolers[sv_sample_id].extent(\"chr7:\" + str(braf_coords[0]) + \"-\" + str(braf_coords[1]))\n",
    "braf_prom_start, braf_prom_stop = coolers[sv_sample_id].extent(\"chr7:\" + str(braf_prom_coords[0]) + \"-\" + str(braf_prom_coords[1]))\n",
    "braf_new_start, braf_new_stop = coolers[sv_sample_id].extent(\"chr7:\" + str(braf_new_coords[0]) + \"-\" + str(braf_new_coords[1]))\n",
    "braf_orig_start, braf_orig_stop = coolers[sv_sample_id].extent(\"chr7:\" + str(braf_orig_coords[0]) + \"-\" + str(braf_orig_coords[1]))\n",
    "\n",
    "dennd2a_coords = [140518420, 140673993]\n",
    "dennd2a_start, dennd2a_stop = coolers[sv_sample_id].extent(\"chr7:\" + str(dennd2a_coords[0]) + \"-\" + str(dennd2a_coords[1]))\n",
    "\n",
    "mat = {\n",
    "    s : {\n",
    "        \"BRAF_whole\": {\n",
    "            \"old\": coolers[s].matrix()[i_start:i_stop, braf_start:braf_stop],\n",
    "            \"new\": coolers[s].matrix()[j_start:j_stop, braf_start:braf_stop],\n",
    "        },\n",
    "        \"BRAF_new\": {\n",
    "            \"old\": coolers[s].matrix()[i_start:i_stop, braf_new_start:braf_new_stop],\n",
    "            \"new\": coolers[s].matrix()[j_start:j_stop, braf_new_start:braf_new_stop],\n",
    "        },\n",
    "        \"BRAF_orig\": {\n",
    "            \"old\": coolers[s].matrix()[i_start:i_stop, braf_orig_start:braf_orig_stop],\n",
    "            \"new\": coolers[s].matrix()[j_start:j_stop, braf_orig_start:braf_orig_stop],\n",
    "        },\n",
    "        \"BRAF_prom\": {\n",
    "            \"old\": coolers[s].matrix()[i_start:i_stop, braf_prom_start:braf_prom_stop],\n",
    "            \"new\": coolers[s].matrix()[j_start:j_stop, braf_prom_start:braf_prom_stop],\n",
    "        },\n",
    "        \"DENND2A\": {\n",
    "            \"old\": coolers[s].matrix()[i_start:i_stop, dennd2a_start:dennd2a_stop],\n",
    "            \"new\": coolers[s].matrix()[j_start:j_stop, dennd2a_start:dennd2a_stop],\n",
    "        },\n",
    "        \"locus\": coolers[s].matrix()[j_start:j_stop, i_start:i_stop],\n",
    "    } for s in tumour_samples\n",
    "}"
   ]
  },
  {
   "cell_type": "markdown",
   "metadata": {},
   "source": [
    "#### BRAF"
   ]
  },
  {
   "cell_type": "code",
   "execution_count": 10,
   "metadata": {},
   "outputs": [
    {
     "name": "stderr",
     "output_type": "stream",
     "text": [
      "/home/james/miniconda3/envs/Davos/lib/python3.6/site-packages/ipykernel_launcher.py:35: RuntimeWarning: Mean of empty slice\n"
     ]
    }
   ],
   "source": [
    "fig= plt.figure(\n",
    "    figsize=(8 / 2.54, 6 / 2.54),\n",
    "    dpi=300,\n",
    ")\n",
    "which_braf = \"BRAF_prom\"\n",
    "which_location = \"old\"\n",
    "\n",
    "for s in tumour_samples:\n",
    "    if s != sv_sample_id:\n",
    "        plt.plot(\n",
    "            np.linspace(i_tad[0], i_tad[1], mat[s][which_braf][which_location].shape[0]),\n",
    "            np.mean(mat[s][which_braf][which_location], axis=1),\n",
    "            color=\"#bdbdbd\",\n",
    "        )\n",
    "\n",
    "plt.plot(\n",
    "    np.linspace(i_tad[0], i_tad[1], mat[sv_sample_id][which_braf][which_location].shape[0]),\n",
    "    np.mean(mat[sv_sample_id][which_braf][which_location], axis=1),\n",
    "    color=\"#ff6347\",\n",
    "    linewidth=4,\n",
    ")\n",
    "#plt.plot(\n",
    "#    np.linspace(i_tad[0], i_tad[1], mat[sv_sample_id][\"BRAF_new\"][which_location].shape[0]),\n",
    "#    np.mean(mat[sv_sample_id][\"BRAF_new\"][which_location], axis=1),\n",
    "#    color=\"#ff6347\",\n",
    "#    linewidth=4,\n",
    "#    linestyle=\"--\",\n",
    "#)\n",
    "plt.plot(\n",
    "    np.linspace(braf_coords[0], braf_coords[1], 2),\n",
    "    [0, 0],\n",
    ")\n",
    "plt.plot(\n",
    "    [sv_coords[0], sv_coords[0]],\n",
    "    [0, np.nanmax([np.nanmean(mat[s][which_braf][which_location], axis=1) for s in tumour_samples])],\n",
    ")\n",
    "plt.xticks(\n",
    "    ticks=[140.6e6, 140.8e6, 141.0e6, 141.2e6, 141.4e6],\n",
    "    labels=[140.6, 140.8, 141.0, 141.2, 141.4]\n",
    ")\n",
    "\n",
    "fig.savefig(\"BRAF-4C-promoter.pdf\")\n",
    "plt.close()"
   ]
  },
  {
   "cell_type": "code",
   "execution_count": 58,
   "metadata": {},
   "outputs": [
    {
     "name": "stderr",
     "output_type": "stream",
     "text": [
      "/home/james/miniconda3/envs/Davos/lib/python3.6/site-packages/ipykernel_launcher.py:28: RuntimeWarning: Mean of empty slice\n"
     ]
    }
   ],
   "source": [
    "fig= plt.figure(\n",
    "    figsize=(8 / 2.54, 6 / 2.54),\n",
    "    dpi=300,\n",
    ")\n",
    "which_braf = \"BRAF_new\"\n",
    "which_location = \"new\"\n",
    "\n",
    "for s in tumour_samples:\n",
    "    if s != sv_sample_id:\n",
    "        plt.plot(\n",
    "            np.linspace(j_tad[0], j_tad[1], mat[s][which_braf][which_location].shape[0]),\n",
    "            np.mean(mat[s][which_braf][which_location], axis=1),\n",
    "            color=\"#bdbdbd\",\n",
    "        )\n",
    "\n",
    "plt.plot(\n",
    "    np.linspace(j_tad[0], j_tad[1], mat[sv_sample_id][which_braf][which_location].shape[0]),\n",
    "    np.mean(mat[sv_sample_id][which_braf][which_location], axis=1),\n",
    "    color=\"#ff6347\",\n",
    "    linewidth=4,\n",
    ")\n",
    "#plt.plot(\n",
    "#    np.linspace(braf_coords[0], braf_coords[1], 2),\n",
    "#    [0, 0],\n",
    "#)\n",
    "plt.plot(\n",
    "    [sv_coords[1], sv_coords[1]],\n",
    "    [0, np.nanmax([np.nanmean(mat[s][which_braf][which_location], axis=1) for s in tumour_samples])],\n",
    ")\n",
    "\n",
    "fig.savefig(\"BRAF-4C-new.pdf\")\n",
    "plt.close()"
   ]
  },
  {
   "cell_type": "code",
   "execution_count": 51,
   "metadata": {},
   "outputs": [],
   "source": [
    "fig= plt.figure(\n",
    "    figsize=(8 / 2.54, 6 / 2.54),\n",
    "    dpi=300,\n",
    ")\n",
    "which_braf = \"BRAF_orig\"\n",
    "which_location = \"new\"\n",
    "\n",
    "for s in tumour_samples:\n",
    "    if s != sv_sample_id:\n",
    "        plt.plot(\n",
    "            np.linspace(j_tad[0], j_tad[1], mat[s][which_braf][which_location].shape[0]),\n",
    "            np.mean(mat[s][which_braf][which_location], axis=1),\n",
    "            color=\"#bdbdbd\",\n",
    "        )\n",
    "\n",
    "plt.plot(\n",
    "    np.linspace(j_tad[0], j_tad[1], mat[sv_sample_id][which_braf][which_location].shape[0]),\n",
    "    np.mean(mat[sv_sample_id][which_braf][which_location], axis=1),\n",
    "    color=\"#ff6347\",\n",
    "    linewidth=4,\n",
    ")\n",
    "#plt.plot(\n",
    "#    np.linspace(braf_coords[0], braf_coords[1], 2),\n",
    "#    [0, 0],\n",
    "#)\n",
    "plt.plot(\n",
    "    [sv_coords[1], sv_coords[1]],\n",
    "    [0, np.nanmax([np.nanmean(mat[s][which_braf][which_location], axis=1) for s in tumour_samples])],\n",
    ")\n",
    "\n",
    "fig.savefig(\"BRAF-4C-new.pdf\")\n",
    "plt.close()"
   ]
  },
  {
   "cell_type": "code",
   "execution_count": 36,
   "metadata": {},
   "outputs": [
    {
     "data": {
      "application/vnd.jupyter.widget-view+json": {
       "model_id": "77f5c2277b9a4d949c64221e1d2f6ba5",
       "version_major": 2,
       "version_minor": 0
      },
      "text/plain": [
       "HiGlassDisplay(viewconf={'editable': True, 'views': [{'uid': 'SrXlQI9-TTS4by5cEqlomg', 'tracks': {'top': [{'ty…"
      ]
     },
     "metadata": {},
     "output_type": "display_data"
    }
   ],
   "source": [
    "mut_s = \"PCa53687\"\n",
    "nonmut_s = \"PCa13266\"\n",
    "\n",
    "pos = [\n",
    "    nc.chr_pos_to_genome_pos(\"chr7\", 140275699, hg38),\n",
    "    nc.chr_pos_to_genome_pos(\"chr7\", 141295700, hg38),\n",
    "]\n",
    "\n",
    "# views\n",
    "v = [\n",
    "    View(\n",
    "        tracks=[\n",
    "            chrom_labels[\"top\"],\n",
    "            gene_annots[\"top\"],\n",
    "            peaks[mut_s][\"top\"],\n",
    "        ],\n",
    "        initialXDomain=pos,\n",
    "    ),\n",
    "]\n",
    "\n",
    "display, server, viewconf = higlass.display(\n",
    "    views=v,\n",
    "    server_port=8199,\n",
    ")\n",
    "\n",
    "display"
   ]
  },
  {
   "cell_type": "code",
   "execution_count": 38,
   "metadata": {},
   "outputs": [
    {
     "data": {
      "application/vnd.jupyter.widget-view+json": {
       "model_id": "abda7544b0964039896d537c8f25e55e",
       "version_major": 2,
       "version_minor": 0
      },
      "text/plain": [
       "HiGlassDisplay(viewconf={'editable': True, 'views': [{'uid': 'QrAu-aZLTweZCVAwTSBnrA', 'tracks': {'top': [{'ty…"
      ]
     },
     "metadata": {},
     "output_type": "display_data"
    }
   ],
   "source": [
    "mut_s = \"PCa53687\"\n",
    "\n",
    "pos = [\n",
    "    \n",
    "    nc.chr_pos_to_genome_pos(\"chr19\", 14639975, hg38),\n",
    "    nc.chr_pos_to_genome_pos(\"chr19\", 17040000, hg38),\n",
    "]\n",
    "\n",
    "# views\n",
    "v = [\n",
    "    View(\n",
    "        tracks=[\n",
    "            chrom_labels[\"top\"],\n",
    "            gene_annots[\"top\"],\n",
    "            peaks[mut_s][\"top\"],\n",
    "        ],\n",
    "        initialXDomain=pos,\n",
    "    ),\n",
    "]\n",
    "\n",
    "display, server, viewconf = higlass.display(\n",
    "    views=v,\n",
    "    server_port=8199,\n",
    ")\n",
    "\n",
    "display"
   ]
  },
  {
   "cell_type": "code",
   "execution_count": 49,
   "metadata": {},
   "outputs": [
    {
     "data": {
      "text/plain": [
       "[<matplotlib.lines.Line2D at 0x7fdc4c152a20>]"
      ]
     },
     "execution_count": 49,
     "metadata": {},
     "output_type": "execute_result"
    },
    {
     "data": {
      "image/png": "[encoded data removed]",
      "text/plain": [
       "<Figure size 432x288 with 1 Axes>"
      ]
     },
     "metadata": {
      "needs_background": "light"
     },
     "output_type": "display_data"
    }
   ],
   "source": [
    "for s in tumour_samples:\n",
    "    if s != sv_sample_id:\n",
    "        plt.plot(\n",
    "            np.linspace(j_tad[0], j_tad[1], mat[s][\"BRAF\"][\"new\"].shape[0]),\n",
    "            np.mean(mat[s][\"BRAF\"][\"new\"], axis=1),\n",
    "            color=\"#bdbdbd\",\n",
    "        )\n",
    "\n",
    "plt.plot(\n",
    "    np.linspace(j_tad[0], j_tad[1], mat[sv_sample_id][\"BRAF\"][\"new\"].shape[0]),\n",
    "    np.mean(mat[sv_sample_id][\"BRAF\"][\"new\"], axis=1),\n",
    "    color=\"#ff6347\",\n",
    "    linewidth=4,\n",
    ")\n",
    "plt.plot(\n",
    "    [sv_coords[1], sv_coords[1]],\n",
    "    [0, np.nanmax([np.nanmean(mat[s][\"BRAF\"][\"new\"], axis=1) for s in tumour_samples])],\n",
    ")"
   ]
  },
  {
   "cell_type": "code",
   "execution_count": 18,
   "metadata": {},
   "outputs": [
    {
     "data": {
      "application/vnd.jupyter.widget-view+json": {
       "model_id": "bfbdb474f4f4420c86015db3e2a78538",
       "version_major": 2,
       "version_minor": 0
      },
      "text/plain": [
       "HiGlassDisplay(viewconf={'editable': True, 'views': [{'uid': 'Kywa3pkkS2ykc1DXhcOt2Q', 'tracks': {'top': [{'ty…"
      ]
     },
     "metadata": {},
     "output_type": "display_data"
    }
   ],
   "source": [
    "mut_s = \"PCa53687\"\n",
    "\n",
    "pos = {\n",
    "    \"x\": [\n",
    "        nc.chr_pos_to_genome_pos(\"chr7\", 140275699, hg38),\n",
    "        nc.chr_pos_to_genome_pos(\"chr7\", 141295700, hg38),\n",
    "    ],\n",
    "    \"y\": [\n",
    "        nc.chr_pos_to_genome_pos(\"chr19\", 15451565, hg38),\n",
    "        nc.chr_pos_to_genome_pos(\"chr19\", 16304417, hg38),\n",
    "    ]\n",
    "}\n",
    "\n",
    "# views\n",
    "v = [\n",
    "    View(\n",
    "        tracks=[\n",
    "            chrom_labels[\"top\"],\n",
    "            gene_annots[\"top\"],\n",
    "            peaks[mut_s][\"top\"],\n",
    "        ],\n",
    "        initialXDomain=pos[\"y\"],\n",
    "    ),\n",
    "]\n",
    "\n",
    "display, server, viewconf = higlass.display(\n",
    "    views=v,\n",
    "    zoom_syncs=[v],\n",
    "    location_syncs=[v],\n",
    "    server_port=8198\n",
    ")\n",
    "\n",
    "display"
   ]
  },
  {
   "cell_type": "code",
   "execution_count": 60,
   "metadata": {},
   "outputs": [],
   "source": [
    "fig= plt.figure(\n",
    "    figsize=(8 / 2.54, 6 / 2.54),\n",
    "    dpi=300,\n",
    ")\n",
    "\n",
    "for s in tumour_samples:\n",
    "    if s != sv_sample_id:\n",
    "        plt.plot(\n",
    "            np.linspace(i_tad[0], i_tad[1], mat[s][\"DENND2A\"][\"old\"].shape[0]),\n",
    "            np.mean(mat[s][\"DENND2A\"][\"old\"], axis=1),\n",
    "            color=\"#bdbdbd\",\n",
    "        )\n",
    "\n",
    "plt.plot(\n",
    "    np.linspace(i_tad[0], i_tad[1], mat[sv_sample_id][\"DENND2A\"][\"old\"].shape[0]),\n",
    "    np.mean(mat[sv_sample_id][\"DENND2A\"][\"old\"], axis=1),\n",
    "    color=\"#ff6347\",\n",
    "    linewidth=4,\n",
    ")\n",
    "plt.plot(\n",
    "    [dennd2a_coords[0], dennd2a_coords[1]],\n",
    "    [0, 0],\n",
    ")\n",
    "plt.plot(\n",
    "    [sv_coords[0], sv_coords[0]],\n",
    "    [0, np.nanmax([np.nanmean(mat[s][\"DENND2A\"][\"old\"], axis=1) for s in tumour_samples])],\n",
    ")\n",
    "fig.savefig(\"DENND2A-4C.pdf\")\n",
    "plt.close()"
   ]
  },
  {
   "cell_type": "code",
   "execution_count": 51,
   "metadata": {},
   "outputs": [
    {
     "data": {
      "text/plain": [
       "[<matplotlib.lines.Line2D at 0x7fdc4c04d668>]"
      ]
     },
     "execution_count": 51,
     "metadata": {},
     "output_type": "execute_result"
    },
    {
     "data": {
      "image/png": "[encoded data removed]",
      "text/plain": [
       "<Figure size 432x288 with 1 Axes>"
      ]
     },
     "metadata": {
      "needs_background": "light"
     },
     "output_type": "display_data"
    }
   ],
   "source": [
    "for s in tumour_samples:\n",
    "    if s != sv_sample_id:\n",
    "        plt.plot(\n",
    "            np.linspace(j_tad[0], j_tad[1], mat[s][\"DENND2A\"][\"new\"].shape[0]),\n",
    "            np.mean(mat[s][\"DENND2A\"][\"new\"], axis=1),\n",
    "            color=\"#bdbdbd\",\n",
    "        )\n",
    "\n",
    "plt.plot(\n",
    "    np.linspace(j_tad[0], j_tad[1], mat[sv_sample_id][\"DENND2A\"][\"new\"].shape[0]),\n",
    "    np.mean(mat[sv_sample_id][\"DENND2A\"][\"new\"], axis=1),\n",
    "    color=\"#ff6347\",\n",
    "    linewidth=4,\n",
    ")\n",
    "plt.plot(\n",
    "    [sv_coords[1], sv_coords[1]],\n",
    "    [0, np.nanmax([np.nanmean(mat[s][\"DENND2A\"][\"new\"], axis=1) for s in tumour_samples])],\n",
    ")"
   ]
  },
  {
   "cell_type": "code",
   "execution_count": null,
   "metadata": {},
   "outputs": [],
   "source": []
  }
 ],
 "metadata": {
  "kernelspec": {
   "display_name": "Python 3",
   "language": "python",
   "name": "python3"
  },
  "language_info": {
   "codemirror_mode": {
    "name": "ipython",
    "version": 3
   },
   "file_extension": ".py",
   "mimetype": "text/x-python",
   "name": "python",
   "nbconvert_exporter": "python",
   "pygments_lexer": "ipython3",
   "version": "3.6.10"
  }
 },
 "nbformat": 4,
 "nbformat_minor": 4
}
