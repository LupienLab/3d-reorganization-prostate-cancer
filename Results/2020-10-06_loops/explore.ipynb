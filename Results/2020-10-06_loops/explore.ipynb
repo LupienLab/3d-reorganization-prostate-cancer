{
 "cells": [
  {
   "cell_type": "markdown",
   "metadata": {},
   "source": [
    "# Environment"
   ]
  },
  {
   "cell_type": "code",
   "execution_count": 1,
   "metadata": {},
   "outputs": [],
   "source": [
    "import higlass\n",
    "from higlass.client import View, Track, CombinedTrack\n",
    "from cooler import Cooler\n",
    "from higlass.tilesets import cooler, beddb, chromsizes, bigwig, Tileset\n",
    "import clodius\n",
    "from clodius.tiles.utils import tiles_wrapper_2d\n",
    "from clodius.tiles.bed2ddb import tileset_info, get_2D_tiles\n",
    "\n",
    "import os\n",
    "import os.path as path\n",
    "import pandas as pd\n",
    "import numpy as np\n",
    "import itertools\n",
    "import negspy.coordinates as nc\n",
    "import matplotlib.pyplot as plt\n",
    "from matplotlib.gridspec import GridSpec\n",
    "import scipy.stats as stats\n",
    "from tqdm import tqdm\n",
    "import pickle\n",
    "\n",
    "\n",
    "def bed2ddb(filepath, uuid=None, **kwargs):\n",
    "    return Tileset(\n",
    "        uuid=uuid,\n",
    "        tileset_info=lambda: tileset_info(filepath),\n",
    "        tiles=lambda tids: tiles_wrapper_2d(\n",
    "            tids,\n",
    "            lambda z,x,y: get_2D_tiles(filepath, z, x, y)[(x, y)]\n",
    "        ),\n",
    "        **kwargs\n",
    "    )\n"
   ]
  },
  {
   "cell_type": "markdown",
   "metadata": {},
   "source": [
    "# Load annotations"
   ]
  },
  {
   "cell_type": "code",
   "execution_count": 2,
   "metadata": {},
   "outputs": [],
   "source": [
    "genes = beddb(\"../2019-10-24_higlass/Data/hg38/gene-annotations-hg38.beddb\")\n",
    "chrom_sizes = chromsizes(\"../2019-10-24_higlass/hg38.chrom.sizes\")\n",
    "label_font_size = 18\n",
    "chr_label_size = 30\n",
    "annots_size = 150\n",
    "\n",
    "chrom_labels = {\n",
    "    p: Track(\n",
    "        track_type=l + \"-chromosome-labels\",\n",
    "        tileset=chrom_sizes,\n",
    "        position=p,\n",
    "        height=chr_label_size,\n",
    "        width=chr_label_size,\n",
    "        options={\n",
    "            \"fontSize\": label_font_size,\n",
    "            \"showMousePosition\": True,\n",
    "        },\n",
    "    ) for p, l in zip([\"top\", \"bottom\", \"left\", \"right\"], [\"horizontal\", \"horizontal\", \"vertical\", \"vertical\"])\n",
    "}\n",
    "\n",
    "gene_annots = {\n",
    "    p: Track(\n",
    "        track_type=l + \"-gene-annotations\",\n",
    "        tileset=genes,\n",
    "        position=p,\n",
    "        height=annots_size,\n",
    "        width=annots_size,\n",
    "        options={\n",
    "            \"fontSize\": label_font_size,\n",
    "            \"showMousePosition\": True,\n",
    "        },\n",
    "    ) for p, l in zip([\"top\", \"bottom\", \"left\", \"right\"], [\"horizontal\", \"horizontal\", \"vertical\", \"vertical\"])\n",
    "}\n",
    "\n",
    "# genome coordinates\n",
    "hg38 = nc.get_chrominfo(\"hg38\")"
   ]
  },
  {
   "cell_type": "markdown",
   "metadata": {},
   "source": [
    "# Data"
   ]
  },
  {
   "cell_type": "markdown",
   "metadata": {},
   "source": [
    "## Contact matrices"
   ]
  },
  {
   "cell_type": "code",
   "execution_count": 3,
   "metadata": {},
   "outputs": [],
   "source": [
    "tumour_metadata = pd.read_csv(path.join(\"..\", \"..\", \"Data\", \"External\", \"LowC_Samples_Data_Available.tsv\"), sep=\"\\t\", header=0)\n",
    "tumour_metadata = tumour_metadata.loc[tumour_metadata.Include == \"Yes\", :]\n",
    "tumour_metadata[\"SampleID\"] = [\"PCa\" + str(i) for i in tumour_metadata[\"Sample ID\"]]\n",
    "\n",
    "tumour_samples = tumour_metadata[\"SampleID\"].tolist()\n",
    "t2e_samples = tumour_metadata.loc[tumour_metadata[\"T2E Status\"] == \"Yes\", \"SampleID\"].tolist()\n",
    "nont2e_samples = tumour_metadata.loc[tumour_metadata[\"T2E Status\"] == \"No\", \"SampleID\"].tolist()\n",
    "\n",
    "benign_metadata = pd.read_csv(path.join(\"..\", \"..\", \"Data\", \"Raw\", \"191220_A00827_0104_AHMW25DMXX_HiC\", \"config.tsv\"), sep=\"\\t\", header=0)\n",
    "benign_metadata = benign_metadata.loc[benign_metadata.Include == \"Yes\", :]\n",
    "benign_samples = benign_metadata[\"Sample\"].tolist()\n",
    "\n",
    "all_samples = tumour_samples + benign_samples\n",
    "metadata = pd.read_csv(path.join(\"..\", \"2020-01-15_TAD-aggregation\", \"config.tsv\"), sep=\"\\t\", index_col=False, header=0)\n",
    "cooler_files = (\n",
    "    [path.join(\"..\", \"..\", \"Data\", \"Processed\", \"2019-06-18_PCa-LowC-sequencing\", \"Contacts\", s + \".mcool\") for s in tumour_samples + benign_samples]\n",
    ")\n",
    "lowc_tilesets = {s: cooler(f) for s, f in zip(all_samples, cooler_files)}\n",
    "\n",
    "resolutions = [\n",
    "    1000, 2000, 3000, 4000, 5000,\n",
    "    10000, 20000, 30000, 40000, 50000,\n",
    "    100000, 200000, 300000, 400000, 500000,\n",
    "    1000000, 2000000, 3000000, 4000000, 5000000\n",
    "][::-1]\n",
    "\n",
    "min_resolution = 40000\n",
    "heatmap_size = 500\n",
    "colour_range = [\n",
    "    \"rgba(65, 105, 225, 1.0)\",\n",
    "    \"rgba(255, 250, 250, 1.0)\",\n",
    "    # \"rgba(240, 128, 128, 1.0)\",\n",
    "    \"rgba(255, 25, 25, 1.0)\"\n",
    "]\n",
    "lowc_heatmaps = {\n",
    "    s: {\n",
    "        p: Track(\n",
    "            track_type=l + \"heatmap\",\n",
    "            position=p,\n",
    "            tileset=lowc_tilesets[s],\n",
    "            filetype=\"cooler\",\n",
    "            height=heatmap_size,\n",
    "            options={\n",
    "                \"maxZoom\": str(resolutions.index(min_resolution)),\n",
    "                \"colorbarPosition\": \"topRight\",\n",
    "                \"showMousePosition\": True,\n",
    "                \"name\": metadata.loc[metadata[\"SampleID\"] == s, \"Label\"].values[0],\n",
    "                \"colorRange\": colour_range,\n",
    "            },\n",
    "        ) for p, l in zip(\n",
    "            [\"top\", \"bottom\", \"left\", \"right\", \"center\"],\n",
    "            [\"horizontal-\", \"horizontal-\", \"vertical-\", \"vertical-\", \"\"]\n",
    "        )\n",
    "    } for s in all_samples\n",
    "}"
   ]
  },
  {
   "cell_type": "markdown",
   "metadata": {},
   "source": [
    "## Loops"
   ]
  },
  {
   "cell_type": "code",
   "execution_count": 10,
   "metadata": {
    "scrolled": false
   },
   "outputs": [],
   "source": [
    "TRACK_DIR = \"Tracks\"\n",
    "LOOP_DIR = \"Loops\"\n",
    "\n",
    "loops = {\n",
    "    \"all\": pd.read_csv(path.join(LOOP_DIR, \"merged-loops.sample-counts.tsv\"), sep=\"\\t\"),\n",
    "}\n",
    "\n",
    "loop_tilesets_2D = {\n",
    "    \"all\": bed2ddb(\n",
    "        path.join(TRACK_DIR, \"merged-loops.sample-counts.bed2ddb\"),\n",
    "        name=\"All Loops\"\n",
    "    ),\n",
    "    \"tumour\": bed2ddb(\n",
    "        path.join(TRACK_DIR, \"tumour-specific-loops.bed2ddb\"),\n",
    "        name=\"Tumour-specific Loops\"\n",
    "    ),\n",
    "    \"t2e\": bed2ddb(\n",
    "        path.join(\"..\", \"2020-10-23_t2e-loops\", \"Tracks\", \"loops.T2E-specific.bed2ddb\"),\n",
    "        name=\"T2E Loops\"\n",
    "    ),\n",
    "}\n",
    "\n",
    "loop_colours = {\n",
    "    \"tumour\": \"Orange\",\n",
    "    \"benign\": \"Blue\",\n",
    "    \"all\": \"Black\",\n",
    "    \"t2e\": \"Green\",\n",
    "}\n",
    "\n",
    "loop_tracks_2D = {\n",
    "    loop_type: {\n",
    "        \"top\": Track(\n",
    "            track_type=\"horizontal-2d-rectangle-domains\",\n",
    "            position=\"top\",\n",
    "            tileset=loop_tilesets_2D[loop_type],\n",
    "            filetype=\"bed2ddb\",\n",
    "            options={\n",
    "                \"showMousePosition\": True,\n",
    "                \"name\": loop_tilesets_2D[loop_type].tileset_info()[\"name\"],\n",
    "                \"fillColor\": loop_colours[loop_type],\n",
    "            },\n",
    "        ),\n",
    "        \"bottom\": Track(\n",
    "            track_type=\"horizontal-2d-rectangle-domains\",\n",
    "            position=\"bottom\",\n",
    "            tileset=loop_tilesets_2D[loop_type],\n",
    "            filetype=\"bed2ddb\",\n",
    "            options={\n",
    "                \"showMousePosition\": True,\n",
    "                \"name\": loop_tilesets_2D[loop_type].tileset_info()[\"name\"],\n",
    "                \"fillColor\": loop_colours[loop_type],\n",
    "            },\n",
    "        ),\n",
    "        \"centre\": Track(\n",
    "            track_type=\"2d-rectangle-domains\",\n",
    "            position=\"center\",\n",
    "            tileset=loop_tilesets_2D[loop_type],\n",
    "            filetype=\"bed2ddb\",\n",
    "            width=500,\n",
    "            height=500,\n",
    "            options={\n",
    "                \"showMousePosition\": True,\n",
    "                \"name\": loop_tilesets_2D[loop_type].tileset_info()[\"name\"],\n",
    "                \"flipDiagonal\": False,\n",
    "                \"fillColor\": loop_colours[loop_type],\n",
    "            }\n",
    "        ),\n",
    "    } for loop_type in [\"all\", \"tumour\", \"t2e\"]\n",
    "}"
   ]
  },
  {
   "cell_type": "markdown",
   "metadata": {},
   "source": [
    "## H3K27ac"
   ]
  },
  {
   "cell_type": "code",
   "execution_count": 11,
   "metadata": {},
   "outputs": [],
   "source": [
    "line_height = 150\n",
    "chip_files = {s: path.join(\"..\", \"..\", \"Data\", \"Processed\", \"2019-05-03_PCa-H3K27ac-peaks\", \"Peaks\", s + \"_FE.sorted.filtered.bw\") for s in tumour_samples}\n",
    "chip_tilesets = {s: bigwig(f) for s, f in chip_files.items()}\n",
    "chip = {\n",
    "    s: {\n",
    "        p: Track(\n",
    "            track_type=t + \"-bar\",\n",
    "            position=p,\n",
    "            tileset=ts,\n",
    "            filetype=\"vector\",\n",
    "            height=line_height,\n",
    "            width=line_height,\n",
    "            options={\n",
    "                \"showMousePosition\": True,\n",
    "                \"name\": metadata.loc[metadata[\"SampleID\"] == s, \"Label\"].values[0] + \" H3K27ac\",\n",
    "                \"barFillColor\": metadata.loc[metadata[\"SampleID\"] == s, \"Sample_Colour\"].values[0],\n",
    "            },\n",
    "        ) for p, t in zip([\"top\", \"bottom\", \"left\", \"right\"], [\"horizontal\", \"horizontal\", \"vertical\", \"vertical\"])\n",
    "    } for s, ts in chip_tilesets.items()\n",
    "}\n",
    "\n",
    "chip_line = {\n",
    "    s: {\n",
    "        p: Track(\n",
    "            track_type=t + \"-line\",\n",
    "            position=p,\n",
    "            tileset=ts,\n",
    "            filetype=\"vector\",\n",
    "            height=line_height,\n",
    "            width=line_height,\n",
    "            options={\n",
    "                \"showMousePosition\": True,\n",
    "                \"name\": metadata.loc[metadata[\"SampleID\"] == s, \"Label\"].values[0] + \" H3K27ac\",\n",
    "                \"lineStrokeColor\": metadata.loc[metadata[\"SampleID\"] == s, \"Sample_Colour\"].values[0],\n",
    "            },\n",
    "        ) for p, t in zip([\"top\", \"bottom\", \"left\", \"right\"], [\"horizontal\", \"horizontal\", \"vertical\", \"vertical\"])\n",
    "    } for s, ts in chip_tilesets.items()\n",
    "}\n",
    "\n",
    "peak_files = {s: path.join(\"..\", \"..\", \"Data\", \"Processed\", \"2019-05-03_PCa-H3K27ac-peaks\", \"Peaks\", s + \"_peaks.filtered.beddb\") for s in tumour_samples}\n",
    "peak_tilesets = {s: beddb(f) for s, f in peak_files.items()}\n",
    "peaks = {\n",
    "    s: {\n",
    "        p: Track(\n",
    "            track_type=t + \"bedlike\",\n",
    "            position=p,\n",
    "            tileset=ts,\n",
    "            filetype=\"beddb\",\n",
    "            options={\n",
    "                \"showMousePosition\": True,\n",
    "                \"name\": metadata.loc[metadata[\"SampleID\"] == s, \"Label\"].values[0] + \" H3K27ac Peaks\",\n",
    "                \"fillColor\": metadata.loc[metadata[\"SampleID\"] == s, \"Sample_Colour\"].values[0],\n",
    "            },\n",
    "        ) for p, t in zip([\"top\", \"bottom\", \"left\", \"right\"], [\"\", \"\", \"vertical-\", \"vertical-\"])\n",
    "    } for s, ts in peak_tilesets.items()\n",
    "}\n"
   ]
  },
  {
   "cell_type": "markdown",
   "metadata": {},
   "source": [
    "# Figures"
   ]
  },
  {
   "cell_type": "markdown",
   "metadata": {},
   "source": [
    "## FOXA1"
   ]
  },
  {
   "cell_type": "code",
   "execution_count": 12,
   "metadata": {
    "scrolled": false
   },
   "outputs": [
    {
     "data": {
      "application/vnd.jupyter.widget-view+json": {
       "model_id": "61507d348ae7488a95d6d544af7b0dae",
       "version_major": 2,
       "version_minor": 0
      },
      "text/plain": [
       "HiGlassDisplay(viewconf={'editable': True, 'views': [{'uid': 'UfOydjlSTM6z6d6iPNXpXQ', 'tracks': {'top': [{'ty…"
      ]
     },
     "metadata": {},
     "output_type": "display_data"
    }
   ],
   "source": [
    "test_views = [\n",
    "    View(\n",
    "        tracks=[\n",
    "            gene_annots[\"top\"],\n",
    "            chrom_labels[\"top\"],\n",
    "            gene_annots[\"left\"],\n",
    "            chrom_labels[\"left\"],\n",
    "            peaks[\"PCa13848\"][\"top\"],\n",
    "            peaks[\"PCa13848\"][\"left\"],\n",
    "            CombinedTrack([\n",
    "                lowc_heatmaps[s][\"center\"],\n",
    "                loop_tracks_2D[\"all\"][\"centre\"],\n",
    "            ]),\n",
    "        ],\n",
    "        initialXDomain=[\n",
    "            # SOX9\n",
    "            # nc.chr_pos_to_genome_pos(\"chr17\", 704e5 - 3e6, hg38),\n",
    "            # nc.chr_pos_to_genome_pos(\"chr17\", 736e5 + 3e6, hg38),\n",
    "            # FOXA1\n",
    "            nc.chr_pos_to_genome_pos(\"chr14\", 376e5 - 4e5, hg38),\n",
    "            nc.chr_pos_to_genome_pos(\"chr14\", 376e5 + 4e5, hg38),\n",
    "        ]\n",
    "    )\n",
    "    for s in [\"PCa13848\", \"Benign-Prostate-3320942\"]\n",
    "]\n",
    "\n",
    "d, s, v = higlass.display(\n",
    "    views=test_views,\n",
    "    #value_scale_syncs=[\n",
    "    #    [(test_views[0], lowc_heatmaps[\"PCa13848\"][\"center\"]), (test_views[1], lowc_heatmaps[\"Benign-Prostate-3320942\"][\"center\"]), ]\n",
    "    #],\n",
    "    location_syncs=[\n",
    "        test_views\n",
    "    ],\n",
    "    zoom_syncs=[\n",
    "        test_views\n",
    "    ],\n",
    ")\n",
    "d"
   ]
  },
  {
   "cell_type": "markdown",
   "metadata": {},
   "source": [
    "## T2E Locus"
   ]
  },
  {
   "cell_type": "code",
   "execution_count": 13,
   "metadata": {},
   "outputs": [
    {
     "data": {
      "application/vnd.jupyter.widget-view+json": {
       "model_id": "ac13349b53c54abea7ec5d33ed4aed8e",
       "version_major": 2,
       "version_minor": 0
      },
      "text/plain": [
       "HiGlassDisplay(viewconf={'editable': True, 'views': [{'uid': 'bl9S9fYwR-2LYO3EZcjrxw', 'tracks': {'top': [{'ty…"
      ]
     },
     "metadata": {},
     "output_type": "display_data"
    }
   ],
   "source": [
    "test_views = [\n",
    "    View(\n",
    "        tracks=[\n",
    "            gene_annots[\"top\"],\n",
    "            chrom_labels[\"top\"],\n",
    "            gene_annots[\"left\"],\n",
    "            chrom_labels[\"left\"],\n",
    "            CombinedTrack([\n",
    "                lowc_heatmaps[s][\"center\"],\n",
    "                loop_tracks_2D[\"t2e\"][\"centre\"],\n",
    "            ]),\n",
    "        ],\n",
    "        initialXDomain=[\n",
    "            nc.chr_pos_to_genome_pos(\"chr21\", 38500000, hg38),\n",
    "            nc.chr_pos_to_genome_pos(\"chr21\", 42000000, hg38),\n",
    "        ]\n",
    "    )\n",
    "    for s in [\"PCa13266\", \"PCa13848\"]\n",
    "]\n",
    "\n",
    "d, s, v = higlass.display(\n",
    "    views=test_views,\n",
    "    # value_scale_syncs=[\n",
    "    #     [(test_view, lowc_heatmaps[s][\"top\"]) for s in [\"PCa13266\", \"SRR7702334\", \"Benign-Prostate-1595983\", \"SRR8446383\"]]\n",
    "    # ],\n",
    "    location_syncs=[\n",
    "        test_views\n",
    "    ]\n",
    ")\n",
    "d"
   ]
  },
  {
   "cell_type": "code",
   "execution_count": null,
   "metadata": {},
   "outputs": [],
   "source": []
  }
 ],
 "metadata": {
  "kernelspec": {
   "display_name": "Python 3",
   "language": "python",
   "name": "python3"
  },
  "language_info": {
   "codemirror_mode": {
    "name": "ipython",
    "version": 3
   },
   "file_extension": ".py",
   "mimetype": "text/x-python",
   "name": "python",
   "nbconvert_exporter": "python",
   "pygments_lexer": "ipython3",
   "version": "3.6.10"
  }
 },
 "nbformat": 4,
 "nbformat_minor": 4
}
