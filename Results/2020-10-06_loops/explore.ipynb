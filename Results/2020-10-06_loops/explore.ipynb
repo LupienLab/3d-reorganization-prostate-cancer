{
 "cells": [
  {
   "cell_type": "markdown",
   "metadata": {},
   "source": [
    "# Environment"
   ]
  },
  {
   "cell_type": "code",
   "execution_count": 1,
   "metadata": {},
   "outputs": [],
   "source": [
    "import higlass\n",
    "from higlass.client import View, Track, CombinedTrack\n",
    "from cooler import Cooler\n",
    "from higlass.tilesets import cooler, beddb, chromsizes, bigwig, Tileset\n",
    "import clodius\n",
    "import os\n",
    "import os.path as path\n",
    "import pandas as pd\n",
    "import numpy as np\n",
    "import itertools\n",
    "import negspy.coordinates as nc\n",
    "import matplotlib.pyplot as plt\n",
    "import scipy.stats as stats\n",
    "from tqdm import tqdm\n",
    "\n",
    "def bed2ddb(filepath, uuid=None, **kwargs):\n",
    "    from clodius.tiles.utils import tiles_wrapper_2d\n",
    "    from clodius.tiles.bed2ddb import get_2d_tileset_info, get_2D_tiles\n",
    "    return Tileset(\n",
    "        uuid=uuid,\n",
    "        tileset_info=lambda: get_2d_tileset_info(filepath),\n",
    "        tiles=lambda tids: tiles_wrapper_2d(\n",
    "            tids,\n",
    "            lambda z,x,y: get_2D_tiles(filepath, z, x, y)[(x, y)]\n",
    "        ),\n",
    "        **kwargs\n",
    "    )\n"
   ]
  },
  {
   "cell_type": "markdown",
   "metadata": {},
   "source": [
    "# Load annotations"
   ]
  },
  {
   "cell_type": "code",
   "execution_count": 2,
   "metadata": {},
   "outputs": [],
   "source": [
    "genes = beddb(\"../2019-10-24_higlass/Data/hg38/gene-annotations-hg38.beddb\")\n",
    "chrom_sizes = chromsizes(\"../2019-10-24_higlass/hg38.chrom.sizes\")\n",
    "label_font_size = 18\n",
    "chr_label_size = 30\n",
    "annots_size = 150\n",
    "\n",
    "chrom_labels = {\n",
    "    p: Track(\n",
    "        track_type=l + \"-chromosome-labels\",\n",
    "        tileset=chrom_sizes,\n",
    "        position=p,\n",
    "        height=chr_label_size,\n",
    "        width=chr_label_size,\n",
    "        options={\n",
    "            \"fontSize\": label_font_size,\n",
    "            \"showMousePosition\": True,\n",
    "        },\n",
    "    ) for p, l in zip([\"top\", \"bottom\", \"left\", \"right\"], [\"horizontal\", \"horizontal\", \"vertical\", \"vertical\"])\n",
    "}\n",
    "\n",
    "gene_annots = {\n",
    "    p: Track(\n",
    "        track_type=l + \"-gene-annotations\",\n",
    "        tileset=genes,\n",
    "        position=p,\n",
    "        height=annots_size,\n",
    "        width=annots_size,\n",
    "        options={\n",
    "            \"fontSize\": label_font_size,\n",
    "            \"showMousePosition\": True,\n",
    "        },\n",
    "    ) for p, l in zip([\"top\", \"bottom\", \"left\", \"right\"], [\"horizontal\", \"horizontal\", \"vertical\", \"vertical\"])\n",
    "}\n",
    "\n",
    "# genome coordinates\n",
    "hg38 = nc.get_chrominfo(\"hg38\")"
   ]
  },
  {
   "cell_type": "markdown",
   "metadata": {},
   "source": [
    "# Data"
   ]
  },
  {
   "cell_type": "markdown",
   "metadata": {},
   "source": [
    "## Contact matrices"
   ]
  },
  {
   "cell_type": "code",
   "execution_count": 3,
   "metadata": {},
   "outputs": [],
   "source": [
    "tumour_metadata = pd.read_csv(path.join(\"..\", \"..\", \"Data\", \"External\", \"LowC_Samples_Data_Available.tsv\"), sep=\"\\t\", header=0)\n",
    "tumour_metadata = tumour_metadata.loc[tumour_metadata.Include == \"Yes\", :]\n",
    "tumour_metadata[\"SampleID\"] = [\"PCa\" + str(i) for i in tumour_metadata[\"Sample ID\"]]\n",
    "\n",
    "tumour_samples = tumour_metadata[\"SampleID\"].tolist()\n",
    "t2e_samples = tumour_metadata.loc[tumour_metadata[\"T2E Status\"] == \"Yes\", \"SampleID\"].tolist()\n",
    "nont2e_samples = tumour_metadata.loc[tumour_metadata[\"T2E Status\"] == \"No\", \"SampleID\"].tolist()\n",
    "\n",
    "benign_metadata = pd.read_csv(path.join(\"..\", \"..\", \"Data\", \"Raw\", \"191220_A00827_0104_AHMW25DMXX_HiC\", \"config.tsv\"), sep=\"\\t\", header=0)\n",
    "benign_metadata = benign_metadata.loc[benign_metadata.Include == \"Yes\", :]\n",
    "benign_samples = benign_metadata[\"Sample\"].tolist()\n",
    "\n",
    "cell_line_metadata = pd.read_csv(path.join(\"..\", \"..\", \"Data\", \"External\", \"Rhie_2019\", \"config.tsv\"), sep=\"\\t\", header=0)\n",
    "cell_line_samples = cell_line_metadata[\"Run_Accession\"].tolist()\n",
    "\n",
    "all_samples = tumour_samples + benign_samples + cell_line_samples\n",
    "metadata = pd.read_csv(path.join(\"..\", \"2020-01-15_TAD-aggregation\", \"config.tsv\"), sep=\"\\t\", index_col=False, header=0)\n",
    "cooler_files = (\n",
    "    [path.join(\"..\", \"..\", \"Data\", \"Processed\", \"2019-06-18_PCa-LowC-sequencing\", \"Contacts\", s + \".mcool\") for s in tumour_samples + benign_samples]\n",
    "    + [path.join(\"..\", \"..\", \"Data\", \"External\", \"Rhie_2019\", \"Contacts\", s + \".mcool\") for s in cell_line_samples]\n",
    ")\n",
    "lowc_tilesets = {s: cooler(f) for s, f in zip(all_samples, cooler_files)}\n",
    "\n",
    "resolutions = [\n",
    "    1000, 2000, 3000, 4000, 5000,\n",
    "    10000, 20000, 30000, 40000, 50000,\n",
    "    100000, 200000, 300000, 400000, 500000,\n",
    "    1000000, 2000000, 3000000, 4000000, 5000000\n",
    "][::-1]\n",
    "\n",
    "min_resolution = 40000\n",
    "heatmap_size = 250\n",
    "colour_range = [\n",
    "    \"rgba(65, 105, 225, 1.0)\",\n",
    "    \"rgba(255, 250, 250, 1.0)\",\n",
    "    # \"rgba(240, 128, 128, 1.0)\",\n",
    "    \"rgba(255, 25, 25, 1.0)\"\n",
    "]\n",
    "lowc_heatmaps = {\n",
    "    s: {\n",
    "        p: Track(\n",
    "            track_type=l + \"heatmap\",\n",
    "            position=p,\n",
    "            tileset=lowc_tilesets[s],\n",
    "            filetype=\"cooler\",\n",
    "            height=heatmap_size,\n",
    "            options={\n",
    "                \"maxZoom\": str(resolutions.index(min_resolution)),\n",
    "                \"colorbarPosition\": \"topRight\",\n",
    "                \"showMousePosition\": True,\n",
    "                \"name\": metadata.loc[metadata[\"SampleID\"] == s, \"Label\"].values[0],\n",
    "                \"colorRange\": colour_range,\n",
    "            },\n",
    "        ) for p, l in zip(\n",
    "            [\"top\", \"bottom\", \"left\", \"right\", \"center\"],\n",
    "            [\"horizontal-\", \"horizontal-\", \"vertical-\", \"vertical-\", \"\"]\n",
    "        )\n",
    "    } for s in all_samples\n",
    "}"
   ]
  },
  {
   "cell_type": "markdown",
   "metadata": {},
   "source": [
    "## Loops"
   ]
  },
  {
   "cell_type": "code",
   "execution_count": 4,
   "metadata": {
    "scrolled": false
   },
   "outputs": [],
   "source": [
    "TRACK_DIR = path.join(\"Tracks\")\n",
    "\n",
    "loop_tilesets_2D = bed2ddb(path.join(TRACK_DIR, \"tumour-specific-loops.bed2ddb\"), name=\"Tumour-Specific Loops\")\n",
    "loop_tracks_2D = {\n",
    "   \"top\": Track(\n",
    "        track_type=\"horizontal-2d-rectangle-domains\",\n",
    "        position=\"top\",\n",
    "        tileset=loop_tilesets_2D,\n",
    "        filetype=\"bed2ddb\",\n",
    "        options={\n",
    "            \"showMousePosition\": True,\n",
    "            \"name\": loop_tilesets_2D.tileset_info()[\"name\"],\n",
    "        },\n",
    "    ),\n",
    "    \"bottom\": Track(\n",
    "        track_type=\"horizontal-2d-rectangle-domains\",\n",
    "        position=\"bottom\",\n",
    "        tileset=loop_tilesets_2D,\n",
    "        filetype=\"bed2ddb\",\n",
    "        options={\n",
    "            \"showMousePosition\": True,\n",
    "            \"name\": loop_tilesets_2D.tileset_info()[\"name\"],\n",
    "        },\n",
    "    ),\n",
    "    \"centre\": Track(\n",
    "        track_type=\"2d-rectangle-domains\",\n",
    "        position=\"center\",\n",
    "        tileset=loop_tilesets_2D,\n",
    "        filetype=\"bed2ddb\",\n",
    "        width=500,\n",
    "        height=500,\n",
    "        options={\n",
    "            \"showMousePosition\": True,\n",
    "            \"name\": loop_tilesets_2D.tileset_info()[\"name\"],\n",
    "            \"flipDiagonal\": \"copy\",\n",
    "        }\n",
    "    ),\n",
    "}"
   ]
  },
  {
   "cell_type": "markdown",
   "metadata": {},
   "source": [
    "# Figures"
   ]
  },
  {
   "cell_type": "code",
   "execution_count": 32,
   "metadata": {
    "scrolled": false
   },
   "outputs": [
    {
     "data": {
      "text/plain": [
       "<higlass.tilesets.Tileset at 0x7fd4754bec88>"
      ]
     },
     "execution_count": 32,
     "metadata": {},
     "output_type": "execute_result"
    }
   ],
   "source": [
    "test_view = View(\n",
    "    tracks=[\n",
    "        gene_annots[\"top\"],\n",
    "        chrom_labels[\"top\"],\n",
    "        #loop_tracks_2D[\"top\"],\n",
    "        #loop_tracks_2D[\"top\"],\n",
    "        CombinedTrack([lowc_heatmaps[\"PCa13266\"][\"top\"], loop_tracks_2D[\"centre\"],]),\n",
    "        #lowc_heatmaps[\"Benign-Prostate-1595983\"][\"top\"],\n",
    "    ],\n",
    "    initialXDomain=[\n",
    "        nc.chr_pos_to_genome_pos(\"chrX\", 68e6 - 3e6, hg38),\n",
    "        nc.chr_pos_to_genome_pos(\"chrX\", 68e6 + 3e6, hg38),\n",
    "    ]\n",
    ")\n",
    "\n",
    "d, s, v = higlass.display(\n",
    "    views=[test_view],\n",
    "    # value_scale_syncs=[\n",
    "    #     [(test_view, lowc_heatmaps[s][\"top\"]) for s in [\"PCa13266\", \"SRR7702334\", \"Benign-Prostate-1595983\", \"SRR8446383\"]]\n",
    "    # ],\n",
    ")\n",
    "#d\n",
    "loop_tilesets_2D"
   ]
  },
  {
   "cell_type": "markdown",
   "metadata": {},
   "source": [
    "# Aggregate Peak Analysis"
   ]
  },
  {
   "cell_type": "code",
   "execution_count": 8,
   "metadata": {},
   "outputs": [],
   "source": [
    "LOOP_DIR = \"Loops\"\n",
    "\n",
    "# load calculations\n",
    "agg_loop_matrices = {\n",
    "    (loop_type, sample_type): np.load(\n",
    "        path.join(LOOP_DIR, \"{loop_type}-loops.{sample_type}-samples.agg.npz\".format(loop_type=loop_type, sample_type=sample_type))\n",
    "    )\n",
    "    for loop_type in [\"tumour\", \"benign\", \"shared\"]\n",
    "    for sample_type in [\"tumour\", \"benign\"]\n",
    "}\n",
    "\n",
    "# make plots for each comparison\n",
    "for (loop_type, sample_type) in agg_loop_matrices.keys():\n",
    "    # plot differences between mutant and nonmutant/benign samples\n",
    "    fig = plt.figure(figsize=(12, 12))\n",
    "    ax = fig.add_subplot(111)\n",
    "    ax.set_title(\"{} loops\".format(sample_type))\n",
    "    plt.imshow(agg_loop_matrices[(loop_type, sample_type)], vmin=0.01, vmax=0.07, cmap=\"Reds\")\n",
    "    ax.set_aspect(\"equal\")\n",
    "    fig.savefig(\n",
    "        \"Plots/{loop_type}-loops.{sample_type}-apa.pdf\".format(\n",
    "            loop_type=t, sample_type=sample_type\n",
    "        )\n",
    "    )"
   ]
  },
  {
   "cell_type": "code",
   "execution_count": null,
   "metadata": {},
   "outputs": [],
   "source": [
    "\n",
    "\n"
   ]
  }
 ],
 "metadata": {
  "kernelspec": {
   "display_name": "Python 3",
   "language": "python",
   "name": "python3"
  },
  "language_info": {
   "codemirror_mode": {
    "name": "ipython",
    "version": 3
   },
   "file_extension": ".py",
   "mimetype": "text/x-python",
   "name": "python",
   "nbconvert_exporter": "python",
   "pygments_lexer": "ipython3",
   "version": "3.6.10-final"
  }
 },
 "nbformat": 4,
 "nbformat_minor": 4
}