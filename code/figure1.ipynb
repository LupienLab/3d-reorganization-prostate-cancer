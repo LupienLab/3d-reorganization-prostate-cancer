{
 "cells": [
  {
   "cell_type": "markdown",
   "metadata": {},
   "source": [
    "# Environment"
   ]
  },
  {
   "cell_type": "code",
   "execution_count": 1,
   "metadata": {},
   "outputs": [],
   "source": [
    "import higlass\n",
    "from higlass.client import View, Track, CombinedTrack\n",
    "from higlass.tilesets import cooler, beddb, chromsizes, bigwig, Tileset\n",
    "from higlass.viewer import save_b64_image_to_png\n",
    "import clodius\n",
    "import os\n",
    "import os.path as path\n",
    "import pandas as pd\n",
    "import numpy as np\n",
    "import itertools\n",
    "import negspy.coordinates as nc\n",
    "\n",
    "def bed2ddb(filepath, uuid=None, **kwargs):\n",
    "    from clodius.tiles.bed2ddb import get_2d_tileset_info, get_2D_tiles\n",
    "    from clodius.tiles.utils import tiles_wrapper_2d\n",
    "\n",
    "    return Tileset(\n",
    "        uuid=uuid,\n",
    "        tileset_info=lambda: get_2d_tileset_info(filepath),\n",
    "        tiles=lambda tids: tiles_wrapper_2d(\n",
    "            tids, lambda z, x, y: get_2D_tiles(filepath, z, x, y)[(x, y)]\n",
    "        ),\n",
    "        **kwargs\n",
    "    )\n"
   ]
  },
  {
   "cell_type": "markdown",
   "metadata": {},
   "source": [
    "# Annotations"
   ]
  },
  {
   "cell_type": "code",
   "execution_count": 2,
   "metadata": {},
   "outputs": [],
   "source": [
    "annot_dir = path.join(\"..\", \"Results\", \"2019-10-24_higlass\")\n",
    "genes = beddb(path.join(annot_dir, \"Data\", \"hg38\", \"gene-annotations-hg38.beddb\"))\n",
    "chrom_sizes = chromsizes(path.join(annot_dir, \"hg38.chrom.sizes\"))\n",
    "label_font_size = 18\n",
    "chr_label_size = 30\n",
    "annots_size = 150\n",
    "\n",
    "chrom_labels = {\n",
    "    p: Track(\n",
    "        track_type=l + \"-chromosome-labels\",\n",
    "        tileset=chrom_sizes,\n",
    "        position=p,\n",
    "        height=chr_label_size,\n",
    "        width=chr_label_size,\n",
    "        options={\n",
    "            \"fontSize\": label_font_size,\n",
    "            \"showMousePosition\": True,\n",
    "        },\n",
    "    ) for p, l in zip([\"top\", \"bottom\", \"left\", \"right\"], [\"horizontal\", \"horizontal\", \"vertical\", \"vertical\"])\n",
    "}\n",
    "chrom_grid = {\n",
    "    p: Track(\n",
    "        track_type=l + \"-chromosome-grid\",\n",
    "        tileset=chrom_sizes,\n",
    "        position=p,\n",
    "        height=chr_label_size,\n",
    "        width=chr_label_size,\n",
    "        options={\n",
    "            \"fontSize\": label_font_size,\n",
    "            \"showMousePosition\": True,\n",
    "        },\n",
    "    ) for p, l in zip(\n",
    "        [\"top\", \"bottom\", \"left\", \"right\"],\n",
    "        [\"horizontal\", \"horizontal\", \"vertical\", \"vertical\"])\n",
    "}\n",
    "\n",
    "gene_annots = {\n",
    "    p: Track(\n",
    "        track_type=l + \"-gene-annotations\",\n",
    "        tileset=genes,\n",
    "        position=p,\n",
    "        height=annots_size,\n",
    "        width=annots_size,\n",
    "        options={\n",
    "            \"fontSize\": label_font_size,\n",
    "            \"showMousePosition\": True,\n",
    "        },\n",
    "    ) for p, l in zip([\"top\", \"bottom\", \"left\", \"right\"], [\"horizontal\", \"horizontal\", \"vertical\", \"vertical\"])\n",
    "}\n",
    "\n",
    "hg38 = nc.get_chrominfo(\"hg38\")"
   ]
  },
  {
   "cell_type": "markdown",
   "metadata": {},
   "source": [
    "# Load data"
   ]
  },
  {
   "cell_type": "markdown",
   "metadata": {},
   "source": [
    "## Metadata"
   ]
  },
  {
   "cell_type": "code",
   "execution_count": 3,
   "metadata": {},
   "outputs": [],
   "source": [
    "meta = pd.read_csv(\"config.tsv\", sep=\"\\t\")\n",
    "meta = meta.loc[meta.Include == \"Yes\", :]\n",
    "\n",
    "SAMPLES = {\n",
    "    \"all\": meta[\"Sample_ID\"].tolist(),\n",
    "    \"tumour\": meta.loc[(meta.Source == \"Primary\") & (meta.Type == \"Malignant\"), \"Sample_ID\"].tolist(),\n",
    "    \"benign\": meta.loc[(meta.Source == \"Primary\") & (meta.Type == \"Benign\"), \"Sample_ID\"].tolist(),\n",
    "    \"primary\": meta.loc[(meta.Source == \"Primary\"), \"Sample_ID\"].tolist(),\n",
    "    \"clines\": meta.loc[(meta.Source == \"Cell Line\"), \"Sample_ID\"].tolist(),\n",
    "}"
   ]
  },
  {
   "cell_type": "markdown",
   "metadata": {},
   "source": [
    "## Contact Matrices"
   ]
  },
  {
   "cell_type": "code",
   "execution_count": 20,
   "metadata": {},
   "outputs": [],
   "source": [
    "resolutions = [\n",
    "    1000, 2000, 3000, 4000, 5000,\n",
    "    10000, 20000, 30000, 40000, 50000,\n",
    "    100000, 200000, 300000, 400000, 500000,\n",
    "    1000000, 2000000, 3000000, 4000000, 5000000\n",
    "][::-1]\n",
    "min_resolution = 40000\n",
    "colour_range = [\n",
    "    \"rgba(65, 105, 225, 1.0)\",\n",
    "    \"rgba(255, 250, 250, 1.0)\",\n",
    "    \"rgba(255, 25, 25, 1.0)\"\n",
    "]\n",
    "\n",
    "mtx_dir = {\n",
    "    \"primary\": path.join(\"..\", \"Data\", \"Processed\", \"2019-06-18_PCa-LowC-sequencing\", \"Contacts\"),\n",
    "    \"clines\": path.join(\"..\", \"Data\", \"External\", \"Rhie_2019\", \"Contacts\"),\n",
    "}\n",
    "mtx_files = {}\n",
    "for s in SAMPLES[\"primary\"]:\n",
    "    mtx_files[s] = path.join(mtx_dir[\"primary\"], s + \".mcool\")\n",
    "\n",
    "for s in SAMPLES[\"clines\"]:\n",
    "    mtx_files[s] = path.join(mtx_dir[\"clines\"], s + \".mcool\")\n",
    "\n",
    "mtx_tilesets = {\n",
    "    s: cooler(f)\n",
    "    for s, f in mtx_files.items()\n",
    "}\n",
    "\n",
    "contacts = {\n",
    "    s: {\n",
    "        p: Track(\n",
    "            track_type=pl + \"heatmap\",\n",
    "            datatype=\"matrix\",\n",
    "            filetype=\"cooler\",\n",
    "            tileset=mtx_tilesets[s],\n",
    "            height=height,\n",
    "            options={\n",
    "                \"maxZoom\": str(resolutions.index(min_resolution)),\n",
    "                \"colorbarPosition\": \"topRight\",\n",
    "                \"showMousePosition\": True,\n",
    "                \"name\": meta.loc[meta[\"Sample_ID\"] == s, \"Label\"].values[0],\n",
    "                \"colorRange\": colour_range,\n",
    "            }\n",
    "        )\n",
    "        for p, pl, height in zip(\n",
    "            [\"top\", \"right\", \"bottom\", \"left\", \"center\"],\n",
    "            [\"horizontal-\", \"horizontal-\", \"horizontal-\", \"horizontal-\", \"\"],\n",
    "            #[\"linear-\", \"linear-\", \"linear-\", \"linear-\", \"\"],\n",
    "            [240, 240, 240, 240, 500],\n",
    "        )\n",
    "    }\n",
    "    for s in mtx_files.keys()\n",
    "}"
   ]
  },
  {
   "cell_type": "markdown",
   "metadata": {},
   "source": [
    "## Chromatin Interactions"
   ]
  },
  {
   "cell_type": "code",
   "execution_count": 5,
   "metadata": {},
   "outputs": [],
   "source": [
    "loop_track_dir = path.join(\"..\", \"Results\", \"2020-10-06_loops\", \"Tracks\")\n",
    "loop_files = {\n",
    "    \"1D\": {\n",
    "        s: path.join(loop_track_dir, s + \".anchors.beddb\")\n",
    "        for s in SAMPLES[\"primary\"]\n",
    "    },\n",
    "    \"2D\": {\n",
    "        s: path.join(loop_track_dir, s + \".loops.bed2ddb\")\n",
    "        for s in SAMPLES[\"primary\"]\n",
    "    },\n",
    "}\n",
    "loop_tilesets = {\n",
    "    \"1D\": {\n",
    "        s: beddb(f)\n",
    "        for s, f in loop_files[\"1D\"].items()\n",
    "    },\n",
    "    \"2D\": {\n",
    "        s: bed2ddb(f)\n",
    "        for s, f in loop_files[\"2D\"].items()\n",
    "    },\n",
    "}\n",
    "loops = {\n",
    "    \"1D\": {\n",
    "        s: {\n",
    "            p: Track(\n",
    "                track_type=\"bedlike\",\n",
    "                datatype=\"bedlike\",\n",
    "                filetype=\"beddb\",\n",
    "                tileset=loop_tilesets[\"1D\"][s],\n",
    "                options={\n",
    "                    \"showMousePosition\": True,\n",
    "                    \"name\": meta.loc[meta[\"Sample_ID\"] == s, \"Label\"].values[0] + \" Interactions\",\n",
    "                    \"lineStrokeColor\": meta.loc[meta[\"Sample_ID\"] == s, \"Sample_Colour\"].values[0],\n",
    "                }\n",
    "            )\n",
    "            for p in [\"top\", \"left\", \"bottom\", \"right\"]\n",
    "        }\n",
    "        for s in SAMPLES[\"primary\"]\n",
    "    },\n",
    "    \"2D\": {\n",
    "        s: {\n",
    "            p: Track(\n",
    "                track_type=\"2d-rectangle-domains\",\n",
    "                datatype=\"2d-rectangle-domains\",\n",
    "                filetype=\"bed2ddb\",\n",
    "                tileset=loop_tilesets[\"2D\"][s],\n",
    "                height=height,\n",
    "                options={\n",
    "                    \"showMousePosition\": True,\n",
    "                    \"name\": meta.loc[meta[\"Sample_ID\"] == s, \"Label\"].values[0] + \" Interactions\",\n",
    "                    \"lineStrokeColor\": meta.loc[meta[\"Sample_ID\"] == s, \"Sample_Colour\"].values[0],\n",
    "                    \"rectangleDomainStrokeColor\": meta.loc[meta[\"Sample_ID\"] == s, \"Sample_Colour\"].values[0],\n",
    "                    \"rectangleDomainFillColor\": meta.loc[meta[\"Sample_ID\"] == s, \"Sample_Colour\"].values[0],\n",
    "                    \"rectangleDomainOpcaity\": 0.4,\n",
    "                }\n",
    "            )\n",
    "            for p, height in zip(\n",
    "                [\"top\", \"left\", \"bottom\", \"right\", \"center\"],\n",
    "                [50, 50, 50, 50, 600],\n",
    "            )\n",
    "        }\n",
    "        for s in SAMPLES[\"primary\"]\n",
    "    },\n",
    "}"
   ]
  },
  {
   "cell_type": "markdown",
   "metadata": {},
   "source": [
    "## Compartmentalization"
   ]
  },
  {
   "cell_type": "code",
   "execution_count": 13,
   "metadata": {},
   "outputs": [],
   "source": [
    "cmpt_files = {\n",
    "    s: path.join(\"..\", \"Results\", \"2021-03-03_compartments\", \"Compartments\", s + \".compartments.cis.bw\")\n",
    "    for s in SAMPLES[\"all\"]\n",
    "}\n",
    "cmpt_tilesets = {s: bigwig(f) for s, f in cmpt_files.items()}\n",
    "compartments = {\n",
    "    s: {\n",
    "        p: Track(\n",
    "            track_type=t + \"-line\",\n",
    "            filetype=\"vector\",\n",
    "            position=p,\n",
    "            tileset=ts,\n",
    "            height=100,\n",
    "            options={\n",
    "                \"showMousePosition\": True,\n",
    "                \"name\": meta.loc[meta[\"Sample_ID\"] == s, \"Label\"].values[0] + \" Compartment\",\n",
    "                \"lineStrokeColor\": meta.loc[meta[\"Sample_ID\"] == s, \"Sample_Colour\"].values[0],\n",
    "                \"valueScaleMin\": -2,\n",
    "                \"valueScaleMax\": 2,\n",
    "                \"zeroLineVisible\": True,\n",
    "                \"zeroLineColor\": \"#000000\",\n",
    "            },\n",
    "        ) for p, t in zip(\n",
    "            [\"top\", \"bottom\", \"left\", \"right\"],\n",
    "            [\"horizontal\", \"horizontal\", \"vertical\", \"vertical\"]\n",
    "        )\n",
    "    } for s, ts in cmpt_tilesets.items()\n",
    "}"
   ]
  },
  {
   "cell_type": "markdown",
   "metadata": {},
   "source": [
    "# Figures"
   ]
  },
  {
   "cell_type": "markdown",
   "metadata": {},
   "source": [
    "## AR TADs"
   ]
  },
  {
   "cell_type": "code",
   "execution_count": 6,
   "metadata": {
    "scrolled": false
   },
   "outputs": [
    {
     "data": {
      "application/vnd.jupyter.widget-view+json": {
       "model_id": "fda38744516b4e93b05dadedd61f7f4e",
       "version_major": 2,
       "version_minor": 0
      },
      "text/plain": [
       "HiGlassDisplay(viewconf={'editable': True, 'views': [{'uid': 'CloUl0RGQsufSLS_MEvkVA', 'tracks': {'top': [{'ty…"
      ]
     },
     "metadata": {},
     "output_type": "display_data"
    }
   ],
   "source": [
    "prostate_samples = (\n",
    "    SAMPLES[\"primary\"]\n",
    "    + [\n",
    "        \"SRR7702334\",\n",
    "        \"SRR7702335\",\n",
    "        \"SRR8446383\",\n",
    "        \"SRR8446384\",\n",
    "        \"SRR8446385\",\n",
    "        \"SRR8446386\",\n",
    "        \"SRR8446387\",\n",
    "    ]\n",
    ")\n",
    "\n",
    "views = [View(\n",
    "    tracks=[\n",
    "        chrom_labels[\"top\"],\n",
    "        gene_annots[\"top\"],\n",
    "    ] + [\n",
    "        contacts[s][\"top\"] for s in prostate_samples\n",
    "    ],\n",
    "    initialXDomain=[\n",
    "        nc.chr_pos_to_genome_pos(\"chrX\", 65715000, hg38),\n",
    "        nc.chr_pos_to_genome_pos(\"chrX\", 69570000, hg38)\n",
    "    ],\n",
    ")]\n",
    "\n",
    "d, s, v = higlass.display(\n",
    "    views=views,\n",
    "    zoom_syncs=[views],\n",
    "    location_syncs=[views],\n",
    "    server_port=8192,\n",
    ")\n",
    "d"
   ]
  },
  {
   "cell_type": "markdown",
   "metadata": {},
   "source": [
    "## FOXA1 Chromatin Interactions"
   ]
  },
  {
   "cell_type": "code",
   "execution_count": 12,
   "metadata": {},
   "outputs": [
    {
     "data": {
      "application/vnd.jupyter.widget-view+json": {
       "model_id": "77b50b88335f4137bd8f7811c873c173",
       "version_major": 2,
       "version_minor": 0
      },
      "text/plain": [
       "HiGlassDisplay(viewconf={'editable': True, 'views': [{'uid': 'Cl8-rL78Qv-nX4uIXXatDg', 'tracks': {'top': [{'ty…"
      ]
     },
     "metadata": {},
     "output_type": "display_data"
    }
   ],
   "source": [
    "views = [View(\n",
    "    tracks=[\n",
    "        chrom_labels[\"top\"],\n",
    "        gene_annots[\"top\"],\n",
    "        chrom_labels[\"left\"],\n",
    "        gene_annots[\"left\"],\n",
    "        CombinedTrack(\n",
    "            [ contacts[\"PCa13266\"][\"center\"] ]\n",
    "            + [ loops[\"2D\"][s][\"center\"] for s in SAMPLES[\"primary\"] ]\n",
    "        ),\n",
    "    ],\n",
    "    initialXDomain=[\n",
    "        nc.chr_pos_to_genome_pos(\"chr14\", 37100000, hg38),\n",
    "        nc.chr_pos_to_genome_pos(\"chr14\", 37900000, hg38)\n",
    "    ],\n",
    ")]\n",
    "\n",
    "d, s, v = higlass.display(\n",
    "    views=views,\n",
    "    zoom_syncs=[views],\n",
    "    location_syncs=[views],\n",
    "    server_port=8193,\n",
    ")\n",
    "d"
   ]
  },
  {
   "cell_type": "markdown",
   "metadata": {},
   "source": [
    "## Compartmental Differences on chr19"
   ]
  },
  {
   "cell_type": "code",
   "execution_count": 50,
   "metadata": {},
   "outputs": [
    {
     "data": {
      "application/vnd.jupyter.widget-view+json": {
       "model_id": "f02c41dafc94434484c9140fd39f3322",
       "version_major": 2,
       "version_minor": 0
      },
      "text/plain": [
       "HiGlassDisplay(viewconf={'editable': True, 'views': [{'uid': 'EfvvvMgARwa5GGIK10vIKg', 'tracks': {'top': [{'ty…"
      ]
     },
     "metadata": {},
     "output_type": "display_data"
    }
   ],
   "source": [
    "views = [\n",
    "    View(\n",
    "        tracks=[\n",
    "            chrom_labels[\"top\"],\n",
    "            gene_annots[\"top\"],\n",
    "            CombinedTrack([\n",
    "                compartments[s][\"top\"]\n",
    "                for s in SAMPLES[\"benign\"]\n",
    "            ]),\n",
    "            #CombinedTrack([\n",
    "            #    cnvs[s][\"top\"]\n",
    "            #    for s in SAMPLES[\"benign\"]\n",
    "            #]),\n",
    "            CombinedTrack([\n",
    "                compartments[s][\"top\"]\n",
    "                for s in [\"PCa13266\", \"PCa13848\", \"PCa3023\", \"PCa33173\", \"PCa40507\", \"PCa53687\", \"PCa56413\", \"PCa58215\"]\n",
    "            ]),\n",
    "            CombinedTrack([\n",
    "                compartments[s][\"top\"]\n",
    "                for s in [\"PCa14121\", \"PCa19121\", \"PCa51852\", \"PCa57294\"]\n",
    "            ]),\n",
    "        ],\n",
    "        initialXDomain=[\n",
    "            nc.chr_pos_to_genome_pos(\"chr19\", 0, hg38),\n",
    "            nc.chr_pos_to_genome_pos(\"chr20\", 0, hg38)\n",
    "        ],\n",
    "    ),\n",
    "]\n",
    "\n",
    "d, s, v = higlass.display(\n",
    "    views=views,\n",
    "    zoom_syncs=[views],\n",
    "    location_syncs=[views],\n",
    "    server_port=8195,\n",
    ")\n",
    "d"
   ]
  },
  {
   "cell_type": "code",
   "execution_count": 25,
   "metadata": {
    "scrolled": false
   },
   "outputs": [
    {
     "data": {
      "application/vnd.jupyter.widget-view+json": {
       "model_id": "861e1c7bcd9e4a5a80e0f091b653e30f",
       "version_major": 2,
       "version_minor": 0
      },
      "text/plain": [
       "HiGlassDisplay(viewconf={'editable': True, 'views': [{'uid': 'fVF1cmM3Tfe5dbmntUP8Zg', 'tracks': {'top': [{'ty…"
      ]
     },
     "metadata": {},
     "output_type": "display_data"
    }
   ],
   "source": [
    "views = [\n",
    "    View(\n",
    "        tracks=[\n",
    "            chrom_labels[\"top\"],\n",
    "            gene_annots[\"top\"],\n",
    "            chrom_labels[\"left\"],\n",
    "            gene_annots[\"left\"],\n",
    "            contacts[\"Benign-Prostate-1595983\"][\"center\"],\n",
    "            compartments[\"Benign-Prostate-1595983\"][\"bottom\"],\n",
    "        ],\n",
    "        initialXDomain=[\n",
    "            nc.chr_pos_to_genome_pos(\"chr18\", 63000000, hg38),\n",
    "            nc.chr_pos_to_genome_pos(\"chr20\", 21000000, hg38)\n",
    "        ],\n",
    "    ),\n",
    "    View(\n",
    "        tracks=[\n",
    "            compartments[\"PCa19121\"][\"top\"],\n",
    "            chrom_labels[\"left\"],\n",
    "            gene_annots[\"left\"],\n",
    "            contacts[\"PCa19121\"][\"center\"],\n",
    "            chrom_labels[\"bottom\"],\n",
    "            gene_annots[\"bottom\"],\n",
    "        ],\n",
    "        initialXDomain=[\n",
    "            nc.chr_pos_to_genome_pos(\"chr18\", 63000000, hg38),\n",
    "            nc.chr_pos_to_genome_pos(\"chr20\", 21000000, hg38)\n",
    "        ],\n",
    "    ),\n",
    "]\n",
    "\n",
    "d, s, v = higlass.display(\n",
    "    views=views,\n",
    "    zoom_syncs=[views],\n",
    "    location_syncs=[views],\n",
    "    #value_scale_syncs=[\n",
    "    #    [\n",
    "    #        (views[0], contacts[\"Benign-Prostate-1595983\"][\"center\"]),\n",
    "    #        (views[1], contacts[\"PCa19121\"][\"center\"]),\n",
    "    #    ]\n",
    "    #],\n",
    "    server_port=8194,\n",
    ")\n",
    "d"
   ]
  },
  {
   "cell_type": "code",
   "execution_count": null,
   "metadata": {},
   "outputs": [],
   "source": []
  }
 ],
 "metadata": {
  "kernelspec": {
   "display_name": "Python 3",
   "language": "python",
   "name": "python3"
  },
  "language_info": {
   "codemirror_mode": {
    "name": "ipython",
    "version": 3
   },
   "file_extension": ".py",
   "mimetype": "text/x-python",
   "name": "python",
   "nbconvert_exporter": "python",
   "pygments_lexer": "ipython3",
   "version": "3.6.10"
  }
 },
 "nbformat": 4,
 "nbformat_minor": 2
}
