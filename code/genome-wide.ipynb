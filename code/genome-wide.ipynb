{
 "cells": [
  {
   "cell_type": "markdown",
   "metadata": {},
   "source": [
    "# Environment"
   ]
  },
  {
   "cell_type": "code",
   "execution_count": 1,
   "metadata": {},
   "outputs": [],
   "source": [
    "import higlass\n",
    "from higlass.client import View, Track, CombinedTrack\n",
    "from higlass.tilesets import cooler, beddb, chromsizes, bigwig, Tileset\n",
    "from higlass.viewer import save_b64_image_to_png\n",
    "import clodius\n",
    "import os\n",
    "import os.path as path\n",
    "import pandas as pd\n",
    "import numpy as np\n",
    "import itertools\n",
    "import negspy.coordinates as nc\n",
    "\n",
    "def bed2ddb(filepath, uuid=None, **kwargs):\n",
    "    from clodius.tiles.bed2ddb import get_2d_tileset_info, get_2D_tiles\n",
    "    from clodius.tiles.utils import tiles_wrapper_2d\n",
    "\n",
    "    return Tileset(\n",
    "        uuid=uuid,\n",
    "        tileset_info=lambda: get_2d_tileset_info(filepath),\n",
    "        tiles=lambda tids: tiles_wrapper_2d(\n",
    "            tids, lambda z, x, y: get_2D_tiles(filepath, z, x, y)[(x, y)]\n",
    "        ),\n",
    "        **kwargs\n",
    "    )\n"
   ]
  },
  {
   "cell_type": "markdown",
   "metadata": {},
   "source": [
    "# Annotations"
   ]
  },
  {
   "cell_type": "code",
   "execution_count": 76,
   "metadata": {},
   "outputs": [],
   "source": [
    "annot_dir = path.join(\"..\", \"Results\", \"2019-10-24_higlass\")\n",
    "genes = beddb(path.join(annot_dir, \"Data\", \"hg38\", \"gene-annotations-hg38.beddb\"))\n",
    "chrom_sizes = chromsizes(path.join(annot_dir, \"hg38.chrom.sizes\"))\n",
    "label_font_size = 18\n",
    "chr_label_size = 30\n",
    "annots_size = 150\n",
    "\n",
    "chrom_labels = {\n",
    "    p: Track(\n",
    "        track_type=l + \"-chromosome-labels\",\n",
    "        tileset=chrom_sizes,\n",
    "        position=p,\n",
    "        height=chr_label_size,\n",
    "        width=chr_label_size,\n",
    "        options={\n",
    "            \"fontSize\": label_font_size,\n",
    "            \"showMousePosition\": True,\n",
    "        },\n",
    "    ) for p, l in zip([\"top\", \"bottom\", \"left\", \"right\"], [\"horizontal\", \"horizontal\", \"vertical\", \"vertical\"])\n",
    "}\n",
    "chrom_grid = {\n",
    "    p: Track(\n",
    "        track_type=l + \"-chromosome-grid\",\n",
    "        tileset=chrom_sizes,\n",
    "        position=p,\n",
    "        height=chr_label_size,\n",
    "        width=chr_label_size,\n",
    "        options={\n",
    "            \"fontSize\": label_font_size,\n",
    "            \"showMousePosition\": True,\n",
    "        },\n",
    "    ) for p, l in zip(\n",
    "        [\"top\", \"bottom\", \"left\", \"right\"],\n",
    "        [\"horizontal\", \"horizontal\", \"vertical\", \"vertical\"])\n",
    "}\n",
    "\n",
    "gene_annots = {\n",
    "    p: Track(\n",
    "        track_type=l + \"-gene-annotations\",\n",
    "        tileset=genes,\n",
    "        position=p,\n",
    "        height=annots_size,\n",
    "        width=annots_size,\n",
    "        options={\n",
    "            \"fontSize\": label_font_size,\n",
    "            \"showMousePosition\": True,\n",
    "        },\n",
    "    ) for p, l in zip([\"top\", \"bottom\", \"left\", \"right\"], [\"horizontal\", \"horizontal\", \"vertical\", \"vertical\"])\n",
    "}\n",
    "\n",
    "hg38 = nc.get_chrominfo(\"hg38\")"
   ]
  },
  {
   "cell_type": "markdown",
   "metadata": {},
   "source": [
    "# Load data"
   ]
  },
  {
   "cell_type": "markdown",
   "metadata": {},
   "source": [
    "## Metadata"
   ]
  },
  {
   "cell_type": "code",
   "execution_count": 61,
   "metadata": {},
   "outputs": [],
   "source": [
    "meta = pd.read_csv(\"config.tsv\", sep=\"\\t\")\n",
    "meta = meta.loc[meta.Include == \"Yes\", :]\n",
    "\n",
    "SAMPLES = {\n",
    "    \"all\": meta[\"Sample_ID\"].tolist(),\n",
    "    \"tumour\": meta.loc[(meta.Source == \"Primary\") & (meta.Type == \"Malignant\"), \"Sample_ID\"].tolist(),\n",
    "    \"benign\": meta.loc[(meta.Source == \"Primary\") & (meta.Type == \"Benign\"), \"Sample_ID\"].tolist(),\n",
    "    \"primary\": meta.loc[(meta.Source == \"Primary\"), \"Sample_ID\"].tolist(),\n",
    "    \"clines\": meta.loc[(meta.Source == \"Cell Line\"), \"Sample_ID\"].tolist(),\n",
    "}"
   ]
  },
  {
   "cell_type": "markdown",
   "metadata": {},
   "source": [
    "## Contact Matrices"
   ]
  },
  {
   "cell_type": "code",
   "execution_count": 129,
   "metadata": {},
   "outputs": [],
   "source": [
    "resolutions = [\n",
    "    1000, 2000, 3000, 4000, 5000,\n",
    "    10000, 20000, 30000, 40000, 50000,\n",
    "    100000, 200000, 300000, 400000, 500000,\n",
    "    1000000, 2000000, 3000000, 4000000, 5000000\n",
    "][::-1]\n",
    "min_resolution = 40000\n",
    "colour_range = [\n",
    "    \"rgba(65, 105, 225, 1.0)\",\n",
    "    \"rgba(255, 250, 250, 1.0)\",\n",
    "    \"rgba(255, 25, 25, 1.0)\"\n",
    "]\n",
    "\n",
    "mtx_dir = {\n",
    "    \"primary\": path.join(\"..\", \"Data\", \"Processed\", \"2019-06-18_PCa-LowC-sequencing\", \"Contacts\"),\n",
    "    \"clines\": path.join(\"..\", \"..\", \"Data\", \"External\", \"Rhie_2019\", \"Contacts\"),\n",
    "}\n",
    "mtx_files = {}\n",
    "for s in SAMPLES[\"primary\"]:\n",
    "    mtx_files[s] = path.join(mtx_dir[\"primary\"], s + \".mcool\")\n",
    "\n",
    "for s in SAMPLES[\"clines\"]:\n",
    "    mtx_files[s] = path.join(mtx_dir[\"clines\"], s + \".mcool\")\n",
    "\n",
    "mtx_tilesets = {\n",
    "    s: cooler(f)\n",
    "    for s, f in mtx_files.items()\n",
    "}\n",
    "\n",
    "contacts = {\n",
    "    s: {\n",
    "        p: Track(\n",
    "            track_type=pl + \"heatmap\",\n",
    "            datatype=\"matrix\",\n",
    "            filetype=\"cooler\",\n",
    "            tileset=mtx_tilesets[s],\n",
    "            height=height,\n",
    "            options={\n",
    "                \"maxZoom\": str(resolutions.index(min_resolution)),\n",
    "                \"colorbarPosition\": \"topRight\",\n",
    "                \"showMousePosition\": True,\n",
    "                \"name\": meta.loc[meta[\"Sample_ID\"] == s, \"Label\"].values[0],\n",
    "                \"colorRange\": colour_range,\n",
    "            }\n",
    "        )\n",
    "        for p, pl, height in zip(\n",
    "            [\"top\", \"right\", \"bottom\", \"left\", \"center\"],\n",
    "            [\"horizontal-\", \"horizontal-\", \"horizontal-\", \"horizontal-\", \"\"],\n",
    "            #[\"linear-\", \"linear-\", \"linear-\", \"linear-\", \"\"],\n",
    "            [120, 120, 120, 120, 240],\n",
    "        )\n",
    "    }\n",
    "    for s in mtx_files.keys()\n",
    "}"
   ]
  },
  {
   "cell_type": "code",
   "execution_count": 130,
   "metadata": {
    "scrolled": false
   },
   "outputs": [
    {
     "data": {
      "application/vnd.jupyter.widget-view+json": {
       "model_id": "8ed86ece220442e0981b5152fc67fe41",
       "version_major": 2,
       "version_minor": 0
      },
      "text/plain": [
       "HiGlassDisplay(viewconf={'editable': True, 'views': [{'uid': 'fWR8HyIzSWSndbfE4OFBAg', 'tracks': {'top': [{'ty…"
      ]
     },
     "metadata": {},
     "output_type": "display_data"
    }
   ],
   "source": [
    "views = [View(\n",
    "    tracks=[\n",
    "        chrom_labels[\"top\"],\n",
    "        gene_annots[\"top\"],\n",
    "    ] + [\n",
    "        contacts[s][\"top\"] for s in SAMPLES[\"primary\"]\n",
    "    ],\n",
    "    initialXDomain=[\n",
    "        nc.chr_pos_to_genome_pos(\"chr1\", 0, hg38),\n",
    "        nc.chr_pos_to_genome_pos(\"chrM\", 0, hg38)\n",
    "    ],\n",
    ")]\n",
    "\n",
    "d, s, v = higlass.display(\n",
    "    views=views,\n",
    "    zoom_syncs=[views],\n",
    "    location_syncs=[views],\n",
    ")\n",
    "d"
   ]
  },
  {
   "cell_type": "markdown",
   "metadata": {},
   "source": [
    "## TADs"
   ]
  },
  {
   "cell_type": "code",
   "execution_count": 4,
   "metadata": {},
   "outputs": [],
   "source": [
    "windows = list(range(3, 21))\n",
    "tad_track_dir = path.join(\"..\", \"Results\", \"2020-08-29_TADs-downsampled\", \"Tracks\")"
   ]
  },
  {
   "cell_type": "code",
   "execution_count": 117,
   "metadata": {},
   "outputs": [],
   "source": [
    "tad_files = {\n",
    "    \"1D\": {\n",
    "        s: {\n",
    "            w: path.join(tad_track_dir, s + \".120000000.res_40000bp.domains.window_\" + str(w) + \".beddb\")\n",
    "            for w in windows\n",
    "        }\n",
    "        for s in SAMPLES[\"all\"]\n",
    "    },\n",
    "    \"2D\": {\n",
    "        s: path.join(tad_track_dir, s + \".120000000.res_40000bp.domains.all.bed2ddb\")\n",
    "        for s in SAMPLES[\"all\"]\n",
    "    },\n",
    "}\n",
    "tad_tilesets = {\n",
    "    \"1D\": {\n",
    "        s: {\n",
    "            w: beddb(\n",
    "                tad_files[\"1D\"][s][w],\n",
    "                name=meta.loc[meta.Sample_ID == s, \"Label\"].values[0] + \"TADs (w = \" + str(w) +\")\"\n",
    "            )\n",
    "            for w in windows\n",
    "        }\n",
    "        for s in SAMPLES[\"all\"]\n",
    "    },\n",
    "    \"2D\": {\n",
    "        s: bed2ddb(tad_files[\"2D\"][s])\n",
    "        for s in SAMPLES[\"all\"]\n",
    "    }\n",
    "}\n",
    "tads = {\n",
    "    \"1D\": {\n",
    "         s: {\n",
    "             w: {\n",
    "                p: Track(\n",
    "                    track_type=\"bedlike\",\n",
    "                    datatype=\"bedlike\",\n",
    "                    filetype=\"beddb\",\n",
    "                    position=p,\n",
    "                    tileset=tad_tilesets[\"1D\"][s][w],\n",
    "                    options={\n",
    "                        \"showMousePosition\": True,\n",
    "                        \"name\": meta.loc[meta.Sample_ID == s, \"Label\"].values[0],\n",
    "                        \"labelPosition\": \"topLeft\",\n",
    "                        \"fillColor\": meta.loc[meta.Sample_ID == s, \"Sample_Colour\"].values[0],\n",
    "                        \"labelColor\": meta.loc[meta.Sample_ID == s, \"Sample_Colour\"].values[0]\n",
    "                    },\n",
    "                )\n",
    "                for p in [\"top\", \"right\", \"bottom\", \"left\"]\n",
    "            }\n",
    "            for w in windows\n",
    "        }\n",
    "        for s in SAMPLES[\"all\"]   \n",
    "    },\n",
    "    \"2D\": {\n",
    "         s: {\n",
    "            p: Track(\n",
    "                track_type=pl+\"2d-rectangle-domains\",\n",
    "                datatype=\"2d-rectangle-domains\",\n",
    "                filetype=\"bed2ddb\",\n",
    "                position=p,\n",
    "                tileset=tad_tilesets[\"2D\"][s],\n",
    "                height=50,\n",
    "                width=50,\n",
    "                options={\n",
    "                    \"showMousePosition\": True,\n",
    "                    \"name\": meta.loc[meta.Sample_ID == s, \"Label\"].values[0],\n",
    "                    \"labelPosition\": \"topLeft\",\n",
    "                    \"labelColor\": meta.loc[meta.Sample_ID == s, \"Sample_Colour\"].values[0],\n",
    "                    \"rectangleDomainFillColor\": meta.loc[meta.Sample_ID == s, \"Sample_Colour\"].values[0],\n",
    "                    \"rectangleDomainStrokeColor\": meta.loc[meta.Sample_ID == s, \"Sample_Colour\"].values[0],\n",
    "                    \"rectangleDomainOpacity\": 0.01,\n",
    "                },\n",
    "            )\n",
    "            for p, pl in zip(\n",
    "                [\"top\", \"right\", \"bottom\", \"left\", \"center\"],\n",
    "                # later versions of HiGlass switch \"horizontal\"/\"vertical\" to \"linear\"\n",
    "                [\"horizontal-\", \"vertical-\", \"horizontal-\", \"vertical-\", \"\"],\n",
    "            )\n",
    "        }\n",
    "        for s in SAMPLES[\"all\"]   \n",
    "    },\n",
    "}\n",
    "\n",
    "# a test track to show that 2D tracks are being displayed\n",
    "#ts = bed2ddb(path.join(tad_track_dir, \"tmp.bedpedb\"))\n",
    "#(d,s,v) = higlass.display([\n",
    "#    View([\n",
    "#        Track('top-axis'),\n",
    "#        Track('2d-rectangle-domains', position='center', tileset=ts, height=400),\n",
    "#    ], initialXDomain=[0, 20e6])\n",
    "#])\n",
    "#d"
   ]
  },
  {
   "cell_type": "code",
   "execution_count": 118,
   "metadata": {},
   "outputs": [
    {
     "data": {
      "application/vnd.jupyter.widget-view+json": {
       "model_id": "6e157ea72e1646cb8dc7bc5940bc92e7",
       "version_major": 2,
       "version_minor": 0
      },
      "text/plain": [
       "HiGlassDisplay(viewconf={'editable': True, 'views': [{'uid': 'KBuIqw_0RmChiXkyYgzGww', 'tracks': {'top': [{'ty…"
      ]
     },
     "metadata": {},
     "output_type": "display_data"
    }
   ],
   "source": [
    "views = [View(\n",
    "    tracks=[\n",
    "        chrom_labels[\"top\"],\n",
    "        gene_annots[\"top\"],\n",
    "    ] + [\n",
    "        tads[\"2D\"][s][\"top\"] for s in SAMPLES[\"primary\"]\n",
    "    ],\n",
    "    initialXDomain=[\n",
    "        nc.chr_pos_to_genome_pos(\"chr1\", 0, hg38),\n",
    "        nc.chr_pos_to_genome_pos(\"chrM\", 0, hg38)\n",
    "    ],\n",
    ")]\n",
    "\n",
    "d, s, v = higlass.display(\n",
    "    views=views,\n",
    "    zoom_syncs=[views],\n",
    "    location_syncs=[views],\n",
    ")\n",
    "d"
   ]
  },
  {
   "cell_type": "markdown",
   "metadata": {},
   "source": [
    "## Compartments"
   ]
  },
  {
   "cell_type": "code",
   "execution_count": 62,
   "metadata": {},
   "outputs": [],
   "source": [
    "cmpt_files = {\n",
    "    s: path.join(\"..\", \"Results\", \"2021-03-03_compartments\", \"Compartments\", s + \".compartments.cis.bw\")\n",
    "    for s in SAMPLES[\"all\"]\n",
    "}\n",
    "cmpt_tilesets = {s: bigwig(f) for s, f in cmpt_files.items()}\n",
    "compartments = {\n",
    "    s: {\n",
    "        p: Track(\n",
    "            track_type=t + \"-line\",\n",
    "            filetype=\"vector\",\n",
    "            position=p,\n",
    "            tileset=ts,\n",
    "            height=100,\n",
    "            options={\n",
    "                \"showMousePosition\": True,\n",
    "                \"name\": meta.loc[meta[\"Sample_ID\"] == s, \"Label\"].values[0] + \" Compartment\",\n",
    "                \"lineStrokeColor\": meta.loc[meta[\"Sample_ID\"] == s, \"Sample_Colour\"].values[0],\n",
    "                \"valueScaleMin\": -2,\n",
    "                \"valueScaleMax\": 2,\n",
    "                \"zeroLineVisible\": True,\n",
    "                \"zeroLineColor\": \"#000000\",\n",
    "            },\n",
    "        ) for p, t in zip(\n",
    "            [\"top\", \"bottom\", \"left\", \"right\"],\n",
    "            [\"horizontal\", \"horizontal\", \"vertical\", \"vertical\"]\n",
    "        )\n",
    "    } for s, ts in cmpt_tilesets.items()\n",
    "}"
   ]
  },
  {
   "cell_type": "code",
   "execution_count": 66,
   "metadata": {
    "scrolled": false
   },
   "outputs": [
    {
     "data": {
      "application/vnd.jupyter.widget-view+json": {
       "model_id": "5ea765d07a2c4576afababe1e0b6d189",
       "version_major": 2,
       "version_minor": 0
      },
      "text/plain": [
       "HiGlassDisplay(viewconf={'editable': True, 'views': [{'uid': 'ALQZ_u8YQmKjZSbsxbFceQ', 'tracks': {'top': [{'ty…"
      ]
     },
     "metadata": {},
     "output_type": "display_data"
    }
   ],
   "source": [
    "views = [View(\n",
    "    tracks=[\n",
    "        chrom_labels[\"top\"],\n",
    "        gene_annots[\"top\"],\n",
    "    ] + [\n",
    "        compartments[s][\"top\"] for s in SAMPLES[\"primary\"]\n",
    "    ],\n",
    "    initialXDomain=[\n",
    "        nc.chr_pos_to_genome_pos(\"chr1\", 0, hg38),\n",
    "        nc.chr_pos_to_genome_pos(\"chrM\", 0, hg38)\n",
    "    ],\n",
    ")]\n",
    "\n",
    "d, s, v = higlass.display(\n",
    "    views=views,\n",
    "    zoom_syncs=[views],\n",
    "    location_syncs=[views],\n",
    "    value_scale_syncs=[\n",
    "        [(views[0], compartments[s][\"top\"]) for s in SAMPLES[\"primary\"]],\n",
    "    ],\n",
    ")\n",
    "d"
   ]
  },
  {
   "cell_type": "markdown",
   "metadata": {},
   "source": [
    "### Structural variants"
   ]
  },
  {
   "cell_type": "code",
   "execution_count": 82,
   "metadata": {},
   "outputs": [],
   "source": [
    "sv_dir = path.join(\"..\", \"Results\", \"2020-02-19_chromoplexy\")\n",
    "sv_track_dir = path.join(sv_dir, \"Tracks\")\n",
    "breaks = pd.read_csv(\n",
    "    path.join(sv_dir, \"Graphs\", \"sv-breakpoints.paired.tsv\"),\n",
    "    sep=\"\\t\",\n",
    "    header=0,\n",
    "    index_col=False,\n",
    ")\n",
    "\n",
    "sv_files = {\n",
    "    \"1D\": {\n",
    "        s: path.join(sv_track_dir, s + \".breaks.beddb\")\n",
    "        for s in SAMPLES[\"tumour\"]\n",
    "    },\n",
    "    \"2D\": {\n",
    "        s: path.join(sv_track_dir, s + \".breaks.bed2ddb\")\n",
    "        for s in SAMPLES[\"tumour\"]\n",
    "    }\n",
    "}\n",
    "sv_tilesets = {\n",
    "    \"1D\": {\n",
    "        s: beddb(\n",
    "            v,\n",
    "            name=meta.loc[meta[\"Sample_ID\"] == s, \"Label\"].values[0] + \" Breaks\"\n",
    "        )\n",
    "        for s, v in sv_files[\"1D\"].items()\n",
    "    },\n",
    "    \"2D\": {\n",
    "        s: bed2ddb(\n",
    "            v,\n",
    "            name=meta.loc[meta[\"Sample_ID\"] == s, \"Label\"].values[0] + \" Breaks\"\n",
    "        )\n",
    "        for s, v in sv_files[\"2D\"].items()\n",
    "    }\n",
    "}\n",
    "svs = {\n",
    "    \"1D\": {\n",
    "        s: {\n",
    "            p: Track(\n",
    "                track_type=t + \"bedlike\",\n",
    "                datatype=\"bedlike\",\n",
    "                filetype=\"beddb\",\n",
    "                position=p,\n",
    "                tileset=sv_tilesets[\"1D\"][s],\n",
    "                options={\n",
    "                    \"showMousePosition\": True,\n",
    "                    \"name\": meta.loc[meta[\"Sample_ID\"] == s, \"Label\"].values[0],\n",
    "                    \"labelPosition\": \"topLeft\",\n",
    "                    \"labelColor\": meta.loc[meta.Sample_ID == s, \"Sample_Colour\"].values[0],\n",
    "                    \"fillColor\": meta.loc[meta.Sample_ID == s, \"Sample_Colour\"].values[0],\n",
    "                },\n",
    "            ) for p, t in zip(\n",
    "                [\"top\", \"bottom\", \"left\", \"right\"],\n",
    "                [\"\", \"\", \"vertical-\", \"vertical-\"])\n",
    "        }\n",
    "        for s in SAMPLES[\"tumour\"]\n",
    "    },\n",
    "    \"2D\": {\n",
    "        s: {\n",
    "            p: Track(\n",
    "                track_type=pl+\"2d-rectangle-domains\",\n",
    "                datatype=\"2d-rectangle-domains\",\n",
    "                filetype=\"bed2ddb\",\n",
    "                position=p,\n",
    "                tileset=sv_tilesets[\"2D\"][s],\n",
    "                height=50,\n",
    "                width=50,\n",
    "                options={\n",
    "                    \"showMousePosition\": True,\n",
    "                    \"name\": meta.loc[meta.Sample_ID == s, \"Label\"].values[0],\n",
    "                    \"labelPosition\": \"topLeft\",\n",
    "                    \"labelColor\": meta.loc[meta.Sample_ID == s, \"Sample_Colour\"].values[0],\n",
    "                    \"rectangleDomainFillColor\": meta.loc[meta.Sample_ID == s, \"Sample_Colour\"].values[0],\n",
    "                },\n",
    "            )\n",
    "            for p, pl in zip(\n",
    "                [\"top\", \"right\", \"bottom\", \"left\", \"center\"],\n",
    "                # later versions of HiGlass switch \"horizontal\"/\"vertical\" to \"linear\"\n",
    "                [\"horizontal-\", \"vertical-\", \"horizontal-\", \"vertical-\", \"\"],\n",
    "            )\n",
    "        }\n",
    "        for s in SAMPLES[\"tumour\"]\n",
    "    }\n",
    "}"
   ]
  },
  {
   "cell_type": "code",
   "execution_count": 68,
   "metadata": {},
   "outputs": [
    {
     "data": {
      "application/vnd.jupyter.widget-view+json": {
       "model_id": "f4739a019b03449eb2af2591f39fa50e",
       "version_major": 2,
       "version_minor": 0
      },
      "text/plain": [
       "HiGlassDisplay(viewconf={'editable': True, 'views': [{'uid': 'cICuDo-ZQ3msI4yQ55-JpQ', 'tracks': {'top': [{'ty…"
      ]
     },
     "metadata": {},
     "output_type": "display_data"
    }
   ],
   "source": [
    "views = [View(\n",
    "    tracks=[\n",
    "        chrom_labels[\"top\"],\n",
    "        gene_annots[\"top\"],\n",
    "    ] + [\n",
    "        svs[\"1D\"][s][\"top\"] for s in SAMPLES[\"tumour\"]\n",
    "    ],\n",
    "    initialXDomain=[\n",
    "        nc.chr_pos_to_genome_pos(\"chr1\", 0, hg38),\n",
    "        nc.chr_pos_to_genome_pos(\"chrM\", 0, hg38)\n",
    "    ],\n",
    ")]\n",
    "\n",
    "d, s, v = higlass.display(\n",
    "    views=views,\n",
    "    server_port=8193,\n",
    "    zoom_syncs=[views],\n",
    "    location_syncs=[views],\n",
    ")\n",
    "d"
   ]
  },
  {
   "cell_type": "markdown",
   "metadata": {},
   "source": [
    "### Copy Number"
   ]
  },
  {
   "cell_type": "code",
   "execution_count": 74,
   "metadata": {},
   "outputs": [],
   "source": [
    "cnv_track_dir = path.join(\"..\", \"Data\", \"Processed\", \"2019-06-18_PCa-LowC-sequencing\", \"Tracks\")\n",
    "cnv_files = {\n",
    "    s: path.join(cnv_track_dir, s + \".cnv.bw\")\n",
    "    for s in SAMPLES[\"all\"]\n",
    "}\n",
    "cnv_tilesets = {\n",
    "    s: bigwig(f)\n",
    "    for s, f in cnv_files.items()\n",
    "}\n",
    "cnvs = {\n",
    "    s: {\n",
    "        p: Track(\n",
    "            track_type=t + \"-line\",\n",
    "            datatype=\"vector\",\n",
    "            filetype=\"vector\",\n",
    "            position=p,\n",
    "            tileset=ts,\n",
    "            height=100,\n",
    "            options={\n",
    "                \"showMousePosition\": True,\n",
    "                \"name\": meta.loc[meta[\"Sample_ID\"] == s, \"Label\"].values[0] + \" log2CopyRatio\",\n",
    "                \"lineStrokeColor\": meta.loc[meta[\"Sample_ID\"] == s, \"Sample_Colour\"].values[0],\n",
    "                \"valueScaleMin\": -2,\n",
    "                \"valueScaleMax\": 2,\n",
    "            },\n",
    "        ) for p, t in zip([\"top\", \"bottom\", \"left\", \"right\"], [\"horizontal\", \"horizontal\", \"vertical\", \"vertical\"])\n",
    "    } for s, ts in cnv_tilesets.items()\n",
    "}"
   ]
  },
  {
   "cell_type": "code",
   "execution_count": 81,
   "metadata": {
    "scrolled": false
   },
   "outputs": [
    {
     "data": {
      "application/vnd.jupyter.widget-view+json": {
       "model_id": "7b1cc213570247c2aa624458d47f796b",
       "version_major": 2,
       "version_minor": 0
      },
      "text/plain": [
       "HiGlassDisplay(viewconf={'editable': True, 'views': [{'uid': 'CuH2dZ63Qx2awBosfmpDsA', 'tracks': {'top': [{'ty…"
      ]
     },
     "metadata": {},
     "output_type": "display_data"
    }
   ],
   "source": [
    "views = [View(\n",
    "    tracks=[\n",
    "        chrom_labels[\"top\"],\n",
    "        chrom_grid[\"top\"],\n",
    "        gene_annots[\"top\"],\n",
    "    ] + [\n",
    "        cnvs[s][\"top\"] for s in SAMPLES[\"primary\"]\n",
    "    ],\n",
    "    initialXDomain=[\n",
    "        nc.chr_pos_to_genome_pos(\"chr1\", 0, hg38),\n",
    "        nc.chr_pos_to_genome_pos(\"chrM\", 0, hg38)\n",
    "    ],\n",
    ")]\n",
    "\n",
    "d, s, v = higlass.display(\n",
    "    views=views,\n",
    "    server_port=8193,\n",
    "    zoom_syncs=[views],\n",
    "    location_syncs=[views],\n",
    "    value_scale_syncs=[\n",
    "        [(views[0], cnvs[s][\"top\"]) for s in SAMPLES[\"primary\"]],\n",
    "    ],\n",
    ")\n",
    "d"
   ]
  },
  {
   "cell_type": "code",
   "execution_count": null,
   "metadata": {},
   "outputs": [],
   "source": []
  }
 ],
 "metadata": {
  "kernelspec": {
   "display_name": "Python 3",
   "language": "python",
   "name": "python3"
  },
  "language_info": {
   "codemirror_mode": {
    "name": "ipython",
    "version": 3
   },
   "file_extension": ".py",
   "mimetype": "text/x-python",
   "name": "python",
   "nbconvert_exporter": "python",
   "pygments_lexer": "ipython3",
   "version": "3.6.10"
  }
 },
 "nbformat": 4,
 "nbformat_minor": 2
}
